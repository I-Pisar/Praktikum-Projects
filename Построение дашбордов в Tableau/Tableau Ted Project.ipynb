{
 "cells": [
  {
   "cell_type": "markdown",
   "id": "2f67ecb0",
   "metadata": {},
   "source": [
    "# Проект: Построение дашбордов в Tableau"
   ]
  },
  {
   "cell_type": "markdown",
   "id": "a8149161",
   "metadata": {},
   "source": [
    "В данном проекте я изучу историю TED-конференций с помощью Tableau. В ходе работы я буду строить визуализации, находить особенности в распределении данных по категориям и подкреплять их выводами на основе полученных данных.\n",
    "\n",
    "Ниже прикрепляю ссылку на мое исследование-презентацию.\n"
   ]
  },
  {
   "cell_type": "markdown",
   "id": "0f5f4e5e",
   "metadata": {},
   "source": [
    "https://public.tableau.com/app/profile/ignat.pisar/viz/TEDTableauYand_Project/sheet1?publish=yes"
   ]
  }
 ],
 "metadata": {
  "kernelspec": {
   "display_name": "Python 3 (ipykernel)",
   "language": "python",
   "name": "python3"
  },
  "language_info": {
   "codemirror_mode": {
    "name": "ipython",
    "version": 3
   },
   "file_extension": ".py",
   "mimetype": "text/x-python",
   "name": "python",
   "nbconvert_exporter": "python",
   "pygments_lexer": "ipython3",
   "version": "3.9.20"
  },
  "toc": {
   "base_numbering": 1,
   "nav_menu": {},
   "number_sections": true,
   "sideBar": true,
   "skip_h1_title": true,
   "title_cell": "Table of Contents",
   "title_sidebar": "Contents",
   "toc_cell": false,
   "toc_position": {},
   "toc_section_display": true,
   "toc_window_display": false
  }
 },
 "nbformat": 4,
 "nbformat_minor": 5
}
