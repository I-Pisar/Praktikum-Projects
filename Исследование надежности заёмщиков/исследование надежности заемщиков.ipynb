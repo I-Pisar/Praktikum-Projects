{
 "cells": [
  {
   "cell_type": "markdown",
   "id": "1b552448",
   "metadata": {
    "toc": true
   },
   "source": [
    "<h1>Содержание<span class=\"tocSkip\"></span></h1>\n",
    "<div class=\"toc\"><ul class=\"toc-item\"><li><span><a href=\"#Откройте-таблицу-и-изучите-общую-информацию-о-данных\" data-toc-modified-id=\"Откройте-таблицу-и-изучите-общую-информацию-о-данных-1\"><span class=\"toc-item-num\">1&nbsp;&nbsp;</span>Откройте таблицу и изучите общую информацию о данных</a></span></li><li><span><a href=\"#Предобработка-данных\" data-toc-modified-id=\"Предобработка-данных-2\"><span class=\"toc-item-num\">2&nbsp;&nbsp;</span>Предобработка данных</a></span><ul class=\"toc-item\"><li><span><a href=\"#Удаление-пропусков\" data-toc-modified-id=\"Удаление-пропусков-2.1\"><span class=\"toc-item-num\">2.1&nbsp;&nbsp;</span>Удаление пропусков</a></span></li><li><span><a href=\"#Обработка-аномальных-значений\" data-toc-modified-id=\"Обработка-аномальных-значений-2.2\"><span class=\"toc-item-num\">2.2&nbsp;&nbsp;</span>Обработка аномальных значений</a></span></li><li><span><a href=\"#Удаление-пропусков-(продолжение)\" data-toc-modified-id=\"Удаление-пропусков-(продолжение)-2.3\"><span class=\"toc-item-num\">2.3&nbsp;&nbsp;</span>Удаление пропусков (продолжение)</a></span></li><li><span><a href=\"#Изменение-типов-данных\" data-toc-modified-id=\"Изменение-типов-данных-2.4\"><span class=\"toc-item-num\">2.4&nbsp;&nbsp;</span>Изменение типов данных</a></span></li><li><span><a href=\"#Обработка-дубликатов\" data-toc-modified-id=\"Обработка-дубликатов-2.5\"><span class=\"toc-item-num\">2.5&nbsp;&nbsp;</span>Обработка дубликатов</a></span></li><li><span><a href=\"#Категоризация-данных\" data-toc-modified-id=\"Категоризация-данных-2.6\"><span class=\"toc-item-num\">2.6&nbsp;&nbsp;</span>Категоризация данных</a></span></li><li><span><a href=\"#Шаг-3.-Исследуйте-данные-и-ответьте-на-вопросы\" data-toc-modified-id=\"Шаг-3.-Исследуйте-данные-и-ответьте-на-вопросы-2.7\"><span class=\"toc-item-num\">2.7&nbsp;&nbsp;</span>Шаг 3. Исследуйте данные и ответьте на вопросы</a></span><ul class=\"toc-item\"><li><span><a href=\"#3.1-Есть-ли-зависимость-между-количеством-детей-и-возвратом-кредита-в-срок?\" data-toc-modified-id=\"3.1-Есть-ли-зависимость-между-количеством-детей-и-возвратом-кредита-в-срок?-2.7.1\"><span class=\"toc-item-num\">2.7.1&nbsp;&nbsp;</span>3.1 Есть ли зависимость между количеством детей и возвратом кредита в срок?</a></span></li><li><span><a href=\"#3.2-Есть-ли-зависимость-между-семейным-положением-и-возвратом-кредита-в-срок?\" data-toc-modified-id=\"3.2-Есть-ли-зависимость-между-семейным-положением-и-возвратом-кредита-в-срок?-2.7.2\"><span class=\"toc-item-num\">2.7.2&nbsp;&nbsp;</span>3.2 Есть ли зависимость между семейным положением и возвратом кредита в срок?</a></span></li><li><span><a href=\"#3.3-Есть-ли-зависимость-между-уровнем-дохода-и-возвратом-кредита-в-срок?\" data-toc-modified-id=\"3.3-Есть-ли-зависимость-между-уровнем-дохода-и-возвратом-кредита-в-срок?-2.7.3\"><span class=\"toc-item-num\">2.7.3&nbsp;&nbsp;</span>3.3 Есть ли зависимость между уровнем дохода и возвратом кредита в срок?</a></span></li><li><span><a href=\"#3.4-Как-разные-цели-кредита-влияют-на-его-возврат-в-срок?\" data-toc-modified-id=\"3.4-Как-разные-цели-кредита-влияют-на-его-возврат-в-срок?-2.7.4\"><span class=\"toc-item-num\">2.7.4&nbsp;&nbsp;</span>3.4 Как разные цели кредита влияют на его возврат в срок?</a></span></li><li><span><a href=\"#3.5-Приведите-возможные-причины-появления-пропусков-в-исходных-данных.\" data-toc-modified-id=\"3.5-Приведите-возможные-причины-появления-пропусков-в-исходных-данных.-2.7.5\"><span class=\"toc-item-num\">2.7.5&nbsp;&nbsp;</span>3.5 Приведите возможные причины появления пропусков в исходных данных.</a></span></li><li><span><a href=\"#3.6-Объясните,-почему-заполнить-пропуски-медианным-значением-—-лучшее-решение-для-количественных-переменных.\" data-toc-modified-id=\"3.6-Объясните,-почему-заполнить-пропуски-медианным-значением-—-лучшее-решение-для-количественных-переменных.-2.7.6\"><span class=\"toc-item-num\">2.7.6&nbsp;&nbsp;</span>3.6 Объясните, почему заполнить пропуски медианным значением — лучшее решение для количественных переменных.</a></span></li></ul></li><li><span><a href=\"#Шаг-4:-общий-вывод.\" data-toc-modified-id=\"Шаг-4:-общий-вывод.-2.8\"><span class=\"toc-item-num\">2.8&nbsp;&nbsp;</span>Шаг 4: общий вывод.</a></span><ul class=\"toc-item\"><li><ul class=\"toc-item\"><li><span><a href=\"#🏁-Общий-комментарий-ревьюера:\" data-toc-modified-id=\"🏁-Общий-комментарий-ревьюера:-2.8.0.1\"><span class=\"toc-item-num\">2.8.0.1&nbsp;&nbsp;</span><b>🏁 Общий комментарий ревьюера:</b></a></span></li><li><span><a href=\"#🏁-Общий-комментарий-ревьюера-V2\" data-toc-modified-id=\"🏁-Общий-комментарий-ревьюера-V2-2.8.0.2\"><span class=\"toc-item-num\">2.8.0.2&nbsp;&nbsp;</span><b>🏁 Общий комментарий ревьюера V2</b></a></span></li></ul></li></ul></li></ul></li></ul></div>"
   ]
  },
  {
   "cell_type": "markdown",
   "id": "386f2ae7",
   "metadata": {
    "deletable": false,
    "editable": false,
    "id": "386f2ae7"
   },
   "source": [
    "# Исследование надежности заемщиков\n"
   ]
  },
  {
   "cell_type": "markdown",
   "id": "ccbb0bd0",
   "metadata": {},
   "source": [
    "**Заказчик** — кредитный отдел банка. Нужно разобраться, влияет ли семейное положение и количество детей клиента на факт погашения кредита в срок. Входные данные от банка — **статистика о платёжеспособности клиентов.**\n",
    "<br><br> \n",
    "В исследовании мне предстоит изучить данные, проверить их целостность и обработать пропущенные значения и дубликаты, если таковые имеются. Также нужно будет оценить репрезентативность данных и сгруппировать данные по категориям для выявления зависимостей и оценки платежеспособности клиентов по разным факторам.\n",
    "<br><br>\n",
    "Результаты исследования будут учтены при построении модели **кредитного скоринга** — специальной системы, которая оценивает способность потенциального заёмщика вернуть кредит банку.\n",
    "<br><br>\n"
   ]
  },
  {
   "cell_type": "markdown",
   "id": "ffe86f65",
   "metadata": {
    "deletable": false,
    "editable": false,
    "id": "ffe86f65"
   },
   "source": [
    "Во второй части проекта вы выполните шаги 3 и 4. Их вручную проверит ревьюер.\n",
    "Чтобы вам не пришлось писать код заново для шагов 1 и 2, мы добавили авторские решения в ячейки с кодом. \n",
    "\n"
   ]
  },
  {
   "cell_type": "markdown",
   "id": "26613308",
   "metadata": {
    "deletable": false,
    "editable": false,
    "id": "26613308"
   },
   "source": [
    "## Откройте таблицу и изучите общую информацию о данных"
   ]
  },
  {
   "cell_type": "markdown",
   "id": "3c9f838e",
   "metadata": {
    "deletable": false,
    "editable": false,
    "id": "3c9f838e"
   },
   "source": [
    "**Задание 1. Импортируйте библиотеку pandas. Считайте данные из csv-файла в датафрейм и сохраните в переменную `data`. Путь к файлу:**\n",
    "\n",
    "`/datasets/data.csv`"
   ]
  },
  {
   "cell_type": "code",
   "execution_count": 1,
   "id": "77a68a90",
   "metadata": {
    "deletable": false,
    "id": "77a68a90"
   },
   "outputs": [],
   "source": [
    "import pandas as pd\n",
    "\n",
    "try:\n",
    "    data = pd.read_csv('/datasets/data.csv')\n",
    "except:\n",
    "    data = pd.read_csv('https://code.s3.yandex.net/datasets/data.csv')"
   ]
  },
  {
   "cell_type": "markdown",
   "id": "45365635",
   "metadata": {
    "deletable": false,
    "editable": false,
    "id": "45365635"
   },
   "source": [
    "**Задание 2. Выведите первые 20 строчек датафрейма `data` на экран.**"
   ]
  },
  {
   "cell_type": "code",
   "execution_count": 2,
   "id": "b0451a9a",
   "metadata": {
    "deletable": false,
    "id": "b0451a9a",
    "outputId": "1a8f3ef2-d323-4ec2-ddf7-89670b5944c4"
   },
   "outputs": [
    {
     "data": {
      "text/html": [
       "<div>\n",
       "<style scoped>\n",
       "    .dataframe tbody tr th:only-of-type {\n",
       "        vertical-align: middle;\n",
       "    }\n",
       "\n",
       "    .dataframe tbody tr th {\n",
       "        vertical-align: top;\n",
       "    }\n",
       "\n",
       "    .dataframe thead th {\n",
       "        text-align: right;\n",
       "    }\n",
       "</style>\n",
       "<table border=\"1\" class=\"dataframe\">\n",
       "  <thead>\n",
       "    <tr style=\"text-align: right;\">\n",
       "      <th></th>\n",
       "      <th>children</th>\n",
       "      <th>days_employed</th>\n",
       "      <th>dob_years</th>\n",
       "      <th>education</th>\n",
       "      <th>education_id</th>\n",
       "      <th>family_status</th>\n",
       "      <th>family_status_id</th>\n",
       "      <th>gender</th>\n",
       "      <th>income_type</th>\n",
       "      <th>debt</th>\n",
       "      <th>total_income</th>\n",
       "      <th>purpose</th>\n",
       "    </tr>\n",
       "  </thead>\n",
       "  <tbody>\n",
       "    <tr>\n",
       "      <th>0</th>\n",
       "      <td>1</td>\n",
       "      <td>-8437.673028</td>\n",
       "      <td>42</td>\n",
       "      <td>высшее</td>\n",
       "      <td>0</td>\n",
       "      <td>женат / замужем</td>\n",
       "      <td>0</td>\n",
       "      <td>F</td>\n",
       "      <td>сотрудник</td>\n",
       "      <td>0</td>\n",
       "      <td>253875.639453</td>\n",
       "      <td>покупка жилья</td>\n",
       "    </tr>\n",
       "    <tr>\n",
       "      <th>1</th>\n",
       "      <td>1</td>\n",
       "      <td>-4024.803754</td>\n",
       "      <td>36</td>\n",
       "      <td>среднее</td>\n",
       "      <td>1</td>\n",
       "      <td>женат / замужем</td>\n",
       "      <td>0</td>\n",
       "      <td>F</td>\n",
       "      <td>сотрудник</td>\n",
       "      <td>0</td>\n",
       "      <td>112080.014102</td>\n",
       "      <td>приобретение автомобиля</td>\n",
       "    </tr>\n",
       "    <tr>\n",
       "      <th>2</th>\n",
       "      <td>0</td>\n",
       "      <td>-5623.422610</td>\n",
       "      <td>33</td>\n",
       "      <td>Среднее</td>\n",
       "      <td>1</td>\n",
       "      <td>женат / замужем</td>\n",
       "      <td>0</td>\n",
       "      <td>M</td>\n",
       "      <td>сотрудник</td>\n",
       "      <td>0</td>\n",
       "      <td>145885.952297</td>\n",
       "      <td>покупка жилья</td>\n",
       "    </tr>\n",
       "    <tr>\n",
       "      <th>3</th>\n",
       "      <td>3</td>\n",
       "      <td>-4124.747207</td>\n",
       "      <td>32</td>\n",
       "      <td>среднее</td>\n",
       "      <td>1</td>\n",
       "      <td>женат / замужем</td>\n",
       "      <td>0</td>\n",
       "      <td>M</td>\n",
       "      <td>сотрудник</td>\n",
       "      <td>0</td>\n",
       "      <td>267628.550329</td>\n",
       "      <td>дополнительное образование</td>\n",
       "    </tr>\n",
       "    <tr>\n",
       "      <th>4</th>\n",
       "      <td>0</td>\n",
       "      <td>340266.072047</td>\n",
       "      <td>53</td>\n",
       "      <td>среднее</td>\n",
       "      <td>1</td>\n",
       "      <td>гражданский брак</td>\n",
       "      <td>1</td>\n",
       "      <td>F</td>\n",
       "      <td>пенсионер</td>\n",
       "      <td>0</td>\n",
       "      <td>158616.077870</td>\n",
       "      <td>сыграть свадьбу</td>\n",
       "    </tr>\n",
       "    <tr>\n",
       "      <th>5</th>\n",
       "      <td>0</td>\n",
       "      <td>-926.185831</td>\n",
       "      <td>27</td>\n",
       "      <td>высшее</td>\n",
       "      <td>0</td>\n",
       "      <td>гражданский брак</td>\n",
       "      <td>1</td>\n",
       "      <td>M</td>\n",
       "      <td>компаньон</td>\n",
       "      <td>0</td>\n",
       "      <td>255763.565419</td>\n",
       "      <td>покупка жилья</td>\n",
       "    </tr>\n",
       "    <tr>\n",
       "      <th>6</th>\n",
       "      <td>0</td>\n",
       "      <td>-2879.202052</td>\n",
       "      <td>43</td>\n",
       "      <td>высшее</td>\n",
       "      <td>0</td>\n",
       "      <td>женат / замужем</td>\n",
       "      <td>0</td>\n",
       "      <td>F</td>\n",
       "      <td>компаньон</td>\n",
       "      <td>0</td>\n",
       "      <td>240525.971920</td>\n",
       "      <td>операции с жильем</td>\n",
       "    </tr>\n",
       "    <tr>\n",
       "      <th>7</th>\n",
       "      <td>0</td>\n",
       "      <td>-152.779569</td>\n",
       "      <td>50</td>\n",
       "      <td>СРЕДНЕЕ</td>\n",
       "      <td>1</td>\n",
       "      <td>женат / замужем</td>\n",
       "      <td>0</td>\n",
       "      <td>M</td>\n",
       "      <td>сотрудник</td>\n",
       "      <td>0</td>\n",
       "      <td>135823.934197</td>\n",
       "      <td>образование</td>\n",
       "    </tr>\n",
       "    <tr>\n",
       "      <th>8</th>\n",
       "      <td>2</td>\n",
       "      <td>-6929.865299</td>\n",
       "      <td>35</td>\n",
       "      <td>ВЫСШЕЕ</td>\n",
       "      <td>0</td>\n",
       "      <td>гражданский брак</td>\n",
       "      <td>1</td>\n",
       "      <td>F</td>\n",
       "      <td>сотрудник</td>\n",
       "      <td>0</td>\n",
       "      <td>95856.832424</td>\n",
       "      <td>на проведение свадьбы</td>\n",
       "    </tr>\n",
       "    <tr>\n",
       "      <th>9</th>\n",
       "      <td>0</td>\n",
       "      <td>-2188.756445</td>\n",
       "      <td>41</td>\n",
       "      <td>среднее</td>\n",
       "      <td>1</td>\n",
       "      <td>женат / замужем</td>\n",
       "      <td>0</td>\n",
       "      <td>M</td>\n",
       "      <td>сотрудник</td>\n",
       "      <td>0</td>\n",
       "      <td>144425.938277</td>\n",
       "      <td>покупка жилья для семьи</td>\n",
       "    </tr>\n",
       "    <tr>\n",
       "      <th>10</th>\n",
       "      <td>2</td>\n",
       "      <td>-4171.483647</td>\n",
       "      <td>36</td>\n",
       "      <td>высшее</td>\n",
       "      <td>0</td>\n",
       "      <td>женат / замужем</td>\n",
       "      <td>0</td>\n",
       "      <td>M</td>\n",
       "      <td>компаньон</td>\n",
       "      <td>0</td>\n",
       "      <td>113943.491460</td>\n",
       "      <td>покупка недвижимости</td>\n",
       "    </tr>\n",
       "    <tr>\n",
       "      <th>11</th>\n",
       "      <td>0</td>\n",
       "      <td>-792.701887</td>\n",
       "      <td>40</td>\n",
       "      <td>среднее</td>\n",
       "      <td>1</td>\n",
       "      <td>женат / замужем</td>\n",
       "      <td>0</td>\n",
       "      <td>F</td>\n",
       "      <td>сотрудник</td>\n",
       "      <td>0</td>\n",
       "      <td>77069.234271</td>\n",
       "      <td>покупка коммерческой недвижимости</td>\n",
       "    </tr>\n",
       "    <tr>\n",
       "      <th>12</th>\n",
       "      <td>0</td>\n",
       "      <td>NaN</td>\n",
       "      <td>65</td>\n",
       "      <td>среднее</td>\n",
       "      <td>1</td>\n",
       "      <td>гражданский брак</td>\n",
       "      <td>1</td>\n",
       "      <td>M</td>\n",
       "      <td>пенсионер</td>\n",
       "      <td>0</td>\n",
       "      <td>NaN</td>\n",
       "      <td>сыграть свадьбу</td>\n",
       "    </tr>\n",
       "    <tr>\n",
       "      <th>13</th>\n",
       "      <td>0</td>\n",
       "      <td>-1846.641941</td>\n",
       "      <td>54</td>\n",
       "      <td>неоконченное высшее</td>\n",
       "      <td>2</td>\n",
       "      <td>женат / замужем</td>\n",
       "      <td>0</td>\n",
       "      <td>F</td>\n",
       "      <td>сотрудник</td>\n",
       "      <td>0</td>\n",
       "      <td>130458.228857</td>\n",
       "      <td>приобретение автомобиля</td>\n",
       "    </tr>\n",
       "    <tr>\n",
       "      <th>14</th>\n",
       "      <td>0</td>\n",
       "      <td>-1844.956182</td>\n",
       "      <td>56</td>\n",
       "      <td>высшее</td>\n",
       "      <td>0</td>\n",
       "      <td>гражданский брак</td>\n",
       "      <td>1</td>\n",
       "      <td>F</td>\n",
       "      <td>компаньон</td>\n",
       "      <td>1</td>\n",
       "      <td>165127.911772</td>\n",
       "      <td>покупка жилой недвижимости</td>\n",
       "    </tr>\n",
       "    <tr>\n",
       "      <th>15</th>\n",
       "      <td>1</td>\n",
       "      <td>-972.364419</td>\n",
       "      <td>26</td>\n",
       "      <td>среднее</td>\n",
       "      <td>1</td>\n",
       "      <td>женат / замужем</td>\n",
       "      <td>0</td>\n",
       "      <td>F</td>\n",
       "      <td>сотрудник</td>\n",
       "      <td>0</td>\n",
       "      <td>116820.904450</td>\n",
       "      <td>строительство собственной недвижимости</td>\n",
       "    </tr>\n",
       "    <tr>\n",
       "      <th>16</th>\n",
       "      <td>0</td>\n",
       "      <td>-1719.934226</td>\n",
       "      <td>35</td>\n",
       "      <td>среднее</td>\n",
       "      <td>1</td>\n",
       "      <td>женат / замужем</td>\n",
       "      <td>0</td>\n",
       "      <td>F</td>\n",
       "      <td>сотрудник</td>\n",
       "      <td>0</td>\n",
       "      <td>289202.704229</td>\n",
       "      <td>недвижимость</td>\n",
       "    </tr>\n",
       "    <tr>\n",
       "      <th>17</th>\n",
       "      <td>0</td>\n",
       "      <td>-2369.999720</td>\n",
       "      <td>33</td>\n",
       "      <td>высшее</td>\n",
       "      <td>0</td>\n",
       "      <td>гражданский брак</td>\n",
       "      <td>1</td>\n",
       "      <td>M</td>\n",
       "      <td>сотрудник</td>\n",
       "      <td>0</td>\n",
       "      <td>90410.586745</td>\n",
       "      <td>строительство недвижимости</td>\n",
       "    </tr>\n",
       "    <tr>\n",
       "      <th>18</th>\n",
       "      <td>0</td>\n",
       "      <td>400281.136913</td>\n",
       "      <td>53</td>\n",
       "      <td>среднее</td>\n",
       "      <td>1</td>\n",
       "      <td>вдовец / вдова</td>\n",
       "      <td>2</td>\n",
       "      <td>F</td>\n",
       "      <td>пенсионер</td>\n",
       "      <td>0</td>\n",
       "      <td>56823.777243</td>\n",
       "      <td>на покупку подержанного автомобиля</td>\n",
       "    </tr>\n",
       "    <tr>\n",
       "      <th>19</th>\n",
       "      <td>0</td>\n",
       "      <td>-10038.818549</td>\n",
       "      <td>48</td>\n",
       "      <td>СРЕДНЕЕ</td>\n",
       "      <td>1</td>\n",
       "      <td>в разводе</td>\n",
       "      <td>3</td>\n",
       "      <td>F</td>\n",
       "      <td>сотрудник</td>\n",
       "      <td>0</td>\n",
       "      <td>242831.107982</td>\n",
       "      <td>на покупку своего автомобиля</td>\n",
       "    </tr>\n",
       "  </tbody>\n",
       "</table>\n",
       "</div>"
      ],
      "text/plain": [
       "    children  days_employed  dob_years            education  education_id  \\\n",
       "0          1   -8437.673028         42               высшее             0   \n",
       "1          1   -4024.803754         36              среднее             1   \n",
       "2          0   -5623.422610         33              Среднее             1   \n",
       "3          3   -4124.747207         32              среднее             1   \n",
       "4          0  340266.072047         53              среднее             1   \n",
       "5          0    -926.185831         27               высшее             0   \n",
       "6          0   -2879.202052         43               высшее             0   \n",
       "7          0    -152.779569         50              СРЕДНЕЕ             1   \n",
       "8          2   -6929.865299         35               ВЫСШЕЕ             0   \n",
       "9          0   -2188.756445         41              среднее             1   \n",
       "10         2   -4171.483647         36               высшее             0   \n",
       "11         0    -792.701887         40              среднее             1   \n",
       "12         0            NaN         65              среднее             1   \n",
       "13         0   -1846.641941         54  неоконченное высшее             2   \n",
       "14         0   -1844.956182         56               высшее             0   \n",
       "15         1    -972.364419         26              среднее             1   \n",
       "16         0   -1719.934226         35              среднее             1   \n",
       "17         0   -2369.999720         33               высшее             0   \n",
       "18         0  400281.136913         53              среднее             1   \n",
       "19         0  -10038.818549         48              СРЕДНЕЕ             1   \n",
       "\n",
       "       family_status  family_status_id gender income_type  debt  \\\n",
       "0    женат / замужем                 0      F   сотрудник     0   \n",
       "1    женат / замужем                 0      F   сотрудник     0   \n",
       "2    женат / замужем                 0      M   сотрудник     0   \n",
       "3    женат / замужем                 0      M   сотрудник     0   \n",
       "4   гражданский брак                 1      F   пенсионер     0   \n",
       "5   гражданский брак                 1      M   компаньон     0   \n",
       "6    женат / замужем                 0      F   компаньон     0   \n",
       "7    женат / замужем                 0      M   сотрудник     0   \n",
       "8   гражданский брак                 1      F   сотрудник     0   \n",
       "9    женат / замужем                 0      M   сотрудник     0   \n",
       "10   женат / замужем                 0      M   компаньон     0   \n",
       "11   женат / замужем                 0      F   сотрудник     0   \n",
       "12  гражданский брак                 1      M   пенсионер     0   \n",
       "13   женат / замужем                 0      F   сотрудник     0   \n",
       "14  гражданский брак                 1      F   компаньон     1   \n",
       "15   женат / замужем                 0      F   сотрудник     0   \n",
       "16   женат / замужем                 0      F   сотрудник     0   \n",
       "17  гражданский брак                 1      M   сотрудник     0   \n",
       "18    вдовец / вдова                 2      F   пенсионер     0   \n",
       "19         в разводе                 3      F   сотрудник     0   \n",
       "\n",
       "     total_income                                 purpose  \n",
       "0   253875.639453                           покупка жилья  \n",
       "1   112080.014102                 приобретение автомобиля  \n",
       "2   145885.952297                           покупка жилья  \n",
       "3   267628.550329              дополнительное образование  \n",
       "4   158616.077870                         сыграть свадьбу  \n",
       "5   255763.565419                           покупка жилья  \n",
       "6   240525.971920                       операции с жильем  \n",
       "7   135823.934197                             образование  \n",
       "8    95856.832424                   на проведение свадьбы  \n",
       "9   144425.938277                 покупка жилья для семьи  \n",
       "10  113943.491460                    покупка недвижимости  \n",
       "11   77069.234271       покупка коммерческой недвижимости  \n",
       "12            NaN                         сыграть свадьбу  \n",
       "13  130458.228857                 приобретение автомобиля  \n",
       "14  165127.911772              покупка жилой недвижимости  \n",
       "15  116820.904450  строительство собственной недвижимости  \n",
       "16  289202.704229                            недвижимость  \n",
       "17   90410.586745              строительство недвижимости  \n",
       "18   56823.777243      на покупку подержанного автомобиля  \n",
       "19  242831.107982            на покупку своего автомобиля  "
      ]
     },
     "execution_count": 2,
     "metadata": {},
     "output_type": "execute_result"
    }
   ],
   "source": [
    "data.head(20)"
   ]
  },
  {
   "cell_type": "markdown",
   "id": "0ed8f27f",
   "metadata": {
    "deletable": false,
    "editable": false,
    "id": "0ed8f27f"
   },
   "source": [
    "**Задание 3. Выведите основную информацию о датафрейме с помощью метода `info()`.**"
   ]
  },
  {
   "cell_type": "code",
   "execution_count": 3,
   "id": "ab3f863b",
   "metadata": {
    "deletable": false,
    "id": "ab3f863b",
    "outputId": "15376089-8dad-46c9-b520-c05248d43158"
   },
   "outputs": [
    {
     "name": "stdout",
     "output_type": "stream",
     "text": [
      "<class 'pandas.core.frame.DataFrame'>\n",
      "RangeIndex: 21525 entries, 0 to 21524\n",
      "Data columns (total 12 columns):\n",
      " #   Column            Non-Null Count  Dtype  \n",
      "---  ------            --------------  -----  \n",
      " 0   children          21525 non-null  int64  \n",
      " 1   days_employed     19351 non-null  float64\n",
      " 2   dob_years         21525 non-null  int64  \n",
      " 3   education         21525 non-null  object \n",
      " 4   education_id      21525 non-null  int64  \n",
      " 5   family_status     21525 non-null  object \n",
      " 6   family_status_id  21525 non-null  int64  \n",
      " 7   gender            21525 non-null  object \n",
      " 8   income_type       21525 non-null  object \n",
      " 9   debt              21525 non-null  int64  \n",
      " 10  total_income      19351 non-null  float64\n",
      " 11  purpose           21525 non-null  object \n",
      "dtypes: float64(2), int64(5), object(5)\n",
      "memory usage: 2.0+ MB\n"
     ]
    }
   ],
   "source": [
    "data.info()"
   ]
  },
  {
   "cell_type": "markdown",
   "id": "90a42582",
   "metadata": {},
   "source": [
    "*В полученных данных 21525 строка и 11 столбцов. Присутствуют пропущенные значения: в столбце с трудовым стажем и со значениями уровня дохода. Также были обнаружены отрицательные значения в графе с трудовым стажем. Неявные дубликаты в столбце с данными об образовании клиентов следует привести к общему нижнему регистру.*"
   ]
  },
  {
   "cell_type": "markdown",
   "id": "60e3e22d",
   "metadata": {
    "deletable": false,
    "editable": false,
    "id": "60e3e22d"
   },
   "source": [
    "## Предобработка данных"
   ]
  },
  {
   "cell_type": "markdown",
   "id": "03dc170c",
   "metadata": {
    "deletable": false,
    "editable": false,
    "id": "03dc170c"
   },
   "source": [
    "### Удаление пропусков"
   ]
  },
  {
   "cell_type": "markdown",
   "id": "a4f54eef",
   "metadata": {
    "deletable": false,
    "editable": false,
    "id": "a4f54eef"
   },
   "source": [
    "**Задание 4. Выведите количество пропущенных значений для каждого столбца. Используйте комбинацию двух методов.**"
   ]
  },
  {
   "cell_type": "code",
   "execution_count": 4,
   "id": "2dc372b2",
   "metadata": {
    "deletable": false,
    "id": "2dc372b2",
    "outputId": "81f4d817-781c-465c-ed15-91ce4446810d"
   },
   "outputs": [
    {
     "data": {
      "text/plain": [
       "children               0\n",
       "days_employed       2174\n",
       "dob_years              0\n",
       "education              0\n",
       "education_id           0\n",
       "family_status          0\n",
       "family_status_id       0\n",
       "gender                 0\n",
       "income_type            0\n",
       "debt                   0\n",
       "total_income        2174\n",
       "purpose                0\n",
       "dtype: int64"
      ]
     },
     "execution_count": 4,
     "metadata": {},
     "output_type": "execute_result"
    }
   ],
   "source": [
    "data.isna().sum()"
   ]
  },
  {
   "cell_type": "markdown",
   "id": "14f011b1",
   "metadata": {
    "deletable": false,
    "editable": false,
    "id": "14f011b1"
   },
   "source": [
    "**Задание 5. В двух столбцах есть пропущенные значения. Один из них — `days_employed`. Пропуски в этом столбце вы обработаете на следующем этапе. Другой столбец с пропущенными значениями — `total_income` — хранит данные о доходах. На сумму дохода сильнее всего влияет тип занятости, поэтому заполнить пропуски в этом столбце нужно медианным значением по каждому типу из столбца `income_type`. Например, у человека с типом занятости `сотрудник` пропуск в столбце `total_income` должен быть заполнен медианным доходом среди всех записей с тем же типом.**"
   ]
  },
  {
   "cell_type": "code",
   "execution_count": 5,
   "id": "bdabfb6e",
   "metadata": {
    "deletable": false,
    "id": "bdabfb6e"
   },
   "outputs": [],
   "source": [
    "for t in data['income_type'].unique():\n",
    "    data.loc[(data['income_type'] == t) & (data['total_income'].isna()), 'total_income'] = \\\n",
    "    data.loc[(data['income_type'] == t), 'total_income'].median()"
   ]
  },
  {
   "cell_type": "markdown",
   "id": "5be34059",
   "metadata": {
    "deletable": false,
    "editable": false,
    "id": "5be34059"
   },
   "source": [
    "### Обработка аномальных значений"
   ]
  },
  {
   "cell_type": "markdown",
   "id": "a87606cb",
   "metadata": {
    "deletable": false,
    "editable": false,
    "id": "a87606cb"
   },
   "source": [
    "**Задание 6. В данных могут встречаться артефакты (аномалии) — значения, которые не отражают действительность и появились по какой-то ошибке. таким артефактом будет отрицательное количество дней трудового стажа в столбце `days_employed`. Для реальных данных это нормально. Обработайте значения в этом столбце: замените все отрицательные значения положительными с помощью метода `abs()`.**"
   ]
  },
  {
   "cell_type": "code",
   "execution_count": 6,
   "id": "020c46cc",
   "metadata": {
    "deletable": false,
    "id": "020c46cc"
   },
   "outputs": [],
   "source": [
    "data['days_employed'] = data['days_employed'].abs()"
   ]
  },
  {
   "cell_type": "markdown",
   "id": "45538a3a",
   "metadata": {
    "deletable": false,
    "editable": false,
    "id": "45538a3a"
   },
   "source": [
    "**Задание 7. Для каждого типа занятости выведите медианное значение трудового стажа `days_employed` в днях.**"
   ]
  },
  {
   "cell_type": "code",
   "execution_count": 7,
   "id": "cd3e6328",
   "metadata": {
    "deletable": false,
    "id": "cd3e6328",
    "outputId": "801ef80e-522b-4668-f34e-565af7432bcf"
   },
   "outputs": [
    {
     "data": {
      "text/plain": [
       "income_type\n",
       "безработный        366413.652744\n",
       "в декрете            3296.759962\n",
       "госслужащий          2689.368353\n",
       "компаньон            1547.382223\n",
       "пенсионер          365213.306266\n",
       "предприниматель       520.848083\n",
       "сотрудник            1574.202821\n",
       "студент               578.751554\n",
       "Name: days_employed, dtype: float64"
      ]
     },
     "execution_count": 7,
     "metadata": {},
     "output_type": "execute_result"
    }
   ],
   "source": [
    "data.groupby('income_type')['days_employed'].agg('median')"
   ]
  },
  {
   "cell_type": "markdown",
   "id": "90c5f058",
   "metadata": {
    "deletable": false,
    "editable": false,
    "id": "90c5f058"
   },
   "source": [
    "У двух типов (безработные и пенсионеры) получатся аномально большие значения. Исправить такие значения сложно, поэтому оставьте их как есть."
   ]
  },
  {
   "cell_type": "markdown",
   "id": "9652e50d",
   "metadata": {
    "deletable": false,
    "editable": false,
    "id": "9652e50d"
   },
   "source": [
    "**Задание 8. Выведите перечень уникальных значений столбца `children`.**"
   ]
  },
  {
   "cell_type": "code",
   "execution_count": 8,
   "id": "dbb37b8e",
   "metadata": {
    "deletable": false,
    "id": "dbb37b8e",
    "outputId": "6975b15c-7f95-4697-d16d-a0c79b657b03"
   },
   "outputs": [
    {
     "data": {
      "text/plain": [
       "array([ 1,  0,  3,  2, -1,  4, 20,  5])"
      ]
     },
     "execution_count": 8,
     "metadata": {},
     "output_type": "execute_result"
    }
   ],
   "source": [
    "data['children'].unique()"
   ]
  },
  {
   "cell_type": "markdown",
   "id": "2b8b0715",
   "metadata": {
    "deletable": false,
    "editable": false,
    "id": "2b8b0715"
   },
   "source": [
    "**Задание 9. В столбце `children` есть два аномальных значения. Удалите строки, в которых встречаются такие аномальные значения из датафрейма `data`.**"
   ]
  },
  {
   "cell_type": "code",
   "execution_count": 9,
   "id": "20009df8",
   "metadata": {
    "deletable": false,
    "id": "20009df8"
   },
   "outputs": [],
   "source": [
    "data = data[(data['children'] != -1) & (data['children'] != 20)]"
   ]
  },
  {
   "cell_type": "markdown",
   "id": "8c6ac9f1",
   "metadata": {
    "deletable": false,
    "editable": false,
    "id": "8c6ac9f1"
   },
   "source": [
    "**Задание 10. Ещё раз выведите перечень уникальных значений столбца `children`, чтобы убедиться, что артефакты удалены.**"
   ]
  },
  {
   "cell_type": "code",
   "execution_count": 10,
   "id": "07337b81",
   "metadata": {
    "deletable": false,
    "id": "07337b81",
    "outputId": "b2097101-d49d-44d9-901b-32a65c9463d1"
   },
   "outputs": [
    {
     "data": {
      "text/plain": [
       "array([1, 0, 3, 2, 4, 5])"
      ]
     },
     "execution_count": 10,
     "metadata": {},
     "output_type": "execute_result"
    }
   ],
   "source": [
    "data['children'].unique()"
   ]
  },
  {
   "cell_type": "markdown",
   "id": "ee3f52d4",
   "metadata": {
    "deletable": false,
    "editable": false,
    "id": "ee3f52d4"
   },
   "source": [
    "### Удаление пропусков (продолжение)"
   ]
  },
  {
   "cell_type": "markdown",
   "id": "a700b0e4",
   "metadata": {
    "deletable": false,
    "editable": false,
    "id": "a700b0e4"
   },
   "source": [
    "**Задание 11. Заполните пропуски в столбце `days_employed` медианными значениями по каждого типа занятости `income_type`.**"
   ]
  },
  {
   "cell_type": "code",
   "execution_count": 11,
   "id": "61946b83",
   "metadata": {
    "deletable": false,
    "id": "61946b83"
   },
   "outputs": [],
   "source": [
    "for t in data['income_type'].unique():\n",
    "    data.loc[(data['income_type'] == t) & (data['days_employed'].isna()), 'days_employed'] = \\\n",
    "    data.loc[(data['income_type'] == t), 'days_employed'].median()"
   ]
  },
  {
   "cell_type": "markdown",
   "id": "550dcd9b",
   "metadata": {
    "deletable": false,
    "editable": false,
    "id": "550dcd9b"
   },
   "source": [
    "**Задание 12. Убедитесь, что все пропуски заполнены. Проверьте себя и ещё раз выведите количество пропущенных значений для каждого столбца с помощью двух методов.**"
   ]
  },
  {
   "cell_type": "code",
   "execution_count": 12,
   "id": "937c7014",
   "metadata": {
    "deletable": false,
    "id": "937c7014",
    "outputId": "8da1e4e1-358e-4e87-98c9-f261bce0a7b2"
   },
   "outputs": [
    {
     "data": {
      "text/plain": [
       "children            0\n",
       "days_employed       0\n",
       "dob_years           0\n",
       "education           0\n",
       "education_id        0\n",
       "family_status       0\n",
       "family_status_id    0\n",
       "gender              0\n",
       "income_type         0\n",
       "debt                0\n",
       "total_income        0\n",
       "purpose             0\n",
       "dtype: int64"
      ]
     },
     "execution_count": 12,
     "metadata": {},
     "output_type": "execute_result"
    }
   ],
   "source": [
    "data.isna().sum()"
   ]
  },
  {
   "cell_type": "markdown",
   "id": "d522e295",
   "metadata": {
    "deletable": false,
    "editable": false,
    "id": "d522e295"
   },
   "source": [
    "### Изменение типов данных"
   ]
  },
  {
   "cell_type": "markdown",
   "id": "c229c581",
   "metadata": {
    "deletable": false,
    "editable": false,
    "id": "c229c581"
   },
   "source": [
    "**Задание 13. Замените вещественный тип данных в столбце `total_income` на целочисленный с помощью метода `astype()`.**"
   ]
  },
  {
   "cell_type": "code",
   "execution_count": 13,
   "id": "31036462",
   "metadata": {
    "deletable": false,
    "id": "31036462"
   },
   "outputs": [],
   "source": [
    "data['total_income'] = data['total_income'].astype(int)"
   ]
  },
  {
   "cell_type": "markdown",
   "id": "b8e3d1d9",
   "metadata": {
    "deletable": false,
    "editable": false,
    "id": "b8e3d1d9"
   },
   "source": [
    "### Обработка дубликатов"
   ]
  },
  {
   "cell_type": "markdown",
   "id": "9be53c49",
   "metadata": {
    "deletable": false,
    "editable": false,
    "id": "9be53c49"
   },
   "source": [
    "**Задание 14. Обработайте неявные дубликаты в столбце `education`. В этом столбце есть одни и те же значения, но записанные по-разному: с использованием заглавных и строчных букв. Приведите их к нижнему регистру.**"
   ]
  },
  {
   "cell_type": "code",
   "execution_count": 14,
   "id": "d89e73e1",
   "metadata": {
    "deletable": false,
    "id": "d89e73e1"
   },
   "outputs": [],
   "source": [
    "data['education'] = data['education'].str.lower()"
   ]
  },
  {
   "cell_type": "markdown",
   "id": "01d4500e",
   "metadata": {
    "deletable": false,
    "editable": false,
    "id": "01d4500e"
   },
   "source": [
    "**Задание 15. Выведите на экран количество строк-дубликатов в данных. Если такие строки присутствуют, удалите их.**"
   ]
  },
  {
   "cell_type": "code",
   "execution_count": 15,
   "id": "e10efb23",
   "metadata": {
    "deletable": false,
    "id": "e10efb23",
    "outputId": "9684deba-1934-42d1-99e1-cda61740f822"
   },
   "outputs": [
    {
     "data": {
      "text/plain": [
       "71"
      ]
     },
     "execution_count": 15,
     "metadata": {},
     "output_type": "execute_result"
    }
   ],
   "source": [
    "data.duplicated().sum()"
   ]
  },
  {
   "cell_type": "code",
   "execution_count": 16,
   "id": "df853f20",
   "metadata": {
    "deletable": false,
    "id": "df853f20"
   },
   "outputs": [],
   "source": [
    "data = data.drop_duplicates()"
   ]
  },
  {
   "cell_type": "markdown",
   "id": "627be38f",
   "metadata": {
    "deletable": false,
    "editable": false,
    "id": "627be38f"
   },
   "source": [
    "### Категоризация данных"
   ]
  },
  {
   "cell_type": "markdown",
   "id": "4684c3e0",
   "metadata": {
    "deletable": false,
    "editable": false,
    "id": "4684c3e0"
   },
   "source": [
    "**Задание 16. На основании диапазонов, указанных ниже, создайте в датафрейме `data` столбец `total_income_category` с категориями:**\n",
    "\n",
    "- 0–30000 — `'E'`;\n",
    "- 30001–50000 — `'D'`;\n",
    "- 50001–200000 — `'C'`;\n",
    "- 200001–1000000 — `'B'`;\n",
    "- 1000001 и выше — `'A'`.\n",
    "\n",
    "\n",
    "**Например, кредитополучателю с доходом 25000 нужно назначить категорию `'E'`, а клиенту, получающему 235000, — `'B'`. Используйте собственную функцию с именем `categorize_income()` и метод `apply()`.**"
   ]
  },
  {
   "cell_type": "code",
   "execution_count": 17,
   "id": "78965238",
   "metadata": {
    "deletable": false,
    "id": "78965238"
   },
   "outputs": [],
   "source": [
    "def categorize_income(income):\n",
    "    try:\n",
    "        if 0 <= income <= 30000:\n",
    "            return 'E'\n",
    "        elif 30001 <= income <= 50000:\n",
    "            return 'D'\n",
    "        elif 50001 <= income <= 200000:\n",
    "            return 'C'\n",
    "        elif 200001 <= income <= 1000000:\n",
    "            return 'B'\n",
    "        elif income >= 1000001:\n",
    "            return 'A'\n",
    "    except:\n",
    "        pass"
   ]
  },
  {
   "cell_type": "code",
   "execution_count": 18,
   "id": "0980ada1",
   "metadata": {
    "deletable": false,
    "id": "0980ada1"
   },
   "outputs": [],
   "source": [
    "data['total_income_category'] = data['total_income'].apply(categorize_income)"
   ]
  },
  {
   "cell_type": "markdown",
   "id": "9917bba0",
   "metadata": {
    "deletable": false,
    "editable": false,
    "id": "9917bba0"
   },
   "source": [
    "**Задание 17. Выведите на экран перечень уникальных целей взятия кредита из столбца `purpose`.**"
   ]
  },
  {
   "cell_type": "code",
   "execution_count": 19,
   "id": "ee07b65e",
   "metadata": {
    "deletable": false,
    "id": "ee07b65e",
    "outputId": "673c12d9-7d7e-4ae0-9812-c622c89dd244"
   },
   "outputs": [
    {
     "data": {
      "text/plain": [
       "array(['покупка жилья', 'приобретение автомобиля',\n",
       "       'дополнительное образование', 'сыграть свадьбу',\n",
       "       'операции с жильем', 'образование', 'на проведение свадьбы',\n",
       "       'покупка жилья для семьи', 'покупка недвижимости',\n",
       "       'покупка коммерческой недвижимости', 'покупка жилой недвижимости',\n",
       "       'строительство собственной недвижимости', 'недвижимость',\n",
       "       'строительство недвижимости', 'на покупку подержанного автомобиля',\n",
       "       'на покупку своего автомобиля',\n",
       "       'операции с коммерческой недвижимостью',\n",
       "       'строительство жилой недвижимости', 'жилье',\n",
       "       'операции со своей недвижимостью', 'автомобили',\n",
       "       'заняться образованием', 'сделка с подержанным автомобилем',\n",
       "       'получение образования', 'автомобиль', 'свадьба',\n",
       "       'получение дополнительного образования', 'покупка своего жилья',\n",
       "       'операции с недвижимостью', 'получение высшего образования',\n",
       "       'свой автомобиль', 'сделка с автомобилем',\n",
       "       'профильное образование', 'высшее образование',\n",
       "       'покупка жилья для сдачи', 'на покупку автомобиля', 'ремонт жилью',\n",
       "       'заняться высшим образованием'], dtype=object)"
      ]
     },
     "execution_count": 19,
     "metadata": {},
     "output_type": "execute_result"
    }
   ],
   "source": [
    "data['purpose'].unique()"
   ]
  },
  {
   "cell_type": "markdown",
   "id": "52b79d56",
   "metadata": {
    "deletable": false,
    "editable": false,
    "id": "52b79d56"
   },
   "source": [
    "**Задание 18. Создайте функцию, которая на основании данных из столбца `purpose` сформирует новый столбец `purpose_category`, в который войдут следующие категории:**\n",
    "\n",
    "- `'операции с автомобилем'`,\n",
    "- `'операции с недвижимостью'`,\n",
    "- `'проведение свадьбы'`,\n",
    "- `'получение образования'`.\n",
    "\n",
    "**Например, если в столбце `purpose` находится подстрока `'на покупку автомобиля'`, то в столбце `purpose_category` должна появиться строка `'операции с автомобилем'`.**\n",
    "\n",
    "**Используйте собственную функцию с именем `categorize_purpose()` и метод `apply()`. Изучите данные в столбце `purpose` и определите, какие подстроки помогут вам правильно определить категорию.**"
   ]
  },
  {
   "cell_type": "code",
   "execution_count": 20,
   "id": "be41da5d",
   "metadata": {
    "deletable": false,
    "id": "be41da5d"
   },
   "outputs": [],
   "source": [
    "def categorize_purpose(row):\n",
    "    try:\n",
    "        if 'автом' in row:\n",
    "            return 'операции с автомобилем'\n",
    "        elif 'жил' in row or 'недвиж' in row:\n",
    "            return 'операции с недвижимостью'\n",
    "        elif 'свад' in row:\n",
    "            return 'проведение свадьбы'\n",
    "        elif 'образов' in row:\n",
    "            return 'получение образования'\n",
    "    except:\n",
    "        return 'нет категории'"
   ]
  },
  {
   "cell_type": "code",
   "execution_count": 21,
   "id": "94c4a19a",
   "metadata": {
    "deletable": false,
    "id": "94c4a19a"
   },
   "outputs": [],
   "source": [
    "data['purpose_category'] = data['purpose'].apply(categorize_purpose)"
   ]
  },
  {
   "cell_type": "code",
   "execution_count": 22,
   "id": "fa8cbb56",
   "metadata": {},
   "outputs": [
    {
     "data": {
      "text/plain": [
       "операции с недвижимостью    10751\n",
       "операции с автомобилем       4279\n",
       "получение образования        3988\n",
       "проведение свадьбы           2313\n",
       "Name: purpose_category, dtype: int64"
      ]
     },
     "execution_count": 22,
     "metadata": {},
     "output_type": "execute_result"
    }
   ],
   "source": [
    "data['purpose_category'].value_counts()"
   ]
  },
  {
   "cell_type": "markdown",
   "id": "1f92c40f",
   "metadata": {},
   "source": [
    "*На стадии предобработки данных в разделах с уровнем дохода и количеством дней трудового стажа были заменены пропущенные значения на медианные, отрицательные значения были приведены в норму, были удалены строки с аномальными значениями в разделе с количеством детей, также были удалены строки-дубликаты. Кроме этого, была произведена категоризация кредитополучателей по уровню дохода и категоризация целей, на которые были взяты кредиты, так как эти данные можно объединить всего в 4 целевые группы. Помимо этого, были обработаны неявные дубликаты в столбце с данными об образовании клиентов путем приведения их к общему регистру.*"
   ]
  },
  {
   "cell_type": "markdown",
   "id": "3d596c34",
   "metadata": {
    "deletable": false,
    "editable": false,
    "id": "3d596c34"
   },
   "source": [
    "### Шаг 3. Исследуйте данные и ответьте на вопросы"
   ]
  },
  {
   "cell_type": "markdown",
   "id": "648db036",
   "metadata": {
    "deletable": false,
    "editable": false,
    "id": "648db036"
   },
   "source": [
    "#### 3.1 Есть ли зависимость между количеством детей и возвратом кредита в срок?"
   ]
  },
  {
   "cell_type": "code",
   "execution_count": 23,
   "id": "7fcff25e",
   "metadata": {
    "deletable": false,
    "id": "7fcff25e"
   },
   "outputs": [
    {
     "data": {
      "text/html": [
       "<div>\n",
       "<style scoped>\n",
       "    .dataframe tbody tr th:only-of-type {\n",
       "        vertical-align: middle;\n",
       "    }\n",
       "\n",
       "    .dataframe tbody tr th {\n",
       "        vertical-align: top;\n",
       "    }\n",
       "\n",
       "    .dataframe thead th {\n",
       "        text-align: right;\n",
       "    }\n",
       "</style>\n",
       "<table border=\"1\" class=\"dataframe\">\n",
       "  <thead>\n",
       "    <tr style=\"text-align: right;\">\n",
       "      <th></th>\n",
       "      <th>children</th>\n",
       "      <th>count</th>\n",
       "      <th>sum</th>\n",
       "      <th>mean</th>\n",
       "    </tr>\n",
       "  </thead>\n",
       "  <tbody>\n",
       "    <tr>\n",
       "      <th>0</th>\n",
       "      <td>5</td>\n",
       "      <td>9</td>\n",
       "      <td>0</td>\n",
       "      <td>0.000000</td>\n",
       "    </tr>\n",
       "    <tr>\n",
       "      <th>1</th>\n",
       "      <td>0</td>\n",
       "      <td>14091</td>\n",
       "      <td>1063</td>\n",
       "      <td>7.543822</td>\n",
       "    </tr>\n",
       "    <tr>\n",
       "      <th>2</th>\n",
       "      <td>3</td>\n",
       "      <td>330</td>\n",
       "      <td>27</td>\n",
       "      <td>8.181818</td>\n",
       "    </tr>\n",
       "    <tr>\n",
       "      <th>3</th>\n",
       "      <td>1</td>\n",
       "      <td>4808</td>\n",
       "      <td>444</td>\n",
       "      <td>9.234609</td>\n",
       "    </tr>\n",
       "    <tr>\n",
       "      <th>4</th>\n",
       "      <td>2</td>\n",
       "      <td>2052</td>\n",
       "      <td>194</td>\n",
       "      <td>9.454191</td>\n",
       "    </tr>\n",
       "    <tr>\n",
       "      <th>5</th>\n",
       "      <td>4</td>\n",
       "      <td>41</td>\n",
       "      <td>4</td>\n",
       "      <td>9.756098</td>\n",
       "    </tr>\n",
       "  </tbody>\n",
       "</table>\n",
       "</div>"
      ],
      "text/plain": [
       "   children  count   sum      mean\n",
       "0         5      9     0  0.000000\n",
       "1         0  14091  1063  7.543822\n",
       "2         3    330    27  8.181818\n",
       "3         1   4808   444  9.234609\n",
       "4         2   2052   194  9.454191\n",
       "5         4     41     4  9.756098"
      ]
     },
     "metadata": {},
     "output_type": "display_data"
    },
    {
     "name": "stdout",
     "output_type": "stream",
     "text": [
      "Разница между клиентами с 0 детей и 1: 18.31 %\n",
      "Разница между клиентами с 1 детей и 2: 2.32 %\n",
      "Разница между клиентами с 0 детей и 2: 20.21 %\n"
     ]
    }
   ],
   "source": [
    "c_debt = data.groupby('children')['debt'].agg(['count', 'sum', 'mean']).sort_values(by = 'mean')\n",
    "\n",
    "c_debt['mean'] = c_debt['mean']*100\n",
    "\n",
    "c_debt = c_debt.reset_index()\n",
    "\n",
    "#найдем разницу между группами с наибольшим количеством должников\n",
    "c_debt1 =100-(c_debt.loc[1,'mean']/c_debt.loc[3,'mean'])*100\n",
    "c_debt2 =100-(c_debt.loc[3,'mean']/c_debt.loc[4,'mean'])*100\n",
    "c_debt3 =100-(c_debt.loc[1,'mean']/c_debt.loc[4,'mean'])*100\n",
    "\n",
    "display(c_debt)\n",
    "print('Разница между клиентами с 0 детей и 1:',format(c_debt1,'.2f'),'%')\n",
    "print('Разница между клиентами с 1 детей и 2:',format(c_debt2,'.2f'),'%')\n",
    "print('Разница между клиентами с 0 детей и 2:',format(c_debt3,'.2f'),'%')"
   ]
  },
  {
   "cell_type": "code",
   "execution_count": 24,
   "id": "5d189e44",
   "metadata": {},
   "outputs": [],
   "source": [
    "#импортируем библиотеку для построения столбчатой диаграммы\n",
    "import matplotlib as plt\n",
    "import seaborn as sns"
   ]
  },
  {
   "cell_type": "code",
   "execution_count": 25,
   "id": "2c1720dd",
   "metadata": {},
   "outputs": [
    {
     "data": {
      "image/png": "[encoded data removed]",
      "text/plain": [
       "<Figure size 792x360 with 1 Axes>"
      ]
     },
     "metadata": {
      "needs_background": "light"
     },
     "output_type": "display_data"
    }
   ],
   "source": [
    "plt.rcParams['figure.figsize'] = [11, 5] # указываем размер диаграммы\n",
    "\n",
    "# построим столбчатую диаграмму для визуализации результатов\n",
    "sns.barplot(x=c_debt['children'],y=c_debt['mean'],palette='coolwarm').set(title='Зависимость возврата кредита в срок от количества детей');"
   ]
  },
  {
   "cell_type": "markdown",
   "id": "2eb9088e",
   "metadata": {
    "deletable": false,
    "id": "2eb9088e"
   },
   "source": [
    "# **Вывод:** \n",
    "**Из полученных данных можно сделать следующие заключения:**\n",
    " - Клиенты, у которых нет детей и клиенты, у которых 5 детей, ответственнее всего подходят к возврату кредита в срок. При этом количество записей о клиентах с 5 детьми крайне незначительно по сравнению с общим количеством записей, поэтому сложно считать данную выборку репрезентативной.\n",
    " - На втором месте по платежеспособности находятся клиенты с 3 детьми. Возможно это объясняется тем, что у семей, которые решаются заводить 3 детей, более стабильный доход и им важна хорошая кредитная история для будущих кредитов. Но также можно предположить, что количество данных невелико для адекватной оценки, так как в целом прослеживается тенденция увеличения количества должников с количеством детей у клиентов, что легко объясняется увеличивающимися тратами на каждого нового ребенка.\n",
    " - На третьем и четвертом месте находятся клиенты с 1 и 2 детьми соответственно. Высокий процент должников по выплатам кредита среди этих групп можно объяснить взятием кредитов для разовых целей и еще невысокой зарплатой у молодых семей, не успевших подняться по карьерной лестнице.\n",
    " - На четвертом месте располагаются клиенты с 4 детьми, среди них самый высокий % должников по выплате кредита в срок. Это можно объяснить высокой финансовой нагрузкой из-за большого количества трат на такое количество детей.\n",
    " - Самые репрезентативные группы - с 0, 1 и 2 детьми. Клиенты из этих групп хуже всего возвращают кредиты в срок. Разница значений составила 18,31% между группами с 0 и 1 детьми, 2.32% между группами с 1 и 2 детьми и 20.21% между группами с 0 и 2 детьми. Получается, что клиенты с 2 детьми на 20.21% хуже возвращают долги, чем клиенты с 0 детьми.Исходя из этого, можно сказать что прослеживается рост количества должников с количеством детей на семью."
   ]
  },
  {
   "cell_type": "code",
   "execution_count": 26,
   "id": "c9c507e9",
   "metadata": {},
   "outputs": [
    {
     "data": {
      "text/html": [
       "<div>\n",
       "<style scoped>\n",
       "    .dataframe tbody tr th:only-of-type {\n",
       "        vertical-align: middle;\n",
       "    }\n",
       "\n",
       "    .dataframe tbody tr th {\n",
       "        vertical-align: top;\n",
       "    }\n",
       "\n",
       "    .dataframe thead th {\n",
       "        text-align: right;\n",
       "    }\n",
       "</style>\n",
       "<table border=\"1\" class=\"dataframe\">\n",
       "  <thead>\n",
       "    <tr style=\"text-align: right;\">\n",
       "      <th></th>\n",
       "      <th>count</th>\n",
       "      <th>sum</th>\n",
       "      <th>mean</th>\n",
       "    </tr>\n",
       "    <tr>\n",
       "      <th>children</th>\n",
       "      <th></th>\n",
       "      <th></th>\n",
       "      <th></th>\n",
       "    </tr>\n",
       "  </thead>\n",
       "  <tbody>\n",
       "    <tr>\n",
       "      <th>5</th>\n",
       "      <td>9</td>\n",
       "      <td>0</td>\n",
       "      <td>0.000000</td>\n",
       "    </tr>\n",
       "    <tr>\n",
       "      <th>0</th>\n",
       "      <td>14091</td>\n",
       "      <td>1063</td>\n",
       "      <td>0.075438</td>\n",
       "    </tr>\n",
       "    <tr>\n",
       "      <th>3</th>\n",
       "      <td>330</td>\n",
       "      <td>27</td>\n",
       "      <td>0.081818</td>\n",
       "    </tr>\n",
       "    <tr>\n",
       "      <th>1</th>\n",
       "      <td>4808</td>\n",
       "      <td>444</td>\n",
       "      <td>0.092346</td>\n",
       "    </tr>\n",
       "    <tr>\n",
       "      <th>2</th>\n",
       "      <td>2052</td>\n",
       "      <td>194</td>\n",
       "      <td>0.094542</td>\n",
       "    </tr>\n",
       "    <tr>\n",
       "      <th>4</th>\n",
       "      <td>41</td>\n",
       "      <td>4</td>\n",
       "      <td>0.097561</td>\n",
       "    </tr>\n",
       "  </tbody>\n",
       "</table>\n",
       "</div>"
      ],
      "text/plain": [
       "          count   sum      mean\n",
       "children                       \n",
       "5             9     0  0.000000\n",
       "0         14091  1063  0.075438\n",
       "3           330    27  0.081818\n",
       "1          4808   444  0.092346\n",
       "2          2052   194  0.094542\n",
       "4            41     4  0.097561"
      ]
     },
     "execution_count": 26,
     "metadata": {},
     "output_type": "execute_result"
    }
   ],
   "source": [
    "# Код ревьюера\n",
    "data.groupby('children')['debt'].agg(['count', 'sum', 'mean']).sort_values(by = 'mean')"
   ]
  },
  {
   "cell_type": "markdown",
   "id": "74c9b3a7",
   "metadata": {
    "deletable": false,
    "editable": false,
    "id": "74c9b3a7"
   },
   "source": [
    "#### 3.2 Есть ли зависимость между семейным положением и возвратом кредита в срок?"
   ]
  },
  {
   "cell_type": "code",
   "execution_count": 27,
   "id": "7ded282e",
   "metadata": {},
   "outputs": [],
   "source": [
    "#объединим клиентов в две большие группы по семейному статусу\n",
    "def categorize_family(row):\n",
    "    try:\n",
    "        if 'женат / замужем' in row or 'в разводе' in row or 'вдовец' in row:\n",
    "            return 'состоящие/состоявшие в браке'\n",
    "        elif 'гражданский' in row or 'не замужем' in row:\n",
    "            return 'не состоящие в браке'\n",
    "    except:\n",
    "        return 'нет категории'"
   ]
  },
  {
   "cell_type": "code",
   "execution_count": 28,
   "id": "32b7b35e",
   "metadata": {},
   "outputs": [],
   "source": [
    "data['family_category'] = data['family_status'].apply(categorize_family)"
   ]
  },
  {
   "cell_type": "code",
   "execution_count": 29,
   "id": "b4212310",
   "metadata": {},
   "outputs": [
    {
     "data": {
      "text/plain": [
       "состоящие/состоявшие в браке    14401\n",
       "не состоящие в браке             6930\n",
       "Name: family_category, dtype: int64"
      ]
     },
     "execution_count": 29,
     "metadata": {},
     "output_type": "execute_result"
    }
   ],
   "source": [
    "#проверим правильность выполнения функции и оценим количество клиентов в группах\n",
    "data['family_category'].value_counts()"
   ]
  },
  {
   "cell_type": "code",
   "execution_count": 30,
   "id": "8098ab3b",
   "metadata": {
    "deletable": false,
    "id": "8098ab3b"
   },
   "outputs": [
    {
     "data": {
      "text/html": [
       "<div>\n",
       "<style scoped>\n",
       "    .dataframe tbody tr th:only-of-type {\n",
       "        vertical-align: middle;\n",
       "    }\n",
       "\n",
       "    .dataframe tbody tr th {\n",
       "        vertical-align: top;\n",
       "    }\n",
       "\n",
       "    .dataframe thead th {\n",
       "        text-align: right;\n",
       "    }\n",
       "</style>\n",
       "<table border=\"1\" class=\"dataframe\">\n",
       "  <thead>\n",
       "    <tr style=\"text-align: right;\">\n",
       "      <th></th>\n",
       "      <th>family_category</th>\n",
       "      <th>count</th>\n",
       "      <th>sum</th>\n",
       "      <th>mean</th>\n",
       "    </tr>\n",
       "  </thead>\n",
       "  <tbody>\n",
       "    <tr>\n",
       "      <th>0</th>\n",
       "      <td>состоящие/состоявшие в браке</td>\n",
       "      <td>14401</td>\n",
       "      <td>1074</td>\n",
       "      <td>7.457815</td>\n",
       "    </tr>\n",
       "    <tr>\n",
       "      <th>1</th>\n",
       "      <td>не состоящие в браке</td>\n",
       "      <td>6930</td>\n",
       "      <td>658</td>\n",
       "      <td>9.494949</td>\n",
       "    </tr>\n",
       "  </tbody>\n",
       "</table>\n",
       "</div>"
      ],
      "text/plain": [
       "                family_category  count   sum      mean\n",
       "0  состоящие/состоявшие в браке  14401  1074  7.457815\n",
       "1          не состоящие в браке   6930   658  9.494949"
      ]
     },
     "metadata": {},
     "output_type": "display_data"
    },
    {
     "name": "stdout",
     "output_type": "stream",
     "text": [
      "Разница между клиентами из первой и второй группы: 21.45 %\n"
     ]
    }
   ],
   "source": [
    "f_debt = data.groupby('family_category')['debt'].agg(['count', 'sum', 'mean']).sort_values(by = 'mean')\n",
    "\n",
    "f_debt['mean'] = f_debt['mean']*100\n",
    "\n",
    "f_debt = f_debt.reset_index()\n",
    "\n",
    "display(f_debt)\n",
    "\n",
    "f_debt1 =100-(f_debt.loc[0,'mean']/f_debt.loc[1,'mean'])*100\n",
    "\n",
    "print('Разница между клиентами из первой и второй группы:',format(f_debt1,'.2f'),'%')"
   ]
  },
  {
   "cell_type": "code",
   "execution_count": 31,
   "id": "6d56b23d",
   "metadata": {},
   "outputs": [
    {
     "data": {
      "image/png": "[encoded data removed]",
      "text/plain": [
       "<Figure size 792x360 with 1 Axes>"
      ]
     },
     "metadata": {
      "needs_background": "light"
     },
     "output_type": "display_data"
    }
   ],
   "source": [
    "sns.barplot(x=f_debt['family_category'],y=f_debt['mean'],palette='coolwarm').set(title='Зависимость возврата кредита в срок от семейного положения');"
   ]
  },
  {
   "cell_type": "markdown",
   "id": "c389ca63",
   "metadata": {
    "deletable": false,
    "id": "c389ca63"
   },
   "source": [
    "**Вывод:** \n",
    "\n",
    "**По итогам данных можно заявить следующее:**\n",
    " - Клиенты, состоящие или состоявшие в браке, более ответственно подходят к погашению кредита в срок.\n",
    " - Клиенты, не состоящие в браке, задерживают выплаты на 21.45% чаще, чем первая группа."
   ]
  },
  {
   "cell_type": "markdown",
   "id": "9529de68",
   "metadata": {
    "deletable": false,
    "editable": false,
    "id": "9529de68"
   },
   "source": [
    "#### 3.3 Есть ли зависимость между уровнем дохода и возвратом кредита в срок?"
   ]
  },
  {
   "cell_type": "code",
   "execution_count": 32,
   "id": "c8051d3c",
   "metadata": {},
   "outputs": [
    {
     "data": {
      "text/plain": [
       "C    15921\n",
       "B     5014\n",
       "D      349\n",
       "A       25\n",
       "E       22\n",
       "Name: total_income_category, dtype: int64"
      ]
     },
     "execution_count": 32,
     "metadata": {},
     "output_type": "execute_result"
    }
   ],
   "source": [
    "#выведем количество уникальных значений клиентов по уровню дохода\n",
    "data['total_income_category'].value_counts()"
   ]
  },
  {
   "cell_type": "code",
   "execution_count": 33,
   "id": "59088e66",
   "metadata": {
    "deletable": false,
    "id": "8787f44a"
   },
   "outputs": [
    {
     "data": {
      "text/html": [
       "<div>\n",
       "<style scoped>\n",
       "    .dataframe tbody tr th:only-of-type {\n",
       "        vertical-align: middle;\n",
       "    }\n",
       "\n",
       "    .dataframe tbody tr th {\n",
       "        vertical-align: top;\n",
       "    }\n",
       "\n",
       "    .dataframe thead th {\n",
       "        text-align: right;\n",
       "    }\n",
       "</style>\n",
       "<table border=\"1\" class=\"dataframe\">\n",
       "  <thead>\n",
       "    <tr style=\"text-align: right;\">\n",
       "      <th></th>\n",
       "      <th>total_income_category</th>\n",
       "      <th>count</th>\n",
       "      <th>sum</th>\n",
       "      <th>mean</th>\n",
       "    </tr>\n",
       "  </thead>\n",
       "  <tbody>\n",
       "    <tr>\n",
       "      <th>0</th>\n",
       "      <td>D</td>\n",
       "      <td>349</td>\n",
       "      <td>21</td>\n",
       "      <td>6.017192</td>\n",
       "    </tr>\n",
       "    <tr>\n",
       "      <th>1</th>\n",
       "      <td>B</td>\n",
       "      <td>5014</td>\n",
       "      <td>354</td>\n",
       "      <td>7.060231</td>\n",
       "    </tr>\n",
       "    <tr>\n",
       "      <th>2</th>\n",
       "      <td>A</td>\n",
       "      <td>25</td>\n",
       "      <td>2</td>\n",
       "      <td>8.000000</td>\n",
       "    </tr>\n",
       "    <tr>\n",
       "      <th>3</th>\n",
       "      <td>C</td>\n",
       "      <td>15921</td>\n",
       "      <td>1353</td>\n",
       "      <td>8.498210</td>\n",
       "    </tr>\n",
       "    <tr>\n",
       "      <th>4</th>\n",
       "      <td>E</td>\n",
       "      <td>22</td>\n",
       "      <td>2</td>\n",
       "      <td>9.090909</td>\n",
       "    </tr>\n",
       "  </tbody>\n",
       "</table>\n",
       "</div>"
      ],
      "text/plain": [
       "  total_income_category  count   sum      mean\n",
       "0                     D    349    21  6.017192\n",
       "1                     B   5014   354  7.060231\n",
       "2                     A     25     2  8.000000\n",
       "3                     C  15921  1353  8.498210\n",
       "4                     E     22     2  9.090909"
      ]
     },
     "metadata": {},
     "output_type": "display_data"
    },
    {
     "name": "stdout",
     "output_type": "stream",
     "text": [
      "Разница между клиентами из категории B и C: 16.92 %\n"
     ]
    }
   ],
   "source": [
    "income_debt = data.groupby('total_income_category')['debt'].agg(['count', 'sum', 'mean']).sort_values(by = 'mean')\n",
    "\n",
    "income_debt['mean'] = income_debt['mean']*100\n",
    "\n",
    "income_debt = income_debt.reset_index()\n",
    "\n",
    "income_debt1 =100-(income_debt.loc[1,'mean']/income_debt.loc[3,'mean'])*100\n",
    "\n",
    "display(income_debt)\n",
    "\n",
    "print('Разница между клиентами из категории B и C:',format(income_debt1,'.2f'),'%')"
   ]
  },
  {
   "cell_type": "code",
   "execution_count": 34,
   "id": "332db680",
   "metadata": {},
   "outputs": [
    {
     "data": {
      "image/png": "[encoded data removed]",
      "text/plain": [
       "<Figure size 936x360 with 1 Axes>"
      ]
     },
     "metadata": {
      "needs_background": "light"
     },
     "output_type": "display_data"
    }
   ],
   "source": [
    "plt.rcParams['figure.figsize'] = [13, 5] # указываем размер диаграммы\n",
    "\n",
    "sns.barplot(x=income_debt['total_income_category'],y=income_debt['mean'],palette='coolwarm').set(title='Зависимость возврата кредита в срок от уровня дохода');"
   ]
  },
  {
   "cell_type": "markdown",
   "id": "6dd14b57",
   "metadata": {
    "deletable": false,
    "id": "6dd14b57"
   },
   "source": [
    "**Вывод:** \n",
    "\n",
    "**По итогам полученных данных видим следующее:**\n",
    " - Самые многочисленные выборки - клиенты с доходом от 50.000 до 200.000 рублей (категория 'C') и клиенты с доходом от 200.000 до 1.000.000 рублей (категория 'B').\n",
    " - Клиенты из категории B на 16.92% реже погашают кредит в срок, чем клиенты из категории C."
   ]
  },
  {
   "cell_type": "markdown",
   "id": "1dcc9b12",
   "metadata": {
    "deletable": false,
    "editable": false,
    "id": "1dcc9b12"
   },
   "source": [
    "#### 3.4 Как разные цели кредита влияют на его возврат в срок?"
   ]
  },
  {
   "cell_type": "code",
   "execution_count": 35,
   "id": "6a876df9",
   "metadata": {},
   "outputs": [
    {
     "data": {
      "text/plain": [
       "операции с недвижимостью    10751\n",
       "операции с автомобилем       4279\n",
       "получение образования        3988\n",
       "проведение свадьбы           2313\n",
       "Name: purpose_category, dtype: int64"
      ]
     },
     "execution_count": 35,
     "metadata": {},
     "output_type": "execute_result"
    }
   ],
   "source": [
    "#выведем уникальные значения столбца с целями взятия кредита для оценки репрезентативности выборки\n",
    "data['purpose_category'].value_counts()"
   ]
  },
  {
   "cell_type": "code",
   "execution_count": 36,
   "id": "c602bc8b",
   "metadata": {
    "deletable": false,
    "id": "c602bc8b"
   },
   "outputs": [
    {
     "data": {
      "text/html": [
       "<div>\n",
       "<style scoped>\n",
       "    .dataframe tbody tr th:only-of-type {\n",
       "        vertical-align: middle;\n",
       "    }\n",
       "\n",
       "    .dataframe tbody tr th {\n",
       "        vertical-align: top;\n",
       "    }\n",
       "\n",
       "    .dataframe thead th {\n",
       "        text-align: right;\n",
       "    }\n",
       "</style>\n",
       "<table border=\"1\" class=\"dataframe\">\n",
       "  <thead>\n",
       "    <tr style=\"text-align: right;\">\n",
       "      <th></th>\n",
       "      <th>purpose_category</th>\n",
       "      <th>count</th>\n",
       "      <th>sum</th>\n",
       "      <th>mean</th>\n",
       "    </tr>\n",
       "  </thead>\n",
       "  <tbody>\n",
       "    <tr>\n",
       "      <th>0</th>\n",
       "      <td>операции с недвижимостью</td>\n",
       "      <td>10751</td>\n",
       "      <td>780</td>\n",
       "      <td>7.255139</td>\n",
       "    </tr>\n",
       "    <tr>\n",
       "      <th>1</th>\n",
       "      <td>проведение свадьбы</td>\n",
       "      <td>2313</td>\n",
       "      <td>183</td>\n",
       "      <td>7.911803</td>\n",
       "    </tr>\n",
       "    <tr>\n",
       "      <th>2</th>\n",
       "      <td>получение образования</td>\n",
       "      <td>3988</td>\n",
       "      <td>369</td>\n",
       "      <td>9.252758</td>\n",
       "    </tr>\n",
       "    <tr>\n",
       "      <th>3</th>\n",
       "      <td>операции с автомобилем</td>\n",
       "      <td>4279</td>\n",
       "      <td>400</td>\n",
       "      <td>9.347978</td>\n",
       "    </tr>\n",
       "  </tbody>\n",
       "</table>\n",
       "</div>"
      ],
      "text/plain": [
       "           purpose_category  count  sum      mean\n",
       "0  операции с недвижимостью  10751  780  7.255139\n",
       "1        проведение свадьбы   2313  183  7.911803\n",
       "2     получение образования   3988  369  9.252758\n",
       "3    операции с автомобилем   4279  400  9.347978"
      ]
     },
     "metadata": {},
     "output_type": "display_data"
    },
    {
     "name": "stdout",
     "output_type": "stream",
     "text": [
      "Разница между должниками с кредитами на недвижимость и на операции с автомобилем: 22.39 %\n"
     ]
    }
   ],
   "source": [
    "purpose_debt = data.groupby('purpose_category')['debt'].agg(['count', 'sum', 'mean']).sort_values(by = 'mean')\n",
    "\n",
    "purpose_debt['mean'] = purpose_debt['mean']*100\n",
    "\n",
    "purpose_debt = purpose_debt.reset_index()\n",
    "\n",
    "purpose_debt1 =100-(purpose_debt.loc[0,'mean']/purpose_debt.loc[3,'mean'])*100\n",
    "\n",
    "display(purpose_debt)\n",
    "\n",
    "print('Разница между должниками с кредитами на недвижимость и на операции с автомобилем:',format(purpose_debt1,'.2f'),'%')"
   ]
  },
  {
   "cell_type": "code",
   "execution_count": 37,
   "id": "ab6c903e",
   "metadata": {},
   "outputs": [
    {
     "data": {
      "image/png": "[encoded data removed]",
      "text/plain": [
       "<Figure size 936x360 with 1 Axes>"
      ]
     },
     "metadata": {
      "needs_background": "light"
     },
     "output_type": "display_data"
    }
   ],
   "source": [
    "sns.barplot(x=purpose_debt['purpose_category'],y=purpose_debt['mean'],palette='coolwarm').set(title='Зависимость возврата кредита в срок от цели кредита');"
   ]
  },
  {
   "cell_type": "markdown",
   "id": "cf05ed63",
   "metadata": {
    "deletable": false,
    "id": "cf05ed63"
   },
   "source": [
    "**Вывод:** \n",
    "\n",
    "**По итоговым данным делаем следующие выводы:**\n",
    " - Клиенты, которые берут кредит на недвижимость, чаще всего возвращают кредит в срок. Это можно объяснить серьезной целью кредита и достаточным доходом клиентов, решившихся на покупку собственного жилья.\n",
    " - На втором месте идут клиенты, которые взяли кредит на проведение свадьбы. Сумма кредита на такую цель сравнительно невелика, и поэтому они тоже погашают кредиты в срок чаще других категорий. Также можно предположить финансовую помощь от родителей/родственников, которые помогают с погашением кредита.\n",
    " - Третье и четвертое  место со схожими процентами должников занимают операции с автомобилем и получением образования. Кредит на получение образования чаще берут люди молодого возраста, еще не имеющие стабильного дохода и у которых из-за учебы меньше времени на работу. Процент должников среди операций с автомобилем можно объяснить тем, что автомобиль - необязательный атрибут и люди могли взять кредит на него из-за прихоти или как второй кредит помимо других и поэтому у них не хватает дохода для возврата кредита в срок.\n",
    " -**Разница между должниками с кредитами на недвижимость и с кредитами на операции с автомобилем составила 22.39%.**"
   ]
  },
  {
   "cell_type": "markdown",
   "id": "445b03a4",
   "metadata": {},
   "source": [
    "**Я считаю, что для итогового вывода не хватает данных по возрастным группам среди кредитополучатедлей.**"
   ]
  },
  {
   "cell_type": "code",
   "execution_count": 38,
   "id": "24f588a3",
   "metadata": {},
   "outputs": [],
   "source": [
    "def define_age(age):\n",
    "    try:\n",
    "        if 0 <= age <= 35:\n",
    "            return 'Возраст до 35 лет'\n",
    "        elif 36 <= age <= 45:\n",
    "            return 'Возраст от 36 до 45 лет'\n",
    "        elif 46 <= age <= 55:\n",
    "            return 'Возраст от 46 до 55 лет'\n",
    "        elif age >= 56:\n",
    "            return 'Возраст более 56 лет'\n",
    "    except:\n",
    "        pass"
   ]
  },
  {
   "cell_type": "code",
   "execution_count": 39,
   "id": "59302613",
   "metadata": {},
   "outputs": [],
   "source": [
    "data['age_class'] = data['dob_years'].apply(define_age)"
   ]
  },
  {
   "cell_type": "code",
   "execution_count": 40,
   "id": "a876c2fe",
   "metadata": {},
   "outputs": [
    {
     "data": {
      "text/html": [
       "<div>\n",
       "<style scoped>\n",
       "    .dataframe tbody tr th:only-of-type {\n",
       "        vertical-align: middle;\n",
       "    }\n",
       "\n",
       "    .dataframe tbody tr th {\n",
       "        vertical-align: top;\n",
       "    }\n",
       "\n",
       "    .dataframe thead th {\n",
       "        text-align: right;\n",
       "    }\n",
       "</style>\n",
       "<table border=\"1\" class=\"dataframe\">\n",
       "  <thead>\n",
       "    <tr style=\"text-align: right;\">\n",
       "      <th></th>\n",
       "      <th>age_class</th>\n",
       "      <th>count</th>\n",
       "      <th>sum</th>\n",
       "      <th>mean</th>\n",
       "    </tr>\n",
       "  </thead>\n",
       "  <tbody>\n",
       "    <tr>\n",
       "      <th>0</th>\n",
       "      <td>Возраст более 56 лет</td>\n",
       "      <td>4316</td>\n",
       "      <td>239</td>\n",
       "      <td>5.537535</td>\n",
       "    </tr>\n",
       "    <tr>\n",
       "      <th>1</th>\n",
       "      <td>Возраст от 46 до 55 лет</td>\n",
       "      <td>4788</td>\n",
       "      <td>326</td>\n",
       "      <td>6.808688</td>\n",
       "    </tr>\n",
       "    <tr>\n",
       "      <th>2</th>\n",
       "      <td>Возраст от 36 до 45 лет</td>\n",
       "      <td>5583</td>\n",
       "      <td>464</td>\n",
       "      <td>8.310944</td>\n",
       "    </tr>\n",
       "    <tr>\n",
       "      <th>3</th>\n",
       "      <td>Возраст до 35 лет</td>\n",
       "      <td>6644</td>\n",
       "      <td>703</td>\n",
       "      <td>10.580975</td>\n",
       "    </tr>\n",
       "  </tbody>\n",
       "</table>\n",
       "</div>"
      ],
      "text/plain": [
       "                 age_class  count  sum       mean\n",
       "0     Возраст более 56 лет   4316  239   5.537535\n",
       "1  Возраст от 46 до 55 лет   4788  326   6.808688\n",
       "2  Возраст от 36 до 45 лет   5583  464   8.310944\n",
       "3        Возраст до 35 лет   6644  703  10.580975"
      ]
     },
     "metadata": {},
     "output_type": "display_data"
    },
    {
     "name": "stdout",
     "output_type": "stream",
     "text": [
      "Разница между должниками в возрасте более 56 лет и должниками до 35 лет : 47.67 %\n"
     ]
    }
   ],
   "source": [
    "age_debt = data.groupby('age_class')['debt'].agg(['count', 'sum', 'mean']).sort_values(by = 'mean')\n",
    "\n",
    "age_debt['mean'] = age_debt['mean']*100\n",
    "\n",
    "age_debt = age_debt.reset_index()\n",
    "\n",
    "age_debt1 =100-(age_debt.loc[0,'mean']/age_debt.loc[3,'mean'])*100\n",
    "\n",
    "display(age_debt)\n",
    "\n",
    "print('Разница между должниками в возрасте более 56 лет и должниками до 35 лет :',format(age_debt1,'.2f'),'%')"
   ]
  },
  {
   "cell_type": "code",
   "execution_count": 41,
   "id": "9eff57a3",
   "metadata": {},
   "outputs": [
    {
     "data": {
      "image/png": "[encoded data removed]",
      "text/plain": [
       "<Figure size 936x360 with 1 Axes>"
      ]
     },
     "metadata": {
      "needs_background": "light"
     },
     "output_type": "display_data"
    }
   ],
   "source": [
    "plt.rcParams['figure.figsize'] = [13, 5] # указываем размер диаграммы\n",
    "\n",
    "sns.barplot(x=age_debt['age_class'],y=age_debt['mean'],palette='coolwarm').set(title='Зависимость возврата кредита в срок от возраста');"
   ]
  },
  {
   "cell_type": "markdown",
   "id": "4454dd14",
   "metadata": {},
   "source": [
    "**Вывод по возрастам:**\n",
    " - Хуже всего возвращают кредиты в срок молодые клиенты до 35 лет. Это можно связать с невысоким доходом и большими потребностями в жизни, обязывающими брать большие суммы денег в кредит.\n",
    " - Самыми порядочными кредитополучателями являются клиенты старше 56 лет. Можно предположить, что клиенты в этом возрасте реже нуждаются в операциях, на которые нужны большие суммы, а также уже успели добиться стабильного дохода, позволяющего закрывать потребности.\n",
    " - Клиенты до 35 лет возвращают кредиты в срок на 47.67% реже, чем клиенты из возрастной группы 56+.\n",
    " - Можно смело заявить, что чем моложе клиенты - тем хуже они погашают долги в срок."
   ]
  },
  {
   "cell_type": "markdown",
   "id": "46c1f10b",
   "metadata": {
    "deletable": false,
    "editable": false,
    "id": "46c1f10b"
   },
   "source": [
    "#### 3.5 Приведите возможные причины появления пропусков в исходных данных."
   ]
  },
  {
   "cell_type": "markdown",
   "id": "3697d2a9",
   "metadata": {
    "deletable": false,
    "id": "3697d2a9"
   },
   "source": [
    "*Ответ:* пропуски в исходных данных могли появиться из-за сбоя в программе, так как эти показатели важные при получении кредита \n",
    "и вряд ли клиенты не указывали их. Также пропуски могли появиться из-за ошибки сотрудника, который выгружал данные."
   ]
  },
  {
   "cell_type": "markdown",
   "id": "3137d257",
   "metadata": {
    "deletable": false,
    "editable": false,
    "id": "3137d257"
   },
   "source": [
    "#### 3.6 Объясните, почему заполнить пропуски медианным значением — лучшее решение для количественных переменных."
   ]
  },
  {
   "cell_type": "markdown",
   "id": "cf40012a",
   "metadata": {
    "deletable": false,
    "id": "cf40012a"
   },
   "source": [
    "*Ответ:* пропуски в количественных переменных лучше всего заполнять медианным значением, так как среди количественных значений могут попадаться аномальные числа, в разы отличающиеся от большинства данных, и поэтому среднее значение не покажет адекватный показатель."
   ]
  },
  {
   "cell_type": "markdown",
   "id": "57bc304e",
   "metadata": {
    "deletable": false,
    "editable": false,
    "id": "57bc304e"
   },
   "source": [
    "### Шаг 4: общий вывод."
   ]
  },
  {
   "cell_type": "markdown",
   "id": "1ab75d1c",
   "metadata": {
    "deletable": false,
    "id": "1ab75d1c"
   },
   "source": [
    " - Заказчик предоставил исходные данные - статистику с платежеспособностью клиентов. В выведенной таблице всего 21525 строк с данными, столбцы представляют категории данных о возрасте, семейном положении, уровне дохода, трудовом стаже, типе занятости, количестве детей, цели взятия кредита и образовании. \n",
    "\n",
    " - На стадии предобработки данных были заменены пропущенные значения на медианные с учетом типа занятости. Строки с явными дубликатами были удалены, также как и строки с аномалиями. Была произведена категоризация кредитополучателей по уровню дохода и по целям, на которые был взят кредит.\n",
    "\n",
    " - Самые массовые выборки по количеству детей показывают, что чем больше у клиента детей, тем хуже он погашает кредит в срок. При этом люди, состоящие или состоявшие в браке, ответственнее относятся к возврату кредита в срок. Клиенты, берущие кредит на недвижимость, чаще других погашают кредиты, на операции с автомобилем - наоборот. Самый чувствительный показатель - возраст клиента. Чем моложе клиент - тем реже он погашает кредит в срок. Разница в количестве должников между клиентами до 35 лет и клиентами старше 56 лет составила 47.67%. \n",
    " - Изначальная цель исследования - выявить, влияет ли количество детей и семейное положение клиентов на способность вернуть кредит банку. По итоговым данным можно заявить, что молодые клиенты, не состоящие в браке и имеющие 1 и более детей, гораздо хуже погашают долги по кредитам, чем клиенты в возрасте, состоящие или состоявшие в браке, не заводившие детей или имеющие минимальное количество детей. Я бы советовал обращать внимание прежде всего на эти признаки для будущего прогнозирования платежеспособности клиентов. Я бы рекомендовал перепроверять полученные данные при их сборе или сделать заполнение важных данных обязательным, если это еще не было сделано."
   ]
  }
 ],
 "metadata": {
  "ExecuteTimeLog": [
   {
    "duration": 46,
    "start_time": "2023-12-16T12:59:51.106Z"
   },
   {
    "duration": 543,
    "start_time": "2023-12-16T13:00:09.400Z"
   },
   {
    "duration": 22,
    "start_time": "2023-12-16T13:00:13.583Z"
   },
   {
    "duration": 16,
    "start_time": "2023-12-16T13:00:17.211Z"
   },
   {
    "duration": 12,
    "start_time": "2023-12-16T13:00:32.572Z"
   },
   {
    "duration": 35,
    "start_time": "2023-12-16T13:00:35.654Z"
   },
   {
    "duration": 3,
    "start_time": "2023-12-16T13:00:37.970Z"
   },
   {
    "duration": 8,
    "start_time": "2023-12-16T13:00:40.931Z"
   },
   {
    "duration": 4,
    "start_time": "2023-12-16T13:00:42.640Z"
   },
   {
    "duration": 6,
    "start_time": "2023-12-16T13:00:44.775Z"
   },
   {
    "duration": 5,
    "start_time": "2023-12-16T13:00:46.518Z"
   },
   {
    "duration": 34,
    "start_time": "2023-12-16T13:00:49.818Z"
   },
   {
    "duration": 10,
    "start_time": "2023-12-16T13:00:51.752Z"
   },
   {
    "duration": 3,
    "start_time": "2023-12-16T13:00:53.886Z"
   },
   {
    "duration": 11,
    "start_time": "2023-12-16T13:00:55.554Z"
   },
   {
    "duration": 18,
    "start_time": "2023-12-16T13:00:57.330Z"
   },
   {
    "duration": 17,
    "start_time": "2023-12-16T13:01:00.773Z"
   },
   {
    "duration": 3,
    "start_time": "2023-12-16T13:01:02.635Z"
   },
   {
    "duration": 10,
    "start_time": "2023-12-16T13:01:05.765Z"
   },
   {
    "duration": 6,
    "start_time": "2023-12-16T13:01:12.827Z"
   },
   {
    "duration": 3,
    "start_time": "2023-12-16T13:01:14.786Z"
   },
   {
    "duration": 8,
    "start_time": "2023-12-16T13:01:15.853Z"
   },
   {
    "duration": 20,
    "start_time": "2023-12-16T13:01:19.000Z"
   },
   {
    "duration": 19,
    "start_time": "2023-12-16T13:01:24.456Z"
   },
   {
    "duration": 21,
    "start_time": "2023-12-16T13:01:39.401Z"
   },
   {
    "duration": 21,
    "start_time": "2023-12-16T13:04:02.731Z"
   },
   {
    "duration": 22,
    "start_time": "2023-12-16T13:06:34.795Z"
   },
   {
    "duration": 21,
    "start_time": "2023-12-16T13:16:29.417Z"
   },
   {
    "duration": 20,
    "start_time": "2023-12-16T13:16:51.256Z"
   },
   {
    "duration": 21,
    "start_time": "2023-12-16T13:22:50.719Z"
   },
   {
    "duration": 23,
    "start_time": "2023-12-16T13:30:23.930Z"
   },
   {
    "duration": 44,
    "start_time": "2023-12-16T13:53:25.654Z"
   },
   {
    "duration": 20,
    "start_time": "2023-12-16T13:53:48.418Z"
   },
   {
    "duration": 21,
    "start_time": "2023-12-16T13:55:11.112Z"
   },
   {
    "duration": 20,
    "start_time": "2023-12-16T13:55:29.154Z"
   },
   {
    "duration": 20,
    "start_time": "2023-12-16T13:55:39.523Z"
   },
   {
    "duration": 21,
    "start_time": "2023-12-16T13:55:49.002Z"
   },
   {
    "duration": 21,
    "start_time": "2023-12-16T13:57:08.694Z"
   },
   {
    "duration": 21,
    "start_time": "2023-12-16T13:57:17.314Z"
   },
   {
    "duration": 17,
    "start_time": "2023-12-16T13:58:11.398Z"
   },
   {
    "duration": 18,
    "start_time": "2023-12-16T13:59:27.748Z"
   },
   {
    "duration": 6,
    "start_time": "2023-12-16T14:11:30.816Z"
   },
   {
    "duration": 7,
    "start_time": "2023-12-16T14:11:40.868Z"
   },
   {
    "duration": 4,
    "start_time": "2023-12-16T14:15:34.155Z"
   },
   {
    "duration": 11,
    "start_time": "2023-12-16T14:15:35.197Z"
   },
   {
    "duration": 26,
    "start_time": "2023-12-16T14:16:25.024Z"
   },
   {
    "duration": 22,
    "start_time": "2023-12-16T14:17:28.780Z"
   },
   {
    "duration": 21,
    "start_time": "2023-12-16T14:17:48.369Z"
   },
   {
    "duration": 3,
    "start_time": "2023-12-16T14:30:38.228Z"
   },
   {
    "duration": 12,
    "start_time": "2023-12-16T14:30:39.453Z"
   },
   {
    "duration": 22,
    "start_time": "2023-12-16T14:30:39.994Z"
   },
   {
    "duration": 3,
    "start_time": "2023-12-16T14:31:09.518Z"
   },
   {
    "duration": 9,
    "start_time": "2023-12-16T14:31:09.994Z"
   },
   {
    "duration": 22,
    "start_time": "2023-12-16T14:31:10.485Z"
   },
   {
    "duration": 8,
    "start_time": "2023-12-16T14:46:27.418Z"
   },
   {
    "duration": 22,
    "start_time": "2023-12-16T14:49:55.108Z"
   },
   {
    "duration": 22,
    "start_time": "2023-12-18T15:26:19.460Z"
   },
   {
    "duration": 4,
    "start_time": "2023-12-18T15:33:26.194Z"
   },
   {
    "duration": 9,
    "start_time": "2023-12-18T15:33:27.242Z"
   },
   {
    "duration": 24,
    "start_time": "2023-12-18T15:35:12.018Z"
   },
   {
    "duration": 9,
    "start_time": "2023-12-18T15:41:48.748Z"
   },
   {
    "duration": 9,
    "start_time": "2023-12-18T15:54:36.843Z"
   },
   {
    "duration": 17,
    "start_time": "2023-12-18T15:55:17.711Z"
   },
   {
    "duration": 19,
    "start_time": "2023-12-18T15:55:41.169Z"
   },
   {
    "duration": 7,
    "start_time": "2023-12-18T15:59:35.212Z"
   },
   {
    "duration": 10,
    "start_time": "2023-12-18T15:59:43.214Z"
   },
   {
    "duration": 22,
    "start_time": "2023-12-18T16:01:05.088Z"
   },
   {
    "duration": 22,
    "start_time": "2023-12-18T16:01:50.760Z"
   },
   {
    "duration": 22,
    "start_time": "2023-12-18T16:03:39.401Z"
   },
   {
    "duration": 23,
    "start_time": "2023-12-18T16:04:10.614Z"
   },
   {
    "duration": 21,
    "start_time": "2023-12-18T16:04:27.258Z"
   },
   {
    "duration": 4,
    "start_time": "2023-12-18T16:06:10.869Z"
   },
   {
    "duration": 9,
    "start_time": "2023-12-18T16:06:11.912Z"
   },
   {
    "duration": 25,
    "start_time": "2023-12-18T16:06:13.059Z"
   },
   {
    "duration": 25,
    "start_time": "2023-12-18T16:07:48.801Z"
   },
   {
    "duration": 22,
    "start_time": "2023-12-18T16:07:53.845Z"
   },
   {
    "duration": 6,
    "start_time": "2023-12-18T16:08:45.870Z"
   },
   {
    "duration": 4,
    "start_time": "2023-12-18T16:09:03.531Z"
   },
   {
    "duration": 4,
    "start_time": "2023-12-18T16:09:58.297Z"
   },
   {
    "duration": 9,
    "start_time": "2023-12-18T16:09:59.139Z"
   },
   {
    "duration": 22,
    "start_time": "2023-12-18T16:11:11.320Z"
   },
   {
    "duration": 21,
    "start_time": "2023-12-18T16:16:03.716Z"
   },
   {
    "duration": 23,
    "start_time": "2023-12-18T16:16:31.300Z"
   },
   {
    "duration": 20,
    "start_time": "2023-12-18T16:17:39.734Z"
   },
   {
    "duration": 23,
    "start_time": "2023-12-18T16:24:43.004Z"
   },
   {
    "duration": 23,
    "start_time": "2023-12-18T16:25:30.636Z"
   },
   {
    "duration": 22,
    "start_time": "2023-12-18T16:26:19.755Z"
   },
   {
    "duration": 23,
    "start_time": "2023-12-18T16:28:03.000Z"
   },
   {
    "duration": 22,
    "start_time": "2023-12-18T16:28:13.727Z"
   },
   {
    "duration": 18,
    "start_time": "2023-12-18T16:29:00.988Z"
   },
   {
    "duration": 32,
    "start_time": "2023-12-18T16:29:06.914Z"
   },
   {
    "duration": 21,
    "start_time": "2023-12-18T16:29:45.304Z"
   },
   {
    "duration": 21,
    "start_time": "2023-12-18T16:30:23.443Z"
   },
   {
    "duration": 22,
    "start_time": "2023-12-18T16:30:51.961Z"
   },
   {
    "duration": 28,
    "start_time": "2023-12-18T16:33:47.401Z"
   },
   {
    "duration": 22,
    "start_time": "2023-12-18T16:34:03.430Z"
   },
   {
    "duration": 17,
    "start_time": "2023-12-18T16:36:39.121Z"
   },
   {
    "duration": 17,
    "start_time": "2023-12-18T16:37:47.360Z"
   },
   {
    "duration": 21,
    "start_time": "2023-12-18T16:38:04.122Z"
   },
   {
    "duration": 21,
    "start_time": "2023-12-18T16:40:28.116Z"
   },
   {
    "duration": 22,
    "start_time": "2023-12-18T16:41:28.969Z"
   },
   {
    "duration": 4,
    "start_time": "2023-12-18T16:44:23.876Z"
   },
   {
    "duration": 10,
    "start_time": "2023-12-18T16:44:24.384Z"
   },
   {
    "duration": 25,
    "start_time": "2023-12-18T16:44:25.523Z"
   },
   {
    "duration": 4,
    "start_time": "2023-12-18T16:44:38.496Z"
   },
   {
    "duration": 9,
    "start_time": "2023-12-18T16:44:41.904Z"
   },
   {
    "duration": 24,
    "start_time": "2023-12-18T16:44:43.192Z"
   },
   {
    "duration": 10,
    "start_time": "2023-12-18T16:45:03.653Z"
   },
   {
    "duration": 21,
    "start_time": "2023-12-18T16:45:04.529Z"
   },
   {
    "duration": 23,
    "start_time": "2023-12-18T16:47:52.860Z"
   },
   {
    "duration": 24,
    "start_time": "2023-12-18T16:49:42.183Z"
   },
   {
    "duration": 27,
    "start_time": "2023-12-18T16:50:01.827Z"
   },
   {
    "duration": 22,
    "start_time": "2023-12-18T16:50:27.851Z"
   },
   {
    "duration": 23,
    "start_time": "2023-12-18T16:50:38.977Z"
   },
   {
    "duration": 23,
    "start_time": "2023-12-18T16:51:34.921Z"
   },
   {
    "duration": 24,
    "start_time": "2023-12-18T16:51:43.639Z"
   },
   {
    "duration": 24,
    "start_time": "2023-12-18T16:51:53.690Z"
   },
   {
    "duration": 27,
    "start_time": "2023-12-18T16:52:38.885Z"
   },
   {
    "duration": 24,
    "start_time": "2023-12-18T16:54:08.732Z"
   },
   {
    "duration": 4,
    "start_time": "2023-12-18T16:55:06.070Z"
   },
   {
    "duration": 9,
    "start_time": "2023-12-18T16:55:06.777Z"
   },
   {
    "duration": 22,
    "start_time": "2023-12-18T16:55:07.465Z"
   },
   {
    "duration": 23,
    "start_time": "2023-12-18T16:55:52.472Z"
   },
   {
    "duration": 25,
    "start_time": "2023-12-18T16:56:08.701Z"
   },
   {
    "duration": 24,
    "start_time": "2023-12-18T16:59:11.470Z"
   },
   {
    "duration": 22,
    "start_time": "2023-12-18T16:59:30.183Z"
   },
   {
    "duration": 24,
    "start_time": "2023-12-18T17:01:53.054Z"
   },
   {
    "duration": 19,
    "start_time": "2023-12-18T17:02:06.205Z"
   },
   {
    "duration": 24,
    "start_time": "2023-12-18T17:02:32.631Z"
   },
   {
    "duration": 24,
    "start_time": "2023-12-18T17:06:09.784Z"
   },
   {
    "duration": 20,
    "start_time": "2023-12-18T17:06:39.675Z"
   },
   {
    "duration": 32,
    "start_time": "2023-12-18T17:07:41.614Z"
   },
   {
    "duration": 24,
    "start_time": "2023-12-18T17:08:12.596Z"
   },
   {
    "duration": 25,
    "start_time": "2023-12-18T17:08:33.329Z"
   },
   {
    "duration": 25,
    "start_time": "2023-12-18T17:08:47.707Z"
   },
   {
    "duration": 32,
    "start_time": "2023-12-18T17:09:38.610Z"
   },
   {
    "duration": 21,
    "start_time": "2023-12-18T17:10:40.729Z"
   },
   {
    "duration": 17,
    "start_time": "2023-12-18T17:11:16.983Z"
   },
   {
    "duration": 27,
    "start_time": "2023-12-18T17:13:01.893Z"
   },
   {
    "duration": 20,
    "start_time": "2023-12-18T17:13:36.639Z"
   },
   {
    "duration": 19,
    "start_time": "2023-12-18T17:14:12.152Z"
   },
   {
    "duration": 22,
    "start_time": "2023-12-18T17:14:22.886Z"
   },
   {
    "duration": 19,
    "start_time": "2023-12-18T17:15:04.559Z"
   },
   {
    "duration": 23,
    "start_time": "2023-12-18T17:15:15.029Z"
   },
   {
    "duration": 68,
    "start_time": "2023-12-18T17:16:18.058Z"
   },
   {
    "duration": 22,
    "start_time": "2023-12-18T17:17:31.333Z"
   },
   {
    "duration": 23,
    "start_time": "2023-12-18T17:35:27.702Z"
   },
   {
    "duration": 30,
    "start_time": "2023-12-18T17:37:20.377Z"
   },
   {
    "duration": 23,
    "start_time": "2023-12-18T17:37:39.975Z"
   },
   {
    "duration": 30,
    "start_time": "2023-12-18T17:38:58.111Z"
   },
   {
    "duration": 23,
    "start_time": "2023-12-18T17:39:08.344Z"
   },
   {
    "duration": 25,
    "start_time": "2023-12-18T17:41:59.922Z"
   },
   {
    "duration": 25,
    "start_time": "2023-12-18T17:43:30.123Z"
   },
   {
    "duration": 22,
    "start_time": "2023-12-18T17:43:44.457Z"
   },
   {
    "duration": 26,
    "start_time": "2023-12-18T18:02:31.372Z"
   },
   {
    "duration": 19,
    "start_time": "2023-12-18T18:04:29.012Z"
   },
   {
    "duration": 25,
    "start_time": "2023-12-18T18:05:28.791Z"
   },
   {
    "duration": 24,
    "start_time": "2023-12-18T18:06:38.724Z"
   },
   {
    "duration": 4,
    "start_time": "2023-12-18T18:06:43.790Z"
   },
   {
    "duration": 10,
    "start_time": "2023-12-18T18:06:45.289Z"
   },
   {
    "duration": 27,
    "start_time": "2023-12-18T18:06:45.805Z"
   },
   {
    "duration": 381,
    "start_time": "2023-12-18T18:23:15.012Z"
   },
   {
    "duration": 110,
    "start_time": "2023-12-18T18:26:01.469Z"
   },
   {
    "duration": 102,
    "start_time": "2023-12-18T18:26:34.771Z"
   },
   {
    "duration": 24,
    "start_time": "2023-12-18T18:44:53.115Z"
   },
   {
    "duration": 567,
    "start_time": "2023-12-18T18:44:58.513Z"
   },
   {
    "duration": 132,
    "start_time": "2023-12-18T18:45:00.148Z"
   },
   {
    "duration": 3,
    "start_time": "2023-12-18T18:46:54.065Z"
   },
   {
    "duration": 143,
    "start_time": "2023-12-18T18:47:00.205Z"
   },
   {
    "duration": 2,
    "start_time": "2023-12-18T18:47:10.942Z"
   },
   {
    "duration": 122,
    "start_time": "2023-12-18T18:47:12.678Z"
   },
   {
    "duration": 2,
    "start_time": "2023-12-18T18:47:29.925Z"
   },
   {
    "duration": 131,
    "start_time": "2023-12-18T18:47:31.665Z"
   },
   {
    "duration": 137,
    "start_time": "2023-12-18T18:48:02.851Z"
   },
   {
    "duration": 201,
    "start_time": "2023-12-18T18:52:12.820Z"
   },
   {
    "duration": 118,
    "start_time": "2023-12-18T18:56:30.461Z"
   },
   {
    "duration": 131,
    "start_time": "2023-12-18T18:56:41.304Z"
   },
   {
    "duration": 119,
    "start_time": "2023-12-18T18:56:48.315Z"
   },
   {
    "duration": 35,
    "start_time": "2023-12-18T18:58:42.880Z"
   },
   {
    "duration": 3,
    "start_time": "2023-12-18T18:58:46.431Z"
   },
   {
    "duration": 119,
    "start_time": "2023-12-18T18:58:47.898Z"
   },
   {
    "duration": 129,
    "start_time": "2023-12-18T19:01:48.881Z"
   },
   {
    "duration": 115,
    "start_time": "2023-12-18T19:22:11.889Z"
   },
   {
    "duration": 132,
    "start_time": "2023-12-18T19:22:48.724Z"
   },
   {
    "duration": 9,
    "start_time": "2023-12-18T19:23:55.424Z"
   },
   {
    "duration": 116,
    "start_time": "2023-12-18T19:24:07.275Z"
   },
   {
    "duration": 118,
    "start_time": "2023-12-18T19:24:51.326Z"
   },
   {
    "duration": 51,
    "start_time": "2023-12-19T14:30:49.309Z"
   },
   {
    "duration": 715,
    "start_time": "2023-12-19T14:30:56.271Z"
   },
   {
    "duration": 20,
    "start_time": "2023-12-19T14:30:56.988Z"
   },
   {
    "duration": 15,
    "start_time": "2023-12-19T14:30:57.009Z"
   },
   {
    "duration": 10,
    "start_time": "2023-12-19T14:30:57.026Z"
   },
   {
    "duration": 54,
    "start_time": "2023-12-19T14:30:57.038Z"
   },
   {
    "duration": 3,
    "start_time": "2023-12-19T14:30:57.093Z"
   },
   {
    "duration": 15,
    "start_time": "2023-12-19T14:30:57.098Z"
   },
   {
    "duration": 4,
    "start_time": "2023-12-19T14:30:57.115Z"
   },
   {
    "duration": 31,
    "start_time": "2023-12-19T14:30:57.120Z"
   },
   {
    "duration": 45,
    "start_time": "2023-12-19T14:30:57.153Z"
   },
   {
    "duration": 48,
    "start_time": "2023-12-19T14:30:57.200Z"
   },
   {
    "duration": 10,
    "start_time": "2023-12-19T14:30:57.250Z"
   },
   {
    "duration": 25,
    "start_time": "2023-12-19T14:30:57.261Z"
   },
   {
    "duration": 30,
    "start_time": "2023-12-19T14:30:57.287Z"
   },
   {
    "duration": 32,
    "start_time": "2023-12-19T14:30:57.319Z"
   },
   {
    "duration": 21,
    "start_time": "2023-12-19T14:30:57.352Z"
   },
   {
    "duration": 5,
    "start_time": "2023-12-19T14:30:57.375Z"
   },
   {
    "duration": 27,
    "start_time": "2023-12-19T14:30:57.382Z"
   },
   {
    "duration": 18,
    "start_time": "2023-12-19T14:30:57.411Z"
   },
   {
    "duration": 14,
    "start_time": "2023-12-19T14:30:57.431Z"
   },
   {
    "duration": 34,
    "start_time": "2023-12-19T14:30:57.446Z"
   },
   {
    "duration": 48,
    "start_time": "2023-12-19T14:30:57.481Z"
   },
   {
    "duration": 18,
    "start_time": "2023-12-19T14:31:00.723Z"
   },
   {
    "duration": 18,
    "start_time": "2023-12-19T14:31:45.315Z"
   },
   {
    "duration": 18,
    "start_time": "2023-12-19T14:31:54.767Z"
   },
   {
    "duration": 18,
    "start_time": "2023-12-19T14:34:44.531Z"
   },
   {
    "duration": 24,
    "start_time": "2023-12-19T14:35:33.638Z"
   },
   {
    "duration": 38,
    "start_time": "2023-12-19T14:35:42.776Z"
   },
   {
    "duration": 8,
    "start_time": "2023-12-19T14:35:59.328Z"
   },
   {
    "duration": 3,
    "start_time": "2023-12-19T14:36:06.081Z"
   },
   {
    "duration": 10,
    "start_time": "2023-12-19T14:36:07.098Z"
   },
   {
    "duration": 26,
    "start_time": "2023-12-19T14:36:10.410Z"
   },
   {
    "duration": 6,
    "start_time": "2023-12-19T14:37:19.127Z"
   },
   {
    "duration": 25,
    "start_time": "2023-12-19T14:37:32.197Z"
   },
   {
    "duration": 3,
    "start_time": "2023-12-19T14:37:59.170Z"
   },
   {
    "duration": 10,
    "start_time": "2023-12-19T14:38:01.651Z"
   },
   {
    "duration": 26,
    "start_time": "2023-12-19T14:38:06.828Z"
   },
   {
    "duration": 23,
    "start_time": "2023-12-19T14:38:35.916Z"
   },
   {
    "duration": 903,
    "start_time": "2023-12-19T14:38:58.583Z"
   },
   {
    "duration": 128,
    "start_time": "2023-12-19T14:39:00.192Z"
   },
   {
    "duration": 121,
    "start_time": "2023-12-19T14:39:29.182Z"
   },
   {
    "duration": 48,
    "start_time": "2023-12-19T14:39:36.579Z"
   },
   {
    "duration": 119,
    "start_time": "2023-12-19T14:40:15.378Z"
   },
   {
    "duration": 11,
    "start_time": "2023-12-19T14:40:48.736Z"
   },
   {
    "duration": 339,
    "start_time": "2023-12-19T14:44:46.350Z"
   },
   {
    "duration": 323,
    "start_time": "2023-12-19T14:45:21.867Z"
   },
   {
    "duration": 27,
    "start_time": "2023-12-19T14:45:39.817Z"
   },
   {
    "duration": 3,
    "start_time": "2023-12-19T14:47:00.680Z"
   },
   {
    "duration": 119,
    "start_time": "2023-12-19T14:47:02.729Z"
   },
   {
    "duration": 90,
    "start_time": "2023-12-19T14:49:55.008Z"
   },
   {
    "duration": 373,
    "start_time": "2023-12-19T14:49:59.740Z"
   },
   {
    "duration": 368,
    "start_time": "2023-12-19T14:50:07.786Z"
   },
   {
    "duration": 1317,
    "start_time": "2023-12-19T14:51:04.671Z"
   },
   {
    "duration": 25,
    "start_time": "2023-12-19T14:51:23.615Z"
   },
   {
    "duration": 20,
    "start_time": "2023-12-19T14:52:42.919Z"
   },
   {
    "duration": 23,
    "start_time": "2023-12-19T14:53:28.254Z"
   },
   {
    "duration": 23,
    "start_time": "2023-12-19T14:53:50.719Z"
   },
   {
    "duration": 7,
    "start_time": "2023-12-19T14:54:00.306Z"
   },
   {
    "duration": 23,
    "start_time": "2023-12-19T14:54:15.785Z"
   },
   {
    "duration": 4,
    "start_time": "2023-12-19T14:54:30.050Z"
   },
   {
    "duration": 8,
    "start_time": "2023-12-19T14:54:30.587Z"
   },
   {
    "duration": 23,
    "start_time": "2023-12-19T14:54:31.575Z"
   },
   {
    "duration": 2,
    "start_time": "2023-12-19T14:54:34.919Z"
   },
   {
    "duration": 126,
    "start_time": "2023-12-19T14:54:35.466Z"
   },
   {
    "duration": 109,
    "start_time": "2023-12-19T14:55:09.214Z"
   },
   {
    "duration": 128,
    "start_time": "2023-12-19T14:55:59.891Z"
   },
   {
    "duration": 7,
    "start_time": "2023-12-19T14:56:34.678Z"
   },
   {
    "duration": 214,
    "start_time": "2023-12-19T14:56:52.977Z"
   },
   {
    "duration": 146,
    "start_time": "2023-12-19T14:57:29.782Z"
   },
   {
    "duration": 124,
    "start_time": "2023-12-19T14:57:41.525Z"
   },
   {
    "duration": 125,
    "start_time": "2023-12-19T14:57:52.648Z"
   },
   {
    "duration": 130,
    "start_time": "2023-12-19T14:57:59.774Z"
   },
   {
    "duration": 22,
    "start_time": "2023-12-19T14:58:43.973Z"
   },
   {
    "duration": 135,
    "start_time": "2023-12-19T15:05:17.564Z"
   },
   {
    "duration": 132,
    "start_time": "2023-12-19T15:05:31.293Z"
   },
   {
    "duration": 128,
    "start_time": "2023-12-19T15:05:39.140Z"
   },
   {
    "duration": 136,
    "start_time": "2023-12-19T15:05:42.468Z"
   },
   {
    "duration": 1191,
    "start_time": "2023-12-19T15:06:31.840Z"
   },
   {
    "duration": 147,
    "start_time": "2023-12-19T15:06:44.130Z"
   },
   {
    "duration": 124,
    "start_time": "2023-12-19T15:24:13.282Z"
   },
   {
    "duration": 1222,
    "start_time": "2023-12-19T15:25:28.570Z"
   },
   {
    "duration": 24,
    "start_time": "2023-12-19T15:26:00.779Z"
   },
   {
    "duration": 127,
    "start_time": "2023-12-19T15:26:20.373Z"
   },
   {
    "duration": 206,
    "start_time": "2023-12-19T15:26:44.058Z"
   },
   {
    "duration": 131,
    "start_time": "2023-12-19T15:32:59.182Z"
   },
   {
    "duration": 4,
    "start_time": "2023-12-19T15:45:56.034Z"
   },
   {
    "duration": 11,
    "start_time": "2023-12-19T15:46:00.036Z"
   },
   {
    "duration": 174,
    "start_time": "2023-12-19T15:46:00.049Z"
   },
   {
    "duration": 55,
    "start_time": "2023-12-19T15:46:00.224Z"
   },
   {
    "duration": 72,
    "start_time": "2023-12-19T15:46:00.281Z"
   },
   {
    "duration": 43,
    "start_time": "2023-12-19T15:46:00.355Z"
   },
   {
    "duration": 93,
    "start_time": "2023-12-19T15:46:00.399Z"
   },
   {
    "duration": 121,
    "start_time": "2023-12-19T15:46:00.494Z"
   },
   {
    "duration": 166,
    "start_time": "2023-12-19T15:46:00.616Z"
   },
   {
    "duration": 206,
    "start_time": "2023-12-19T15:46:00.784Z"
   },
   {
    "duration": 147,
    "start_time": "2023-12-19T15:46:00.992Z"
   },
   {
    "duration": 151,
    "start_time": "2023-12-19T15:46:01.141Z"
   },
   {
    "duration": 139,
    "start_time": "2023-12-19T15:46:01.293Z"
   },
   {
    "duration": 179,
    "start_time": "2023-12-19T15:46:01.434Z"
   },
   {
    "duration": 153,
    "start_time": "2023-12-19T15:46:22.271Z"
   },
   {
    "duration": 78,
    "start_time": "2023-12-19T15:49:09.612Z"
   },
   {
    "duration": 15,
    "start_time": "2023-12-19T15:49:09.692Z"
   },
   {
    "duration": 40,
    "start_time": "2023-12-19T15:49:09.708Z"
   },
   {
    "duration": 22,
    "start_time": "2023-12-19T15:49:09.750Z"
   },
   {
    "duration": 34,
    "start_time": "2023-12-19T15:49:09.774Z"
   },
   {
    "duration": 3,
    "start_time": "2023-12-19T15:49:09.810Z"
   },
   {
    "duration": 24,
    "start_time": "2023-12-19T15:49:09.814Z"
   },
   {
    "duration": 6,
    "start_time": "2023-12-19T15:49:09.840Z"
   },
   {
    "duration": 9,
    "start_time": "2023-12-19T15:49:09.847Z"
   },
   {
    "duration": 7,
    "start_time": "2023-12-19T15:49:09.857Z"
   },
   {
    "duration": 37,
    "start_time": "2023-12-19T15:49:09.865Z"
   },
   {
    "duration": 9,
    "start_time": "2023-12-19T15:49:09.904Z"
   },
   {
    "duration": 47,
    "start_time": "2023-12-19T15:49:09.915Z"
   },
   {
    "duration": 53,
    "start_time": "2023-12-19T15:49:09.964Z"
   },
   {
    "duration": 53,
    "start_time": "2023-12-19T15:49:10.019Z"
   },
   {
    "duration": 43,
    "start_time": "2023-12-19T15:49:10.073Z"
   },
   {
    "duration": 35,
    "start_time": "2023-12-19T15:49:10.118Z"
   },
   {
    "duration": 41,
    "start_time": "2023-12-19T15:49:10.154Z"
   },
   {
    "duration": 24,
    "start_time": "2023-12-19T15:49:10.197Z"
   },
   {
    "duration": 25,
    "start_time": "2023-12-19T15:49:10.223Z"
   },
   {
    "duration": 14,
    "start_time": "2023-12-19T15:49:10.250Z"
   },
   {
    "duration": 29,
    "start_time": "2023-12-19T15:49:10.265Z"
   },
   {
    "duration": 22,
    "start_time": "2023-12-19T15:49:10.296Z"
   },
   {
    "duration": 34,
    "start_time": "2023-12-19T15:49:10.319Z"
   },
   {
    "duration": 70,
    "start_time": "2023-12-19T15:49:10.354Z"
   },
   {
    "duration": 93,
    "start_time": "2023-12-19T15:49:10.425Z"
   },
   {
    "duration": 55,
    "start_time": "2023-12-19T15:49:10.520Z"
   },
   {
    "duration": 82,
    "start_time": "2023-12-19T15:49:10.576Z"
   },
   {
    "duration": 138,
    "start_time": "2023-12-19T15:49:10.659Z"
   },
   {
    "duration": 118,
    "start_time": "2023-12-19T15:49:10.798Z"
   },
   {
    "duration": 76,
    "start_time": "2023-12-19T15:49:10.917Z"
   },
   {
    "duration": 82,
    "start_time": "2023-12-19T15:49:10.995Z"
   },
   {
    "duration": 98,
    "start_time": "2023-12-19T15:49:11.078Z"
   },
   {
    "duration": 131,
    "start_time": "2023-12-19T15:49:11.177Z"
   },
   {
    "duration": 143,
    "start_time": "2023-12-19T15:49:11.309Z"
   },
   {
    "duration": 141,
    "start_time": "2023-12-19T15:49:11.453Z"
   },
   {
    "duration": 141,
    "start_time": "2023-12-19T15:49:11.596Z"
   },
   {
    "duration": 158,
    "start_time": "2023-12-19T15:49:11.739Z"
   },
   {
    "duration": 418,
    "start_time": "2023-12-20T06:30:39.342Z"
   },
   {
    "duration": 20,
    "start_time": "2023-12-20T06:30:39.761Z"
   },
   {
    "duration": 14,
    "start_time": "2023-12-20T06:30:39.782Z"
   },
   {
    "duration": 9,
    "start_time": "2023-12-20T06:30:39.798Z"
   },
   {
    "duration": 33,
    "start_time": "2023-12-20T06:30:39.808Z"
   },
   {
    "duration": 3,
    "start_time": "2023-12-20T06:30:39.842Z"
   },
   {
    "duration": 35,
    "start_time": "2023-12-20T06:30:39.847Z"
   },
   {
    "duration": 5,
    "start_time": "2023-12-20T06:30:39.884Z"
   },
   {
    "duration": 8,
    "start_time": "2023-12-20T06:30:39.891Z"
   },
   {
    "duration": 4,
    "start_time": "2023-12-20T06:30:39.902Z"
   },
   {
    "duration": 35,
    "start_time": "2023-12-20T06:30:39.907Z"
   },
   {
    "duration": 33,
    "start_time": "2023-12-20T06:30:39.951Z"
   },
   {
    "duration": 4,
    "start_time": "2023-12-20T06:30:39.986Z"
   },
   {
    "duration": 16,
    "start_time": "2023-12-20T06:30:39.991Z"
   },
   {
    "duration": 56,
    "start_time": "2023-12-20T06:30:40.008Z"
   },
   {
    "duration": 16,
    "start_time": "2023-12-20T06:30:40.065Z"
   },
   {
    "duration": 3,
    "start_time": "2023-12-20T06:30:40.083Z"
   },
   {
    "duration": 44,
    "start_time": "2023-12-20T06:30:40.087Z"
   },
   {
    "duration": 21,
    "start_time": "2023-12-20T06:30:40.132Z"
   },
   {
    "duration": 7,
    "start_time": "2023-12-20T06:30:40.155Z"
   },
   {
    "duration": 18,
    "start_time": "2023-12-20T06:30:40.163Z"
   },
   {
    "duration": 29,
    "start_time": "2023-12-20T06:30:40.183Z"
   },
   {
    "duration": 22,
    "start_time": "2023-12-20T06:30:40.213Z"
   },
   {
    "duration": 6,
    "start_time": "2023-12-20T06:30:40.236Z"
   },
   {
    "duration": 10,
    "start_time": "2023-12-20T06:30:40.243Z"
   },
   {
    "duration": 29,
    "start_time": "2023-12-20T06:30:40.254Z"
   },
   {
    "duration": 50,
    "start_time": "2023-12-20T06:30:40.284Z"
   },
   {
    "duration": 6,
    "start_time": "2023-12-20T06:30:40.337Z"
   },
   {
    "duration": 22,
    "start_time": "2023-12-20T06:30:40.345Z"
   },
   {
    "duration": 3,
    "start_time": "2023-12-20T06:30:40.368Z"
   },
   {
    "duration": 14,
    "start_time": "2023-12-20T06:30:40.373Z"
   },
   {
    "duration": 25,
    "start_time": "2023-12-20T06:30:40.388Z"
   },
   {
    "duration": 852,
    "start_time": "2023-12-20T06:30:40.415Z"
   },
   {
    "duration": 140,
    "start_time": "2023-12-20T06:30:41.269Z"
   },
   {
    "duration": 137,
    "start_time": "2023-12-20T06:30:41.411Z"
   },
   {
    "duration": 145,
    "start_time": "2023-12-20T06:30:41.550Z"
   },
   {
    "duration": 128,
    "start_time": "2023-12-20T06:30:41.697Z"
   },
   {
    "duration": 155,
    "start_time": "2023-12-20T06:30:41.827Z"
   },
   {
    "duration": 11,
    "start_time": "2023-12-20T06:32:31.375Z"
   },
   {
    "duration": 10,
    "start_time": "2023-12-20T06:32:41.164Z"
   },
   {
    "duration": 59,
    "start_time": "2023-12-20T10:42:15.453Z"
   },
   {
    "duration": 626,
    "start_time": "2023-12-20T10:42:24.777Z"
   },
   {
    "duration": 24,
    "start_time": "2023-12-20T10:42:25.405Z"
   },
   {
    "duration": 47,
    "start_time": "2023-12-20T10:42:25.433Z"
   },
   {
    "duration": 32,
    "start_time": "2023-12-20T10:42:25.483Z"
   },
   {
    "duration": 68,
    "start_time": "2023-12-20T10:42:25.517Z"
   },
   {
    "duration": 4,
    "start_time": "2023-12-20T10:42:25.587Z"
   },
   {
    "duration": 29,
    "start_time": "2023-12-20T10:42:25.593Z"
   },
   {
    "duration": 39,
    "start_time": "2023-12-20T10:42:25.623Z"
   },
   {
    "duration": 15,
    "start_time": "2023-12-20T10:42:25.664Z"
   },
   {
    "duration": 18,
    "start_time": "2023-12-20T10:42:25.682Z"
   },
   {
    "duration": 93,
    "start_time": "2023-12-20T10:42:25.702Z"
   },
   {
    "duration": 11,
    "start_time": "2023-12-20T10:42:25.797Z"
   },
   {
    "duration": 37,
    "start_time": "2023-12-20T10:42:25.810Z"
   },
   {
    "duration": 32,
    "start_time": "2023-12-20T10:42:25.849Z"
   },
   {
    "duration": 73,
    "start_time": "2023-12-20T10:42:25.883Z"
   },
   {
    "duration": 27,
    "start_time": "2023-12-20T10:42:25.958Z"
   },
   {
    "duration": 12,
    "start_time": "2023-12-20T10:42:25.987Z"
   },
   {
    "duration": 62,
    "start_time": "2023-12-20T10:42:26.001Z"
   },
   {
    "duration": 10,
    "start_time": "2023-12-20T10:42:26.065Z"
   },
   {
    "duration": 35,
    "start_time": "2023-12-20T10:42:26.077Z"
   },
   {
    "duration": 51,
    "start_time": "2023-12-20T10:42:26.113Z"
   },
   {
    "duration": 36,
    "start_time": "2023-12-20T10:42:26.167Z"
   },
   {
    "duration": 52,
    "start_time": "2023-12-20T10:42:26.205Z"
   },
   {
    "duration": 59,
    "start_time": "2023-12-20T10:42:26.260Z"
   },
   {
    "duration": 37,
    "start_time": "2023-12-20T10:42:26.321Z"
   },
   {
    "duration": 7,
    "start_time": "2023-12-20T10:42:26.363Z"
   },
   {
    "duration": 71,
    "start_time": "2023-12-20T10:42:26.372Z"
   },
   {
    "duration": 45,
    "start_time": "2023-12-20T10:42:26.451Z"
   },
   {
    "duration": 23,
    "start_time": "2023-12-20T10:42:26.497Z"
   },
   {
    "duration": 55,
    "start_time": "2023-12-20T10:42:26.521Z"
   },
   {
    "duration": 11,
    "start_time": "2023-12-20T10:42:26.578Z"
   },
   {
    "duration": 45,
    "start_time": "2023-12-20T10:42:26.591Z"
   },
   {
    "duration": 52,
    "start_time": "2023-12-20T10:42:26.642Z"
   },
   {
    "duration": 1149,
    "start_time": "2023-12-20T10:42:26.696Z"
   },
   {
    "duration": 205,
    "start_time": "2023-12-20T10:42:30.290Z"
   },
   {
    "duration": 630,
    "start_time": "2023-12-23T14:28:25.173Z"
   },
   {
    "duration": 23,
    "start_time": "2023-12-23T14:28:25.805Z"
   },
   {
    "duration": 15,
    "start_time": "2023-12-23T14:28:25.829Z"
   },
   {
    "duration": 10,
    "start_time": "2023-12-23T14:28:25.846Z"
   },
   {
    "duration": 57,
    "start_time": "2023-12-23T14:28:25.858Z"
   },
   {
    "duration": 3,
    "start_time": "2023-12-23T14:28:25.916Z"
   },
   {
    "duration": 15,
    "start_time": "2023-12-23T14:28:25.921Z"
   },
   {
    "duration": 4,
    "start_time": "2023-12-23T14:28:25.937Z"
   },
   {
    "duration": 12,
    "start_time": "2023-12-23T14:28:25.942Z"
   },
   {
    "duration": 4,
    "start_time": "2023-12-23T14:28:25.958Z"
   },
   {
    "duration": 56,
    "start_time": "2023-12-23T14:28:25.963Z"
   },
   {
    "duration": 10,
    "start_time": "2023-12-23T14:28:26.021Z"
   },
   {
    "duration": 4,
    "start_time": "2023-12-23T14:28:26.032Z"
   },
   {
    "duration": 13,
    "start_time": "2023-12-23T14:28:26.037Z"
   },
   {
    "duration": 20,
    "start_time": "2023-12-23T14:28:26.051Z"
   },
   {
    "duration": 16,
    "start_time": "2023-12-23T14:28:26.073Z"
   },
   {
    "duration": 4,
    "start_time": "2023-12-23T14:28:26.114Z"
   },
   {
    "duration": 26,
    "start_time": "2023-12-23T14:28:26.119Z"
   },
   {
    "duration": 23,
    "start_time": "2023-12-23T14:28:26.146Z"
   },
   {
    "duration": 4,
    "start_time": "2023-12-23T14:28:26.171Z"
   },
   {
    "duration": 15,
    "start_time": "2023-12-23T14:28:26.176Z"
   },
   {
    "duration": 22,
    "start_time": "2023-12-23T14:28:26.192Z"
   },
   {
    "duration": 15,
    "start_time": "2023-12-23T14:28:26.216Z"
   },
   {
    "duration": 23,
    "start_time": "2023-12-23T14:28:26.233Z"
   },
   {
    "duration": 6,
    "start_time": "2023-12-23T14:28:26.257Z"
   },
   {
    "duration": 5,
    "start_time": "2023-12-23T14:28:26.264Z"
   },
   {
    "duration": 22,
    "start_time": "2023-12-23T14:28:26.271Z"
   },
   {
    "duration": 38,
    "start_time": "2023-12-23T14:28:26.296Z"
   },
   {
    "duration": 6,
    "start_time": "2023-12-23T14:28:26.336Z"
   },
   {
    "duration": 49,
    "start_time": "2023-12-23T14:28:26.343Z"
   },
   {
    "duration": 8,
    "start_time": "2023-12-23T14:28:26.393Z"
   },
   {
    "duration": 13,
    "start_time": "2023-12-23T14:28:26.403Z"
   },
   {
    "duration": 25,
    "start_time": "2023-12-23T14:28:26.417Z"
   },
   {
    "duration": 900,
    "start_time": "2023-12-23T14:28:26.443Z"
   },
   {
    "duration": 240,
    "start_time": "2023-12-23T14:28:30.063Z"
   },
   {
    "duration": 143,
    "start_time": "2023-12-23T14:28:56.441Z"
   },
   {
    "duration": 143,
    "start_time": "2023-12-23T14:29:52.374Z"
   },
   {
    "duration": 134,
    "start_time": "2023-12-23T14:31:53.143Z"
   },
   {
    "duration": 155,
    "start_time": "2023-12-23T14:35:34.473Z"
   },
   {
    "duration": 157,
    "start_time": "2023-12-23T14:35:55.111Z"
   },
   {
    "duration": 149,
    "start_time": "2023-12-23T14:37:16.451Z"
   },
   {
    "duration": 199,
    "start_time": "2023-12-23T14:37:28.979Z"
   },
   {
    "duration": 133,
    "start_time": "2023-12-23T14:39:13.012Z"
   },
   {
    "duration": 151,
    "start_time": "2023-12-23T14:39:22.415Z"
   },
   {
    "duration": 139,
    "start_time": "2023-12-23T14:39:31.529Z"
   },
   {
    "duration": 132,
    "start_time": "2023-12-23T14:42:04.490Z"
   },
   {
    "duration": 124,
    "start_time": "2023-12-23T14:43:29.532Z"
   },
   {
    "duration": 79,
    "start_time": "2023-12-23T14:43:49.725Z"
   },
   {
    "duration": 144,
    "start_time": "2023-12-23T14:44:04.922Z"
   },
   {
    "duration": 141,
    "start_time": "2023-12-23T14:44:17.382Z"
   },
   {
    "duration": 146,
    "start_time": "2023-12-23T14:44:40.478Z"
   },
   {
    "duration": 134,
    "start_time": "2023-12-23T14:45:25.870Z"
   },
   {
    "duration": 156,
    "start_time": "2023-12-23T14:45:46.754Z"
   },
   {
    "duration": 221,
    "start_time": "2023-12-23T14:45:54.512Z"
   },
   {
    "duration": 7,
    "start_time": "2023-12-23T14:48:14.404Z"
   },
   {
    "duration": 12,
    "start_time": "2023-12-23T14:48:21.600Z"
   },
   {
    "duration": 11,
    "start_time": "2023-12-23T14:49:29.700Z"
   },
   {
    "duration": 1181,
    "start_time": "2023-12-23T15:09:07.754Z"
   },
   {
    "duration": 13,
    "start_time": "2023-12-23T15:10:16.396Z"
   },
   {
    "duration": 13,
    "start_time": "2023-12-23T15:10:22.665Z"
   },
   {
    "duration": 1154,
    "start_time": "2023-12-23T15:11:56.623Z"
   },
   {
    "duration": 1165,
    "start_time": "2023-12-23T15:13:52.010Z"
   },
   {
    "duration": 1290,
    "start_time": "2023-12-23T15:14:34.624Z"
   },
   {
    "duration": 14,
    "start_time": "2023-12-23T15:16:48.613Z"
   },
   {
    "duration": 14,
    "start_time": "2023-12-23T15:19:29.645Z"
   },
   {
    "duration": 15,
    "start_time": "2023-12-23T15:20:12.815Z"
   },
   {
    "duration": 13,
    "start_time": "2023-12-23T15:20:50.007Z"
   },
   {
    "duration": 14,
    "start_time": "2023-12-23T15:21:57.029Z"
   },
   {
    "duration": 94,
    "start_time": "2023-12-23T15:27:30.927Z"
   },
   {
    "duration": 18,
    "start_time": "2023-12-23T15:27:43.387Z"
   },
   {
    "duration": 80,
    "start_time": "2023-12-23T15:28:04.811Z"
   },
   {
    "duration": 18,
    "start_time": "2023-12-23T15:28:46.328Z"
   },
   {
    "duration": 70,
    "start_time": "2023-12-23T15:30:44.591Z"
   },
   {
    "duration": 17,
    "start_time": "2023-12-23T15:32:33.046Z"
   },
   {
    "duration": 20,
    "start_time": "2023-12-23T15:33:07.218Z"
   },
   {
    "duration": 18,
    "start_time": "2023-12-23T15:33:35.717Z"
   },
   {
    "duration": 21,
    "start_time": "2023-12-23T15:35:39.101Z"
   },
   {
    "duration": 15,
    "start_time": "2023-12-23T15:36:05.010Z"
   },
   {
    "duration": 15,
    "start_time": "2023-12-23T15:36:37.390Z"
   },
   {
    "duration": 118,
    "start_time": "2023-12-23T15:38:30.056Z"
   },
   {
    "duration": 3,
    "start_time": "2023-12-23T16:27:24.640Z"
   },
   {
    "duration": 1228,
    "start_time": "2023-12-23T16:27:25.139Z"
   },
   {
    "duration": 21,
    "start_time": "2023-12-23T16:29:04.655Z"
   },
   {
    "duration": 17,
    "start_time": "2023-12-23T16:30:19.851Z"
   },
   {
    "duration": 8,
    "start_time": "2023-12-23T16:30:33.782Z"
   },
   {
    "duration": 24,
    "start_time": "2023-12-23T16:32:00.055Z"
   },
   {
    "duration": 136,
    "start_time": "2023-12-23T16:32:12.536Z"
   },
   {
    "duration": 16,
    "start_time": "2023-12-23T16:32:22.228Z"
   },
   {
    "duration": 16,
    "start_time": "2023-12-23T16:34:37.036Z"
   },
   {
    "duration": 14,
    "start_time": "2023-12-23T16:36:37.292Z"
   },
   {
    "duration": 13,
    "start_time": "2023-12-23T16:37:06.755Z"
   },
   {
    "duration": 16,
    "start_time": "2023-12-23T16:37:36.121Z"
   },
   {
    "duration": 16,
    "start_time": "2023-12-23T16:38:00.084Z"
   },
   {
    "duration": 15,
    "start_time": "2023-12-23T16:39:06.540Z"
   },
   {
    "duration": 134,
    "start_time": "2023-12-23T16:39:17.400Z"
   },
   {
    "duration": 7,
    "start_time": "2023-12-23T16:41:41.319Z"
   },
   {
    "duration": 3,
    "start_time": "2023-12-23T16:51:04.924Z"
   },
   {
    "duration": 8,
    "start_time": "2023-12-23T16:51:05.929Z"
   },
   {
    "duration": 15,
    "start_time": "2023-12-23T16:51:06.653Z"
   },
   {
    "duration": 3,
    "start_time": "2023-12-23T16:51:26.519Z"
   },
   {
    "duration": 7,
    "start_time": "2023-12-23T16:51:26.978Z"
   },
   {
    "duration": 15,
    "start_time": "2023-12-23T16:51:27.470Z"
   },
   {
    "duration": 4,
    "start_time": "2023-12-23T16:52:00.877Z"
   },
   {
    "duration": 7,
    "start_time": "2023-12-23T16:52:01.284Z"
   },
   {
    "duration": 13,
    "start_time": "2023-12-23T16:52:01.732Z"
   },
   {
    "duration": 6,
    "start_time": "2023-12-23T16:53:06.005Z"
   },
   {
    "duration": 3,
    "start_time": "2023-12-23T16:53:52.817Z"
   },
   {
    "duration": 7,
    "start_time": "2023-12-23T16:53:53.357Z"
   },
   {
    "duration": 13,
    "start_time": "2023-12-23T16:53:53.833Z"
   },
   {
    "duration": 4,
    "start_time": "2023-12-23T16:54:03.169Z"
   },
   {
    "duration": 7,
    "start_time": "2023-12-23T16:54:04.540Z"
   },
   {
    "duration": 13,
    "start_time": "2023-12-23T16:54:04.985Z"
   },
   {
    "duration": 8,
    "start_time": "2023-12-23T16:54:38.080Z"
   },
   {
    "duration": 4,
    "start_time": "2023-12-23T16:54:56.789Z"
   },
   {
    "duration": 7,
    "start_time": "2023-12-23T16:54:57.201Z"
   },
   {
    "duration": 7,
    "start_time": "2023-12-23T16:55:08.718Z"
   },
   {
    "duration": 6,
    "start_time": "2023-12-23T16:55:09.081Z"
   },
   {
    "duration": 3,
    "start_time": "2023-12-23T16:56:46.384Z"
   },
   {
    "duration": 7,
    "start_time": "2023-12-23T16:56:46.916Z"
   },
   {
    "duration": 7,
    "start_time": "2023-12-23T16:56:47.343Z"
   },
   {
    "duration": 3,
    "start_time": "2023-12-23T16:58:31.740Z"
   },
   {
    "duration": 6,
    "start_time": "2023-12-23T16:58:32.343Z"
   },
   {
    "duration": 7,
    "start_time": "2023-12-23T16:58:32.740Z"
   },
   {
    "duration": 4,
    "start_time": "2023-12-23T17:00:01.626Z"
   },
   {
    "duration": 7,
    "start_time": "2023-12-23T17:00:01.982Z"
   },
   {
    "duration": 6,
    "start_time": "2023-12-23T17:00:02.481Z"
   },
   {
    "duration": 13,
    "start_time": "2023-12-23T17:00:03.253Z"
   },
   {
    "duration": 3,
    "start_time": "2023-12-23T17:01:18.050Z"
   },
   {
    "duration": 7,
    "start_time": "2023-12-23T17:01:18.426Z"
   },
   {
    "duration": 7,
    "start_time": "2023-12-23T17:01:18.791Z"
   },
   {
    "duration": 7,
    "start_time": "2023-12-23T17:01:50.554Z"
   },
   {
    "duration": 3,
    "start_time": "2023-12-23T17:02:31.970Z"
   },
   {
    "duration": 7,
    "start_time": "2023-12-23T17:02:32.334Z"
   },
   {
    "duration": 7,
    "start_time": "2023-12-23T17:02:32.849Z"
   },
   {
    "duration": 7,
    "start_time": "2023-12-23T17:03:37.034Z"
   },
   {
    "duration": 9,
    "start_time": "2023-12-23T17:04:53.479Z"
   },
   {
    "duration": 5,
    "start_time": "2023-12-23T17:04:59.285Z"
   },
   {
    "duration": 7,
    "start_time": "2023-12-23T17:05:09.582Z"
   },
   {
    "duration": 3,
    "start_time": "2023-12-23T17:06:02.291Z"
   },
   {
    "duration": 6,
    "start_time": "2023-12-23T17:06:02.742Z"
   },
   {
    "duration": 6,
    "start_time": "2023-12-23T17:06:03.114Z"
   },
   {
    "duration": 3,
    "start_time": "2023-12-23T17:06:09.014Z"
   },
   {
    "duration": 7,
    "start_time": "2023-12-23T17:06:09.345Z"
   },
   {
    "duration": 6,
    "start_time": "2023-12-23T17:06:09.694Z"
   },
   {
    "duration": 81,
    "start_time": "2023-12-23T17:07:47.502Z"
   },
   {
    "duration": 74,
    "start_time": "2023-12-23T17:08:10.617Z"
   },
   {
    "duration": 3,
    "start_time": "2023-12-23T17:08:25.136Z"
   },
   {
    "duration": 7,
    "start_time": "2023-12-23T17:08:26.179Z"
   },
   {
    "duration": 6,
    "start_time": "2023-12-23T17:08:26.671Z"
   },
   {
    "duration": 9,
    "start_time": "2023-12-23T17:09:09.255Z"
   },
   {
    "duration": 2,
    "start_time": "2023-12-23T17:13:34.326Z"
   },
   {
    "duration": 7,
    "start_time": "2023-12-23T17:13:34.856Z"
   },
   {
    "duration": 6,
    "start_time": "2023-12-23T17:13:35.155Z"
   },
   {
    "duration": 3,
    "start_time": "2023-12-23T17:14:45.171Z"
   },
   {
    "duration": 8,
    "start_time": "2023-12-23T17:14:45.558Z"
   },
   {
    "duration": 7,
    "start_time": "2023-12-23T17:14:45.866Z"
   },
   {
    "duration": 4,
    "start_time": "2023-12-23T17:15:18.073Z"
   },
   {
    "duration": 8,
    "start_time": "2023-12-23T17:15:18.380Z"
   },
   {
    "duration": 7,
    "start_time": "2023-12-23T17:15:18.720Z"
   },
   {
    "duration": 4,
    "start_time": "2023-12-23T17:15:51.048Z"
   },
   {
    "duration": 8,
    "start_time": "2023-12-23T17:15:51.396Z"
   },
   {
    "duration": 7,
    "start_time": "2023-12-23T17:15:51.743Z"
   },
   {
    "duration": 21,
    "start_time": "2023-12-23T17:15:56.120Z"
   },
   {
    "duration": 3,
    "start_time": "2023-12-23T17:17:55.190Z"
   },
   {
    "duration": 8,
    "start_time": "2023-12-23T17:17:55.554Z"
   },
   {
    "duration": 8,
    "start_time": "2023-12-23T17:17:55.853Z"
   },
   {
    "duration": 13,
    "start_time": "2023-12-23T17:17:56.561Z"
   },
   {
    "duration": 16,
    "start_time": "2023-12-23T17:21:23.407Z"
   },
   {
    "duration": 16,
    "start_time": "2023-12-23T17:21:37.992Z"
   },
   {
    "duration": 1226,
    "start_time": "2023-12-23T17:23:21.837Z"
   },
   {
    "duration": 1215,
    "start_time": "2023-12-23T17:23:31.969Z"
   },
   {
    "duration": 122,
    "start_time": "2023-12-23T17:23:39.904Z"
   },
   {
    "duration": 7,
    "start_time": "2023-12-23T17:27:49.558Z"
   },
   {
    "duration": 9,
    "start_time": "2023-12-23T17:51:33.014Z"
   },
   {
    "duration": 13,
    "start_time": "2023-12-23T17:51:48.353Z"
   },
   {
    "duration": 19,
    "start_time": "2023-12-23T17:52:18.952Z"
   },
   {
    "duration": 13,
    "start_time": "2023-12-23T17:54:10.293Z"
   },
   {
    "duration": 15,
    "start_time": "2023-12-23T17:56:07.443Z"
   },
   {
    "duration": 137,
    "start_time": "2023-12-23T17:57:25.660Z"
   },
   {
    "duration": 15,
    "start_time": "2023-12-23T17:58:33.568Z"
   },
   {
    "duration": 16,
    "start_time": "2023-12-23T17:58:52.847Z"
   },
   {
    "duration": 11,
    "start_time": "2023-12-23T18:05:00.168Z"
   },
   {
    "duration": 14,
    "start_time": "2023-12-23T18:05:11.390Z"
   },
   {
    "duration": 15,
    "start_time": "2023-12-23T18:07:06.362Z"
   },
   {
    "duration": 20,
    "start_time": "2023-12-23T18:07:55.496Z"
   },
   {
    "duration": 74,
    "start_time": "2023-12-23T18:35:53.077Z"
   },
   {
    "duration": 16,
    "start_time": "2023-12-23T18:35:53.153Z"
   },
   {
    "duration": 41,
    "start_time": "2023-12-23T18:35:53.170Z"
   },
   {
    "duration": 16,
    "start_time": "2023-12-23T18:35:53.215Z"
   },
   {
    "duration": 40,
    "start_time": "2023-12-23T18:35:53.233Z"
   },
   {
    "duration": 3,
    "start_time": "2023-12-23T18:35:53.275Z"
   },
   {
    "duration": 10,
    "start_time": "2023-12-23T18:35:53.279Z"
   },
   {
    "duration": 11,
    "start_time": "2023-12-23T18:35:53.291Z"
   },
   {
    "duration": 10,
    "start_time": "2023-12-23T18:35:53.304Z"
   },
   {
    "duration": 3,
    "start_time": "2023-12-23T18:35:53.317Z"
   },
   {
    "duration": 45,
    "start_time": "2023-12-23T18:35:53.322Z"
   },
   {
    "duration": 11,
    "start_time": "2023-12-23T18:35:53.368Z"
   },
   {
    "duration": 23,
    "start_time": "2023-12-23T18:35:53.380Z"
   },
   {
    "duration": 10,
    "start_time": "2023-12-23T18:35:53.405Z"
   },
   {
    "duration": 25,
    "start_time": "2023-12-23T18:35:53.417Z"
   },
   {
    "duration": 17,
    "start_time": "2023-12-23T18:35:53.444Z"
   },
   {
    "duration": 4,
    "start_time": "2023-12-23T18:35:53.462Z"
   },
   {
    "duration": 17,
    "start_time": "2023-12-23T18:35:53.467Z"
   },
   {
    "duration": 34,
    "start_time": "2023-12-23T18:35:53.486Z"
   },
   {
    "duration": 5,
    "start_time": "2023-12-23T18:35:53.521Z"
   },
   {
    "duration": 28,
    "start_time": "2023-12-23T18:35:53.528Z"
   },
   {
    "duration": 27,
    "start_time": "2023-12-23T18:35:53.557Z"
   },
   {
    "duration": 21,
    "start_time": "2023-12-23T18:35:53.585Z"
   },
   {
    "duration": 2,
    "start_time": "2023-12-23T18:35:53.608Z"
   },
   {
    "duration": 151,
    "start_time": "2023-12-23T18:35:53.612Z"
   },
   {
    "duration": 10,
    "start_time": "2023-12-23T18:35:53.765Z"
   },
   {
    "duration": 18,
    "start_time": "2023-12-23T18:35:53.777Z"
   },
   {
    "duration": 18,
    "start_time": "2023-12-23T18:35:53.798Z"
   },
   {
    "duration": 14,
    "start_time": "2023-12-23T18:35:53.818Z"
   },
   {
    "duration": 33,
    "start_time": "2023-12-23T18:35:53.834Z"
   },
   {
    "duration": 110,
    "start_time": "2023-12-23T18:35:53.870Z"
   },
   {
    "duration": 7,
    "start_time": "2023-12-23T18:35:53.981Z"
   },
   {
    "duration": 24,
    "start_time": "2023-12-23T18:35:53.990Z"
   },
   {
    "duration": 135,
    "start_time": "2023-12-23T18:35:54.015Z"
   },
   {
    "duration": 7,
    "start_time": "2023-12-23T18:35:54.151Z"
   },
   {
    "duration": 34,
    "start_time": "2023-12-23T18:35:54.159Z"
   },
   {
    "duration": 639,
    "start_time": "2023-12-25T14:17:33.317Z"
   },
   {
    "duration": 20,
    "start_time": "2023-12-25T14:17:33.958Z"
   },
   {
    "duration": 13,
    "start_time": "2023-12-25T14:17:33.979Z"
   },
   {
    "duration": 16,
    "start_time": "2023-12-25T14:17:33.994Z"
   },
   {
    "duration": 49,
    "start_time": "2023-12-25T14:17:34.012Z"
   },
   {
    "duration": 4,
    "start_time": "2023-12-25T14:17:34.062Z"
   },
   {
    "duration": 13,
    "start_time": "2023-12-25T14:17:34.067Z"
   },
   {
    "duration": 4,
    "start_time": "2023-12-25T14:17:34.082Z"
   },
   {
    "duration": 27,
    "start_time": "2023-12-25T14:17:34.087Z"
   },
   {
    "duration": 11,
    "start_time": "2023-12-25T14:17:34.117Z"
   },
   {
    "duration": 39,
    "start_time": "2023-12-25T14:17:34.129Z"
   },
   {
    "duration": 10,
    "start_time": "2023-12-25T14:17:34.169Z"
   },
   {
    "duration": 3,
    "start_time": "2023-12-25T14:17:34.180Z"
   },
   {
    "duration": 32,
    "start_time": "2023-12-25T14:17:34.185Z"
   },
   {
    "duration": 22,
    "start_time": "2023-12-25T14:17:34.218Z"
   },
   {
    "duration": 16,
    "start_time": "2023-12-25T14:17:34.241Z"
   },
   {
    "duration": 3,
    "start_time": "2023-12-25T14:17:34.258Z"
   },
   {
    "duration": 12,
    "start_time": "2023-12-25T14:17:34.263Z"
   },
   {
    "duration": 7,
    "start_time": "2023-12-25T14:17:34.276Z"
   },
   {
    "duration": 3,
    "start_time": "2023-12-25T14:17:34.285Z"
   },
   {
    "duration": 13,
    "start_time": "2023-12-25T14:17:34.289Z"
   },
   {
    "duration": 8,
    "start_time": "2023-12-25T14:17:34.303Z"
   },
   {
    "duration": 16,
    "start_time": "2023-12-25T14:17:34.312Z"
   },
   {
    "duration": 938,
    "start_time": "2023-12-25T14:17:34.329Z"
   },
   {
    "duration": 141,
    "start_time": "2023-12-25T14:17:35.269Z"
   },
   {
    "duration": 11,
    "start_time": "2023-12-25T14:17:35.412Z"
   },
   {
    "duration": 45,
    "start_time": "2023-12-25T14:17:35.425Z"
   },
   {
    "duration": 24,
    "start_time": "2023-12-25T14:17:35.473Z"
   },
   {
    "duration": 38,
    "start_time": "2023-12-25T14:17:35.498Z"
   },
   {
    "duration": 15,
    "start_time": "2023-12-25T14:17:35.538Z"
   },
   {
    "duration": 104,
    "start_time": "2023-12-25T14:17:35.554Z"
   },
   {
    "duration": 7,
    "start_time": "2023-12-25T14:17:41.081Z"
   },
   {
    "duration": 27,
    "start_time": "2023-12-25T14:17:41.089Z"
   },
   {
    "duration": 125,
    "start_time": "2023-12-25T14:17:41.117Z"
   },
   {
    "duration": 6,
    "start_time": "2023-12-25T14:17:41.244Z"
   },
   {
    "duration": 35,
    "start_time": "2023-12-25T14:17:41.251Z"
   },
   {
    "duration": 1405,
    "start_time": "2023-12-25T14:17:41.288Z"
   },
   {
    "duration": 0,
    "start_time": "2023-12-25T14:17:42.694Z"
   },
   {
    "duration": 0,
    "start_time": "2023-12-25T14:17:42.695Z"
   },
   {
    "duration": 0,
    "start_time": "2023-12-25T14:17:42.696Z"
   },
   {
    "duration": 0,
    "start_time": "2023-12-25T14:17:42.697Z"
   },
   {
    "duration": 1406,
    "start_time": "2023-12-25T14:18:25.755Z"
   },
   {
    "duration": 128,
    "start_time": "2023-12-25T14:18:33.594Z"
   },
   {
    "duration": 80,
    "start_time": "2023-12-25T14:19:03.130Z"
   },
   {
    "duration": 133,
    "start_time": "2023-12-25T14:19:09.448Z"
   },
   {
    "duration": 645,
    "start_time": "2023-12-25T14:20:49.328Z"
   },
   {
    "duration": 13,
    "start_time": "2023-12-25T14:20:59.326Z"
   },
   {
    "duration": 130,
    "start_time": "2023-12-25T14:22:28.489Z"
   },
   {
    "duration": 9,
    "start_time": "2023-12-25T14:24:02.386Z"
   },
   {
    "duration": 4,
    "start_time": "2023-12-25T14:24:32.497Z"
   },
   {
    "duration": 25,
    "start_time": "2023-12-25T14:24:32.503Z"
   },
   {
    "duration": 46,
    "start_time": "2023-12-25T14:24:32.531Z"
   },
   {
    "duration": 160,
    "start_time": "2023-12-25T14:24:32.579Z"
   },
   {
    "duration": 14,
    "start_time": "2023-12-25T14:37:39.643Z"
   },
   {
    "duration": 3,
    "start_time": "2023-12-25T14:41:29.085Z"
   },
   {
    "duration": 8,
    "start_time": "2023-12-25T14:41:30.376Z"
   },
   {
    "duration": 85,
    "start_time": "2023-12-25T14:41:31.204Z"
   },
   {
    "duration": 14,
    "start_time": "2023-12-25T14:41:32.391Z"
   },
   {
    "duration": 14,
    "start_time": "2023-12-25T14:42:12.019Z"
   },
   {
    "duration": 127,
    "start_time": "2023-12-25T14:42:58.548Z"
   },
   {
    "duration": 12,
    "start_time": "2023-12-25T14:49:05.845Z"
   },
   {
    "duration": 127,
    "start_time": "2023-12-25T14:49:23.530Z"
   },
   {
    "duration": 128,
    "start_time": "2023-12-25T14:49:49.035Z"
   },
   {
    "duration": 125,
    "start_time": "2023-12-25T14:50:19.651Z"
   },
   {
    "duration": 135,
    "start_time": "2023-12-25T14:50:42.444Z"
   },
   {
    "duration": 11,
    "start_time": "2023-12-25T14:51:09.680Z"
   },
   {
    "duration": 125,
    "start_time": "2023-12-25T14:51:18.333Z"
   },
   {
    "duration": 121,
    "start_time": "2023-12-25T14:51:42.892Z"
   },
   {
    "duration": 143,
    "start_time": "2023-12-25T14:51:57.795Z"
   },
   {
    "duration": 144,
    "start_time": "2023-12-25T14:52:06.172Z"
   },
   {
    "duration": 138,
    "start_time": "2023-12-25T14:52:26.016Z"
   },
   {
    "duration": 124,
    "start_time": "2023-12-25T14:52:39.433Z"
   },
   {
    "duration": 180,
    "start_time": "2023-12-25T14:52:52.333Z"
   },
   {
    "duration": 127,
    "start_time": "2023-12-25T14:53:09.112Z"
   },
   {
    "duration": 22,
    "start_time": "2023-12-25T15:22:57.840Z"
   },
   {
    "duration": 703,
    "start_time": "2023-12-26T13:33:04.201Z"
   },
   {
    "duration": 23,
    "start_time": "2023-12-26T13:33:04.906Z"
   },
   {
    "duration": 39,
    "start_time": "2023-12-26T13:33:04.930Z"
   },
   {
    "duration": 21,
    "start_time": "2023-12-26T13:33:04.971Z"
   },
   {
    "duration": 56,
    "start_time": "2023-12-26T13:33:04.994Z"
   },
   {
    "duration": 4,
    "start_time": "2023-12-26T13:33:05.051Z"
   },
   {
    "duration": 24,
    "start_time": "2023-12-26T13:33:05.056Z"
   },
   {
    "duration": 7,
    "start_time": "2023-12-26T13:33:05.082Z"
   },
   {
    "duration": 39,
    "start_time": "2023-12-26T13:33:05.091Z"
   },
   {
    "duration": 33,
    "start_time": "2023-12-26T13:33:05.133Z"
   },
   {
    "duration": 52,
    "start_time": "2023-12-26T13:33:05.167Z"
   },
   {
    "duration": 11,
    "start_time": "2023-12-26T13:33:05.221Z"
   },
   {
    "duration": 34,
    "start_time": "2023-12-26T13:33:05.234Z"
   },
   {
    "duration": 18,
    "start_time": "2023-12-26T13:33:05.270Z"
   },
   {
    "duration": 27,
    "start_time": "2023-12-26T13:33:05.290Z"
   },
   {
    "duration": 17,
    "start_time": "2023-12-26T13:33:05.319Z"
   },
   {
    "duration": 30,
    "start_time": "2023-12-26T13:33:05.338Z"
   },
   {
    "duration": 27,
    "start_time": "2023-12-26T13:33:05.370Z"
   },
   {
    "duration": 11,
    "start_time": "2023-12-26T13:33:05.399Z"
   },
   {
    "duration": 34,
    "start_time": "2023-12-26T13:33:05.412Z"
   },
   {
    "duration": 30,
    "start_time": "2023-12-26T13:33:05.448Z"
   },
   {
    "duration": 57,
    "start_time": "2023-12-26T13:33:05.479Z"
   },
   {
    "duration": 21,
    "start_time": "2023-12-26T13:33:05.538Z"
   },
   {
    "duration": 963,
    "start_time": "2023-12-26T13:33:05.560Z"
   },
   {
    "duration": 158,
    "start_time": "2023-12-26T13:33:06.524Z"
   },
   {
    "duration": 14,
    "start_time": "2023-12-26T13:33:06.683Z"
   },
   {
    "duration": 3,
    "start_time": "2023-12-26T13:33:06.699Z"
   },
   {
    "duration": 13,
    "start_time": "2023-12-26T13:33:06.705Z"
   },
   {
    "duration": 22,
    "start_time": "2023-12-26T13:33:06.720Z"
   },
   {
    "duration": 35,
    "start_time": "2023-12-26T13:33:06.744Z"
   },
   {
    "duration": 134,
    "start_time": "2023-12-26T13:33:06.781Z"
   },
   {
    "duration": 10,
    "start_time": "2023-12-26T13:33:06.916Z"
   },
   {
    "duration": 30,
    "start_time": "2023-12-26T13:33:06.927Z"
   },
   {
    "duration": 143,
    "start_time": "2023-12-26T13:33:06.958Z"
   },
   {
    "duration": 7,
    "start_time": "2023-12-26T13:33:07.103Z"
   },
   {
    "duration": 24,
    "start_time": "2023-12-26T13:33:07.111Z"
   },
   {
    "duration": 149,
    "start_time": "2023-12-26T13:33:07.136Z"
   },
   {
    "duration": 3,
    "start_time": "2023-12-26T13:33:07.288Z"
   },
   {
    "duration": 16,
    "start_time": "2023-12-26T13:33:07.293Z"
   },
   {
    "duration": 19,
    "start_time": "2023-12-26T13:33:07.311Z"
   },
   {
    "duration": 157,
    "start_time": "2023-12-26T13:33:07.331Z"
   },
   {
    "duration": 491,
    "start_time": "2023-12-26T16:38:42.214Z"
   },
   {
    "duration": 21,
    "start_time": "2023-12-26T16:38:42.707Z"
   },
   {
    "duration": 15,
    "start_time": "2023-12-26T16:38:42.729Z"
   },
   {
    "duration": 10,
    "start_time": "2023-12-26T16:38:42.745Z"
   },
   {
    "duration": 39,
    "start_time": "2023-12-26T16:38:42.756Z"
   },
   {
    "duration": 4,
    "start_time": "2023-12-26T16:38:42.814Z"
   },
   {
    "duration": 8,
    "start_time": "2023-12-26T16:38:42.819Z"
   },
   {
    "duration": 10,
    "start_time": "2023-12-26T16:38:42.828Z"
   },
   {
    "duration": 9,
    "start_time": "2023-12-26T16:38:42.839Z"
   },
   {
    "duration": 3,
    "start_time": "2023-12-26T16:38:42.851Z"
   },
   {
    "duration": 35,
    "start_time": "2023-12-26T16:38:42.856Z"
   },
   {
    "duration": 30,
    "start_time": "2023-12-26T16:38:42.892Z"
   },
   {
    "duration": 4,
    "start_time": "2023-12-26T16:38:42.923Z"
   },
   {
    "duration": 19,
    "start_time": "2023-12-26T16:38:42.928Z"
   },
   {
    "duration": 28,
    "start_time": "2023-12-26T16:38:42.948Z"
   },
   {
    "duration": 16,
    "start_time": "2023-12-26T16:38:42.977Z"
   },
   {
    "duration": 3,
    "start_time": "2023-12-26T16:38:42.994Z"
   },
   {
    "duration": 22,
    "start_time": "2023-12-26T16:38:42.998Z"
   },
   {
    "duration": 11,
    "start_time": "2023-12-26T16:38:43.022Z"
   },
   {
    "duration": 3,
    "start_time": "2023-12-26T16:38:43.035Z"
   },
   {
    "duration": 16,
    "start_time": "2023-12-26T16:38:43.040Z"
   },
   {
    "duration": 7,
    "start_time": "2023-12-26T16:38:43.058Z"
   },
   {
    "duration": 20,
    "start_time": "2023-12-26T16:38:43.067Z"
   },
   {
    "duration": 935,
    "start_time": "2023-12-26T16:38:43.088Z"
   },
   {
    "duration": 153,
    "start_time": "2023-12-26T16:38:44.025Z"
   },
   {
    "duration": 11,
    "start_time": "2023-12-26T16:38:44.180Z"
   },
   {
    "duration": 3,
    "start_time": "2023-12-26T16:38:44.192Z"
   },
   {
    "duration": 20,
    "start_time": "2023-12-26T16:38:44.198Z"
   },
   {
    "duration": 25,
    "start_time": "2023-12-26T16:38:44.219Z"
   },
   {
    "duration": 16,
    "start_time": "2023-12-26T16:38:44.246Z"
   },
   {
    "duration": 112,
    "start_time": "2023-12-26T16:38:44.263Z"
   },
   {
    "duration": 6,
    "start_time": "2023-12-26T16:38:44.377Z"
   },
   {
    "duration": 29,
    "start_time": "2023-12-26T16:38:44.385Z"
   },
   {
    "duration": 128,
    "start_time": "2023-12-26T16:38:44.415Z"
   },
   {
    "duration": 6,
    "start_time": "2023-12-26T16:38:44.544Z"
   },
   {
    "duration": 26,
    "start_time": "2023-12-26T16:38:44.551Z"
   },
   {
    "duration": 137,
    "start_time": "2023-12-26T16:38:44.579Z"
   },
   {
    "duration": 3,
    "start_time": "2023-12-26T16:38:44.718Z"
   },
   {
    "duration": 58,
    "start_time": "2023-12-26T16:38:44.722Z"
   },
   {
    "duration": 36,
    "start_time": "2023-12-26T16:38:44.781Z"
   },
   {
    "duration": 179,
    "start_time": "2023-12-26T16:38:44.819Z"
   },
   {
    "duration": 222,
    "start_time": "2023-12-26T16:44:05.307Z"
   },
   {
    "duration": 142,
    "start_time": "2023-12-26T16:44:16.279Z"
   }
  ],
  "colab": {
   "provenance": []
  },
  "kernelspec": {
   "display_name": "Python 3 (ipykernel)",
   "language": "python",
   "name": "python3"
  },
  "language_info": {
   "codemirror_mode": {
    "name": "ipython",
    "version": 3
   },
   "file_extension": ".py",
   "mimetype": "text/x-python",
   "name": "python",
   "nbconvert_exporter": "python",
   "pygments_lexer": "ipython3",
   "version": "3.9.5"
  },
  "toc": {
   "base_numbering": 1,
   "nav_menu": {
    "height": "16px",
    "width": "160px"
   },
   "number_sections": true,
   "sideBar": true,
   "skip_h1_title": true,
   "title_cell": "Содержание",
   "title_sidebar": "Contents",
   "toc_cell": true,
   "toc_position": {},
   "toc_section_display": true,
   "toc_window_display": false
  }
 },
 "nbformat": 4,
 "nbformat_minor": 5
}
