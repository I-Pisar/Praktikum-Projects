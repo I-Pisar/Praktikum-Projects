{
 "cells": [
  {
   "cell_type": "markdown",
   "id": "ee4a6957",
   "metadata": {},
   "source": [
    "# Проект: исследование уровня потребительской лояльности среди пользователей телекоммуникационной компании."
   ]
  },
  {
   "cell_type": "markdown",
   "id": "aa4edcc5",
   "metadata": {},
   "source": [
    "Заказчик этого исследования — большая телекоммуникационная компания, которая оказывает услуги на территории всего СНГ. Перед компанией стоит задача определить текущий уровень потребительской лояльности, или NPS (от англ. Net Promoter Score), среди клиентов из России. \n",
    "\n",
    "Чтобы оценить результаты опроса, оценки обычно делят на три группы:\n",
    "- 9-10 баллов — «cторонники» (англ. promoters);\n",
    "- 7-8 баллов — «нейтралы» (англ. passives);\n",
    "- 0-6 баллов — «критики» (англ. detractors).\n",
    "\n",
    "Итоговое значение NPS рассчитывается по формуле: % «сторонников» - % «критиков».\n",
    "\n",
    "Чтобы определить уровень лояльности, клиентам задавали классический вопрос: «Оцените по шкале от 1 до 10 вероятность того, что вы порекомендуете компанию друзьям и знакомым».\n",
    "Компания провела опрос и попросила вас подготовить дашборд с его итогами. Большую базу данных для такой задачи разворачивать не стали и выгрузили данные в SQLite. \n",
    "\n",
    "Мне предстоит выгрузить данные в csv формате с помощью языка структурированных запросов (SQL) из базы данных, затем полчившийся датафрейм загрузить в Tableau и подготовить презентацию с дашбордами, описывающую участников опроса, а также попробовать дать рекомендации по улучшению сервиса для определенных групп пользователей."
   ]
  },
  {
   "cell_type": "markdown",
   "id": "83c50be6",
   "metadata": {},
   "source": [
    "## Подключение к базе"
   ]
  },
  {
   "cell_type": "markdown",
   "id": "3f25db0a",
   "metadata": {},
   "source": [
    "Подключим необходимые для работы библиотеки и загрузим базу данных с информацией об участниках проведенного опроса."
   ]
  },
  {
   "cell_type": "code",
   "execution_count": 2,
   "id": "fc7efa54",
   "metadata": {},
   "outputs": [],
   "source": [
    "import os\n",
    "import pandas as pd\n",
    "import numpy as np\n",
    "\n",
    "from sqlalchemy import create_engine"
   ]
  },
  {
   "cell_type": "code",
   "execution_count": 3,
   "id": "0017f8e7",
   "metadata": {},
   "outputs": [],
   "source": [
    "path_to_db_local = 'telecomm_csi.db'\n",
    "path_to_db_platform = '/datasets/telecomm_csi.db'\n",
    "path_to_db = None\n",
    "\n",
    "if os.path.exists(path_to_db_local):\n",
    "    path_to_db = path_to_db_local\n",
    "elif os.path.exists(path_to_db_platform):\n",
    "    path_to_db = path_to_db_platform\n",
    "else:\n",
    "    raise Exception('Файл с базой данных SQLite не найден!')\n",
    "\n",
    "if path_to_db:\n",
    "    engine = create_engine(f'sqlite:///{path_to_db}', echo=False)"
   ]
  },
  {
   "cell_type": "markdown",
   "id": "97720be5",
   "metadata": {},
   "source": [
    "## Выгрузка данных"
   ]
  },
  {
   "cell_type": "markdown",
   "id": "d1380132",
   "metadata": {},
   "source": [
    "Теперь с помощью SQL напишем запрос, который позволит нам составить датафрейм со всеми необходимыми данными об участниках опроса."
   ]
  },
  {
   "cell_type": "code",
   "execution_count": 9,
   "id": "84ebad43",
   "metadata": {},
   "outputs": [],
   "source": [
    "query = \"\"\"\n",
    "SELECT user_id,\n",
    "    lt_day,\n",
    "    CASE \n",
    "        WHEN lt_day <= 365 THEN 'Новый'\n",
    "        ELSE 'Старый'\n",
    "    END AS is_new,\n",
    "    age,\n",
    "    CASE\n",
    "        WHEN gender_segment = 1 THEN 'Женский'\n",
    "        ELSE 'Мужской'\n",
    "    END AS gender_segment,\n",
    "    os_name,\n",
    "    cpe_type_name,\n",
    "    country,\n",
    "    city,\n",
    "    SUBSTR(ag.title, 4) AS age_segment,\n",
    "    SUBSTR(tr.title, 4) AS traffic_segment,\n",
    "    SUBSTR(lt.title, 4) AS lifetime_segment,\n",
    "    nps_score,\n",
    "    CASE \n",
    "        WHEN nps_score >= 9 THEN 'сторонники'\n",
    "        WHEN nps_score >= 7 THEN 'нейтралы'\n",
    "        WHEN nps_score <= 6 THEN 'критики'\n",
    "    END AS nps_group\n",
    "    \n",
    "FROM user AS u\n",
    "LEFT JOIN location AS loc ON loc.location_id=u.location_id\n",
    "LEFT JOIN age_segment AS ag ON ag.age_gr_id=u.age_gr_id\n",
    "LEFT JOIN traffic_segment AS tr ON tr.tr_gr_id=u.tr_gr_id\n",
    "LEFT JOIN lifetime_segment AS lt ON lt.lt_gr_id=u.lt_gr_id\n",
    "\"\"\""
   ]
  },
  {
   "cell_type": "markdown",
   "id": "bea08a70",
   "metadata": {},
   "source": [
    "Теперь выведем первые 15 строк датафрейма, чтобы убедиться в правильности получившихся данных."
   ]
  },
  {
   "cell_type": "code",
   "execution_count": 10,
   "id": "3965faf2",
   "metadata": {
    "scrolled": true
   },
   "outputs": [
    {
     "data": {
      "text/html": [
       "<div>\n",
       "<style scoped>\n",
       "    .dataframe tbody tr th:only-of-type {\n",
       "        vertical-align: middle;\n",
       "    }\n",
       "\n",
       "    .dataframe tbody tr th {\n",
       "        vertical-align: top;\n",
       "    }\n",
       "\n",
       "    .dataframe thead th {\n",
       "        text-align: right;\n",
       "    }\n",
       "</style>\n",
       "<table border=\"1\" class=\"dataframe\">\n",
       "  <thead>\n",
       "    <tr style=\"text-align: right;\">\n",
       "      <th></th>\n",
       "      <th>user_id</th>\n",
       "      <th>lt_day</th>\n",
       "      <th>is_new</th>\n",
       "      <th>age</th>\n",
       "      <th>gender_segment</th>\n",
       "      <th>os_name</th>\n",
       "      <th>cpe_type_name</th>\n",
       "      <th>country</th>\n",
       "      <th>city</th>\n",
       "      <th>age_segment</th>\n",
       "      <th>traffic_segment</th>\n",
       "      <th>lifetime_segment</th>\n",
       "      <th>nps_score</th>\n",
       "      <th>nps_group</th>\n",
       "    </tr>\n",
       "  </thead>\n",
       "  <tbody>\n",
       "    <tr>\n",
       "      <th>0</th>\n",
       "      <td>A001A2</td>\n",
       "      <td>2320</td>\n",
       "      <td>Старый</td>\n",
       "      <td>45.0</td>\n",
       "      <td>Женский</td>\n",
       "      <td>ANDROID</td>\n",
       "      <td>SMARTPHONE</td>\n",
       "      <td>Россия</td>\n",
       "      <td>Уфа</td>\n",
       "      <td>45-54</td>\n",
       "      <td>1-5</td>\n",
       "      <td>36+</td>\n",
       "      <td>10</td>\n",
       "      <td>сторонники</td>\n",
       "    </tr>\n",
       "    <tr>\n",
       "      <th>1</th>\n",
       "      <td>A001WF</td>\n",
       "      <td>2344</td>\n",
       "      <td>Старый</td>\n",
       "      <td>53.0</td>\n",
       "      <td>Мужской</td>\n",
       "      <td>ANDROID</td>\n",
       "      <td>SMARTPHONE</td>\n",
       "      <td>Россия</td>\n",
       "      <td>Киров</td>\n",
       "      <td>45-54</td>\n",
       "      <td>1-5</td>\n",
       "      <td>36+</td>\n",
       "      <td>10</td>\n",
       "      <td>сторонники</td>\n",
       "    </tr>\n",
       "    <tr>\n",
       "      <th>2</th>\n",
       "      <td>A003Q7</td>\n",
       "      <td>467</td>\n",
       "      <td>Старый</td>\n",
       "      <td>57.0</td>\n",
       "      <td>Мужской</td>\n",
       "      <td>ANDROID</td>\n",
       "      <td>SMARTPHONE</td>\n",
       "      <td>Россия</td>\n",
       "      <td>Москва</td>\n",
       "      <td>55-64</td>\n",
       "      <td>20-25</td>\n",
       "      <td>13-24</td>\n",
       "      <td>10</td>\n",
       "      <td>сторонники</td>\n",
       "    </tr>\n",
       "    <tr>\n",
       "      <th>3</th>\n",
       "      <td>A004TB</td>\n",
       "      <td>4190</td>\n",
       "      <td>Старый</td>\n",
       "      <td>44.0</td>\n",
       "      <td>Женский</td>\n",
       "      <td>IOS</td>\n",
       "      <td>SMARTPHONE</td>\n",
       "      <td>Россия</td>\n",
       "      <td>РостовнаДону</td>\n",
       "      <td>35-44</td>\n",
       "      <td>0.1-1</td>\n",
       "      <td>36+</td>\n",
       "      <td>10</td>\n",
       "      <td>сторонники</td>\n",
       "    </tr>\n",
       "    <tr>\n",
       "      <th>4</th>\n",
       "      <td>A004XT</td>\n",
       "      <td>1163</td>\n",
       "      <td>Старый</td>\n",
       "      <td>24.0</td>\n",
       "      <td>Мужской</td>\n",
       "      <td>ANDROID</td>\n",
       "      <td>SMARTPHONE</td>\n",
       "      <td>Россия</td>\n",
       "      <td>Рязань</td>\n",
       "      <td>16-24</td>\n",
       "      <td>5-10</td>\n",
       "      <td>36+</td>\n",
       "      <td>10</td>\n",
       "      <td>сторонники</td>\n",
       "    </tr>\n",
       "    <tr>\n",
       "      <th>5</th>\n",
       "      <td>A005O0</td>\n",
       "      <td>5501</td>\n",
       "      <td>Старый</td>\n",
       "      <td>42.0</td>\n",
       "      <td>Женский</td>\n",
       "      <td>ANDROID</td>\n",
       "      <td>SMARTPHONE</td>\n",
       "      <td>Россия</td>\n",
       "      <td>Омск</td>\n",
       "      <td>35-44</td>\n",
       "      <td>5-10</td>\n",
       "      <td>36+</td>\n",
       "      <td>6</td>\n",
       "      <td>критики</td>\n",
       "    </tr>\n",
       "    <tr>\n",
       "      <th>6</th>\n",
       "      <td>A0061R</td>\n",
       "      <td>1236</td>\n",
       "      <td>Старый</td>\n",
       "      <td>45.0</td>\n",
       "      <td>Мужской</td>\n",
       "      <td>ANDROID</td>\n",
       "      <td>SMARTPHONE</td>\n",
       "      <td>Россия</td>\n",
       "      <td>Уфа</td>\n",
       "      <td>45-54</td>\n",
       "      <td>10-15</td>\n",
       "      <td>36+</td>\n",
       "      <td>10</td>\n",
       "      <td>сторонники</td>\n",
       "    </tr>\n",
       "    <tr>\n",
       "      <th>7</th>\n",
       "      <td>A009KS</td>\n",
       "      <td>313</td>\n",
       "      <td>Новый</td>\n",
       "      <td>35.0</td>\n",
       "      <td>Мужской</td>\n",
       "      <td>ANDROID</td>\n",
       "      <td>SMARTPHONE</td>\n",
       "      <td>Россия</td>\n",
       "      <td>Москва</td>\n",
       "      <td>35-44</td>\n",
       "      <td>45-50</td>\n",
       "      <td>7-12</td>\n",
       "      <td>10</td>\n",
       "      <td>сторонники</td>\n",
       "    </tr>\n",
       "    <tr>\n",
       "      <th>8</th>\n",
       "      <td>A00AES</td>\n",
       "      <td>3238</td>\n",
       "      <td>Старый</td>\n",
       "      <td>36.0</td>\n",
       "      <td>Женский</td>\n",
       "      <td>ANDROID</td>\n",
       "      <td>SMARTPHONE</td>\n",
       "      <td>Россия</td>\n",
       "      <td>СанктПетербург</td>\n",
       "      <td>35-44</td>\n",
       "      <td>1-5</td>\n",
       "      <td>36+</td>\n",
       "      <td>10</td>\n",
       "      <td>сторонники</td>\n",
       "    </tr>\n",
       "    <tr>\n",
       "      <th>9</th>\n",
       "      <td>A00F70</td>\n",
       "      <td>4479</td>\n",
       "      <td>Старый</td>\n",
       "      <td>54.0</td>\n",
       "      <td>Женский</td>\n",
       "      <td>ANDROID</td>\n",
       "      <td>SMARTPHONE</td>\n",
       "      <td>Россия</td>\n",
       "      <td>Волгоград</td>\n",
       "      <td>45-54</td>\n",
       "      <td>15-20</td>\n",
       "      <td>36+</td>\n",
       "      <td>9</td>\n",
       "      <td>сторонники</td>\n",
       "    </tr>\n",
       "    <tr>\n",
       "      <th>10</th>\n",
       "      <td>A00HL5</td>\n",
       "      <td>5297</td>\n",
       "      <td>Старый</td>\n",
       "      <td>39.0</td>\n",
       "      <td>Мужской</td>\n",
       "      <td>ANDROID</td>\n",
       "      <td>SMARTPHONE</td>\n",
       "      <td>Россия</td>\n",
       "      <td>Тольятти</td>\n",
       "      <td>35-44</td>\n",
       "      <td>25-30</td>\n",
       "      <td>36+</td>\n",
       "      <td>10</td>\n",
       "      <td>сторонники</td>\n",
       "    </tr>\n",
       "    <tr>\n",
       "      <th>11</th>\n",
       "      <td>A00NDN</td>\n",
       "      <td>1374</td>\n",
       "      <td>Старый</td>\n",
       "      <td>21.0</td>\n",
       "      <td>Мужской</td>\n",
       "      <td>ANDROID</td>\n",
       "      <td>SMARTPHONE</td>\n",
       "      <td>Россия</td>\n",
       "      <td>Рязань</td>\n",
       "      <td>16-24</td>\n",
       "      <td>10-15</td>\n",
       "      <td>36+</td>\n",
       "      <td>2</td>\n",
       "      <td>критики</td>\n",
       "    </tr>\n",
       "    <tr>\n",
       "      <th>12</th>\n",
       "      <td>A00P46</td>\n",
       "      <td>179</td>\n",
       "      <td>Новый</td>\n",
       "      <td>27.0</td>\n",
       "      <td>Мужской</td>\n",
       "      <td>ANDROID</td>\n",
       "      <td>SMARTPHONE</td>\n",
       "      <td>Россия</td>\n",
       "      <td>Казань</td>\n",
       "      <td>25-34</td>\n",
       "      <td>45-50</td>\n",
       "      <td>4-6</td>\n",
       "      <td>10</td>\n",
       "      <td>сторонники</td>\n",
       "    </tr>\n",
       "    <tr>\n",
       "      <th>13</th>\n",
       "      <td>A00SA7</td>\n",
       "      <td>667</td>\n",
       "      <td>Старый</td>\n",
       "      <td>60.0</td>\n",
       "      <td>Мужской</td>\n",
       "      <td>ANDROID</td>\n",
       "      <td>TABLET</td>\n",
       "      <td>Россия</td>\n",
       "      <td>Казань</td>\n",
       "      <td>55-64</td>\n",
       "      <td>5-10</td>\n",
       "      <td>13-24</td>\n",
       "      <td>5</td>\n",
       "      <td>критики</td>\n",
       "    </tr>\n",
       "    <tr>\n",
       "      <th>14</th>\n",
       "      <td>A00U8A</td>\n",
       "      <td>2908</td>\n",
       "      <td>Старый</td>\n",
       "      <td>44.0</td>\n",
       "      <td>Женский</td>\n",
       "      <td>ANDROID</td>\n",
       "      <td>SMARTPHONE</td>\n",
       "      <td>Россия</td>\n",
       "      <td>СанктПетербург</td>\n",
       "      <td>35-44</td>\n",
       "      <td>5-10</td>\n",
       "      <td>36+</td>\n",
       "      <td>10</td>\n",
       "      <td>сторонники</td>\n",
       "    </tr>\n",
       "  </tbody>\n",
       "</table>\n",
       "</div>"
      ],
      "text/plain": [
       "   user_id  lt_day  is_new   age gender_segment  os_name cpe_type_name  \\\n",
       "0   A001A2    2320  Старый  45.0        Женский  ANDROID    SMARTPHONE   \n",
       "1   A001WF    2344  Старый  53.0        Мужской  ANDROID    SMARTPHONE   \n",
       "2   A003Q7     467  Старый  57.0        Мужской  ANDROID    SMARTPHONE   \n",
       "3   A004TB    4190  Старый  44.0        Женский      IOS    SMARTPHONE   \n",
       "4   A004XT    1163  Старый  24.0        Мужской  ANDROID    SMARTPHONE   \n",
       "5   A005O0    5501  Старый  42.0        Женский  ANDROID    SMARTPHONE   \n",
       "6   A0061R    1236  Старый  45.0        Мужской  ANDROID    SMARTPHONE   \n",
       "7   A009KS     313   Новый  35.0        Мужской  ANDROID    SMARTPHONE   \n",
       "8   A00AES    3238  Старый  36.0        Женский  ANDROID    SMARTPHONE   \n",
       "9   A00F70    4479  Старый  54.0        Женский  ANDROID    SMARTPHONE   \n",
       "10  A00HL5    5297  Старый  39.0        Мужской  ANDROID    SMARTPHONE   \n",
       "11  A00NDN    1374  Старый  21.0        Мужской  ANDROID    SMARTPHONE   \n",
       "12  A00P46     179   Новый  27.0        Мужской  ANDROID    SMARTPHONE   \n",
       "13  A00SA7     667  Старый  60.0        Мужской  ANDROID        TABLET   \n",
       "14  A00U8A    2908  Старый  44.0        Женский  ANDROID    SMARTPHONE   \n",
       "\n",
       "   country            city age_segment traffic_segment lifetime_segment  \\\n",
       "0   Россия             Уфа       45-54             1-5              36+   \n",
       "1   Россия           Киров       45-54             1-5              36+   \n",
       "2   Россия          Москва       55-64           20-25            13-24   \n",
       "3   Россия    РостовнаДону       35-44           0.1-1              36+   \n",
       "4   Россия          Рязань       16-24            5-10              36+   \n",
       "5   Россия            Омск       35-44            5-10              36+   \n",
       "6   Россия             Уфа       45-54           10-15              36+   \n",
       "7   Россия          Москва       35-44           45-50             7-12   \n",
       "8   Россия  СанктПетербург       35-44             1-5              36+   \n",
       "9   Россия       Волгоград       45-54           15-20              36+   \n",
       "10  Россия        Тольятти       35-44           25-30              36+   \n",
       "11  Россия          Рязань       16-24           10-15              36+   \n",
       "12  Россия          Казань       25-34           45-50              4-6   \n",
       "13  Россия          Казань       55-64            5-10            13-24   \n",
       "14  Россия  СанктПетербург       35-44            5-10              36+   \n",
       "\n",
       "    nps_score   nps_group  \n",
       "0          10  сторонники  \n",
       "1          10  сторонники  \n",
       "2          10  сторонники  \n",
       "3          10  сторонники  \n",
       "4          10  сторонники  \n",
       "5           6     критики  \n",
       "6          10  сторонники  \n",
       "7          10  сторонники  \n",
       "8          10  сторонники  \n",
       "9           9  сторонники  \n",
       "10         10  сторонники  \n",
       "11          2     критики  \n",
       "12         10  сторонники  \n",
       "13          5     критики  \n",
       "14         10  сторонники  "
      ]
     },
     "execution_count": 10,
     "metadata": {},
     "output_type": "execute_result"
    }
   ],
   "source": [
    "df = pd.read_sql(query, engine)\n",
    "df.head(15)"
   ]
  },
  {
   "cell_type": "markdown",
   "id": "539945cb",
   "metadata": {},
   "source": [
    "Данные выгрузились корректно, далее получившийся датафрейм преобразуем в CSV-файл и далее уже будем работать с ним локально в Tableau."
   ]
  },
  {
   "cell_type": "code",
   "execution_count": 6,
   "id": "9db04858",
   "metadata": {},
   "outputs": [],
   "source": [
    "df.to_csv('telecomm_csi_tableau.csv', index=False)"
   ]
  },
  {
   "cell_type": "markdown",
   "id": "7cac8232",
   "metadata": {},
   "source": [
    "Ниже прикрепляю ссылку на мою презентацию исследования в Tableau."
   ]
  },
  {
   "cell_type": "markdown",
   "id": "e8b2c0ed",
   "metadata": {},
   "source": [
    "https://public.tableau.com/app/profile/ignat.pisar/viz/Tableauproject2_17228658160450/sheet0_2?publish=yes\n"
   ]
  },
  {
   "cell_type": "code",
   "execution_count": null,
   "id": "9b94b72e",
   "metadata": {},
   "outputs": [],
   "source": []
  }
 ],
 "metadata": {
  "ExecuteTimeLog": [
   {
    "duration": 524,
    "start_time": "2024-07-29T13:35:47.968Z"
   },
   {
    "duration": 77,
    "start_time": "2024-07-29T13:35:49.083Z"
   },
   {
    "duration": 3,
    "start_time": "2024-07-29T13:35:50.008Z"
   },
   {
    "duration": 452,
    "start_time": "2024-07-29T13:35:50.796Z"
   },
   {
    "duration": 89,
    "start_time": "2024-07-29T13:37:46.326Z"
   },
   {
    "duration": 3,
    "start_time": "2024-07-29T13:38:10.845Z"
   },
   {
    "duration": 364,
    "start_time": "2024-07-29T13:38:12.704Z"
   },
   {
    "duration": 2,
    "start_time": "2024-07-29T13:38:31.968Z"
   },
   {
    "duration": 3600,
    "start_time": "2024-07-29T13:38:33.286Z"
   },
   {
    "duration": 3,
    "start_time": "2024-07-29T14:06:26.603Z"
   },
   {
    "duration": 8006,
    "start_time": "2024-07-29T14:06:27.805Z"
   },
   {
    "duration": 7875,
    "start_time": "2024-07-29T14:11:57.447Z"
   },
   {
    "duration": 489,
    "start_time": "2024-08-05T08:54:21.304Z"
   },
   {
    "duration": 76,
    "start_time": "2024-08-05T08:54:21.795Z"
   },
   {
    "duration": 2,
    "start_time": "2024-08-05T08:54:21.872Z"
   },
   {
    "duration": 4544,
    "start_time": "2024-08-05T08:54:21.876Z"
   },
   {
    "duration": 3557,
    "start_time": "2024-08-05T08:54:26.421Z"
   },
   {
    "duration": 4421,
    "start_time": "2024-08-05T08:55:24.264Z"
   },
   {
    "duration": 2,
    "start_time": "2024-08-05T08:56:38.098Z"
   },
   {
    "duration": 4533,
    "start_time": "2024-08-05T08:56:40.465Z"
   },
   {
    "duration": 4385,
    "start_time": "2024-08-05T09:02:33.492Z"
   },
   {
    "duration": 4506,
    "start_time": "2024-08-05T09:02:49.121Z"
   },
   {
    "duration": 3705,
    "start_time": "2024-08-05T09:07:20.718Z"
   },
   {
    "duration": 2,
    "start_time": "2024-08-05T09:19:04.476Z"
   },
   {
    "duration": 4604,
    "start_time": "2024-08-05T09:19:06.642Z"
   },
   {
    "duration": 2,
    "start_time": "2024-08-05T09:32:00.140Z"
   },
   {
    "duration": 110,
    "start_time": "2024-08-05T09:32:00.144Z"
   },
   {
    "duration": 3,
    "start_time": "2024-08-05T09:32:00.255Z"
   },
   {
    "duration": 4542,
    "start_time": "2024-08-05T09:32:00.259Z"
   },
   {
    "duration": 3642,
    "start_time": "2024-08-05T09:32:04.803Z"
   },
   {
    "duration": 44,
    "start_time": "2024-08-05T09:42:43.300Z"
   },
   {
    "duration": 483,
    "start_time": "2024-08-05T09:42:46.888Z"
   },
   {
    "duration": 90,
    "start_time": "2024-08-05T09:42:47.373Z"
   },
   {
    "duration": 3,
    "start_time": "2024-08-05T09:42:47.465Z"
   },
   {
    "duration": 4675,
    "start_time": "2024-08-05T09:42:47.469Z"
   },
   {
    "duration": 3674,
    "start_time": "2024-08-05T09:42:52.146Z"
   },
   {
    "duration": 3,
    "start_time": "2024-08-05T12:59:03.423Z"
   },
   {
    "duration": 4429,
    "start_time": "2024-08-05T12:59:06.687Z"
   },
   {
    "duration": 3,
    "start_time": "2024-08-05T12:59:41.257Z"
   },
   {
    "duration": 4481,
    "start_time": "2024-08-05T12:59:43.304Z"
   }
  ],
  "kernelspec": {
   "display_name": "Python 3 (ipykernel)",
   "language": "python",
   "name": "python3"
  },
  "language_info": {
   "codemirror_mode": {
    "name": "ipython",
    "version": 3
   },
   "file_extension": ".py",
   "mimetype": "text/x-python",
   "name": "python",
   "nbconvert_exporter": "python",
   "pygments_lexer": "ipython3",
   "version": "3.9.20"
  },
  "toc": {
   "base_numbering": 1,
   "nav_menu": {},
   "number_sections": true,
   "sideBar": true,
   "skip_h1_title": true,
   "title_cell": "Table of Contents",
   "title_sidebar": "Contents",
   "toc_cell": false,
   "toc_position": {},
   "toc_section_display": true,
   "toc_window_display": false
  }
 },
 "nbformat": 4,
 "nbformat_minor": 5
}
