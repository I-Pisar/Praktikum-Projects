{
 "cells": [
  {
   "cell_type": "markdown",
   "id": "bfcad7e9",
   "metadata": {},
   "source": [
    "<div  style=\"border-radius: 10px; box-shadow: 2px 2px 2px; border: 1px solid; padding: 10px \">\n",
    "\n",
    "**Игнат, привет!**\n",
    "\n",
    "Меня зовут Василий Митров и я буду проверять твой проект. Предлагаю общаться на «ты». Если это неприемлемо, то дай мне знать и мы перейдем на «вы». \n",
    "\n",
    "Для удобства я оставлю комментарии в отдельных ячейках Markdown с заголовком «Комментарий ревьюера». Пожалуйста, не перемещай, не изменяй и не удаляй их - так наше общение будет более продуктивным. Я буду использовать цветовую разметку:\n",
    "\n",
    "<div class=\"alert alert-danger\" style=\"border-radius: 10px; box-shadow: 2px 2px 2px; border: 1px solid; padding: 10px \">\n",
    "<b>Комментарий ревьюера</b> \n",
    "    \n",
    "✍ Так выделены самые важные замечания. Без их отработки проект не будет принят. При проверке я обращаю внимание не только на код, но и на интерпретацию и анализ результатов, а также соответствие данных техническому заданию.\n",
    "</div>\n",
    "\n",
    "<div class=\"alert alert-warning\" style=\"border-radius: 10px; box-shadow: 2px 2px 2px; border: 1px solid; padding: 10px \">\n",
    "<b>Комментарий ревьюера</b> \n",
    "    \n",
    "📝 Так выделены небольшие замечания или рекомендации. Постарайся, пожалуйста, учесть эти комментарии в этом проекте или в будущих проектах.\n",
    "</div>\n",
    "\n",
    "<div class=\"alert alert-success\" style=\"border-radius: 10px; box-shadow: 2px 2px 2px; border: 1px solid; padding: 10px \">\n",
    "<b>Комментарий ревьюера</b> \n",
    "    \n",
    "👍 Так выделены все остальные комментарии, включая рекомендации, позитивные моменты или какие-то рассуждения и пояснения.\n",
    "</div>\n",
    "\n",
    "\n",
    "    \n",
    "Давай работать над проектом в диалоге: если ты что-то меняешь в проекте или отвечаешь на мои комментарии — пиши об этом. Мне будет легче отследить изменения, если ты выделишь свои комментарии:\n",
    "\n",
    "<div class=\"alert alert-info\" style=\"border-radius: 10px; box-shadow: 2px 2px 2px; border: 1px solid; padding: 10px \"> \n",
    "<b>Комментарий студента</b> \n",
    "    \n",
    "Например, вот так. Также, если есть какие-то вопросы, или что-то осталось непонятным по ревью - спрашивай в таких блоках и я постараюсь дать ответ.\n",
    "</div>\n",
    "\n",
    "---"
   ]
  },
  {
   "cell_type": "markdown",
   "id": "2f67ecb0",
   "metadata": {},
   "source": [
    "# Проект: Построение дашбордов в Tableau"
   ]
  },
  {
   "cell_type": "markdown",
   "id": "a8149161",
   "metadata": {},
   "source": [
    "В данном проекте я изучу историю TED-конференций с помощью Tableau. В ходе работы я буду строить визуализации, находить особенности в распределении данных по категориям и подкреплять их выводами на основе полученных данных.\n",
    "\n",
    "Ниже прикрепляю ссылку на мое исследование-презентацию.\n"
   ]
  },
  {
   "cell_type": "markdown",
   "id": "0f5f4e5e",
   "metadata": {},
   "source": [
    "https://public.tableau.com/app/profile/ignat.pisar/viz/TEDTableauYand_Project/sheet1?publish=yes"
   ]
  },
  {
   "attachments": {
    "image.png": {
     "image/png": "[encoded data removed]"
    }
   },
   "cell_type": "markdown",
   "id": "c6be0e8e",
   "metadata": {},
   "source": [
    "<div class=\"alert alert-danger\" style=\"border-radius: 10px; box-shadow: 2px 2px 2px; border: 1px solid; padding: 10px \">\n",
    "<b>Комментарий ревьюера v.1</b> \n",
    "    \n",
    "✍ \n",
    "К сожалению отсутствуют название проекта и описание задачи. Это поможет быстро вспомнить, о чем проект, если ты к нему вернешься спустя какое-то время.\n",
    "\n",
    "Все инструкции по оформлению проекта есть на платформе в разделе \"Полезные инструкции для учебы\"\n",
    "    \n",
    "  \n",
    "Также, к сожалению не все дашборды в презентации доступны к просмутру, а именно: \"Тематикии страны\", а таже \"Дашборд на свободную тему\". Прошу тебя перепроверить и прислать полную и работоспособную версию для проверки.\n",
    "    \n",
    "    \n",
    "![image.png](attachment:image.png)\n",
    "</div>"
   ]
  },
  {
   "cell_type": "markdown",
   "id": "ddf48f95",
   "metadata": {},
   "source": [
    "# История выступлений"
   ]
  },
  {
   "cell_type": "markdown",
   "id": "d2732ce9",
   "metadata": {},
   "source": [
    "<div class=\"alert alert-success\" style=\"border-radius: 10px; box-shadow: 2px 2px 2px; border: 1px solid; padding: 10px \">\n",
    "<b>Комментарий ревьюера v.2</b> \n",
    "    \n",
    "👍 \n",
    "Сделано хорошо:\n",
    "\n",
    "- дашборд соответствует макету;\n",
    "- правильно настроен Action на фильтрацию;\n",
    "- выводы понятны и логичны.\n",
    "\n",
    "\n",
    "</div>"
   ]
  },
  {
   "cell_type": "markdown",
   "id": "64f406b7",
   "metadata": {},
   "source": [
    "<div class=\"alert alert-warning\" style=\"border-radius: 10px; box-shadow: 2px 2px 2px; border: 1px solid; padding: 10px \">\n",
    "<b>Комментарий ревьюера v.2</b> \n",
    "    \n",
    "📝 \n",
    "Также мы можем добавить краткие описания графиков на всех слайдах.\n",
    "    \n",
    "\n",
    "</div>"
   ]
  },
  {
   "cell_type": "markdown",
   "id": "8c1fef70",
   "metadata": {},
   "source": [
    "# Тематика выступлений"
   ]
  },
  {
   "cell_type": "markdown",
   "id": "430f4778",
   "metadata": {},
   "source": [
    "<div class=\"alert alert-success\" style=\"border-radius: 10px; box-shadow: 2px 2px 2px; border: 1px solid; padding: 10px \">\n",
    "<b>Комментарий ревьюера v.2</b> \n",
    "    \n",
    "👍 \n",
    "    \n",
    "\n",
    "- дашборд соответствует макету;\n",
    "- правильно настроен Action на фильтрацию;\n",
    "- корректность вычисляемых полей;\n",
    "- всплывающие подсказки содержат нужные гистограммы\n",
    "- есть ответы на поставленные вопросы.\n",
    "</div>"
   ]
  },
  {
   "cell_type": "markdown",
   "id": "4b68cbed",
   "metadata": {},
   "source": [
    "# Авторы выступлений"
   ]
  },
  {
   "cell_type": "markdown",
   "id": "4c330be7",
   "metadata": {},
   "source": [
    "<div class=\"alert alert-success\" style=\"border-radius: 10px; box-shadow: 2px 2px 2px; border: 1px solid; padding: 10px \">\n",
    "<b>Комментарий ревьюера v.2</b> \n",
    "    \n",
    "👍 \n",
    "- параметр Top-N  работает корректно,\n",
    "- на дашборде настроен Action, фильтрующий таблицы, также здорово, что таблицы отсортированы;\n",
    "- есть ответы на поставленные вопросы.\n",
    "</div>"
   ]
  },
  {
   "cell_type": "markdown",
   "id": "318eb7ca",
   "metadata": {},
   "source": [
    "# Дашборд на свободную тему"
   ]
  },
  {
   "cell_type": "markdown",
   "id": "97c38945",
   "metadata": {},
   "source": [
    "<div class=\"alert alert-success\" style=\"border-radius: 10px; box-shadow: 2px 2px 2px; border: 1px solid; padding: 10px \">\n",
    "<b>Комментарий ревьюера v.2</b> \n",
    "    \n",
    "👍 \n",
    "- здорово, что выполнен дашборд на свободную тему,\n",
    "- отлично подобраны типы визуализаций;\n",
    "- на дашборде есть выводы и наблюдения.\n",
    "</div>"
   ]
  },
  {
   "cell_type": "markdown",
   "id": "493ea8db",
   "metadata": {},
   "source": [
    "<div style=\"border:solid blue 3px; padding: 20px\" >\n",
    "<div class=\"alert alert-success\">\n",
    "<b>Обратная связь v.1</b> \n",
    "    \n",
    "👋 Игнат, у тебя получилась очень сильная и хорошая работа. Я готов принять твой проект и если у тебя не осталось каких-либо вопросов, то пришли свой проект на повторное ревью и он будет принят 😊\n",
    "\n",
    "* Если тебе интересна тема визуализации, то можешь пройти вот этот крутой и бесплатный курс по табло — https://tableau.pro/m01 (переходить по дням можно, если менять цифру в ссылке).\n",
    "\n",
    "* Потом советую посмотреть на такой инструмент, как Redash — https://redash.io/help/user-guide/getting-started. Это надстройка над SQL-запросами, которая позволяет строить красивые таблички и графики в веб-интерфейсе, а потом собирать из них дашборды. \n",
    "\n",
    "* А вот сайт Ромы Бунина — https://revealthedata.com/ По-моему мнению, он один из самых крутых специалистов по визуализации в России. У него есть телеграм канал, блог и много всего интересного, что поможет расширить знания по визуализации.\n",
    "\n",
    "* Знание BI-инструментов — это крайне полезно в работе аналитика, во многих вакансиях встречаются требования по инструментам для построения дашбордов.\n"
   ]
  },
  {
   "cell_type": "markdown",
   "id": "a001eac4",
   "metadata": {},
   "source": [
    "<div class=\"alert alert-info\" style=\"border-radius: 10px; box-shadow: 2px 2px 2px; border: 1px solid; padding: 10px \"> \n",
    "<b>Комментарий студента</b> \n",
    "    Василий, большое спасибо за проверку и за полезные ссылки! Пожалуй, оставлю проект как есть, хочу перейти скорее к сборному проекту :)"
   ]
  },
  {
   "cell_type": "markdown",
   "id": "c6982175",
   "metadata": {},
   "source": [
    "<div style=\"border:solid indigo 3px; padding: 20px\">\n",
    "<div class=\"alert alert-success\">\n",
    "<b>Обратная связь v.2</b> \n",
    "    \n",
    "👋 \n",
    "      \n",
    "Игнат, спасибо тебе за хорошую работу.\n",
    "    \n",
    "Поздравляю с успешным завершением проекта 🥳 🎉\n",
    "    \n",
    "И желаю успехов в новых работах 😊"
   ]
  }
 ],
 "metadata": {
  "kernelspec": {
   "display_name": "Python 3 (ipykernel)",
   "language": "python",
   "name": "python3"
  },
  "language_info": {
   "codemirror_mode": {
    "name": "ipython",
    "version": 3
   },
   "file_extension": ".py",
   "mimetype": "text/x-python",
   "name": "python",
   "nbconvert_exporter": "python",
   "pygments_lexer": "ipython3",
   "version": "3.9.5"
  },
  "toc": {
   "base_numbering": 1,
   "nav_menu": {},
   "number_sections": true,
   "sideBar": true,
   "skip_h1_title": true,
   "title_cell": "Table of Contents",
   "title_sidebar": "Contents",
   "toc_cell": false,
   "toc_position": {},
   "toc_section_display": true,
   "toc_window_display": false
  }
 },
 "nbformat": 4,
 "nbformat_minor": 5
}
