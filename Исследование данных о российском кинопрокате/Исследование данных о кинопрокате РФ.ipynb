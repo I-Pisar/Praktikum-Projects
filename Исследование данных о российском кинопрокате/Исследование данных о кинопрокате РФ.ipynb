{
 "cells": [
  {
   "cell_type": "markdown",
   "metadata": {
    "toc": true
   },
   "source": [
    "<h1>Содержание<span class=\"tocSkip\"></span></h1>\n",
    "<div class=\"toc\"><ul class=\"toc-item\"><li><span><a href=\"#Выгрузка-данных\" data-toc-modified-id=\"Выгрузка-данных-1\"><span class=\"toc-item-num\">1&nbsp;&nbsp;</span>Выгрузка данных</a></span></li><li><span><a href=\"#Предобработка-данных\" data-toc-modified-id=\"Предобработка-данных-2\"><span class=\"toc-item-num\">2&nbsp;&nbsp;</span>Предобработка данных</a></span><ul class=\"toc-item\"><li><span><a href=\"#Проверим-типы-данных\" data-toc-modified-id=\"Проверим-типы-данных-2.1\"><span class=\"toc-item-num\">2.1&nbsp;&nbsp;</span>Проверим типы данных</a></span></li><li><span><a href=\"#Изучим-пропуски-в-датафрейме\" data-toc-modified-id=\"Изучим-пропуски-в-датафрейме-2.2\"><span class=\"toc-item-num\">2.2&nbsp;&nbsp;</span>Изучим пропуски в датафрейме</a></span></li><li><span><a href=\"#Изучим-наличие-дубликатов-в-датафрейме\" data-toc-modified-id=\"Изучим-наличие-дубликатов-в-датафрейме-2.3\"><span class=\"toc-item-num\">2.3&nbsp;&nbsp;</span>Изучим наличие дубликатов в датафрейме</a></span></li><li><span><a href=\"#Изучим-категориальные-значения\" data-toc-modified-id=\"Изучим-категориальные-значения-2.4\"><span class=\"toc-item-num\">2.4&nbsp;&nbsp;</span>Изучим категориальные значения</a></span></li><li><span><a href=\"#Проверим-количественные-значения\" data-toc-modified-id=\"Проверим-количественные-значения-2.5\"><span class=\"toc-item-num\">2.5&nbsp;&nbsp;</span>Проверим количественные значения</a></span></li><li><span><a href=\"#Добавление-новых-данных\" data-toc-modified-id=\"Добавление-новых-данных-2.6\"><span class=\"toc-item-num\">2.6&nbsp;&nbsp;</span>Добавление новых данных</a></span></li></ul></li><li><span><a href=\"#Исследовательский-анализ-данных\" data-toc-modified-id=\"Исследовательский-анализ-данных-3\"><span class=\"toc-item-num\">3&nbsp;&nbsp;</span>Исследовательский анализ данных</a></span><ul class=\"toc-item\"><li><span><a href=\"#Исследуем-фильмы,-которые-получили-государственную-поддержку\" data-toc-modified-id=\"Исследуем-фильмы,-которые-получили-государственную-поддержку-3.1\"><span class=\"toc-item-num\">3.1&nbsp;&nbsp;</span>Исследуем фильмы, которые получили государственную поддержку</a></span></li></ul></li><li><span><a href=\"#Общий-вывод\" data-toc-modified-id=\"Общий-вывод-4\"><span class=\"toc-item-num\">4&nbsp;&nbsp;</span>Общий вывод</a></span></li></ul></div>"
   ]
  },
  {
   "cell_type": "markdown",
   "metadata": {
    "id": "sIfNaMOxgFyK"
   },
   "source": [
    "# Исследование данных о российском кинопрокате\n",
    "\n"
   ]
  },
  {
   "cell_type": "markdown",
   "metadata": {},
   "source": [
    "У нас на руках данные Министерства культуры Российской Федерации — информация о руководителях, возрастной категории, рейтинге, бюджете и сборах  фильмов, вышедших на экраны с 2010 по 2019 г. \n",
    "\n",
    "Цель проекта — изучить рынок кино, определить интересы зрителей, сборы разных жанров фильмов.\n",
    "\n",
    "\n",
    "**Ход исследования:**\n",
    "\n",
    "- предобработать имеющиеся данные;\n",
    "- изучить объёмы сборов в разбивке по годам / жанрам / возрастным категориям;\n",
    "- проанализировать суммы выделенных государственных средств на производство картин;\n",
    "- выполнить анализ окупаемости фильмов каждого из жанров;\n",
    "- изучить средний рейтинг кинолент каждого из жанров.\n",
    "\n",
    "**Мое исследование пройдет в шесть этапов:**\n",
    " - Обзор данных.\n",
    " - Предобработка данных.\n",
    " - Расчеты и добавление новых показателей.\n",
    " - Исследовательский анализ данных.\n",
    " - Изучение фильмов, получивших господдержку.\n",
    " - Формирование итогового вывода."
   ]
  },
  {
   "cell_type": "markdown",
   "metadata": {
    "id": "3bSlkCsbgFyL"
   },
   "source": [
    "##  Выгрузка данных\n",
    "\n",
    "Объединим данные таким образом, чтобы все объекты из датасета `mkrf_movies` обязательно вошли в получившийся датафрейм. \n",
    "\n",
    "<div id=\"accordion\">\n",
    "    <div class=\"card\">\n",
    "        <div class=\"card-header\" id=\"headingThree\">\n",
    "            <button class=\"btn btn-link collapsed\" data-toggle=\"collapse\" data-target=\"#collapseHint_0\" aria-expanded=\"false\" "
   ]
  },
  {
   "cell_type": "markdown",
   "metadata": {},
   "source": [
    "**Для начала импортируем все библиотеки, которые понадобятся и могут нам понадобиться при исследовании.**"
   ]
  },
  {
   "cell_type": "code",
   "execution_count": 2,
   "metadata": {
    "id": "dw87FlzMgFyM"
   },
   "outputs": [],
   "source": [
    "import pandas as pd\n",
    "pd.set_option('display.float_format', '{:,.2f}'.format)\n",
    "pd.options.mode.chained_assignment = None\n",
    "#приведем числа к удобно читаемому формату и избавимся от будущих ошибок о цепном назначении\n",
    "\n",
    "import matplotlib.pyplot as plt\n",
    "import numpy as np\n",
    "import seaborn as sns"
   ]
  },
  {
   "cell_type": "markdown",
   "metadata": {},
   "source": [
    "Откроем первую предоставленную таблицу."
   ]
  },
  {
   "cell_type": "code",
   "execution_count": 3,
   "metadata": {},
   "outputs": [],
   "source": [
    "data_1 = pd.read_csv('/datasets/mkrf_movies.csv')\n",
    "#загрузим первый датафрейм"
   ]
  },
  {
   "cell_type": "code",
   "execution_count": 4,
   "metadata": {},
   "outputs": [
    {
     "data": {
      "text/html": [
       "<div>\n",
       "<style scoped>\n",
       "    .dataframe tbody tr th:only-of-type {\n",
       "        vertical-align: middle;\n",
       "    }\n",
       "\n",
       "    .dataframe tbody tr th {\n",
       "        vertical-align: top;\n",
       "    }\n",
       "\n",
       "    .dataframe thead th {\n",
       "        text-align: right;\n",
       "    }\n",
       "</style>\n",
       "<table border=\"1\" class=\"dataframe\">\n",
       "  <thead>\n",
       "    <tr style=\"text-align: right;\">\n",
       "      <th></th>\n",
       "      <th>title</th>\n",
       "      <th>puNumber</th>\n",
       "      <th>show_start_date</th>\n",
       "      <th>type</th>\n",
       "      <th>film_studio</th>\n",
       "      <th>production_country</th>\n",
       "      <th>director</th>\n",
       "      <th>producer</th>\n",
       "      <th>age_restriction</th>\n",
       "      <th>refundable_support</th>\n",
       "      <th>nonrefundable_support</th>\n",
       "      <th>budget</th>\n",
       "      <th>financing_source</th>\n",
       "      <th>ratings</th>\n",
       "      <th>genres</th>\n",
       "    </tr>\n",
       "  </thead>\n",
       "  <tbody>\n",
       "    <tr>\n",
       "      <th>0</th>\n",
       "      <td>Открытый простор</td>\n",
       "      <td>221048915</td>\n",
       "      <td>2015-11-27T12:00:00.000Z</td>\n",
       "      <td>Художественный</td>\n",
       "      <td>Тачстоун Пикчерз, Кобальт Пикчерз, Бикон Пикче...</td>\n",
       "      <td>США</td>\n",
       "      <td>Кевин Костнер</td>\n",
       "      <td>Дэвид Валдес, Кевин Костнер, Джейк Эбертс</td>\n",
       "      <td>«18+» - запрещено для детей</td>\n",
       "      <td>NaN</td>\n",
       "      <td>NaN</td>\n",
       "      <td>NaN</td>\n",
       "      <td>NaN</td>\n",
       "      <td>7.2</td>\n",
       "      <td>боевик,драма,мелодрама</td>\n",
       "    </tr>\n",
       "    <tr>\n",
       "      <th>1</th>\n",
       "      <td>Особо важное задание</td>\n",
       "      <td>111013716</td>\n",
       "      <td>2016-09-13T12:00:00.000Z</td>\n",
       "      <td>Художественный</td>\n",
       "      <td>Киностудия \"Мосфильм\"</td>\n",
       "      <td>СССР</td>\n",
       "      <td>Е.Матвеев</td>\n",
       "      <td>NaN</td>\n",
       "      <td>«6+» - для детей старше 6 лет</td>\n",
       "      <td>NaN</td>\n",
       "      <td>NaN</td>\n",
       "      <td>NaN</td>\n",
       "      <td>NaN</td>\n",
       "      <td>6.6</td>\n",
       "      <td>драма,военный</td>\n",
       "    </tr>\n",
       "    <tr>\n",
       "      <th>2</th>\n",
       "      <td>Особо опасен</td>\n",
       "      <td>221038416</td>\n",
       "      <td>2016-10-10T12:00:00.000Z</td>\n",
       "      <td>Художественный</td>\n",
       "      <td>Юниверсал Пикчерз, Кикстарт Продакшнз, Марк Пл...</td>\n",
       "      <td>США</td>\n",
       "      <td>Тимур Бекмамбетов</td>\n",
       "      <td>Джим Лемли, Джейсон Нетер, Марк Е.Платт, Яйн Смит</td>\n",
       "      <td>«18+» - запрещено для детей</td>\n",
       "      <td>NaN</td>\n",
       "      <td>NaN</td>\n",
       "      <td>NaN</td>\n",
       "      <td>NaN</td>\n",
       "      <td>6.8</td>\n",
       "      <td>фантастика,боевик,триллер</td>\n",
       "    </tr>\n",
       "    <tr>\n",
       "      <th>3</th>\n",
       "      <td>Особо опасен</td>\n",
       "      <td>221026916</td>\n",
       "      <td>2016-06-10T12:00:00.000Z</td>\n",
       "      <td>Художественный</td>\n",
       "      <td>Юниверсал Пикчерз, Кикстарт Продакшнз, Марк Пл...</td>\n",
       "      <td>США</td>\n",
       "      <td>Тимур Бекмамбетов</td>\n",
       "      <td>Джим Лемли, Джейсон Нетер, Марк Е.Платт, Яйн Смит</td>\n",
       "      <td>«18+» - запрещено для детей</td>\n",
       "      <td>NaN</td>\n",
       "      <td>NaN</td>\n",
       "      <td>NaN</td>\n",
       "      <td>NaN</td>\n",
       "      <td>6.8</td>\n",
       "      <td>фантастика,боевик,триллер</td>\n",
       "    </tr>\n",
       "    <tr>\n",
       "      <th>4</th>\n",
       "      <td>Особо опасен</td>\n",
       "      <td>221030815</td>\n",
       "      <td>2015-07-29T12:00:00.000Z</td>\n",
       "      <td>Художественный</td>\n",
       "      <td>Юниверсал Пикчерз, Кикстарт Продакшнз, Марк Пл...</td>\n",
       "      <td>США</td>\n",
       "      <td>Тимур Бекмамбетов</td>\n",
       "      <td>Джим Лемли, Джейсон Нетер, Марк Е.Платт, Яйн Смит</td>\n",
       "      <td>«18+» - запрещено для детей</td>\n",
       "      <td>NaN</td>\n",
       "      <td>NaN</td>\n",
       "      <td>NaN</td>\n",
       "      <td>NaN</td>\n",
       "      <td>6.8</td>\n",
       "      <td>фантастика,боевик,триллер</td>\n",
       "    </tr>\n",
       "  </tbody>\n",
       "</table>\n",
       "</div>"
      ],
      "text/plain": [
       "                  title   puNumber           show_start_date            type  \\\n",
       "0      Открытый простор  221048915  2015-11-27T12:00:00.000Z  Художественный   \n",
       "1  Особо важное задание  111013716  2016-09-13T12:00:00.000Z  Художественный   \n",
       "2          Особо опасен  221038416  2016-10-10T12:00:00.000Z  Художественный   \n",
       "3          Особо опасен  221026916  2016-06-10T12:00:00.000Z  Художественный   \n",
       "4          Особо опасен  221030815  2015-07-29T12:00:00.000Z  Художественный   \n",
       "\n",
       "                                         film_studio production_country  \\\n",
       "0  Тачстоун Пикчерз, Кобальт Пикчерз, Бикон Пикче...                США   \n",
       "1                              Киностудия \"Мосфильм\"               СССР   \n",
       "2  Юниверсал Пикчерз, Кикстарт Продакшнз, Марк Пл...                США   \n",
       "3  Юниверсал Пикчерз, Кикстарт Продакшнз, Марк Пл...                США   \n",
       "4  Юниверсал Пикчерз, Кикстарт Продакшнз, Марк Пл...                США   \n",
       "\n",
       "            director                                           producer  \\\n",
       "0      Кевин Костнер          Дэвид Валдес, Кевин Костнер, Джейк Эбертс   \n",
       "1          Е.Матвеев                                                NaN   \n",
       "2  Тимур Бекмамбетов  Джим Лемли, Джейсон Нетер, Марк Е.Платт, Яйн Смит   \n",
       "3  Тимур Бекмамбетов  Джим Лемли, Джейсон Нетер, Марк Е.Платт, Яйн Смит   \n",
       "4  Тимур Бекмамбетов  Джим Лемли, Джейсон Нетер, Марк Е.Платт, Яйн Смит   \n",
       "\n",
       "                 age_restriction  refundable_support  nonrefundable_support  \\\n",
       "0    «18+» - запрещено для детей                 NaN                    NaN   \n",
       "1  «6+» - для детей старше 6 лет                 NaN                    NaN   \n",
       "2    «18+» - запрещено для детей                 NaN                    NaN   \n",
       "3    «18+» - запрещено для детей                 NaN                    NaN   \n",
       "4    «18+» - запрещено для детей                 NaN                    NaN   \n",
       "\n",
       "   budget financing_source ratings                     genres  \n",
       "0     NaN              NaN     7.2     боевик,драма,мелодрама  \n",
       "1     NaN              NaN     6.6              драма,военный  \n",
       "2     NaN              NaN     6.8  фантастика,боевик,триллер  \n",
       "3     NaN              NaN     6.8  фантастика,боевик,триллер  \n",
       "4     NaN              NaN     6.8  фантастика,боевик,триллер  "
      ]
     },
     "execution_count": 4,
     "metadata": {},
     "output_type": "execute_result"
    }
   ],
   "source": [
    "data_1.head()\n",
    "#выведем первые 5 строк первой таблицы"
   ]
  },
  {
   "cell_type": "code",
   "execution_count": 5,
   "metadata": {},
   "outputs": [
    {
     "name": "stdout",
     "output_type": "stream",
     "text": [
      "<class 'pandas.core.frame.DataFrame'>\n",
      "RangeIndex: 7486 entries, 0 to 7485\n",
      "Data columns (total 15 columns):\n",
      " #   Column                 Non-Null Count  Dtype  \n",
      "---  ------                 --------------  -----  \n",
      " 0   title                  7486 non-null   object \n",
      " 1   puNumber               7486 non-null   object \n",
      " 2   show_start_date        7486 non-null   object \n",
      " 3   type                   7486 non-null   object \n",
      " 4   film_studio            7468 non-null   object \n",
      " 5   production_country     7484 non-null   object \n",
      " 6   director               7477 non-null   object \n",
      " 7   producer               6918 non-null   object \n",
      " 8   age_restriction        7486 non-null   object \n",
      " 9   refundable_support     332 non-null    float64\n",
      " 10  nonrefundable_support  332 non-null    float64\n",
      " 11  budget                 332 non-null    float64\n",
      " 12  financing_source       332 non-null    object \n",
      " 13  ratings                6519 non-null   object \n",
      " 14  genres                 6510 non-null   object \n",
      "dtypes: float64(3), object(12)\n",
      "memory usage: 877.4+ KB\n"
     ]
    }
   ],
   "source": [
    "data_1.info()\n",
    "#посмотрим информацию о первом датафрейме"
   ]
  },
  {
   "cell_type": "markdown",
   "metadata": {},
   "source": [
    "***\n",
    "Теперь откроем вторую таблицу.\n",
    "***"
   ]
  },
  {
   "cell_type": "code",
   "execution_count": 6,
   "metadata": {},
   "outputs": [],
   "source": [
    "data_2 = pd.read_csv('/datasets/mkrf_shows.csv')\n",
    "#загрузим второй датафрейм"
   ]
  },
  {
   "cell_type": "code",
   "execution_count": 7,
   "metadata": {},
   "outputs": [
    {
     "data": {
      "text/html": [
       "<div>\n",
       "<style scoped>\n",
       "    .dataframe tbody tr th:only-of-type {\n",
       "        vertical-align: middle;\n",
       "    }\n",
       "\n",
       "    .dataframe tbody tr th {\n",
       "        vertical-align: top;\n",
       "    }\n",
       "\n",
       "    .dataframe thead th {\n",
       "        text-align: right;\n",
       "    }\n",
       "</style>\n",
       "<table border=\"1\" class=\"dataframe\">\n",
       "  <thead>\n",
       "    <tr style=\"text-align: right;\">\n",
       "      <th></th>\n",
       "      <th>puNumber</th>\n",
       "      <th>box_office</th>\n",
       "    </tr>\n",
       "  </thead>\n",
       "  <tbody>\n",
       "    <tr>\n",
       "      <th>0</th>\n",
       "      <td>111000113</td>\n",
       "      <td>2,450.00</td>\n",
       "    </tr>\n",
       "    <tr>\n",
       "      <th>1</th>\n",
       "      <td>111000115</td>\n",
       "      <td>61,040.00</td>\n",
       "    </tr>\n",
       "    <tr>\n",
       "      <th>2</th>\n",
       "      <td>111000116</td>\n",
       "      <td>153,030,013.40</td>\n",
       "    </tr>\n",
       "    <tr>\n",
       "      <th>3</th>\n",
       "      <td>111000117</td>\n",
       "      <td>12,260,956.00</td>\n",
       "    </tr>\n",
       "    <tr>\n",
       "      <th>4</th>\n",
       "      <td>111000118</td>\n",
       "      <td>163,684,057.79</td>\n",
       "    </tr>\n",
       "  </tbody>\n",
       "</table>\n",
       "</div>"
      ],
      "text/plain": [
       "    puNumber     box_office\n",
       "0  111000113       2,450.00\n",
       "1  111000115      61,040.00\n",
       "2  111000116 153,030,013.40\n",
       "3  111000117  12,260,956.00\n",
       "4  111000118 163,684,057.79"
      ]
     },
     "execution_count": 7,
     "metadata": {},
     "output_type": "execute_result"
    }
   ],
   "source": [
    "data_2.head()\n",
    "#выведем первые 5 строк второй таблицы"
   ]
  },
  {
   "cell_type": "code",
   "execution_count": 8,
   "metadata": {},
   "outputs": [
    {
     "name": "stdout",
     "output_type": "stream",
     "text": [
      "<class 'pandas.core.frame.DataFrame'>\n",
      "RangeIndex: 3158 entries, 0 to 3157\n",
      "Data columns (total 2 columns):\n",
      " #   Column      Non-Null Count  Dtype  \n",
      "---  ------      --------------  -----  \n",
      " 0   puNumber    3158 non-null   int64  \n",
      " 1   box_office  3158 non-null   float64\n",
      "dtypes: float64(1), int64(1)\n",
      "memory usage: 49.5 KB\n"
     ]
    }
   ],
   "source": [
    "data_2.info()\n",
    "#посмотрим информацию о второй таблице"
   ]
  },
  {
   "cell_type": "markdown",
   "metadata": {},
   "source": [
    "***\n",
    "Соединять 2 таблицы в одну будем по столбцу **puNumber**, для этого сначала нужно привести тип данных этого столбца к одному в обеих таблицах. В первой таблице у него тип данных *object*, нам нужно привести его к *int*.\n",
    "***"
   ]
  },
  {
   "cell_type": "code",
   "execution_count": 9,
   "metadata": {},
   "outputs": [
    {
     "data": {
      "text/plain": [
       "804      111004112\n",
       "3962     111000110\n",
       "4768     111000111\n",
       "729      111000112\n",
       "1128     111000113\n",
       "           ...    \n",
       "4355     226017410\n",
       "3992     226019110\n",
       "1011     231001012\n",
       "5249     231001111\n",
       "1797           нет\n",
       "Name: puNumber, Length: 7486, dtype: object"
      ]
     },
     "execution_count": 9,
     "metadata": {},
     "output_type": "execute_result"
    }
   ],
   "source": [
    "data_1['puNumber'].sort_values()\n",
    "#выведем список уникальных значений столбца puNumber"
   ]
  },
  {
   "cell_type": "code",
   "execution_count": 10,
   "metadata": {},
   "outputs": [
    {
     "data": {
      "text/html": [
       "<div>\n",
       "<style scoped>\n",
       "    .dataframe tbody tr th:only-of-type {\n",
       "        vertical-align: middle;\n",
       "    }\n",
       "\n",
       "    .dataframe tbody tr th {\n",
       "        vertical-align: top;\n",
       "    }\n",
       "\n",
       "    .dataframe thead th {\n",
       "        text-align: right;\n",
       "    }\n",
       "</style>\n",
       "<table border=\"1\" class=\"dataframe\">\n",
       "  <thead>\n",
       "    <tr style=\"text-align: right;\">\n",
       "      <th></th>\n",
       "      <th>title</th>\n",
       "      <th>puNumber</th>\n",
       "      <th>show_start_date</th>\n",
       "      <th>type</th>\n",
       "      <th>film_studio</th>\n",
       "      <th>production_country</th>\n",
       "      <th>director</th>\n",
       "      <th>producer</th>\n",
       "      <th>age_restriction</th>\n",
       "      <th>refundable_support</th>\n",
       "      <th>nonrefundable_support</th>\n",
       "      <th>budget</th>\n",
       "      <th>financing_source</th>\n",
       "      <th>ratings</th>\n",
       "      <th>genres</th>\n",
       "    </tr>\n",
       "  </thead>\n",
       "  <tbody>\n",
       "    <tr>\n",
       "      <th>804</th>\n",
       "      <td>Паранормальный Якутск</td>\n",
       "      <td>111004112</td>\n",
       "      <td>2012-08-24T12:00:00.000Z</td>\n",
       "      <td>Художественный</td>\n",
       "      <td>ИП Тимофеев К.П.</td>\n",
       "      <td>Россия</td>\n",
       "      <td>К.Тимофеев</td>\n",
       "      <td>NaN</td>\n",
       "      <td>«16+» - для детей старше 16 лет</td>\n",
       "      <td>NaN</td>\n",
       "      <td>NaN</td>\n",
       "      <td>NaN</td>\n",
       "      <td>NaN</td>\n",
       "      <td>NaN</td>\n",
       "      <td>NaN</td>\n",
       "    </tr>\n",
       "    <tr>\n",
       "      <th>1797</th>\n",
       "      <td>Курбан-роман. (История с жертвой)</td>\n",
       "      <td>нет</td>\n",
       "      <td>2014-05-15T12:00:00.000Z</td>\n",
       "      <td>Художественный</td>\n",
       "      <td>ФОНД \"ИННОВАЦИЯ\"</td>\n",
       "      <td>Россия</td>\n",
       "      <td>С.Юзеев</td>\n",
       "      <td>М.Галицкая</td>\n",
       "      <td>«12+» - для детей старше 12 лет</td>\n",
       "      <td>NaN</td>\n",
       "      <td>NaN</td>\n",
       "      <td>NaN</td>\n",
       "      <td>NaN</td>\n",
       "      <td>NaN</td>\n",
       "      <td>NaN</td>\n",
       "    </tr>\n",
       "  </tbody>\n",
       "</table>\n",
       "</div>"
      ],
      "text/plain": [
       "                                  title    puNumber           show_start_date  \\\n",
       "804               Паранормальный Якутск   111004112  2012-08-24T12:00:00.000Z   \n",
       "1797  Курбан-роман. (История с жертвой)         нет  2014-05-15T12:00:00.000Z   \n",
       "\n",
       "                type       film_studio production_country    director  \\\n",
       "804   Художественный  ИП Тимофеев К.П.             Россия  К.Тимофеев   \n",
       "1797  Художественный  ФОНД \"ИННОВАЦИЯ\"             Россия     С.Юзеев   \n",
       "\n",
       "        producer                  age_restriction  refundable_support  \\\n",
       "804          NaN  «16+» - для детей старше 16 лет                 NaN   \n",
       "1797  М.Галицкая  «12+» - для детей старше 12 лет                 NaN   \n",
       "\n",
       "      nonrefundable_support  budget financing_source ratings genres  \n",
       "804                     NaN     NaN              NaN     NaN    NaN  \n",
       "1797                    NaN     NaN              NaN     NaN    NaN  "
      ]
     },
     "execution_count": 10,
     "metadata": {},
     "output_type": "execute_result"
    }
   ],
   "source": [
    "data_1[~data_1['puNumber'].str.isdigit()]\n",
    "#выведем строки, которые являются нечисловыми"
   ]
  },
  {
   "cell_type": "code",
   "execution_count": 11,
   "metadata": {},
   "outputs": [
    {
     "data": {
      "text/plain": [
       "' 111004112'"
      ]
     },
     "execution_count": 11,
     "metadata": {},
     "output_type": "execute_result"
    }
   ],
   "source": [
    "data_1.loc[804, 'puNumber']\n",
    "#выведем строку номер 804, чтобы посмотреть, что с ней не так"
   ]
  },
  {
   "cell_type": "markdown",
   "metadata": {},
   "source": [
    "***\n",
    "В строке присутствуют лишние пробелы, удалим их далее с помощью метода *strip*.\n",
    "***"
   ]
  },
  {
   "cell_type": "code",
   "execution_count": 12,
   "metadata": {},
   "outputs": [],
   "source": [
    "data_1.loc[804, 'puNumber'] = data_1.loc[804, 'puNumber'].strip()"
   ]
  },
  {
   "cell_type": "markdown",
   "metadata": {},
   "source": [
    "***\n",
    "В строке номер 1797 нет номера, вместо него стоит значение \"нет\". Заменим это значение на заглушку 0, чтобы не удалять строку.\n",
    "***"
   ]
  },
  {
   "cell_type": "code",
   "execution_count": 13,
   "metadata": {},
   "outputs": [],
   "source": [
    "data_1.loc[1797, 'puNumber'] = 0"
   ]
  },
  {
   "cell_type": "code",
   "execution_count": 14,
   "metadata": {},
   "outputs": [],
   "source": [
    "data_1['puNumber'] = data_1['puNumber'].astype('int')\n",
    "#теперь поменяем тип данных на целочисленный"
   ]
  },
  {
   "cell_type": "code",
   "execution_count": 15,
   "metadata": {},
   "outputs": [
    {
     "data": {
      "text/plain": [
       "dtype('int64')"
      ]
     },
     "execution_count": 15,
     "metadata": {},
     "output_type": "execute_result"
    }
   ],
   "source": [
    "data_1['puNumber'].dtype\n",
    "#проверка правильности типа данных"
   ]
  },
  {
   "cell_type": "markdown",
   "metadata": {},
   "source": [
    "***\n",
    "Теперь можно смело склеивать две таблицы. Склеивать будем по строкам первого датафрейма методом *merge()* с аргументом *how='left'*.\n",
    "***"
   ]
  },
  {
   "cell_type": "code",
   "execution_count": 16,
   "metadata": {},
   "outputs": [],
   "source": [
    "data = data_1.merge(data_2, how='left')\n",
    "#объединим две таблицы по столбцам первого датафрейма"
   ]
  },
  {
   "cell_type": "code",
   "execution_count": 17,
   "metadata": {
    "scrolled": true
   },
   "outputs": [
    {
     "data": {
      "text/html": [
       "<div>\n",
       "<style scoped>\n",
       "    .dataframe tbody tr th:only-of-type {\n",
       "        vertical-align: middle;\n",
       "    }\n",
       "\n",
       "    .dataframe tbody tr th {\n",
       "        vertical-align: top;\n",
       "    }\n",
       "\n",
       "    .dataframe thead th {\n",
       "        text-align: right;\n",
       "    }\n",
       "</style>\n",
       "<table border=\"1\" class=\"dataframe\">\n",
       "  <thead>\n",
       "    <tr style=\"text-align: right;\">\n",
       "      <th></th>\n",
       "      <th>title</th>\n",
       "      <th>puNumber</th>\n",
       "      <th>show_start_date</th>\n",
       "      <th>type</th>\n",
       "      <th>film_studio</th>\n",
       "      <th>production_country</th>\n",
       "      <th>director</th>\n",
       "      <th>producer</th>\n",
       "      <th>age_restriction</th>\n",
       "      <th>refundable_support</th>\n",
       "      <th>nonrefundable_support</th>\n",
       "      <th>budget</th>\n",
       "      <th>financing_source</th>\n",
       "      <th>ratings</th>\n",
       "      <th>genres</th>\n",
       "      <th>box_office</th>\n",
       "    </tr>\n",
       "  </thead>\n",
       "  <tbody>\n",
       "    <tr>\n",
       "      <th>0</th>\n",
       "      <td>Открытый простор</td>\n",
       "      <td>221048915</td>\n",
       "      <td>2015-11-27T12:00:00.000Z</td>\n",
       "      <td>Художественный</td>\n",
       "      <td>Тачстоун Пикчерз, Кобальт Пикчерз, Бикон Пикче...</td>\n",
       "      <td>США</td>\n",
       "      <td>Кевин Костнер</td>\n",
       "      <td>Дэвид Валдес, Кевин Костнер, Джейк Эбертс</td>\n",
       "      <td>«18+» - запрещено для детей</td>\n",
       "      <td>NaN</td>\n",
       "      <td>NaN</td>\n",
       "      <td>NaN</td>\n",
       "      <td>NaN</td>\n",
       "      <td>7.2</td>\n",
       "      <td>боевик,драма,мелодрама</td>\n",
       "      <td>NaN</td>\n",
       "    </tr>\n",
       "    <tr>\n",
       "      <th>1</th>\n",
       "      <td>Особо важное задание</td>\n",
       "      <td>111013716</td>\n",
       "      <td>2016-09-13T12:00:00.000Z</td>\n",
       "      <td>Художественный</td>\n",
       "      <td>Киностудия \"Мосфильм\"</td>\n",
       "      <td>СССР</td>\n",
       "      <td>Е.Матвеев</td>\n",
       "      <td>NaN</td>\n",
       "      <td>«6+» - для детей старше 6 лет</td>\n",
       "      <td>NaN</td>\n",
       "      <td>NaN</td>\n",
       "      <td>NaN</td>\n",
       "      <td>NaN</td>\n",
       "      <td>6.6</td>\n",
       "      <td>драма,военный</td>\n",
       "      <td>NaN</td>\n",
       "    </tr>\n",
       "    <tr>\n",
       "      <th>2</th>\n",
       "      <td>Особо опасен</td>\n",
       "      <td>221038416</td>\n",
       "      <td>2016-10-10T12:00:00.000Z</td>\n",
       "      <td>Художественный</td>\n",
       "      <td>Юниверсал Пикчерз, Кикстарт Продакшнз, Марк Пл...</td>\n",
       "      <td>США</td>\n",
       "      <td>Тимур Бекмамбетов</td>\n",
       "      <td>Джим Лемли, Джейсон Нетер, Марк Е.Платт, Яйн Смит</td>\n",
       "      <td>«18+» - запрещено для детей</td>\n",
       "      <td>NaN</td>\n",
       "      <td>NaN</td>\n",
       "      <td>NaN</td>\n",
       "      <td>NaN</td>\n",
       "      <td>6.8</td>\n",
       "      <td>фантастика,боевик,триллер</td>\n",
       "      <td>NaN</td>\n",
       "    </tr>\n",
       "    <tr>\n",
       "      <th>3</th>\n",
       "      <td>Особо опасен</td>\n",
       "      <td>221026916</td>\n",
       "      <td>2016-06-10T12:00:00.000Z</td>\n",
       "      <td>Художественный</td>\n",
       "      <td>Юниверсал Пикчерз, Кикстарт Продакшнз, Марк Пл...</td>\n",
       "      <td>США</td>\n",
       "      <td>Тимур Бекмамбетов</td>\n",
       "      <td>Джим Лемли, Джейсон Нетер, Марк Е.Платт, Яйн Смит</td>\n",
       "      <td>«18+» - запрещено для детей</td>\n",
       "      <td>NaN</td>\n",
       "      <td>NaN</td>\n",
       "      <td>NaN</td>\n",
       "      <td>NaN</td>\n",
       "      <td>6.8</td>\n",
       "      <td>фантастика,боевик,триллер</td>\n",
       "      <td>NaN</td>\n",
       "    </tr>\n",
       "    <tr>\n",
       "      <th>4</th>\n",
       "      <td>Особо опасен</td>\n",
       "      <td>221030815</td>\n",
       "      <td>2015-07-29T12:00:00.000Z</td>\n",
       "      <td>Художественный</td>\n",
       "      <td>Юниверсал Пикчерз, Кикстарт Продакшнз, Марк Пл...</td>\n",
       "      <td>США</td>\n",
       "      <td>Тимур Бекмамбетов</td>\n",
       "      <td>Джим Лемли, Джейсон Нетер, Марк Е.Платт, Яйн Смит</td>\n",
       "      <td>«18+» - запрещено для детей</td>\n",
       "      <td>NaN</td>\n",
       "      <td>NaN</td>\n",
       "      <td>NaN</td>\n",
       "      <td>NaN</td>\n",
       "      <td>6.8</td>\n",
       "      <td>фантастика,боевик,триллер</td>\n",
       "      <td>NaN</td>\n",
       "    </tr>\n",
       "  </tbody>\n",
       "</table>\n",
       "</div>"
      ],
      "text/plain": [
       "                  title   puNumber           show_start_date            type  \\\n",
       "0      Открытый простор  221048915  2015-11-27T12:00:00.000Z  Художественный   \n",
       "1  Особо важное задание  111013716  2016-09-13T12:00:00.000Z  Художественный   \n",
       "2          Особо опасен  221038416  2016-10-10T12:00:00.000Z  Художественный   \n",
       "3          Особо опасен  221026916  2016-06-10T12:00:00.000Z  Художественный   \n",
       "4          Особо опасен  221030815  2015-07-29T12:00:00.000Z  Художественный   \n",
       "\n",
       "                                         film_studio production_country  \\\n",
       "0  Тачстоун Пикчерз, Кобальт Пикчерз, Бикон Пикче...                США   \n",
       "1                              Киностудия \"Мосфильм\"               СССР   \n",
       "2  Юниверсал Пикчерз, Кикстарт Продакшнз, Марк Пл...                США   \n",
       "3  Юниверсал Пикчерз, Кикстарт Продакшнз, Марк Пл...                США   \n",
       "4  Юниверсал Пикчерз, Кикстарт Продакшнз, Марк Пл...                США   \n",
       "\n",
       "            director                                           producer  \\\n",
       "0      Кевин Костнер          Дэвид Валдес, Кевин Костнер, Джейк Эбертс   \n",
       "1          Е.Матвеев                                                NaN   \n",
       "2  Тимур Бекмамбетов  Джим Лемли, Джейсон Нетер, Марк Е.Платт, Яйн Смит   \n",
       "3  Тимур Бекмамбетов  Джим Лемли, Джейсон Нетер, Марк Е.Платт, Яйн Смит   \n",
       "4  Тимур Бекмамбетов  Джим Лемли, Джейсон Нетер, Марк Е.Платт, Яйн Смит   \n",
       "\n",
       "                 age_restriction  refundable_support  nonrefundable_support  \\\n",
       "0    «18+» - запрещено для детей                 NaN                    NaN   \n",
       "1  «6+» - для детей старше 6 лет                 NaN                    NaN   \n",
       "2    «18+» - запрещено для детей                 NaN                    NaN   \n",
       "3    «18+» - запрещено для детей                 NaN                    NaN   \n",
       "4    «18+» - запрещено для детей                 NaN                    NaN   \n",
       "\n",
       "   budget financing_source ratings                     genres  box_office  \n",
       "0     NaN              NaN     7.2     боевик,драма,мелодрама         NaN  \n",
       "1     NaN              NaN     6.6              драма,военный         NaN  \n",
       "2     NaN              NaN     6.8  фантастика,боевик,триллер         NaN  \n",
       "3     NaN              NaN     6.8  фантастика,боевик,триллер         NaN  \n",
       "4     NaN              NaN     6.8  фантастика,боевик,триллер         NaN  "
      ]
     },
     "execution_count": 17,
     "metadata": {},
     "output_type": "execute_result"
    }
   ],
   "source": [
    "data.head()\n",
    "#выведем склеенную таблицу"
   ]
  },
  {
   "cell_type": "markdown",
   "metadata": {},
   "source": [
    "Теперь убедимся, что размеры изначальных таблиц и финальной совпадают."
   ]
  },
  {
   "cell_type": "code",
   "execution_count": 18,
   "metadata": {},
   "outputs": [
    {
     "name": "stdout",
     "output_type": "stream",
     "text": [
      "<class 'pandas.core.frame.DataFrame'>\n",
      "RangeIndex: 7486 entries, 0 to 7485\n",
      "Data columns (total 15 columns):\n",
      " #   Column                 Non-Null Count  Dtype  \n",
      "---  ------                 --------------  -----  \n",
      " 0   title                  7486 non-null   object \n",
      " 1   puNumber               7486 non-null   int64  \n",
      " 2   show_start_date        7486 non-null   object \n",
      " 3   type                   7486 non-null   object \n",
      " 4   film_studio            7468 non-null   object \n",
      " 5   production_country     7484 non-null   object \n",
      " 6   director               7477 non-null   object \n",
      " 7   producer               6918 non-null   object \n",
      " 8   age_restriction        7486 non-null   object \n",
      " 9   refundable_support     332 non-null    float64\n",
      " 10  nonrefundable_support  332 non-null    float64\n",
      " 11  budget                 332 non-null    float64\n",
      " 12  financing_source       332 non-null    object \n",
      " 13  ratings                6519 non-null   object \n",
      " 14  genres                 6510 non-null   object \n",
      "dtypes: float64(3), int64(1), object(11)\n",
      "memory usage: 877.4+ KB\n",
      "\n",
      "<class 'pandas.core.frame.DataFrame'>\n",
      "RangeIndex: 3158 entries, 0 to 3157\n",
      "Data columns (total 2 columns):\n",
      " #   Column      Non-Null Count  Dtype  \n",
      "---  ------      --------------  -----  \n",
      " 0   puNumber    3158 non-null   int64  \n",
      " 1   box_office  3158 non-null   float64\n",
      "dtypes: float64(1), int64(1)\n",
      "memory usage: 49.5 KB\n",
      "\n",
      "<class 'pandas.core.frame.DataFrame'>\n",
      "Int64Index: 7486 entries, 0 to 7485\n",
      "Data columns (total 16 columns):\n",
      " #   Column                 Non-Null Count  Dtype  \n",
      "---  ------                 --------------  -----  \n",
      " 0   title                  7486 non-null   object \n",
      " 1   puNumber               7486 non-null   int64  \n",
      " 2   show_start_date        7486 non-null   object \n",
      " 3   type                   7486 non-null   object \n",
      " 4   film_studio            7468 non-null   object \n",
      " 5   production_country     7484 non-null   object \n",
      " 6   director               7477 non-null   object \n",
      " 7   producer               6918 non-null   object \n",
      " 8   age_restriction        7486 non-null   object \n",
      " 9   refundable_support     332 non-null    float64\n",
      " 10  nonrefundable_support  332 non-null    float64\n",
      " 11  budget                 332 non-null    float64\n",
      " 12  financing_source       332 non-null    object \n",
      " 13  ratings                6519 non-null   object \n",
      " 14  genres                 6510 non-null   object \n",
      " 15  box_office             3158 non-null   float64\n",
      "dtypes: float64(4), int64(1), object(11)\n",
      "memory usage: 994.2+ KB\n"
     ]
    }
   ],
   "source": [
    "data_1.info()\n",
    "print()\n",
    "data_2.info()\n",
    "print()\n",
    "data.info()"
   ]
  },
  {
   "cell_type": "markdown",
   "metadata": {},
   "source": [
    "Количество строк совпадает с изначальными датафреймами (**7486** строк в первом и **3158** во втором), количество столбцов увеличилось на один, что и должно было произойти. Таблицы благополучно склеились, в итоговой объединенной таблице появился новый столбец *box_office*."
   ]
  },
  {
   "cell_type": "markdown",
   "metadata": {
    "id": "KLDGpPG0gFyM"
   },
   "source": [
    "##  Предобработка данных"
   ]
  },
  {
   "cell_type": "markdown",
   "metadata": {
    "id": "ssWwKXsxgFyO"
   },
   "source": [
    "###  Проверим типы данных\n"
   ]
  },
  {
   "cell_type": "markdown",
   "metadata": {},
   "source": [
    "***\n",
    "Для начала снова посмотрим на обновленную таблицу.\n",
    "***"
   ]
  },
  {
   "cell_type": "code",
   "execution_count": 19,
   "metadata": {
    "id": "kVGSplJOgFyO"
   },
   "outputs": [
    {
     "name": "stdout",
     "output_type": "stream",
     "text": [
      "<class 'pandas.core.frame.DataFrame'>\n",
      "Int64Index: 7486 entries, 0 to 7485\n",
      "Data columns (total 16 columns):\n",
      " #   Column                 Non-Null Count  Dtype  \n",
      "---  ------                 --------------  -----  \n",
      " 0   title                  7486 non-null   object \n",
      " 1   puNumber               7486 non-null   int64  \n",
      " 2   show_start_date        7486 non-null   object \n",
      " 3   type                   7486 non-null   object \n",
      " 4   film_studio            7468 non-null   object \n",
      " 5   production_country     7484 non-null   object \n",
      " 6   director               7477 non-null   object \n",
      " 7   producer               6918 non-null   object \n",
      " 8   age_restriction        7486 non-null   object \n",
      " 9   refundable_support     332 non-null    float64\n",
      " 10  nonrefundable_support  332 non-null    float64\n",
      " 11  budget                 332 non-null    float64\n",
      " 12  financing_source       332 non-null    object \n",
      " 13  ratings                6519 non-null   object \n",
      " 14  genres                 6510 non-null   object \n",
      " 15  box_office             3158 non-null   float64\n",
      "dtypes: float64(4), int64(1), object(11)\n",
      "memory usage: 994.2+ KB\n"
     ]
    }
   ],
   "source": [
    "data.info()"
   ]
  },
  {
   "cell_type": "markdown",
   "metadata": {},
   "source": [
    "***\n",
    "В таблице **7486** строк и **16** столбцов. Есть названия столбцов с некорректным регистром, есть пропущенные значения во многих столбцах, а также у многих столбцов стоит неверный тип данных. Нам предстоит разобраться со всем этим безобразием, так давайте приступим!\n",
    "***\n",
    "Сначала приведем названия столбцов к змеиному регистру."
   ]
  },
  {
   "cell_type": "code",
   "execution_count": 20,
   "metadata": {},
   "outputs": [],
   "source": [
    "data = data.rename(columns = {'puNumber':'pu_number', 'nonrefundable_support':'non_refundable_support'})\n",
    "#поменяем названия столбцов, приведя к красивому змеиному регистру"
   ]
  },
  {
   "cell_type": "markdown",
   "metadata": {},
   "source": [
    "Необходимо изменить тип данных в следующих столбцах:\n",
    "- **show_start_date** - нужно поменять на *datetime*, так как это дата премьеры фильма.\n",
    "- **ratings** - нужно поменять на *float*, так как это рейтинг и выражается он числами с дробями."
   ]
  },
  {
   "cell_type": "markdown",
   "metadata": {},
   "source": [
    "Поменяем типы данных в **show_start_date** и **ratings**."
   ]
  },
  {
   "cell_type": "code",
   "execution_count": 21,
   "metadata": {},
   "outputs": [],
   "source": [
    "data['show_start_date'] = pd.to_datetime(data['show_start_date'], format='%Y-%m-%dT%H:%M:%S')\n",
    "#изменим тип данных на дату"
   ]
  },
  {
   "cell_type": "markdown",
   "metadata": {},
   "source": [
    "Так как в столбце **ratings** тип данных *object*, нужно взглянуть на эти строковые значения."
   ]
  },
  {
   "cell_type": "code",
   "execution_count": 22,
   "metadata": {},
   "outputs": [
    {
     "data": {
      "text/plain": [
       "array(['7.2', '6.6', '6.8', '7.7', '8.3', '8.0', '7.8', '8.1', '7.1',\n",
       "       '6.0', '7.4', '5.8', '8.7', '6.3', '6.9', '5.0', '4.3', '7.3',\n",
       "       '7.0', '6.4', nan, '8.2', '7.5', '6.7', '7.9', '5.9', '6.2', '5.6',\n",
       "       '6.5', '2.4', '7.6', '6.1', '8.6', '8.5', '8.8', '5.5', '5.1',\n",
       "       '5.7', '5.4', '99%', '4.4', '4.5', '5.3', '4.1', '8.4', '2.6',\n",
       "       '3.8', '4.6', '4.8', '4.0', '3.0', '1.6', '4.2', '5.2', '4.7',\n",
       "       '4.9', '3.9', '2.7', '3.3', '2.9', '28%', '3.7', '1.4', '3.1',\n",
       "       '97%', '3.5', '3.2', '2.8', '1.5', '2.1', '2.5', '9.2', '3.4',\n",
       "       '1.1', '3.6', '83%', '64%', '91%', '94%', '62%', '79%', '90%',\n",
       "       '19%', '88%', '1.0', '89%', '1.3', '1.9', '1.8', '1.2', '1.7',\n",
       "       '9.0', '98%', '8.9', '9.1'], dtype=object)"
      ]
     },
     "execution_count": 22,
     "metadata": {},
     "output_type": "execute_result"
    }
   ],
   "source": [
    "data['ratings'].unique() # выведем уникальные значения столбца ratings"
   ]
  },
  {
   "cell_type": "markdown",
   "metadata": {},
   "source": [
    "Скорее всего значения в процентах - это ошибка ввода и значения нужно разделить на 10, чтобы получить корректное значение. Также убрать знак %. Например, 88% - это рейтинг 8.8."
   ]
  },
  {
   "cell_type": "code",
   "execution_count": 23,
   "metadata": {},
   "outputs": [],
   "source": [
    "data['ratings'] = data['ratings'].str.strip('%').astype(float)\n",
    "#уберем знак % из значений столбца, затем переведем к дробному типу данных для дальнейшего преобразования\n",
    "\n",
    "data['ratings'] = data['ratings'].apply(lambda x: f\"{x/10:.1f}\" if x>10 else f\"{x:.1f}\")\n",
    "#преобразуем все значения с помощью лямбда функции, разделив на 10 все значения больше 10,\n",
    "#также установив формат для вывода значений с 1 знаком после запятой \n"
   ]
  },
  {
   "cell_type": "code",
   "execution_count": 24,
   "metadata": {},
   "outputs": [
    {
     "data": {
      "text/plain": [
       "array(['7.2', '6.6', '6.8', '7.7', '8.3', '8.0', '7.8', '8.1', '7.1',\n",
       "       '6.0', '7.4', '5.8', '8.7', '6.3', '6.9', '5.0', '4.3', '7.3',\n",
       "       '7.0', '6.4', 'nan', '8.2', '7.5', '6.7', '7.9', '5.9', '6.2',\n",
       "       '5.6', '6.5', '2.4', '7.6', '6.1', '8.6', '8.5', '8.8', '5.5',\n",
       "       '5.1', '5.7', '5.4', '9.9', '4.4', '4.5', '5.3', '4.1', '8.4',\n",
       "       '2.6', '3.8', '4.6', '4.8', '4.0', '3.0', '1.6', '4.2', '5.2',\n",
       "       '4.7', '4.9', '3.9', '2.7', '3.3', '2.9', '2.8', '3.7', '1.4',\n",
       "       '3.1', '9.7', '3.5', '3.2', '1.5', '2.1', '2.5', '9.2', '3.4',\n",
       "       '1.1', '3.6', '9.1', '9.4', '9.0', '1.9', '1.0', '8.9', '1.3',\n",
       "       '1.8', '1.2', '1.7', '9.8'], dtype=object)"
      ]
     },
     "execution_count": 24,
     "metadata": {},
     "output_type": "execute_result"
    }
   ],
   "source": [
    "data['ratings'].unique()\n",
    "#выведем обновленные значения столбца"
   ]
  },
  {
   "cell_type": "markdown",
   "metadata": {},
   "source": [
    "Значения корректные, но тип данных нужно снова вернуть к дробному."
   ]
  },
  {
   "cell_type": "code",
   "execution_count": 25,
   "metadata": {},
   "outputs": [],
   "source": [
    "data['ratings'] = data['ratings'].astype('float') \n",
    "#поменяем тип данных снова к float"
   ]
  },
  {
   "cell_type": "code",
   "execution_count": 26,
   "metadata": {},
   "outputs": [
    {
     "data": {
      "text/plain": [
       "dtype('float64')"
      ]
     },
     "execution_count": 26,
     "metadata": {},
     "output_type": "execute_result"
    }
   ],
   "source": [
    "data['ratings'].dtype\n",
    "#проверим тип данных"
   ]
  },
  {
   "cell_type": "markdown",
   "metadata": {},
   "source": [
    "**Вывод**\n",
    "\n",
    "В ходе данного шага было выполнено следующее:\n",
    "- переименован столбец **puNumber** и **nonrefundable_support**;\n",
    "- изменён тип данных в столбцах **show_start_date** и **ratings**;\n",
    "- данные в столбце **ratings** приведены в единый вид."
   ]
  },
  {
   "cell_type": "markdown",
   "metadata": {
    "id": "i0MOLbF-gFyP"
   },
   "source": [
    "###  Изучим пропуски в датафрейме\n"
   ]
  },
  {
   "cell_type": "markdown",
   "metadata": {},
   "source": [
    "Для начала выведем количество пропусков в каждом столбце и посмотрим, где их больше всего и меньше всего."
   ]
  },
  {
   "cell_type": "code",
   "execution_count": 27,
   "metadata": {},
   "outputs": [
    {
     "data": {
      "text/html": [
       "<style  type=\"text/css\" >\n",
       "#T_e867b_row0_col0,#T_e867b_row0_col1,#T_e867b_row1_col0,#T_e867b_row1_col1,#T_e867b_row2_col0,#T_e867b_row2_col1,#T_e867b_row3_col0,#T_e867b_row3_col1,#T_e867b_row4_col0,#T_e867b_row4_col1,#T_e867b_row5_col0,#T_e867b_row5_col1,#T_e867b_row6_col0,#T_e867b_row6_col1,#T_e867b_row8_col0,#T_e867b_row8_col1{\n",
       "            background-color:  #3b4cc0;\n",
       "            color:  #f1f1f1;\n",
       "        }#T_e867b_row7_col0,#T_e867b_row7_col1{\n",
       "            background-color:  #536edd;\n",
       "            color:  #000000;\n",
       "        }#T_e867b_row9_col0,#T_e867b_row9_col1,#T_e867b_row10_col0,#T_e867b_row10_col1,#T_e867b_row11_col0,#T_e867b_row11_col1,#T_e867b_row12_col0,#T_e867b_row12_col1{\n",
       "            background-color:  #b40426;\n",
       "            color:  #f1f1f1;\n",
       "        }#T_e867b_row13_col0,#T_e867b_row13_col1,#T_e867b_row14_col0,#T_e867b_row14_col1{\n",
       "            background-color:  #6485ec;\n",
       "            color:  #000000;\n",
       "        }#T_e867b_row15_col0,#T_e867b_row15_col1{\n",
       "            background-color:  #f2cab5;\n",
       "            color:  #000000;\n",
       "        }</style><table id=\"T_e867b_\" ><thead>    <tr>        <th class=\"blank level0\" ></th>        <th class=\"col_heading level0 col0\" >Кол-во пропусков</th>        <th class=\"col_heading level0 col1\" >% пропусков</th>    </tr></thead><tbody>\n",
       "                <tr>\n",
       "                        <th id=\"T_e867b_level0_row0\" class=\"row_heading level0 row0\" >title</th>\n",
       "                        <td id=\"T_e867b_row0_col0\" class=\"data row0 col0\" >0.00</td>\n",
       "                        <td id=\"T_e867b_row0_col1\" class=\"data row0 col1\" >0.00</td>\n",
       "            </tr>\n",
       "            <tr>\n",
       "                        <th id=\"T_e867b_level0_row1\" class=\"row_heading level0 row1\" >pu_number</th>\n",
       "                        <td id=\"T_e867b_row1_col0\" class=\"data row1 col0\" >0.00</td>\n",
       "                        <td id=\"T_e867b_row1_col1\" class=\"data row1 col1\" >0.00</td>\n",
       "            </tr>\n",
       "            <tr>\n",
       "                        <th id=\"T_e867b_level0_row2\" class=\"row_heading level0 row2\" >show_start_date</th>\n",
       "                        <td id=\"T_e867b_row2_col0\" class=\"data row2 col0\" >0.00</td>\n",
       "                        <td id=\"T_e867b_row2_col1\" class=\"data row2 col1\" >0.00</td>\n",
       "            </tr>\n",
       "            <tr>\n",
       "                        <th id=\"T_e867b_level0_row3\" class=\"row_heading level0 row3\" >type</th>\n",
       "                        <td id=\"T_e867b_row3_col0\" class=\"data row3 col0\" >0.00</td>\n",
       "                        <td id=\"T_e867b_row3_col1\" class=\"data row3 col1\" >0.00</td>\n",
       "            </tr>\n",
       "            <tr>\n",
       "                        <th id=\"T_e867b_level0_row4\" class=\"row_heading level0 row4\" >film_studio</th>\n",
       "                        <td id=\"T_e867b_row4_col0\" class=\"data row4 col0\" >18.00</td>\n",
       "                        <td id=\"T_e867b_row4_col1\" class=\"data row4 col1\" >0.24</td>\n",
       "            </tr>\n",
       "            <tr>\n",
       "                        <th id=\"T_e867b_level0_row5\" class=\"row_heading level0 row5\" >production_country</th>\n",
       "                        <td id=\"T_e867b_row5_col0\" class=\"data row5 col0\" >2.00</td>\n",
       "                        <td id=\"T_e867b_row5_col1\" class=\"data row5 col1\" >0.03</td>\n",
       "            </tr>\n",
       "            <tr>\n",
       "                        <th id=\"T_e867b_level0_row6\" class=\"row_heading level0 row6\" >director</th>\n",
       "                        <td id=\"T_e867b_row6_col0\" class=\"data row6 col0\" >9.00</td>\n",
       "                        <td id=\"T_e867b_row6_col1\" class=\"data row6 col1\" >0.12</td>\n",
       "            </tr>\n",
       "            <tr>\n",
       "                        <th id=\"T_e867b_level0_row7\" class=\"row_heading level0 row7\" >producer</th>\n",
       "                        <td id=\"T_e867b_row7_col0\" class=\"data row7 col0\" >568.00</td>\n",
       "                        <td id=\"T_e867b_row7_col1\" class=\"data row7 col1\" >7.59</td>\n",
       "            </tr>\n",
       "            <tr>\n",
       "                        <th id=\"T_e867b_level0_row8\" class=\"row_heading level0 row8\" >age_restriction</th>\n",
       "                        <td id=\"T_e867b_row8_col0\" class=\"data row8 col0\" >0.00</td>\n",
       "                        <td id=\"T_e867b_row8_col1\" class=\"data row8 col1\" >0.00</td>\n",
       "            </tr>\n",
       "            <tr>\n",
       "                        <th id=\"T_e867b_level0_row9\" class=\"row_heading level0 row9\" >refundable_support</th>\n",
       "                        <td id=\"T_e867b_row9_col0\" class=\"data row9 col0\" >7154.00</td>\n",
       "                        <td id=\"T_e867b_row9_col1\" class=\"data row9 col1\" >95.57</td>\n",
       "            </tr>\n",
       "            <tr>\n",
       "                        <th id=\"T_e867b_level0_row10\" class=\"row_heading level0 row10\" >non_refundable_support</th>\n",
       "                        <td id=\"T_e867b_row10_col0\" class=\"data row10 col0\" >7154.00</td>\n",
       "                        <td id=\"T_e867b_row10_col1\" class=\"data row10 col1\" >95.57</td>\n",
       "            </tr>\n",
       "            <tr>\n",
       "                        <th id=\"T_e867b_level0_row11\" class=\"row_heading level0 row11\" >budget</th>\n",
       "                        <td id=\"T_e867b_row11_col0\" class=\"data row11 col0\" >7154.00</td>\n",
       "                        <td id=\"T_e867b_row11_col1\" class=\"data row11 col1\" >95.57</td>\n",
       "            </tr>\n",
       "            <tr>\n",
       "                        <th id=\"T_e867b_level0_row12\" class=\"row_heading level0 row12\" >financing_source</th>\n",
       "                        <td id=\"T_e867b_row12_col0\" class=\"data row12 col0\" >7154.00</td>\n",
       "                        <td id=\"T_e867b_row12_col1\" class=\"data row12 col1\" >95.57</td>\n",
       "            </tr>\n",
       "            <tr>\n",
       "                        <th id=\"T_e867b_level0_row13\" class=\"row_heading level0 row13\" >ratings</th>\n",
       "                        <td id=\"T_e867b_row13_col0\" class=\"data row13 col0\" >967.00</td>\n",
       "                        <td id=\"T_e867b_row13_col1\" class=\"data row13 col1\" >12.92</td>\n",
       "            </tr>\n",
       "            <tr>\n",
       "                        <th id=\"T_e867b_level0_row14\" class=\"row_heading level0 row14\" >genres</th>\n",
       "                        <td id=\"T_e867b_row14_col0\" class=\"data row14 col0\" >976.00</td>\n",
       "                        <td id=\"T_e867b_row14_col1\" class=\"data row14 col1\" >13.04</td>\n",
       "            </tr>\n",
       "            <tr>\n",
       "                        <th id=\"T_e867b_level0_row15\" class=\"row_heading level0 row15\" >box_office</th>\n",
       "                        <td id=\"T_e867b_row15_col0\" class=\"data row15 col0\" >4328.00</td>\n",
       "                        <td id=\"T_e867b_row15_col1\" class=\"data row15 col1\" >57.81</td>\n",
       "            </tr>\n",
       "    </tbody></table>"
      ],
      "text/plain": [
       "<pandas.io.formats.style.Styler at 0x7f8a7e92fac0>"
      ]
     },
     "metadata": {},
     "output_type": "display_data"
    },
    {
     "name": "stdout",
     "output_type": "stream",
     "text": [
      "Всего колонок: 16, без пропусков: 5, с пропусками: 11\n"
     ]
    }
   ],
   "source": [
    "data_na = data.isna().sum()\n",
    "data_na_perc = round((data.isna().mean() * 100), 2)\n",
    "\n",
    "display(pd.DataFrame({\"Кол-во пропусков\": data_na, \"% пропусков\": data_na_perc}).style.format('{:.2f}').background_gradient('coolwarm'))\n",
    "print(\"Всего колонок: {}, без пропусков: {}, с пропусками: {}\".format(len(data_na), (data_na == 0).sum(), (data_na != 0).sum() ))\n",
    "\n",
    "#построим таблицу, в которой будут показано количество пропусков и пропуски в % для каждого столбца нашей таблицы"
   ]
  },
  {
   "cell_type": "markdown",
   "metadata": {},
   "source": [
    "По полученной таблице видим, что только 5 столбцов не имеют пропущенные значения. Больше всего пропусков (целых **95.57%** !) наблюдается в 4 столбцах - все они связаны с **финансовыми показателями** кинокартин. Совпадение? Возможно. Но все это предстоит выяснить нам и никому другому. Второе место по количеству пропусков занимает показатель **сбора в рублях** - **57.81%**. Меньше всего пропусков - в столбце с информацией о **стране-производителе** фильма, всего каких-то **0.03%**.\n",
    "***\n",
    "Посмотрим совпадают ли строки с пропусками в четырех самых проблемных столбцах, так как количество пропусков в них совпадает."
   ]
  },
  {
   "cell_type": "code",
   "execution_count": 28,
   "metadata": {},
   "outputs": [
    {
     "data": {
      "image/png": "[encoded data removed]",
      "text/plain": [
       "<Figure size 1152x432 with 1 Axes>"
      ]
     },
     "metadata": {},
     "output_type": "display_data"
    }
   ],
   "source": [
    "sns.set(rc = {'figure.figsize':(16,6)})\n",
    "sns.heatmap(data.isna().transpose(), cbar=False, cmap='plasma').set_title('Объем пропусков в наборе данных');\n"
   ]
  },
  {
   "cell_type": "markdown",
   "metadata": {},
   "source": [
    "Судя по тепловой карте, пропуски в данных столбцах находятся в одних и тех же строках.\n",
    "\n",
    "Эта информация уникальная для каждого фильма, поэтому заполнить на основании других данных не получится. Оставим пропуски.\n",
    "***\n",
    "Посмотрим подробно те строки, в которых нет не более 20 значений. Пойдём по порядку возрастания количества пропусков."
   ]
  },
  {
   "cell_type": "code",
   "execution_count": 29,
   "metadata": {},
   "outputs": [
    {
     "data": {
      "text/html": [
       "<div>\n",
       "<style scoped>\n",
       "    .dataframe tbody tr th:only-of-type {\n",
       "        vertical-align: middle;\n",
       "    }\n",
       "\n",
       "    .dataframe tbody tr th {\n",
       "        vertical-align: top;\n",
       "    }\n",
       "\n",
       "    .dataframe thead th {\n",
       "        text-align: right;\n",
       "    }\n",
       "</style>\n",
       "<table border=\"1\" class=\"dataframe\">\n",
       "  <thead>\n",
       "    <tr style=\"text-align: right;\">\n",
       "      <th></th>\n",
       "      <th>title</th>\n",
       "      <th>pu_number</th>\n",
       "      <th>show_start_date</th>\n",
       "      <th>type</th>\n",
       "      <th>film_studio</th>\n",
       "      <th>production_country</th>\n",
       "      <th>director</th>\n",
       "      <th>producer</th>\n",
       "      <th>age_restriction</th>\n",
       "      <th>refundable_support</th>\n",
       "      <th>non_refundable_support</th>\n",
       "      <th>budget</th>\n",
       "      <th>financing_source</th>\n",
       "      <th>ratings</th>\n",
       "      <th>genres</th>\n",
       "      <th>box_office</th>\n",
       "    </tr>\n",
       "  </thead>\n",
       "  <tbody>\n",
       "    <tr>\n",
       "      <th>3186</th>\n",
       "      <td>Детский юмористический киножурнал \"Ералаш. Ну ...</td>\n",
       "      <td>111001216</td>\n",
       "      <td>2016-02-09 12:00:00+00:00</td>\n",
       "      <td>Художественный</td>\n",
       "      <td>ООО \"Продюсерский центр ЕРАЛАШ\"</td>\n",
       "      <td>NaN</td>\n",
       "      <td>Р.Светлов, И.Магитон, А.Арутюнян, Л.Мирский, А...</td>\n",
       "      <td>ООО \"Продюсерский центр ЕРАЛАШ\"</td>\n",
       "      <td>«0+» - для любой зрительской аудитории</td>\n",
       "      <td>NaN</td>\n",
       "      <td>NaN</td>\n",
       "      <td>NaN</td>\n",
       "      <td>NaN</td>\n",
       "      <td>7.20</td>\n",
       "      <td>детский,комедия</td>\n",
       "      <td>194,527.00</td>\n",
       "    </tr>\n",
       "    <tr>\n",
       "      <th>4441</th>\n",
       "      <td>Мульт личности. Выпуск 5</td>\n",
       "      <td>214000410</td>\n",
       "      <td>2010-01-25 12:00:00+00:00</td>\n",
       "      <td>Художественный</td>\n",
       "      <td>NaN</td>\n",
       "      <td>NaN</td>\n",
       "      <td>NaN</td>\n",
       "      <td>NaN</td>\n",
       "      <td>«0+» - для любой зрительской аудитории</td>\n",
       "      <td>NaN</td>\n",
       "      <td>NaN</td>\n",
       "      <td>NaN</td>\n",
       "      <td>NaN</td>\n",
       "      <td>4.00</td>\n",
       "      <td>мультфильм,комедия</td>\n",
       "      <td>NaN</td>\n",
       "    </tr>\n",
       "  </tbody>\n",
       "</table>\n",
       "</div>"
      ],
      "text/plain": [
       "                                                  title  pu_number  \\\n",
       "3186  Детский юмористический киножурнал \"Ералаш. Ну ...  111001216   \n",
       "4441                           Мульт личности. Выпуск 5  214000410   \n",
       "\n",
       "               show_start_date            type  \\\n",
       "3186 2016-02-09 12:00:00+00:00  Художественный   \n",
       "4441 2010-01-25 12:00:00+00:00  Художественный   \n",
       "\n",
       "                          film_studio production_country  \\\n",
       "3186  ООО \"Продюсерский центр ЕРАЛАШ\"                NaN   \n",
       "4441                              NaN                NaN   \n",
       "\n",
       "                                               director  \\\n",
       "3186  Р.Светлов, И.Магитон, А.Арутюнян, Л.Мирский, А...   \n",
       "4441                                                NaN   \n",
       "\n",
       "                             producer                         age_restriction  \\\n",
       "3186  ООО \"Продюсерский центр ЕРАЛАШ\"  «0+» - для любой зрительской аудитории   \n",
       "4441                              NaN  «0+» - для любой зрительской аудитории   \n",
       "\n",
       "      refundable_support  non_refundable_support  budget financing_source  \\\n",
       "3186                 NaN                     NaN     NaN              NaN   \n",
       "4441                 NaN                     NaN     NaN              NaN   \n",
       "\n",
       "      ratings              genres  box_office  \n",
       "3186     7.20     детский,комедия  194,527.00  \n",
       "4441     4.00  мультфильм,комедия         NaN  "
      ]
     },
     "execution_count": 29,
     "metadata": {},
     "output_type": "execute_result"
    }
   ],
   "source": [
    "data[data['production_country'].isnull()] # выведем на экран строки с пустым значением страны-производителя"
   ]
  },
  {
   "cell_type": "markdown",
   "metadata": {},
   "source": [
    "Оба произведения сняты в России. Заполним пропуски соответствующим значением."
   ]
  },
  {
   "cell_type": "code",
   "execution_count": 30,
   "metadata": {},
   "outputs": [],
   "source": [
    "data['production_country'] = data['production_country'].fillna('Россия') # заполняем пропуски значением Россия"
   ]
  },
  {
   "cell_type": "markdown",
   "metadata": {},
   "source": [
    "Пропуски в столбцах **film_studio**, **director** и **producer** мы не сможем заполнить, основываясь на данных других столбцов. Придётся заполнить их значением unknown."
   ]
  },
  {
   "cell_type": "code",
   "execution_count": 31,
   "metadata": {},
   "outputs": [],
   "source": [
    "for column in ['film_studio', 'director', 'producer']:\n",
    "    data[column] = data[column].fillna('unknown')"
   ]
  },
  {
   "cell_type": "code",
   "execution_count": 32,
   "metadata": {},
   "outputs": [
    {
     "data": {
      "text/plain": [
       "967"
      ]
     },
     "execution_count": 32,
     "metadata": {},
     "output_type": "execute_result"
    }
   ],
   "source": [
    "data['ratings'].isna().sum()"
   ]
  },
  {
   "cell_type": "markdown",
   "metadata": {},
   "source": [
    "Заполнить пропуски в данном столбце не предоставляется возможным, так как данный показатель не зависит от других, медианным значением его не заменить.\n",
    "***\n",
    "Со столбцом **genres** аналогичная ситуация. Оставляем незаполненным.\n",
    "\n",
    "Пропуски в **box_office** могут быть связаны либо с отсутствием данных, либо произведения в принципе не подразумевали сбор средств. Оставим незаполненным."
   ]
  },
  {
   "cell_type": "code",
   "execution_count": 33,
   "metadata": {
    "scrolled": true
   },
   "outputs": [
    {
     "data": {
      "text/plain": [
       "title                        0\n",
       "pu_number                    0\n",
       "show_start_date              0\n",
       "type                         0\n",
       "film_studio                  0\n",
       "production_country           0\n",
       "director                     0\n",
       "producer                     0\n",
       "age_restriction              0\n",
       "refundable_support        7154\n",
       "non_refundable_support    7154\n",
       "budget                    7154\n",
       "financing_source          7154\n",
       "ratings                    967\n",
       "genres                     976\n",
       "box_office                4328\n",
       "dtype: int64"
      ]
     },
     "execution_count": 33,
     "metadata": {},
     "output_type": "execute_result"
    }
   ],
   "source": [
    "data.isna().sum() # выведем количество пропусков после заполнения части из них"
   ]
  },
  {
   "cell_type": "markdown",
   "metadata": {
    "id": "4c6k1t9ygFyQ"
   },
   "source": [
    "###  Изучим наличие дубликатов в датафрейме\n"
   ]
  },
  {
   "cell_type": "code",
   "execution_count": 34,
   "metadata": {
    "id": "aKck8RIdgFyQ"
   },
   "outputs": [
    {
     "data": {
      "text/plain": [
       "0"
      ]
     },
     "execution_count": 34,
     "metadata": {},
     "output_type": "execute_result"
    }
   ],
   "source": [
    "data.duplicated().sum()"
   ]
  },
  {
   "cell_type": "markdown",
   "metadata": {},
   "source": [
    "Полных дубликатов нет, это отлично. \n",
    "\n",
    "Проверим количество уникальных значений в каждом столбце."
   ]
  },
  {
   "cell_type": "code",
   "execution_count": 35,
   "metadata": {},
   "outputs": [
    {
     "data": {
      "text/plain": [
       "title                     6772\n",
       "pu_number                 7484\n",
       "show_start_date           1965\n",
       "type                         8\n",
       "film_studio               5491\n",
       "production_country         950\n",
       "director                  4812\n",
       "producer                  5350\n",
       "age_restriction              5\n",
       "refundable_support          34\n",
       "non_refundable_support      75\n",
       "budget                     290\n",
       "financing_source             3\n",
       "ratings                     84\n",
       "genres                     742\n",
       "box_office                2938\n",
       "dtype: int64"
      ]
     },
     "execution_count": 35,
     "metadata": {},
     "output_type": "execute_result"
    }
   ],
   "source": [
    "data.nunique()"
   ]
  },
  {
   "cell_type": "markdown",
   "metadata": {},
   "source": [
    "Пройдёмся по порядку.\n",
    "\n",
    "В столбцах **title** и **pu_number** должны быть уникальные значения. Проверим, сколько в них дубликатов."
   ]
  },
  {
   "cell_type": "code",
   "execution_count": 36,
   "metadata": {},
   "outputs": [
    {
     "name": "stdout",
     "output_type": "stream",
     "text": [
      "Количество фильмов с одинаковым названием: 1272\n",
      "\n",
      "Количество фильмов с одинаковым прокатным удостоверением: 4\n"
     ]
    }
   ],
   "source": [
    "print('Количество фильмов с одинаковым названием:', \n",
    "      len(data.loc[data['title'].duplicated(keep=False)].sort_values(by='title')))\n",
    "\n",
    "print()\n",
    "\n",
    "print('Количество фильмов с одинаковым прокатным удостоверением:', \n",
    "      len(data.loc[data['pu_number'].duplicated(keep=False)].sort_values(by='title')))"
   ]
  },
  {
   "cell_type": "markdown",
   "metadata": {},
   "source": [
    "Дубликаты в названии имеются, скорее всего, из-за того, что в России прокат иностранных фильмов часто производится позже (в мире премьеры по средам, в России по четвергам).\n",
    "\n",
    "Дубликаты в прокатном удостоверении вещь довольно-таки странная. Их немного, поэтому выведем все на экран."
   ]
  },
  {
   "cell_type": "code",
   "execution_count": 37,
   "metadata": {},
   "outputs": [
    {
     "data": {
      "text/html": [
       "<div>\n",
       "<style scoped>\n",
       "    .dataframe tbody tr th:only-of-type {\n",
       "        vertical-align: middle;\n",
       "    }\n",
       "\n",
       "    .dataframe tbody tr th {\n",
       "        vertical-align: top;\n",
       "    }\n",
       "\n",
       "    .dataframe thead th {\n",
       "        text-align: right;\n",
       "    }\n",
       "</style>\n",
       "<table border=\"1\" class=\"dataframe\">\n",
       "  <thead>\n",
       "    <tr style=\"text-align: right;\">\n",
       "      <th></th>\n",
       "      <th>title</th>\n",
       "      <th>pu_number</th>\n",
       "      <th>show_start_date</th>\n",
       "      <th>type</th>\n",
       "      <th>film_studio</th>\n",
       "      <th>production_country</th>\n",
       "      <th>director</th>\n",
       "      <th>producer</th>\n",
       "      <th>age_restriction</th>\n",
       "      <th>refundable_support</th>\n",
       "      <th>non_refundable_support</th>\n",
       "      <th>budget</th>\n",
       "      <th>financing_source</th>\n",
       "      <th>ratings</th>\n",
       "      <th>genres</th>\n",
       "      <th>box_office</th>\n",
       "    </tr>\n",
       "  </thead>\n",
       "  <tbody>\n",
       "    <tr>\n",
       "      <th>4638</th>\n",
       "      <td>Как жениться и остаться холостым</td>\n",
       "      <td>221154310</td>\n",
       "      <td>2010-12-17 12:00:00+00:00</td>\n",
       "      <td>Художественный</td>\n",
       "      <td>Ше Вам, Скрипт Ассосье, Тэ Фэ 1 Фильм Продюксь...</td>\n",
       "      <td>Франция</td>\n",
       "      <td>Эрик Лартиго</td>\n",
       "      <td>Амандин Било, Алан Шаба</td>\n",
       "      <td>«16+» - для детей старше 16 лет</td>\n",
       "      <td>NaN</td>\n",
       "      <td>NaN</td>\n",
       "      <td>NaN</td>\n",
       "      <td>NaN</td>\n",
       "      <td>7.00</td>\n",
       "      <td>мелодрама,комедия</td>\n",
       "      <td>NaN</td>\n",
       "    </tr>\n",
       "    <tr>\n",
       "      <th>4639</th>\n",
       "      <td>Иоанна - женщина на папском престоле /По роман...</td>\n",
       "      <td>221154310</td>\n",
       "      <td>2010-12-17 12:00:00+00:00</td>\n",
       "      <td>Художественный</td>\n",
       "      <td>Константин Фильм, А Эр Ди Дегето Фильм, Дюне ...</td>\n",
       "      <td>Германия - Великобритания - Италия - Испания</td>\n",
       "      <td>Зенке Вортманн</td>\n",
       "      <td>Оливер Бербен, Дорис Д.Хайнце, Фарук Элтан</td>\n",
       "      <td>«16+» - для детей старше 16 лет</td>\n",
       "      <td>NaN</td>\n",
       "      <td>NaN</td>\n",
       "      <td>NaN</td>\n",
       "      <td>NaN</td>\n",
       "      <td>7.60</td>\n",
       "      <td>драма,мелодрама,история</td>\n",
       "      <td>NaN</td>\n",
       "    </tr>\n",
       "    <tr>\n",
       "      <th>5067</th>\n",
       "      <td>Анализируй это!</td>\n",
       "      <td>221054410</td>\n",
       "      <td>2010-05-25 12:00:00+00:00</td>\n",
       "      <td>Художественный</td>\n",
       "      <td>Уорнер Бразерс, Вилладж Роудшоу Филмз ЛТД</td>\n",
       "      <td>США-Австралия</td>\n",
       "      <td>ХЭрольд Рэмис</td>\n",
       "      <td>Джейн Розенталь, Пола Уейнстейн</td>\n",
       "      <td>«16+» - для детей старше 16 лет</td>\n",
       "      <td>NaN</td>\n",
       "      <td>NaN</td>\n",
       "      <td>NaN</td>\n",
       "      <td>NaN</td>\n",
       "      <td>7.40</td>\n",
       "      <td>комедия,криминал</td>\n",
       "      <td>NaN</td>\n",
       "    </tr>\n",
       "    <tr>\n",
       "      <th>5068</th>\n",
       "      <td>Анализируй то!</td>\n",
       "      <td>221054410</td>\n",
       "      <td>2010-05-25 12:00:00+00:00</td>\n",
       "      <td>Художественный</td>\n",
       "      <td>Уорнер Бразерс, Виллидж Роадшоу Пикчерз, Эн-Пи...</td>\n",
       "      <td>США</td>\n",
       "      <td>Гарольд Реймис</td>\n",
       "      <td>Джейн Розенталь, Паул Уэйнстейн</td>\n",
       "      <td>«12+» - для детей старше 12 лет</td>\n",
       "      <td>NaN</td>\n",
       "      <td>NaN</td>\n",
       "      <td>NaN</td>\n",
       "      <td>NaN</td>\n",
       "      <td>6.80</td>\n",
       "      <td>комедия,криминал</td>\n",
       "      <td>NaN</td>\n",
       "    </tr>\n",
       "  </tbody>\n",
       "</table>\n",
       "</div>"
      ],
      "text/plain": [
       "                                                  title  pu_number  \\\n",
       "4638                   Как жениться и остаться холостым  221154310   \n",
       "4639  Иоанна - женщина на папском престоле /По роман...  221154310   \n",
       "5067                                    Анализируй это!  221054410   \n",
       "5068                                     Анализируй то!  221054410   \n",
       "\n",
       "               show_start_date            type  \\\n",
       "4638 2010-12-17 12:00:00+00:00  Художественный   \n",
       "4639 2010-12-17 12:00:00+00:00  Художественный   \n",
       "5067 2010-05-25 12:00:00+00:00  Художественный   \n",
       "5068 2010-05-25 12:00:00+00:00  Художественный   \n",
       "\n",
       "                                            film_studio  \\\n",
       "4638  Ше Вам, Скрипт Ассосье, Тэ Фэ 1 Фильм Продюксь...   \n",
       "4639   Константин Фильм, А Эр Ди Дегето Фильм, Дюне ...   \n",
       "5067          Уорнер Бразерс, Вилладж Роудшоу Филмз ЛТД   \n",
       "5068  Уорнер Бразерс, Виллидж Роадшоу Пикчерз, Эн-Пи...   \n",
       "\n",
       "                                production_country        director  \\\n",
       "4638                                       Франция    Эрик Лартиго   \n",
       "4639  Германия - Великобритания - Италия - Испания  Зенке Вортманн   \n",
       "5067                                 США-Австралия   ХЭрольд Рэмис   \n",
       "5068                                           США  Гарольд Реймис   \n",
       "\n",
       "                                        producer  \\\n",
       "4638                     Амандин Било, Алан Шаба   \n",
       "4639  Оливер Бербен, Дорис Д.Хайнце, Фарук Элтан   \n",
       "5067             Джейн Розенталь, Пола Уейнстейн   \n",
       "5068             Джейн Розенталь, Паул Уэйнстейн   \n",
       "\n",
       "                      age_restriction  refundable_support  \\\n",
       "4638  «16+» - для детей старше 16 лет                 NaN   \n",
       "4639  «16+» - для детей старше 16 лет                 NaN   \n",
       "5067  «16+» - для детей старше 16 лет                 NaN   \n",
       "5068  «12+» - для детей старше 12 лет                 NaN   \n",
       "\n",
       "      non_refundable_support  budget financing_source  ratings  \\\n",
       "4638                     NaN     NaN              NaN     7.00   \n",
       "4639                     NaN     NaN              NaN     7.60   \n",
       "5067                     NaN     NaN              NaN     7.40   \n",
       "5068                     NaN     NaN              NaN     6.80   \n",
       "\n",
       "                       genres  box_office  \n",
       "4638        мелодрама,комедия         NaN  \n",
       "4639  драма,мелодрама,история         NaN  \n",
       "5067         комедия,криминал         NaN  \n",
       "5068         комедия,криминал         NaN  "
      ]
     },
     "execution_count": 37,
     "metadata": {},
     "output_type": "execute_result"
    }
   ],
   "source": [
    "data.loc[data['pu_number'].duplicated(keep=False)]"
   ]
  },
  {
   "cell_type": "markdown",
   "metadata": {},
   "source": [
    "В строках 4638 и 4639 номер прокатного удостоверения одинаков, вероятнее всего, из-за человеческого фактора.\n",
    "\n",
    "Строки 5067 и 5068 посвящены одному и тому же фильму, однако во втором случае есть два несоответствия с действительностью (по информации КиноПоиска):\n",
    "- возрастная категория не «12+», а «16+»;\n",
    "- рейтинг фильма (на 12.07.2023) 7.4, а не 6.8.\n",
    "\n",
    "Удалим строку 5068 и исправим имя режиссёра в строке 5067."
   ]
  },
  {
   "cell_type": "code",
   "execution_count": 38,
   "metadata": {},
   "outputs": [],
   "source": [
    "data = data.drop(index = 5068) # удаляем строку 5068\n",
    "data['director'] = data['director'].replace('ХЭрольд Рэмис', 'Харольд Рэмис')"
   ]
  },
  {
   "cell_type": "markdown",
   "metadata": {},
   "source": [
    "Пройдёмся по остальным столбцам.\n",
    "\n",
    "**show_start_date**. Учитывая, что премьеры обычно случаются по средам / по четвергам, не удивительно, что в данном поле имеются дубликаты.\n",
    "\n",
    "**type**. На первый взгляд, проблем нет.\n",
    "\n",
    "**film_studio**. Каждый фильм не будет сниматься под руководством разных студий. \n",
    "\n",
    "**production_country**. В одной стране может быть снято неограниченное количество фильмов.\n",
    "\n",
    "**director** и **producer**. У режиссёров и продюссеров может быть по несколько фильмов.\n",
    "\n",
    "**age_restriction**. На первый взгляд, проблем нет.\n",
    "\n",
    "**refundable_support**, **nonrefundable_support**, **budget**, **box_office**. В данных столбцах содержится информация в виде денежных средств. Совпадения в данных случаях неизбежны.\n",
    "\n",
    "**financing_source**. Немного источников государственного финансирования.\n",
    "\n",
    "**ratings**. Так как рейтинг определяется от 0 до 10 с шагом в 0,1, неудивительно, что в данном столбце имеются дубликаты.\n",
    "\n",
    "**genres**. Так как фильм может иметь несколько жанров, то это нормально, что уникальных значений здесь достаточно много."
   ]
  },
  {
   "cell_type": "markdown",
   "metadata": {},
   "source": [
    "**Вывод:**\n",
    "\n",
    "В ходе данного шага было выполнено следующее:\n",
    "- описаны возможные причины появления дубликатов в каждом из столбцов;\n",
    "- удалён дубликат, выявленный по одинаковому номеру прокатного удостоверения;\n",
    "- заменено имя режиссёра в строке 5067."
   ]
  },
  {
   "cell_type": "markdown",
   "metadata": {
    "id": "52fOPrEBgFyQ"
   },
   "source": [
    "### Изучим категориальные значения\n",
    "\n"
   ]
  },
  {
   "cell_type": "markdown",
   "metadata": {
    "id": "PnXKIVdFgFyR"
   },
   "source": [
    "Для начала перечислим столбцы с категориальными значениями:\n",
    "\n",
    "- **type**;\n",
    "- **film_studio**;\n",
    "- **production_country**;\n",
    "- **director**; \n",
    "- **producer**;\n",
    "- **age_restriction**;\n",
    "- **financing_source**;\n",
    "- **ratings**;\n",
    "- **genres**.\n",
    "\n",
    "Посмотрим на каждый столбец в отдельности."
   ]
  },
  {
   "cell_type": "code",
   "execution_count": 39,
   "metadata": {},
   "outputs": [
    {
     "data": {
      "text/plain": [
       "array(['Художественный', 'Анимационный', 'Прочие', 'Документальный',\n",
       "       'Научно-популярный', ' Художественный', ' Анимационный',\n",
       "       'Музыкально-развлекательный'], dtype=object)"
      ]
     },
     "execution_count": 39,
     "metadata": {},
     "output_type": "execute_result"
    }
   ],
   "source": [
    "data['type'].unique() \n",
    "#выведем уникальные значения столбца type"
   ]
  },
  {
   "cell_type": "markdown",
   "metadata": {},
   "source": [
    "Избавимся от пробелов перед названиями типов фильмов."
   ]
  },
  {
   "cell_type": "code",
   "execution_count": 40,
   "metadata": {},
   "outputs": [],
   "source": [
    "data['type'] = data['type'].str.strip()"
   ]
  },
  {
   "cell_type": "markdown",
   "metadata": {},
   "source": [
    "Предположим, что в остальных столбцах есть такая же проблема. Исправим эту проблему."
   ]
  },
  {
   "cell_type": "code",
   "execution_count": 41,
   "metadata": {},
   "outputs": [
    {
     "name": "stdout",
     "output_type": "stream",
     "text": [
      "film_studio\n",
      "Уникальных значений было: 5490\n",
      "Уникальных значений стало: 5462\n",
      "\n",
      "production_country\n",
      "Уникальных значений было: 950\n",
      "Уникальных значений стало: 934\n",
      "\n",
      "director\n",
      "Уникальных значений было: 4811\n",
      "Уникальных значений стало: 4801\n",
      "\n",
      "producer\n",
      "Уникальных значений было: 5349\n",
      "Уникальных значений стало: 5334\n",
      "\n",
      "age_restriction\n",
      "Уникальных значений было: 5\n",
      "Уникальных значений стало: 5\n",
      "\n",
      "financing_source\n",
      "Уникальных значений было: 3\n",
      "Уникальных значений стало: 3\n",
      "\n",
      "genres\n",
      "Уникальных значений было: 742\n",
      "Уникальных значений стало: 742\n",
      "\n"
     ]
    }
   ],
   "source": [
    "for column in ['film_studio', 'production_country', 'director', 'producer', 'age_restriction', 'financing_source', 'genres']:\n",
    "    print(column)\n",
    "    print('Уникальных значений было:', data[column].nunique())\n",
    "    data[column] = data[column].str.strip()\n",
    "    print('Уникальных значений стало:', data[column].nunique())\n",
    "    print()"
   ]
  },
  {
   "cell_type": "markdown",
   "metadata": {},
   "source": [
    "Как можно заметить, данная проблема была в части столбцов. Столбец **ratings** мы не анализируем, так как в нём содержатся значения с типом данных *float*.\n",
    "***\n",
    "В столбце **ratings** имеются фильмы с рейтингом 9,9, хотя на КиноПоиске максимальный рейтинг принаджелит фильму Зелёная миля (9,2).\n",
    "\n",
    "Выведем строки, у которых рейтинг больше или равен 9.0."
   ]
  },
  {
   "cell_type": "code",
   "execution_count": 42,
   "metadata": {},
   "outputs": [
    {
     "data": {
      "text/html": [
       "<div>\n",
       "<style scoped>\n",
       "    .dataframe tbody tr th:only-of-type {\n",
       "        vertical-align: middle;\n",
       "    }\n",
       "\n",
       "    .dataframe tbody tr th {\n",
       "        vertical-align: top;\n",
       "    }\n",
       "\n",
       "    .dataframe thead th {\n",
       "        text-align: right;\n",
       "    }\n",
       "</style>\n",
       "<table border=\"1\" class=\"dataframe\">\n",
       "  <thead>\n",
       "    <tr style=\"text-align: right;\">\n",
       "      <th></th>\n",
       "      <th>title</th>\n",
       "      <th>pu_number</th>\n",
       "      <th>show_start_date</th>\n",
       "      <th>type</th>\n",
       "      <th>film_studio</th>\n",
       "      <th>production_country</th>\n",
       "      <th>director</th>\n",
       "      <th>producer</th>\n",
       "      <th>age_restriction</th>\n",
       "      <th>refundable_support</th>\n",
       "      <th>non_refundable_support</th>\n",
       "      <th>budget</th>\n",
       "      <th>financing_source</th>\n",
       "      <th>ratings</th>\n",
       "      <th>genres</th>\n",
       "      <th>box_office</th>\n",
       "    </tr>\n",
       "  </thead>\n",
       "  <tbody>\n",
       "    <tr>\n",
       "      <th>259</th>\n",
       "      <td>Прошлое</td>\n",
       "      <td>221030715</td>\n",
       "      <td>2015-07-29 12:00:00+00:00</td>\n",
       "      <td>Художественный</td>\n",
       "      <td>20 Сенчюри Фокс де Архентина, Чемо, ЭйчБи Филм...</td>\n",
       "      <td>Аргентина - Бразилия</td>\n",
       "      <td>Эктор Бабенко</td>\n",
       "      <td>Эктор Бабенко, Оскар Крамер, Хуго Сидмэн</td>\n",
       "      <td>«16+» - для детей старше 16 лет</td>\n",
       "      <td>NaN</td>\n",
       "      <td>NaN</td>\n",
       "      <td>NaN</td>\n",
       "      <td>NaN</td>\n",
       "      <td>9.90</td>\n",
       "      <td>ужасы,триллер,драма</td>\n",
       "      <td>NaN</td>\n",
       "    </tr>\n",
       "    <tr>\n",
       "      <th>1053</th>\n",
       "      <td>Песочный человек</td>\n",
       "      <td>121029212</td>\n",
       "      <td>2012-11-29 12:00:00+00:00</td>\n",
       "      <td>Художественный</td>\n",
       "      <td>Спотлайт Медиа Продакшн</td>\n",
       "      <td>Швейцария</td>\n",
       "      <td>Питер Луизи</td>\n",
       "      <td>Дэвид Луизи, Питер Луизи</td>\n",
       "      <td>«16+» - для детей старше 16 лет</td>\n",
       "      <td>NaN</td>\n",
       "      <td>NaN</td>\n",
       "      <td>NaN</td>\n",
       "      <td>NaN</td>\n",
       "      <td>9.70</td>\n",
       "      <td>ужасы,фантастика,фэнтези</td>\n",
       "      <td>NaN</td>\n",
       "    </tr>\n",
       "    <tr>\n",
       "      <th>1341</th>\n",
       "      <td>Сказка о добре и Вре</td>\n",
       "      <td>111008913</td>\n",
       "      <td>2013-11-15 12:00:00+00:00</td>\n",
       "      <td>Художественный</td>\n",
       "      <td>НП \"Студия игрового кино \"Лик\"</td>\n",
       "      <td>Россия</td>\n",
       "      <td>Е.Шиляева</td>\n",
       "      <td>К.Терещенко</td>\n",
       "      <td>«6+» - для детей старше 6 лет</td>\n",
       "      <td>NaN</td>\n",
       "      <td>NaN</td>\n",
       "      <td>NaN</td>\n",
       "      <td>NaN</td>\n",
       "      <td>9.90</td>\n",
       "      <td>триллер,драма,детектив</td>\n",
       "      <td>NaN</td>\n",
       "    </tr>\n",
       "    <tr>\n",
       "      <th>1471</th>\n",
       "      <td>Друзья друзей</td>\n",
       "      <td>111014513</td>\n",
       "      <td>2013-12-19 12:00:00+00:00</td>\n",
       "      <td>Художественный</td>\n",
       "      <td>ООО \"ЕМ Продакшн\"</td>\n",
       "      <td>Россия</td>\n",
       "      <td>А.Аксененко</td>\n",
       "      <td>Г.Малков, В.Поляков, Г.Андреасян, С.Андреасян</td>\n",
       "      <td>«16+» - для детей старше 16 лет</td>\n",
       "      <td>NaN</td>\n",
       "      <td>NaN</td>\n",
       "      <td>NaN</td>\n",
       "      <td>NaN</td>\n",
       "      <td>9.20</td>\n",
       "      <td>комедия,мелодрама</td>\n",
       "      <td>27,780.00</td>\n",
       "    </tr>\n",
       "    <tr>\n",
       "      <th>1805</th>\n",
       "      <td>Спираль.</td>\n",
       "      <td>111001014</td>\n",
       "      <td>2014-01-30 12:00:00+00:00</td>\n",
       "      <td>Художественный</td>\n",
       "      <td>ООО \"Компания Питон\"</td>\n",
       "      <td>Россия</td>\n",
       "      <td>А.Волгин</td>\n",
       "      <td>Е.Ковалева</td>\n",
       "      <td>«12+» - для детей старше 12 лет</td>\n",
       "      <td>NaN</td>\n",
       "      <td>NaN</td>\n",
       "      <td>NaN</td>\n",
       "      <td>NaN</td>\n",
       "      <td>9.90</td>\n",
       "      <td>аниме,мультфильм,ужасы</td>\n",
       "      <td>4,295.00</td>\n",
       "    </tr>\n",
       "    <tr>\n",
       "      <th>2126</th>\n",
       "      <td>Поездка к матери</td>\n",
       "      <td>111002015</td>\n",
       "      <td>2015-03-02 12:00:00+00:00</td>\n",
       "      <td>Художественный</td>\n",
       "      <td>ЗАО \"Киностудия \"М\"-Фильм\"</td>\n",
       "      <td>Россия</td>\n",
       "      <td>М.Косырев-Нестеров</td>\n",
       "      <td>М.Косырев-Нестеров</td>\n",
       "      <td>«16+» - для детей старше 16 лет</td>\n",
       "      <td>NaN</td>\n",
       "      <td>NaN</td>\n",
       "      <td>NaN</td>\n",
       "      <td>NaN</td>\n",
       "      <td>9.10</td>\n",
       "      <td>драма,семейный</td>\n",
       "      <td>0.00</td>\n",
       "    </tr>\n",
       "    <tr>\n",
       "      <th>2146</th>\n",
       "      <td>Главный</td>\n",
       "      <td>111003415</td>\n",
       "      <td>2015-03-27 12:00:00+00:00</td>\n",
       "      <td>Художественный</td>\n",
       "      <td>ООО \"Киностудия \"МАСТЕР\"</td>\n",
       "      <td>Россия</td>\n",
       "      <td>Ю.Кара</td>\n",
       "      <td>Ю.Кара</td>\n",
       "      <td>«6+» - для детей старше 6 лет</td>\n",
       "      <td>0.00</td>\n",
       "      <td>10,000,000.00</td>\n",
       "      <td>40,000,000.00</td>\n",
       "      <td>Министерство культуры</td>\n",
       "      <td>9.40</td>\n",
       "      <td>фантастика,боевик,комедия</td>\n",
       "      <td>334,750.00</td>\n",
       "    </tr>\n",
       "    <tr>\n",
       "      <th>3139</th>\n",
       "      <td>Я умею вязать</td>\n",
       "      <td>111019615</td>\n",
       "      <td>2015-11-27 12:00:00+00:00</td>\n",
       "      <td>Художественный</td>\n",
       "      <td>ООО \"Белое Зеркало\"</td>\n",
       "      <td>Россия</td>\n",
       "      <td>Н.Степанова при участии С.Иванова</td>\n",
       "      <td>С.Кикнавелидзе, Д.Улюкаев</td>\n",
       "      <td>«16+» - для детей старше 16 лет</td>\n",
       "      <td>0.00</td>\n",
       "      <td>4,700,000.00</td>\n",
       "      <td>14,462,464.00</td>\n",
       "      <td>Министерство культуры</td>\n",
       "      <td>9.00</td>\n",
       "      <td>драма</td>\n",
       "      <td>801,370.00</td>\n",
       "    </tr>\n",
       "    <tr>\n",
       "      <th>3514</th>\n",
       "      <td>Чужой дом</td>\n",
       "      <td>111015516</td>\n",
       "      <td>2016-09-14 12:00:00+00:00</td>\n",
       "      <td>Художественный</td>\n",
       "      <td>ООО \"Лига Продакшн\"</td>\n",
       "      <td>Россия, Грузия, Хорватия, Испания</td>\n",
       "      <td>Р.Глурджидзе</td>\n",
       "      <td>З.Магалашвили, К.Гечмен-Вальдек, Н.Горшкова</td>\n",
       "      <td>«12+» - для детей старше 12 лет</td>\n",
       "      <td>NaN</td>\n",
       "      <td>NaN</td>\n",
       "      <td>NaN</td>\n",
       "      <td>NaN</td>\n",
       "      <td>9.10</td>\n",
       "      <td>драма</td>\n",
       "      <td>NaN</td>\n",
       "    </tr>\n",
       "    <tr>\n",
       "      <th>3585</th>\n",
       "      <td>Машины Страшилки. Серия \"Жутчайшая повесть о п...</td>\n",
       "      <td>114003916</td>\n",
       "      <td>2016-12-09 12:00:00+00:00</td>\n",
       "      <td>Анимационный</td>\n",
       "      <td>ООО Студия \"АНИМАККОРД\", АНИМАККОРД ЛТД.</td>\n",
       "      <td>Россия, Республика Кипр</td>\n",
       "      <td>Д.Червяцов</td>\n",
       "      <td>Д.Ловейко, О.Кузовков</td>\n",
       "      <td>«0+» - для любой зрительской аудитории</td>\n",
       "      <td>NaN</td>\n",
       "      <td>NaN</td>\n",
       "      <td>NaN</td>\n",
       "      <td>NaN</td>\n",
       "      <td>9.70</td>\n",
       "      <td>мультфильм,ужасы,фэнтези</td>\n",
       "      <td>NaN</td>\n",
       "    </tr>\n",
       "    <tr>\n",
       "      <th>3948</th>\n",
       "      <td>Круиз.</td>\n",
       "      <td>211038210</td>\n",
       "      <td>2010-09-03 12:00:00+00:00</td>\n",
       "      <td>Художественный</td>\n",
       "      <td>ООО \"ЮНАЙТЕД МУЛЬТИМЕДИА ПРОДЖЕКТС\"</td>\n",
       "      <td>Россия</td>\n",
       "      <td>И.Ромащенко</td>\n",
       "      <td>Р.Атамалибеков</td>\n",
       "      <td>«16+» - для детей старше 16 лет</td>\n",
       "      <td>NaN</td>\n",
       "      <td>NaN</td>\n",
       "      <td>NaN</td>\n",
       "      <td>NaN</td>\n",
       "      <td>9.70</td>\n",
       "      <td>приключения,комедия,фэнтези</td>\n",
       "      <td>NaN</td>\n",
       "    </tr>\n",
       "    <tr>\n",
       "      <th>5821</th>\n",
       "      <td>Свинья</td>\n",
       "      <td>121007018</td>\n",
       "      <td>2018-04-11 12:00:00+00:00</td>\n",
       "      <td>Художественный</td>\n",
       "      <td>Дарк Прекёрсор Продакшен, Филмиран, Хедейт Филм</td>\n",
       "      <td>Иран</td>\n",
       "      <td>Мани Хагиги</td>\n",
       "      <td>Мани Хагиги</td>\n",
       "      <td>«18+» - запрещено для детей</td>\n",
       "      <td>NaN</td>\n",
       "      <td>NaN</td>\n",
       "      <td>NaN</td>\n",
       "      <td>NaN</td>\n",
       "      <td>9.40</td>\n",
       "      <td>триллер,драма</td>\n",
       "      <td>1,587,221.51</td>\n",
       "    </tr>\n",
       "    <tr>\n",
       "      <th>5910</th>\n",
       "      <td>Мира</td>\n",
       "      <td>112000118</td>\n",
       "      <td>2018-06-04 12:00:00+00:00</td>\n",
       "      <td>Документальный</td>\n",
       "      <td>ООО \"Компания \"Новые люди\"</td>\n",
       "      <td>Россия</td>\n",
       "      <td>Д.Шабаев</td>\n",
       "      <td>Н.Мокрицкая</td>\n",
       "      <td>«18+» - запрещено для детей</td>\n",
       "      <td>NaN</td>\n",
       "      <td>NaN</td>\n",
       "      <td>NaN</td>\n",
       "      <td>NaN</td>\n",
       "      <td>9.40</td>\n",
       "      <td>драма</td>\n",
       "      <td>NaN</td>\n",
       "    </tr>\n",
       "    <tr>\n",
       "      <th>6169</th>\n",
       "      <td>Анимационный фильм \"Малышарики 3\", серия \"Нужн...</td>\n",
       "      <td>114005118</td>\n",
       "      <td>2018-08-27 12:00:00+00:00</td>\n",
       "      <td>Анимационный</td>\n",
       "      <td>ООО \"Продюсерский центр \"Рики\"</td>\n",
       "      <td>Россия</td>\n",
       "      <td>М.Мошкова</td>\n",
       "      <td>И.Попов, Ю.Осетинская</td>\n",
       "      <td>«0+» - для любой зрительской аудитории</td>\n",
       "      <td>NaN</td>\n",
       "      <td>NaN</td>\n",
       "      <td>NaN</td>\n",
       "      <td>NaN</td>\n",
       "      <td>9.00</td>\n",
       "      <td>мультфильм,детский,семейный</td>\n",
       "      <td>NaN</td>\n",
       "    </tr>\n",
       "    <tr>\n",
       "      <th>6172</th>\n",
       "      <td>Анимационный фильм \"Малышарики 3\", серия \"Пода...</td>\n",
       "      <td>114005418</td>\n",
       "      <td>2018-08-27 12:00:00+00:00</td>\n",
       "      <td>Анимационный</td>\n",
       "      <td>ООО \"Продюсерский центр \"Рики\"</td>\n",
       "      <td>Россия</td>\n",
       "      <td>М.Мошкова</td>\n",
       "      <td>И.Попов, Ю.Осетинская</td>\n",
       "      <td>«0+» - для любой зрительской аудитории</td>\n",
       "      <td>NaN</td>\n",
       "      <td>NaN</td>\n",
       "      <td>NaN</td>\n",
       "      <td>NaN</td>\n",
       "      <td>9.00</td>\n",
       "      <td>мультфильм,детский,семейный</td>\n",
       "      <td>NaN</td>\n",
       "    </tr>\n",
       "    <tr>\n",
       "      <th>6426</th>\n",
       "      <td>Памятные даты России. Партизаны и подпольщики</td>\n",
       "      <td>112013018</td>\n",
       "      <td>2018-11-28 12:00:00+00:00</td>\n",
       "      <td>Документальный</td>\n",
       "      <td>ООО Кинокомпания \"Вектор\"</td>\n",
       "      <td>Россия</td>\n",
       "      <td>Н.Иванова, А.Кузнецова</td>\n",
       "      <td>В.Коханович</td>\n",
       "      <td>«12+» - для детей старше 12 лет</td>\n",
       "      <td>NaN</td>\n",
       "      <td>NaN</td>\n",
       "      <td>NaN</td>\n",
       "      <td>NaN</td>\n",
       "      <td>9.10</td>\n",
       "      <td>драма,биография</td>\n",
       "      <td>NaN</td>\n",
       "    </tr>\n",
       "    <tr>\n",
       "      <th>6616</th>\n",
       "      <td>ОТ ВОЙНЫ ДО НАШИХ ДНЕЙ</td>\n",
       "      <td>111026518</td>\n",
       "      <td>2019-01-21 12:00:00+00:00</td>\n",
       "      <td>Художественный</td>\n",
       "      <td>ИП Вайсман Анатолий Александрович</td>\n",
       "      <td>Россия</td>\n",
       "      <td>А.Сазонов, Е.Климович, А.Коломеец, С.Черникова...</td>\n",
       "      <td>Д.Руюежин, Л.Пятницкая, Д.Колеров, Э.Ким, А.Хомич</td>\n",
       "      <td>«12+» - для детей старше 12 лет</td>\n",
       "      <td>NaN</td>\n",
       "      <td>NaN</td>\n",
       "      <td>NaN</td>\n",
       "      <td>NaN</td>\n",
       "      <td>9.80</td>\n",
       "      <td>фантастика,боевик</td>\n",
       "      <td>NaN</td>\n",
       "    </tr>\n",
       "    <tr>\n",
       "      <th>6737</th>\n",
       "      <td>Колесо времени</td>\n",
       "      <td>111003219</td>\n",
       "      <td>2019-03-01 12:00:00+00:00</td>\n",
       "      <td>Художественный</td>\n",
       "      <td>ООО \"БестМедиа\"</td>\n",
       "      <td>Россия</td>\n",
       "      <td>Б.Куломзин</td>\n",
       "      <td>Б.Куломзин</td>\n",
       "      <td>«6+» - для детей старше 6 лет</td>\n",
       "      <td>NaN</td>\n",
       "      <td>NaN</td>\n",
       "      <td>NaN</td>\n",
       "      <td>NaN</td>\n",
       "      <td>9.80</td>\n",
       "      <td>фэнтези,приключения</td>\n",
       "      <td>34,992.00</td>\n",
       "    </tr>\n",
       "    <tr>\n",
       "      <th>6882</th>\n",
       "      <td>Животные рядом со Святыми</td>\n",
       "      <td>112003719</td>\n",
       "      <td>2019-05-03 12:00:00+00:00</td>\n",
       "      <td>Документальный</td>\n",
       "      <td>ООО \"Кинопрограмма \"XXI век\"</td>\n",
       "      <td>Россия</td>\n",
       "      <td>Т.Мирошник</td>\n",
       "      <td>В.Есинов, Е.Калинина</td>\n",
       "      <td>«0+» - для любой зрительской аудитории</td>\n",
       "      <td>NaN</td>\n",
       "      <td>NaN</td>\n",
       "      <td>NaN</td>\n",
       "      <td>NaN</td>\n",
       "      <td>9.90</td>\n",
       "      <td>криминал,драма</td>\n",
       "      <td>NaN</td>\n",
       "    </tr>\n",
       "    <tr>\n",
       "      <th>7302</th>\n",
       "      <td>Побег из Шоушенка</td>\n",
       "      <td>121029519</td>\n",
       "      <td>2019-10-18 12:00:00+00:00</td>\n",
       "      <td>Художественный</td>\n",
       "      <td>Уорнер Броз. Пикчерз, Кастл Рок Интертейнмент</td>\n",
       "      <td>США</td>\n",
       "      <td>Фрэнк Дарабонт</td>\n",
       "      <td>Лиз Глоцер, Дэвид В.Лестер, Ники Марвин</td>\n",
       "      <td>«16+» - для детей старше 16 лет</td>\n",
       "      <td>NaN</td>\n",
       "      <td>NaN</td>\n",
       "      <td>NaN</td>\n",
       "      <td>NaN</td>\n",
       "      <td>9.10</td>\n",
       "      <td>драма</td>\n",
       "      <td>NaN</td>\n",
       "    </tr>\n",
       "  </tbody>\n",
       "</table>\n",
       "</div>"
      ],
      "text/plain": [
       "                                                  title  pu_number  \\\n",
       "259                                             Прошлое  221030715   \n",
       "1053                                   Песочный человек  121029212   \n",
       "1341                               Сказка о добре и Вре  111008913   \n",
       "1471                                      Друзья друзей  111014513   \n",
       "1805                                           Спираль.  111001014   \n",
       "2126                                   Поездка к матери  111002015   \n",
       "2146                                            Главный  111003415   \n",
       "3139                                      Я умею вязать  111019615   \n",
       "3514                                          Чужой дом  111015516   \n",
       "3585  Машины Страшилки. Серия \"Жутчайшая повесть о п...  114003916   \n",
       "3948                                             Круиз.  211038210   \n",
       "5821                                             Свинья  121007018   \n",
       "5910                                               Мира  112000118   \n",
       "6169  Анимационный фильм \"Малышарики 3\", серия \"Нужн...  114005118   \n",
       "6172  Анимационный фильм \"Малышарики 3\", серия \"Пода...  114005418   \n",
       "6426      Памятные даты России. Партизаны и подпольщики  112013018   \n",
       "6616                             ОТ ВОЙНЫ ДО НАШИХ ДНЕЙ  111026518   \n",
       "6737                                     Колесо времени  111003219   \n",
       "6882                          Животные рядом со Святыми  112003719   \n",
       "7302                                  Побег из Шоушенка  121029519   \n",
       "\n",
       "               show_start_date            type  \\\n",
       "259  2015-07-29 12:00:00+00:00  Художественный   \n",
       "1053 2012-11-29 12:00:00+00:00  Художественный   \n",
       "1341 2013-11-15 12:00:00+00:00  Художественный   \n",
       "1471 2013-12-19 12:00:00+00:00  Художественный   \n",
       "1805 2014-01-30 12:00:00+00:00  Художественный   \n",
       "2126 2015-03-02 12:00:00+00:00  Художественный   \n",
       "2146 2015-03-27 12:00:00+00:00  Художественный   \n",
       "3139 2015-11-27 12:00:00+00:00  Художественный   \n",
       "3514 2016-09-14 12:00:00+00:00  Художественный   \n",
       "3585 2016-12-09 12:00:00+00:00    Анимационный   \n",
       "3948 2010-09-03 12:00:00+00:00  Художественный   \n",
       "5821 2018-04-11 12:00:00+00:00  Художественный   \n",
       "5910 2018-06-04 12:00:00+00:00  Документальный   \n",
       "6169 2018-08-27 12:00:00+00:00    Анимационный   \n",
       "6172 2018-08-27 12:00:00+00:00    Анимационный   \n",
       "6426 2018-11-28 12:00:00+00:00  Документальный   \n",
       "6616 2019-01-21 12:00:00+00:00  Художественный   \n",
       "6737 2019-03-01 12:00:00+00:00  Художественный   \n",
       "6882 2019-05-03 12:00:00+00:00  Документальный   \n",
       "7302 2019-10-18 12:00:00+00:00  Художественный   \n",
       "\n",
       "                                            film_studio  \\\n",
       "259   20 Сенчюри Фокс де Архентина, Чемо, ЭйчБи Филм...   \n",
       "1053                            Спотлайт Медиа Продакшн   \n",
       "1341                     НП \"Студия игрового кино \"Лик\"   \n",
       "1471                                  ООО \"ЕМ Продакшн\"   \n",
       "1805                               ООО \"Компания Питон\"   \n",
       "2126                         ЗАО \"Киностудия \"М\"-Фильм\"   \n",
       "2146                           ООО \"Киностудия \"МАСТЕР\"   \n",
       "3139                                ООО \"Белое Зеркало\"   \n",
       "3514                                ООО \"Лига Продакшн\"   \n",
       "3585           ООО Студия \"АНИМАККОРД\", АНИМАККОРД ЛТД.   \n",
       "3948                ООО \"ЮНАЙТЕД МУЛЬТИМЕДИА ПРОДЖЕКТС\"   \n",
       "5821    Дарк Прекёрсор Продакшен, Филмиран, Хедейт Филм   \n",
       "5910                         ООО \"Компания \"Новые люди\"   \n",
       "6169                     ООО \"Продюсерский центр \"Рики\"   \n",
       "6172                     ООО \"Продюсерский центр \"Рики\"   \n",
       "6426                          ООО Кинокомпания \"Вектор\"   \n",
       "6616                  ИП Вайсман Анатолий Александрович   \n",
       "6737                                    ООО \"БестМедиа\"   \n",
       "6882                       ООО \"Кинопрограмма \"XXI век\"   \n",
       "7302      Уорнер Броз. Пикчерз, Кастл Рок Интертейнмент   \n",
       "\n",
       "                     production_country  \\\n",
       "259                Аргентина - Бразилия   \n",
       "1053                          Швейцария   \n",
       "1341                             Россия   \n",
       "1471                             Россия   \n",
       "1805                             Россия   \n",
       "2126                             Россия   \n",
       "2146                             Россия   \n",
       "3139                             Россия   \n",
       "3514  Россия, Грузия, Хорватия, Испания   \n",
       "3585            Россия, Республика Кипр   \n",
       "3948                             Россия   \n",
       "5821                               Иран   \n",
       "5910                             Россия   \n",
       "6169                             Россия   \n",
       "6172                             Россия   \n",
       "6426                             Россия   \n",
       "6616                             Россия   \n",
       "6737                             Россия   \n",
       "6882                             Россия   \n",
       "7302                                США   \n",
       "\n",
       "                                               director  \\\n",
       "259                                       Эктор Бабенко   \n",
       "1053                                        Питер Луизи   \n",
       "1341                                          Е.Шиляева   \n",
       "1471                                        А.Аксененко   \n",
       "1805                                           А.Волгин   \n",
       "2126                                 М.Косырев-Нестеров   \n",
       "2146                                             Ю.Кара   \n",
       "3139                  Н.Степанова при участии С.Иванова   \n",
       "3514                                       Р.Глурджидзе   \n",
       "3585                                         Д.Червяцов   \n",
       "3948                                        И.Ромащенко   \n",
       "5821                                        Мани Хагиги   \n",
       "5910                                           Д.Шабаев   \n",
       "6169                                          М.Мошкова   \n",
       "6172                                          М.Мошкова   \n",
       "6426                             Н.Иванова, А.Кузнецова   \n",
       "6616  А.Сазонов, Е.Климович, А.Коломеец, С.Черникова...   \n",
       "6737                                         Б.Куломзин   \n",
       "6882                                         Т.Мирошник   \n",
       "7302                                     Фрэнк Дарабонт   \n",
       "\n",
       "                                               producer  \\\n",
       "259            Эктор Бабенко, Оскар Крамер, Хуго Сидмэн   \n",
       "1053                           Дэвид Луизи, Питер Луизи   \n",
       "1341                                        К.Терещенко   \n",
       "1471      Г.Малков, В.Поляков, Г.Андреасян, С.Андреасян   \n",
       "1805                                         Е.Ковалева   \n",
       "2126                                 М.Косырев-Нестеров   \n",
       "2146                                             Ю.Кара   \n",
       "3139                          С.Кикнавелидзе, Д.Улюкаев   \n",
       "3514        З.Магалашвили, К.Гечмен-Вальдек, Н.Горшкова   \n",
       "3585                              Д.Ловейко, О.Кузовков   \n",
       "3948                                     Р.Атамалибеков   \n",
       "5821                                        Мани Хагиги   \n",
       "5910                                        Н.Мокрицкая   \n",
       "6169                              И.Попов, Ю.Осетинская   \n",
       "6172                              И.Попов, Ю.Осетинская   \n",
       "6426                                        В.Коханович   \n",
       "6616  Д.Руюежин, Л.Пятницкая, Д.Колеров, Э.Ким, А.Хомич   \n",
       "6737                                         Б.Куломзин   \n",
       "6882                               В.Есинов, Е.Калинина   \n",
       "7302            Лиз Глоцер, Дэвид В.Лестер, Ники Марвин   \n",
       "\n",
       "                             age_restriction  refundable_support  \\\n",
       "259          «16+» - для детей старше 16 лет                 NaN   \n",
       "1053         «16+» - для детей старше 16 лет                 NaN   \n",
       "1341           «6+» - для детей старше 6 лет                 NaN   \n",
       "1471         «16+» - для детей старше 16 лет                 NaN   \n",
       "1805         «12+» - для детей старше 12 лет                 NaN   \n",
       "2126         «16+» - для детей старше 16 лет                 NaN   \n",
       "2146           «6+» - для детей старше 6 лет                0.00   \n",
       "3139         «16+» - для детей старше 16 лет                0.00   \n",
       "3514         «12+» - для детей старше 12 лет                 NaN   \n",
       "3585  «0+» - для любой зрительской аудитории                 NaN   \n",
       "3948         «16+» - для детей старше 16 лет                 NaN   \n",
       "5821             «18+» - запрещено для детей                 NaN   \n",
       "5910             «18+» - запрещено для детей                 NaN   \n",
       "6169  «0+» - для любой зрительской аудитории                 NaN   \n",
       "6172  «0+» - для любой зрительской аудитории                 NaN   \n",
       "6426         «12+» - для детей старше 12 лет                 NaN   \n",
       "6616         «12+» - для детей старше 12 лет                 NaN   \n",
       "6737           «6+» - для детей старше 6 лет                 NaN   \n",
       "6882  «0+» - для любой зрительской аудитории                 NaN   \n",
       "7302         «16+» - для детей старше 16 лет                 NaN   \n",
       "\n",
       "      non_refundable_support        budget       financing_source  ratings  \\\n",
       "259                      NaN           NaN                    NaN     9.90   \n",
       "1053                     NaN           NaN                    NaN     9.70   \n",
       "1341                     NaN           NaN                    NaN     9.90   \n",
       "1471                     NaN           NaN                    NaN     9.20   \n",
       "1805                     NaN           NaN                    NaN     9.90   \n",
       "2126                     NaN           NaN                    NaN     9.10   \n",
       "2146           10,000,000.00 40,000,000.00  Министерство культуры     9.40   \n",
       "3139            4,700,000.00 14,462,464.00  Министерство культуры     9.00   \n",
       "3514                     NaN           NaN                    NaN     9.10   \n",
       "3585                     NaN           NaN                    NaN     9.70   \n",
       "3948                     NaN           NaN                    NaN     9.70   \n",
       "5821                     NaN           NaN                    NaN     9.40   \n",
       "5910                     NaN           NaN                    NaN     9.40   \n",
       "6169                     NaN           NaN                    NaN     9.00   \n",
       "6172                     NaN           NaN                    NaN     9.00   \n",
       "6426                     NaN           NaN                    NaN     9.10   \n",
       "6616                     NaN           NaN                    NaN     9.80   \n",
       "6737                     NaN           NaN                    NaN     9.80   \n",
       "6882                     NaN           NaN                    NaN     9.90   \n",
       "7302                     NaN           NaN                    NaN     9.10   \n",
       "\n",
       "                           genres   box_office  \n",
       "259           ужасы,триллер,драма          NaN  \n",
       "1053     ужасы,фантастика,фэнтези          NaN  \n",
       "1341       триллер,драма,детектив          NaN  \n",
       "1471            комедия,мелодрама    27,780.00  \n",
       "1805       аниме,мультфильм,ужасы     4,295.00  \n",
       "2126               драма,семейный         0.00  \n",
       "2146    фантастика,боевик,комедия   334,750.00  \n",
       "3139                        драма   801,370.00  \n",
       "3514                        драма          NaN  \n",
       "3585     мультфильм,ужасы,фэнтези          NaN  \n",
       "3948  приключения,комедия,фэнтези          NaN  \n",
       "5821                триллер,драма 1,587,221.51  \n",
       "5910                        драма          NaN  \n",
       "6169  мультфильм,детский,семейный          NaN  \n",
       "6172  мультфильм,детский,семейный          NaN  \n",
       "6426              драма,биография          NaN  \n",
       "6616            фантастика,боевик          NaN  \n",
       "6737          фэнтези,приключения    34,992.00  \n",
       "6882               криминал,драма          NaN  \n",
       "7302                        драма          NaN  "
      ]
     },
     "execution_count": 42,
     "metadata": {},
     "output_type": "execute_result"
    }
   ],
   "source": [
    "data.loc[data['ratings'] >= 9.0]"
   ]
  },
  {
   "cell_type": "markdown",
   "metadata": {},
   "source": [
    "Ни один из этих фильмов не имеет такого высокого рейтинга. Удалим эти строки."
   ]
  },
  {
   "cell_type": "code",
   "execution_count": 43,
   "metadata": {},
   "outputs": [],
   "source": [
    "data = data.loc[data['ratings'] < 9.0]"
   ]
  },
  {
   "cell_type": "markdown",
   "metadata": {},
   "source": [
    "**Вывод**:\n",
    "\n",
    "В ходе данного шага были удалены лишние символы в значениях категориальных столбцах."
   ]
  },
  {
   "cell_type": "markdown",
   "metadata": {
    "id": "XFSN5lrEgFyR"
   },
   "source": [
    "### Проверим количественные значения\n",
    "\n"
   ]
  },
  {
   "cell_type": "markdown",
   "metadata": {},
   "source": [
    "Посмотрим на сводную статистику."
   ]
  },
  {
   "cell_type": "code",
   "execution_count": 44,
   "metadata": {
    "id": "YbzClBxagFyS"
   },
   "outputs": [
    {
     "data": {
      "text/html": [
       "<div>\n",
       "<style scoped>\n",
       "    .dataframe tbody tr th:only-of-type {\n",
       "        vertical-align: middle;\n",
       "    }\n",
       "\n",
       "    .dataframe tbody tr th {\n",
       "        vertical-align: top;\n",
       "    }\n",
       "\n",
       "    .dataframe thead th {\n",
       "        text-align: right;\n",
       "    }\n",
       "</style>\n",
       "<table border=\"1\" class=\"dataframe\">\n",
       "  <thead>\n",
       "    <tr style=\"text-align: right;\">\n",
       "      <th></th>\n",
       "      <th>pu_number</th>\n",
       "      <th>refundable_support</th>\n",
       "      <th>non_refundable_support</th>\n",
       "      <th>budget</th>\n",
       "      <th>ratings</th>\n",
       "      <th>box_office</th>\n",
       "    </tr>\n",
       "  </thead>\n",
       "  <tbody>\n",
       "    <tr>\n",
       "      <th>count</th>\n",
       "      <td>6,498.00</td>\n",
       "      <td>314.00</td>\n",
       "      <td>314.00</td>\n",
       "      <td>314.00</td>\n",
       "      <td>6,498.00</td>\n",
       "      <td>2,907.00</td>\n",
       "    </tr>\n",
       "    <tr>\n",
       "      <th>mean</th>\n",
       "      <td>137,197,362.40</td>\n",
       "      <td>12,321,656.05</td>\n",
       "      <td>49,770,760.66</td>\n",
       "      <td>131,346,630.64</td>\n",
       "      <td>6.48</td>\n",
       "      <td>79,995,600.40</td>\n",
       "    </tr>\n",
       "    <tr>\n",
       "      <th>std</th>\n",
       "      <td>39,852,213.74</td>\n",
       "      <td>25,461,109.01</td>\n",
       "      <td>61,219,998.23</td>\n",
       "      <td>192,920,712.03</td>\n",
       "      <td>1.10</td>\n",
       "      <td>245,981,306.32</td>\n",
       "    </tr>\n",
       "    <tr>\n",
       "      <th>min</th>\n",
       "      <td>1,811,096.00</td>\n",
       "      <td>0.00</td>\n",
       "      <td>0.00</td>\n",
       "      <td>0.00</td>\n",
       "      <td>1.00</td>\n",
       "      <td>0.00</td>\n",
       "    </tr>\n",
       "    <tr>\n",
       "      <th>25%</th>\n",
       "      <td>114,003,216.75</td>\n",
       "      <td>0.00</td>\n",
       "      <td>25,000,000.00</td>\n",
       "      <td>42,895,000.00</td>\n",
       "      <td>5.90</td>\n",
       "      <td>83,144.00</td>\n",
       "    </tr>\n",
       "    <tr>\n",
       "      <th>50%</th>\n",
       "      <td>121,016,618.50</td>\n",
       "      <td>0.00</td>\n",
       "      <td>30,000,000.00</td>\n",
       "      <td>70,590,586.00</td>\n",
       "      <td>6.60</td>\n",
       "      <td>2,600,698.00</td>\n",
       "    </tr>\n",
       "    <tr>\n",
       "      <th>75%</th>\n",
       "      <td>124,002,613.75</td>\n",
       "      <td>15,000,000.00</td>\n",
       "      <td>44,125,000.00</td>\n",
       "      <td>150,006,429.75</td>\n",
       "      <td>7.20</td>\n",
       "      <td>28,454,412.03</td>\n",
       "    </tr>\n",
       "    <tr>\n",
       "      <th>max</th>\n",
       "      <td>231,001,111.00</td>\n",
       "      <td>180,000,000.00</td>\n",
       "      <td>400,000,000.00</td>\n",
       "      <td>2,305,074,303.00</td>\n",
       "      <td>8.90</td>\n",
       "      <td>3,073,568,690.79</td>\n",
       "    </tr>\n",
       "  </tbody>\n",
       "</table>\n",
       "</div>"
      ],
      "text/plain": [
       "           pu_number  refundable_support  non_refundable_support  \\\n",
       "count       6,498.00              314.00                  314.00   \n",
       "mean  137,197,362.40       12,321,656.05           49,770,760.66   \n",
       "std    39,852,213.74       25,461,109.01           61,219,998.23   \n",
       "min     1,811,096.00                0.00                    0.00   \n",
       "25%   114,003,216.75                0.00           25,000,000.00   \n",
       "50%   121,016,618.50                0.00           30,000,000.00   \n",
       "75%   124,002,613.75       15,000,000.00           44,125,000.00   \n",
       "max   231,001,111.00      180,000,000.00          400,000,000.00   \n",
       "\n",
       "                budget  ratings       box_office  \n",
       "count           314.00 6,498.00         2,907.00  \n",
       "mean    131,346,630.64     6.48    79,995,600.40  \n",
       "std     192,920,712.03     1.10   245,981,306.32  \n",
       "min               0.00     1.00             0.00  \n",
       "25%      42,895,000.00     5.90        83,144.00  \n",
       "50%      70,590,586.00     6.60     2,600,698.00  \n",
       "75%     150,006,429.75     7.20    28,454,412.03  \n",
       "max   2,305,074,303.00     8.90 3,073,568,690.79  "
      ]
     },
     "execution_count": 44,
     "metadata": {},
     "output_type": "execute_result"
    }
   ],
   "source": [
    "data.describe()"
   ]
  },
  {
   "cell_type": "markdown",
   "metadata": {},
   "source": [
    "Количественные столбцы:\n",
    "\n",
    "- refundable_support;\n",
    "- nonrefundable_support;\n",
    "- budget;\n",
    "- box_office.\n",
    "\n",
    "В общий бюджет фильма входит как государственная поддержка, так и коммерческая, т. е. поля в столбце **budget** должны быть как минимум равны суммарному объёму средств государственной поддержки.\n",
    "\n",
    "Посмотрим, есть ли строки, в которых общий бюджет произведения меньше государственной поддержки."
   ]
  },
  {
   "cell_type": "code",
   "execution_count": 45,
   "metadata": {},
   "outputs": [
    {
     "data": {
      "text/html": [
       "<div>\n",
       "<style scoped>\n",
       "    .dataframe tbody tr th:only-of-type {\n",
       "        vertical-align: middle;\n",
       "    }\n",
       "\n",
       "    .dataframe tbody tr th {\n",
       "        vertical-align: top;\n",
       "    }\n",
       "\n",
       "    .dataframe thead th {\n",
       "        text-align: right;\n",
       "    }\n",
       "</style>\n",
       "<table border=\"1\" class=\"dataframe\">\n",
       "  <thead>\n",
       "    <tr style=\"text-align: right;\">\n",
       "      <th></th>\n",
       "      <th>title</th>\n",
       "      <th>pu_number</th>\n",
       "      <th>show_start_date</th>\n",
       "      <th>type</th>\n",
       "      <th>film_studio</th>\n",
       "      <th>production_country</th>\n",
       "      <th>director</th>\n",
       "      <th>producer</th>\n",
       "      <th>age_restriction</th>\n",
       "      <th>refundable_support</th>\n",
       "      <th>non_refundable_support</th>\n",
       "      <th>budget</th>\n",
       "      <th>financing_source</th>\n",
       "      <th>ratings</th>\n",
       "      <th>genres</th>\n",
       "      <th>box_office</th>\n",
       "    </tr>\n",
       "  </thead>\n",
       "  <tbody>\n",
       "    <tr>\n",
       "      <th>2053</th>\n",
       "      <td>14+</td>\n",
       "      <td>111023614</td>\n",
       "      <td>2014-12-19 12:00:00+00:00</td>\n",
       "      <td>Художественный</td>\n",
       "      <td>ООО Киностудия  \"Сентябрь\"</td>\n",
       "      <td>Россия</td>\n",
       "      <td>А.Зайцев</td>\n",
       "      <td>О.Гранина, А.Зайцев</td>\n",
       "      <td>«16+» - для детей старше 16 лет</td>\n",
       "      <td>0.00</td>\n",
       "      <td>23,000,000.00</td>\n",
       "      <td>0.00</td>\n",
       "      <td>Министерство культуры, Фонд кино</td>\n",
       "      <td>6.60</td>\n",
       "      <td>мелодрама</td>\n",
       "      <td>10,234,016.10</td>\n",
       "    </tr>\n",
       "    <tr>\n",
       "      <th>2058</th>\n",
       "      <td>Дуxless 2</td>\n",
       "      <td>111000415</td>\n",
       "      <td>2015-01-26 12:00:00+00:00</td>\n",
       "      <td>Художественный</td>\n",
       "      <td>ООО \"Киностудия \"Слово\", ООО \"Арт Пикчерс Студия\"</td>\n",
       "      <td>Россия</td>\n",
       "      <td>Р.Прыгунов</td>\n",
       "      <td>П.Ануров, Ф.Бондарчук, Д.Рудовский</td>\n",
       "      <td>«16+» - для детей старше 16 лет</td>\n",
       "      <td>0.00</td>\n",
       "      <td>75,000,000.00</td>\n",
       "      <td>0.00</td>\n",
       "      <td>Фонд кино</td>\n",
       "      <td>6.60</td>\n",
       "      <td>драма</td>\n",
       "      <td>446,163,511.00</td>\n",
       "    </tr>\n",
       "    <tr>\n",
       "      <th>2472</th>\n",
       "      <td>Воин (2015)</td>\n",
       "      <td>111017315</td>\n",
       "      <td>2015-09-28 12:00:00+00:00</td>\n",
       "      <td>Художественный</td>\n",
       "      <td>ООО \"Форпост Продакшн\", ООО \"Арт Пикчерс Студия\"</td>\n",
       "      <td>Россия</td>\n",
       "      <td>А.Андрианов</td>\n",
       "      <td>ООО \"Арт Пикчерс Студия\"</td>\n",
       "      <td>«12+» - для детей старше 12 лет</td>\n",
       "      <td>10,000,000.00</td>\n",
       "      <td>70,000,000.00</td>\n",
       "      <td>0.00</td>\n",
       "      <td>Фонд кино</td>\n",
       "      <td>7.80</td>\n",
       "      <td>боевик,драма,криминал</td>\n",
       "      <td>196,572,438.40</td>\n",
       "    </tr>\n",
       "    <tr>\n",
       "      <th>2532</th>\n",
       "      <td>Бармен.</td>\n",
       "      <td>111009615</td>\n",
       "      <td>2015-05-26 12:00:00+00:00</td>\n",
       "      <td>Художественный</td>\n",
       "      <td>АО \"ВайТ Медиа\", ООО \"Арт Пикчерс Студия\"</td>\n",
       "      <td>Россия</td>\n",
       "      <td>Д.Штурманова</td>\n",
       "      <td>Т.Вайнштейн</td>\n",
       "      <td>«16+» - для детей старше 16 лет</td>\n",
       "      <td>20,000,000.00</td>\n",
       "      <td>0.00</td>\n",
       "      <td>0.00</td>\n",
       "      <td>Фонд кино</td>\n",
       "      <td>6.20</td>\n",
       "      <td>комедия,фэнтези</td>\n",
       "      <td>67,418,974.80</td>\n",
       "    </tr>\n",
       "    <tr>\n",
       "      <th>2615</th>\n",
       "      <td>Савва. Сердце воина</td>\n",
       "      <td>114001715</td>\n",
       "      <td>2015-07-21 12:00:00+00:00</td>\n",
       "      <td>Анимационный</td>\n",
       "      <td>ООО \"Глюкоза Продакшн\", ООО \"Арт Пикчерс Студия\"</td>\n",
       "      <td>Россия</td>\n",
       "      <td>М.Фадеев</td>\n",
       "      <td>А.Чистяков</td>\n",
       "      <td>«6+» - для детей старше 6 лет</td>\n",
       "      <td>60,000,000.00</td>\n",
       "      <td>100,000,000.00</td>\n",
       "      <td>0.00</td>\n",
       "      <td>Фонд кино</td>\n",
       "      <td>4.60</td>\n",
       "      <td>мультфильм,приключения,фэнтези</td>\n",
       "      <td>184,487,551.40</td>\n",
       "    </tr>\n",
       "    <tr>\n",
       "      <th>2684</th>\n",
       "      <td>Тряпичный союз</td>\n",
       "      <td>111010215</td>\n",
       "      <td>2015-06-08 12:00:00+00:00</td>\n",
       "      <td>Художественный</td>\n",
       "      <td>ООО \"Кинокомпания \"КОКТЕБЕЛЬ\"</td>\n",
       "      <td>Россия</td>\n",
       "      <td>М.Местецкий</td>\n",
       "      <td>Р.Борисевич, А.Кушаев</td>\n",
       "      <td>«18+» - запрещено для детей</td>\n",
       "      <td>0.00</td>\n",
       "      <td>59,000,000.00</td>\n",
       "      <td>0.00</td>\n",
       "      <td>Фонд кино</td>\n",
       "      <td>6.30</td>\n",
       "      <td>комедия,драма</td>\n",
       "      <td>1,957,738.51</td>\n",
       "    </tr>\n",
       "    <tr>\n",
       "      <th>2788</th>\n",
       "      <td>Срочно выйду замуж</td>\n",
       "      <td>111017115</td>\n",
       "      <td>2015-09-30 12:00:00+00:00</td>\n",
       "      <td>Художественный</td>\n",
       "      <td>АО \"ВайТ Медиа\", ООО \"Арт Пикчерс Студия\"</td>\n",
       "      <td>Россия</td>\n",
       "      <td>С Чекалов</td>\n",
       "      <td>Ф.Бондарчук, Т.Вайнштейн, Д.Рудовский</td>\n",
       "      <td>«16+» - для детей старше 16 лет</td>\n",
       "      <td>0.00</td>\n",
       "      <td>35,000,000.00</td>\n",
       "      <td>0.00</td>\n",
       "      <td>Фонд кино</td>\n",
       "      <td>5.10</td>\n",
       "      <td>комедия,мелодрама</td>\n",
       "      <td>72,937,783.20</td>\n",
       "    </tr>\n",
       "    <tr>\n",
       "      <th>2874</th>\n",
       "      <td>Помню - не помню!</td>\n",
       "      <td>111004916</td>\n",
       "      <td>2016-03-01 12:00:00+00:00</td>\n",
       "      <td>Художественный</td>\n",
       "      <td>ООО \"КиноФирма\"</td>\n",
       "      <td>Россия</td>\n",
       "      <td>В.Ровенский</td>\n",
       "      <td>ООО \"КиноФирма\"</td>\n",
       "      <td>«12+» - для детей старше 12 лет</td>\n",
       "      <td>0.00</td>\n",
       "      <td>6,000,000.00</td>\n",
       "      <td>0.00</td>\n",
       "      <td>Министерство культуры</td>\n",
       "      <td>4.30</td>\n",
       "      <td>комедия</td>\n",
       "      <td>15,362,931.43</td>\n",
       "    </tr>\n",
       "    <tr>\n",
       "      <th>3047</th>\n",
       "      <td>Любовь с ограничениями</td>\n",
       "      <td>111008216</td>\n",
       "      <td>2016-04-29 12:00:00+00:00</td>\n",
       "      <td>Художественный</td>\n",
       "      <td>АО \"ВайТ Медиа\", ООО \"Арт Пикчерс Студия\"</td>\n",
       "      <td>Россия</td>\n",
       "      <td>Д.Тюрин</td>\n",
       "      <td>Ф.Бондарчук, Т.Вайнштейн, Д.Рудовский</td>\n",
       "      <td>«16+» - для детей старше 16 лет</td>\n",
       "      <td>19,000,000.00</td>\n",
       "      <td>51,000,000.00</td>\n",
       "      <td>0.00</td>\n",
       "      <td>Фонд кино</td>\n",
       "      <td>6.30</td>\n",
       "      <td>комедия,мелодрама</td>\n",
       "      <td>70,299,052.00</td>\n",
       "    </tr>\n",
       "    <tr>\n",
       "      <th>3565</th>\n",
       "      <td>Притяжение (2016)</td>\n",
       "      <td>111018116</td>\n",
       "      <td>2016-12-16 12:00:00+00:00</td>\n",
       "      <td>Художественный</td>\n",
       "      <td>ООО \"Водород 2011\",  ООО \"Арт Пикчерс Студия\"</td>\n",
       "      <td>Россия</td>\n",
       "      <td>Ф.Бондарчук</td>\n",
       "      <td>ООО \"Арт Пикчерс Студия\"</td>\n",
       "      <td>«12+» - для детей старше 12 лет</td>\n",
       "      <td>0.00</td>\n",
       "      <td>250,000,000.00</td>\n",
       "      <td>0.00</td>\n",
       "      <td>Фонд кино</td>\n",
       "      <td>5.60</td>\n",
       "      <td>фантастика</td>\n",
       "      <td>1,038,321,489.00</td>\n",
       "    </tr>\n",
       "    <tr>\n",
       "      <th>3675</th>\n",
       "      <td>Чудо-юдо</td>\n",
       "      <td>114001817</td>\n",
       "      <td>2017-06-27 12:00:00+00:00</td>\n",
       "      <td>Анимационный</td>\n",
       "      <td>ООО \"КиноФирма\"</td>\n",
       "      <td>Россия</td>\n",
       "      <td>А.Лукичев</td>\n",
       "      <td>ООО \"КиноФирма\"</td>\n",
       "      <td>«6+» - для детей старше 6 лет</td>\n",
       "      <td>20,000,000.00</td>\n",
       "      <td>20,000,000.00</td>\n",
       "      <td>0.00</td>\n",
       "      <td>Фонд кино</td>\n",
       "      <td>5.20</td>\n",
       "      <td>мультфильм,фэнтези,семейный</td>\n",
       "      <td>55,108,014.76</td>\n",
       "    </tr>\n",
       "    <tr>\n",
       "      <th>3739</th>\n",
       "      <td>Мифы</td>\n",
       "      <td>111004317</td>\n",
       "      <td>2017-06-07 12:00:00+00:00</td>\n",
       "      <td>Художественный</td>\n",
       "      <td>ООО \"ХАЙПФИЛМ\", ООО \"Арт Пикчерс Студия\"</td>\n",
       "      <td>Россия</td>\n",
       "      <td>А.Молочников</td>\n",
       "      <td>Ф.Бондарчук, Д.Рудовский, И.Стюарт, М.Османн, ...</td>\n",
       "      <td>«16+» - для детей старше 16 лет</td>\n",
       "      <td>25,000,000.00</td>\n",
       "      <td>20,000,000.00</td>\n",
       "      <td>0.00</td>\n",
       "      <td>Фонд кино</td>\n",
       "      <td>4.80</td>\n",
       "      <td>комедия</td>\n",
       "      <td>50,451,949.00</td>\n",
       "    </tr>\n",
       "    <tr>\n",
       "      <th>5673</th>\n",
       "      <td>Селфи</td>\n",
       "      <td>111012117</td>\n",
       "      <td>2018-02-01 12:00:00+00:00</td>\n",
       "      <td>Художественный</td>\n",
       "      <td>ООО \"Киностудия \"Слово\", ООО \"Арт Пикчерс Студия\"</td>\n",
       "      <td>Россия</td>\n",
       "      <td>Н.Хомерики</td>\n",
       "      <td>П.Ануров, Ф.Бондарчук, Д.Рудовский</td>\n",
       "      <td>«16+» - для детей старше 16 лет</td>\n",
       "      <td>20,000,000.00</td>\n",
       "      <td>40,000,000.00</td>\n",
       "      <td>0.00</td>\n",
       "      <td>Фонд кино</td>\n",
       "      <td>5.80</td>\n",
       "      <td>триллер,драма</td>\n",
       "      <td>225,196,400.03</td>\n",
       "    </tr>\n",
       "    <tr>\n",
       "      <th>5806</th>\n",
       "      <td>Два хвоста</td>\n",
       "      <td>114001018</td>\n",
       "      <td>2018-05-31 12:00:00+00:00</td>\n",
       "      <td>Анимационный</td>\n",
       "      <td>ООО \"ЛИЦЕНЗИОННЫЕ БРЕНДЫ\"</td>\n",
       "      <td>Россия</td>\n",
       "      <td>В.Ровенский, Н.Лопато, В.Азеев</td>\n",
       "      <td>ООО \"ЛИЦЕНЗИОННЫЕ БРЕНДЫ\"</td>\n",
       "      <td>«6+» - для детей старше 6 лет</td>\n",
       "      <td>10,000,000.00</td>\n",
       "      <td>60,000,000.00</td>\n",
       "      <td>0.00</td>\n",
       "      <td>Фонд кино</td>\n",
       "      <td>5.00</td>\n",
       "      <td>мультфильм,детский</td>\n",
       "      <td>106,514,301.03</td>\n",
       "    </tr>\n",
       "    <tr>\n",
       "      <th>6008</th>\n",
       "      <td>Принцесса и дракон</td>\n",
       "      <td>114003018</td>\n",
       "      <td>2018-08-23 12:00:00+00:00</td>\n",
       "      <td>Анимационный</td>\n",
       "      <td>ООО \"ЛИЦЕНЗИОННЫЕ БРЕНДЫ\"</td>\n",
       "      <td>Россия</td>\n",
       "      <td>М.Нефедова</td>\n",
       "      <td>ООО \"ЛИЦЕНЗИОННЫЕ БРЕНДЫ\"</td>\n",
       "      <td>«6+» - для детей старше 6 лет</td>\n",
       "      <td>40,000,000.00</td>\n",
       "      <td>40,000,000.00</td>\n",
       "      <td>0.00</td>\n",
       "      <td>Фонд кино</td>\n",
       "      <td>5.20</td>\n",
       "      <td>мультфильм,фэнтези,детский</td>\n",
       "      <td>83,366,328.66</td>\n",
       "    </tr>\n",
       "    <tr>\n",
       "      <th>6823</th>\n",
       "      <td>Большое путешествие</td>\n",
       "      <td>114002419</td>\n",
       "      <td>2019-04-20 12:00:00+00:00</td>\n",
       "      <td>Анимационный</td>\n",
       "      <td>ООО \"ЛИЦЕНЗИОННЫЕ БРЕНДЫ\"</td>\n",
       "      <td>Россия</td>\n",
       "      <td>Н.Лопато, В.Ровенский</td>\n",
       "      <td>ООО \"ЛИЦЕНЗИОННЫЕ БРЕНДЫ\"</td>\n",
       "      <td>«6+» - для детей старше 6 лет</td>\n",
       "      <td>60,000,000.00</td>\n",
       "      <td>120,000,000.00</td>\n",
       "      <td>0.00</td>\n",
       "      <td>Фонд кино</td>\n",
       "      <td>6.20</td>\n",
       "      <td>мультфильм,комедия,приключения</td>\n",
       "      <td>147,606,826.51</td>\n",
       "    </tr>\n",
       "  </tbody>\n",
       "</table>\n",
       "</div>"
      ],
      "text/plain": [
       "                       title  pu_number           show_start_date  \\\n",
       "2053                     14+  111023614 2014-12-19 12:00:00+00:00   \n",
       "2058               Дуxless 2  111000415 2015-01-26 12:00:00+00:00   \n",
       "2472             Воин (2015)  111017315 2015-09-28 12:00:00+00:00   \n",
       "2532                 Бармен.  111009615 2015-05-26 12:00:00+00:00   \n",
       "2615     Савва. Сердце воина  114001715 2015-07-21 12:00:00+00:00   \n",
       "2684          Тряпичный союз  111010215 2015-06-08 12:00:00+00:00   \n",
       "2788      Срочно выйду замуж  111017115 2015-09-30 12:00:00+00:00   \n",
       "2874       Помню - не помню!  111004916 2016-03-01 12:00:00+00:00   \n",
       "3047  Любовь с ограничениями  111008216 2016-04-29 12:00:00+00:00   \n",
       "3565       Притяжение (2016)  111018116 2016-12-16 12:00:00+00:00   \n",
       "3675                Чудо-юдо  114001817 2017-06-27 12:00:00+00:00   \n",
       "3739                    Мифы  111004317 2017-06-07 12:00:00+00:00   \n",
       "5673                   Селфи  111012117 2018-02-01 12:00:00+00:00   \n",
       "5806              Два хвоста  114001018 2018-05-31 12:00:00+00:00   \n",
       "6008      Принцесса и дракон  114003018 2018-08-23 12:00:00+00:00   \n",
       "6823     Большое путешествие  114002419 2019-04-20 12:00:00+00:00   \n",
       "\n",
       "                type                                        film_studio  \\\n",
       "2053  Художественный                         ООО Киностудия  \"Сентябрь\"   \n",
       "2058  Художественный  ООО \"Киностудия \"Слово\", ООО \"Арт Пикчерс Студия\"   \n",
       "2472  Художественный   ООО \"Форпост Продакшн\", ООО \"Арт Пикчерс Студия\"   \n",
       "2532  Художественный          АО \"ВайТ Медиа\", ООО \"Арт Пикчерс Студия\"   \n",
       "2615    Анимационный   ООО \"Глюкоза Продакшн\", ООО \"Арт Пикчерс Студия\"   \n",
       "2684  Художественный                      ООО \"Кинокомпания \"КОКТЕБЕЛЬ\"   \n",
       "2788  Художественный          АО \"ВайТ Медиа\", ООО \"Арт Пикчерс Студия\"   \n",
       "2874  Художественный                                    ООО \"КиноФирма\"   \n",
       "3047  Художественный          АО \"ВайТ Медиа\", ООО \"Арт Пикчерс Студия\"   \n",
       "3565  Художественный      ООО \"Водород 2011\",  ООО \"Арт Пикчерс Студия\"   \n",
       "3675    Анимационный                                    ООО \"КиноФирма\"   \n",
       "3739  Художественный           ООО \"ХАЙПФИЛМ\", ООО \"Арт Пикчерс Студия\"   \n",
       "5673  Художественный  ООО \"Киностудия \"Слово\", ООО \"Арт Пикчерс Студия\"   \n",
       "5806    Анимационный                          ООО \"ЛИЦЕНЗИОННЫЕ БРЕНДЫ\"   \n",
       "6008    Анимационный                          ООО \"ЛИЦЕНЗИОННЫЕ БРЕНДЫ\"   \n",
       "6823    Анимационный                          ООО \"ЛИЦЕНЗИОННЫЕ БРЕНДЫ\"   \n",
       "\n",
       "     production_country                        director  \\\n",
       "2053             Россия                        А.Зайцев   \n",
       "2058             Россия                      Р.Прыгунов   \n",
       "2472             Россия                     А.Андрианов   \n",
       "2532             Россия                    Д.Штурманова   \n",
       "2615             Россия                        М.Фадеев   \n",
       "2684             Россия                     М.Местецкий   \n",
       "2788             Россия                       С Чекалов   \n",
       "2874             Россия                     В.Ровенский   \n",
       "3047             Россия                         Д.Тюрин   \n",
       "3565             Россия                     Ф.Бондарчук   \n",
       "3675             Россия                       А.Лукичев   \n",
       "3739             Россия                    А.Молочников   \n",
       "5673             Россия                      Н.Хомерики   \n",
       "5806             Россия  В.Ровенский, Н.Лопато, В.Азеев   \n",
       "6008             Россия                      М.Нефедова   \n",
       "6823             Россия           Н.Лопато, В.Ровенский   \n",
       "\n",
       "                                               producer  \\\n",
       "2053                                О.Гранина, А.Зайцев   \n",
       "2058                 П.Ануров, Ф.Бондарчук, Д.Рудовский   \n",
       "2472                           ООО \"Арт Пикчерс Студия\"   \n",
       "2532                                        Т.Вайнштейн   \n",
       "2615                                         А.Чистяков   \n",
       "2684                              Р.Борисевич, А.Кушаев   \n",
       "2788              Ф.Бондарчук, Т.Вайнштейн, Д.Рудовский   \n",
       "2874                                    ООО \"КиноФирма\"   \n",
       "3047              Ф.Бондарчук, Т.Вайнштейн, Д.Рудовский   \n",
       "3565                           ООО \"Арт Пикчерс Студия\"   \n",
       "3675                                    ООО \"КиноФирма\"   \n",
       "3739  Ф.Бондарчук, Д.Рудовский, И.Стюарт, М.Османн, ...   \n",
       "5673                 П.Ануров, Ф.Бондарчук, Д.Рудовский   \n",
       "5806                          ООО \"ЛИЦЕНЗИОННЫЕ БРЕНДЫ\"   \n",
       "6008                          ООО \"ЛИЦЕНЗИОННЫЕ БРЕНДЫ\"   \n",
       "6823                          ООО \"ЛИЦЕНЗИОННЫЕ БРЕНДЫ\"   \n",
       "\n",
       "                      age_restriction  refundable_support  \\\n",
       "2053  «16+» - для детей старше 16 лет                0.00   \n",
       "2058  «16+» - для детей старше 16 лет                0.00   \n",
       "2472  «12+» - для детей старше 12 лет       10,000,000.00   \n",
       "2532  «16+» - для детей старше 16 лет       20,000,000.00   \n",
       "2615    «6+» - для детей старше 6 лет       60,000,000.00   \n",
       "2684      «18+» - запрещено для детей                0.00   \n",
       "2788  «16+» - для детей старше 16 лет                0.00   \n",
       "2874  «12+» - для детей старше 12 лет                0.00   \n",
       "3047  «16+» - для детей старше 16 лет       19,000,000.00   \n",
       "3565  «12+» - для детей старше 12 лет                0.00   \n",
       "3675    «6+» - для детей старше 6 лет       20,000,000.00   \n",
       "3739  «16+» - для детей старше 16 лет       25,000,000.00   \n",
       "5673  «16+» - для детей старше 16 лет       20,000,000.00   \n",
       "5806    «6+» - для детей старше 6 лет       10,000,000.00   \n",
       "6008    «6+» - для детей старше 6 лет       40,000,000.00   \n",
       "6823    «6+» - для детей старше 6 лет       60,000,000.00   \n",
       "\n",
       "      non_refundable_support  budget                  financing_source  \\\n",
       "2053           23,000,000.00    0.00  Министерство культуры, Фонд кино   \n",
       "2058           75,000,000.00    0.00                         Фонд кино   \n",
       "2472           70,000,000.00    0.00                         Фонд кино   \n",
       "2532                    0.00    0.00                         Фонд кино   \n",
       "2615          100,000,000.00    0.00                         Фонд кино   \n",
       "2684           59,000,000.00    0.00                         Фонд кино   \n",
       "2788           35,000,000.00    0.00                         Фонд кино   \n",
       "2874            6,000,000.00    0.00             Министерство культуры   \n",
       "3047           51,000,000.00    0.00                         Фонд кино   \n",
       "3565          250,000,000.00    0.00                         Фонд кино   \n",
       "3675           20,000,000.00    0.00                         Фонд кино   \n",
       "3739           20,000,000.00    0.00                         Фонд кино   \n",
       "5673           40,000,000.00    0.00                         Фонд кино   \n",
       "5806           60,000,000.00    0.00                         Фонд кино   \n",
       "6008           40,000,000.00    0.00                         Фонд кино   \n",
       "6823          120,000,000.00    0.00                         Фонд кино   \n",
       "\n",
       "      ratings                          genres       box_office  \n",
       "2053     6.60                       мелодрама    10,234,016.10  \n",
       "2058     6.60                           драма   446,163,511.00  \n",
       "2472     7.80           боевик,драма,криминал   196,572,438.40  \n",
       "2532     6.20                 комедия,фэнтези    67,418,974.80  \n",
       "2615     4.60  мультфильм,приключения,фэнтези   184,487,551.40  \n",
       "2684     6.30                   комедия,драма     1,957,738.51  \n",
       "2788     5.10               комедия,мелодрама    72,937,783.20  \n",
       "2874     4.30                         комедия    15,362,931.43  \n",
       "3047     6.30               комедия,мелодрама    70,299,052.00  \n",
       "3565     5.60                      фантастика 1,038,321,489.00  \n",
       "3675     5.20     мультфильм,фэнтези,семейный    55,108,014.76  \n",
       "3739     4.80                         комедия    50,451,949.00  \n",
       "5673     5.80                   триллер,драма   225,196,400.03  \n",
       "5806     5.00              мультфильм,детский   106,514,301.03  \n",
       "6008     5.20      мультфильм,фэнтези,детский    83,366,328.66  \n",
       "6823     6.20  мультфильм,комедия,приключения   147,606,826.51  "
      ]
     },
     "execution_count": 45,
     "metadata": {},
     "output_type": "execute_result"
    }
   ],
   "source": [
    "data[data['budget'] < (data['refundable_support'] + data['non_refundable_support'])]"
   ]
  },
  {
   "cell_type": "markdown",
   "metadata": {},
   "source": [
    "Итого: 17 строк. \n",
    "\n",
    "Как вариант, можно заполнить бюджет в данных строках исходя из медианного значения доли государственной поддержки произведения.\n",
    "\n",
    "Посчитаем эту долю, разделим на неё бюджет гос. поддержки и заполним этими данными нулевые значения общего бюджета."
   ]
  },
  {
   "cell_type": "code",
   "execution_count": 46,
   "metadata": {},
   "outputs": [],
   "source": [
    "state_budget = ((data['refundable_support'] + data['non_refundable_support']) / data['budget']).median()\n",
    "#зададим переменную для рассчёта меданной доли государственноо бюджета от общего бюджета\n",
    "\n",
    "wrong_budget = data[data['budget'] < (data['refundable_support'] + data['non_refundable_support'])]\n",
    "#зададим переменную для строк с некорректным общим бюджетом\n",
    " \n",
    "data.loc[wrong_budget.index, 'budget'] = (data.loc[wrong_budget.index, 'refundable_support'] + \n",
    "                                         data.loc[wrong_budget.index, 'non_refundable_support']) / state_budget\n",
    "#заполним нулевой бюджет"
   ]
  },
  {
   "cell_type": "markdown",
   "metadata": {},
   "source": [
    "Изучим аномальные значения. Для начала выведем повторно сводную статистику."
   ]
  },
  {
   "cell_type": "code",
   "execution_count": 47,
   "metadata": {},
   "outputs": [
    {
     "data": {
      "text/html": [
       "<div>\n",
       "<style scoped>\n",
       "    .dataframe tbody tr th:only-of-type {\n",
       "        vertical-align: middle;\n",
       "    }\n",
       "\n",
       "    .dataframe tbody tr th {\n",
       "        vertical-align: top;\n",
       "    }\n",
       "\n",
       "    .dataframe thead th {\n",
       "        text-align: right;\n",
       "    }\n",
       "</style>\n",
       "<table border=\"1\" class=\"dataframe\">\n",
       "  <thead>\n",
       "    <tr style=\"text-align: right;\">\n",
       "      <th></th>\n",
       "      <th>pu_number</th>\n",
       "      <th>refundable_support</th>\n",
       "      <th>non_refundable_support</th>\n",
       "      <th>budget</th>\n",
       "      <th>ratings</th>\n",
       "      <th>box_office</th>\n",
       "    </tr>\n",
       "  </thead>\n",
       "  <tbody>\n",
       "    <tr>\n",
       "      <th>count</th>\n",
       "      <td>6,498.00</td>\n",
       "      <td>314.00</td>\n",
       "      <td>314.00</td>\n",
       "      <td>314.00</td>\n",
       "      <td>6,498.00</td>\n",
       "      <td>2,907.00</td>\n",
       "    </tr>\n",
       "    <tr>\n",
       "      <th>mean</th>\n",
       "      <td>137,197,362.40</td>\n",
       "      <td>12,321,656.05</td>\n",
       "      <td>49,770,760.66</td>\n",
       "      <td>137,957,806.54</td>\n",
       "      <td>6.48</td>\n",
       "      <td>79,995,600.40</td>\n",
       "    </tr>\n",
       "    <tr>\n",
       "      <th>std</th>\n",
       "      <td>39,852,213.74</td>\n",
       "      <td>25,461,109.01</td>\n",
       "      <td>61,219,998.23</td>\n",
       "      <td>191,962,533.48</td>\n",
       "      <td>1.10</td>\n",
       "      <td>245,981,306.32</td>\n",
       "    </tr>\n",
       "    <tr>\n",
       "      <th>min</th>\n",
       "      <td>1,811,096.00</td>\n",
       "      <td>0.00</td>\n",
       "      <td>0.00</td>\n",
       "      <td>9,940,507.10</td>\n",
       "      <td>1.00</td>\n",
       "      <td>0.00</td>\n",
       "    </tr>\n",
       "    <tr>\n",
       "      <th>25%</th>\n",
       "      <td>114,003,216.75</td>\n",
       "      <td>0.00</td>\n",
       "      <td>25,000,000.00</td>\n",
       "      <td>46,389,327.75</td>\n",
       "      <td>5.90</td>\n",
       "      <td>83,144.00</td>\n",
       "    </tr>\n",
       "    <tr>\n",
       "      <th>50%</th>\n",
       "      <td>121,016,618.50</td>\n",
       "      <td>0.00</td>\n",
       "      <td>30,000,000.00</td>\n",
       "      <td>77,200,875.50</td>\n",
       "      <td>6.60</td>\n",
       "      <td>2,600,698.00</td>\n",
       "    </tr>\n",
       "    <tr>\n",
       "      <th>75%</th>\n",
       "      <td>124,002,613.75</td>\n",
       "      <td>15,000,000.00</td>\n",
       "      <td>44,125,000.00</td>\n",
       "      <td>154,803,696.75</td>\n",
       "      <td>7.20</td>\n",
       "      <td>28,454,412.03</td>\n",
       "    </tr>\n",
       "    <tr>\n",
       "      <th>max</th>\n",
       "      <td>231,001,111.00</td>\n",
       "      <td>180,000,000.00</td>\n",
       "      <td>400,000,000.00</td>\n",
       "      <td>2,305,074,303.00</td>\n",
       "      <td>8.90</td>\n",
       "      <td>3,073,568,690.79</td>\n",
       "    </tr>\n",
       "  </tbody>\n",
       "</table>\n",
       "</div>"
      ],
      "text/plain": [
       "           pu_number  refundable_support  non_refundable_support  \\\n",
       "count       6,498.00              314.00                  314.00   \n",
       "mean  137,197,362.40       12,321,656.05           49,770,760.66   \n",
       "std    39,852,213.74       25,461,109.01           61,219,998.23   \n",
       "min     1,811,096.00                0.00                    0.00   \n",
       "25%   114,003,216.75                0.00           25,000,000.00   \n",
       "50%   121,016,618.50                0.00           30,000,000.00   \n",
       "75%   124,002,613.75       15,000,000.00           44,125,000.00   \n",
       "max   231,001,111.00      180,000,000.00          400,000,000.00   \n",
       "\n",
       "                budget  ratings       box_office  \n",
       "count           314.00 6,498.00         2,907.00  \n",
       "mean    137,957,806.54     6.48    79,995,600.40  \n",
       "std     191,962,533.48     1.10   245,981,306.32  \n",
       "min       9,940,507.10     1.00             0.00  \n",
       "25%      46,389,327.75     5.90        83,144.00  \n",
       "50%      77,200,875.50     6.60     2,600,698.00  \n",
       "75%     154,803,696.75     7.20    28,454,412.03  \n",
       "max   2,305,074,303.00     8.90 3,073,568,690.79  "
      ]
     },
     "execution_count": 47,
     "metadata": {},
     "output_type": "execute_result"
    }
   ],
   "source": [
    "data.describe()"
   ]
  },
  {
   "cell_type": "markdown",
   "metadata": {},
   "source": [
    "В столбце **box_office** есть значения с 0. Изучим их."
   ]
  },
  {
   "cell_type": "code",
   "execution_count": 48,
   "metadata": {},
   "outputs": [
    {
     "data": {
      "text/html": [
       "<div>\n",
       "<style scoped>\n",
       "    .dataframe tbody tr th:only-of-type {\n",
       "        vertical-align: middle;\n",
       "    }\n",
       "\n",
       "    .dataframe tbody tr th {\n",
       "        vertical-align: top;\n",
       "    }\n",
       "\n",
       "    .dataframe thead th {\n",
       "        text-align: right;\n",
       "    }\n",
       "</style>\n",
       "<table border=\"1\" class=\"dataframe\">\n",
       "  <thead>\n",
       "    <tr style=\"text-align: right;\">\n",
       "      <th></th>\n",
       "      <th>title</th>\n",
       "      <th>pu_number</th>\n",
       "      <th>show_start_date</th>\n",
       "      <th>type</th>\n",
       "      <th>film_studio</th>\n",
       "      <th>production_country</th>\n",
       "      <th>director</th>\n",
       "      <th>producer</th>\n",
       "      <th>age_restriction</th>\n",
       "      <th>refundable_support</th>\n",
       "      <th>non_refundable_support</th>\n",
       "      <th>budget</th>\n",
       "      <th>financing_source</th>\n",
       "      <th>ratings</th>\n",
       "      <th>genres</th>\n",
       "      <th>box_office</th>\n",
       "    </tr>\n",
       "  </thead>\n",
       "  <tbody>\n",
       "    <tr>\n",
       "      <th>66</th>\n",
       "      <td>Анна Павлова</td>\n",
       "      <td>111011013</td>\n",
       "      <td>2013-12-19 12:00:00+00:00</td>\n",
       "      <td>Художественный</td>\n",
       "      <td>совместное производство Киностудия \"Мосфильм\",...</td>\n",
       "      <td>СССР, Франция, Англия, Куба, ГДР</td>\n",
       "      <td>Эмиль Лотяну</td>\n",
       "      <td>unknown</td>\n",
       "      <td>«6+» - для детей старше 6 лет</td>\n",
       "      <td>NaN</td>\n",
       "      <td>NaN</td>\n",
       "      <td>NaN</td>\n",
       "      <td>NaN</td>\n",
       "      <td>7.70</td>\n",
       "      <td>драма,биография,музыка</td>\n",
       "      <td>0.00</td>\n",
       "    </tr>\n",
       "    <tr>\n",
       "      <th>237</th>\n",
       "      <td>Подранки</td>\n",
       "      <td>111007613</td>\n",
       "      <td>2013-10-18 12:00:00+00:00</td>\n",
       "      <td>Художественный</td>\n",
       "      <td>Киностудия \"Мосфильм\"</td>\n",
       "      <td>СССР</td>\n",
       "      <td>Н.Губенко</td>\n",
       "      <td>unknown</td>\n",
       "      <td>«12+» - для детей старше 12 лет</td>\n",
       "      <td>NaN</td>\n",
       "      <td>NaN</td>\n",
       "      <td>NaN</td>\n",
       "      <td>NaN</td>\n",
       "      <td>8.20</td>\n",
       "      <td>драма</td>\n",
       "      <td>0.00</td>\n",
       "    </tr>\n",
       "    <tr>\n",
       "      <th>596</th>\n",
       "      <td>Запах вереска</td>\n",
       "      <td>111003012</td>\n",
       "      <td>2012-05-23 12:00:00+00:00</td>\n",
       "      <td>Художественный</td>\n",
       "      <td>ООО \"Студия РИМ\"</td>\n",
       "      <td>Россия</td>\n",
       "      <td>А.Магомедов</td>\n",
       "      <td>М.Балашова, Е.Миронов</td>\n",
       "      <td>«16+» - для детей старше 16 лет</td>\n",
       "      <td>NaN</td>\n",
       "      <td>NaN</td>\n",
       "      <td>NaN</td>\n",
       "      <td>NaN</td>\n",
       "      <td>6.30</td>\n",
       "      <td>комедия</td>\n",
       "      <td>0.00</td>\n",
       "    </tr>\n",
       "    <tr>\n",
       "      <th>914</th>\n",
       "      <td>В тумане /По одноименной повести Василя Быкова/</td>\n",
       "      <td>121027712</td>\n",
       "      <td>2012-11-07 12:00:00+00:00</td>\n",
       "      <td>Художественный</td>\n",
       "      <td>Ма Йа Де Фикшн, Лемминг Филм, Беларусьфильм, Д...</td>\n",
       "      <td>Германия - Нидерланды - Беларусь - Россия - Ла...</td>\n",
       "      <td>Сергей Лозница</td>\n",
       "      <td>Хайно Декерт</td>\n",
       "      <td>«12+» - для детей старше 12 лет</td>\n",
       "      <td>NaN</td>\n",
       "      <td>NaN</td>\n",
       "      <td>NaN</td>\n",
       "      <td>NaN</td>\n",
       "      <td>6.50</td>\n",
       "      <td>драма,военный,история</td>\n",
       "      <td>0.00</td>\n",
       "    </tr>\n",
       "    <tr>\n",
       "      <th>932</th>\n",
       "      <td>Письмо для Момо</td>\n",
       "      <td>124002912</td>\n",
       "      <td>2012-10-25 12:00:00+00:00</td>\n",
       "      <td>Анимационный</td>\n",
       "      <td>Кадокава Пикчерз, Продакшнз И Джи, Токио Броад...</td>\n",
       "      <td>Япония</td>\n",
       "      <td>Окиура Хироюки</td>\n",
       "      <td>Хироюки Икеда, Митсухиса Ишикава, Кацзуя Хамана</td>\n",
       "      <td>«12+» - для детей старше 12 лет</td>\n",
       "      <td>NaN</td>\n",
       "      <td>NaN</td>\n",
       "      <td>NaN</td>\n",
       "      <td>NaN</td>\n",
       "      <td>7.40</td>\n",
       "      <td>аниме,мультфильм,драма</td>\n",
       "      <td>0.00</td>\n",
       "    </tr>\n",
       "    <tr>\n",
       "      <th>933</th>\n",
       "      <td>Летние войны</td>\n",
       "      <td>124002812</td>\n",
       "      <td>2012-10-25 12:00:00+00:00</td>\n",
       "      <td>Анимационный</td>\n",
       "      <td>Медхауз, Ниппон Телевижн Нетуорк Корпорейшн, К...</td>\n",
       "      <td>Япония</td>\n",
       "      <td>Мамору Хосода</td>\n",
       "      <td>Такафуми Ватанабэ, Такуя Ито, Сэйдзи Окуда, Юи...</td>\n",
       "      <td>«12+» - для детей старше 12 лет</td>\n",
       "      <td>NaN</td>\n",
       "      <td>NaN</td>\n",
       "      <td>NaN</td>\n",
       "      <td>NaN</td>\n",
       "      <td>7.70</td>\n",
       "      <td>аниме,мультфильм,фантастика</td>\n",
       "      <td>0.00</td>\n",
       "    </tr>\n",
       "    <tr>\n",
       "      <th>976</th>\n",
       "      <td>Гарегин Нжде</td>\n",
       "      <td>131000213</td>\n",
       "      <td>2013-04-23 12:00:00+00:00</td>\n",
       "      <td>Художественный</td>\n",
       "      <td>Эй Джи Кей Продакшнз, Пан Армениан Медиа Групп</td>\n",
       "      <td>Армения</td>\n",
       "      <td>Грач Кешишян</td>\n",
       "      <td>Грач Кешишян</td>\n",
       "      <td>«12+» - для детей старше 12 лет</td>\n",
       "      <td>NaN</td>\n",
       "      <td>NaN</td>\n",
       "      <td>NaN</td>\n",
       "      <td>NaN</td>\n",
       "      <td>7.90</td>\n",
       "      <td>биография</td>\n",
       "      <td>0.00</td>\n",
       "    </tr>\n",
       "    <tr>\n",
       "      <th>1126</th>\n",
       "      <td>Марафон</td>\n",
       "      <td>111006712</td>\n",
       "      <td>2012-12-18 12:00:00+00:00</td>\n",
       "      <td>Художественный</td>\n",
       "      <td>ООО \"Синема Арт Студио\"</td>\n",
       "      <td>Россия</td>\n",
       "      <td>К.Оганесян</td>\n",
       "      <td>К.Оганесян</td>\n",
       "      <td>«16+» - для детей старше 16 лет</td>\n",
       "      <td>NaN</td>\n",
       "      <td>NaN</td>\n",
       "      <td>NaN</td>\n",
       "      <td>NaN</td>\n",
       "      <td>5.50</td>\n",
       "      <td>комедия,мелодрама</td>\n",
       "      <td>0.00</td>\n",
       "    </tr>\n",
       "    <tr>\n",
       "      <th>1387</th>\n",
       "      <td>Экзамен для двоих /По роману Джин Ханфф Корелитц/</td>\n",
       "      <td>121014613</td>\n",
       "      <td>2013-06-11 12:00:00+00:00</td>\n",
       "      <td>Художественный</td>\n",
       "      <td>Депф оф Филд</td>\n",
       "      <td>США</td>\n",
       "      <td>Пол Вайц</td>\n",
       "      <td>Пол Вайц, Керри Кохански, Эндрю Миано</td>\n",
       "      <td>«12+» - для детей старше 12 лет</td>\n",
       "      <td>NaN</td>\n",
       "      <td>NaN</td>\n",
       "      <td>NaN</td>\n",
       "      <td>NaN</td>\n",
       "      <td>5.80</td>\n",
       "      <td>мелодрама,комедия,драма</td>\n",
       "      <td>0.00</td>\n",
       "    </tr>\n",
       "    <tr>\n",
       "      <th>1559</th>\n",
       "      <td>Последняя любовь мистера Моргана /По роману Фр...</td>\n",
       "      <td>121002614</td>\n",
       "      <td>2014-02-11 12:00:00+00:00</td>\n",
       "      <td>Художественный</td>\n",
       "      <td>Камински Штим Фильм, Бавариа Пикчерз, Сенатор ...</td>\n",
       "      <td>Германия - Бельгия - США -Франция</td>\n",
       "      <td>Сандра Неттельбек</td>\n",
       "      <td>Франк Камински, Астрид Камке, Филипп Кройцер, ...</td>\n",
       "      <td>«16+» - для детей старше 16 лет</td>\n",
       "      <td>NaN</td>\n",
       "      <td>NaN</td>\n",
       "      <td>NaN</td>\n",
       "      <td>NaN</td>\n",
       "      <td>6.90</td>\n",
       "      <td>драма</td>\n",
       "      <td>0.00</td>\n",
       "    </tr>\n",
       "    <tr>\n",
       "      <th>1782</th>\n",
       "      <td>Анжелика, маркиза ангелов</td>\n",
       "      <td>121031913</td>\n",
       "      <td>2013-12-12 12:00:00+00:00</td>\n",
       "      <td>Художественный</td>\n",
       "      <td>Европа Корп., МонаФилм, ВилмаФилм</td>\n",
       "      <td>Франция</td>\n",
       "      <td>Ариэль Зейтун</td>\n",
       "      <td>Эммануэль Жаклин, Павел Солк, Филипп Херинг</td>\n",
       "      <td>«16+» - для детей старше 16 лет</td>\n",
       "      <td>NaN</td>\n",
       "      <td>NaN</td>\n",
       "      <td>NaN</td>\n",
       "      <td>NaN</td>\n",
       "      <td>8.00</td>\n",
       "      <td>драма,мелодрама,приключения</td>\n",
       "      <td>0.00</td>\n",
       "    </tr>\n",
       "    <tr>\n",
       "      <th>1978</th>\n",
       "      <td>Люблю твою жену</td>\n",
       "      <td>121013014</td>\n",
       "      <td>2014-06-23 12:00:00+00:00</td>\n",
       "      <td>Художественный</td>\n",
       "      <td>Серендипити Пойнт Фильм, Номадик Пикчерз</td>\n",
       "      <td>Канада</td>\n",
       "      <td>Джеримайя С.Чечик</td>\n",
       "      <td>Стефен Аликс, Эри Лантос, Роберт Лантош</td>\n",
       "      <td>«16+» - для детей старше 16 лет</td>\n",
       "      <td>NaN</td>\n",
       "      <td>NaN</td>\n",
       "      <td>NaN</td>\n",
       "      <td>NaN</td>\n",
       "      <td>6.00</td>\n",
       "      <td>мелодрама,комедия</td>\n",
       "      <td>0.00</td>\n",
       "    </tr>\n",
       "    <tr>\n",
       "      <th>2037</th>\n",
       "      <td>Кино про Алексеева</td>\n",
       "      <td>111007114</td>\n",
       "      <td>2014-07-18 12:00:00+00:00</td>\n",
       "      <td>Художественный</td>\n",
       "      <td>ООО \"Кинокомпания \"Новые люди\"</td>\n",
       "      <td>Россия</td>\n",
       "      <td>М.Сегал</td>\n",
       "      <td>Н.Мокрицкая</td>\n",
       "      <td>«12+» - для детей старше 12 лет</td>\n",
       "      <td>NaN</td>\n",
       "      <td>NaN</td>\n",
       "      <td>NaN</td>\n",
       "      <td>NaN</td>\n",
       "      <td>6.90</td>\n",
       "      <td>драма</td>\n",
       "      <td>0.00</td>\n",
       "    </tr>\n",
       "    <tr>\n",
       "      <th>2219</th>\n",
       "      <td>Прогулка по солнечному свету</td>\n",
       "      <td>121011614</td>\n",
       "      <td>2014-06-11 12:00:00+00:00</td>\n",
       "      <td>Художественный</td>\n",
       "      <td>Вертиго Филмз, АйЭм Глобал</td>\n",
       "      <td>Великобритания</td>\n",
       "      <td>Макс Джива, Дания Пасквини</td>\n",
       "      <td>Кэролайн Леви, Эллан Нибло, Джеймс Ричардсон</td>\n",
       "      <td>«12+» - для детей старше 12 лет</td>\n",
       "      <td>NaN</td>\n",
       "      <td>NaN</td>\n",
       "      <td>NaN</td>\n",
       "      <td>NaN</td>\n",
       "      <td>6.10</td>\n",
       "      <td>мюзикл,драма,мелодрама</td>\n",
       "      <td>0.00</td>\n",
       "    </tr>\n",
       "    <tr>\n",
       "      <th>2442</th>\n",
       "      <td>Звездный мальчик</td>\n",
       "      <td>111013915</td>\n",
       "      <td>2015-08-25 12:00:00+00:00</td>\n",
       "      <td>Художественный</td>\n",
       "      <td>Киностудия \"Мосфильм\"</td>\n",
       "      <td>СССР</td>\n",
       "      <td>Е.Зильберштейн, А.Дудоров</td>\n",
       "      <td>unknown</td>\n",
       "      <td>«0+» - для любой зрительской аудитории</td>\n",
       "      <td>NaN</td>\n",
       "      <td>NaN</td>\n",
       "      <td>NaN</td>\n",
       "      <td>NaN</td>\n",
       "      <td>7.50</td>\n",
       "      <td>драма</td>\n",
       "      <td>0.00</td>\n",
       "    </tr>\n",
       "    <tr>\n",
       "      <th>3595</th>\n",
       "      <td>Ананас</td>\n",
       "      <td>111017116</td>\n",
       "      <td>2016-11-10 12:00:00+00:00</td>\n",
       "      <td>Художественный</td>\n",
       "      <td>Рудак Владимир Иванович</td>\n",
       "      <td>Россия</td>\n",
       "      <td>В.Рудак</td>\n",
       "      <td>В.Рудак, А.Бабенко</td>\n",
       "      <td>«16+» - для детей старше 16 лет</td>\n",
       "      <td>NaN</td>\n",
       "      <td>NaN</td>\n",
       "      <td>NaN</td>\n",
       "      <td>NaN</td>\n",
       "      <td>6.70</td>\n",
       "      <td>боевик,комедия,криминал</td>\n",
       "      <td>0.00</td>\n",
       "    </tr>\n",
       "    <tr>\n",
       "      <th>3827</th>\n",
       "      <td>Москва, я люблю тебя</td>\n",
       "      <td>111001610</td>\n",
       "      <td>2010-02-09 12:00:00+00:00</td>\n",
       "      <td>Художественный</td>\n",
       "      <td>ООО \"БФГ-МЕДИА-ПРОДАКШН\", ООО \"Продюсерская ко...</td>\n",
       "      <td>Россия</td>\n",
       "      <td>Г.Михалков, Г.Натансон, В.Сторожева, А.Касатки...</td>\n",
       "      <td>Ю.Глоцер, Ю.Гинзбург</td>\n",
       "      <td>«16+» - для детей старше 16 лет</td>\n",
       "      <td>NaN</td>\n",
       "      <td>NaN</td>\n",
       "      <td>NaN</td>\n",
       "      <td>NaN</td>\n",
       "      <td>4.50</td>\n",
       "      <td>мелодрама,комедия</td>\n",
       "      <td>0.00</td>\n",
       "    </tr>\n",
       "    <tr>\n",
       "      <th>3994</th>\n",
       "      <td>Стать Джоном Ленноном</td>\n",
       "      <td>121008610</td>\n",
       "      <td>2010-05-05 12:00:00+00:00</td>\n",
       "      <td>Художественный</td>\n",
       "      <td>Авер Медиа, Экосси Филмз, Филм 4, Норс Вест Ви...</td>\n",
       "      <td>Канада-Великобритания</td>\n",
       "      <td>Сэм Тейлор Вуд</td>\n",
       "      <td>Роберт Бернштейн, Кевин Лоудер, Дуглас Рэй</td>\n",
       "      <td>«16+» - для детей старше 16 лет</td>\n",
       "      <td>NaN</td>\n",
       "      <td>NaN</td>\n",
       "      <td>NaN</td>\n",
       "      <td>NaN</td>\n",
       "      <td>7.50</td>\n",
       "      <td>драма,мелодрама,биография</td>\n",
       "      <td>0.00</td>\n",
       "    </tr>\n",
       "    <tr>\n",
       "      <th>4790</th>\n",
       "      <td>КРАСНЫЙ ЛЕД. Сага о хантах Югры</td>\n",
       "      <td>111005910</td>\n",
       "      <td>2010-06-04 12:00:00+00:00</td>\n",
       "      <td>Художественный</td>\n",
       "      <td>Департамент культуры и искусства ХМАО-Югры, ОО...</td>\n",
       "      <td>Россия</td>\n",
       "      <td>О.Фесенко</td>\n",
       "      <td>О.Урушев</td>\n",
       "      <td>«16+» - для детей старше 16 лет</td>\n",
       "      <td>NaN</td>\n",
       "      <td>NaN</td>\n",
       "      <td>NaN</td>\n",
       "      <td>NaN</td>\n",
       "      <td>4.50</td>\n",
       "      <td>драма,история</td>\n",
       "      <td>0.00</td>\n",
       "    </tr>\n",
       "  </tbody>\n",
       "</table>\n",
       "</div>"
      ],
      "text/plain": [
       "                                                  title  pu_number  \\\n",
       "66                                         Анна Павлова  111011013   \n",
       "237                                            Подранки  111007613   \n",
       "596                                       Запах вереска  111003012   \n",
       "914     В тумане /По одноименной повести Василя Быкова/  121027712   \n",
       "932                                     Письмо для Момо  124002912   \n",
       "933                                        Летние войны  124002812   \n",
       "976                                        Гарегин Нжде  131000213   \n",
       "1126                                            Марафон  111006712   \n",
       "1387  Экзамен для двоих /По роману Джин Ханфф Корелитц/  121014613   \n",
       "1559  Последняя любовь мистера Моргана /По роману Фр...  121002614   \n",
       "1782                          Анжелика, маркиза ангелов  121031913   \n",
       "1978                                    Люблю твою жену  121013014   \n",
       "2037                                 Кино про Алексеева  111007114   \n",
       "2219                       Прогулка по солнечному свету  121011614   \n",
       "2442                                   Звездный мальчик  111013915   \n",
       "3595                                             Ананас  111017116   \n",
       "3827                               Москва, я люблю тебя  111001610   \n",
       "3994                              Стать Джоном Ленноном  121008610   \n",
       "4790                    КРАСНЫЙ ЛЕД. Сага о хантах Югры  111005910   \n",
       "\n",
       "               show_start_date            type  \\\n",
       "66   2013-12-19 12:00:00+00:00  Художественный   \n",
       "237  2013-10-18 12:00:00+00:00  Художественный   \n",
       "596  2012-05-23 12:00:00+00:00  Художественный   \n",
       "914  2012-11-07 12:00:00+00:00  Художественный   \n",
       "932  2012-10-25 12:00:00+00:00    Анимационный   \n",
       "933  2012-10-25 12:00:00+00:00    Анимационный   \n",
       "976  2013-04-23 12:00:00+00:00  Художественный   \n",
       "1126 2012-12-18 12:00:00+00:00  Художественный   \n",
       "1387 2013-06-11 12:00:00+00:00  Художественный   \n",
       "1559 2014-02-11 12:00:00+00:00  Художественный   \n",
       "1782 2013-12-12 12:00:00+00:00  Художественный   \n",
       "1978 2014-06-23 12:00:00+00:00  Художественный   \n",
       "2037 2014-07-18 12:00:00+00:00  Художественный   \n",
       "2219 2014-06-11 12:00:00+00:00  Художественный   \n",
       "2442 2015-08-25 12:00:00+00:00  Художественный   \n",
       "3595 2016-11-10 12:00:00+00:00  Художественный   \n",
       "3827 2010-02-09 12:00:00+00:00  Художественный   \n",
       "3994 2010-05-05 12:00:00+00:00  Художественный   \n",
       "4790 2010-06-04 12:00:00+00:00  Художественный   \n",
       "\n",
       "                                            film_studio  \\\n",
       "66    совместное производство Киностудия \"Мосфильм\",...   \n",
       "237                               Киностудия \"Мосфильм\"   \n",
       "596                                    ООО \"Студия РИМ\"   \n",
       "914   Ма Йа Де Фикшн, Лемминг Филм, Беларусьфильм, Д...   \n",
       "932   Кадокава Пикчерз, Продакшнз И Джи, Токио Броад...   \n",
       "933   Медхауз, Ниппон Телевижн Нетуорк Корпорейшн, К...   \n",
       "976      Эй Джи Кей Продакшнз, Пан Армениан Медиа Групп   \n",
       "1126                            ООО \"Синема Арт Студио\"   \n",
       "1387                                       Депф оф Филд   \n",
       "1559  Камински Штим Фильм, Бавариа Пикчерз, Сенатор ...   \n",
       "1782                  Европа Корп., МонаФилм, ВилмаФилм   \n",
       "1978           Серендипити Пойнт Фильм, Номадик Пикчерз   \n",
       "2037                     ООО \"Кинокомпания \"Новые люди\"   \n",
       "2219                         Вертиго Филмз, АйЭм Глобал   \n",
       "2442                              Киностудия \"Мосфильм\"   \n",
       "3595                            Рудак Владимир Иванович   \n",
       "3827  ООО \"БФГ-МЕДИА-ПРОДАКШН\", ООО \"Продюсерская ко...   \n",
       "3994  Авер Медиа, Экосси Филмз, Филм 4, Норс Вест Ви...   \n",
       "4790  Департамент культуры и искусства ХМАО-Югры, ОО...   \n",
       "\n",
       "                                     production_country  \\\n",
       "66                     СССР, Франция, Англия, Куба, ГДР   \n",
       "237                                                СССР   \n",
       "596                                              Россия   \n",
       "914   Германия - Нидерланды - Беларусь - Россия - Ла...   \n",
       "932                                              Япония   \n",
       "933                                              Япония   \n",
       "976                                             Армения   \n",
       "1126                                             Россия   \n",
       "1387                                                США   \n",
       "1559                  Германия - Бельгия - США -Франция   \n",
       "1782                                            Франция   \n",
       "1978                                             Канада   \n",
       "2037                                             Россия   \n",
       "2219                                     Великобритания   \n",
       "2442                                               СССР   \n",
       "3595                                             Россия   \n",
       "3827                                             Россия   \n",
       "3994                              Канада-Великобритания   \n",
       "4790                                             Россия   \n",
       "\n",
       "                                               director  \\\n",
       "66                                         Эмиль Лотяну   \n",
       "237                                           Н.Губенко   \n",
       "596                                         А.Магомедов   \n",
       "914                                      Сергей Лозница   \n",
       "932                                      Окиура Хироюки   \n",
       "933                                       Мамору Хосода   \n",
       "976                                        Грач Кешишян   \n",
       "1126                                         К.Оганесян   \n",
       "1387                                           Пол Вайц   \n",
       "1559                                  Сандра Неттельбек   \n",
       "1782                                      Ариэль Зейтун   \n",
       "1978                                  Джеримайя С.Чечик   \n",
       "2037                                            М.Сегал   \n",
       "2219                         Макс Джива, Дания Пасквини   \n",
       "2442                          Е.Зильберштейн, А.Дудоров   \n",
       "3595                                            В.Рудак   \n",
       "3827  Г.Михалков, Г.Натансон, В.Сторожева, А.Касатки...   \n",
       "3994                                     Сэм Тейлор Вуд   \n",
       "4790                                          О.Фесенко   \n",
       "\n",
       "                                               producer  \\\n",
       "66                                              unknown   \n",
       "237                                             unknown   \n",
       "596                               М.Балашова, Е.Миронов   \n",
       "914                                        Хайно Декерт   \n",
       "932     Хироюки Икеда, Митсухиса Ишикава, Кацзуя Хамана   \n",
       "933   Такафуми Ватанабэ, Такуя Ито, Сэйдзи Окуда, Юи...   \n",
       "976                                        Грач Кешишян   \n",
       "1126                                         К.Оганесян   \n",
       "1387              Пол Вайц, Керри Кохански, Эндрю Миано   \n",
       "1559  Франк Камински, Астрид Камке, Филипп Кройцер, ...   \n",
       "1782        Эммануэль Жаклин, Павел Солк, Филипп Херинг   \n",
       "1978            Стефен Аликс, Эри Лантос, Роберт Лантош   \n",
       "2037                                        Н.Мокрицкая   \n",
       "2219       Кэролайн Леви, Эллан Нибло, Джеймс Ричардсон   \n",
       "2442                                            unknown   \n",
       "3595                                 В.Рудак, А.Бабенко   \n",
       "3827                               Ю.Глоцер, Ю.Гинзбург   \n",
       "3994         Роберт Бернштейн, Кевин Лоудер, Дуглас Рэй   \n",
       "4790                                           О.Урушев   \n",
       "\n",
       "                             age_restriction  refundable_support  \\\n",
       "66             «6+» - для детей старше 6 лет                 NaN   \n",
       "237          «12+» - для детей старше 12 лет                 NaN   \n",
       "596          «16+» - для детей старше 16 лет                 NaN   \n",
       "914          «12+» - для детей старше 12 лет                 NaN   \n",
       "932          «12+» - для детей старше 12 лет                 NaN   \n",
       "933          «12+» - для детей старше 12 лет                 NaN   \n",
       "976          «12+» - для детей старше 12 лет                 NaN   \n",
       "1126         «16+» - для детей старше 16 лет                 NaN   \n",
       "1387         «12+» - для детей старше 12 лет                 NaN   \n",
       "1559         «16+» - для детей старше 16 лет                 NaN   \n",
       "1782         «16+» - для детей старше 16 лет                 NaN   \n",
       "1978         «16+» - для детей старше 16 лет                 NaN   \n",
       "2037         «12+» - для детей старше 12 лет                 NaN   \n",
       "2219         «12+» - для детей старше 12 лет                 NaN   \n",
       "2442  «0+» - для любой зрительской аудитории                 NaN   \n",
       "3595         «16+» - для детей старше 16 лет                 NaN   \n",
       "3827         «16+» - для детей старше 16 лет                 NaN   \n",
       "3994         «16+» - для детей старше 16 лет                 NaN   \n",
       "4790         «16+» - для детей старше 16 лет                 NaN   \n",
       "\n",
       "      non_refundable_support  budget financing_source  ratings  \\\n",
       "66                       NaN     NaN              NaN     7.70   \n",
       "237                      NaN     NaN              NaN     8.20   \n",
       "596                      NaN     NaN              NaN     6.30   \n",
       "914                      NaN     NaN              NaN     6.50   \n",
       "932                      NaN     NaN              NaN     7.40   \n",
       "933                      NaN     NaN              NaN     7.70   \n",
       "976                      NaN     NaN              NaN     7.90   \n",
       "1126                     NaN     NaN              NaN     5.50   \n",
       "1387                     NaN     NaN              NaN     5.80   \n",
       "1559                     NaN     NaN              NaN     6.90   \n",
       "1782                     NaN     NaN              NaN     8.00   \n",
       "1978                     NaN     NaN              NaN     6.00   \n",
       "2037                     NaN     NaN              NaN     6.90   \n",
       "2219                     NaN     NaN              NaN     6.10   \n",
       "2442                     NaN     NaN              NaN     7.50   \n",
       "3595                     NaN     NaN              NaN     6.70   \n",
       "3827                     NaN     NaN              NaN     4.50   \n",
       "3994                     NaN     NaN              NaN     7.50   \n",
       "4790                     NaN     NaN              NaN     4.50   \n",
       "\n",
       "                           genres  box_office  \n",
       "66         драма,биография,музыка        0.00  \n",
       "237                         драма        0.00  \n",
       "596                       комедия        0.00  \n",
       "914         драма,военный,история        0.00  \n",
       "932        аниме,мультфильм,драма        0.00  \n",
       "933   аниме,мультфильм,фантастика        0.00  \n",
       "976                     биография        0.00  \n",
       "1126            комедия,мелодрама        0.00  \n",
       "1387      мелодрама,комедия,драма        0.00  \n",
       "1559                        драма        0.00  \n",
       "1782  драма,мелодрама,приключения        0.00  \n",
       "1978            мелодрама,комедия        0.00  \n",
       "2037                        драма        0.00  \n",
       "2219       мюзикл,драма,мелодрама        0.00  \n",
       "2442                        драма        0.00  \n",
       "3595      боевик,комедия,криминал        0.00  \n",
       "3827            мелодрама,комедия        0.00  \n",
       "3994    драма,мелодрама,биография        0.00  \n",
       "4790                драма,история        0.00  "
      ]
     },
     "execution_count": 48,
     "metadata": {},
     "output_type": "execute_result"
    }
   ],
   "source": [
    "data.loc[data['box_office'] == 0]"
   ]
  },
  {
   "cell_type": "markdown",
   "metadata": {},
   "source": [
    "19 строк.\n",
    "\n",
    "Вне зависимости от того, насколько неудачным вышел фильм, хотя бы один зритель у него должен быть (а то будет слишком грустно). Поэтому пропуски в данных столбцах вещь аномальная.\n",
    "\n",
    "Для примера посмотрим информацию по одному из этих фильмов на КиноПоиске. Например, Письмо для Момо https://www.kinopoisk.ru/film/635011/. Сборы в мире почти 6,5 млн. долларов.\n",
    "\n",
    "Так как сборы фильма являются очень важным показателем, мы должны были бы их удалить, однако делать этого не будем, так как эти строки нам пригодятся при дальнейших анализах.\n",
    "***\n",
    "Посмотрим на аномалии в других столбцах."
   ]
  },
  {
   "cell_type": "code",
   "execution_count": 49,
   "metadata": {},
   "outputs": [
    {
     "data": {
      "image/png": "[encoded data removed]",
      "text/plain": [
       "<Figure size 1152x432 with 1 Axes>"
      ]
     },
     "metadata": {},
     "output_type": "display_data"
    }
   ],
   "source": [
    "plt.boxplot(data['refundable_support'].loc[data['refundable_support'] > 0])\n",
    "plt.ylim(1,190000000)\n",
    "plt.title('Диаграмма размаха объёма выделенных возвратных гос. средств в зависимости от количества фильмов')\n",
    "plt.ylabel('Объём выделенных возвратных гос. средств');"
   ]
  },
  {
   "cell_type": "code",
   "execution_count": 50,
   "metadata": {},
   "outputs": [
    {
     "data": {
      "image/png": "[encoded data removed]",
      "text/plain": [
       "<Figure size 1152x432 with 1 Axes>"
      ]
     },
     "metadata": {},
     "output_type": "display_data"
    }
   ],
   "source": [
    "plt.boxplot(data['non_refundable_support'].loc[data['non_refundable_support'] > 0])\n",
    "plt.ylim(-10000000,200000000)\n",
    "plt.title('Диаграмма размаха объёма выделенных невозвратных гос. средств в зависимости от количества фильмов')\n",
    "plt.ylabel('Объём выделенных невозвратных гос. средств');"
   ]
  },
  {
   "cell_type": "code",
   "execution_count": 51,
   "metadata": {},
   "outputs": [
    {
     "data": {
      "image/png": "[encoded data removed]",
      "text/plain": [
       "<Figure size 1152x432 with 1 Axes>"
      ]
     },
     "metadata": {},
     "output_type": "display_data"
    }
   ],
   "source": [
    "plt.boxplot(data['budget'].loc[data['budget'] > 0])\n",
    "plt.ylim(-100000000,1000000000)\n",
    "plt.title('Диаграмма размаха объёма общего бюджета фильма в зависимости от количества фильмов')\n",
    "plt.ylabel('Объём общего бюджета фильма');"
   ]
  },
  {
   "cell_type": "code",
   "execution_count": 52,
   "metadata": {
    "scrolled": true
   },
   "outputs": [
    {
     "data": {
      "image/png": "[encoded data removed]",
      "text/plain": [
       "<Figure size 1152x432 with 1 Axes>"
      ]
     },
     "metadata": {},
     "output_type": "display_data"
    }
   ],
   "source": [
    "plt.boxplot(data['box_office'].loc[data['box_office'] > 0])\n",
    "plt.ylim(1,3100000000)\n",
    "plt.title('Диаграмма размаха объёма вырученных средств в зависимости от количества фильмов')\n",
    "plt.ylabel('Объём вырученных средств');"
   ]
  },
  {
   "cell_type": "markdown",
   "metadata": {},
   "source": [
    "По такой диаграмме размаха мало что понятно, нужно построить новую с другими ограничениями по оси Х. Сузим выборку для более репрезентативного графика."
   ]
  },
  {
   "cell_type": "code",
   "execution_count": 53,
   "metadata": {},
   "outputs": [
    {
     "data": {
      "image/png": "[encoded data removed]",
      "text/plain": [
       "<Figure size 1152x432 with 1 Axes>"
      ]
     },
     "metadata": {},
     "output_type": "display_data"
    }
   ],
   "source": [
    "plt.boxplot(data['box_office'].loc[data['box_office'] > 0])\n",
    "plt.ylim(-10000000,200000000)\n",
    "plt.title('Диаграмма размаха объёма вырученных средств в зависимости от количества фильмов')\n",
    "plt.ylabel('Объём вырученных средств');"
   ]
  },
  {
   "cell_type": "markdown",
   "metadata": {},
   "source": [
    "На основании диаграмм размаха можно сделать следующие промежуточные выводы:\n",
    "- аномалии в каждом столбце начинаются со значений:\n",
    "    - объём возвратных средств — 100 млн. руб.;\n",
    "    - объём невозвратных средств — 75 млн. руб.;\n",
    "    - общий бюджет фильма — 300 млн. руб..;\n",
    "    - объём вырученных средств — 75 млн. руб.\n",
    "- значительное количество фильмов находятся в аномальной зоне — при избавлении от них количество оставшихся значений может негативно повлиять на итоговые результаты.\n",
    "\n",
    "Строк с данными для анализа у нас и так недостаточно, так ещё и много аномальных значений. Лучше дополнительно не удалять строки."
   ]
  },
  {
   "cell_type": "markdown",
   "metadata": {},
   "source": [
    "**Вывод**\n",
    "\n",
    "В ходе данного шага было выполнено следующее:\n",
    "- идентифицирована проблема с отсутствием общего бюджета при государственной поддержке;\n",
    "- заполнены нулевые значения в общем бюджете на основании медианного значения доли государственной поддержки и разнообразной государственной поддержки;\n",
    "- проанализированы столбцы с аномальными значениями."
   ]
  },
  {
   "cell_type": "markdown",
   "metadata": {
    "id": "Eu6oWp2CgFyS"
   },
   "source": [
    "###  Добавление новых данных\n",
    "\n",
    "\n",
    "\n"
   ]
  },
  {
   "cell_type": "markdown",
   "metadata": {
    "id": "7GgW-UpAgFyS"
   },
   "source": [
    "Создадим столбец с информацией о годе проката."
   ]
  },
  {
   "cell_type": "code",
   "execution_count": 54,
   "metadata": {
    "id": "I-yd1DkWgFyT"
   },
   "outputs": [],
   "source": [
    "data['year'] = data['show_start_date'].dt.year \n",
    "#добавляем столбец с годом премьеры фильма"
   ]
  },
  {
   "cell_type": "markdown",
   "metadata": {
    "id": "nFTDLDYOgFyT"
   },
   "source": [
    "Добавим еще два столбца: с именем и фамилией главного режиссёра и основным жанром фильма. В столбцы войдут первые значения из списка режиссёров и жанров соответственно.\n"
   ]
  },
  {
   "cell_type": "code",
   "execution_count": 55,
   "metadata": {
    "id": "LSbRZKbMgFyU"
   },
   "outputs": [],
   "source": [
    "def add_columns(data, columns): \n",
    "    for column in columns:\n",
    "        data[f'major_{column}'] = data[column].dropna().apply(lambda x: x.split(',')[0])\n",
    "    return data\n",
    "#создаём функцию для добавления новых столбцов, учитывая название столбца и его содержание\n",
    "\n",
    "data = add_columns(data, ['director', 'genres']) \n",
    "#добавляем столбцы c главным именем режиссёра и главным жанром"
   ]
  },
  {
   "cell_type": "markdown",
   "metadata": {
    "id": "1FsCXHwdgFyU"
   },
   "source": [
    "Посчитаем, какую долю от общего бюджета фильма составляет государственная поддержка."
   ]
  },
  {
   "cell_type": "code",
   "execution_count": 56,
   "metadata": {
    "id": "LV6qFuZLgFyV"
   },
   "outputs": [
    {
     "name": "stdout",
     "output_type": "stream",
     "text": [
      "Доля государственной поддержки от общего бюджета фильма составляет 60.4%\n"
     ]
    }
   ],
   "source": [
    "print(f'Доля государственной поддержки от общего бюджета фильма составляет {state_budget:.1%}')"
   ]
  },
  {
   "cell_type": "markdown",
   "metadata": {},
   "source": [
    "Добавим столбец с долей государственной поддержкой от общего бюджета фильма."
   ]
  },
  {
   "cell_type": "code",
   "execution_count": 57,
   "metadata": {},
   "outputs": [],
   "source": [
    "data['state_budget'] = (data['refundable_support'] + data['non_refundable_support']) / data['budget']"
   ]
  },
  {
   "cell_type": "code",
   "execution_count": 58,
   "metadata": {},
   "outputs": [
    {
     "data": {
      "text/html": [
       "<div>\n",
       "<style scoped>\n",
       "    .dataframe tbody tr th:only-of-type {\n",
       "        vertical-align: middle;\n",
       "    }\n",
       "\n",
       "    .dataframe tbody tr th {\n",
       "        vertical-align: top;\n",
       "    }\n",
       "\n",
       "    .dataframe thead th {\n",
       "        text-align: right;\n",
       "    }\n",
       "</style>\n",
       "<table border=\"1\" class=\"dataframe\">\n",
       "  <thead>\n",
       "    <tr style=\"text-align: right;\">\n",
       "      <th></th>\n",
       "      <th>title</th>\n",
       "      <th>pu_number</th>\n",
       "      <th>show_start_date</th>\n",
       "      <th>type</th>\n",
       "      <th>film_studio</th>\n",
       "      <th>production_country</th>\n",
       "      <th>director</th>\n",
       "      <th>producer</th>\n",
       "      <th>age_restriction</th>\n",
       "      <th>refundable_support</th>\n",
       "      <th>non_refundable_support</th>\n",
       "      <th>budget</th>\n",
       "      <th>financing_source</th>\n",
       "      <th>ratings</th>\n",
       "      <th>genres</th>\n",
       "      <th>box_office</th>\n",
       "      <th>year</th>\n",
       "      <th>major_director</th>\n",
       "      <th>major_genres</th>\n",
       "      <th>state_budget</th>\n",
       "    </tr>\n",
       "  </thead>\n",
       "  <tbody>\n",
       "    <tr>\n",
       "      <th>0</th>\n",
       "      <td>Открытый простор</td>\n",
       "      <td>221048915</td>\n",
       "      <td>2015-11-27 12:00:00+00:00</td>\n",
       "      <td>Художественный</td>\n",
       "      <td>Тачстоун Пикчерз, Кобальт Пикчерз, Бикон Пикче...</td>\n",
       "      <td>США</td>\n",
       "      <td>Кевин Костнер</td>\n",
       "      <td>Дэвид Валдес, Кевин Костнер, Джейк Эбертс</td>\n",
       "      <td>«18+» - запрещено для детей</td>\n",
       "      <td>NaN</td>\n",
       "      <td>NaN</td>\n",
       "      <td>NaN</td>\n",
       "      <td>NaN</td>\n",
       "      <td>7.20</td>\n",
       "      <td>боевик,драма,мелодрама</td>\n",
       "      <td>NaN</td>\n",
       "      <td>2015</td>\n",
       "      <td>Кевин Костнер</td>\n",
       "      <td>боевик</td>\n",
       "      <td>NaN</td>\n",
       "    </tr>\n",
       "    <tr>\n",
       "      <th>1</th>\n",
       "      <td>Особо важное задание</td>\n",
       "      <td>111013716</td>\n",
       "      <td>2016-09-13 12:00:00+00:00</td>\n",
       "      <td>Художественный</td>\n",
       "      <td>Киностудия \"Мосфильм\"</td>\n",
       "      <td>СССР</td>\n",
       "      <td>Е.Матвеев</td>\n",
       "      <td>unknown</td>\n",
       "      <td>«6+» - для детей старше 6 лет</td>\n",
       "      <td>NaN</td>\n",
       "      <td>NaN</td>\n",
       "      <td>NaN</td>\n",
       "      <td>NaN</td>\n",
       "      <td>6.60</td>\n",
       "      <td>драма,военный</td>\n",
       "      <td>NaN</td>\n",
       "      <td>2016</td>\n",
       "      <td>Е.Матвеев</td>\n",
       "      <td>драма</td>\n",
       "      <td>NaN</td>\n",
       "    </tr>\n",
       "  </tbody>\n",
       "</table>\n",
       "</div>"
      ],
      "text/plain": [
       "                  title  pu_number           show_start_date            type  \\\n",
       "0      Открытый простор  221048915 2015-11-27 12:00:00+00:00  Художественный   \n",
       "1  Особо важное задание  111013716 2016-09-13 12:00:00+00:00  Художественный   \n",
       "\n",
       "                                         film_studio production_country  \\\n",
       "0  Тачстоун Пикчерз, Кобальт Пикчерз, Бикон Пикче...                США   \n",
       "1                              Киностудия \"Мосфильм\"               СССР   \n",
       "\n",
       "        director                                   producer  \\\n",
       "0  Кевин Костнер  Дэвид Валдес, Кевин Костнер, Джейк Эбертс   \n",
       "1      Е.Матвеев                                    unknown   \n",
       "\n",
       "                 age_restriction  refundable_support  non_refundable_support  \\\n",
       "0    «18+» - запрещено для детей                 NaN                     NaN   \n",
       "1  «6+» - для детей старше 6 лет                 NaN                     NaN   \n",
       "\n",
       "   budget financing_source  ratings                  genres  box_office  year  \\\n",
       "0     NaN              NaN     7.20  боевик,драма,мелодрама         NaN  2015   \n",
       "1     NaN              NaN     6.60           драма,военный         NaN  2016   \n",
       "\n",
       "  major_director major_genres  state_budget  \n",
       "0  Кевин Костнер       боевик           NaN  \n",
       "1      Е.Матвеев        драма           NaN  "
      ]
     },
     "execution_count": 58,
     "metadata": {},
     "output_type": "execute_result"
    }
   ],
   "source": [
    "data.head(2)"
   ]
  },
  {
   "cell_type": "markdown",
   "metadata": {},
   "source": [
    "**Вывод**\n",
    "\n",
    "В ходе данного шага было выполнено следующее:\n",
    "- изменён тип данных в требующих того столбцах;\n",
    "- заполнены пропуски в столбцах;\n",
    "- проведена работа с неявными дубликатами;\n",
    "- выявлены аномальные значения, часть из которых удалена;\n",
    "- добавлены новые столбцы;\n",
    "- посчитана доля государственной поддержки от общего бюджета фильма."
   ]
  },
  {
   "cell_type": "markdown",
   "metadata": {
    "id": "6t4EukPLgFyV"
   },
   "source": [
    "## Исследовательский анализ данных\n"
   ]
  },
  {
   "cell_type": "markdown",
   "metadata": {
    "id": "ABeV47y7gFyW"
   },
   "source": [
    "Построим сводную таблицу, содержащую информацию о количестве фильмов в каждый из доступных годов."
   ]
  },
  {
   "cell_type": "code",
   "execution_count": 59,
   "metadata": {},
   "outputs": [
    {
     "data": {
      "text/html": [
       "<div>\n",
       "<style scoped>\n",
       "    .dataframe tbody tr th:only-of-type {\n",
       "        vertical-align: middle;\n",
       "    }\n",
       "\n",
       "    .dataframe tbody tr th {\n",
       "        vertical-align: top;\n",
       "    }\n",
       "\n",
       "    .dataframe thead th {\n",
       "        text-align: right;\n",
       "    }\n",
       "</style>\n",
       "<table border=\"1\" class=\"dataframe\">\n",
       "  <thead>\n",
       "    <tr style=\"text-align: right;\">\n",
       "      <th></th>\n",
       "      <th>title</th>\n",
       "    </tr>\n",
       "    <tr>\n",
       "      <th>year</th>\n",
       "      <th></th>\n",
       "    </tr>\n",
       "  </thead>\n",
       "  <tbody>\n",
       "    <tr>\n",
       "      <th>2010</th>\n",
       "      <td>910</td>\n",
       "    </tr>\n",
       "    <tr>\n",
       "      <th>2011</th>\n",
       "      <td>576</td>\n",
       "    </tr>\n",
       "    <tr>\n",
       "      <th>2012</th>\n",
       "      <td>546</td>\n",
       "    </tr>\n",
       "    <tr>\n",
       "      <th>2013</th>\n",
       "      <td>581</td>\n",
       "    </tr>\n",
       "    <tr>\n",
       "      <th>2014</th>\n",
       "      <td>739</td>\n",
       "    </tr>\n",
       "    <tr>\n",
       "      <th>2015</th>\n",
       "      <td>619</td>\n",
       "    </tr>\n",
       "    <tr>\n",
       "      <th>2016</th>\n",
       "      <td>714</td>\n",
       "    </tr>\n",
       "    <tr>\n",
       "      <th>2017</th>\n",
       "      <td>436</td>\n",
       "    </tr>\n",
       "    <tr>\n",
       "      <th>2018</th>\n",
       "      <td>654</td>\n",
       "    </tr>\n",
       "    <tr>\n",
       "      <th>2019</th>\n",
       "      <td>723</td>\n",
       "    </tr>\n",
       "  </tbody>\n",
       "</table>\n",
       "</div>"
      ],
      "text/plain": [
       "      title\n",
       "year       \n",
       "2010    910\n",
       "2011    576\n",
       "2012    546\n",
       "2013    581\n",
       "2014    739\n",
       "2015    619\n",
       "2016    714\n",
       "2017    436\n",
       "2018    654\n",
       "2019    723"
      ]
     },
     "execution_count": 59,
     "metadata": {},
     "output_type": "execute_result"
    }
   ],
   "source": [
    "data.pivot_table(index = 'year', values = 'title', aggfunc = 'count')"
   ]
  },
  {
   "cell_type": "markdown",
   "metadata": {},
   "source": [
    "Теперь посмотрим, сколько фильмов имеется с заполненным количеством сборов. Сделаем переменную, так как в дальнейшем эти данные пригодятся. Включим туда среднее, медианной значение, количество и сумму.\n",
    "\n",
    "Поле **box_office** имеет крупные значения. Создадим дополнительный столбец, в котором будут содержаться те же данные, но в миллионах."
   ]
  },
  {
   "cell_type": "code",
   "execution_count": 60,
   "metadata": {},
   "outputs": [
    {
     "data": {
      "text/html": [
       "<div>\n",
       "<style scoped>\n",
       "    .dataframe tbody tr th:only-of-type {\n",
       "        vertical-align: middle;\n",
       "    }\n",
       "\n",
       "    .dataframe tbody tr th {\n",
       "        vertical-align: top;\n",
       "    }\n",
       "\n",
       "    .dataframe thead th {\n",
       "        text-align: right;\n",
       "    }\n",
       "</style>\n",
       "<table border=\"1\" class=\"dataframe\">\n",
       "  <thead>\n",
       "    <tr style=\"text-align: right;\">\n",
       "      <th></th>\n",
       "      <th>mean</th>\n",
       "      <th>median</th>\n",
       "      <th>count</th>\n",
       "      <th>sum</th>\n",
       "    </tr>\n",
       "    <tr>\n",
       "      <th>year</th>\n",
       "      <th></th>\n",
       "      <th></th>\n",
       "      <th></th>\n",
       "      <th></th>\n",
       "    </tr>\n",
       "  </thead>\n",
       "  <tbody>\n",
       "    <tr>\n",
       "      <th>2010</th>\n",
       "      <td>0.02</td>\n",
       "      <td>0.00</td>\n",
       "      <td>102</td>\n",
       "      <td>2.42</td>\n",
       "    </tr>\n",
       "    <tr>\n",
       "      <th>2011</th>\n",
       "      <td>0.02</td>\n",
       "      <td>0.00</td>\n",
       "      <td>104</td>\n",
       "      <td>2.06</td>\n",
       "    </tr>\n",
       "    <tr>\n",
       "      <th>2012</th>\n",
       "      <td>0.06</td>\n",
       "      <td>0.01</td>\n",
       "      <td>123</td>\n",
       "      <td>6.86</td>\n",
       "    </tr>\n",
       "    <tr>\n",
       "      <th>2013</th>\n",
       "      <td>0.17</td>\n",
       "      <td>0.00</td>\n",
       "      <td>179</td>\n",
       "      <td>29.65</td>\n",
       "    </tr>\n",
       "    <tr>\n",
       "      <th>2014</th>\n",
       "      <td>27.93</td>\n",
       "      <td>0.02</td>\n",
       "      <td>262</td>\n",
       "      <td>7,317.08</td>\n",
       "    </tr>\n",
       "    <tr>\n",
       "      <th>2015</th>\n",
       "      <td>91.47</td>\n",
       "      <td>7.20</td>\n",
       "      <td>417</td>\n",
       "      <td>38,142.97</td>\n",
       "    </tr>\n",
       "    <tr>\n",
       "      <th>2016</th>\n",
       "      <td>98.09</td>\n",
       "      <td>5.09</td>\n",
       "      <td>467</td>\n",
       "      <td>45,808.33</td>\n",
       "    </tr>\n",
       "    <tr>\n",
       "      <th>2017</th>\n",
       "      <td>138.50</td>\n",
       "      <td>10.60</td>\n",
       "      <td>333</td>\n",
       "      <td>46,120.56</td>\n",
       "    </tr>\n",
       "    <tr>\n",
       "      <th>2018</th>\n",
       "      <td>105.69</td>\n",
       "      <td>10.48</td>\n",
       "      <td>443</td>\n",
       "      <td>46,820.29</td>\n",
       "    </tr>\n",
       "    <tr>\n",
       "      <th>2019</th>\n",
       "      <td>101.25</td>\n",
       "      <td>5.71</td>\n",
       "      <td>477</td>\n",
       "      <td>48,297.00</td>\n",
       "    </tr>\n",
       "  </tbody>\n",
       "</table>\n",
       "</div>"
      ],
      "text/plain": [
       "       mean  median  count       sum\n",
       "year                                \n",
       "2010   0.02    0.00    102      2.42\n",
       "2011   0.02    0.00    104      2.06\n",
       "2012   0.06    0.01    123      6.86\n",
       "2013   0.17    0.00    179     29.65\n",
       "2014  27.93    0.02    262  7,317.08\n",
       "2015  91.47    7.20    417 38,142.97\n",
       "2016  98.09    5.09    467 45,808.33\n",
       "2017 138.50   10.60    333 46,120.56\n",
       "2018 105.69   10.48    443 46,820.29\n",
       "2019 101.25    5.71    477 48,297.00"
      ]
     },
     "execution_count": 60,
     "metadata": {},
     "output_type": "execute_result"
    }
   ],
   "source": [
    "data['box_office_mln'] = data['box_office'] / 1000000 \n",
    "#создаём дополнительный столбец\n",
    "\n",
    "data_pivot_year = data.loc[data['box_office_mln'].notna(), \n",
    "                      ['year', 'box_office_mln']].groupby('year').agg(['mean', 'median', 'count', 'sum'])\n",
    "\n",
    "data_pivot_year.columns = data_pivot_year.columns.get_level_values(1)\n",
    "#укажем наименования столбцов \n",
    "\n",
    "data_pivot_year"
   ]
  },
  {
   "cell_type": "markdown",
   "metadata": {},
   "source": [
    "Как можно заметить, количество фильмов значительно сократилось. Посчитаем, какая доля фильмов имеет информацию о сборах."
   ]
  },
  {
   "cell_type": "code",
   "execution_count": 61,
   "metadata": {},
   "outputs": [
    {
     "name": "stdout",
     "output_type": "stream",
     "text": [
      "Доля фильмов с информацией о сборах составляет 44.7%\n"
     ]
    }
   ],
   "source": [
    "print(f'Доля фильмов с информацией о сборах составляет {data.box_office.notna().mean():.1%}')"
   ]
  },
  {
   "cell_type": "markdown",
   "metadata": {
    "id": "BEOdcIrIgFyW"
   },
   "source": [
    "Изучим динамику проката по годам. Найдем минимальную и максимульную сумму сборов."
   ]
  },
  {
   "cell_type": "markdown",
   "metadata": {
    "id": "tfEhofYvgFyX"
   },
   "source": [
    "На основании ранее созданной таблицы построим график с динамикой сборов по годам для наглядности."
   ]
  },
  {
   "cell_type": "code",
   "execution_count": 62,
   "metadata": {},
   "outputs": [
    {
     "data": {
      "image/png": "[encoded data removed]",
      "text/plain": [
       "<Figure size 864x360 with 1 Axes>"
      ]
     },
     "metadata": {},
     "output_type": "display_data"
    }
   ],
   "source": [
    "data_pivot_year.plot(\n",
    "    title = 'Динамика сборов по годам',\n",
    "    xlabel = 'Год',\n",
    "    ylabel = 'Сумма сборов', \n",
    "    kind='line',\n",
    "    y = 'sum',\n",
    "    grid=True,\n",
    "    figsize=(12, 5),\n",
    ")\n",
    "plt.show()\n",
    "#построим график для наглядности"
   ]
  },
  {
   "cell_type": "markdown",
   "metadata": {},
   "source": [
    "На графике видно, что с каждым годом размер сборов увеличивался. Максимальный объём мы видим, в 2019, а вот минимальный скрыт из-за размеров графика, расположен где-то в промежутке между 2010-2013 годами. Найдём его."
   ]
  },
  {
   "cell_type": "code",
   "execution_count": 63,
   "metadata": {},
   "outputs": [
    {
     "data": {
      "text/plain": [
       "2011"
      ]
     },
     "execution_count": 63,
     "metadata": {},
     "output_type": "execute_result"
    }
   ],
   "source": [
    "data_pivot_year['sum'].idxmin()"
   ]
  },
  {
   "cell_type": "markdown",
   "metadata": {},
   "source": [
    "Минимальный объём сборов был в 2011 году."
   ]
  },
  {
   "cell_type": "markdown",
   "metadata": {
    "id": "jmp-rgg9gFyY"
   },
   "source": [
    "Чуть ренее создали сводную таблицу, в которой была вся нужная информация. Отобразим среднюю и медианную сумму сборов для каждого года в виде графика."
   ]
  },
  {
   "cell_type": "code",
   "execution_count": 64,
   "metadata": {},
   "outputs": [
    {
     "data": {
      "image/png": "[encoded data removed]",
      "text/plain": [
       "<Figure size 864x360 with 1 Axes>"
      ]
     },
     "metadata": {},
     "output_type": "display_data"
    }
   ],
   "source": [
    "data_pivot_year.plot(\n",
    "    title = 'Динамика сборов по годам',\n",
    "    xlabel = 'Год',\n",
    "    ylabel = 'Сумма сборов, млн. руб.', \n",
    "    kind='line',\n",
    "    y = ['mean', 'median'],\n",
    "    grid=True, figsize=(12, 5),\n",
    ");\n",
    "#построим график для наглядности"
   ]
  },
  {
   "cell_type": "markdown",
   "metadata": {},
   "source": [
    "По графику видно, что среднее значение сборов и медианное кардинально отличаются. Это связано с тем, что есть картины, которые заработали достаточно много в отличие от большинства фильмов."
   ]
  },
  {
   "cell_type": "markdown",
   "metadata": {
    "id": "Ok89WFwJgFyZ"
   },
   "source": [
    "- Определите, влияет ли возрастное ограничение аудитории («6+», «12+», «16+», «18+» и т. д.) на сборы фильма в прокате в период с 2015 по 2019 год? Фильмы с каким возрастным ограничением собрали больше всего денег в прокате? Меняется ли картина в зависимости от года? Если да, предположите, с чем это может быть связано."
   ]
  },
  {
   "cell_type": "code",
   "execution_count": 65,
   "metadata": {},
   "outputs": [
    {
     "data": {
      "image/png": "[encoded data removed]",
      "text/plain": [
       "<Figure size 864x432 with 1 Axes>"
      ]
     },
     "metadata": {},
     "output_type": "display_data"
    }
   ],
   "source": [
    "data_pivot_age = data[data['box_office_mln'].notna()].pivot_table(index = 'year',\n",
    "                                                 columns = 'age_restriction', \n",
    "                                                 values = 'box_office_mln', aggfunc = 'sum')\n",
    "#сделаем сводную таблицу\n",
    "\n",
    "age_plot = data_pivot_age.plot(\n",
    "    title = 'Сбор денег по годам в зависимости от возрастной категории', \n",
    "    kind = 'line',\n",
    "    xlabel = 'Год', \n",
    "    ylabel = 'Сумма сборов, в млн. руб.',\n",
    "    xlim = [2015, 2019],\n",
    "    grid=True,\n",
    "    figsize=(12, 6),\n",
    ");\n",
    "#построим график для наглядности\n",
    "\n",
    "age_plot.set_xticks([2015, 2016, 2017, 2018, 2019]);\n",
    "#зададим значения годов для оси Х, чтобы не отображались дробные значения\n"
   ]
  },
  {
   "cell_type": "code",
   "execution_count": 66,
   "metadata": {
    "scrolled": true
   },
   "outputs": [
    {
     "data": {
      "text/html": [
       "<div>\n",
       "<style scoped>\n",
       "    .dataframe tbody tr th:only-of-type {\n",
       "        vertical-align: middle;\n",
       "    }\n",
       "\n",
       "    .dataframe tbody tr th {\n",
       "        vertical-align: top;\n",
       "    }\n",
       "\n",
       "    .dataframe thead th {\n",
       "        text-align: right;\n",
       "    }\n",
       "</style>\n",
       "<table border=\"1\" class=\"dataframe\">\n",
       "  <thead>\n",
       "    <tr style=\"text-align: right;\">\n",
       "      <th>age_restriction</th>\n",
       "      <th>«0+» - для любой зрительской аудитории</th>\n",
       "      <th>«12+» - для детей старше 12 лет</th>\n",
       "      <th>«16+» - для детей старше 16 лет</th>\n",
       "      <th>«18+» - запрещено для детей</th>\n",
       "      <th>«6+» - для детей старше 6 лет</th>\n",
       "    </tr>\n",
       "    <tr>\n",
       "      <th>year</th>\n",
       "      <th></th>\n",
       "      <th></th>\n",
       "      <th></th>\n",
       "      <th></th>\n",
       "      <th></th>\n",
       "    </tr>\n",
       "  </thead>\n",
       "  <tbody>\n",
       "    <tr>\n",
       "      <th>2010</th>\n",
       "      <td>22.00</td>\n",
       "      <td>17.00</td>\n",
       "      <td>56.00</td>\n",
       "      <td>7.00</td>\n",
       "      <td>NaN</td>\n",
       "    </tr>\n",
       "    <tr>\n",
       "      <th>2011</th>\n",
       "      <td>25.00</td>\n",
       "      <td>22.00</td>\n",
       "      <td>54.00</td>\n",
       "      <td>2.00</td>\n",
       "      <td>1.00</td>\n",
       "    </tr>\n",
       "    <tr>\n",
       "      <th>2012</th>\n",
       "      <td>26.00</td>\n",
       "      <td>16.00</td>\n",
       "      <td>48.00</td>\n",
       "      <td>17.00</td>\n",
       "      <td>16.00</td>\n",
       "    </tr>\n",
       "    <tr>\n",
       "      <th>2013</th>\n",
       "      <td>35.00</td>\n",
       "      <td>59.00</td>\n",
       "      <td>43.00</td>\n",
       "      <td>16.00</td>\n",
       "      <td>26.00</td>\n",
       "    </tr>\n",
       "    <tr>\n",
       "      <th>2014</th>\n",
       "      <td>33.00</td>\n",
       "      <td>81.00</td>\n",
       "      <td>79.00</td>\n",
       "      <td>42.00</td>\n",
       "      <td>27.00</td>\n",
       "    </tr>\n",
       "    <tr>\n",
       "      <th>2015</th>\n",
       "      <td>22.00</td>\n",
       "      <td>65.00</td>\n",
       "      <td>158.00</td>\n",
       "      <td>123.00</td>\n",
       "      <td>49.00</td>\n",
       "    </tr>\n",
       "    <tr>\n",
       "      <th>2016</th>\n",
       "      <td>18.00</td>\n",
       "      <td>72.00</td>\n",
       "      <td>171.00</td>\n",
       "      <td>145.00</td>\n",
       "      <td>61.00</td>\n",
       "    </tr>\n",
       "    <tr>\n",
       "      <th>2017</th>\n",
       "      <td>2.00</td>\n",
       "      <td>34.00</td>\n",
       "      <td>116.00</td>\n",
       "      <td>142.00</td>\n",
       "      <td>39.00</td>\n",
       "    </tr>\n",
       "    <tr>\n",
       "      <th>2018</th>\n",
       "      <td>2.00</td>\n",
       "      <td>56.00</td>\n",
       "      <td>147.00</td>\n",
       "      <td>175.00</td>\n",
       "      <td>63.00</td>\n",
       "    </tr>\n",
       "    <tr>\n",
       "      <th>2019</th>\n",
       "      <td>1.00</td>\n",
       "      <td>69.00</td>\n",
       "      <td>161.00</td>\n",
       "      <td>175.00</td>\n",
       "      <td>71.00</td>\n",
       "    </tr>\n",
       "  </tbody>\n",
       "</table>\n",
       "</div>"
      ],
      "text/plain": [
       "age_restriction  «0+» - для любой зрительской аудитории  \\\n",
       "year                                                      \n",
       "2010                                              22.00   \n",
       "2011                                              25.00   \n",
       "2012                                              26.00   \n",
       "2013                                              35.00   \n",
       "2014                                              33.00   \n",
       "2015                                              22.00   \n",
       "2016                                              18.00   \n",
       "2017                                               2.00   \n",
       "2018                                               2.00   \n",
       "2019                                               1.00   \n",
       "\n",
       "age_restriction  «12+» - для детей старше 12 лет  \\\n",
       "year                                               \n",
       "2010                                       17.00   \n",
       "2011                                       22.00   \n",
       "2012                                       16.00   \n",
       "2013                                       59.00   \n",
       "2014                                       81.00   \n",
       "2015                                       65.00   \n",
       "2016                                       72.00   \n",
       "2017                                       34.00   \n",
       "2018                                       56.00   \n",
       "2019                                       69.00   \n",
       "\n",
       "age_restriction  «16+» - для детей старше 16 лет  «18+» - запрещено для детей  \\\n",
       "year                                                                            \n",
       "2010                                       56.00                         7.00   \n",
       "2011                                       54.00                         2.00   \n",
       "2012                                       48.00                        17.00   \n",
       "2013                                       43.00                        16.00   \n",
       "2014                                       79.00                        42.00   \n",
       "2015                                      158.00                       123.00   \n",
       "2016                                      171.00                       145.00   \n",
       "2017                                      116.00                       142.00   \n",
       "2018                                      147.00                       175.00   \n",
       "2019                                      161.00                       175.00   \n",
       "\n",
       "age_restriction  «6+» - для детей старше 6 лет  \n",
       "year                                            \n",
       "2010                                       NaN  \n",
       "2011                                      1.00  \n",
       "2012                                     16.00  \n",
       "2013                                     26.00  \n",
       "2014                                     27.00  \n",
       "2015                                     49.00  \n",
       "2016                                     61.00  \n",
       "2017                                     39.00  \n",
       "2018                                     63.00  \n",
       "2019                                     71.00  "
      ]
     },
     "execution_count": 66,
     "metadata": {},
     "output_type": "execute_result"
    }
   ],
   "source": [
    "data[data['box_office_mln'].notna()].pivot_table(index = 'year', \n",
    "                                                 columns = 'age_restriction', \n",
    "                                                 values = 'box_office_mln', aggfunc = 'count')\n",
    "#создадим сводную таблицу с количеством фильмов"
   ]
  },
  {
   "cell_type": "markdown",
   "metadata": {},
   "source": [
    "Возрастное ограничение влияет на сборы — относительно других фильмы с рейтингом «0+» собирают меньше всего, в то время как в период с 2016 по 2018 фильмы «16+» были в топе по сборам. \n",
    "\n",
    "В 2017 году у фильмов «16+» наблюдается пик — в этом году вышли такие блокбастеры, как «Человек-паук: Возвращение домой» и «Стражи галактики 2», которые отметились отличными сборами.\n",
    "\n",
    "Фильмы «0+» собирают меньше всего за счёт того, что под данным рейтингом выпускается меньше всего картин, которые, скорее всего, не пользуются особым спросом у потребителей.\n",
    "\n",
    "Наиболее стабильно хорошо собирают киноленты «6+», что связано, скорее всего, с тем, что под эту категорию попадают мультфильмы известных кинокомпаний (например, The Walt Disney Company, Pixar), которые регулярно пользуются спросом.\n",
    "\n",
    "Напрямую на сумму сборов влияет, помимо количества фильмов, качество фильмов — например, в 2018 больше всего фильмов было снято в категории «18+», при этом по сборам они всего лишь на предпоследнем месте.\n",
    "***\n",
    "**Вывод**\n",
    "\n",
    "В ходе данного шага было выполнено следующее:\n",
    "\n",
    "- было выявлено, что от года к году сумма сборов растёт, что может быть связано с ежегодным поднятием цен на билеты;\n",
    "- определено, что больше всего собирают киноленты с возрастным ограничением «16+», меньше всего — «0+», что связано с количеством и качеством картин."
   ]
  },
  {
   "cell_type": "markdown",
   "metadata": {
    "id": "l_Kg6Ku4gFya"
   },
   "source": [
    "### Исследуем фильмы, которые получили государственную поддержку\n",
    "\n"
   ]
  },
  {
   "cell_type": "markdown",
   "metadata": {
    "id": "W9QKpjUdgFyb"
   },
   "source": [
    "Исследование фильмов, получивших господдержку, будет состоять в следующем:\n",
    "- посмотрим, фильмы каких жанры и в каком объёме в принципе получили государственную поддержку;\n",
    "- изучим окупаемость фильмов с разными жанрами;\n",
    "- проанализируем средний рейтинг фильмов каждого из жанров.\n",
    "***\n",
    "Добавим столбец с общим объёмом выделяемых средств на поддержку кино."
   ]
  },
  {
   "cell_type": "code",
   "execution_count": 67,
   "metadata": {},
   "outputs": [],
   "source": [
    "data['total_support'] = data['refundable_support'] + data['non_refundable_support']"
   ]
  },
  {
   "cell_type": "code",
   "execution_count": 68,
   "metadata": {},
   "outputs": [
    {
     "data": {
      "image/png": "[encoded data removed]",
      "text/plain": [
       "<Figure size 1152x432 with 1 Axes>"
      ]
     },
     "metadata": {},
     "output_type": "display_data"
    }
   ],
   "source": [
    "data.pivot_table(index = 'major_genres', \n",
    "                 values = 'total_support', \n",
    "                 aggfunc = 'sum').plot(\n",
    "    title = 'Суммы выделенных государственных средств в разбивке по жанрам', \n",
    "    xlabel = 'Основной жанр фильма',\n",
    "    ylabel = 'Объём гос. поддержки',\n",
    "    kind = 'bar',\n",
    ");\n",
    "#построим столбчатую диаграмму для наглядности"
   ]
  },
  {
   "cell_type": "code",
   "execution_count": 69,
   "metadata": {},
   "outputs": [
    {
     "data": {
      "image/png": "[encoded data removed]",
      "text/plain": [
       "<Figure size 1152x432 with 1 Axes>"
      ]
     },
     "metadata": {},
     "output_type": "display_data"
    }
   ],
   "source": [
    "data.pivot_table(index = 'major_genres', \n",
    "                 values = 'total_support', \n",
    "                 aggfunc = 'count').plot(\n",
    "    title = 'Количество фильмов, получивших гос. поддержку в разбивке по жанрам', \n",
    "    xlabel = 'Основной жанр фильма', \n",
    "    ylabel = 'Количество фильмов, получивших гос. поддержку',\n",
    "    kind = 'bar',\n",
    ");\n",
    "#построим столбчатую диаграмму для наглядности"
   ]
  },
  {
   "cell_type": "markdown",
   "metadata": {},
   "source": [
    "На драму выделяют больше всего средств. На часть фильмов финансирование попросту не выделяется.\n",
    "***\n",
    "Проверим, насколько окупаются картины каждого из жанров. Для этого нам необходимо создать отдельную таблицу, в которую включим только те строки, в которых присутствует информация о сумме государственной поддержки."
   ]
  },
  {
   "cell_type": "code",
   "execution_count": 70,
   "metadata": {},
   "outputs": [],
   "source": [
    "data_support = data[data['refundable_support'].notna() | data['non_refundable_support'].notna()] \n",
    "#cоздаем таблицу\n",
    "\n",
    "data_support['profit'] = data_support['box_office'] - data_support['total_support'] \n",
    "#добавим столбец с прибылью"
   ]
  },
  {
   "cell_type": "code",
   "execution_count": 71,
   "metadata": {},
   "outputs": [
    {
     "data": {
      "image/png": "[encoded data removed]",
      "text/plain": [
       "<Figure size 1152x432 with 1 Axes>"
      ]
     },
     "metadata": {},
     "output_type": "display_data"
    }
   ],
   "source": [
    "data_support.pivot_table(index = 'major_genres', \n",
    "                 values = 'profit', \n",
    "                 aggfunc = 'sum').plot(\n",
    "    title = 'Окупаемость фильмов по жанрам',\n",
    "    xlabel = 'Основной жарн фильма', \n",
    "    ylabel = 'Сумма прибыли',\n",
    "    kind = 'bar',\n",
    ");\n",
    "#построим столбчатую диаграмму для наглядности"
   ]
  },
  {
   "cell_type": "markdown",
   "metadata": {},
   "source": [
    "Несмотря на то, что на драму выделяется больше всего государственных стредств, больше всего прибыли приносят фильмы в жанре комедии. Часть фильмов снимается в убыток. В большем минусе относительно остальных жанров — детектив и мелодрама.\n",
    "***\n",
    "Изучим средний рейтинг фильмов по жанрам. Построим гистограмму."
   ]
  },
  {
   "cell_type": "code",
   "execution_count": 72,
   "metadata": {},
   "outputs": [
    {
     "data": {
      "image/png": "[encoded data removed]",
      "text/plain": [
       "<Figure size 1152x432 with 1 Axes>"
      ]
     },
     "metadata": {},
     "output_type": "display_data"
    }
   ],
   "source": [
    "data[['ratings', 'major_genres']].groupby('major_genres').agg('mean') \\\n",
    "                                        .sort_values(by='ratings', ascending=False) \\\n",
    "                                        .plot(\n",
    "    title='Средний рейтинг фильмов в разбивке по жанрам', \n",
    "    xlabel = 'Основной жарн фильма', \n",
    "    ylabel = 'Средний рейтинг',\n",
    "    kind='bar',\n",
    ");\n",
    "#построим столбчатую диаграмму для наглядности"
   ]
  },
  {
   "cell_type": "markdown",
   "metadata": {},
   "source": [
    "Зрителям больше всего нравятся фильмы в жанре нуар, меньше всего — для взрослых.\n",
    "***\n",
    "На основе полученных данных можно сделать следующие выводы:\n",
    "- наибольший объём государственных средств выделяется на съёмку фильмов в жанре драма, при этом лучше всего окупаются фильмы в жанре комедии. Хуже всего окупаются фильмы в жанре детектив и мелодрама;\n",
    "- наибольший средний рейтинг у фильмов в жанре нуар, наименьший — для взрослых."
   ]
  },
  {
   "cell_type": "markdown",
   "metadata": {
    "id": "V2gYwMcPgFyd"
   },
   "source": [
    "## Общий вывод"
   ]
  },
  {
   "cell_type": "markdown",
   "metadata": {},
   "source": [
    "**В ходе исследования было выполнено:**\n",
    "- два датафрейма объединены в один;\n",
    "- скорректированы тип данных и название столбцов;\n",
    "- заполнены пропуски (где возможно);\n",
    "- удалены неявные дубликаты;\n",
    "- проанализированы аномальные значения, часть из которых была удалена;\n",
    "- добавлены столбцы для проведения анализа.\n",
    "\n",
    "**По итогам было выявлено следующее:**\n",
    "- минимальный объём сборов был в 2011 году, максимальный — в 2019.\n",
    "- в большей части фильмов отсутствует информация о размере государственной поддержки;\n",
    "- доля фильмов с информацией о сборах составляет 44,7%;\n",
    "- динамика сборов увеличивается с каждым годом, что может быть связано с ростом цен на билеты;\n",
    "- больше всего собирают фильмы в категории «16+», меньге всего — в категории «0+», что, скорее всего, связано с размером целевой аудитории и качеством продукта;\n",
    "- больше всего государство выделяет средств на съёмку драм;\n",
    "- лучше всего окупаются фильмы в жанре комедия, хуже — мелодрама и детектив;\n",
    "- наибольший средний рейтинг у фильмов в жанре нуар, наименьший — для взрослых."
   ]
  }
 ],
 "metadata": {
  "ExecuteTimeLog": [
   {
    "duration": 537,
    "start_time": "2021-07-07T10:12:08.634Z"
   },
   {
    "duration": 206,
    "start_time": "2021-07-07T10:12:30.191Z"
   },
   {
    "duration": 227,
    "start_time": "2021-07-07T10:12:33.078Z"
   },
   {
    "duration": 153,
    "start_time": "2021-07-07T10:13:42.146Z"
   },
   {
    "duration": 233,
    "start_time": "2021-07-07T10:30:09.252Z"
   },
   {
    "duration": 19,
    "start_time": "2021-07-07T10:30:15.577Z"
   },
   {
    "duration": 18,
    "start_time": "2021-07-07T10:30:57.348Z"
   },
   {
    "duration": 19,
    "start_time": "2021-07-07T10:31:17.452Z"
   },
   {
    "duration": 21,
    "start_time": "2021-07-07T10:31:32.227Z"
   },
   {
    "duration": 27,
    "start_time": "2021-07-07T10:32:06.588Z"
   },
   {
    "duration": 23,
    "start_time": "2021-07-07T10:32:43.645Z"
   },
   {
    "duration": 24,
    "start_time": "2021-07-07T10:33:06.948Z"
   },
   {
    "duration": 7,
    "start_time": "2021-07-07T10:33:28.558Z"
   },
   {
    "duration": 23,
    "start_time": "2021-07-07T10:33:43.761Z"
   },
   {
    "duration": 28,
    "start_time": "2021-07-07T10:34:13.466Z"
   },
   {
    "duration": 23,
    "start_time": "2021-07-07T10:35:56.187Z"
   },
   {
    "duration": 6,
    "start_time": "2021-07-07T10:36:48.182Z"
   },
   {
    "duration": 14,
    "start_time": "2021-07-07T10:37:49.641Z"
   },
   {
    "duration": 6,
    "start_time": "2021-07-07T10:38:06.694Z"
   },
   {
    "duration": 6,
    "start_time": "2021-07-07T10:38:13.493Z"
   },
   {
    "duration": 19,
    "start_time": "2021-07-07T10:38:44.056Z"
   },
   {
    "duration": 186,
    "start_time": "2021-07-07T10:48:35.618Z"
   },
   {
    "duration": 24,
    "start_time": "2021-07-07T10:48:51.498Z"
   },
   {
    "duration": 20,
    "start_time": "2021-07-07T10:48:59.415Z"
   },
   {
    "duration": 20,
    "start_time": "2021-07-07T10:53:02.195Z"
   },
   {
    "duration": 188,
    "start_time": "2021-07-07T10:54:40.486Z"
   },
   {
    "duration": 115,
    "start_time": "2021-07-07T10:54:52.552Z"
   },
   {
    "duration": 214,
    "start_time": "2021-07-07T10:54:56.354Z"
   },
   {
    "duration": 47,
    "start_time": "2021-07-07T10:54:58.282Z"
   },
   {
    "duration": 217,
    "start_time": "2021-07-07T10:59:16.075Z"
   },
   {
    "duration": 51,
    "start_time": "2021-07-07T10:59:16.243Z"
   },
   {
    "duration": 578,
    "start_time": "2021-07-07T10:59:18.774Z"
   },
   {
    "duration": 161,
    "start_time": "2021-07-07T10:59:21.238Z"
   },
   {
    "duration": 59,
    "start_time": "2021-07-07T10:59:21.453Z"
   },
   {
    "duration": 3,
    "start_time": "2021-07-07T11:02:10.786Z"
   },
   {
    "duration": 13,
    "start_time": "2021-07-07T11:07:07.722Z"
   },
   {
    "duration": 26,
    "start_time": "2021-07-07T11:07:17.958Z"
   },
   {
    "duration": 22,
    "start_time": "2021-07-07T11:08:17.939Z"
   },
   {
    "duration": 212,
    "start_time": "2021-07-07T11:08:19.665Z"
   },
   {
    "duration": 21,
    "start_time": "2021-07-07T11:08:29.945Z"
   },
   {
    "duration": 31,
    "start_time": "2021-07-07T11:08:38.899Z"
   },
   {
    "duration": 23,
    "start_time": "2021-07-07T11:08:54.527Z"
   },
   {
    "duration": 8,
    "start_time": "2021-07-07T11:18:55.974Z"
   },
   {
    "duration": 7,
    "start_time": "2021-07-07T11:19:03.639Z"
   },
   {
    "duration": 7,
    "start_time": "2021-07-07T11:19:06.444Z"
   },
   {
    "duration": 578,
    "start_time": "2021-07-07T12:09:59.576Z"
   },
   {
    "duration": 195,
    "start_time": "2021-07-07T12:10:00.156Z"
   },
   {
    "duration": 115,
    "start_time": "2021-07-07T12:10:00.353Z"
   },
   {
    "duration": 3,
    "start_time": "2021-07-07T12:10:00.470Z"
   },
   {
    "duration": 32,
    "start_time": "2021-07-07T12:10:00.474Z"
   },
   {
    "duration": 23,
    "start_time": "2021-07-07T12:10:00.508Z"
   },
   {
    "duration": 19,
    "start_time": "2021-07-07T12:10:00.533Z"
   },
   {
    "duration": 44,
    "start_time": "2021-07-07T12:10:00.553Z"
   },
   {
    "duration": 7,
    "start_time": "2021-07-07T12:10:00.600Z"
   },
   {
    "duration": 7,
    "start_time": "2021-07-07T12:19:45.761Z"
   },
   {
    "duration": 21,
    "start_time": "2021-07-07T12:21:35.482Z"
   },
   {
    "duration": 21,
    "start_time": "2021-07-07T12:29:23.569Z"
   },
   {
    "duration": 525,
    "start_time": "2021-07-07T12:29:44.542Z"
   },
   {
    "duration": 214,
    "start_time": "2021-07-07T12:29:45.069Z"
   },
   {
    "duration": 92,
    "start_time": "2021-07-07T12:29:45.285Z"
   },
   {
    "duration": 3,
    "start_time": "2021-07-07T12:29:45.379Z"
   },
   {
    "duration": 28,
    "start_time": "2021-07-07T12:29:45.384Z"
   },
   {
    "duration": 23,
    "start_time": "2021-07-07T12:29:45.413Z"
   },
   {
    "duration": 21,
    "start_time": "2021-07-07T12:29:45.437Z"
   },
   {
    "duration": 41,
    "start_time": "2021-07-07T12:29:45.460Z"
   },
   {
    "duration": 7,
    "start_time": "2021-07-07T12:29:45.502Z"
   },
   {
    "duration": 20,
    "start_time": "2021-07-07T12:29:45.511Z"
   },
   {
    "duration": 12,
    "start_time": "2021-07-07T12:34:02.800Z"
   },
   {
    "duration": 7,
    "start_time": "2021-07-07T12:35:10.479Z"
   },
   {
    "duration": 8,
    "start_time": "2021-07-07T12:35:22.440Z"
   },
   {
    "duration": 6,
    "start_time": "2021-07-07T12:35:35.649Z"
   },
   {
    "duration": 6,
    "start_time": "2021-07-07T12:35:43.107Z"
   },
   {
    "duration": 22,
    "start_time": "2021-07-07T12:38:03.029Z"
   },
   {
    "duration": 10,
    "start_time": "2021-07-07T12:38:06.592Z"
   },
   {
    "duration": 563,
    "start_time": "2021-07-07T12:38:46.493Z"
   },
   {
    "duration": 265,
    "start_time": "2021-07-07T12:38:47.058Z"
   },
   {
    "duration": 94,
    "start_time": "2021-07-07T12:38:47.325Z"
   },
   {
    "duration": 3,
    "start_time": "2021-07-07T12:38:47.422Z"
   },
   {
    "duration": 30,
    "start_time": "2021-07-07T12:38:47.427Z"
   },
   {
    "duration": 16,
    "start_time": "2021-07-07T12:38:53.305Z"
   },
   {
    "duration": 10,
    "start_time": "2021-07-07T12:38:53.499Z"
   },
   {
    "duration": 8,
    "start_time": "2021-07-07T12:39:48.161Z"
   },
   {
    "duration": 27,
    "start_time": "2021-07-07T12:41:17.629Z"
   },
   {
    "duration": 17,
    "start_time": "2021-07-07T12:41:17.867Z"
   },
   {
    "duration": 21,
    "start_time": "2021-07-07T12:41:19.310Z"
   },
   {
    "duration": 7,
    "start_time": "2021-07-07T12:41:19.544Z"
   },
   {
    "duration": 20,
    "start_time": "2021-07-07T12:41:20.504Z"
   },
   {
    "duration": 554,
    "start_time": "2021-07-07T12:56:23.696Z"
   },
   {
    "duration": 200,
    "start_time": "2021-07-07T12:56:25.234Z"
   },
   {
    "duration": 119,
    "start_time": "2021-07-07T12:56:25.480Z"
   },
   {
    "duration": 4,
    "start_time": "2021-07-07T12:56:25.762Z"
   },
   {
    "duration": 26,
    "start_time": "2021-07-07T12:56:27.172Z"
   },
   {
    "duration": 12,
    "start_time": "2021-07-07T12:56:29.051Z"
   },
   {
    "duration": 10,
    "start_time": "2021-07-07T12:56:29.291Z"
   },
   {
    "duration": 8,
    "start_time": "2021-07-07T12:56:29.623Z"
   },
   {
    "duration": 28,
    "start_time": "2021-07-07T12:56:32.137Z"
   },
   {
    "duration": 19,
    "start_time": "2021-07-07T12:56:39.785Z"
   },
   {
    "duration": 20,
    "start_time": "2021-07-07T12:56:44.297Z"
   },
   {
    "duration": 7,
    "start_time": "2021-07-07T12:56:45.392Z"
   },
   {
    "duration": 23,
    "start_time": "2021-07-07T12:56:46.615Z"
   },
   {
    "duration": 4,
    "start_time": "2021-07-07T12:57:06.625Z"
   },
   {
    "duration": 32,
    "start_time": "2021-07-07T12:57:36.690Z"
   },
   {
    "duration": 18,
    "start_time": "2021-07-07T12:58:00.149Z"
   },
   {
    "duration": 15,
    "start_time": "2021-07-07T12:59:16.793Z"
   },
   {
    "duration": 7,
    "start_time": "2021-07-07T13:19:22.624Z"
   },
   {
    "duration": 6,
    "start_time": "2021-07-07T14:17:33.527Z"
   },
   {
    "duration": 9,
    "start_time": "2021-07-07T14:17:48.409Z"
   },
   {
    "duration": 8,
    "start_time": "2021-07-07T14:20:13.060Z"
   },
   {
    "duration": 8,
    "start_time": "2021-07-07T14:20:37.957Z"
   },
   {
    "duration": 8,
    "start_time": "2021-07-07T14:20:47.470Z"
   },
   {
    "duration": 9,
    "start_time": "2021-07-07T14:20:54.503Z"
   },
   {
    "duration": 10,
    "start_time": "2021-07-07T14:28:57.763Z"
   },
   {
    "duration": 3,
    "start_time": "2021-07-07T14:30:23.377Z"
   },
   {
    "duration": 3,
    "start_time": "2021-07-07T14:30:36.489Z"
   },
   {
    "duration": 103,
    "start_time": "2021-07-07T14:30:52.351Z"
   },
   {
    "duration": 8,
    "start_time": "2021-07-07T14:30:54.763Z"
   },
   {
    "duration": 8,
    "start_time": "2021-07-07T14:31:29.301Z"
   },
   {
    "duration": 13,
    "start_time": "2021-07-07T14:31:44.516Z"
   },
   {
    "duration": 7,
    "start_time": "2021-07-07T14:33:10.972Z"
   },
   {
    "duration": 11,
    "start_time": "2021-07-07T14:33:27.780Z"
   },
   {
    "duration": 8,
    "start_time": "2021-07-07T14:34:44.588Z"
   },
   {
    "duration": 57,
    "start_time": "2021-07-07T14:35:59.042Z"
   },
   {
    "duration": 3,
    "start_time": "2021-07-07T14:36:28.168Z"
   },
   {
    "duration": 5,
    "start_time": "2021-07-07T14:36:46.254Z"
   },
   {
    "duration": 4,
    "start_time": "2021-07-07T14:36:52.714Z"
   },
   {
    "duration": 3,
    "start_time": "2021-07-07T14:36:56.612Z"
   },
   {
    "duration": 4,
    "start_time": "2021-07-07T14:36:57.049Z"
   },
   {
    "duration": 3,
    "start_time": "2021-07-07T14:39:21.214Z"
   },
   {
    "duration": 7,
    "start_time": "2021-07-07T14:39:52.406Z"
   },
   {
    "duration": 11,
    "start_time": "2021-07-07T14:39:58.576Z"
   },
   {
    "duration": 9,
    "start_time": "2021-07-07T14:40:26.301Z"
   },
   {
    "duration": 10,
    "start_time": "2021-07-07T14:40:31.704Z"
   },
   {
    "duration": 11,
    "start_time": "2021-07-07T14:40:36.249Z"
   },
   {
    "duration": 10,
    "start_time": "2021-07-07T14:40:39.783Z"
   },
   {
    "duration": 9,
    "start_time": "2021-07-07T14:40:48.558Z"
   },
   {
    "duration": 10,
    "start_time": "2021-07-07T14:40:57.143Z"
   },
   {
    "duration": 9,
    "start_time": "2021-07-07T14:41:06.074Z"
   },
   {
    "duration": 4324,
    "start_time": "2021-07-07T14:41:22.004Z"
   },
   {
    "duration": 11,
    "start_time": "2021-07-07T14:41:33.392Z"
   },
   {
    "duration": 9,
    "start_time": "2021-07-07T14:41:39.288Z"
   },
   {
    "duration": 569,
    "start_time": "2021-07-07T14:42:14.387Z"
   },
   {
    "duration": 197,
    "start_time": "2021-07-07T14:42:14.959Z"
   },
   {
    "duration": 84,
    "start_time": "2021-07-07T14:42:16.052Z"
   },
   {
    "duration": 4,
    "start_time": "2021-07-07T14:42:16.900Z"
   },
   {
    "duration": 27,
    "start_time": "2021-07-07T14:42:19.898Z"
   },
   {
    "duration": 12,
    "start_time": "2021-07-07T14:42:21.577Z"
   },
   {
    "duration": 9,
    "start_time": "2021-07-07T14:42:21.813Z"
   },
   {
    "duration": 9,
    "start_time": "2021-07-07T14:42:22.569Z"
   },
   {
    "duration": 29,
    "start_time": "2021-07-07T14:42:25.837Z"
   },
   {
    "duration": 20,
    "start_time": "2021-07-07T14:42:27.003Z"
   },
   {
    "duration": 21,
    "start_time": "2021-07-07T14:42:28.767Z"
   },
   {
    "duration": 7,
    "start_time": "2021-07-07T14:42:29.838Z"
   },
   {
    "duration": 4,
    "start_time": "2021-07-07T14:43:25.493Z"
   },
   {
    "duration": 7,
    "start_time": "2021-07-07T14:43:26.573Z"
   },
   {
    "duration": 10,
    "start_time": "2021-07-07T14:43:31.639Z"
   },
   {
    "duration": 9,
    "start_time": "2021-07-07T14:43:32.046Z"
   },
   {
    "duration": 10,
    "start_time": "2021-07-07T14:43:33.301Z"
   },
   {
    "duration": 12,
    "start_time": "2021-07-07T14:43:33.658Z"
   },
   {
    "duration": 8,
    "start_time": "2021-07-07T14:43:34.552Z"
   },
   {
    "duration": 9,
    "start_time": "2021-07-07T14:43:35.058Z"
   },
   {
    "duration": 12,
    "start_time": "2021-07-07T14:43:35.914Z"
   },
   {
    "duration": 17,
    "start_time": "2021-07-07T14:45:34.368Z"
   },
   {
    "duration": 512,
    "start_time": "2021-07-07T14:51:58.236Z"
   },
   {
    "duration": 223,
    "start_time": "2021-07-07T14:51:58.750Z"
   },
   {
    "duration": 93,
    "start_time": "2021-07-07T14:51:58.977Z"
   },
   {
    "duration": 4,
    "start_time": "2021-07-07T14:51:59.071Z"
   },
   {
    "duration": 37,
    "start_time": "2021-07-07T14:51:59.077Z"
   },
   {
    "duration": 18,
    "start_time": "2021-07-07T14:51:59.116Z"
   },
   {
    "duration": 10,
    "start_time": "2021-07-07T14:51:59.137Z"
   },
   {
    "duration": 8,
    "start_time": "2021-07-07T14:51:59.149Z"
   },
   {
    "duration": 54,
    "start_time": "2021-07-07T14:51:59.158Z"
   },
   {
    "duration": 18,
    "start_time": "2021-07-07T14:51:59.213Z"
   },
   {
    "duration": 22,
    "start_time": "2021-07-07T14:51:59.232Z"
   },
   {
    "duration": 36,
    "start_time": "2021-07-07T14:51:59.255Z"
   },
   {
    "duration": 7,
    "start_time": "2021-07-07T14:51:59.293Z"
   },
   {
    "duration": 10,
    "start_time": "2021-07-07T14:51:59.302Z"
   },
   {
    "duration": 9,
    "start_time": "2021-07-07T14:51:59.313Z"
   },
   {
    "duration": 11,
    "start_time": "2021-07-07T14:51:59.324Z"
   },
   {
    "duration": 8,
    "start_time": "2021-07-07T14:51:59.337Z"
   },
   {
    "duration": 46,
    "start_time": "2021-07-07T14:51:59.347Z"
   },
   {
    "duration": 22,
    "start_time": "2021-07-07T14:51:59.395Z"
   },
   {
    "duration": 24,
    "start_time": "2021-07-07T14:57:32.911Z"
   },
   {
    "duration": 7,
    "start_time": "2021-07-07T14:58:22.070Z"
   },
   {
    "duration": 4,
    "start_time": "2021-07-07T14:59:11.239Z"
   },
   {
    "duration": 25,
    "start_time": "2021-07-07T15:07:22.208Z"
   },
   {
    "duration": 16,
    "start_time": "2021-07-07T15:08:25.560Z"
   },
   {
    "duration": 15,
    "start_time": "2021-07-07T15:08:40.647Z"
   },
   {
    "duration": 14,
    "start_time": "2021-07-07T15:08:46.669Z"
   },
   {
    "duration": 533,
    "start_time": "2021-07-07T15:18:07.440Z"
   },
   {
    "duration": 173,
    "start_time": "2021-07-07T15:18:07.974Z"
   },
   {
    "duration": 84,
    "start_time": "2021-07-07T15:18:08.149Z"
   },
   {
    "duration": 3,
    "start_time": "2021-07-07T15:18:08.235Z"
   },
   {
    "duration": 30,
    "start_time": "2021-07-07T15:18:08.240Z"
   },
   {
    "duration": 22,
    "start_time": "2021-07-07T15:18:08.272Z"
   },
   {
    "duration": 11,
    "start_time": "2021-07-07T15:18:08.295Z"
   },
   {
    "duration": 11,
    "start_time": "2021-07-07T15:18:08.309Z"
   },
   {
    "duration": 40,
    "start_time": "2021-07-07T15:18:08.322Z"
   },
   {
    "duration": 42,
    "start_time": "2021-07-07T15:18:08.364Z"
   },
   {
    "duration": 22,
    "start_time": "2021-07-07T15:18:08.408Z"
   },
   {
    "duration": 5,
    "start_time": "2021-07-07T15:18:08.432Z"
   },
   {
    "duration": 13,
    "start_time": "2021-07-07T15:18:08.439Z"
   },
   {
    "duration": 9,
    "start_time": "2021-07-07T15:18:08.454Z"
   },
   {
    "duration": 32,
    "start_time": "2021-07-07T15:18:08.465Z"
   },
   {
    "duration": 10,
    "start_time": "2021-07-07T15:18:08.501Z"
   },
   {
    "duration": 7,
    "start_time": "2021-07-07T15:18:08.513Z"
   },
   {
    "duration": 11,
    "start_time": "2021-07-07T15:18:08.521Z"
   },
   {
    "duration": 17,
    "start_time": "2021-07-07T15:18:08.534Z"
   },
   {
    "duration": 44,
    "start_time": "2021-07-07T15:18:08.553Z"
   },
   {
    "duration": 22,
    "start_time": "2021-07-07T15:18:08.599Z"
   },
   {
    "duration": 61,
    "start_time": "2021-07-07T15:18:08.622Z"
   },
   {
    "duration": 7,
    "start_time": "2021-07-07T15:18:39.457Z"
   },
   {
    "duration": 5,
    "start_time": "2021-07-07T16:05:17.020Z"
   },
   {
    "duration": 5,
    "start_time": "2021-07-07T16:51:28.794Z"
   },
   {
    "duration": 546,
    "start_time": "2021-07-07T16:52:26.306Z"
   },
   {
    "duration": 203,
    "start_time": "2021-07-07T16:52:27.523Z"
   },
   {
    "duration": 85,
    "start_time": "2021-07-07T16:52:27.736Z"
   },
   {
    "duration": 4,
    "start_time": "2021-07-07T16:52:27.899Z"
   },
   {
    "duration": 25,
    "start_time": "2021-07-07T16:52:28.674Z"
   },
   {
    "duration": 8,
    "start_time": "2021-07-07T16:52:32.956Z"
   },
   {
    "duration": 18,
    "start_time": "2021-07-07T16:52:35.616Z"
   },
   {
    "duration": 6,
    "start_time": "2021-07-07T16:52:36.913Z"
   },
   {
    "duration": 11,
    "start_time": "2021-07-07T16:52:40.258Z"
   },
   {
    "duration": 10,
    "start_time": "2021-07-07T16:52:46.251Z"
   },
   {
    "duration": 8,
    "start_time": "2021-07-07T16:52:47.182Z"
   },
   {
    "duration": 27,
    "start_time": "2021-07-07T16:53:20.391Z"
   },
   {
    "duration": 20,
    "start_time": "2021-07-07T16:53:22.022Z"
   },
   {
    "duration": 23,
    "start_time": "2021-07-07T16:53:23.690Z"
   },
   {
    "duration": 8,
    "start_time": "2021-07-07T16:53:24.261Z"
   },
   {
    "duration": 4,
    "start_time": "2021-07-07T16:53:38.733Z"
   },
   {
    "duration": 7,
    "start_time": "2021-07-07T16:53:40.445Z"
   },
   {
    "duration": 11,
    "start_time": "2021-07-07T16:53:41.348Z"
   },
   {
    "duration": 13,
    "start_time": "2021-07-07T16:53:45.250Z"
   },
   {
    "duration": 12,
    "start_time": "2021-07-07T16:53:45.467Z"
   },
   {
    "duration": 4,
    "start_time": "2021-07-07T16:55:32.704Z"
   },
   {
    "duration": 12,
    "start_time": "2021-07-07T16:55:49.012Z"
   },
   {
    "duration": 18,
    "start_time": "2021-07-07T16:55:49.547Z"
   },
   {
    "duration": 611,
    "start_time": "2021-07-07T16:58:35.156Z"
   },
   {
    "duration": 200,
    "start_time": "2021-07-07T16:58:35.770Z"
   },
   {
    "duration": 86,
    "start_time": "2021-07-07T16:58:35.972Z"
   },
   {
    "duration": 3,
    "start_time": "2021-07-07T16:58:36.060Z"
   },
   {
    "duration": 27,
    "start_time": "2021-07-07T16:58:36.065Z"
   },
   {
    "duration": 8,
    "start_time": "2021-07-07T16:58:36.094Z"
   },
   {
    "duration": 17,
    "start_time": "2021-07-07T16:58:36.103Z"
   },
   {
    "duration": 5,
    "start_time": "2021-07-07T16:58:36.123Z"
   },
   {
    "duration": 11,
    "start_time": "2021-07-07T16:58:36.130Z"
   },
   {
    "duration": 7,
    "start_time": "2021-07-07T16:58:36.143Z"
   },
   {
    "duration": 37,
    "start_time": "2021-07-07T16:58:36.152Z"
   },
   {
    "duration": 27,
    "start_time": "2021-07-07T16:58:36.191Z"
   },
   {
    "duration": 19,
    "start_time": "2021-07-07T16:58:36.219Z"
   },
   {
    "duration": 49,
    "start_time": "2021-07-07T16:58:36.240Z"
   },
   {
    "duration": 6,
    "start_time": "2021-07-07T16:58:36.291Z"
   },
   {
    "duration": 3,
    "start_time": "2021-07-07T16:58:36.299Z"
   },
   {
    "duration": 13,
    "start_time": "2021-07-07T16:58:36.304Z"
   },
   {
    "duration": 10,
    "start_time": "2021-07-07T16:58:36.319Z"
   },
   {
    "duration": 10,
    "start_time": "2021-07-07T16:58:36.331Z"
   },
   {
    "duration": 44,
    "start_time": "2021-07-07T16:58:36.343Z"
   },
   {
    "duration": 4,
    "start_time": "2021-07-07T16:58:36.388Z"
   },
   {
    "duration": 13,
    "start_time": "2021-07-07T16:58:36.394Z"
   },
   {
    "duration": 16,
    "start_time": "2021-07-07T16:58:36.410Z"
   },
   {
    "duration": 8,
    "start_time": "2021-07-07T17:02:31.629Z"
   },
   {
    "duration": 8,
    "start_time": "2021-07-07T17:02:34.308Z"
   },
   {
    "duration": 6,
    "start_time": "2021-07-07T17:05:13.483Z"
   },
   {
    "duration": 17,
    "start_time": "2021-07-07T17:05:20.606Z"
   },
   {
    "duration": 7,
    "start_time": "2021-07-07T17:05:34.638Z"
   },
   {
    "duration": 3,
    "start_time": "2021-07-07T17:06:31.883Z"
   },
   {
    "duration": 570,
    "start_time": "2021-07-07T17:06:37.165Z"
   },
   {
    "duration": 174,
    "start_time": "2021-07-07T17:06:37.737Z"
   },
   {
    "duration": 47,
    "start_time": "2021-07-07T17:06:37.913Z"
   },
   {
    "duration": 3,
    "start_time": "2021-07-07T17:06:37.962Z"
   },
   {
    "duration": 27,
    "start_time": "2021-07-07T17:06:37.967Z"
   },
   {
    "duration": 7,
    "start_time": "2021-07-07T17:06:37.996Z"
   },
   {
    "duration": 16,
    "start_time": "2021-07-07T17:06:38.005Z"
   },
   {
    "duration": 6,
    "start_time": "2021-07-07T17:06:38.024Z"
   },
   {
    "duration": 12,
    "start_time": "2021-07-07T17:06:38.031Z"
   },
   {
    "duration": 41,
    "start_time": "2021-07-07T17:06:38.045Z"
   },
   {
    "duration": 8,
    "start_time": "2021-07-07T17:06:38.088Z"
   },
   {
    "duration": 26,
    "start_time": "2021-07-07T17:06:38.098Z"
   },
   {
    "duration": 17,
    "start_time": "2021-07-07T17:06:38.126Z"
   },
   {
    "duration": 43,
    "start_time": "2021-07-07T17:06:38.144Z"
   },
   {
    "duration": 6,
    "start_time": "2021-07-07T17:06:38.188Z"
   },
   {
    "duration": 5,
    "start_time": "2021-07-07T17:06:38.195Z"
   },
   {
    "duration": 9,
    "start_time": "2021-07-07T17:06:38.201Z"
   },
   {
    "duration": 12,
    "start_time": "2021-07-07T17:06:38.212Z"
   },
   {
    "duration": 11,
    "start_time": "2021-07-07T17:06:38.226Z"
   },
   {
    "duration": 47,
    "start_time": "2021-07-07T17:06:38.239Z"
   },
   {
    "duration": 4,
    "start_time": "2021-07-07T17:06:38.288Z"
   },
   {
    "duration": 13,
    "start_time": "2021-07-07T17:06:38.293Z"
   },
   {
    "duration": 5,
    "start_time": "2021-07-07T17:06:38.309Z"
   },
   {
    "duration": 18,
    "start_time": "2021-07-07T17:06:38.325Z"
   },
   {
    "duration": 20,
    "start_time": "2021-07-07T17:07:02.805Z"
   },
   {
    "duration": 19,
    "start_time": "2021-07-07T17:07:08.527Z"
   },
   {
    "duration": 19,
    "start_time": "2021-07-07T17:07:12.758Z"
   },
   {
    "duration": 22,
    "start_time": "2021-07-07T17:07:17.497Z"
   },
   {
    "duration": 19,
    "start_time": "2021-07-07T17:07:19.645Z"
   },
   {
    "duration": 10,
    "start_time": "2021-07-07T17:07:34.239Z"
   },
   {
    "duration": 17,
    "start_time": "2021-07-07T17:07:54.144Z"
   },
   {
    "duration": 14,
    "start_time": "2021-07-07T17:08:14.357Z"
   },
   {
    "duration": 616,
    "start_time": "2021-07-07T17:08:45.254Z"
   },
   {
    "duration": 178,
    "start_time": "2021-07-07T17:08:45.872Z"
   },
   {
    "duration": 60,
    "start_time": "2021-07-07T17:08:46.054Z"
   },
   {
    "duration": 3,
    "start_time": "2021-07-07T17:08:46.116Z"
   },
   {
    "duration": 26,
    "start_time": "2021-07-07T17:08:46.121Z"
   },
   {
    "duration": 7,
    "start_time": "2021-07-07T17:08:46.149Z"
   },
   {
    "duration": 17,
    "start_time": "2021-07-07T17:08:46.158Z"
   },
   {
    "duration": 14,
    "start_time": "2021-07-07T17:08:46.176Z"
   },
   {
    "duration": 17,
    "start_time": "2021-07-07T17:08:46.193Z"
   },
   {
    "duration": 9,
    "start_time": "2021-07-07T17:08:46.211Z"
   },
   {
    "duration": 21,
    "start_time": "2021-07-07T17:08:46.221Z"
   },
   {
    "duration": 49,
    "start_time": "2021-07-07T17:08:46.244Z"
   },
   {
    "duration": 24,
    "start_time": "2021-07-07T17:08:46.295Z"
   },
   {
    "duration": 22,
    "start_time": "2021-07-07T17:08:46.321Z"
   },
   {
    "duration": 6,
    "start_time": "2021-07-07T17:08:46.345Z"
   },
   {
    "duration": 5,
    "start_time": "2021-07-07T17:08:46.353Z"
   },
   {
    "duration": 13,
    "start_time": "2021-07-07T17:08:46.386Z"
   },
   {
    "duration": 12,
    "start_time": "2021-07-07T17:08:46.402Z"
   },
   {
    "duration": 10,
    "start_time": "2021-07-07T17:08:46.415Z"
   },
   {
    "duration": 7,
    "start_time": "2021-07-07T17:08:46.427Z"
   },
   {
    "duration": 8,
    "start_time": "2021-07-07T17:08:46.435Z"
   },
   {
    "duration": 68,
    "start_time": "2021-07-07T17:08:46.446Z"
   },
   {
    "duration": 13,
    "start_time": "2021-07-07T17:08:46.516Z"
   },
   {
    "duration": 78,
    "start_time": "2021-07-07T17:08:46.530Z"
   },
   {
    "duration": 40,
    "start_time": "2021-07-07T17:09:08.185Z"
   },
   {
    "duration": 16,
    "start_time": "2021-07-07T17:09:19.324Z"
   },
   {
    "duration": 21,
    "start_time": "2021-07-07T17:09:23.290Z"
   },
   {
    "duration": 13,
    "start_time": "2021-07-07T17:09:54.812Z"
   },
   {
    "duration": 13,
    "start_time": "2021-07-07T17:10:02.039Z"
   },
   {
    "duration": 10,
    "start_time": "2021-07-07T17:10:29.632Z"
   },
   {
    "duration": 13,
    "start_time": "2021-07-07T17:10:52.372Z"
   },
   {
    "duration": 13,
    "start_time": "2021-07-07T17:11:17.270Z"
   },
   {
    "duration": 13,
    "start_time": "2021-07-07T17:14:59.284Z"
   },
   {
    "duration": 547,
    "start_time": "2021-07-07T17:18:52.403Z"
   },
   {
    "duration": 163,
    "start_time": "2021-07-07T17:18:52.952Z"
   },
   {
    "duration": 44,
    "start_time": "2021-07-07T17:18:53.117Z"
   },
   {
    "duration": 3,
    "start_time": "2021-07-07T17:18:53.162Z"
   },
   {
    "duration": 26,
    "start_time": "2021-07-07T17:18:53.167Z"
   },
   {
    "duration": 6,
    "start_time": "2021-07-07T17:18:53.195Z"
   },
   {
    "duration": 15,
    "start_time": "2021-07-07T17:18:53.203Z"
   },
   {
    "duration": 5,
    "start_time": "2021-07-07T17:18:53.220Z"
   },
   {
    "duration": 11,
    "start_time": "2021-07-07T17:18:53.228Z"
   },
   {
    "duration": 9,
    "start_time": "2021-07-07T17:18:53.241Z"
   },
   {
    "duration": 41,
    "start_time": "2021-07-07T17:18:53.252Z"
   },
   {
    "duration": 33,
    "start_time": "2021-07-07T17:18:53.295Z"
   },
   {
    "duration": 19,
    "start_time": "2021-07-07T17:18:53.330Z"
   },
   {
    "duration": 49,
    "start_time": "2021-07-07T17:18:53.350Z"
   },
   {
    "duration": 5,
    "start_time": "2021-07-07T17:18:53.401Z"
   },
   {
    "duration": 5,
    "start_time": "2021-07-07T17:18:53.408Z"
   },
   {
    "duration": 11,
    "start_time": "2021-07-07T17:18:53.414Z"
   },
   {
    "duration": 9,
    "start_time": "2021-07-07T17:18:53.427Z"
   },
   {
    "duration": 10,
    "start_time": "2021-07-07T17:18:53.437Z"
   },
   {
    "duration": 39,
    "start_time": "2021-07-07T17:18:53.448Z"
   },
   {
    "duration": 26,
    "start_time": "2021-07-07T17:18:55.799Z"
   },
   {
    "duration": 598,
    "start_time": "2021-07-07T17:20:17.862Z"
   },
   {
    "duration": 161,
    "start_time": "2021-07-07T17:20:18.462Z"
   },
   {
    "duration": 45,
    "start_time": "2021-07-07T17:20:18.626Z"
   },
   {
    "duration": 4,
    "start_time": "2021-07-07T17:20:18.673Z"
   },
   {
    "duration": 38,
    "start_time": "2021-07-07T17:20:26.877Z"
   },
   {
    "duration": 7,
    "start_time": "2021-07-07T17:20:37.405Z"
   },
   {
    "duration": 19,
    "start_time": "2021-07-07T17:20:51.534Z"
   },
   {
    "duration": 5,
    "start_time": "2021-07-07T17:20:57.228Z"
   },
   {
    "duration": 7,
    "start_time": "2021-07-07T17:21:08.235Z"
   },
   {
    "duration": 19,
    "start_time": "2021-07-07T17:21:42.158Z"
   },
   {
    "duration": 14,
    "start_time": "2021-07-07T17:21:50.225Z"
   },
   {
    "duration": 22,
    "start_time": "2021-07-07T17:22:54.104Z"
   },
   {
    "duration": 5,
    "start_time": "2021-07-07T17:22:56.371Z"
   },
   {
    "duration": 14,
    "start_time": "2021-07-07T17:22:58.316Z"
   },
   {
    "duration": 5,
    "start_time": "2021-07-07T17:22:58.493Z"
   },
   {
    "duration": 35,
    "start_time": "2021-07-07T17:22:59.666Z"
   },
   {
    "duration": 6,
    "start_time": "2021-07-07T17:23:02.410Z"
   },
   {
    "duration": 611,
    "start_time": "2021-07-07T17:24:59.664Z"
   },
   {
    "duration": 178,
    "start_time": "2021-07-07T17:25:01.945Z"
   },
   {
    "duration": 47,
    "start_time": "2021-07-07T17:25:02.125Z"
   },
   {
    "duration": 2,
    "start_time": "2021-07-07T17:25:07.903Z"
   },
   {
    "duration": 254,
    "start_time": "2021-07-07T17:25:08.232Z"
   },
   {
    "duration": 182,
    "start_time": "2021-07-07T17:25:08.671Z"
   },
   {
    "duration": 6,
    "start_time": "2021-07-07T17:25:13.104Z"
   },
   {
    "duration": 36,
    "start_time": "2021-07-07T17:25:13.662Z"
   },
   {
    "duration": 7,
    "start_time": "2021-07-07T17:25:14.528Z"
   },
   {
    "duration": 24,
    "start_time": "2021-07-07T17:25:27.982Z"
   },
   {
    "duration": 3,
    "start_time": "2021-07-07T17:25:48.982Z"
   },
   {
    "duration": 165,
    "start_time": "2021-07-07T17:25:48.987Z"
   },
   {
    "duration": 50,
    "start_time": "2021-07-07T17:25:49.154Z"
   },
   {
    "duration": 4,
    "start_time": "2021-07-07T17:25:49.206Z"
   },
   {
    "duration": 26,
    "start_time": "2021-07-07T17:25:49.212Z"
   },
   {
    "duration": 7,
    "start_time": "2021-07-07T17:25:49.240Z"
   },
   {
    "duration": 16,
    "start_time": "2021-07-07T17:25:49.249Z"
   },
   {
    "duration": 22,
    "start_time": "2021-07-07T17:25:49.266Z"
   },
   {
    "duration": 16,
    "start_time": "2021-07-07T17:25:49.291Z"
   },
   {
    "duration": 9,
    "start_time": "2021-07-07T17:25:49.309Z"
   },
   {
    "duration": 7,
    "start_time": "2021-07-07T17:25:49.319Z"
   },
   {
    "duration": 28,
    "start_time": "2021-07-07T17:25:49.328Z"
   },
   {
    "duration": 44,
    "start_time": "2021-07-07T17:25:49.357Z"
   },
   {
    "duration": 22,
    "start_time": "2021-07-07T17:25:49.403Z"
   },
   {
    "duration": 7,
    "start_time": "2021-07-07T17:25:49.427Z"
   },
   {
    "duration": 3,
    "start_time": "2021-07-07T17:25:49.436Z"
   },
   {
    "duration": 44,
    "start_time": "2021-07-07T17:25:49.441Z"
   },
   {
    "duration": 12,
    "start_time": "2021-07-07T17:25:49.488Z"
   },
   {
    "duration": 13,
    "start_time": "2021-07-07T17:25:49.502Z"
   },
   {
    "duration": 10,
    "start_time": "2021-07-07T17:25:49.516Z"
   },
   {
    "duration": 62,
    "start_time": "2021-07-07T17:25:49.527Z"
   },
   {
    "duration": 26,
    "start_time": "2021-07-07T17:26:51.809Z"
   },
   {
    "duration": 26,
    "start_time": "2021-07-07T17:26:55.759Z"
   },
   {
    "duration": 26,
    "start_time": "2021-07-07T17:27:04.501Z"
   },
   {
    "duration": 25,
    "start_time": "2021-07-07T17:28:24.859Z"
   },
   {
    "duration": 21,
    "start_time": "2021-07-07T17:28:55.250Z"
   },
   {
    "duration": 21,
    "start_time": "2021-07-07T17:28:58.885Z"
   },
   {
    "duration": 7,
    "start_time": "2021-07-07T17:45:40.972Z"
   },
   {
    "duration": 13,
    "start_time": "2021-07-07T17:45:42.529Z"
   },
   {
    "duration": 27,
    "start_time": "2021-07-07T17:45:51.026Z"
   },
   {
    "duration": 518,
    "start_time": "2021-07-07T17:46:15.532Z"
   },
   {
    "duration": 235,
    "start_time": "2021-07-07T17:46:16.053Z"
   },
   {
    "duration": 80,
    "start_time": "2021-07-07T17:46:16.292Z"
   },
   {
    "duration": 5,
    "start_time": "2021-07-07T17:46:16.373Z"
   },
   {
    "duration": 26,
    "start_time": "2021-07-07T17:46:16.380Z"
   },
   {
    "duration": 7,
    "start_time": "2021-07-07T17:46:16.408Z"
   },
   {
    "duration": 16,
    "start_time": "2021-07-07T17:46:16.418Z"
   },
   {
    "duration": 5,
    "start_time": "2021-07-07T17:46:16.436Z"
   },
   {
    "duration": 13,
    "start_time": "2021-07-07T17:46:16.442Z"
   },
   {
    "duration": 35,
    "start_time": "2021-07-07T17:46:16.456Z"
   },
   {
    "duration": 8,
    "start_time": "2021-07-07T17:46:16.493Z"
   },
   {
    "duration": 28,
    "start_time": "2021-07-07T17:46:16.502Z"
   },
   {
    "duration": 17,
    "start_time": "2021-07-07T17:46:16.532Z"
   },
   {
    "duration": 44,
    "start_time": "2021-07-07T17:46:16.551Z"
   },
   {
    "duration": 6,
    "start_time": "2021-07-07T17:46:16.597Z"
   },
   {
    "duration": 4,
    "start_time": "2021-07-07T17:46:16.605Z"
   },
   {
    "duration": 9,
    "start_time": "2021-07-07T17:46:16.610Z"
   },
   {
    "duration": 9,
    "start_time": "2021-07-07T17:46:16.621Z"
   },
   {
    "duration": 10,
    "start_time": "2021-07-07T17:46:16.632Z"
   },
   {
    "duration": 43,
    "start_time": "2021-07-07T17:46:16.644Z"
   },
   {
    "duration": 26,
    "start_time": "2021-07-07T17:46:16.689Z"
   },
   {
    "duration": 19,
    "start_time": "2021-07-07T17:46:16.718Z"
   },
   {
    "duration": 8,
    "start_time": "2021-07-07T17:46:16.738Z"
   },
   {
    "duration": 43,
    "start_time": "2021-07-07T17:46:16.747Z"
   },
   {
    "duration": 19,
    "start_time": "2021-07-07T17:46:16.791Z"
   },
   {
    "duration": 9,
    "start_time": "2021-07-07T17:46:16.812Z"
   },
   {
    "duration": 60,
    "start_time": "2021-07-07T17:46:16.822Z"
   },
   {
    "duration": -8,
    "start_time": "2021-07-07T17:46:16.892Z"
   },
   {
    "duration": 12,
    "start_time": "2021-07-07T17:48:47.707Z"
   },
   {
    "duration": 553,
    "start_time": "2021-07-07T18:10:09.350Z"
   },
   {
    "duration": 230,
    "start_time": "2021-07-07T18:10:09.905Z"
   },
   {
    "duration": 97,
    "start_time": "2021-07-07T18:10:10.137Z"
   },
   {
    "duration": 5,
    "start_time": "2021-07-07T18:10:10.236Z"
   },
   {
    "duration": 29,
    "start_time": "2021-07-07T18:10:10.242Z"
   },
   {
    "duration": 7,
    "start_time": "2021-07-07T18:10:10.272Z"
   },
   {
    "duration": 15,
    "start_time": "2021-07-07T18:10:10.281Z"
   },
   {
    "duration": 4,
    "start_time": "2021-07-07T18:10:10.299Z"
   },
   {
    "duration": 14,
    "start_time": "2021-07-07T18:10:10.305Z"
   },
   {
    "duration": 8,
    "start_time": "2021-07-07T18:10:10.321Z"
   },
   {
    "duration": 8,
    "start_time": "2021-07-07T18:10:10.331Z"
   },
   {
    "duration": 56,
    "start_time": "2021-07-07T18:10:10.341Z"
   },
   {
    "duration": 19,
    "start_time": "2021-07-07T18:10:10.399Z"
   },
   {
    "duration": 23,
    "start_time": "2021-07-07T18:10:10.419Z"
   },
   {
    "duration": 6,
    "start_time": "2021-07-07T18:10:10.444Z"
   },
   {
    "duration": 9,
    "start_time": "2021-07-07T18:10:10.451Z"
   },
   {
    "duration": 30,
    "start_time": "2021-07-07T18:10:10.462Z"
   },
   {
    "duration": 9,
    "start_time": "2021-07-07T18:10:10.494Z"
   },
   {
    "duration": 14,
    "start_time": "2021-07-07T18:10:10.505Z"
   },
   {
    "duration": 7,
    "start_time": "2021-07-07T18:10:10.521Z"
   },
   {
    "duration": 26,
    "start_time": "2021-07-07T18:10:10.530Z"
   },
   {
    "duration": 44,
    "start_time": "2021-07-07T18:10:10.558Z"
   },
   {
    "duration": 7,
    "start_time": "2021-07-07T18:10:10.605Z"
   },
   {
    "duration": 11,
    "start_time": "2021-07-07T18:10:10.614Z"
   },
   {
    "duration": 19,
    "start_time": "2021-07-07T18:10:10.626Z"
   },
   {
    "duration": 44,
    "start_time": "2021-07-07T18:10:10.646Z"
   },
   {
    "duration": 516,
    "start_time": "2021-07-07T18:14:00.826Z"
   },
   {
    "duration": 230,
    "start_time": "2021-07-07T18:14:01.344Z"
   },
   {
    "duration": 105,
    "start_time": "2021-07-07T18:14:01.576Z"
   },
   {
    "duration": 5,
    "start_time": "2021-07-07T18:14:01.683Z"
   },
   {
    "duration": 46,
    "start_time": "2021-07-07T18:14:01.690Z"
   },
   {
    "duration": 7,
    "start_time": "2021-07-07T18:14:01.738Z"
   },
   {
    "duration": 20,
    "start_time": "2021-07-07T18:14:01.747Z"
   },
   {
    "duration": 16,
    "start_time": "2021-07-07T18:14:01.769Z"
   },
   {
    "duration": 14,
    "start_time": "2021-07-07T18:14:01.787Z"
   },
   {
    "duration": 15,
    "start_time": "2021-07-07T18:14:01.803Z"
   },
   {
    "duration": 12,
    "start_time": "2021-07-07T18:14:01.820Z"
   },
   {
    "duration": 35,
    "start_time": "2021-07-07T18:14:01.833Z"
   },
   {
    "duration": 31,
    "start_time": "2021-07-07T18:14:01.869Z"
   },
   {
    "duration": 37,
    "start_time": "2021-07-07T18:14:01.902Z"
   },
   {
    "duration": 8,
    "start_time": "2021-07-07T18:14:01.942Z"
   },
   {
    "duration": 16,
    "start_time": "2021-07-07T18:14:01.952Z"
   },
   {
    "duration": 13,
    "start_time": "2021-07-07T18:14:01.970Z"
   },
   {
    "duration": 32,
    "start_time": "2021-07-07T18:14:01.985Z"
   },
   {
    "duration": 11,
    "start_time": "2021-07-07T18:14:02.019Z"
   },
   {
    "duration": 22,
    "start_time": "2021-07-07T18:14:02.031Z"
   },
   {
    "duration": 27,
    "start_time": "2021-07-07T18:14:02.055Z"
   },
   {
    "duration": 18,
    "start_time": "2021-07-07T18:14:02.084Z"
   },
   {
    "duration": 18,
    "start_time": "2021-07-07T18:14:02.106Z"
   },
   {
    "duration": 11,
    "start_time": "2021-07-07T18:14:02.126Z"
   },
   {
    "duration": 21,
    "start_time": "2021-07-07T18:14:02.138Z"
   },
   {
    "duration": 32,
    "start_time": "2021-07-07T18:14:02.161Z"
   },
   {
    "duration": 28,
    "start_time": "2021-07-07T18:14:44.295Z"
   },
   {
    "duration": 6,
    "start_time": "2021-07-07T18:15:05.834Z"
   },
   {
    "duration": 511,
    "start_time": "2021-07-07T18:15:41.541Z"
   },
   {
    "duration": 183,
    "start_time": "2021-07-07T18:15:42.054Z"
   },
   {
    "duration": 50,
    "start_time": "2021-07-07T18:15:42.239Z"
   },
   {
    "duration": 5,
    "start_time": "2021-07-07T18:15:42.291Z"
   },
   {
    "duration": 48,
    "start_time": "2021-07-07T18:15:42.297Z"
   },
   {
    "duration": 8,
    "start_time": "2021-07-07T18:15:42.346Z"
   },
   {
    "duration": 17,
    "start_time": "2021-07-07T18:15:42.356Z"
   },
   {
    "duration": 15,
    "start_time": "2021-07-07T18:15:42.375Z"
   },
   {
    "duration": 12,
    "start_time": "2021-07-07T18:15:42.392Z"
   },
   {
    "duration": 7,
    "start_time": "2021-07-07T18:15:42.406Z"
   },
   {
    "duration": 7,
    "start_time": "2021-07-07T18:15:42.415Z"
   },
   {
    "duration": 29,
    "start_time": "2021-07-07T18:15:42.423Z"
   },
   {
    "duration": 43,
    "start_time": "2021-07-07T18:15:42.453Z"
   },
   {
    "duration": 18,
    "start_time": "2021-07-07T18:15:42.497Z"
   },
   {
    "duration": 6,
    "start_time": "2021-07-07T18:15:42.516Z"
   },
   {
    "duration": 3,
    "start_time": "2021-07-07T18:15:42.523Z"
   },
   {
    "duration": 18,
    "start_time": "2021-07-07T18:15:42.528Z"
   },
   {
    "duration": 10,
    "start_time": "2021-07-07T18:15:42.547Z"
   },
   {
    "duration": 36,
    "start_time": "2021-07-07T18:15:42.559Z"
   },
   {
    "duration": 8,
    "start_time": "2021-07-07T18:15:42.597Z"
   },
   {
    "duration": 28,
    "start_time": "2021-07-07T18:15:42.606Z"
   },
   {
    "duration": 52,
    "start_time": "2021-07-07T18:15:42.635Z"
   },
   {
    "duration": 7,
    "start_time": "2021-07-07T18:15:42.690Z"
   },
   {
    "duration": 10,
    "start_time": "2021-07-07T18:15:42.699Z"
   },
   {
    "duration": 19,
    "start_time": "2021-07-07T18:15:42.711Z"
   },
   {
    "duration": 9,
    "start_time": "2021-07-07T18:15:42.732Z"
   },
   {
    "duration": 5,
    "start_time": "2021-07-07T18:15:42.743Z"
   },
   {
    "duration": 1450,
    "start_time": "2021-07-07T18:15:51.984Z"
   },
   {
    "duration": 161,
    "start_time": "2021-07-07T18:15:53.435Z"
   },
   {
    "duration": 124,
    "start_time": "2021-07-07T18:15:53.598Z"
   },
   {
    "duration": 5,
    "start_time": "2021-07-07T18:15:53.724Z"
   },
   {
    "duration": 34,
    "start_time": "2021-07-07T18:15:53.730Z"
   },
   {
    "duration": 7,
    "start_time": "2021-07-07T18:15:53.765Z"
   },
   {
    "duration": 15,
    "start_time": "2021-07-07T18:15:53.773Z"
   },
   {
    "duration": 5,
    "start_time": "2021-07-07T18:15:53.791Z"
   },
   {
    "duration": 19,
    "start_time": "2021-07-07T18:15:53.798Z"
   },
   {
    "duration": 9,
    "start_time": "2021-07-07T18:15:53.818Z"
   },
   {
    "duration": 19,
    "start_time": "2021-07-07T18:15:53.828Z"
   },
   {
    "duration": 27,
    "start_time": "2021-07-07T18:15:53.848Z"
   },
   {
    "duration": 16,
    "start_time": "2021-07-07T18:15:53.884Z"
   },
   {
    "duration": 29,
    "start_time": "2021-07-07T18:15:53.901Z"
   },
   {
    "duration": 5,
    "start_time": "2021-07-07T18:15:53.932Z"
   },
   {
    "duration": 15,
    "start_time": "2021-07-07T18:15:53.939Z"
   },
   {
    "duration": 13,
    "start_time": "2021-07-07T18:15:53.956Z"
   },
   {
    "duration": 20,
    "start_time": "2021-07-07T18:15:53.971Z"
   },
   {
    "duration": 14,
    "start_time": "2021-07-07T18:15:53.992Z"
   },
   {
    "duration": 9,
    "start_time": "2021-07-07T18:15:54.009Z"
   },
   {
    "duration": 28,
    "start_time": "2021-07-07T18:15:54.020Z"
   },
   {
    "duration": 50,
    "start_time": "2021-07-07T18:15:54.051Z"
   },
   {
    "duration": 8,
    "start_time": "2021-07-07T18:15:54.105Z"
   },
   {
    "duration": 11,
    "start_time": "2021-07-07T18:15:54.115Z"
   },
   {
    "duration": 20,
    "start_time": "2021-07-07T18:15:54.128Z"
   },
   {
    "duration": 13,
    "start_time": "2021-07-07T18:15:54.184Z"
   },
   {
    "duration": 7,
    "start_time": "2021-07-07T18:15:54.199Z"
   },
   {
    "duration": 7,
    "start_time": "2021-07-07T18:17:08.042Z"
   },
   {
    "duration": 8,
    "start_time": "2021-07-07T18:17:21.008Z"
   },
   {
    "duration": 7,
    "start_time": "2021-07-07T18:17:29.003Z"
   },
   {
    "duration": 8,
    "start_time": "2021-07-07T18:17:32.492Z"
   },
   {
    "duration": 9,
    "start_time": "2021-07-07T18:17:41.758Z"
   },
   {
    "duration": 255,
    "start_time": "2021-07-07T18:20:20.897Z"
   },
   {
    "duration": 173,
    "start_time": "2021-07-07T18:20:26.636Z"
   },
   {
    "duration": 7,
    "start_time": "2021-07-07T18:21:47.164Z"
   },
   {
    "duration": 254,
    "start_time": "2021-07-07T18:23:08.703Z"
   },
   {
    "duration": 21,
    "start_time": "2021-07-07T18:23:22.506Z"
   },
   {
    "duration": 315,
    "start_time": "2021-07-07T18:25:54.801Z"
   },
   {
    "duration": 34,
    "start_time": "2021-07-07T18:26:51.817Z"
   },
   {
    "duration": 327,
    "start_time": "2021-07-07T18:26:56.147Z"
   },
   {
    "duration": 342,
    "start_time": "2021-07-07T18:27:15.887Z"
   },
   {
    "duration": 302,
    "start_time": "2021-07-07T18:28:18.569Z"
   },
   {
    "duration": 226,
    "start_time": "2021-07-07T18:29:20.879Z"
   },
   {
    "duration": 207,
    "start_time": "2021-07-07T18:29:58.114Z"
   },
   {
    "duration": 140,
    "start_time": "2021-07-07T18:32:04.372Z"
   },
   {
    "duration": 158,
    "start_time": "2021-07-07T18:32:32.508Z"
   },
   {
    "duration": 145,
    "start_time": "2021-07-07T18:32:41.365Z"
   },
   {
    "duration": 132,
    "start_time": "2021-07-07T18:32:45.199Z"
   },
   {
    "duration": 11,
    "start_time": "2021-07-07T18:35:24.679Z"
   },
   {
    "duration": 268,
    "start_time": "2021-07-07T18:36:16.145Z"
   },
   {
    "duration": 227,
    "start_time": "2021-07-07T18:37:04.918Z"
   },
   {
    "duration": 3,
    "start_time": "2021-07-07T18:37:33.012Z"
   },
   {
    "duration": 671,
    "start_time": "2021-07-07T18:37:38.295Z"
   },
   {
    "duration": 54,
    "start_time": "2021-07-07T18:37:53.406Z"
   },
   {
    "duration": 631,
    "start_time": "2021-07-07T18:37:56.463Z"
   },
   {
    "duration": 19,
    "start_time": "2021-07-07T18:39:40.535Z"
   },
   {
    "duration": 20,
    "start_time": "2021-07-07T18:40:12.236Z"
   },
   {
    "duration": 633,
    "start_time": "2021-07-07T18:42:00.398Z"
   },
   {
    "duration": 218,
    "start_time": "2021-07-07T18:42:01.033Z"
   },
   {
    "duration": 49,
    "start_time": "2021-07-07T18:42:01.253Z"
   },
   {
    "duration": 5,
    "start_time": "2021-07-07T18:42:01.303Z"
   },
   {
    "duration": 27,
    "start_time": "2021-07-07T18:42:01.310Z"
   },
   {
    "duration": 8,
    "start_time": "2021-07-07T18:42:01.339Z"
   },
   {
    "duration": 20,
    "start_time": "2021-07-07T18:42:01.348Z"
   },
   {
    "duration": 6,
    "start_time": "2021-07-07T18:42:01.386Z"
   },
   {
    "duration": 16,
    "start_time": "2021-07-07T18:42:01.394Z"
   },
   {
    "duration": 9,
    "start_time": "2021-07-07T18:42:01.411Z"
   },
   {
    "duration": 11,
    "start_time": "2021-07-07T18:42:01.421Z"
   },
   {
    "duration": 31,
    "start_time": "2021-07-07T18:42:01.434Z"
   },
   {
    "duration": 18,
    "start_time": "2021-07-07T18:42:01.485Z"
   },
   {
    "duration": 23,
    "start_time": "2021-07-07T18:42:01.505Z"
   },
   {
    "duration": 6,
    "start_time": "2021-07-07T18:42:01.530Z"
   },
   {
    "duration": 10,
    "start_time": "2021-07-07T18:42:01.538Z"
   },
   {
    "duration": 13,
    "start_time": "2021-07-07T18:42:01.550Z"
   },
   {
    "duration": 24,
    "start_time": "2021-07-07T18:42:01.564Z"
   },
   {
    "duration": 20,
    "start_time": "2021-07-07T18:42:01.590Z"
   },
   {
    "duration": 8,
    "start_time": "2021-07-07T18:42:01.611Z"
   },
   {
    "duration": 31,
    "start_time": "2021-07-07T18:42:01.620Z"
   },
   {
    "duration": 39,
    "start_time": "2021-07-07T18:42:01.653Z"
   },
   {
    "duration": 8,
    "start_time": "2021-07-07T18:42:01.696Z"
   },
   {
    "duration": 13,
    "start_time": "2021-07-07T18:42:01.705Z"
   },
   {
    "duration": 20,
    "start_time": "2021-07-07T18:42:01.720Z"
   },
   {
    "duration": 12,
    "start_time": "2021-07-07T18:42:01.741Z"
   },
   {
    "duration": 35,
    "start_time": "2021-07-07T18:42:01.755Z"
   },
   {
    "duration": 14,
    "start_time": "2021-07-07T18:42:01.792Z"
   },
   {
    "duration": 188,
    "start_time": "2021-07-07T18:42:01.808Z"
   },
   {
    "duration": 19,
    "start_time": "2021-07-07T18:42:01.998Z"
   },
   {
    "duration": 175,
    "start_time": "2021-07-07T18:42:02.019Z"
   },
   {
    "duration": 134,
    "start_time": "2021-07-07T18:42:02.196Z"
   },
   {
    "duration": 10,
    "start_time": "2021-07-07T18:42:02.331Z"
   },
   {
    "duration": 19,
    "start_time": "2021-07-07T18:42:02.343Z"
   },
   {
    "duration": 628,
    "start_time": "2021-07-07T18:46:30.701Z"
   },
   {
    "duration": 183,
    "start_time": "2021-07-07T18:46:31.331Z"
   },
   {
    "duration": 48,
    "start_time": "2021-07-07T18:46:31.516Z"
   },
   {
    "duration": 5,
    "start_time": "2021-07-07T18:46:31.566Z"
   },
   {
    "duration": 28,
    "start_time": "2021-07-07T18:46:31.572Z"
   },
   {
    "duration": 8,
    "start_time": "2021-07-07T18:46:31.602Z"
   },
   {
    "duration": 19,
    "start_time": "2021-07-07T18:46:31.611Z"
   },
   {
    "duration": 6,
    "start_time": "2021-07-07T18:46:31.633Z"
   },
   {
    "duration": 17,
    "start_time": "2021-07-07T18:46:31.642Z"
   },
   {
    "duration": 10,
    "start_time": "2021-07-07T18:46:31.684Z"
   },
   {
    "duration": 9,
    "start_time": "2021-07-07T18:46:31.695Z"
   },
   {
    "duration": 28,
    "start_time": "2021-07-07T18:46:31.705Z"
   },
   {
    "duration": 18,
    "start_time": "2021-07-07T18:46:31.735Z"
   },
   {
    "duration": 48,
    "start_time": "2021-07-07T18:46:31.755Z"
   },
   {
    "duration": 6,
    "start_time": "2021-07-07T18:46:31.804Z"
   },
   {
    "duration": 4,
    "start_time": "2021-07-07T18:46:31.812Z"
   },
   {
    "duration": 9,
    "start_time": "2021-07-07T18:46:31.817Z"
   },
   {
    "duration": 10,
    "start_time": "2021-07-07T18:46:31.827Z"
   },
   {
    "duration": 12,
    "start_time": "2021-07-07T18:46:31.838Z"
   },
   {
    "duration": 39,
    "start_time": "2021-07-07T18:46:31.851Z"
   },
   {
    "duration": 24,
    "start_time": "2021-07-07T18:46:31.892Z"
   },
   {
    "duration": 15,
    "start_time": "2021-07-07T18:46:31.918Z"
   },
   {
    "duration": 7,
    "start_time": "2021-07-07T18:46:31.936Z"
   },
   {
    "duration": 8,
    "start_time": "2021-07-07T18:46:31.944Z"
   },
   {
    "duration": 19,
    "start_time": "2021-07-07T18:46:31.984Z"
   },
   {
    "duration": 10,
    "start_time": "2021-07-07T18:46:32.004Z"
   },
   {
    "duration": 5,
    "start_time": "2021-07-07T18:46:32.016Z"
   },
   {
    "duration": 9,
    "start_time": "2021-07-07T18:46:32.023Z"
   },
   {
    "duration": 199,
    "start_time": "2021-07-07T18:46:32.033Z"
   },
   {
    "duration": 19,
    "start_time": "2021-07-07T18:46:32.234Z"
   },
   {
    "duration": 159,
    "start_time": "2021-07-07T18:46:32.255Z"
   },
   {
    "duration": 134,
    "start_time": "2021-07-07T18:46:32.416Z"
   },
   {
    "duration": 10,
    "start_time": "2021-07-07T18:46:32.552Z"
   },
   {
    "duration": 34,
    "start_time": "2021-07-07T18:46:32.563Z"
   },
   {
    "duration": 1039,
    "start_time": "2021-07-08T08:41:09.419Z"
   },
   {
    "duration": 333,
    "start_time": "2021-07-08T08:41:10.459Z"
   },
   {
    "duration": 173,
    "start_time": "2021-07-08T08:41:10.794Z"
   },
   {
    "duration": 5,
    "start_time": "2021-07-08T08:41:10.968Z"
   },
   {
    "duration": 25,
    "start_time": "2021-07-08T08:41:10.975Z"
   },
   {
    "duration": 9,
    "start_time": "2021-07-08T08:41:11.002Z"
   },
   {
    "duration": 18,
    "start_time": "2021-07-08T08:41:11.013Z"
   },
   {
    "duration": 6,
    "start_time": "2021-07-08T08:41:11.033Z"
   },
   {
    "duration": 44,
    "start_time": "2021-07-08T08:41:11.042Z"
   },
   {
    "duration": 10,
    "start_time": "2021-07-08T08:41:11.088Z"
   },
   {
    "duration": 9,
    "start_time": "2021-07-08T08:41:11.100Z"
   },
   {
    "duration": 27,
    "start_time": "2021-07-08T08:41:11.111Z"
   },
   {
    "duration": 46,
    "start_time": "2021-07-08T08:41:11.140Z"
   },
   {
    "duration": 17,
    "start_time": "2021-07-08T08:41:11.187Z"
   },
   {
    "duration": 6,
    "start_time": "2021-07-08T08:41:11.206Z"
   },
   {
    "duration": 5,
    "start_time": "2021-07-08T08:41:11.213Z"
   },
   {
    "duration": 10,
    "start_time": "2021-07-08T08:41:11.219Z"
   },
   {
    "duration": 9,
    "start_time": "2021-07-08T08:41:11.230Z"
   },
   {
    "duration": 45,
    "start_time": "2021-07-08T08:41:11.241Z"
   },
   {
    "duration": 7,
    "start_time": "2021-07-08T08:41:11.287Z"
   },
   {
    "duration": 24,
    "start_time": "2021-07-08T08:41:11.296Z"
   },
   {
    "duration": 16,
    "start_time": "2021-07-08T08:41:11.322Z"
   },
   {
    "duration": 7,
    "start_time": "2021-07-08T08:41:11.341Z"
   },
   {
    "duration": 41,
    "start_time": "2021-07-08T08:41:11.349Z"
   },
   {
    "duration": 17,
    "start_time": "2021-07-08T08:41:11.391Z"
   },
   {
    "duration": 9,
    "start_time": "2021-07-08T08:41:11.410Z"
   },
   {
    "duration": 5,
    "start_time": "2021-07-08T08:41:11.421Z"
   },
   {
    "duration": 6,
    "start_time": "2021-07-08T08:41:11.428Z"
   },
   {
    "duration": 198,
    "start_time": "2021-07-08T08:41:11.435Z"
   },
   {
    "duration": 18,
    "start_time": "2021-07-08T08:41:11.635Z"
   },
   {
    "duration": 155,
    "start_time": "2021-07-08T08:41:11.655Z"
   },
   {
    "duration": 138,
    "start_time": "2021-07-08T08:41:11.811Z"
   },
   {
    "duration": 10,
    "start_time": "2021-07-08T08:41:11.950Z"
   },
   {
    "duration": 29,
    "start_time": "2021-07-08T08:41:11.961Z"
   },
   {
    "duration": 171,
    "start_time": "2021-07-08T08:47:44.522Z"
   },
   {
    "duration": 124,
    "start_time": "2021-07-08T08:47:46.872Z"
   },
   {
    "duration": 191,
    "start_time": "2021-07-08T08:47:58.148Z"
   },
   {
    "duration": 191,
    "start_time": "2021-07-08T08:48:07.412Z"
   },
   {
    "duration": 261,
    "start_time": "2021-07-08T08:48:10.385Z"
   },
   {
    "duration": 255,
    "start_time": "2021-07-08T08:48:14.494Z"
   },
   {
    "duration": 219,
    "start_time": "2021-07-08T08:48:22.752Z"
   },
   {
    "duration": 173,
    "start_time": "2021-07-08T08:49:06.395Z"
   },
   {
    "duration": 180,
    "start_time": "2021-07-08T08:49:21.011Z"
   },
   {
    "duration": 6,
    "start_time": "2021-07-08T08:50:31.697Z"
   },
   {
    "duration": 10,
    "start_time": "2021-07-08T08:50:47.394Z"
   },
   {
    "duration": 11,
    "start_time": "2021-07-08T08:53:49.332Z"
   },
   {
    "duration": 171,
    "start_time": "2021-07-08T08:54:28.408Z"
   },
   {
    "duration": 636,
    "start_time": "2021-07-08T09:02:48.385Z"
   },
   {
    "duration": 227,
    "start_time": "2021-07-08T09:02:49.023Z"
   },
   {
    "duration": 104,
    "start_time": "2021-07-08T09:02:49.252Z"
   },
   {
    "duration": 5,
    "start_time": "2021-07-08T09:02:49.358Z"
   },
   {
    "duration": 27,
    "start_time": "2021-07-08T09:02:49.365Z"
   },
   {
    "duration": 8,
    "start_time": "2021-07-08T09:02:49.394Z"
   },
   {
    "duration": 18,
    "start_time": "2021-07-08T09:02:49.404Z"
   },
   {
    "duration": 6,
    "start_time": "2021-07-08T09:02:49.424Z"
   },
   {
    "duration": 11,
    "start_time": "2021-07-08T09:02:49.433Z"
   },
   {
    "duration": 13,
    "start_time": "2021-07-08T09:02:49.485Z"
   },
   {
    "duration": 9,
    "start_time": "2021-07-08T09:02:49.500Z"
   },
   {
    "duration": 38,
    "start_time": "2021-07-08T09:02:49.511Z"
   },
   {
    "duration": 42,
    "start_time": "2021-07-08T09:02:49.551Z"
   },
   {
    "duration": 21,
    "start_time": "2021-07-08T09:02:49.594Z"
   },
   {
    "duration": 6,
    "start_time": "2021-07-08T09:02:49.616Z"
   },
   {
    "duration": 3,
    "start_time": "2021-07-08T09:02:49.623Z"
   },
   {
    "duration": 9,
    "start_time": "2021-07-08T09:02:49.628Z"
   },
   {
    "duration": 52,
    "start_time": "2021-07-08T09:02:49.638Z"
   },
   {
    "duration": 11,
    "start_time": "2021-07-08T09:02:49.692Z"
   },
   {
    "duration": 8,
    "start_time": "2021-07-08T09:02:49.704Z"
   },
   {
    "duration": 27,
    "start_time": "2021-07-08T09:02:49.713Z"
   },
   {
    "duration": 59,
    "start_time": "2021-07-08T09:02:49.741Z"
   },
   {
    "duration": 8,
    "start_time": "2021-07-08T09:02:49.803Z"
   },
   {
    "duration": 14,
    "start_time": "2021-07-08T09:02:49.813Z"
   },
   {
    "duration": 20,
    "start_time": "2021-07-08T09:02:49.829Z"
   },
   {
    "duration": 44,
    "start_time": "2021-07-08T09:02:49.851Z"
   },
   {
    "duration": 14,
    "start_time": "2021-07-08T09:02:49.896Z"
   },
   {
    "duration": 221,
    "start_time": "2021-07-08T09:02:49.912Z"
   },
   {
    "duration": 6,
    "start_time": "2021-07-08T09:02:50.134Z"
   },
   {
    "duration": 206,
    "start_time": "2021-07-08T09:02:50.142Z"
   },
   {
    "duration": 19,
    "start_time": "2021-07-08T09:02:50.350Z"
   },
   {
    "duration": 21,
    "start_time": "2021-07-08T09:02:50.370Z"
   },
   {
    "duration": 20,
    "start_time": "2021-07-08T09:02:50.393Z"
   },
   {
    "duration": 5,
    "start_time": "2021-07-08T09:02:50.414Z"
   },
   {
    "duration": 5,
    "start_time": "2021-07-08T09:03:34.173Z"
   },
   {
    "duration": 6,
    "start_time": "2021-07-08T09:04:49.062Z"
   },
   {
    "duration": 9,
    "start_time": "2021-07-08T09:04:50.118Z"
   },
   {
    "duration": 14,
    "start_time": "2021-07-08T09:04:58.512Z"
   },
   {
    "duration": 9,
    "start_time": "2021-07-08T09:05:10.988Z"
   },
   {
    "duration": 11,
    "start_time": "2021-07-08T09:05:11.743Z"
   },
   {
    "duration": 7,
    "start_time": "2021-07-08T09:05:25.677Z"
   },
   {
    "duration": 13,
    "start_time": "2021-07-08T09:05:47.189Z"
   },
   {
    "duration": 13,
    "start_time": "2021-07-08T09:05:54.755Z"
   },
   {
    "duration": 4,
    "start_time": "2021-07-08T09:06:29.189Z"
   },
   {
    "duration": 244,
    "start_time": "2021-07-08T09:06:29.195Z"
   },
   {
    "duration": 91,
    "start_time": "2021-07-08T09:06:29.441Z"
   },
   {
    "duration": 4,
    "start_time": "2021-07-08T09:06:29.534Z"
   },
   {
    "duration": 28,
    "start_time": "2021-07-08T09:06:29.540Z"
   },
   {
    "duration": 6,
    "start_time": "2021-07-08T09:06:29.570Z"
   },
   {
    "duration": 18,
    "start_time": "2021-07-08T09:06:29.578Z"
   },
   {
    "duration": 5,
    "start_time": "2021-07-08T09:06:29.597Z"
   },
   {
    "duration": 13,
    "start_time": "2021-07-08T09:06:29.605Z"
   },
   {
    "duration": 8,
    "start_time": "2021-07-08T09:06:29.620Z"
   },
   {
    "duration": 7,
    "start_time": "2021-07-08T09:06:29.630Z"
   },
   {
    "duration": 63,
    "start_time": "2021-07-08T09:06:29.639Z"
   },
   {
    "duration": 17,
    "start_time": "2021-07-08T09:06:29.704Z"
   },
   {
    "duration": 20,
    "start_time": "2021-07-08T09:06:29.723Z"
   },
   {
    "duration": 6,
    "start_time": "2021-07-08T09:06:29.745Z"
   },
   {
    "duration": 3,
    "start_time": "2021-07-08T09:06:29.752Z"
   },
   {
    "duration": 7,
    "start_time": "2021-07-08T09:06:29.785Z"
   },
   {
    "duration": 11,
    "start_time": "2021-07-08T09:06:29.794Z"
   },
   {
    "duration": 15,
    "start_time": "2021-07-08T09:06:29.807Z"
   },
   {
    "duration": 8,
    "start_time": "2021-07-08T09:06:29.823Z"
   },
   {
    "duration": 70,
    "start_time": "2021-07-08T09:06:29.832Z"
   },
   {
    "duration": 17,
    "start_time": "2021-07-08T09:06:29.903Z"
   },
   {
    "duration": 9,
    "start_time": "2021-07-08T09:06:29.921Z"
   },
   {
    "duration": 9,
    "start_time": "2021-07-08T09:06:29.932Z"
   },
   {
    "duration": 57,
    "start_time": "2021-07-08T09:06:29.942Z"
   },
   {
    "duration": 11,
    "start_time": "2021-07-08T09:06:30.001Z"
   },
   {
    "duration": 19,
    "start_time": "2021-07-08T09:06:30.016Z"
   },
   {
    "duration": 217,
    "start_time": "2021-07-08T09:06:30.037Z"
   },
   {
    "duration": 6,
    "start_time": "2021-07-08T09:06:30.255Z"
   },
   {
    "duration": 205,
    "start_time": "2021-07-08T09:06:30.263Z"
   },
   {
    "duration": 27,
    "start_time": "2021-07-08T09:06:30.470Z"
   },
   {
    "duration": 11,
    "start_time": "2021-07-08T09:06:30.500Z"
   },
   {
    "duration": 31,
    "start_time": "2021-07-08T09:06:30.513Z"
   },
   {
    "duration": 18,
    "start_time": "2021-07-08T09:06:30.546Z"
   },
   {
    "duration": 11,
    "start_time": "2021-07-08T09:06:30.566Z"
   },
   {
    "duration": 19,
    "start_time": "2021-07-08T09:06:30.579Z"
   },
   {
    "duration": 20,
    "start_time": "2021-07-08T09:06:49.466Z"
   },
   {
    "duration": 9,
    "start_time": "2021-07-08T09:06:51.994Z"
   },
   {
    "duration": 20,
    "start_time": "2021-07-08T09:06:52.273Z"
   },
   {
    "duration": 246,
    "start_time": "2021-07-08T09:10:21.272Z"
   },
   {
    "duration": 84,
    "start_time": "2021-07-08T09:10:21.436Z"
   },
   {
    "duration": 7,
    "start_time": "2021-07-08T09:10:37.608Z"
   },
   {
    "duration": 189,
    "start_time": "2021-07-08T09:10:38.573Z"
   },
   {
    "duration": 185,
    "start_time": "2021-07-08T09:10:53.181Z"
   },
   {
    "duration": 11,
    "start_time": "2021-07-08T09:10:59.549Z"
   },
   {
    "duration": 42,
    "start_time": "2021-07-08T09:10:59.709Z"
   },
   {
    "duration": 12,
    "start_time": "2021-07-08T09:11:02.857Z"
   },
   {
    "duration": 28,
    "start_time": "2021-07-08T09:11:10.062Z"
   },
   {
    "duration": 249,
    "start_time": "2021-07-08T09:11:37.388Z"
   },
   {
    "duration": 232,
    "start_time": "2021-07-08T09:11:49.485Z"
   },
   {
    "duration": 453,
    "start_time": "2021-07-08T09:12:01.546Z"
   },
   {
    "duration": 440,
    "start_time": "2021-07-08T09:12:12.347Z"
   },
   {
    "duration": 213,
    "start_time": "2021-07-08T09:13:32.196Z"
   },
   {
    "duration": 172,
    "start_time": "2021-07-08T09:14:07.400Z"
   },
   {
    "duration": 185,
    "start_time": "2021-07-08T09:14:14.905Z"
   },
   {
    "duration": 209,
    "start_time": "2021-07-08T09:14:40.109Z"
   },
   {
    "duration": 201,
    "start_time": "2021-07-08T09:14:54.506Z"
   },
   {
    "duration": 622,
    "start_time": "2021-07-08T09:18:14.497Z"
   },
   {
    "duration": 220,
    "start_time": "2021-07-08T09:18:15.121Z"
   },
   {
    "duration": 79,
    "start_time": "2021-07-08T09:18:15.343Z"
   },
   {
    "duration": 4,
    "start_time": "2021-07-08T09:18:15.425Z"
   },
   {
    "duration": 24,
    "start_time": "2021-07-08T09:18:15.431Z"
   },
   {
    "duration": 8,
    "start_time": "2021-07-08T09:18:15.457Z"
   },
   {
    "duration": 16,
    "start_time": "2021-07-08T09:18:15.466Z"
   },
   {
    "duration": 5,
    "start_time": "2021-07-08T09:18:15.484Z"
   },
   {
    "duration": 10,
    "start_time": "2021-07-08T09:18:15.493Z"
   },
   {
    "duration": 8,
    "start_time": "2021-07-08T09:18:15.504Z"
   },
   {
    "duration": 7,
    "start_time": "2021-07-08T09:18:15.513Z"
   },
   {
    "duration": 26,
    "start_time": "2021-07-08T09:18:15.522Z"
   },
   {
    "duration": 49,
    "start_time": "2021-07-08T09:18:15.550Z"
   },
   {
    "duration": 21,
    "start_time": "2021-07-08T09:18:15.601Z"
   },
   {
    "duration": 8,
    "start_time": "2021-07-08T09:18:15.624Z"
   },
   {
    "duration": 3,
    "start_time": "2021-07-08T09:18:15.634Z"
   },
   {
    "duration": 8,
    "start_time": "2021-07-08T09:18:15.639Z"
   },
   {
    "duration": 45,
    "start_time": "2021-07-08T09:18:15.649Z"
   },
   {
    "duration": 13,
    "start_time": "2021-07-08T09:18:15.696Z"
   },
   {
    "duration": 10,
    "start_time": "2021-07-08T09:18:15.711Z"
   },
   {
    "duration": 64,
    "start_time": "2021-07-08T09:18:15.722Z"
   },
   {
    "duration": 19,
    "start_time": "2021-07-08T09:18:15.788Z"
   },
   {
    "duration": 9,
    "start_time": "2021-07-08T09:18:15.809Z"
   },
   {
    "duration": 9,
    "start_time": "2021-07-08T09:18:15.820Z"
   },
   {
    "duration": 18,
    "start_time": "2021-07-08T09:18:15.831Z"
   },
   {
    "duration": 43,
    "start_time": "2021-07-08T09:18:15.851Z"
   },
   {
    "duration": 12,
    "start_time": "2021-07-08T09:18:15.897Z"
   },
   {
    "duration": 219,
    "start_time": "2021-07-08T09:18:15.911Z"
   },
   {
    "duration": 8,
    "start_time": "2021-07-08T09:18:16.132Z"
   },
   {
    "duration": 199,
    "start_time": "2021-07-08T09:18:16.141Z"
   },
   {
    "duration": 18,
    "start_time": "2021-07-08T09:18:16.341Z"
   },
   {
    "duration": 24,
    "start_time": "2021-07-08T09:18:16.361Z"
   },
   {
    "duration": 24,
    "start_time": "2021-07-08T09:18:16.387Z"
   },
   {
    "duration": 211,
    "start_time": "2021-07-08T09:18:16.413Z"
   },
   {
    "duration": 18,
    "start_time": "2021-07-08T09:18:16.626Z"
   },
   {
    "duration": 596,
    "start_time": "2021-07-08T10:06:33.623Z"
   },
   {
    "duration": 181,
    "start_time": "2021-07-08T10:06:34.221Z"
   },
   {
    "duration": 176,
    "start_time": "2021-07-08T10:06:34.635Z"
   },
   {
    "duration": 239,
    "start_time": "2021-07-08T10:06:55.572Z"
   },
   {
    "duration": 6,
    "start_time": "2021-07-08T10:06:57.687Z"
   },
   {
    "duration": 4,
    "start_time": "2021-07-08T10:07:03.956Z"
   },
   {
    "duration": 4,
    "start_time": "2021-07-08T10:07:10.376Z"
   },
   {
    "duration": 4,
    "start_time": "2021-07-08T10:17:19.889Z"
   },
   {
    "duration": 3,
    "start_time": "2021-07-08T10:19:19.407Z"
   },
   {
    "duration": 197,
    "start_time": "2021-07-08T10:19:19.412Z"
   },
   {
    "duration": 127,
    "start_time": "2021-07-08T10:19:19.611Z"
   },
   {
    "duration": 4,
    "start_time": "2021-07-08T10:19:19.740Z"
   },
   {
    "duration": 27,
    "start_time": "2021-07-08T10:19:19.746Z"
   },
   {
    "duration": 7,
    "start_time": "2021-07-08T10:19:19.775Z"
   },
   {
    "duration": 30,
    "start_time": "2021-07-08T10:19:19.784Z"
   },
   {
    "duration": 7,
    "start_time": "2021-07-08T10:19:19.817Z"
   },
   {
    "duration": 26,
    "start_time": "2021-07-08T10:19:19.826Z"
   },
   {
    "duration": 18,
    "start_time": "2021-07-08T10:19:19.854Z"
   },
   {
    "duration": 14,
    "start_time": "2021-07-08T10:19:19.874Z"
   },
   {
    "duration": 48,
    "start_time": "2021-07-08T10:19:19.890Z"
   },
   {
    "duration": 17,
    "start_time": "2021-07-08T10:19:19.940Z"
   },
   {
    "duration": 38,
    "start_time": "2021-07-08T10:19:19.959Z"
   },
   {
    "duration": 8,
    "start_time": "2021-07-08T10:19:19.999Z"
   },
   {
    "duration": 15,
    "start_time": "2021-07-08T10:19:20.009Z"
   },
   {
    "duration": 22,
    "start_time": "2021-07-08T10:19:20.026Z"
   },
   {
    "duration": 10,
    "start_time": "2021-07-08T10:19:20.050Z"
   },
   {
    "duration": 10,
    "start_time": "2021-07-08T10:19:20.062Z"
   },
   {
    "duration": 20,
    "start_time": "2021-07-08T10:19:20.073Z"
   },
   {
    "duration": 29,
    "start_time": "2021-07-08T10:19:20.095Z"
   },
   {
    "duration": 17,
    "start_time": "2021-07-08T10:19:20.126Z"
   },
   {
    "duration": 40,
    "start_time": "2021-07-08T10:19:20.146Z"
   },
   {
    "duration": 15,
    "start_time": "2021-07-08T10:19:20.189Z"
   },
   {
    "duration": 19,
    "start_time": "2021-07-08T10:19:20.206Z"
   },
   {
    "duration": 10,
    "start_time": "2021-07-08T10:19:20.226Z"
   },
   {
    "duration": 11,
    "start_time": "2021-07-08T10:19:20.238Z"
   },
   {
    "duration": 297,
    "start_time": "2021-07-08T10:19:20.250Z"
   },
   {
    "duration": 6,
    "start_time": "2021-07-08T10:19:20.549Z"
   },
   {
    "duration": 191,
    "start_time": "2021-07-08T10:19:20.557Z"
   },
   {
    "duration": 19,
    "start_time": "2021-07-08T10:19:20.750Z"
   },
   {
    "duration": 20,
    "start_time": "2021-07-08T10:19:20.771Z"
   },
   {
    "duration": 15,
    "start_time": "2021-07-08T10:19:20.793Z"
   },
   {
    "duration": 222,
    "start_time": "2021-07-08T10:19:20.809Z"
   },
   {
    "duration": 20,
    "start_time": "2021-07-08T10:19:21.033Z"
   },
   {
    "duration": 27,
    "start_time": "2021-07-08T10:45:04.055Z"
   },
   {
    "duration": 8,
    "start_time": "2021-07-08T10:45:08.478Z"
   },
   {
    "duration": 8,
    "start_time": "2021-07-08T10:45:31.982Z"
   },
   {
    "duration": 10,
    "start_time": "2021-07-08T10:46:01.221Z"
   },
   {
    "duration": 17,
    "start_time": "2021-07-08T10:46:40.011Z"
   },
   {
    "duration": 193,
    "start_time": "2021-07-08T10:48:19.471Z"
   },
   {
    "duration": 225,
    "start_time": "2021-07-08T10:49:26.480Z"
   },
   {
    "duration": 204,
    "start_time": "2021-07-08T10:49:59.992Z"
   },
   {
    "duration": 435,
    "start_time": "2021-07-08T10:50:06.779Z"
   },
   {
    "duration": 199,
    "start_time": "2021-07-08T10:50:14.891Z"
   },
   {
    "duration": 204,
    "start_time": "2021-07-08T10:50:18.501Z"
   },
   {
    "duration": 244,
    "start_time": "2021-07-08T10:50:23.359Z"
   },
   {
    "duration": 192,
    "start_time": "2021-07-08T10:50:29.135Z"
   },
   {
    "duration": 218,
    "start_time": "2021-07-08T10:50:33.092Z"
   },
   {
    "duration": 207,
    "start_time": "2021-07-08T10:52:45.381Z"
   },
   {
    "duration": 5,
    "start_time": "2021-07-08T10:53:34.641Z"
   },
   {
    "duration": 196,
    "start_time": "2021-07-08T10:53:41.478Z"
   },
   {
    "duration": 43,
    "start_time": "2021-07-08T10:53:50.335Z"
   },
   {
    "duration": 32,
    "start_time": "2021-07-08T10:53:55.294Z"
   },
   {
    "duration": 55,
    "start_time": "2021-07-08T10:54:09.675Z"
   },
   {
    "duration": 16,
    "start_time": "2021-07-08T10:54:12.260Z"
   },
   {
    "duration": 15,
    "start_time": "2021-07-08T10:54:49.150Z"
   },
   {
    "duration": 20,
    "start_time": "2021-07-08T10:56:07.596Z"
   },
   {
    "duration": 16,
    "start_time": "2021-07-08T10:58:26.276Z"
   },
   {
    "duration": 22,
    "start_time": "2021-07-08T10:59:00.486Z"
   },
   {
    "duration": 18,
    "start_time": "2021-07-08T11:02:09.653Z"
   },
   {
    "duration": 10,
    "start_time": "2021-07-08T11:03:44.331Z"
   },
   {
    "duration": 10,
    "start_time": "2021-07-08T11:03:54.055Z"
   },
   {
    "duration": 12,
    "start_time": "2021-07-08T11:04:41.967Z"
   },
   {
    "duration": 24,
    "start_time": "2021-07-08T11:07:30.732Z"
   },
   {
    "duration": 6,
    "start_time": "2021-07-08T11:07:37.364Z"
   },
   {
    "duration": 16,
    "start_time": "2021-07-08T11:08:01.819Z"
   },
   {
    "duration": 17,
    "start_time": "2021-07-08T11:09:47.488Z"
   },
   {
    "duration": 246,
    "start_time": "2021-07-08T11:10:00.830Z"
   },
   {
    "duration": 18,
    "start_time": "2021-07-08T11:13:55.195Z"
   },
   {
    "duration": 204,
    "start_time": "2021-07-08T11:14:04.951Z"
   },
   {
    "duration": 19,
    "start_time": "2021-07-08T11:15:10.613Z"
   },
   {
    "duration": 680,
    "start_time": "2021-07-08T11:16:25.793Z"
   },
   {
    "duration": 451,
    "start_time": "2021-07-08T11:16:40.313Z"
   },
   {
    "duration": 469,
    "start_time": "2021-07-08T11:17:21.286Z"
   },
   {
    "duration": 20,
    "start_time": "2021-07-08T11:19:12.554Z"
   },
   {
    "duration": 35,
    "start_time": "2021-07-08T11:20:05.484Z"
   },
   {
    "duration": 53,
    "start_time": "2021-07-08T11:21:40.050Z"
   },
   {
    "duration": 13,
    "start_time": "2021-07-08T11:22:26.059Z"
   },
   {
    "duration": 19,
    "start_time": "2021-07-08T11:22:47.419Z"
   },
   {
    "duration": 25,
    "start_time": "2021-07-08T11:23:19.958Z"
   },
   {
    "duration": 29,
    "start_time": "2021-07-08T11:23:25.415Z"
   },
   {
    "duration": 10,
    "start_time": "2021-07-08T11:24:45.138Z"
   },
   {
    "duration": 19,
    "start_time": "2021-07-08T11:24:54.498Z"
   },
   {
    "duration": 12,
    "start_time": "2021-07-08T11:25:32.225Z"
   },
   {
    "duration": 19,
    "start_time": "2021-07-08T11:25:37.092Z"
   },
   {
    "duration": 17,
    "start_time": "2021-07-08T11:25:58.116Z"
   },
   {
    "duration": 15,
    "start_time": "2021-07-08T11:26:02.258Z"
   },
   {
    "duration": 8,
    "start_time": "2021-07-08T11:26:59.682Z"
   },
   {
    "duration": 184,
    "start_time": "2021-07-08T11:27:21.894Z"
   },
   {
    "duration": 8,
    "start_time": "2021-07-08T11:27:23.824Z"
   },
   {
    "duration": 202,
    "start_time": "2021-07-08T11:27:23.962Z"
   },
   {
    "duration": 360,
    "start_time": "2021-07-08T11:28:33.215Z"
   },
   {
    "duration": 231,
    "start_time": "2021-07-08T11:32:05.542Z"
   },
   {
    "duration": 607,
    "start_time": "2021-07-08T11:36:27.854Z"
   },
   {
    "duration": 241,
    "start_time": "2021-07-08T11:36:28.463Z"
   },
   {
    "duration": 67,
    "start_time": "2021-07-08T11:36:28.709Z"
   },
   {
    "duration": 5,
    "start_time": "2021-07-08T11:36:28.778Z"
   },
   {
    "duration": 32,
    "start_time": "2021-07-08T11:36:28.784Z"
   },
   {
    "duration": 11,
    "start_time": "2021-07-08T11:36:28.819Z"
   },
   {
    "duration": 20,
    "start_time": "2021-07-08T11:36:28.834Z"
   },
   {
    "duration": 36,
    "start_time": "2021-07-08T11:36:28.857Z"
   },
   {
    "duration": 16,
    "start_time": "2021-07-08T11:36:28.895Z"
   },
   {
    "duration": 14,
    "start_time": "2021-07-08T11:36:28.913Z"
   },
   {
    "duration": 9,
    "start_time": "2021-07-08T11:36:28.930Z"
   },
   {
    "duration": 55,
    "start_time": "2021-07-08T11:36:28.941Z"
   },
   {
    "duration": 27,
    "start_time": "2021-07-08T11:36:28.999Z"
   },
   {
    "duration": 30,
    "start_time": "2021-07-08T11:36:29.028Z"
   },
   {
    "duration": 31,
    "start_time": "2021-07-08T11:36:29.060Z"
   },
   {
    "duration": 3,
    "start_time": "2021-07-08T11:36:29.093Z"
   },
   {
    "duration": 12,
    "start_time": "2021-07-08T11:36:29.099Z"
   },
   {
    "duration": 11,
    "start_time": "2021-07-08T11:36:29.112Z"
   },
   {
    "duration": 12,
    "start_time": "2021-07-08T11:36:29.125Z"
   },
   {
    "duration": 9,
    "start_time": "2021-07-08T11:36:29.139Z"
   },
   {
    "duration": 31,
    "start_time": "2021-07-08T11:36:29.191Z"
   },
   {
    "duration": 17,
    "start_time": "2021-07-08T11:36:29.226Z"
   },
   {
    "duration": 7,
    "start_time": "2021-07-08T11:36:29.245Z"
   },
   {
    "duration": 10,
    "start_time": "2021-07-08T11:36:29.254Z"
   },
   {
    "duration": 30,
    "start_time": "2021-07-08T11:36:29.292Z"
   },
   {
    "duration": 11,
    "start_time": "2021-07-08T11:36:29.324Z"
   },
   {
    "duration": 11,
    "start_time": "2021-07-08T11:36:29.337Z"
   },
   {
    "duration": 230,
    "start_time": "2021-07-08T11:36:29.349Z"
   },
   {
    "duration": 13,
    "start_time": "2021-07-08T11:36:29.588Z"
   },
   {
    "duration": 205,
    "start_time": "2021-07-08T11:36:29.603Z"
   },
   {
    "duration": 20,
    "start_time": "2021-07-08T11:36:29.810Z"
   },
   {
    "duration": 9,
    "start_time": "2021-07-08T11:36:29.832Z"
   },
   {
    "duration": 16,
    "start_time": "2021-07-08T11:36:29.843Z"
   },
   {
    "duration": 283,
    "start_time": "2021-07-08T11:36:29.861Z"
   },
   {
    "duration": 50,
    "start_time": "2021-07-08T11:36:30.146Z"
   },
   {
    "duration": 14,
    "start_time": "2021-07-08T11:36:30.198Z"
   },
   {
    "duration": 11,
    "start_time": "2021-07-08T11:36:30.214Z"
   },
   {
    "duration": 245,
    "start_time": "2021-07-08T11:36:30.227Z"
   },
   {
    "duration": 439,
    "start_time": "2021-07-08T11:36:30.474Z"
   },
   {
    "duration": 210,
    "start_time": "2021-07-08T11:36:30.915Z"
   },
   {
    "duration": 15,
    "start_time": "2021-07-08T11:36:31.127Z"
   },
   {
    "duration": 17,
    "start_time": "2021-07-08T11:38:20.451Z"
   },
   {
    "duration": 642,
    "start_time": "2021-07-08T11:46:17.881Z"
   },
   {
    "duration": 210,
    "start_time": "2021-07-08T11:46:18.525Z"
   },
   {
    "duration": 104,
    "start_time": "2021-07-08T11:46:18.741Z"
   },
   {
    "duration": 8,
    "start_time": "2021-07-08T11:46:18.847Z"
   },
   {
    "duration": 25,
    "start_time": "2021-07-08T11:46:18.857Z"
   },
   {
    "duration": 14,
    "start_time": "2021-07-08T11:46:18.884Z"
   },
   {
    "duration": 22,
    "start_time": "2021-07-08T11:46:18.900Z"
   },
   {
    "duration": 5,
    "start_time": "2021-07-08T11:46:18.924Z"
   },
   {
    "duration": 13,
    "start_time": "2021-07-08T11:46:18.931Z"
   },
   {
    "duration": 45,
    "start_time": "2021-07-08T11:46:18.946Z"
   },
   {
    "duration": 12,
    "start_time": "2021-07-08T11:46:18.993Z"
   },
   {
    "duration": 38,
    "start_time": "2021-07-08T11:46:19.006Z"
   },
   {
    "duration": 50,
    "start_time": "2021-07-08T11:46:19.046Z"
   },
   {
    "duration": 29,
    "start_time": "2021-07-08T11:46:19.099Z"
   },
   {
    "duration": 7,
    "start_time": "2021-07-08T11:46:19.130Z"
   },
   {
    "duration": 3,
    "start_time": "2021-07-08T11:46:19.139Z"
   },
   {
    "duration": 11,
    "start_time": "2021-07-08T11:46:19.144Z"
   },
   {
    "duration": 40,
    "start_time": "2021-07-08T11:46:19.157Z"
   },
   {
    "duration": 15,
    "start_time": "2021-07-08T11:46:19.199Z"
   },
   {
    "duration": 10,
    "start_time": "2021-07-08T11:46:19.217Z"
   },
   {
    "duration": 68,
    "start_time": "2021-07-08T11:46:19.230Z"
   },
   {
    "duration": 17,
    "start_time": "2021-07-08T11:46:19.301Z"
   },
   {
    "duration": 7,
    "start_time": "2021-07-08T11:46:19.321Z"
   },
   {
    "duration": 11,
    "start_time": "2021-07-08T11:46:19.330Z"
   },
   {
    "duration": 59,
    "start_time": "2021-07-08T11:46:19.343Z"
   },
   {
    "duration": 17,
    "start_time": "2021-07-08T11:46:19.405Z"
   },
   {
    "duration": 16,
    "start_time": "2021-07-08T11:46:19.424Z"
   },
   {
    "duration": 252,
    "start_time": "2021-07-08T11:46:19.443Z"
   },
   {
    "duration": 9,
    "start_time": "2021-07-08T11:46:19.697Z"
   },
   {
    "duration": 224,
    "start_time": "2021-07-08T11:46:19.708Z"
   },
   {
    "duration": 21,
    "start_time": "2021-07-08T11:46:19.934Z"
   },
   {
    "duration": 9,
    "start_time": "2021-07-08T11:46:19.956Z"
   },
   {
    "duration": 32,
    "start_time": "2021-07-08T11:46:19.967Z"
   },
   {
    "duration": 288,
    "start_time": "2021-07-08T11:46:20.004Z"
   },
   {
    "duration": 23,
    "start_time": "2021-07-08T11:46:20.300Z"
   },
   {
    "duration": 11,
    "start_time": "2021-07-08T11:46:20.325Z"
   },
   {
    "duration": 11,
    "start_time": "2021-07-08T11:46:20.339Z"
   },
   {
    "duration": 259,
    "start_time": "2021-07-08T11:46:20.352Z"
   },
   {
    "duration": 438,
    "start_time": "2021-07-08T11:46:20.613Z"
   },
   {
    "duration": 207,
    "start_time": "2021-07-08T11:46:21.054Z"
   },
   {
    "duration": 27,
    "start_time": "2021-07-08T11:46:21.262Z"
   },
   {
    "duration": 19,
    "start_time": "2021-07-08T11:46:21.291Z"
   },
   {
    "duration": 820,
    "start_time": "2021-07-08T11:49:01.655Z"
   },
   {
    "duration": 372,
    "start_time": "2021-07-08T11:49:02.478Z"
   },
   {
    "duration": 98,
    "start_time": "2021-07-08T11:49:02.853Z"
   },
   {
    "duration": 6,
    "start_time": "2021-07-08T11:49:02.953Z"
   },
   {
    "duration": 39,
    "start_time": "2021-07-08T11:49:02.960Z"
   },
   {
    "duration": 9,
    "start_time": "2021-07-08T11:49:03.003Z"
   },
   {
    "duration": 23,
    "start_time": "2021-07-08T11:49:03.014Z"
   },
   {
    "duration": 6,
    "start_time": "2021-07-08T11:49:03.041Z"
   },
   {
    "duration": 20,
    "start_time": "2021-07-08T11:49:03.049Z"
   },
   {
    "duration": 18,
    "start_time": "2021-07-08T11:49:03.084Z"
   },
   {
    "duration": 14,
    "start_time": "2021-07-08T11:49:03.104Z"
   },
   {
    "duration": 39,
    "start_time": "2021-07-08T11:49:03.119Z"
   },
   {
    "duration": 38,
    "start_time": "2021-07-08T11:49:03.160Z"
   },
   {
    "duration": 26,
    "start_time": "2021-07-08T11:49:03.200Z"
   },
   {
    "duration": 7,
    "start_time": "2021-07-08T11:49:03.227Z"
   },
   {
    "duration": 4,
    "start_time": "2021-07-08T11:49:03.236Z"
   },
   {
    "duration": 15,
    "start_time": "2021-07-08T11:49:03.243Z"
   },
   {
    "duration": 21,
    "start_time": "2021-07-08T11:49:03.285Z"
   },
   {
    "duration": 17,
    "start_time": "2021-07-08T11:49:03.309Z"
   },
   {
    "duration": 10,
    "start_time": "2021-07-08T11:49:03.328Z"
   },
   {
    "duration": 65,
    "start_time": "2021-07-08T11:49:03.340Z"
   },
   {
    "duration": 18,
    "start_time": "2021-07-08T11:49:03.407Z"
   },
   {
    "duration": 8,
    "start_time": "2021-07-08T11:49:03.428Z"
   },
   {
    "duration": 15,
    "start_time": "2021-07-08T11:49:03.438Z"
   },
   {
    "duration": 40,
    "start_time": "2021-07-08T11:49:03.455Z"
   },
   {
    "duration": 12,
    "start_time": "2021-07-08T11:49:03.497Z"
   },
   {
    "duration": 29,
    "start_time": "2021-07-08T11:49:03.511Z"
   },
   {
    "duration": 285,
    "start_time": "2021-07-08T11:49:03.542Z"
   },
   {
    "duration": 8,
    "start_time": "2021-07-08T11:49:03.829Z"
   },
   {
    "duration": 227,
    "start_time": "2021-07-08T11:49:03.838Z"
   },
   {
    "duration": 40,
    "start_time": "2021-07-08T11:49:04.066Z"
   },
   {
    "duration": 10,
    "start_time": "2021-07-08T11:49:04.108Z"
   },
   {
    "duration": 26,
    "start_time": "2021-07-08T11:49:04.121Z"
   },
   {
    "duration": 290,
    "start_time": "2021-07-08T11:49:04.149Z"
   },
   {
    "duration": 26,
    "start_time": "2021-07-08T11:49:04.441Z"
   },
   {
    "duration": 31,
    "start_time": "2021-07-08T11:49:04.470Z"
   },
   {
    "duration": 14,
    "start_time": "2021-07-08T11:49:04.503Z"
   },
   {
    "duration": 259,
    "start_time": "2021-07-08T11:49:04.521Z"
   },
   {
    "duration": 480,
    "start_time": "2021-07-08T11:49:04.782Z"
   },
   {
    "duration": 225,
    "start_time": "2021-07-08T11:49:05.264Z"
   },
   {
    "duration": 22,
    "start_time": "2021-07-08T11:49:05.491Z"
   },
   {
    "duration": 24,
    "start_time": "2021-07-08T11:49:05.515Z"
   },
   {
    "duration": 634,
    "start_time": "2021-07-08T11:52:24.960Z"
   },
   {
    "duration": 199,
    "start_time": "2021-07-08T11:52:25.599Z"
   },
   {
    "duration": 106,
    "start_time": "2021-07-08T11:52:25.803Z"
   },
   {
    "duration": 7,
    "start_time": "2021-07-08T11:52:25.911Z"
   },
   {
    "duration": 29,
    "start_time": "2021-07-08T11:52:25.920Z"
   },
   {
    "duration": 7,
    "start_time": "2021-07-08T11:52:25.951Z"
   },
   {
    "duration": 26,
    "start_time": "2021-07-08T11:52:25.961Z"
   },
   {
    "duration": 11,
    "start_time": "2021-07-08T11:52:25.990Z"
   },
   {
    "duration": 29,
    "start_time": "2021-07-08T11:52:26.005Z"
   },
   {
    "duration": 9,
    "start_time": "2021-07-08T11:52:26.036Z"
   },
   {
    "duration": 8,
    "start_time": "2021-07-08T11:52:26.047Z"
   },
   {
    "duration": 63,
    "start_time": "2021-07-08T11:52:26.057Z"
   },
   {
    "duration": 17,
    "start_time": "2021-07-08T11:52:26.122Z"
   },
   {
    "duration": 43,
    "start_time": "2021-07-08T11:52:26.142Z"
   },
   {
    "duration": 17,
    "start_time": "2021-07-08T11:52:26.187Z"
   },
   {
    "duration": 5,
    "start_time": "2021-07-08T11:52:26.206Z"
   },
   {
    "duration": 12,
    "start_time": "2021-07-08T11:52:26.212Z"
   },
   {
    "duration": 11,
    "start_time": "2021-07-08T11:52:26.226Z"
   },
   {
    "duration": 12,
    "start_time": "2021-07-08T11:52:26.238Z"
   },
   {
    "duration": 38,
    "start_time": "2021-07-08T11:52:26.252Z"
   },
   {
    "duration": 40,
    "start_time": "2021-07-08T11:52:26.292Z"
   },
   {
    "duration": 17,
    "start_time": "2021-07-08T11:52:26.336Z"
   },
   {
    "duration": 39,
    "start_time": "2021-07-08T11:52:26.355Z"
   },
   {
    "duration": 11,
    "start_time": "2021-07-08T11:52:26.395Z"
   },
   {
    "duration": 23,
    "start_time": "2021-07-08T11:52:26.408Z"
   },
   {
    "duration": 12,
    "start_time": "2021-07-08T11:52:26.432Z"
   },
   {
    "duration": 41,
    "start_time": "2021-07-08T11:52:26.446Z"
   },
   {
    "duration": 215,
    "start_time": "2021-07-08T11:52:26.493Z"
   },
   {
    "duration": 8,
    "start_time": "2021-07-08T11:52:26.710Z"
   },
   {
    "duration": 228,
    "start_time": "2021-07-08T11:52:26.720Z"
   },
   {
    "duration": 18,
    "start_time": "2021-07-08T11:52:26.950Z"
   },
   {
    "duration": 35,
    "start_time": "2021-07-08T11:52:26.969Z"
   },
   {
    "duration": 23,
    "start_time": "2021-07-08T11:52:27.006Z"
   },
   {
    "duration": 258,
    "start_time": "2021-07-08T11:52:27.030Z"
   },
   {
    "duration": 24,
    "start_time": "2021-07-08T11:52:27.290Z"
   },
   {
    "duration": 12,
    "start_time": "2021-07-08T11:52:27.316Z"
   },
   {
    "duration": 10,
    "start_time": "2021-07-08T11:52:27.329Z"
   },
   {
    "duration": 298,
    "start_time": "2021-07-08T11:52:27.341Z"
   },
   {
    "duration": 436,
    "start_time": "2021-07-08T11:52:27.641Z"
   },
   {
    "duration": 216,
    "start_time": "2021-07-08T11:52:28.079Z"
   },
   {
    "duration": 20,
    "start_time": "2021-07-08T11:52:28.297Z"
   },
   {
    "duration": 17,
    "start_time": "2021-07-08T11:52:28.319Z"
   },
   {
    "duration": 1235,
    "start_time": "2024-03-12T17:17:26.079Z"
   },
   {
    "duration": 261,
    "start_time": "2024-03-12T17:18:39.948Z"
   },
   {
    "duration": 21,
    "start_time": "2024-03-12T17:18:50.414Z"
   },
   {
    "duration": 16,
    "start_time": "2024-03-12T17:18:55.687Z"
   },
   {
    "duration": 19,
    "start_time": "2024-03-12T17:19:02.111Z"
   },
   {
    "duration": 92,
    "start_time": "2024-03-12T17:20:30.660Z"
   },
   {
    "duration": 10,
    "start_time": "2024-03-12T17:20:40.832Z"
   },
   {
    "duration": 31,
    "start_time": "2024-03-13T17:02:33.913Z"
   },
   {
    "duration": 11,
    "start_time": "2024-03-13T17:02:46.883Z"
   },
   {
    "duration": 4,
    "start_time": "2024-03-13T17:08:06.212Z"
   },
   {
    "duration": 122,
    "start_time": "2024-03-13T17:08:06.218Z"
   },
   {
    "duration": 19,
    "start_time": "2024-03-13T17:08:06.342Z"
   },
   {
    "duration": 28,
    "start_time": "2024-03-13T17:08:06.363Z"
   },
   {
    "duration": 39,
    "start_time": "2024-03-13T17:08:06.393Z"
   },
   {
    "duration": 9,
    "start_time": "2024-03-13T17:08:06.434Z"
   },
   {
    "duration": 25,
    "start_time": "2024-03-13T17:08:06.444Z"
   },
   {
    "duration": 117,
    "start_time": "2024-03-13T17:13:07.076Z"
   },
   {
    "duration": 14,
    "start_time": "2024-03-13T17:14:42.129Z"
   },
   {
    "duration": 16,
    "start_time": "2024-03-13T17:54:27.870Z"
   },
   {
    "duration": 380,
    "start_time": "2024-03-13T17:55:10.780Z"
   },
   {
    "duration": 3,
    "start_time": "2024-03-13T17:55:28.194Z"
   },
   {
    "duration": 96,
    "start_time": "2024-03-13T17:55:28.200Z"
   },
   {
    "duration": 17,
    "start_time": "2024-03-13T17:55:28.298Z"
   },
   {
    "duration": 25,
    "start_time": "2024-03-13T17:55:28.317Z"
   },
   {
    "duration": 416,
    "start_time": "2024-03-13T17:55:28.344Z"
   },
   {
    "duration": 0,
    "start_time": "2024-03-13T17:55:28.762Z"
   },
   {
    "duration": 0,
    "start_time": "2024-03-13T17:55:28.763Z"
   },
   {
    "duration": 0,
    "start_time": "2024-03-13T17:55:28.764Z"
   },
   {
    "duration": 0,
    "start_time": "2024-03-13T17:55:28.765Z"
   },
   {
    "duration": 10,
    "start_time": "2024-03-13T17:56:23.351Z"
   },
   {
    "duration": 10,
    "start_time": "2024-03-13T17:56:33.725Z"
   },
   {
    "duration": 9,
    "start_time": "2024-03-13T17:59:08.689Z"
   },
   {
    "duration": 6,
    "start_time": "2024-03-13T17:59:11.411Z"
   },
   {
    "duration": 49,
    "start_time": "2024-03-13T17:59:15.497Z"
   },
   {
    "duration": 8,
    "start_time": "2024-03-13T17:59:17.132Z"
   },
   {
    "duration": 11,
    "start_time": "2024-03-13T17:59:19.724Z"
   },
   {
    "duration": 16,
    "start_time": "2024-03-13T17:59:22.135Z"
   },
   {
    "duration": 28,
    "start_time": "2024-03-13T18:00:17.389Z"
   },
   {
    "duration": 17,
    "start_time": "2024-03-13T18:01:22.559Z"
   },
   {
    "duration": 12,
    "start_time": "2024-03-13T18:01:37.279Z"
   },
   {
    "duration": 18,
    "start_time": "2024-03-13T18:01:40.176Z"
   },
   {
    "duration": 24,
    "start_time": "2024-03-13T18:02:00.336Z"
   },
   {
    "duration": 7,
    "start_time": "2024-03-13T18:04:42.211Z"
   },
   {
    "duration": 26,
    "start_time": "2024-03-13T18:04:45.117Z"
   },
   {
    "duration": 8,
    "start_time": "2024-03-13T18:05:51.930Z"
   },
   {
    "duration": 37,
    "start_time": "2024-03-13T18:05:55.631Z"
   },
   {
    "duration": 9,
    "start_time": "2024-03-13T18:06:09.148Z"
   },
   {
    "duration": 40,
    "start_time": "2024-03-13T18:06:09.600Z"
   },
   {
    "duration": 3,
    "start_time": "2024-03-13T18:08:10.052Z"
   },
   {
    "duration": 102,
    "start_time": "2024-03-13T18:08:10.057Z"
   },
   {
    "duration": 17,
    "start_time": "2024-03-13T18:08:10.161Z"
   },
   {
    "duration": 26,
    "start_time": "2024-03-13T18:08:10.180Z"
   },
   {
    "duration": 12,
    "start_time": "2024-03-13T18:08:10.208Z"
   },
   {
    "duration": 38,
    "start_time": "2024-03-13T18:08:10.222Z"
   },
   {
    "duration": 14,
    "start_time": "2024-03-13T18:08:10.262Z"
   },
   {
    "duration": 45,
    "start_time": "2024-03-13T18:08:10.277Z"
   },
   {
    "duration": 8,
    "start_time": "2024-03-13T18:08:10.324Z"
   },
   {
    "duration": 15,
    "start_time": "2024-03-13T18:08:10.334Z"
   },
   {
    "duration": 13,
    "start_time": "2024-03-13T18:08:10.352Z"
   },
   {
    "duration": 0,
    "start_time": "2024-03-13T18:08:10.367Z"
   },
   {
    "duration": 0,
    "start_time": "2024-03-13T18:08:10.368Z"
   },
   {
    "duration": 0,
    "start_time": "2024-03-13T18:08:10.370Z"
   },
   {
    "duration": 14,
    "start_time": "2024-03-14T07:55:48.077Z"
   },
   {
    "duration": 14,
    "start_time": "2024-03-14T07:59:17.503Z"
   },
   {
    "duration": 3,
    "start_time": "2024-03-14T07:59:26.907Z"
   },
   {
    "duration": 103,
    "start_time": "2024-03-14T07:59:26.912Z"
   },
   {
    "duration": 17,
    "start_time": "2024-03-14T07:59:27.016Z"
   },
   {
    "duration": 25,
    "start_time": "2024-03-14T07:59:27.035Z"
   },
   {
    "duration": 12,
    "start_time": "2024-03-14T07:59:27.062Z"
   },
   {
    "duration": 30,
    "start_time": "2024-03-14T07:59:27.075Z"
   },
   {
    "duration": 415,
    "start_time": "2024-03-14T07:59:27.106Z"
   },
   {
    "duration": 0,
    "start_time": "2024-03-14T07:59:27.523Z"
   },
   {
    "duration": 0,
    "start_time": "2024-03-14T07:59:27.524Z"
   },
   {
    "duration": 0,
    "start_time": "2024-03-14T07:59:27.525Z"
   },
   {
    "duration": 1,
    "start_time": "2024-03-14T07:59:27.526Z"
   },
   {
    "duration": 0,
    "start_time": "2024-03-14T07:59:27.527Z"
   },
   {
    "duration": 0,
    "start_time": "2024-03-14T07:59:27.528Z"
   },
   {
    "duration": 0,
    "start_time": "2024-03-14T07:59:27.529Z"
   },
   {
    "duration": 4,
    "start_time": "2024-03-14T08:02:31.635Z"
   },
   {
    "duration": 5,
    "start_time": "2024-03-14T08:02:39.698Z"
   },
   {
    "duration": 8,
    "start_time": "2024-03-14T08:04:22.861Z"
   },
   {
    "duration": 8,
    "start_time": "2024-03-14T08:04:35.517Z"
   },
   {
    "duration": 12,
    "start_time": "2024-03-14T08:04:54.654Z"
   },
   {
    "duration": 8,
    "start_time": "2024-03-14T08:09:29.235Z"
   },
   {
    "duration": 10,
    "start_time": "2024-03-14T08:12:00.741Z"
   },
   {
    "duration": 13,
    "start_time": "2024-03-14T08:12:17.553Z"
   },
   {
    "duration": 9,
    "start_time": "2024-03-14T08:12:41.517Z"
   },
   {
    "duration": 5,
    "start_time": "2024-03-14T08:13:37.697Z"
   },
   {
    "duration": 5,
    "start_time": "2024-03-14T08:15:13.370Z"
   },
   {
    "duration": 4,
    "start_time": "2024-03-14T08:15:23.464Z"
   },
   {
    "duration": 18,
    "start_time": "2024-03-14T08:15:37.483Z"
   },
   {
    "duration": 4,
    "start_time": "2024-03-14T08:16:25.919Z"
   },
   {
    "duration": 7,
    "start_time": "2024-03-14T08:16:28.400Z"
   },
   {
    "duration": 9,
    "start_time": "2024-03-14T08:16:43.532Z"
   },
   {
    "duration": 10,
    "start_time": "2024-03-14T08:16:49.945Z"
   },
   {
    "duration": 49,
    "start_time": "2024-03-14T08:17:17.911Z"
   },
   {
    "duration": 8,
    "start_time": "2024-03-14T08:17:18.745Z"
   },
   {
    "duration": 10,
    "start_time": "2024-03-14T08:17:21.729Z"
   },
   {
    "duration": 9,
    "start_time": "2024-03-14T08:17:37.102Z"
   },
   {
    "duration": 3,
    "start_time": "2024-03-14T08:17:37.528Z"
   },
   {
    "duration": 3,
    "start_time": "2024-03-14T08:18:05.718Z"
   },
   {
    "duration": 114,
    "start_time": "2024-03-14T08:18:05.723Z"
   },
   {
    "duration": 18,
    "start_time": "2024-03-14T08:18:05.839Z"
   },
   {
    "duration": 35,
    "start_time": "2024-03-14T08:18:05.859Z"
   },
   {
    "duration": 11,
    "start_time": "2024-03-14T08:18:05.896Z"
   },
   {
    "duration": 20,
    "start_time": "2024-03-14T08:18:05.908Z"
   },
   {
    "duration": 14,
    "start_time": "2024-03-14T08:18:05.930Z"
   },
   {
    "duration": 11,
    "start_time": "2024-03-14T08:18:05.946Z"
   },
   {
    "duration": 6,
    "start_time": "2024-03-14T08:18:05.959Z"
   },
   {
    "duration": 18,
    "start_time": "2024-03-14T08:18:05.967Z"
   },
   {
    "duration": 22,
    "start_time": "2024-03-14T08:18:05.987Z"
   },
   {
    "duration": 50,
    "start_time": "2024-03-14T08:18:06.010Z"
   },
   {
    "duration": 10,
    "start_time": "2024-03-14T08:18:06.062Z"
   },
   {
    "duration": 22,
    "start_time": "2024-03-14T08:18:06.073Z"
   },
   {
    "duration": 25,
    "start_time": "2024-03-14T08:18:06.097Z"
   },
   {
    "duration": 0,
    "start_time": "2024-03-14T08:18:06.123Z"
   },
   {
    "duration": 0,
    "start_time": "2024-03-14T08:18:06.125Z"
   },
   {
    "duration": 0,
    "start_time": "2024-03-14T08:18:06.126Z"
   },
   {
    "duration": 4,
    "start_time": "2024-03-14T08:18:28.387Z"
   },
   {
    "duration": 10,
    "start_time": "2024-03-14T08:18:37.684Z"
   },
   {
    "duration": 4,
    "start_time": "2024-03-14T08:18:46.491Z"
   },
   {
    "duration": 3,
    "start_time": "2024-03-14T08:21:28.281Z"
   },
   {
    "duration": 98,
    "start_time": "2024-03-14T08:21:28.286Z"
   },
   {
    "duration": 24,
    "start_time": "2024-03-14T08:21:28.387Z"
   },
   {
    "duration": 30,
    "start_time": "2024-03-14T08:21:28.413Z"
   },
   {
    "duration": 39,
    "start_time": "2024-03-14T08:21:28.444Z"
   },
   {
    "duration": 8,
    "start_time": "2024-03-14T08:21:28.485Z"
   },
   {
    "duration": 11,
    "start_time": "2024-03-14T08:21:28.495Z"
   },
   {
    "duration": 12,
    "start_time": "2024-03-14T08:21:28.508Z"
   },
   {
    "duration": 18,
    "start_time": "2024-03-14T08:21:28.523Z"
   },
   {
    "duration": 6,
    "start_time": "2024-03-14T08:21:28.543Z"
   },
   {
    "duration": 5,
    "start_time": "2024-03-14T08:21:28.551Z"
   },
   {
    "duration": 36,
    "start_time": "2024-03-14T08:21:28.558Z"
   },
   {
    "duration": 7,
    "start_time": "2024-03-14T08:21:28.596Z"
   },
   {
    "duration": 7,
    "start_time": "2024-03-14T08:21:28.604Z"
   },
   {
    "duration": 17,
    "start_time": "2024-03-14T08:21:28.612Z"
   },
   {
    "duration": 23,
    "start_time": "2024-03-14T08:21:28.631Z"
   },
   {
    "duration": 16,
    "start_time": "2024-03-14T08:21:36.556Z"
   },
   {
    "duration": 5,
    "start_time": "2024-03-14T09:00:54.540Z"
   },
   {
    "duration": 2,
    "start_time": "2024-03-14T09:01:07.642Z"
   },
   {
    "duration": 122,
    "start_time": "2024-03-14T09:01:07.647Z"
   },
   {
    "duration": 16,
    "start_time": "2024-03-14T09:01:07.771Z"
   },
   {
    "duration": 18,
    "start_time": "2024-03-14T09:01:07.790Z"
   },
   {
    "duration": 50,
    "start_time": "2024-03-14T09:01:07.810Z"
   },
   {
    "duration": 8,
    "start_time": "2024-03-14T09:01:07.862Z"
   },
   {
    "duration": 16,
    "start_time": "2024-03-14T09:01:07.871Z"
   },
   {
    "duration": 23,
    "start_time": "2024-03-14T09:01:07.889Z"
   },
   {
    "duration": 22,
    "start_time": "2024-03-14T09:01:07.914Z"
   },
   {
    "duration": 10,
    "start_time": "2024-03-14T09:01:07.937Z"
   },
   {
    "duration": 8,
    "start_time": "2024-03-14T09:01:07.949Z"
   },
   {
    "duration": 14,
    "start_time": "2024-03-14T09:01:07.958Z"
   },
   {
    "duration": 10,
    "start_time": "2024-03-14T09:01:07.974Z"
   },
   {
    "duration": 20,
    "start_time": "2024-03-14T09:01:07.986Z"
   },
   {
    "duration": 38,
    "start_time": "2024-03-14T09:01:08.009Z"
   },
   {
    "duration": 18,
    "start_time": "2024-03-14T09:01:08.048Z"
   },
   {
    "duration": 17,
    "start_time": "2024-03-14T09:09:53.033Z"
   },
   {
    "duration": 3,
    "start_time": "2024-03-14T09:16:17.213Z"
   },
   {
    "duration": 102,
    "start_time": "2024-03-14T09:16:17.218Z"
   },
   {
    "duration": 15,
    "start_time": "2024-03-14T09:16:17.321Z"
   },
   {
    "duration": 39,
    "start_time": "2024-03-14T09:16:17.339Z"
   },
   {
    "duration": 38,
    "start_time": "2024-03-14T09:16:17.380Z"
   },
   {
    "duration": 9,
    "start_time": "2024-03-14T09:16:17.420Z"
   },
   {
    "duration": 24,
    "start_time": "2024-03-14T09:16:17.431Z"
   },
   {
    "duration": 20,
    "start_time": "2024-03-14T09:16:17.457Z"
   },
   {
    "duration": 19,
    "start_time": "2024-03-14T09:16:17.480Z"
   },
   {
    "duration": 24,
    "start_time": "2024-03-14T09:16:17.501Z"
   },
   {
    "duration": 33,
    "start_time": "2024-03-14T09:16:17.526Z"
   },
   {
    "duration": 5,
    "start_time": "2024-03-14T09:16:17.561Z"
   },
   {
    "duration": 6,
    "start_time": "2024-03-14T09:16:17.567Z"
   },
   {
    "duration": 31,
    "start_time": "2024-03-14T09:16:17.575Z"
   },
   {
    "duration": 15,
    "start_time": "2024-03-14T09:16:17.608Z"
   },
   {
    "duration": 15,
    "start_time": "2024-03-14T09:16:17.625Z"
   },
   {
    "duration": 17,
    "start_time": "2024-03-14T09:16:17.642Z"
   },
   {
    "duration": 103,
    "start_time": "2024-03-14T09:23:52.042Z"
   },
   {
    "duration": 9,
    "start_time": "2024-03-14T09:23:56.597Z"
   },
   {
    "duration": 62,
    "start_time": "2024-03-14T09:50:42.243Z"
   },
   {
    "duration": 41,
    "start_time": "2024-03-14T10:02:57.798Z"
   },
   {
    "duration": 29,
    "start_time": "2024-03-14T10:03:18.651Z"
   },
   {
    "duration": 31,
    "start_time": "2024-03-14T10:25:38.639Z"
   },
   {
    "duration": 496,
    "start_time": "2024-03-19T09:26:04.333Z"
   },
   {
    "duration": 57,
    "start_time": "2024-03-20T20:10:09.853Z"
   },
   {
    "duration": 1337,
    "start_time": "2024-03-20T20:10:19.498Z"
   },
   {
    "duration": 203,
    "start_time": "2024-03-20T20:10:20.837Z"
   },
   {
    "duration": 18,
    "start_time": "2024-03-20T20:10:21.041Z"
   },
   {
    "duration": 15,
    "start_time": "2024-03-20T20:10:21.061Z"
   },
   {
    "duration": 83,
    "start_time": "2024-03-20T20:10:21.078Z"
   },
   {
    "duration": 7,
    "start_time": "2024-03-20T20:10:21.163Z"
   },
   {
    "duration": 9,
    "start_time": "2024-03-20T20:10:21.172Z"
   },
   {
    "duration": 14,
    "start_time": "2024-03-20T20:10:21.182Z"
   },
   {
    "duration": 17,
    "start_time": "2024-03-20T20:10:21.198Z"
   },
   {
    "duration": 6,
    "start_time": "2024-03-20T20:10:21.216Z"
   },
   {
    "duration": 4,
    "start_time": "2024-03-20T20:10:21.224Z"
   },
   {
    "duration": 4,
    "start_time": "2024-03-20T20:10:21.229Z"
   },
   {
    "duration": 7,
    "start_time": "2024-03-20T20:10:21.234Z"
   },
   {
    "duration": 5,
    "start_time": "2024-03-20T20:10:21.243Z"
   },
   {
    "duration": 42,
    "start_time": "2024-03-20T20:10:21.249Z"
   },
   {
    "duration": 16,
    "start_time": "2024-03-20T20:10:21.293Z"
   },
   {
    "duration": 14,
    "start_time": "2024-03-20T20:10:21.310Z"
   },
   {
    "duration": 6,
    "start_time": "2024-03-20T20:10:21.326Z"
   },
   {
    "duration": 91,
    "start_time": "2024-03-20T20:10:21.334Z"
   },
   {
    "duration": 476,
    "start_time": "2024-03-20T20:10:21.427Z"
   },
   {
    "duration": 469,
    "start_time": "2024-03-20T20:10:40.149Z"
   },
   {
    "duration": 721,
    "start_time": "2024-03-20T20:10:49.603Z"
   },
   {
    "duration": 747,
    "start_time": "2024-03-20T20:11:16.972Z"
   },
   {
    "duration": 3,
    "start_time": "2024-03-20T20:22:33.356Z"
   },
   {
    "duration": 101,
    "start_time": "2024-03-20T20:22:33.361Z"
   },
   {
    "duration": 15,
    "start_time": "2024-03-20T20:22:33.463Z"
   },
   {
    "duration": 16,
    "start_time": "2024-03-20T20:22:33.479Z"
   },
   {
    "duration": 54,
    "start_time": "2024-03-20T20:22:33.496Z"
   },
   {
    "duration": 9,
    "start_time": "2024-03-20T20:22:33.556Z"
   },
   {
    "duration": 19,
    "start_time": "2024-03-20T20:22:33.567Z"
   },
   {
    "duration": 20,
    "start_time": "2024-03-20T20:22:33.587Z"
   },
   {
    "duration": 19,
    "start_time": "2024-03-20T20:22:33.610Z"
   },
   {
    "duration": 35,
    "start_time": "2024-03-20T20:22:33.630Z"
   },
   {
    "duration": 15,
    "start_time": "2024-03-20T20:22:33.666Z"
   },
   {
    "duration": 15,
    "start_time": "2024-03-20T20:22:33.682Z"
   },
   {
    "duration": 32,
    "start_time": "2024-03-20T20:22:33.699Z"
   },
   {
    "duration": 22,
    "start_time": "2024-03-20T20:22:33.732Z"
   },
   {
    "duration": 28,
    "start_time": "2024-03-20T20:22:33.756Z"
   },
   {
    "duration": 42,
    "start_time": "2024-03-20T20:22:33.786Z"
   },
   {
    "duration": 35,
    "start_time": "2024-03-20T20:22:33.830Z"
   },
   {
    "duration": 36,
    "start_time": "2024-03-20T20:22:33.867Z"
   },
   {
    "duration": 45,
    "start_time": "2024-03-20T20:22:33.905Z"
   },
   {
    "duration": 756,
    "start_time": "2024-03-20T20:22:33.952Z"
   },
   {
    "duration": 4,
    "start_time": "2024-03-20T20:23:19.600Z"
   },
   {
    "duration": 37,
    "start_time": "2024-03-20T20:23:23.690Z"
   },
   {
    "duration": 3864,
    "start_time": "2024-03-20T21:15:31.498Z"
   },
   {
    "duration": 3924,
    "start_time": "2024-03-20T21:15:42.158Z"
   },
   {
    "duration": 24,
    "start_time": "2024-03-20T21:19:25.484Z"
   },
   {
    "duration": 4,
    "start_time": "2024-03-20T21:19:55.478Z"
   },
   {
    "duration": 6,
    "start_time": "2024-03-20T21:21:11.273Z"
   },
   {
    "duration": 8,
    "start_time": "2024-03-20T21:22:54.129Z"
   },
   {
    "duration": 5,
    "start_time": "2024-03-20T21:24:02.545Z"
   },
   {
    "duration": 80,
    "start_time": "2024-03-20T21:39:42.193Z"
   },
   {
    "duration": 77,
    "start_time": "2024-03-20T21:41:27.623Z"
   },
   {
    "duration": 403,
    "start_time": "2024-03-20T21:43:10.137Z"
   },
   {
    "duration": 279,
    "start_time": "2024-03-20T21:43:34.189Z"
   },
   {
    "duration": 292,
    "start_time": "2024-03-20T21:47:03.059Z"
   },
   {
    "duration": 7,
    "start_time": "2024-03-20T21:47:17.288Z"
   },
   {
    "duration": 8,
    "start_time": "2024-03-20T21:47:24.302Z"
   },
   {
    "duration": 5,
    "start_time": "2024-03-20T21:47:34.849Z"
   },
   {
    "duration": 5,
    "start_time": "2024-03-20T21:50:28.925Z"
   },
   {
    "duration": 6,
    "start_time": "2024-03-20T21:50:29.386Z"
   },
   {
    "duration": 12,
    "start_time": "2024-03-20T21:51:21.033Z"
   },
   {
    "duration": 3,
    "start_time": "2024-03-20T21:51:31.313Z"
   },
   {
    "duration": 136,
    "start_time": "2024-03-20T21:51:31.317Z"
   },
   {
    "duration": 15,
    "start_time": "2024-03-20T21:51:31.455Z"
   },
   {
    "duration": 51,
    "start_time": "2024-03-20T21:51:31.481Z"
   },
   {
    "duration": 52,
    "start_time": "2024-03-20T21:51:31.534Z"
   },
   {
    "duration": 8,
    "start_time": "2024-03-20T21:51:31.588Z"
   },
   {
    "duration": 30,
    "start_time": "2024-03-20T21:51:31.598Z"
   },
   {
    "duration": 16,
    "start_time": "2024-03-20T21:51:31.630Z"
   },
   {
    "duration": 27,
    "start_time": "2024-03-20T21:51:31.648Z"
   },
   {
    "duration": 13,
    "start_time": "2024-03-20T21:51:31.677Z"
   },
   {
    "duration": 13,
    "start_time": "2024-03-20T21:51:31.693Z"
   },
   {
    "duration": 21,
    "start_time": "2024-03-20T21:51:31.707Z"
   },
   {
    "duration": 18,
    "start_time": "2024-03-20T21:51:31.730Z"
   },
   {
    "duration": 10,
    "start_time": "2024-03-20T21:51:31.750Z"
   },
   {
    "duration": 16,
    "start_time": "2024-03-20T21:51:31.761Z"
   },
   {
    "duration": 18,
    "start_time": "2024-03-20T21:51:31.778Z"
   },
   {
    "duration": 26,
    "start_time": "2024-03-20T21:51:31.799Z"
   },
   {
    "duration": 12,
    "start_time": "2024-03-20T21:51:31.830Z"
   },
   {
    "duration": 52,
    "start_time": "2024-03-20T21:51:31.844Z"
   },
   {
    "duration": 3856,
    "start_time": "2024-03-20T21:51:31.898Z"
   },
   {
    "duration": 29,
    "start_time": "2024-03-20T21:51:35.756Z"
   },
   {
    "duration": 5,
    "start_time": "2024-03-20T21:51:35.786Z"
   },
   {
    "duration": 10,
    "start_time": "2024-03-20T21:51:35.792Z"
   },
   {
    "duration": 18,
    "start_time": "2024-03-20T21:51:35.803Z"
   },
   {
    "duration": 5,
    "start_time": "2024-03-20T21:51:35.822Z"
   },
   {
    "duration": 281,
    "start_time": "2024-03-20T21:51:35.829Z"
   },
   {
    "duration": 0,
    "start_time": "2024-03-20T21:51:36.112Z"
   },
   {
    "duration": 0,
    "start_time": "2024-03-20T21:51:36.113Z"
   },
   {
    "duration": 9,
    "start_time": "2024-03-20T21:52:04.110Z"
   },
   {
    "duration": 6,
    "start_time": "2024-03-20T21:52:07.144Z"
   },
   {
    "duration": 5,
    "start_time": "2024-03-20T21:52:09.415Z"
   },
   {
    "duration": 10,
    "start_time": "2024-03-20T21:59:02.326Z"
   },
   {
    "duration": 5,
    "start_time": "2024-03-20T21:59:03.847Z"
   },
   {
    "duration": 294,
    "start_time": "2024-03-20T21:59:44.294Z"
   },
   {
    "duration": 270,
    "start_time": "2024-03-20T22:00:20.872Z"
   },
   {
    "duration": 3,
    "start_time": "2024-03-20T22:00:33.337Z"
   },
   {
    "duration": 97,
    "start_time": "2024-03-20T22:00:33.342Z"
   },
   {
    "duration": 15,
    "start_time": "2024-03-20T22:00:33.440Z"
   },
   {
    "duration": 28,
    "start_time": "2024-03-20T22:00:33.457Z"
   },
   {
    "duration": 38,
    "start_time": "2024-03-20T22:00:33.487Z"
   },
   {
    "duration": 7,
    "start_time": "2024-03-20T22:00:33.527Z"
   },
   {
    "duration": 10,
    "start_time": "2024-03-20T22:00:33.535Z"
   },
   {
    "duration": 16,
    "start_time": "2024-03-20T22:00:33.546Z"
   },
   {
    "duration": 17,
    "start_time": "2024-03-20T22:00:33.565Z"
   },
   {
    "duration": 14,
    "start_time": "2024-03-20T22:00:33.584Z"
   },
   {
    "duration": 6,
    "start_time": "2024-03-20T22:00:33.604Z"
   },
   {
    "duration": 5,
    "start_time": "2024-03-20T22:00:33.611Z"
   },
   {
    "duration": 7,
    "start_time": "2024-03-20T22:00:33.618Z"
   },
   {
    "duration": 13,
    "start_time": "2024-03-20T22:00:33.628Z"
   },
   {
    "duration": 48,
    "start_time": "2024-03-20T22:00:33.644Z"
   },
   {
    "duration": 18,
    "start_time": "2024-03-20T22:00:33.694Z"
   },
   {
    "duration": 17,
    "start_time": "2024-03-20T22:00:33.713Z"
   },
   {
    "duration": 4,
    "start_time": "2024-03-20T22:00:33.731Z"
   },
   {
    "duration": 64,
    "start_time": "2024-03-20T22:00:33.737Z"
   },
   {
    "duration": 3923,
    "start_time": "2024-03-20T22:00:33.802Z"
   },
   {
    "duration": 18,
    "start_time": "2024-03-20T22:00:37.727Z"
   },
   {
    "duration": 7,
    "start_time": "2024-03-20T22:00:37.746Z"
   },
   {
    "duration": 30,
    "start_time": "2024-03-20T22:00:37.754Z"
   },
   {
    "duration": 11,
    "start_time": "2024-03-20T22:00:37.789Z"
   },
   {
    "duration": 12,
    "start_time": "2024-03-20T22:00:37.802Z"
   },
   {
    "duration": 20,
    "start_time": "2024-03-20T22:00:37.816Z"
   },
   {
    "duration": 0,
    "start_time": "2024-03-20T22:00:37.838Z"
   },
   {
    "duration": 0,
    "start_time": "2024-03-20T22:00:37.840Z"
   },
   {
    "duration": 7,
    "start_time": "2024-03-20T22:00:58.395Z"
   },
   {
    "duration": 10,
    "start_time": "2024-03-20T22:01:00.332Z"
   },
   {
    "duration": 7,
    "start_time": "2024-03-20T22:01:02.414Z"
   },
   {
    "duration": 15,
    "start_time": "2024-03-20T22:14:22.509Z"
   },
   {
    "duration": 6,
    "start_time": "2024-03-20T22:15:18.481Z"
   },
   {
    "duration": 18,
    "start_time": "2024-03-20T22:15:31.947Z"
   },
   {
    "duration": 10,
    "start_time": "2024-03-20T22:15:51.673Z"
   },
   {
    "duration": 5,
    "start_time": "2024-03-20T22:15:58.804Z"
   },
   {
    "duration": 3,
    "start_time": "2024-03-20T22:17:17.902Z"
   },
   {
    "duration": 131,
    "start_time": "2024-03-20T22:17:17.907Z"
   },
   {
    "duration": 17,
    "start_time": "2024-03-20T22:17:18.041Z"
   },
   {
    "duration": 30,
    "start_time": "2024-03-20T22:17:18.060Z"
   },
   {
    "duration": 57,
    "start_time": "2024-03-20T22:17:18.092Z"
   },
   {
    "duration": 6,
    "start_time": "2024-03-20T22:17:18.151Z"
   },
   {
    "duration": 19,
    "start_time": "2024-03-20T22:17:18.159Z"
   },
   {
    "duration": 16,
    "start_time": "2024-03-20T22:17:18.180Z"
   },
   {
    "duration": 19,
    "start_time": "2024-03-20T22:17:18.198Z"
   },
   {
    "duration": 6,
    "start_time": "2024-03-20T22:17:18.218Z"
   },
   {
    "duration": 5,
    "start_time": "2024-03-20T22:17:18.225Z"
   },
   {
    "duration": 13,
    "start_time": "2024-03-20T22:17:18.231Z"
   },
   {
    "duration": 13,
    "start_time": "2024-03-20T22:17:18.245Z"
   },
   {
    "duration": 24,
    "start_time": "2024-03-20T22:17:18.260Z"
   },
   {
    "duration": 16,
    "start_time": "2024-03-20T22:17:18.286Z"
   },
   {
    "duration": 16,
    "start_time": "2024-03-20T22:17:18.304Z"
   },
   {
    "duration": 39,
    "start_time": "2024-03-20T22:17:18.322Z"
   },
   {
    "duration": 20,
    "start_time": "2024-03-20T22:17:18.362Z"
   },
   {
    "duration": 33,
    "start_time": "2024-03-20T22:17:18.383Z"
   },
   {
    "duration": 3789,
    "start_time": "2024-03-20T22:17:18.418Z"
   },
   {
    "duration": 17,
    "start_time": "2024-03-20T22:17:22.209Z"
   },
   {
    "duration": 7,
    "start_time": "2024-03-20T22:17:22.227Z"
   },
   {
    "duration": 14,
    "start_time": "2024-03-20T22:17:22.235Z"
   },
   {
    "duration": 36,
    "start_time": "2024-03-20T22:17:22.252Z"
   },
   {
    "duration": 7,
    "start_time": "2024-03-20T22:17:22.290Z"
   },
   {
    "duration": 14,
    "start_time": "2024-03-20T22:17:22.299Z"
   },
   {
    "duration": 16,
    "start_time": "2024-03-20T22:17:22.315Z"
   },
   {
    "duration": 13,
    "start_time": "2024-03-20T22:17:22.333Z"
   },
   {
    "duration": 4,
    "start_time": "2024-03-20T22:17:22.348Z"
   },
   {
    "duration": 15,
    "start_time": "2024-03-20T22:17:22.354Z"
   },
   {
    "duration": 20,
    "start_time": "2024-03-20T22:17:22.370Z"
   },
   {
    "duration": 3,
    "start_time": "2024-03-20T22:19:43.364Z"
   },
   {
    "duration": 101,
    "start_time": "2024-03-20T22:19:43.370Z"
   },
   {
    "duration": 14,
    "start_time": "2024-03-20T22:19:43.473Z"
   },
   {
    "duration": 16,
    "start_time": "2024-03-20T22:19:43.489Z"
   },
   {
    "duration": 38,
    "start_time": "2024-03-20T22:19:43.507Z"
   },
   {
    "duration": 7,
    "start_time": "2024-03-20T22:19:43.547Z"
   },
   {
    "duration": 14,
    "start_time": "2024-03-20T22:19:43.556Z"
   },
   {
    "duration": 18,
    "start_time": "2024-03-20T22:19:43.572Z"
   },
   {
    "duration": 20,
    "start_time": "2024-03-20T22:19:43.596Z"
   },
   {
    "duration": 13,
    "start_time": "2024-03-20T22:19:43.617Z"
   },
   {
    "duration": 8,
    "start_time": "2024-03-20T22:19:43.632Z"
   },
   {
    "duration": 10,
    "start_time": "2024-03-20T22:19:43.641Z"
   },
   {
    "duration": 10,
    "start_time": "2024-03-20T22:19:43.652Z"
   },
   {
    "duration": 5,
    "start_time": "2024-03-20T22:19:43.663Z"
   },
   {
    "duration": 16,
    "start_time": "2024-03-20T22:19:43.669Z"
   },
   {
    "duration": 15,
    "start_time": "2024-03-20T22:19:43.687Z"
   },
   {
    "duration": 17,
    "start_time": "2024-03-20T22:19:43.704Z"
   },
   {
    "duration": 5,
    "start_time": "2024-03-20T22:19:43.723Z"
   },
   {
    "duration": 56,
    "start_time": "2024-03-20T22:19:43.729Z"
   },
   {
    "duration": 3895,
    "start_time": "2024-03-20T22:19:43.787Z"
   },
   {
    "duration": 24,
    "start_time": "2024-03-20T22:19:47.684Z"
   },
   {
    "duration": 5,
    "start_time": "2024-03-20T22:19:47.710Z"
   },
   {
    "duration": 7,
    "start_time": "2024-03-20T22:19:47.716Z"
   },
   {
    "duration": 20,
    "start_time": "2024-03-20T22:19:47.726Z"
   },
   {
    "duration": 13,
    "start_time": "2024-03-20T22:19:47.747Z"
   },
   {
    "duration": 27,
    "start_time": "2024-03-20T22:19:47.762Z"
   },
   {
    "duration": 6,
    "start_time": "2024-03-20T22:19:47.790Z"
   },
   {
    "duration": 13,
    "start_time": "2024-03-20T22:19:47.797Z"
   },
   {
    "duration": 5,
    "start_time": "2024-03-20T22:19:47.812Z"
   },
   {
    "duration": 12,
    "start_time": "2024-03-20T22:19:47.818Z"
   },
   {
    "duration": 24,
    "start_time": "2024-03-20T22:21:19.781Z"
   },
   {
    "duration": 18,
    "start_time": "2024-03-20T22:21:24.862Z"
   },
   {
    "duration": 10,
    "start_time": "2024-03-20T22:22:44.019Z"
   },
   {
    "duration": 2,
    "start_time": "2024-03-20T22:25:24.848Z"
   },
   {
    "duration": 92,
    "start_time": "2024-03-20T22:25:24.852Z"
   },
   {
    "duration": 14,
    "start_time": "2024-03-20T22:25:24.945Z"
   },
   {
    "duration": 27,
    "start_time": "2024-03-20T22:25:24.960Z"
   },
   {
    "duration": 50,
    "start_time": "2024-03-20T22:25:24.989Z"
   },
   {
    "duration": 8,
    "start_time": "2024-03-20T22:25:25.041Z"
   },
   {
    "duration": 14,
    "start_time": "2024-03-20T22:25:25.051Z"
   },
   {
    "duration": 13,
    "start_time": "2024-03-20T22:25:25.067Z"
   },
   {
    "duration": 19,
    "start_time": "2024-03-20T22:25:25.081Z"
   },
   {
    "duration": 15,
    "start_time": "2024-03-20T22:25:25.102Z"
   },
   {
    "duration": 6,
    "start_time": "2024-03-20T22:25:25.119Z"
   },
   {
    "duration": 15,
    "start_time": "2024-03-20T22:25:25.127Z"
   },
   {
    "duration": 6,
    "start_time": "2024-03-20T22:25:25.144Z"
   },
   {
    "duration": 8,
    "start_time": "2024-03-20T22:25:25.153Z"
   },
   {
    "duration": 14,
    "start_time": "2024-03-20T22:25:25.163Z"
   },
   {
    "duration": 17,
    "start_time": "2024-03-20T22:25:25.179Z"
   },
   {
    "duration": 16,
    "start_time": "2024-03-20T22:25:25.198Z"
   },
   {
    "duration": 5,
    "start_time": "2024-03-20T22:25:25.215Z"
   },
   {
    "duration": 6,
    "start_time": "2024-03-20T22:25:25.222Z"
   },
   {
    "duration": 4,
    "start_time": "2024-03-20T22:25:25.230Z"
   },
   {
    "duration": 13,
    "start_time": "2024-03-20T22:25:25.236Z"
   },
   {
    "duration": 34,
    "start_time": "2024-03-20T22:25:25.250Z"
   },
   {
    "duration": 7,
    "start_time": "2024-03-20T22:25:25.285Z"
   },
   {
    "duration": 30,
    "start_time": "2024-03-20T22:25:25.293Z"
   },
   {
    "duration": 3639,
    "start_time": "2024-03-20T22:25:25.325Z"
   },
   {
    "duration": 24,
    "start_time": "2024-03-20T22:25:28.966Z"
   },
   {
    "duration": 5,
    "start_time": "2024-03-20T22:25:28.992Z"
   },
   {
    "duration": 8,
    "start_time": "2024-03-20T22:25:28.998Z"
   },
   {
    "duration": 10,
    "start_time": "2024-03-20T22:25:29.007Z"
   },
   {
    "duration": 11,
    "start_time": "2024-03-20T22:25:29.018Z"
   },
   {
    "duration": 52,
    "start_time": "2024-03-20T22:25:29.031Z"
   },
   {
    "duration": 3,
    "start_time": "2024-03-20T22:25:54.467Z"
   },
   {
    "duration": 25,
    "start_time": "2024-03-20T22:29:22.901Z"
   },
   {
    "duration": 9,
    "start_time": "2024-03-20T22:29:53.689Z"
   },
   {
    "duration": 10,
    "start_time": "2024-03-20T22:30:15.404Z"
   },
   {
    "duration": 24,
    "start_time": "2024-03-20T22:30:32.889Z"
   },
   {
    "duration": 6,
    "start_time": "2024-03-20T22:31:15.229Z"
   },
   {
    "duration": 5,
    "start_time": "2024-03-20T22:34:10.075Z"
   },
   {
    "duration": 46,
    "start_time": "2024-03-20T22:35:44.717Z"
   },
   {
    "duration": 46,
    "start_time": "2024-03-20T22:35:53.548Z"
   },
   {
    "duration": 25,
    "start_time": "2024-03-20T22:36:44.765Z"
   },
   {
    "duration": 8,
    "start_time": "2024-03-20T22:38:24.492Z"
   },
   {
    "duration": 17,
    "start_time": "2024-03-20T22:38:47.957Z"
   },
   {
    "duration": 3,
    "start_time": "2024-03-20T22:38:55.908Z"
   },
   {
    "duration": 106,
    "start_time": "2024-03-20T22:38:55.913Z"
   },
   {
    "duration": 14,
    "start_time": "2024-03-20T22:38:56.021Z"
   },
   {
    "duration": 16,
    "start_time": "2024-03-20T22:38:56.036Z"
   },
   {
    "duration": 39,
    "start_time": "2024-03-20T22:38:56.054Z"
   },
   {
    "duration": 9,
    "start_time": "2024-03-20T22:38:56.095Z"
   },
   {
    "duration": 14,
    "start_time": "2024-03-20T22:38:56.106Z"
   },
   {
    "duration": 14,
    "start_time": "2024-03-20T22:38:56.122Z"
   },
   {
    "duration": 15,
    "start_time": "2024-03-20T22:38:56.137Z"
   },
   {
    "duration": 5,
    "start_time": "2024-03-20T22:38:56.154Z"
   },
   {
    "duration": 5,
    "start_time": "2024-03-20T22:38:56.181Z"
   },
   {
    "duration": 13,
    "start_time": "2024-03-20T22:38:56.187Z"
   },
   {
    "duration": 7,
    "start_time": "2024-03-20T22:38:56.201Z"
   },
   {
    "duration": 8,
    "start_time": "2024-03-20T22:38:56.210Z"
   },
   {
    "duration": 20,
    "start_time": "2024-03-20T22:38:56.220Z"
   },
   {
    "duration": 14,
    "start_time": "2024-03-20T22:38:56.242Z"
   },
   {
    "duration": 19,
    "start_time": "2024-03-20T22:38:56.258Z"
   },
   {
    "duration": 4,
    "start_time": "2024-03-20T22:38:56.282Z"
   },
   {
    "duration": 12,
    "start_time": "2024-03-20T22:38:56.287Z"
   },
   {
    "duration": 5,
    "start_time": "2024-03-20T22:38:56.301Z"
   },
   {
    "duration": 21,
    "start_time": "2024-03-20T22:38:56.308Z"
   },
   {
    "duration": 5,
    "start_time": "2024-03-20T22:38:56.331Z"
   },
   {
    "duration": 12,
    "start_time": "2024-03-20T22:38:56.337Z"
   },
   {
    "duration": 6,
    "start_time": "2024-03-20T22:38:56.351Z"
   },
   {
    "duration": 41,
    "start_time": "2024-03-20T22:38:56.359Z"
   },
   {
    "duration": 3488,
    "start_time": "2024-03-20T22:38:56.402Z"
   },
   {
    "duration": 23,
    "start_time": "2024-03-20T22:38:59.892Z"
   },
   {
    "duration": 3,
    "start_time": "2024-03-20T22:38:59.917Z"
   },
   {
    "duration": 21,
    "start_time": "2024-03-20T22:38:59.923Z"
   },
   {
    "duration": 24,
    "start_time": "2024-03-20T22:38:59.946Z"
   },
   {
    "duration": 18,
    "start_time": "2024-03-20T22:38:59.971Z"
   },
   {
    "duration": 50,
    "start_time": "2024-03-20T22:38:59.990Z"
   },
   {
    "duration": 31,
    "start_time": "2024-03-20T22:39:00.042Z"
   },
   {
    "duration": 51,
    "start_time": "2024-03-20T22:39:00.075Z"
   },
   {
    "duration": 52,
    "start_time": "2024-03-20T22:39:00.128Z"
   },
   {
    "duration": 37,
    "start_time": "2024-03-20T22:39:00.182Z"
   },
   {
    "duration": 58,
    "start_time": "2024-03-20T22:39:00.220Z"
   },
   {
    "duration": 99,
    "start_time": "2024-03-20T22:39:00.280Z"
   },
   {
    "duration": 132,
    "start_time": "2024-03-20T22:39:00.381Z"
   },
   {
    "duration": 164,
    "start_time": "2024-03-20T22:39:00.515Z"
   },
   {
    "duration": 88,
    "start_time": "2024-03-20T22:39:00.681Z"
   },
   {
    "duration": 8,
    "start_time": "2024-03-20T22:39:17.654Z"
   },
   {
    "duration": 10,
    "start_time": "2024-03-20T22:39:28.324Z"
   },
   {
    "duration": 28,
    "start_time": "2024-03-20T22:40:34.164Z"
   },
   {
    "duration": 4,
    "start_time": "2024-03-20T22:41:33.256Z"
   },
   {
    "duration": 104,
    "start_time": "2024-03-20T22:41:33.261Z"
   },
   {
    "duration": 23,
    "start_time": "2024-03-20T22:41:33.366Z"
   },
   {
    "duration": 16,
    "start_time": "2024-03-20T22:41:33.391Z"
   },
   {
    "duration": 39,
    "start_time": "2024-03-20T22:41:33.409Z"
   },
   {
    "duration": 8,
    "start_time": "2024-03-20T22:41:33.449Z"
   },
   {
    "duration": 10,
    "start_time": "2024-03-20T22:41:33.459Z"
   },
   {
    "duration": 18,
    "start_time": "2024-03-20T22:41:33.470Z"
   },
   {
    "duration": 18,
    "start_time": "2024-03-20T22:41:33.490Z"
   },
   {
    "duration": 10,
    "start_time": "2024-03-20T22:41:33.510Z"
   },
   {
    "duration": 6,
    "start_time": "2024-03-20T22:41:33.523Z"
   },
   {
    "duration": 6,
    "start_time": "2024-03-20T22:41:33.530Z"
   },
   {
    "duration": 6,
    "start_time": "2024-03-20T22:41:33.537Z"
   },
   {
    "duration": 11,
    "start_time": "2024-03-20T22:41:33.544Z"
   },
   {
    "duration": 34,
    "start_time": "2024-03-20T22:41:33.556Z"
   },
   {
    "duration": 14,
    "start_time": "2024-03-20T22:41:33.592Z"
   },
   {
    "duration": 14,
    "start_time": "2024-03-20T22:41:33.608Z"
   },
   {
    "duration": 3,
    "start_time": "2024-03-20T22:41:33.624Z"
   },
   {
    "duration": 12,
    "start_time": "2024-03-20T22:41:33.629Z"
   },
   {
    "duration": 16,
    "start_time": "2024-03-20T22:41:33.642Z"
   },
   {
    "duration": 23,
    "start_time": "2024-03-20T22:41:33.660Z"
   },
   {
    "duration": 4,
    "start_time": "2024-03-20T22:41:33.685Z"
   },
   {
    "duration": 6,
    "start_time": "2024-03-20T22:41:33.691Z"
   },
   {
    "duration": 5,
    "start_time": "2024-03-20T22:41:33.698Z"
   },
   {
    "duration": 25,
    "start_time": "2024-03-20T22:41:33.705Z"
   },
   {
    "duration": 3715,
    "start_time": "2024-03-20T22:41:33.731Z"
   },
   {
    "duration": 34,
    "start_time": "2024-03-20T22:41:37.449Z"
   },
   {
    "duration": 5,
    "start_time": "2024-03-20T22:41:37.485Z"
   },
   {
    "duration": 9,
    "start_time": "2024-03-20T22:41:37.495Z"
   },
   {
    "duration": 5,
    "start_time": "2024-03-20T22:41:37.506Z"
   },
   {
    "duration": 16,
    "start_time": "2024-03-20T22:41:37.512Z"
   },
   {
    "duration": 62,
    "start_time": "2024-03-20T22:41:37.530Z"
   },
   {
    "duration": 23,
    "start_time": "2024-03-20T22:41:37.594Z"
   },
   {
    "duration": 10,
    "start_time": "2024-03-20T22:41:37.618Z"
   },
   {
    "duration": 15,
    "start_time": "2024-03-20T22:41:37.630Z"
   },
   {
    "duration": 37,
    "start_time": "2024-03-20T22:41:37.646Z"
   },
   {
    "duration": 5,
    "start_time": "2024-03-20T22:41:37.684Z"
   },
   {
    "duration": 11,
    "start_time": "2024-03-20T22:41:37.691Z"
   },
   {
    "duration": 53,
    "start_time": "2024-03-20T22:41:37.703Z"
   },
   {
    "duration": 43,
    "start_time": "2024-03-20T22:41:37.758Z"
   },
   {
    "duration": 5,
    "start_time": "2024-03-20T22:41:37.803Z"
   },
   {
    "duration": 28,
    "start_time": "2024-03-20T22:41:37.809Z"
   },
   {
    "duration": 3,
    "start_time": "2024-03-20T22:44:36.198Z"
   },
   {
    "duration": 111,
    "start_time": "2024-03-20T22:44:36.203Z"
   },
   {
    "duration": 14,
    "start_time": "2024-03-20T22:44:36.316Z"
   },
   {
    "duration": 17,
    "start_time": "2024-03-20T22:44:36.332Z"
   },
   {
    "duration": 55,
    "start_time": "2024-03-20T22:44:36.351Z"
   },
   {
    "duration": 6,
    "start_time": "2024-03-20T22:44:36.408Z"
   },
   {
    "duration": 11,
    "start_time": "2024-03-20T22:44:36.416Z"
   },
   {
    "duration": 13,
    "start_time": "2024-03-20T22:44:36.429Z"
   },
   {
    "duration": 16,
    "start_time": "2024-03-20T22:44:36.445Z"
   },
   {
    "duration": 7,
    "start_time": "2024-03-20T22:44:36.462Z"
   },
   {
    "duration": 14,
    "start_time": "2024-03-20T22:44:36.470Z"
   },
   {
    "duration": 15,
    "start_time": "2024-03-20T22:44:36.485Z"
   },
   {
    "duration": 5,
    "start_time": "2024-03-20T22:44:36.502Z"
   },
   {
    "duration": 4,
    "start_time": "2024-03-20T22:44:36.509Z"
   },
   {
    "duration": 20,
    "start_time": "2024-03-20T22:44:36.514Z"
   },
   {
    "duration": 14,
    "start_time": "2024-03-20T22:44:36.536Z"
   },
   {
    "duration": 39,
    "start_time": "2024-03-20T22:44:36.552Z"
   },
   {
    "duration": 4,
    "start_time": "2024-03-20T22:44:36.593Z"
   },
   {
    "duration": 12,
    "start_time": "2024-03-20T22:44:36.599Z"
   },
   {
    "duration": 5,
    "start_time": "2024-03-20T22:44:36.613Z"
   },
   {
    "duration": 25,
    "start_time": "2024-03-20T22:44:36.619Z"
   },
   {
    "duration": 5,
    "start_time": "2024-03-20T22:44:36.646Z"
   },
   {
    "duration": 33,
    "start_time": "2024-03-20T22:44:36.652Z"
   },
   {
    "duration": 12,
    "start_time": "2024-03-20T22:44:36.689Z"
   },
   {
    "duration": 29,
    "start_time": "2024-03-20T22:44:36.703Z"
   },
   {
    "duration": 3746,
    "start_time": "2024-03-20T22:44:36.733Z"
   },
   {
    "duration": 16,
    "start_time": "2024-03-20T22:44:40.480Z"
   },
   {
    "duration": 4,
    "start_time": "2024-03-20T22:44:40.498Z"
   },
   {
    "duration": 8,
    "start_time": "2024-03-20T22:44:40.503Z"
   },
   {
    "duration": 5,
    "start_time": "2024-03-20T22:44:40.512Z"
   },
   {
    "duration": 13,
    "start_time": "2024-03-20T22:44:40.518Z"
   },
   {
    "duration": 53,
    "start_time": "2024-03-20T22:44:40.532Z"
   },
   {
    "duration": 22,
    "start_time": "2024-03-20T22:44:40.587Z"
   },
   {
    "duration": 9,
    "start_time": "2024-03-20T22:44:40.610Z"
   },
   {
    "duration": 13,
    "start_time": "2024-03-20T22:44:40.620Z"
   },
   {
    "duration": 6,
    "start_time": "2024-03-20T22:44:40.634Z"
   },
   {
    "duration": 7,
    "start_time": "2024-03-20T22:44:40.641Z"
   },
   {
    "duration": 36,
    "start_time": "2024-03-20T22:44:40.650Z"
   },
   {
    "duration": 49,
    "start_time": "2024-03-20T22:44:40.688Z"
   },
   {
    "duration": 20,
    "start_time": "2024-03-20T22:44:40.739Z"
   },
   {
    "duration": 6,
    "start_time": "2024-03-20T22:44:40.781Z"
   },
   {
    "duration": 25,
    "start_time": "2024-03-20T22:44:40.788Z"
   },
   {
    "duration": 1143,
    "start_time": "2024-03-20T22:45:44.758Z"
   },
   {
    "duration": 20,
    "start_time": "2024-03-20T22:45:52.177Z"
   },
   {
    "duration": 1150,
    "start_time": "2024-03-20T22:46:20.751Z"
   },
   {
    "duration": 8,
    "start_time": "2024-03-20T22:46:33.941Z"
   },
   {
    "duration": 30,
    "start_time": "2024-03-20T22:46:53.179Z"
   },
   {
    "duration": 19,
    "start_time": "2024-03-20T22:47:43.400Z"
   },
   {
    "duration": 9,
    "start_time": "2024-03-20T22:49:00.863Z"
   },
   {
    "duration": 3,
    "start_time": "2024-03-20T22:49:49.712Z"
   },
   {
    "duration": 97,
    "start_time": "2024-03-20T22:49:49.716Z"
   },
   {
    "duration": 14,
    "start_time": "2024-03-20T22:49:49.814Z"
   },
   {
    "duration": 17,
    "start_time": "2024-03-20T22:49:49.829Z"
   },
   {
    "duration": 38,
    "start_time": "2024-03-20T22:49:49.848Z"
   },
   {
    "duration": 7,
    "start_time": "2024-03-20T22:49:49.888Z"
   },
   {
    "duration": 14,
    "start_time": "2024-03-20T22:49:49.896Z"
   },
   {
    "duration": 15,
    "start_time": "2024-03-20T22:49:49.912Z"
   },
   {
    "duration": 24,
    "start_time": "2024-03-20T22:49:49.929Z"
   },
   {
    "duration": 4,
    "start_time": "2024-03-20T22:49:49.954Z"
   },
   {
    "duration": 3,
    "start_time": "2024-03-20T22:49:49.961Z"
   },
   {
    "duration": 6,
    "start_time": "2024-03-20T22:49:49.981Z"
   },
   {
    "duration": 11,
    "start_time": "2024-03-20T22:49:49.988Z"
   },
   {
    "duration": 17,
    "start_time": "2024-03-20T22:49:50.001Z"
   },
   {
    "duration": 22,
    "start_time": "2024-03-20T22:49:50.020Z"
   },
   {
    "duration": 13,
    "start_time": "2024-03-20T22:49:50.044Z"
   },
   {
    "duration": 14,
    "start_time": "2024-03-20T22:49:50.059Z"
   },
   {
    "duration": 3,
    "start_time": "2024-03-20T22:49:50.074Z"
   },
   {
    "duration": 11,
    "start_time": "2024-03-20T22:49:50.078Z"
   },
   {
    "duration": 6,
    "start_time": "2024-03-20T22:49:50.090Z"
   },
   {
    "duration": 12,
    "start_time": "2024-03-20T22:49:50.097Z"
   },
   {
    "duration": 4,
    "start_time": "2024-03-20T22:49:50.111Z"
   },
   {
    "duration": 6,
    "start_time": "2024-03-20T22:49:50.116Z"
   },
   {
    "duration": 9,
    "start_time": "2024-03-20T22:49:50.124Z"
   },
   {
    "duration": 50,
    "start_time": "2024-03-20T22:49:50.134Z"
   },
   {
    "duration": 3532,
    "start_time": "2024-03-20T22:49:50.186Z"
   },
   {
    "duration": 14,
    "start_time": "2024-03-20T22:49:53.720Z"
   },
   {
    "duration": 4,
    "start_time": "2024-03-20T22:49:53.735Z"
   },
   {
    "duration": 5,
    "start_time": "2024-03-20T22:49:53.742Z"
   },
   {
    "duration": 5,
    "start_time": "2024-03-20T22:49:53.749Z"
   },
   {
    "duration": 32,
    "start_time": "2024-03-20T22:49:53.755Z"
   },
   {
    "duration": 24,
    "start_time": "2024-03-20T22:49:53.788Z"
   },
   {
    "duration": 29,
    "start_time": "2024-03-20T22:49:53.814Z"
   },
   {
    "duration": 12,
    "start_time": "2024-03-20T22:49:53.844Z"
   },
   {
    "duration": 16,
    "start_time": "2024-03-20T22:49:53.881Z"
   },
   {
    "duration": 25,
    "start_time": "2024-03-20T22:49:53.898Z"
   },
   {
    "duration": 6,
    "start_time": "2024-03-20T22:49:53.924Z"
   },
   {
    "duration": 6,
    "start_time": "2024-03-20T22:49:53.932Z"
   },
   {
    "duration": 57,
    "start_time": "2024-03-20T22:49:53.939Z"
   },
   {
    "duration": 20,
    "start_time": "2024-03-20T22:49:53.998Z"
   },
   {
    "duration": 7,
    "start_time": "2024-03-20T22:49:54.019Z"
   },
   {
    "duration": 24,
    "start_time": "2024-03-20T22:49:54.028Z"
   },
   {
    "duration": 37,
    "start_time": "2024-03-20T22:49:54.054Z"
   },
   {
    "duration": 15,
    "start_time": "2024-03-20T22:49:54.092Z"
   },
   {
    "duration": 23,
    "start_time": "2024-03-20T22:49:54.108Z"
   },
   {
    "duration": 18,
    "start_time": "2024-03-20T22:49:54.132Z"
   },
   {
    "duration": 174,
    "start_time": "2024-03-20T22:49:54.152Z"
   },
   {
    "duration": 1194,
    "start_time": "2024-03-20T22:50:21.283Z"
   },
   {
    "duration": 257,
    "start_time": "2024-03-20T22:50:35.226Z"
   },
   {
    "duration": 132,
    "start_time": "2024-03-20T23:05:43.858Z"
   },
   {
    "duration": 127,
    "start_time": "2024-03-20T23:05:46.854Z"
   },
   {
    "duration": 137,
    "start_time": "2024-03-20T23:05:59.471Z"
   },
   {
    "duration": 5,
    "start_time": "2024-03-20T23:07:11.983Z"
   },
   {
    "duration": 11,
    "start_time": "2024-03-20T23:07:33.051Z"
   },
   {
    "duration": 3,
    "start_time": "2024-03-20T23:07:43.825Z"
   },
   {
    "duration": 1160,
    "start_time": "2024-03-20T23:08:12.515Z"
   },
   {
    "duration": 5,
    "start_time": "2024-03-20T23:08:19.040Z"
   },
   {
    "duration": 15,
    "start_time": "2024-03-20T23:08:34.836Z"
   },
   {
    "duration": 15,
    "start_time": "2024-03-20T23:08:45.009Z"
   },
   {
    "duration": 14,
    "start_time": "2024-03-20T23:09:48.760Z"
   },
   {
    "duration": 18,
    "start_time": "2024-03-20T23:11:09.337Z"
   },
   {
    "duration": 4,
    "start_time": "2024-03-20T23:12:17.351Z"
   },
   {
    "duration": 70,
    "start_time": "2024-03-20T23:12:46.955Z"
   },
   {
    "duration": 176,
    "start_time": "2024-03-20T23:13:04.183Z"
   },
   {
    "duration": 183,
    "start_time": "2024-03-20T23:13:44.460Z"
   },
   {
    "duration": 4,
    "start_time": "2024-03-20T23:14:12.572Z"
   },
   {
    "duration": 210,
    "start_time": "2024-03-20T23:15:11.592Z"
   },
   {
    "duration": 220,
    "start_time": "2024-03-20T23:15:14.775Z"
   },
   {
    "duration": 301,
    "start_time": "2024-03-20T23:16:22.143Z"
   },
   {
    "duration": 319,
    "start_time": "2024-03-20T23:17:16.240Z"
   },
   {
    "duration": 319,
    "start_time": "2024-03-20T23:17:24.368Z"
   },
   {
    "duration": 20,
    "start_time": "2024-03-20T23:17:47.575Z"
   },
   {
    "duration": 1122,
    "start_time": "2024-03-20T23:20:30.687Z"
   },
   {
    "duration": 4,
    "start_time": "2024-03-20T23:20:37.597Z"
   },
   {
    "duration": 404,
    "start_time": "2024-03-20T23:21:06.495Z"
   },
   {
    "duration": 471,
    "start_time": "2024-03-20T23:21:41.645Z"
   },
   {
    "duration": 1181,
    "start_time": "2024-03-20T23:22:32.330Z"
   },
   {
    "duration": 7,
    "start_time": "2024-03-20T23:22:41.226Z"
   },
   {
    "duration": 323,
    "start_time": "2024-03-20T23:23:21.658Z"
   },
   {
    "duration": 322,
    "start_time": "2024-03-20T23:23:59.652Z"
   },
   {
    "duration": 403,
    "start_time": "2024-03-20T23:25:03.679Z"
   },
   {
    "duration": 4,
    "start_time": "2024-03-20T23:33:04.336Z"
   },
   {
    "duration": 97,
    "start_time": "2024-03-20T23:33:04.342Z"
   },
   {
    "duration": 14,
    "start_time": "2024-03-20T23:33:04.440Z"
   },
   {
    "duration": 38,
    "start_time": "2024-03-20T23:33:04.456Z"
   },
   {
    "duration": 38,
    "start_time": "2024-03-20T23:33:04.496Z"
   },
   {
    "duration": 6,
    "start_time": "2024-03-20T23:33:04.536Z"
   },
   {
    "duration": 10,
    "start_time": "2024-03-20T23:33:04.544Z"
   },
   {
    "duration": 26,
    "start_time": "2024-03-20T23:33:04.555Z"
   },
   {
    "duration": 17,
    "start_time": "2024-03-20T23:33:04.583Z"
   },
   {
    "duration": 5,
    "start_time": "2024-03-20T23:33:04.602Z"
   },
   {
    "duration": 4,
    "start_time": "2024-03-20T23:33:04.610Z"
   },
   {
    "duration": 6,
    "start_time": "2024-03-20T23:33:04.615Z"
   },
   {
    "duration": 6,
    "start_time": "2024-03-20T23:33:04.623Z"
   },
   {
    "duration": 8,
    "start_time": "2024-03-20T23:33:04.630Z"
   },
   {
    "duration": 47,
    "start_time": "2024-03-20T23:33:04.639Z"
   },
   {
    "duration": 13,
    "start_time": "2024-03-20T23:33:04.687Z"
   },
   {
    "duration": 16,
    "start_time": "2024-03-20T23:33:04.702Z"
   },
   {
    "duration": 4,
    "start_time": "2024-03-20T23:33:04.719Z"
   },
   {
    "duration": 6,
    "start_time": "2024-03-20T23:33:04.725Z"
   },
   {
    "duration": 4,
    "start_time": "2024-03-20T23:33:04.733Z"
   },
   {
    "duration": 49,
    "start_time": "2024-03-20T23:33:04.739Z"
   },
   {
    "duration": 5,
    "start_time": "2024-03-20T23:33:04.789Z"
   },
   {
    "duration": 5,
    "start_time": "2024-03-20T23:33:04.795Z"
   },
   {
    "duration": 7,
    "start_time": "2024-03-20T23:33:04.802Z"
   },
   {
    "duration": 29,
    "start_time": "2024-03-20T23:33:04.810Z"
   },
   {
    "duration": 15,
    "start_time": "2024-03-20T23:33:04.841Z"
   },
   {
    "duration": 0,
    "start_time": "2024-03-20T23:33:04.882Z"
   },
   {
    "duration": 0,
    "start_time": "2024-03-20T23:33:04.883Z"
   },
   {
    "duration": 0,
    "start_time": "2024-03-20T23:33:04.884Z"
   },
   {
    "duration": 0,
    "start_time": "2024-03-20T23:33:04.885Z"
   },
   {
    "duration": 0,
    "start_time": "2024-03-20T23:33:04.886Z"
   },
   {
    "duration": 0,
    "start_time": "2024-03-20T23:33:04.887Z"
   },
   {
    "duration": 0,
    "start_time": "2024-03-20T23:33:04.888Z"
   },
   {
    "duration": 0,
    "start_time": "2024-03-20T23:33:04.889Z"
   },
   {
    "duration": 0,
    "start_time": "2024-03-20T23:33:04.890Z"
   },
   {
    "duration": 0,
    "start_time": "2024-03-20T23:33:04.892Z"
   },
   {
    "duration": 0,
    "start_time": "2024-03-20T23:33:04.892Z"
   },
   {
    "duration": 0,
    "start_time": "2024-03-20T23:33:04.893Z"
   },
   {
    "duration": 0,
    "start_time": "2024-03-20T23:33:04.895Z"
   },
   {
    "duration": 0,
    "start_time": "2024-03-20T23:33:04.896Z"
   },
   {
    "duration": 0,
    "start_time": "2024-03-20T23:33:04.897Z"
   },
   {
    "duration": 0,
    "start_time": "2024-03-20T23:33:04.898Z"
   },
   {
    "duration": 0,
    "start_time": "2024-03-20T23:33:04.899Z"
   },
   {
    "duration": 0,
    "start_time": "2024-03-20T23:33:04.900Z"
   },
   {
    "duration": 0,
    "start_time": "2024-03-20T23:33:04.901Z"
   },
   {
    "duration": 0,
    "start_time": "2024-03-20T23:33:04.903Z"
   },
   {
    "duration": 0,
    "start_time": "2024-03-20T23:33:04.904Z"
   },
   {
    "duration": 0,
    "start_time": "2024-03-20T23:33:04.905Z"
   },
   {
    "duration": 0,
    "start_time": "2024-03-20T23:33:04.906Z"
   },
   {
    "duration": 0,
    "start_time": "2024-03-20T23:33:04.907Z"
   },
   {
    "duration": 0,
    "start_time": "2024-03-20T23:33:04.908Z"
   },
   {
    "duration": 0,
    "start_time": "2024-03-20T23:33:04.909Z"
   },
   {
    "duration": 0,
    "start_time": "2024-03-20T23:33:04.910Z"
   },
   {
    "duration": 0,
    "start_time": "2024-03-20T23:33:04.910Z"
   },
   {
    "duration": 0,
    "start_time": "2024-03-20T23:33:04.911Z"
   },
   {
    "duration": 0,
    "start_time": "2024-03-20T23:33:04.912Z"
   },
   {
    "duration": 0,
    "start_time": "2024-03-20T23:33:04.914Z"
   },
   {
    "duration": 0,
    "start_time": "2024-03-20T23:33:04.915Z"
   },
   {
    "duration": 0,
    "start_time": "2024-03-20T23:33:04.916Z"
   },
   {
    "duration": 0,
    "start_time": "2024-03-20T23:33:04.917Z"
   },
   {
    "duration": 0,
    "start_time": "2024-03-20T23:33:04.918Z"
   },
   {
    "duration": 0,
    "start_time": "2024-03-20T23:33:04.919Z"
   },
   {
    "duration": 0,
    "start_time": "2024-03-20T23:33:04.920Z"
   },
   {
    "duration": 0,
    "start_time": "2024-03-20T23:33:04.983Z"
   },
   {
    "duration": 0,
    "start_time": "2024-03-20T23:33:04.984Z"
   },
   {
    "duration": 0,
    "start_time": "2024-03-20T23:33:04.985Z"
   },
   {
    "duration": 0,
    "start_time": "2024-03-20T23:33:04.986Z"
   },
   {
    "duration": 0,
    "start_time": "2024-03-20T23:33:04.987Z"
   },
   {
    "duration": 0,
    "start_time": "2024-03-20T23:33:04.988Z"
   },
   {
    "duration": 3548,
    "start_time": "2024-03-20T23:33:25.693Z"
   },
   {
    "duration": 3528,
    "start_time": "2024-03-20T23:35:50.978Z"
   },
   {
    "duration": 3492,
    "start_time": "2024-03-20T23:36:24.918Z"
   },
   {
    "duration": 3611,
    "start_time": "2024-03-20T23:39:09.310Z"
   },
   {
    "duration": 3543,
    "start_time": "2024-03-20T23:40:40.565Z"
   },
   {
    "duration": 3544,
    "start_time": "2024-03-20T23:40:51.278Z"
   },
   {
    "duration": 27,
    "start_time": "2024-03-20T23:40:54.824Z"
   },
   {
    "duration": 4,
    "start_time": "2024-03-20T23:40:54.853Z"
   },
   {
    "duration": 9,
    "start_time": "2024-03-20T23:40:54.859Z"
   },
   {
    "duration": 14,
    "start_time": "2024-03-20T23:40:54.869Z"
   },
   {
    "duration": 13,
    "start_time": "2024-03-20T23:40:54.884Z"
   },
   {
    "duration": 24,
    "start_time": "2024-03-20T23:40:54.899Z"
   },
   {
    "duration": 23,
    "start_time": "2024-03-20T23:40:54.924Z"
   },
   {
    "duration": 35,
    "start_time": "2024-03-20T23:40:54.949Z"
   },
   {
    "duration": 14,
    "start_time": "2024-03-20T23:40:54.986Z"
   },
   {
    "duration": 8,
    "start_time": "2024-03-20T23:40:55.002Z"
   },
   {
    "duration": 5,
    "start_time": "2024-03-20T23:40:55.012Z"
   },
   {
    "duration": 6,
    "start_time": "2024-03-20T23:40:55.018Z"
   },
   {
    "duration": 84,
    "start_time": "2024-03-20T23:40:55.026Z"
   },
   {
    "duration": 20,
    "start_time": "2024-03-20T23:40:55.112Z"
   },
   {
    "duration": 6,
    "start_time": "2024-03-20T23:40:55.133Z"
   },
   {
    "duration": 51,
    "start_time": "2024-03-20T23:40:55.140Z"
   },
   {
    "duration": 20,
    "start_time": "2024-03-20T23:40:55.193Z"
   },
   {
    "duration": 8,
    "start_time": "2024-03-20T23:40:55.215Z"
   },
   {
    "duration": 30,
    "start_time": "2024-03-20T23:40:55.225Z"
   },
   {
    "duration": 35,
    "start_time": "2024-03-20T23:40:55.257Z"
   },
   {
    "duration": 159,
    "start_time": "2024-03-20T23:40:55.294Z"
   },
   {
    "duration": 155,
    "start_time": "2024-03-20T23:40:55.455Z"
   },
   {
    "duration": 136,
    "start_time": "2024-03-20T23:40:55.612Z"
   },
   {
    "duration": 145,
    "start_time": "2024-03-20T23:40:55.749Z"
   },
   {
    "duration": 5,
    "start_time": "2024-03-20T23:40:55.895Z"
   },
   {
    "duration": 17,
    "start_time": "2024-03-20T23:40:55.901Z"
   },
   {
    "duration": 3,
    "start_time": "2024-03-20T23:40:55.921Z"
   },
   {
    "duration": 8,
    "start_time": "2024-03-20T23:40:55.925Z"
   },
   {
    "duration": 15,
    "start_time": "2024-03-20T23:40:55.934Z"
   },
   {
    "duration": 41,
    "start_time": "2024-03-20T23:40:55.951Z"
   },
   {
    "duration": 17,
    "start_time": "2024-03-20T23:40:55.994Z"
   },
   {
    "duration": 7,
    "start_time": "2024-03-20T23:40:56.013Z"
   },
   {
    "duration": 189,
    "start_time": "2024-03-20T23:40:56.021Z"
   },
   {
    "duration": 4,
    "start_time": "2024-03-20T23:40:56.212Z"
   },
   {
    "duration": 216,
    "start_time": "2024-03-20T23:40:56.217Z"
   },
   {
    "duration": 306,
    "start_time": "2024-03-20T23:40:56.435Z"
   },
   {
    "duration": 18,
    "start_time": "2024-03-20T23:40:56.743Z"
   },
   {
    "duration": 4,
    "start_time": "2024-03-20T23:40:56.762Z"
   },
   {
    "duration": 369,
    "start_time": "2024-03-20T23:40:56.781Z"
   },
   {
    "duration": 480,
    "start_time": "2024-03-20T23:40:57.152Z"
   },
   {
    "duration": 7,
    "start_time": "2024-03-20T23:40:57.634Z"
   },
   {
    "duration": 320,
    "start_time": "2024-03-20T23:40:57.642Z"
   },
   {
    "duration": 392,
    "start_time": "2024-03-20T23:40:57.964Z"
   },
   {
    "duration": 3,
    "start_time": "2024-03-20T23:59:15.201Z"
   },
   {
    "duration": 115,
    "start_time": "2024-03-20T23:59:15.206Z"
   },
   {
    "duration": 14,
    "start_time": "2024-03-20T23:59:15.322Z"
   },
   {
    "duration": 26,
    "start_time": "2024-03-20T23:59:15.337Z"
   },
   {
    "duration": 58,
    "start_time": "2024-03-20T23:59:15.365Z"
   },
   {
    "duration": 6,
    "start_time": "2024-03-20T23:59:15.425Z"
   },
   {
    "duration": 62,
    "start_time": "2024-03-20T23:59:15.433Z"
   },
   {
    "duration": 24,
    "start_time": "2024-03-20T23:59:15.497Z"
   },
   {
    "duration": 20,
    "start_time": "2024-03-20T23:59:15.522Z"
   },
   {
    "duration": 9,
    "start_time": "2024-03-20T23:59:15.544Z"
   },
   {
    "duration": 33,
    "start_time": "2024-03-20T23:59:15.555Z"
   },
   {
    "duration": 15,
    "start_time": "2024-03-20T23:59:15.591Z"
   },
   {
    "duration": 26,
    "start_time": "2024-03-20T23:59:15.607Z"
   },
   {
    "duration": 15,
    "start_time": "2024-03-20T23:59:15.635Z"
   },
   {
    "duration": 48,
    "start_time": "2024-03-20T23:59:15.652Z"
   },
   {
    "duration": 13,
    "start_time": "2024-03-20T23:59:15.702Z"
   },
   {
    "duration": 30,
    "start_time": "2024-03-20T23:59:15.717Z"
   },
   {
    "duration": 5,
    "start_time": "2024-03-20T23:59:15.749Z"
   },
   {
    "duration": 11,
    "start_time": "2024-03-20T23:59:15.755Z"
   },
   {
    "duration": 22,
    "start_time": "2024-03-20T23:59:15.768Z"
   },
   {
    "duration": 18,
    "start_time": "2024-03-20T23:59:15.792Z"
   },
   {
    "duration": 11,
    "start_time": "2024-03-20T23:59:15.812Z"
   },
   {
    "duration": 6,
    "start_time": "2024-03-20T23:59:15.825Z"
   },
   {
    "duration": 8,
    "start_time": "2024-03-20T23:59:15.832Z"
   },
   {
    "duration": 28,
    "start_time": "2024-03-20T23:59:15.842Z"
   },
   {
    "duration": 3841,
    "start_time": "2024-03-20T23:59:15.881Z"
   },
   {
    "duration": 17,
    "start_time": "2024-03-20T23:59:19.723Z"
   },
   {
    "duration": 4,
    "start_time": "2024-03-20T23:59:19.742Z"
   },
   {
    "duration": 6,
    "start_time": "2024-03-20T23:59:19.751Z"
   },
   {
    "duration": 27,
    "start_time": "2024-03-20T23:59:19.759Z"
   },
   {
    "duration": 21,
    "start_time": "2024-03-20T23:59:19.788Z"
   },
   {
    "duration": 24,
    "start_time": "2024-03-20T23:59:19.811Z"
   },
   {
    "duration": 27,
    "start_time": "2024-03-20T23:59:19.836Z"
   },
   {
    "duration": 35,
    "start_time": "2024-03-20T23:59:19.865Z"
   },
   {
    "duration": 35,
    "start_time": "2024-03-20T23:59:19.902Z"
   },
   {
    "duration": 8,
    "start_time": "2024-03-20T23:59:19.938Z"
   },
   {
    "duration": 6,
    "start_time": "2024-03-20T23:59:19.947Z"
   },
   {
    "duration": 23,
    "start_time": "2024-03-20T23:59:19.954Z"
   },
   {
    "duration": 65,
    "start_time": "2024-03-20T23:59:19.978Z"
   },
   {
    "duration": 20,
    "start_time": "2024-03-20T23:59:20.044Z"
   },
   {
    "duration": 19,
    "start_time": "2024-03-20T23:59:20.066Z"
   },
   {
    "duration": 38,
    "start_time": "2024-03-20T23:59:20.087Z"
   },
   {
    "duration": 19,
    "start_time": "2024-03-20T23:59:20.126Z"
   },
   {
    "duration": 7,
    "start_time": "2024-03-20T23:59:20.147Z"
   },
   {
    "duration": 43,
    "start_time": "2024-03-20T23:59:20.156Z"
   },
   {
    "duration": 19,
    "start_time": "2024-03-20T23:59:20.201Z"
   },
   {
    "duration": 175,
    "start_time": "2024-03-20T23:59:20.222Z"
   },
   {
    "duration": 168,
    "start_time": "2024-03-20T23:59:20.399Z"
   },
   {
    "duration": 152,
    "start_time": "2024-03-20T23:59:20.569Z"
   },
   {
    "duration": 152,
    "start_time": "2024-03-20T23:59:20.722Z"
   },
   {
    "duration": 6,
    "start_time": "2024-03-20T23:59:20.881Z"
   },
   {
    "duration": 16,
    "start_time": "2024-03-20T23:59:20.889Z"
   },
   {
    "duration": 3,
    "start_time": "2024-03-20T23:59:20.906Z"
   },
   {
    "duration": 5,
    "start_time": "2024-03-20T23:59:20.911Z"
   },
   {
    "duration": 15,
    "start_time": "2024-03-20T23:59:20.917Z"
   },
   {
    "duration": 57,
    "start_time": "2024-03-20T23:59:20.934Z"
   },
   {
    "duration": 17,
    "start_time": "2024-03-20T23:59:20.997Z"
   },
   {
    "duration": 13,
    "start_time": "2024-03-20T23:59:21.016Z"
   },
   {
    "duration": 196,
    "start_time": "2024-03-20T23:59:21.030Z"
   },
   {
    "duration": 4,
    "start_time": "2024-03-20T23:59:21.227Z"
   },
   {
    "duration": 211,
    "start_time": "2024-03-20T23:59:21.233Z"
   },
   {
    "duration": 413,
    "start_time": "2024-03-20T23:59:21.446Z"
   },
   {
    "duration": 40,
    "start_time": "2024-03-20T23:59:21.861Z"
   },
   {
    "duration": 5,
    "start_time": "2024-03-20T23:59:21.903Z"
   },
   {
    "duration": 424,
    "start_time": "2024-03-20T23:59:21.909Z"
   },
   {
    "duration": 422,
    "start_time": "2024-03-20T23:59:22.335Z"
   },
   {
    "duration": 6,
    "start_time": "2024-03-20T23:59:22.758Z"
   },
   {
    "duration": 332,
    "start_time": "2024-03-20T23:59:22.766Z"
   },
   {
    "duration": 437,
    "start_time": "2024-03-20T23:59:23.100Z"
   },
   {
    "duration": 1385,
    "start_time": "2024-03-21T19:44:09.819Z"
   },
   {
    "duration": 270,
    "start_time": "2024-03-21T19:44:11.206Z"
   },
   {
    "duration": 18,
    "start_time": "2024-03-21T19:44:11.477Z"
   },
   {
    "duration": 20,
    "start_time": "2024-03-21T19:44:11.497Z"
   },
   {
    "duration": 83,
    "start_time": "2024-03-21T19:44:11.519Z"
   },
   {
    "duration": 7,
    "start_time": "2024-03-21T19:44:11.604Z"
   },
   {
    "duration": 11,
    "start_time": "2024-03-21T19:44:11.612Z"
   },
   {
    "duration": 10,
    "start_time": "2024-03-21T19:44:11.625Z"
   },
   {
    "duration": 17,
    "start_time": "2024-03-21T19:44:11.637Z"
   },
   {
    "duration": 4,
    "start_time": "2024-03-21T19:44:11.657Z"
   },
   {
    "duration": 4,
    "start_time": "2024-03-21T19:44:11.662Z"
   },
   {
    "duration": 4,
    "start_time": "2024-03-21T19:44:11.679Z"
   },
   {
    "duration": 7,
    "start_time": "2024-03-21T19:44:11.685Z"
   },
   {
    "duration": 6,
    "start_time": "2024-03-21T19:44:11.693Z"
   },
   {
    "duration": 17,
    "start_time": "2024-03-21T19:44:11.700Z"
   },
   {
    "duration": 14,
    "start_time": "2024-03-21T19:44:11.719Z"
   },
   {
    "duration": 45,
    "start_time": "2024-03-21T19:44:11.735Z"
   },
   {
    "duration": 5,
    "start_time": "2024-03-21T19:44:11.782Z"
   },
   {
    "duration": 13,
    "start_time": "2024-03-21T19:44:11.789Z"
   },
   {
    "duration": 6,
    "start_time": "2024-03-21T19:44:11.804Z"
   },
   {
    "duration": 12,
    "start_time": "2024-03-21T19:44:11.813Z"
   },
   {
    "duration": 4,
    "start_time": "2024-03-21T19:44:11.827Z"
   },
   {
    "duration": 4,
    "start_time": "2024-03-21T19:44:11.833Z"
   },
   {
    "duration": 5,
    "start_time": "2024-03-21T19:44:11.838Z"
   },
   {
    "duration": 70,
    "start_time": "2024-03-21T19:44:11.881Z"
   },
   {
    "duration": 3698,
    "start_time": "2024-03-21T19:44:11.953Z"
   },
   {
    "duration": 18,
    "start_time": "2024-03-21T19:44:15.653Z"
   },
   {
    "duration": 28,
    "start_time": "2024-03-21T19:44:15.674Z"
   },
   {
    "duration": 11,
    "start_time": "2024-03-21T19:44:15.704Z"
   },
   {
    "duration": 5,
    "start_time": "2024-03-21T19:44:15.717Z"
   },
   {
    "duration": 15,
    "start_time": "2024-03-21T19:44:15.723Z"
   },
   {
    "duration": 23,
    "start_time": "2024-03-21T19:44:15.740Z"
   },
   {
    "duration": 27,
    "start_time": "2024-03-21T19:44:15.764Z"
   },
   {
    "duration": 9,
    "start_time": "2024-03-21T19:44:15.793Z"
   },
   {
    "duration": 22,
    "start_time": "2024-03-21T19:44:15.803Z"
   },
   {
    "duration": 6,
    "start_time": "2024-03-21T19:44:15.826Z"
   },
   {
    "duration": 6,
    "start_time": "2024-03-21T19:44:15.834Z"
   },
   {
    "duration": 5,
    "start_time": "2024-03-21T19:44:15.842Z"
   },
   {
    "duration": 72,
    "start_time": "2024-03-21T19:44:15.848Z"
   },
   {
    "duration": 21,
    "start_time": "2024-03-21T19:44:15.922Z"
   },
   {
    "duration": 6,
    "start_time": "2024-03-21T19:44:15.944Z"
   },
   {
    "duration": 50,
    "start_time": "2024-03-21T19:44:15.952Z"
   },
   {
    "duration": 20,
    "start_time": "2024-03-21T19:44:16.003Z"
   },
   {
    "duration": 11,
    "start_time": "2024-03-21T19:44:16.025Z"
   },
   {
    "duration": 30,
    "start_time": "2024-03-21T19:44:16.037Z"
   },
   {
    "duration": 30,
    "start_time": "2024-03-21T19:44:16.068Z"
   },
   {
    "duration": 168,
    "start_time": "2024-03-21T19:44:16.100Z"
   },
   {
    "duration": 182,
    "start_time": "2024-03-21T19:44:16.270Z"
   },
   {
    "duration": 151,
    "start_time": "2024-03-21T19:44:16.453Z"
   },
   {
    "duration": 151,
    "start_time": "2024-03-21T19:44:16.605Z"
   },
   {
    "duration": 4,
    "start_time": "2024-03-21T19:44:16.757Z"
   },
   {
    "duration": 23,
    "start_time": "2024-03-21T19:44:16.763Z"
   },
   {
    "duration": 3,
    "start_time": "2024-03-21T19:44:16.788Z"
   },
   {
    "duration": 8,
    "start_time": "2024-03-21T19:44:16.792Z"
   },
   {
    "duration": 17,
    "start_time": "2024-03-21T19:44:16.801Z"
   },
   {
    "duration": 21,
    "start_time": "2024-03-21T19:44:16.820Z"
   },
   {
    "duration": 16,
    "start_time": "2024-03-21T19:44:16.842Z"
   },
   {
    "duration": 20,
    "start_time": "2024-03-21T19:44:16.859Z"
   },
   {
    "duration": 183,
    "start_time": "2024-03-21T19:44:16.881Z"
   },
   {
    "duration": 4,
    "start_time": "2024-03-21T19:44:17.066Z"
   },
   {
    "duration": 274,
    "start_time": "2024-03-21T19:44:17.071Z"
   },
   {
    "duration": 343,
    "start_time": "2024-03-21T19:44:17.346Z"
   },
   {
    "duration": 19,
    "start_time": "2024-03-21T19:44:17.691Z"
   },
   {
    "duration": 3,
    "start_time": "2024-03-21T19:44:17.712Z"
   },
   {
    "duration": 388,
    "start_time": "2024-03-21T19:44:17.717Z"
   },
   {
    "duration": 361,
    "start_time": "2024-03-21T19:44:18.107Z"
   },
   {
    "duration": 13,
    "start_time": "2024-03-21T19:44:18.470Z"
   },
   {
    "duration": 340,
    "start_time": "2024-03-21T19:44:18.484Z"
   },
   {
    "duration": 377,
    "start_time": "2024-03-21T19:44:18.826Z"
   },
   {
    "duration": 1425,
    "start_time": "2024-03-21T20:28:19.649Z"
   },
   {
    "duration": 203,
    "start_time": "2024-03-21T20:28:21.076Z"
   },
   {
    "duration": 18,
    "start_time": "2024-03-21T20:28:21.280Z"
   },
   {
    "duration": 26,
    "start_time": "2024-03-21T20:28:21.300Z"
   },
   {
    "duration": 74,
    "start_time": "2024-03-21T20:28:21.328Z"
   },
   {
    "duration": 8,
    "start_time": "2024-03-21T20:28:21.403Z"
   },
   {
    "duration": 21,
    "start_time": "2024-03-21T20:28:21.413Z"
   },
   {
    "duration": 11,
    "start_time": "2024-03-21T20:28:21.436Z"
   },
   {
    "duration": 16,
    "start_time": "2024-03-21T20:28:21.449Z"
   },
   {
    "duration": 6,
    "start_time": "2024-03-21T20:28:21.468Z"
   },
   {
    "duration": 4,
    "start_time": "2024-03-21T20:28:21.475Z"
   },
   {
    "duration": 4,
    "start_time": "2024-03-21T20:28:21.481Z"
   },
   {
    "duration": 7,
    "start_time": "2024-03-21T20:28:21.487Z"
   },
   {
    "duration": 25,
    "start_time": "2024-03-21T20:28:21.495Z"
   },
   {
    "duration": 15,
    "start_time": "2024-03-21T20:28:21.522Z"
   },
   {
    "duration": 14,
    "start_time": "2024-03-21T20:28:21.538Z"
   },
   {
    "duration": 17,
    "start_time": "2024-03-21T20:28:21.554Z"
   },
   {
    "duration": 4,
    "start_time": "2024-03-21T20:28:21.572Z"
   },
   {
    "duration": 13,
    "start_time": "2024-03-21T20:28:21.578Z"
   },
   {
    "duration": 9,
    "start_time": "2024-03-21T20:28:21.615Z"
   },
   {
    "duration": 8,
    "start_time": "2024-03-21T20:28:21.626Z"
   },
   {
    "duration": 7,
    "start_time": "2024-03-21T20:28:21.635Z"
   },
   {
    "duration": 122,
    "start_time": "2024-03-21T20:28:21.643Z"
   },
   {
    "duration": 0,
    "start_time": "2024-03-21T20:28:21.768Z"
   },
   {
    "duration": 0,
    "start_time": "2024-03-21T20:28:21.769Z"
   },
   {
    "duration": 0,
    "start_time": "2024-03-21T20:28:21.770Z"
   },
   {
    "duration": 0,
    "start_time": "2024-03-21T20:28:21.772Z"
   },
   {
    "duration": 1,
    "start_time": "2024-03-21T20:28:21.772Z"
   },
   {
    "duration": 0,
    "start_time": "2024-03-21T20:28:21.774Z"
   },
   {
    "duration": 0,
    "start_time": "2024-03-21T20:28:21.775Z"
   },
   {
    "duration": 0,
    "start_time": "2024-03-21T20:28:21.776Z"
   },
   {
    "duration": 0,
    "start_time": "2024-03-21T20:28:21.777Z"
   },
   {
    "duration": 1,
    "start_time": "2024-03-21T20:28:21.778Z"
   },
   {
    "duration": 0,
    "start_time": "2024-03-21T20:28:21.780Z"
   },
   {
    "duration": 0,
    "start_time": "2024-03-21T20:28:21.781Z"
   },
   {
    "duration": 0,
    "start_time": "2024-03-21T20:28:21.782Z"
   },
   {
    "duration": 0,
    "start_time": "2024-03-21T20:28:21.783Z"
   },
   {
    "duration": 0,
    "start_time": "2024-03-21T20:28:21.785Z"
   },
   {
    "duration": 0,
    "start_time": "2024-03-21T20:28:21.815Z"
   },
   {
    "duration": 0,
    "start_time": "2024-03-21T20:28:21.816Z"
   },
   {
    "duration": 0,
    "start_time": "2024-03-21T20:28:21.817Z"
   },
   {
    "duration": 0,
    "start_time": "2024-03-21T20:28:21.818Z"
   },
   {
    "duration": 0,
    "start_time": "2024-03-21T20:28:21.819Z"
   },
   {
    "duration": 0,
    "start_time": "2024-03-21T20:28:21.820Z"
   },
   {
    "duration": 0,
    "start_time": "2024-03-21T20:28:21.823Z"
   },
   {
    "duration": 0,
    "start_time": "2024-03-21T20:28:21.824Z"
   },
   {
    "duration": 0,
    "start_time": "2024-03-21T20:28:21.825Z"
   },
   {
    "duration": 0,
    "start_time": "2024-03-21T20:28:21.825Z"
   },
   {
    "duration": 0,
    "start_time": "2024-03-21T20:28:21.826Z"
   },
   {
    "duration": 0,
    "start_time": "2024-03-21T20:28:21.827Z"
   },
   {
    "duration": 0,
    "start_time": "2024-03-21T20:28:21.834Z"
   },
   {
    "duration": 0,
    "start_time": "2024-03-21T20:28:21.836Z"
   },
   {
    "duration": 0,
    "start_time": "2024-03-21T20:28:21.838Z"
   },
   {
    "duration": 0,
    "start_time": "2024-03-21T20:28:21.839Z"
   },
   {
    "duration": 0,
    "start_time": "2024-03-21T20:28:21.840Z"
   },
   {
    "duration": 0,
    "start_time": "2024-03-21T20:28:21.841Z"
   },
   {
    "duration": 0,
    "start_time": "2024-03-21T20:28:21.842Z"
   },
   {
    "duration": 0,
    "start_time": "2024-03-21T20:28:21.843Z"
   },
   {
    "duration": 0,
    "start_time": "2024-03-21T20:28:21.844Z"
   },
   {
    "duration": 0,
    "start_time": "2024-03-21T20:28:21.845Z"
   },
   {
    "duration": 0,
    "start_time": "2024-03-21T20:28:21.846Z"
   },
   {
    "duration": 0,
    "start_time": "2024-03-21T20:28:21.848Z"
   },
   {
    "duration": 0,
    "start_time": "2024-03-21T20:28:21.849Z"
   },
   {
    "duration": 0,
    "start_time": "2024-03-21T20:28:21.850Z"
   },
   {
    "duration": 0,
    "start_time": "2024-03-21T20:28:21.851Z"
   },
   {
    "duration": 0,
    "start_time": "2024-03-21T20:28:21.852Z"
   },
   {
    "duration": 0,
    "start_time": "2024-03-21T20:28:21.853Z"
   },
   {
    "duration": 0,
    "start_time": "2024-03-21T20:28:21.854Z"
   },
   {
    "duration": 1,
    "start_time": "2024-03-21T20:28:21.855Z"
   },
   {
    "duration": 4,
    "start_time": "2024-03-21T20:33:03.235Z"
   },
   {
    "duration": 132,
    "start_time": "2024-03-21T20:33:03.242Z"
   },
   {
    "duration": 14,
    "start_time": "2024-03-21T20:33:03.376Z"
   },
   {
    "duration": 42,
    "start_time": "2024-03-21T20:33:03.392Z"
   },
   {
    "duration": 39,
    "start_time": "2024-03-21T20:33:03.435Z"
   },
   {
    "duration": 7,
    "start_time": "2024-03-21T20:33:03.475Z"
   },
   {
    "duration": 23,
    "start_time": "2024-03-21T20:33:03.484Z"
   },
   {
    "duration": 25,
    "start_time": "2024-03-21T20:33:03.509Z"
   },
   {
    "duration": 17,
    "start_time": "2024-03-21T20:33:03.536Z"
   },
   {
    "duration": 8,
    "start_time": "2024-03-21T20:33:03.555Z"
   },
   {
    "duration": 3,
    "start_time": "2024-03-21T20:33:03.564Z"
   },
   {
    "duration": 4,
    "start_time": "2024-03-21T20:33:03.569Z"
   },
   {
    "duration": 17,
    "start_time": "2024-03-21T20:33:03.574Z"
   },
   {
    "duration": 25,
    "start_time": "2024-03-21T20:33:03.593Z"
   },
   {
    "duration": 23,
    "start_time": "2024-03-21T20:33:03.623Z"
   },
   {
    "duration": 16,
    "start_time": "2024-03-21T20:33:03.648Z"
   },
   {
    "duration": 15,
    "start_time": "2024-03-21T20:33:03.666Z"
   },
   {
    "duration": 3,
    "start_time": "2024-03-21T20:33:03.683Z"
   },
   {
    "duration": 43,
    "start_time": "2024-03-21T20:33:03.688Z"
   },
   {
    "duration": 14,
    "start_time": "2024-03-21T20:33:03.734Z"
   },
   {
    "duration": 300,
    "start_time": "2024-03-21T20:33:03.749Z"
   },
   {
    "duration": 0,
    "start_time": "2024-03-21T20:33:04.052Z"
   },
   {
    "duration": 0,
    "start_time": "2024-03-21T20:33:04.053Z"
   },
   {
    "duration": 0,
    "start_time": "2024-03-21T20:33:04.054Z"
   },
   {
    "duration": 0,
    "start_time": "2024-03-21T20:33:04.055Z"
   },
   {
    "duration": 0,
    "start_time": "2024-03-21T20:33:04.057Z"
   },
   {
    "duration": 0,
    "start_time": "2024-03-21T20:33:04.058Z"
   },
   {
    "duration": 0,
    "start_time": "2024-03-21T20:33:04.059Z"
   },
   {
    "duration": 0,
    "start_time": "2024-03-21T20:33:04.060Z"
   },
   {
    "duration": 0,
    "start_time": "2024-03-21T20:33:04.062Z"
   },
   {
    "duration": 0,
    "start_time": "2024-03-21T20:33:04.063Z"
   },
   {
    "duration": 0,
    "start_time": "2024-03-21T20:33:04.064Z"
   },
   {
    "duration": 0,
    "start_time": "2024-03-21T20:33:04.065Z"
   },
   {
    "duration": 0,
    "start_time": "2024-03-21T20:33:04.067Z"
   },
   {
    "duration": 0,
    "start_time": "2024-03-21T20:33:04.069Z"
   },
   {
    "duration": 1,
    "start_time": "2024-03-21T20:33:04.070Z"
   },
   {
    "duration": 0,
    "start_time": "2024-03-21T20:33:04.072Z"
   },
   {
    "duration": 0,
    "start_time": "2024-03-21T20:33:04.073Z"
   },
   {
    "duration": 0,
    "start_time": "2024-03-21T20:33:04.074Z"
   },
   {
    "duration": 0,
    "start_time": "2024-03-21T20:33:04.075Z"
   },
   {
    "duration": 0,
    "start_time": "2024-03-21T20:33:04.076Z"
   },
   {
    "duration": 0,
    "start_time": "2024-03-21T20:33:04.077Z"
   },
   {
    "duration": 0,
    "start_time": "2024-03-21T20:33:04.078Z"
   },
   {
    "duration": 0,
    "start_time": "2024-03-21T20:33:04.079Z"
   },
   {
    "duration": 0,
    "start_time": "2024-03-21T20:33:04.080Z"
   },
   {
    "duration": 0,
    "start_time": "2024-03-21T20:33:04.082Z"
   },
   {
    "duration": 0,
    "start_time": "2024-03-21T20:33:04.083Z"
   },
   {
    "duration": 0,
    "start_time": "2024-03-21T20:33:04.084Z"
   },
   {
    "duration": 0,
    "start_time": "2024-03-21T20:33:04.085Z"
   },
   {
    "duration": 0,
    "start_time": "2024-03-21T20:33:04.086Z"
   },
   {
    "duration": 0,
    "start_time": "2024-03-21T20:33:04.087Z"
   },
   {
    "duration": 0,
    "start_time": "2024-03-21T20:33:04.088Z"
   },
   {
    "duration": 0,
    "start_time": "2024-03-21T20:33:04.116Z"
   },
   {
    "duration": 0,
    "start_time": "2024-03-21T20:33:04.118Z"
   },
   {
    "duration": 0,
    "start_time": "2024-03-21T20:33:04.119Z"
   },
   {
    "duration": 0,
    "start_time": "2024-03-21T20:33:04.120Z"
   },
   {
    "duration": 0,
    "start_time": "2024-03-21T20:33:04.121Z"
   },
   {
    "duration": 0,
    "start_time": "2024-03-21T20:33:04.121Z"
   },
   {
    "duration": 0,
    "start_time": "2024-03-21T20:33:04.122Z"
   },
   {
    "duration": 0,
    "start_time": "2024-03-21T20:33:04.123Z"
   },
   {
    "duration": 0,
    "start_time": "2024-03-21T20:33:04.123Z"
   },
   {
    "duration": 0,
    "start_time": "2024-03-21T20:33:04.124Z"
   },
   {
    "duration": 0,
    "start_time": "2024-03-21T20:33:04.125Z"
   },
   {
    "duration": 0,
    "start_time": "2024-03-21T20:33:04.131Z"
   },
   {
    "duration": 0,
    "start_time": "2024-03-21T20:33:04.132Z"
   },
   {
    "duration": 0,
    "start_time": "2024-03-21T20:33:04.133Z"
   },
   {
    "duration": 0,
    "start_time": "2024-03-21T20:33:04.135Z"
   },
   {
    "duration": 0,
    "start_time": "2024-03-21T20:33:04.136Z"
   },
   {
    "duration": 0,
    "start_time": "2024-03-21T20:33:04.137Z"
   },
   {
    "duration": 467,
    "start_time": "2024-03-21T20:33:50.753Z"
   },
   {
    "duration": 13,
    "start_time": "2024-03-21T20:52:35.288Z"
   },
   {
    "duration": 9,
    "start_time": "2024-03-21T20:53:32.587Z"
   },
   {
    "duration": 11,
    "start_time": "2024-03-21T20:54:16.075Z"
   },
   {
    "duration": 5,
    "start_time": "2024-03-21T20:54:19.051Z"
   },
   {
    "duration": 3,
    "start_time": "2024-03-21T20:54:30.360Z"
   },
   {
    "duration": 4,
    "start_time": "2024-03-21T20:54:30.804Z"
   },
   {
    "duration": 66,
    "start_time": "2024-03-21T20:54:37.767Z"
   },
   {
    "duration": 3828,
    "start_time": "2024-03-21T20:54:43.111Z"
   },
   {
    "duration": 17,
    "start_time": "2024-03-21T20:54:46.941Z"
   },
   {
    "duration": 8,
    "start_time": "2024-03-21T20:54:46.960Z"
   },
   {
    "duration": 11,
    "start_time": "2024-03-21T20:54:46.969Z"
   },
   {
    "duration": 6,
    "start_time": "2024-03-21T20:54:46.982Z"
   },
   {
    "duration": 26,
    "start_time": "2024-03-21T20:54:46.989Z"
   },
   {
    "duration": 25,
    "start_time": "2024-03-21T20:54:47.017Z"
   },
   {
    "duration": 24,
    "start_time": "2024-03-21T20:54:47.043Z"
   },
   {
    "duration": 10,
    "start_time": "2024-03-21T20:54:47.069Z"
   },
   {
    "duration": 47,
    "start_time": "2024-03-21T20:54:47.080Z"
   },
   {
    "duration": 8,
    "start_time": "2024-03-21T20:54:47.128Z"
   },
   {
    "duration": 6,
    "start_time": "2024-03-21T20:54:47.137Z"
   },
   {
    "duration": 13,
    "start_time": "2024-03-21T20:54:47.145Z"
   },
   {
    "duration": 67,
    "start_time": "2024-03-21T20:54:47.162Z"
   },
   {
    "duration": 20,
    "start_time": "2024-03-21T20:54:47.232Z"
   },
   {
    "duration": 6,
    "start_time": "2024-03-21T20:54:47.254Z"
   },
   {
    "duration": 28,
    "start_time": "2024-03-21T20:54:47.262Z"
   },
   {
    "duration": 38,
    "start_time": "2024-03-21T20:54:47.292Z"
   },
   {
    "duration": 8,
    "start_time": "2024-03-21T20:54:47.332Z"
   },
   {
    "duration": 37,
    "start_time": "2024-03-21T20:54:47.341Z"
   },
   {
    "duration": 36,
    "start_time": "2024-03-21T20:54:47.380Z"
   },
   {
    "duration": 171,
    "start_time": "2024-03-21T20:54:47.417Z"
   },
   {
    "duration": 187,
    "start_time": "2024-03-21T20:54:47.590Z"
   },
   {
    "duration": 149,
    "start_time": "2024-03-21T20:54:47.778Z"
   },
   {
    "duration": 165,
    "start_time": "2024-03-21T20:54:47.929Z"
   },
   {
    "duration": 4,
    "start_time": "2024-03-21T20:54:48.096Z"
   },
   {
    "duration": 23,
    "start_time": "2024-03-21T20:54:48.102Z"
   },
   {
    "duration": 3,
    "start_time": "2024-03-21T20:54:48.127Z"
   },
   {
    "duration": 4,
    "start_time": "2024-03-21T20:54:48.132Z"
   },
   {
    "duration": 18,
    "start_time": "2024-03-21T20:54:48.137Z"
   },
   {
    "duration": 20,
    "start_time": "2024-03-21T20:54:48.157Z"
   },
   {
    "duration": 47,
    "start_time": "2024-03-21T20:54:48.179Z"
   },
   {
    "duration": 3,
    "start_time": "2024-03-21T20:54:48.228Z"
   },
   {
    "duration": 211,
    "start_time": "2024-03-21T20:54:48.233Z"
   },
   {
    "duration": 4,
    "start_time": "2024-03-21T20:54:48.446Z"
   },
   {
    "duration": 276,
    "start_time": "2024-03-21T20:54:48.451Z"
   },
   {
    "duration": 346,
    "start_time": "2024-03-21T20:54:48.729Z"
   },
   {
    "duration": 21,
    "start_time": "2024-03-21T20:54:49.077Z"
   },
   {
    "duration": 5,
    "start_time": "2024-03-21T20:54:49.100Z"
   },
   {
    "duration": 405,
    "start_time": "2024-03-21T20:54:49.106Z"
   },
   {
    "duration": 407,
    "start_time": "2024-03-21T20:54:49.517Z"
   },
   {
    "duration": 7,
    "start_time": "2024-03-21T20:54:49.926Z"
   },
   {
    "duration": 366,
    "start_time": "2024-03-21T20:54:49.935Z"
   },
   {
    "duration": 425,
    "start_time": "2024-03-21T20:54:50.304Z"
   },
   {
    "duration": 96,
    "start_time": "2024-03-21T20:56:49.477Z"
   },
   {
    "duration": 23,
    "start_time": "2024-03-21T20:57:40.849Z"
   },
   {
    "duration": 13,
    "start_time": "2024-03-21T20:58:15.769Z"
   },
   {
    "duration": 12,
    "start_time": "2024-03-21T20:58:39.530Z"
   },
   {
    "duration": 12,
    "start_time": "2024-03-21T20:58:59.138Z"
   },
   {
    "duration": 3,
    "start_time": "2024-03-21T20:59:02.689Z"
   },
   {
    "duration": 102,
    "start_time": "2024-03-21T20:59:02.696Z"
   },
   {
    "duration": 14,
    "start_time": "2024-03-21T20:59:02.800Z"
   },
   {
    "duration": 15,
    "start_time": "2024-03-21T20:59:02.816Z"
   },
   {
    "duration": 38,
    "start_time": "2024-03-21T20:59:02.833Z"
   },
   {
    "duration": 6,
    "start_time": "2024-03-21T20:59:02.873Z"
   },
   {
    "duration": 11,
    "start_time": "2024-03-21T20:59:02.880Z"
   },
   {
    "duration": 11,
    "start_time": "2024-03-21T20:59:02.893Z"
   },
   {
    "duration": 20,
    "start_time": "2024-03-21T20:59:02.905Z"
   },
   {
    "duration": 10,
    "start_time": "2024-03-21T20:59:02.926Z"
   },
   {
    "duration": 7,
    "start_time": "2024-03-21T20:59:02.939Z"
   },
   {
    "duration": 4,
    "start_time": "2024-03-21T20:59:02.947Z"
   },
   {
    "duration": 6,
    "start_time": "2024-03-21T20:59:02.952Z"
   },
   {
    "duration": 6,
    "start_time": "2024-03-21T20:59:02.960Z"
   },
   {
    "duration": 17,
    "start_time": "2024-03-21T20:59:02.967Z"
   },
   {
    "duration": 35,
    "start_time": "2024-03-21T20:59:02.986Z"
   },
   {
    "duration": 29,
    "start_time": "2024-03-21T20:59:03.023Z"
   },
   {
    "duration": 4,
    "start_time": "2024-03-21T20:59:03.054Z"
   },
   {
    "duration": 23,
    "start_time": "2024-03-21T20:59:03.060Z"
   },
   {
    "duration": 11,
    "start_time": "2024-03-21T20:59:03.084Z"
   },
   {
    "duration": 12,
    "start_time": "2024-03-21T20:59:03.097Z"
   },
   {
    "duration": 12,
    "start_time": "2024-03-21T20:59:03.111Z"
   },
   {
    "duration": 10,
    "start_time": "2024-03-21T20:59:03.124Z"
   },
   {
    "duration": 9,
    "start_time": "2024-03-21T20:59:03.135Z"
   },
   {
    "duration": 26,
    "start_time": "2024-03-21T20:59:03.146Z"
   },
   {
    "duration": 3675,
    "start_time": "2024-03-21T20:59:03.174Z"
   },
   {
    "duration": 19,
    "start_time": "2024-03-21T20:59:06.850Z"
   },
   {
    "duration": 8,
    "start_time": "2024-03-21T20:59:06.870Z"
   },
   {
    "duration": 5,
    "start_time": "2024-03-21T20:59:06.882Z"
   },
   {
    "duration": 6,
    "start_time": "2024-03-21T20:59:06.889Z"
   },
   {
    "duration": 22,
    "start_time": "2024-03-21T20:59:06.896Z"
   },
   {
    "duration": 23,
    "start_time": "2024-03-21T20:59:06.919Z"
   },
   {
    "duration": 22,
    "start_time": "2024-03-21T20:59:06.944Z"
   },
   {
    "duration": 9,
    "start_time": "2024-03-21T20:59:06.967Z"
   },
   {
    "duration": 43,
    "start_time": "2024-03-21T20:59:06.978Z"
   },
   {
    "duration": 7,
    "start_time": "2024-03-21T20:59:07.023Z"
   },
   {
    "duration": 10,
    "start_time": "2024-03-21T20:59:07.031Z"
   },
   {
    "duration": 6,
    "start_time": "2024-03-21T20:59:07.042Z"
   },
   {
    "duration": 72,
    "start_time": "2024-03-21T20:59:07.050Z"
   },
   {
    "duration": 21,
    "start_time": "2024-03-21T20:59:07.123Z"
   },
   {
    "duration": 5,
    "start_time": "2024-03-21T20:59:07.146Z"
   },
   {
    "duration": 25,
    "start_time": "2024-03-21T20:59:07.152Z"
   },
   {
    "duration": 41,
    "start_time": "2024-03-21T20:59:07.179Z"
   },
   {
    "duration": 11,
    "start_time": "2024-03-21T20:59:07.221Z"
   },
   {
    "duration": 30,
    "start_time": "2024-03-21T20:59:07.234Z"
   },
   {
    "duration": 18,
    "start_time": "2024-03-21T20:59:07.265Z"
   },
   {
    "duration": 167,
    "start_time": "2024-03-21T20:59:07.285Z"
   },
   {
    "duration": 185,
    "start_time": "2024-03-21T20:59:07.453Z"
   },
   {
    "duration": 211,
    "start_time": "2024-03-21T20:59:07.640Z"
   },
   {
    "duration": 146,
    "start_time": "2024-03-21T20:59:07.852Z"
   },
   {
    "duration": 4,
    "start_time": "2024-03-21T20:59:07.999Z"
   },
   {
    "duration": 18,
    "start_time": "2024-03-21T20:59:08.005Z"
   },
   {
    "duration": 28,
    "start_time": "2024-03-21T20:59:08.025Z"
   },
   {
    "duration": 6,
    "start_time": "2024-03-21T20:59:08.055Z"
   },
   {
    "duration": 19,
    "start_time": "2024-03-21T20:59:08.063Z"
   },
   {
    "duration": 18,
    "start_time": "2024-03-21T20:59:08.083Z"
   },
   {
    "duration": 23,
    "start_time": "2024-03-21T20:59:08.102Z"
   },
   {
    "duration": 4,
    "start_time": "2024-03-21T20:59:08.127Z"
   },
   {
    "duration": 202,
    "start_time": "2024-03-21T20:59:08.132Z"
   },
   {
    "duration": 5,
    "start_time": "2024-03-21T20:59:08.336Z"
   },
   {
    "duration": 206,
    "start_time": "2024-03-21T20:59:08.343Z"
   },
   {
    "duration": 307,
    "start_time": "2024-03-21T20:59:08.551Z"
   },
   {
    "duration": 24,
    "start_time": "2024-03-21T20:59:08.860Z"
   },
   {
    "duration": 6,
    "start_time": "2024-03-21T20:59:08.886Z"
   },
   {
    "duration": 408,
    "start_time": "2024-03-21T20:59:08.894Z"
   },
   {
    "duration": 393,
    "start_time": "2024-03-21T20:59:09.304Z"
   },
   {
    "duration": 17,
    "start_time": "2024-03-21T20:59:09.698Z"
   },
   {
    "duration": 324,
    "start_time": "2024-03-21T20:59:09.717Z"
   },
   {
    "duration": 411,
    "start_time": "2024-03-21T20:59:10.043Z"
   },
   {
    "duration": 4,
    "start_time": "2024-03-21T21:00:33.617Z"
   },
   {
    "duration": 4,
    "start_time": "2024-03-21T21:00:37.335Z"
   },
   {
    "duration": 94,
    "start_time": "2024-03-21T21:00:37.341Z"
   },
   {
    "duration": 13,
    "start_time": "2024-03-21T21:00:37.436Z"
   },
   {
    "duration": 16,
    "start_time": "2024-03-21T21:00:37.451Z"
   },
   {
    "duration": 38,
    "start_time": "2024-03-21T21:00:37.469Z"
   },
   {
    "duration": 6,
    "start_time": "2024-03-21T21:00:37.509Z"
   },
   {
    "duration": 10,
    "start_time": "2024-03-21T21:00:37.517Z"
   },
   {
    "duration": 11,
    "start_time": "2024-03-21T21:00:37.528Z"
   },
   {
    "duration": 23,
    "start_time": "2024-03-21T21:00:37.540Z"
   },
   {
    "duration": 3,
    "start_time": "2024-03-21T21:00:37.565Z"
   },
   {
    "duration": 4,
    "start_time": "2024-03-21T21:00:37.570Z"
   },
   {
    "duration": 17,
    "start_time": "2024-03-21T21:00:37.575Z"
   },
   {
    "duration": 18,
    "start_time": "2024-03-21T21:00:37.594Z"
   },
   {
    "duration": 11,
    "start_time": "2024-03-21T21:00:37.615Z"
   },
   {
    "duration": 12,
    "start_time": "2024-03-21T21:00:37.628Z"
   },
   {
    "duration": 14,
    "start_time": "2024-03-21T21:00:37.641Z"
   },
   {
    "duration": 14,
    "start_time": "2024-03-21T21:00:37.657Z"
   },
   {
    "duration": 8,
    "start_time": "2024-03-21T21:00:37.673Z"
   },
   {
    "duration": 8,
    "start_time": "2024-03-21T21:00:37.683Z"
   },
   {
    "duration": 4,
    "start_time": "2024-03-21T21:00:37.693Z"
   },
   {
    "duration": 9,
    "start_time": "2024-03-21T21:00:37.715Z"
   },
   {
    "duration": 5,
    "start_time": "2024-03-21T21:00:37.726Z"
   },
   {
    "duration": 7,
    "start_time": "2024-03-21T21:00:37.732Z"
   },
   {
    "duration": 3,
    "start_time": "2024-03-21T21:00:37.741Z"
   },
   {
    "duration": 5,
    "start_time": "2024-03-21T21:00:37.746Z"
   },
   {
    "duration": 27,
    "start_time": "2024-03-21T21:00:37.752Z"
   },
   {
    "duration": 3766,
    "start_time": "2024-03-21T21:00:37.780Z"
   },
   {
    "duration": 16,
    "start_time": "2024-03-21T21:00:41.547Z"
   },
   {
    "duration": 4,
    "start_time": "2024-03-21T21:00:41.564Z"
   },
   {
    "duration": 9,
    "start_time": "2024-03-21T21:00:41.569Z"
   },
   {
    "duration": 6,
    "start_time": "2024-03-21T21:00:41.579Z"
   },
   {
    "duration": 32,
    "start_time": "2024-03-21T21:00:41.587Z"
   },
   {
    "duration": 23,
    "start_time": "2024-03-21T21:00:41.621Z"
   },
   {
    "duration": 21,
    "start_time": "2024-03-21T21:00:41.646Z"
   },
   {
    "duration": 10,
    "start_time": "2024-03-21T21:00:41.668Z"
   },
   {
    "duration": 42,
    "start_time": "2024-03-21T21:00:41.679Z"
   },
   {
    "duration": 6,
    "start_time": "2024-03-21T21:00:41.722Z"
   },
   {
    "duration": 7,
    "start_time": "2024-03-21T21:00:41.729Z"
   },
   {
    "duration": 11,
    "start_time": "2024-03-21T21:00:41.738Z"
   },
   {
    "duration": 48,
    "start_time": "2024-03-21T21:00:41.751Z"
   },
   {
    "duration": 20,
    "start_time": "2024-03-21T21:00:41.818Z"
   },
   {
    "duration": 19,
    "start_time": "2024-03-21T21:00:41.840Z"
   },
   {
    "duration": 121,
    "start_time": "2024-03-21T21:00:41.860Z"
   },
   {
    "duration": 19,
    "start_time": "2024-03-21T21:00:41.982Z"
   },
   {
    "duration": 17,
    "start_time": "2024-03-21T21:00:42.003Z"
   },
   {
    "duration": 24,
    "start_time": "2024-03-21T21:00:42.022Z"
   },
   {
    "duration": 22,
    "start_time": "2024-03-21T21:00:42.047Z"
   },
   {
    "duration": 177,
    "start_time": "2024-03-21T21:00:42.070Z"
   },
   {
    "duration": 177,
    "start_time": "2024-03-21T21:00:42.249Z"
   },
   {
    "duration": 150,
    "start_time": "2024-03-21T21:00:42.428Z"
   },
   {
    "duration": 157,
    "start_time": "2024-03-21T21:00:42.580Z"
   },
   {
    "duration": 5,
    "start_time": "2024-03-21T21:00:42.738Z"
   },
   {
    "duration": 12,
    "start_time": "2024-03-21T21:00:42.744Z"
   },
   {
    "duration": 3,
    "start_time": "2024-03-21T21:00:42.758Z"
   },
   {
    "duration": 5,
    "start_time": "2024-03-21T21:00:42.762Z"
   },
   {
    "duration": 24,
    "start_time": "2024-03-21T21:00:42.768Z"
   },
   {
    "duration": 36,
    "start_time": "2024-03-21T21:00:42.793Z"
   },
   {
    "duration": 16,
    "start_time": "2024-03-21T21:00:42.831Z"
   },
   {
    "duration": 9,
    "start_time": "2024-03-21T21:00:42.849Z"
   },
   {
    "duration": 203,
    "start_time": "2024-03-21T21:00:42.859Z"
   },
   {
    "duration": 4,
    "start_time": "2024-03-21T21:00:43.064Z"
   },
   {
    "duration": 203,
    "start_time": "2024-03-21T21:00:43.070Z"
   },
   {
    "duration": 306,
    "start_time": "2024-03-21T21:00:43.274Z"
   },
   {
    "duration": 19,
    "start_time": "2024-03-21T21:00:43.582Z"
   },
   {
    "duration": 35,
    "start_time": "2024-03-21T21:00:43.603Z"
   },
   {
    "duration": 399,
    "start_time": "2024-03-21T21:00:43.639Z"
   },
   {
    "duration": 408,
    "start_time": "2024-03-21T21:00:44.039Z"
   },
   {
    "duration": 7,
    "start_time": "2024-03-21T21:00:44.448Z"
   },
   {
    "duration": 325,
    "start_time": "2024-03-21T21:00:44.456Z"
   },
   {
    "duration": 454,
    "start_time": "2024-03-21T21:00:44.783Z"
   },
   {
    "duration": 67,
    "start_time": "2024-03-21T21:04:41.464Z"
   },
   {
    "duration": 17,
    "start_time": "2024-03-21T21:05:08.576Z"
   },
   {
    "duration": 11,
    "start_time": "2024-03-21T21:08:09.890Z"
   },
   {
    "duration": 3,
    "start_time": "2024-03-21T21:08:14.177Z"
   },
   {
    "duration": 113,
    "start_time": "2024-03-21T21:08:14.184Z"
   },
   {
    "duration": 28,
    "start_time": "2024-03-21T21:08:14.299Z"
   },
   {
    "duration": 38,
    "start_time": "2024-03-21T21:08:14.329Z"
   },
   {
    "duration": 51,
    "start_time": "2024-03-21T21:08:14.369Z"
   },
   {
    "duration": 7,
    "start_time": "2024-03-21T21:08:14.422Z"
   },
   {
    "duration": 13,
    "start_time": "2024-03-21T21:08:14.431Z"
   },
   {
    "duration": 34,
    "start_time": "2024-03-21T21:08:14.446Z"
   },
   {
    "duration": 141,
    "start_time": "2024-03-21T21:08:14.481Z"
   },
   {
    "duration": 4,
    "start_time": "2024-03-21T21:08:14.624Z"
   },
   {
    "duration": 26,
    "start_time": "2024-03-21T21:08:14.631Z"
   },
   {
    "duration": 28,
    "start_time": "2024-03-21T21:08:14.658Z"
   },
   {
    "duration": 45,
    "start_time": "2024-03-21T21:08:14.687Z"
   },
   {
    "duration": 21,
    "start_time": "2024-03-21T21:08:14.733Z"
   },
   {
    "duration": 35,
    "start_time": "2024-03-21T21:08:14.755Z"
   },
   {
    "duration": 18,
    "start_time": "2024-03-21T21:08:14.791Z"
   },
   {
    "duration": 28,
    "start_time": "2024-03-21T21:08:14.811Z"
   },
   {
    "duration": 12,
    "start_time": "2024-03-21T21:08:14.841Z"
   },
   {
    "duration": 21,
    "start_time": "2024-03-21T21:08:14.855Z"
   },
   {
    "duration": 9,
    "start_time": "2024-03-21T21:08:14.878Z"
   },
   {
    "duration": 23,
    "start_time": "2024-03-21T21:08:14.889Z"
   },
   {
    "duration": 19,
    "start_time": "2024-03-21T21:08:14.914Z"
   },
   {
    "duration": 8,
    "start_time": "2024-03-21T21:08:14.935Z"
   },
   {
    "duration": 26,
    "start_time": "2024-03-21T21:08:14.945Z"
   },
   {
    "duration": 49,
    "start_time": "2024-03-21T21:08:14.972Z"
   },
   {
    "duration": 3791,
    "start_time": "2024-03-21T21:08:15.023Z"
   },
   {
    "duration": 18,
    "start_time": "2024-03-21T21:08:18.815Z"
   },
   {
    "duration": 5,
    "start_time": "2024-03-21T21:08:18.835Z"
   },
   {
    "duration": 9,
    "start_time": "2024-03-21T21:08:18.844Z"
   },
   {
    "duration": 6,
    "start_time": "2024-03-21T21:08:18.855Z"
   },
   {
    "duration": 10,
    "start_time": "2024-03-21T21:08:18.862Z"
   },
   {
    "duration": 59,
    "start_time": "2024-03-21T21:08:18.874Z"
   },
   {
    "duration": 22,
    "start_time": "2024-03-21T21:08:18.935Z"
   },
   {
    "duration": 10,
    "start_time": "2024-03-21T21:08:18.959Z"
   },
   {
    "duration": 15,
    "start_time": "2024-03-21T21:08:18.971Z"
   },
   {
    "duration": 32,
    "start_time": "2024-03-21T21:08:18.987Z"
   },
   {
    "duration": 4,
    "start_time": "2024-03-21T21:08:19.021Z"
   },
   {
    "duration": 5,
    "start_time": "2024-03-21T21:08:19.027Z"
   },
   {
    "duration": 51,
    "start_time": "2024-03-21T21:08:19.034Z"
   },
   {
    "duration": 47,
    "start_time": "2024-03-21T21:08:19.087Z"
   },
   {
    "duration": 6,
    "start_time": "2024-03-21T21:08:19.136Z"
   },
   {
    "duration": 25,
    "start_time": "2024-03-21T21:08:19.143Z"
   },
   {
    "duration": 19,
    "start_time": "2024-03-21T21:08:19.170Z"
   },
   {
    "duration": 8,
    "start_time": "2024-03-21T21:08:19.215Z"
   },
   {
    "duration": 43,
    "start_time": "2024-03-21T21:08:19.224Z"
   },
   {
    "duration": 19,
    "start_time": "2024-03-21T21:08:19.269Z"
   },
   {
    "duration": 157,
    "start_time": "2024-03-21T21:08:19.290Z"
   },
   {
    "duration": 170,
    "start_time": "2024-03-21T21:08:19.448Z"
   },
   {
    "duration": 146,
    "start_time": "2024-03-21T21:08:19.620Z"
   },
   {
    "duration": 170,
    "start_time": "2024-03-21T21:08:19.768Z"
   },
   {
    "duration": 4,
    "start_time": "2024-03-21T21:08:19.939Z"
   },
   {
    "duration": 20,
    "start_time": "2024-03-21T21:08:19.945Z"
   },
   {
    "duration": 15,
    "start_time": "2024-03-21T21:08:19.967Z"
   },
   {
    "duration": 7,
    "start_time": "2024-03-21T21:08:19.983Z"
   },
   {
    "duration": 17,
    "start_time": "2024-03-21T21:08:19.992Z"
   },
   {
    "duration": 34,
    "start_time": "2024-03-21T21:08:20.015Z"
   },
   {
    "duration": 18,
    "start_time": "2024-03-21T21:08:20.050Z"
   },
   {
    "duration": 3,
    "start_time": "2024-03-21T21:08:20.070Z"
   },
   {
    "duration": 183,
    "start_time": "2024-03-21T21:08:20.075Z"
   },
   {
    "duration": 4,
    "start_time": "2024-03-21T21:08:20.259Z"
   },
   {
    "duration": 214,
    "start_time": "2024-03-21T21:08:20.265Z"
   },
   {
    "duration": 305,
    "start_time": "2024-03-21T21:08:20.481Z"
   },
   {
    "duration": 29,
    "start_time": "2024-03-21T21:08:20.787Z"
   },
   {
    "duration": 4,
    "start_time": "2024-03-21T21:08:20.817Z"
   },
   {
    "duration": 431,
    "start_time": "2024-03-21T21:08:20.823Z"
   },
   {
    "duration": 399,
    "start_time": "2024-03-21T21:08:21.256Z"
   },
   {
    "duration": 6,
    "start_time": "2024-03-21T21:08:21.656Z"
   },
   {
    "duration": 406,
    "start_time": "2024-03-21T21:08:21.664Z"
   },
   {
    "duration": 417,
    "start_time": "2024-03-21T21:08:22.072Z"
   },
   {
    "duration": 12,
    "start_time": "2024-03-21T21:08:49.451Z"
   },
   {
    "duration": 3,
    "start_time": "2024-03-21T21:09:04.777Z"
   },
   {
    "duration": 95,
    "start_time": "2024-03-21T21:09:04.784Z"
   },
   {
    "duration": 20,
    "start_time": "2024-03-21T21:09:04.881Z"
   },
   {
    "duration": 16,
    "start_time": "2024-03-21T21:09:04.915Z"
   },
   {
    "duration": 40,
    "start_time": "2024-03-21T21:09:04.933Z"
   },
   {
    "duration": 6,
    "start_time": "2024-03-21T21:09:04.974Z"
   },
   {
    "duration": 15,
    "start_time": "2024-03-21T21:09:04.981Z"
   },
   {
    "duration": 10,
    "start_time": "2024-03-21T21:09:04.997Z"
   },
   {
    "duration": 20,
    "start_time": "2024-03-21T21:09:05.009Z"
   },
   {
    "duration": 14,
    "start_time": "2024-03-21T21:09:05.030Z"
   },
   {
    "duration": 6,
    "start_time": "2024-03-21T21:09:05.047Z"
   },
   {
    "duration": 4,
    "start_time": "2024-03-21T21:09:05.055Z"
   },
   {
    "duration": 7,
    "start_time": "2024-03-21T21:09:05.060Z"
   },
   {
    "duration": 10,
    "start_time": "2024-03-21T21:09:05.068Z"
   },
   {
    "duration": 12,
    "start_time": "2024-03-21T21:09:05.080Z"
   },
   {
    "duration": 21,
    "start_time": "2024-03-21T21:09:05.115Z"
   },
   {
    "duration": 20,
    "start_time": "2024-03-21T21:09:05.139Z"
   },
   {
    "duration": 5,
    "start_time": "2024-03-21T21:09:05.160Z"
   },
   {
    "duration": 10,
    "start_time": "2024-03-21T21:09:05.166Z"
   },
   {
    "duration": 5,
    "start_time": "2024-03-21T21:09:05.178Z"
   },
   {
    "duration": 313,
    "start_time": "2024-03-21T21:09:05.185Z"
   },
   {
    "duration": 0,
    "start_time": "2024-03-21T21:09:05.501Z"
   },
   {
    "duration": 0,
    "start_time": "2024-03-21T21:09:05.502Z"
   },
   {
    "duration": 0,
    "start_time": "2024-03-21T21:09:05.504Z"
   },
   {
    "duration": 0,
    "start_time": "2024-03-21T21:09:05.505Z"
   },
   {
    "duration": 0,
    "start_time": "2024-03-21T21:09:05.506Z"
   },
   {
    "duration": 0,
    "start_time": "2024-03-21T21:09:05.508Z"
   },
   {
    "duration": 0,
    "start_time": "2024-03-21T21:09:05.509Z"
   },
   {
    "duration": 0,
    "start_time": "2024-03-21T21:09:05.510Z"
   },
   {
    "duration": 0,
    "start_time": "2024-03-21T21:09:05.511Z"
   },
   {
    "duration": 0,
    "start_time": "2024-03-21T21:09:05.512Z"
   },
   {
    "duration": 0,
    "start_time": "2024-03-21T21:09:05.513Z"
   },
   {
    "duration": 0,
    "start_time": "2024-03-21T21:09:05.515Z"
   },
   {
    "duration": 0,
    "start_time": "2024-03-21T21:09:05.516Z"
   },
   {
    "duration": 0,
    "start_time": "2024-03-21T21:09:05.517Z"
   },
   {
    "duration": 0,
    "start_time": "2024-03-21T21:09:05.518Z"
   },
   {
    "duration": 0,
    "start_time": "2024-03-21T21:09:05.519Z"
   },
   {
    "duration": 0,
    "start_time": "2024-03-21T21:09:05.521Z"
   },
   {
    "duration": 0,
    "start_time": "2024-03-21T21:09:05.522Z"
   },
   {
    "duration": 0,
    "start_time": "2024-03-21T21:09:05.523Z"
   },
   {
    "duration": 0,
    "start_time": "2024-03-21T21:09:05.524Z"
   },
   {
    "duration": 0,
    "start_time": "2024-03-21T21:09:05.525Z"
   },
   {
    "duration": 0,
    "start_time": "2024-03-21T21:09:05.526Z"
   },
   {
    "duration": 0,
    "start_time": "2024-03-21T21:09:05.527Z"
   },
   {
    "duration": 0,
    "start_time": "2024-03-21T21:09:05.528Z"
   },
   {
    "duration": 0,
    "start_time": "2024-03-21T21:09:05.529Z"
   },
   {
    "duration": 0,
    "start_time": "2024-03-21T21:09:05.530Z"
   },
   {
    "duration": 0,
    "start_time": "2024-03-21T21:09:05.531Z"
   },
   {
    "duration": 0,
    "start_time": "2024-03-21T21:09:05.532Z"
   },
   {
    "duration": 0,
    "start_time": "2024-03-21T21:09:05.533Z"
   },
   {
    "duration": 0,
    "start_time": "2024-03-21T21:09:05.534Z"
   },
   {
    "duration": 0,
    "start_time": "2024-03-21T21:09:05.535Z"
   },
   {
    "duration": 0,
    "start_time": "2024-03-21T21:09:05.536Z"
   },
   {
    "duration": 0,
    "start_time": "2024-03-21T21:09:05.537Z"
   },
   {
    "duration": 0,
    "start_time": "2024-03-21T21:09:05.538Z"
   },
   {
    "duration": 0,
    "start_time": "2024-03-21T21:09:05.539Z"
   },
   {
    "duration": 0,
    "start_time": "2024-03-21T21:09:05.540Z"
   },
   {
    "duration": 0,
    "start_time": "2024-03-21T21:09:05.541Z"
   },
   {
    "duration": 0,
    "start_time": "2024-03-21T21:09:05.542Z"
   },
   {
    "duration": 0,
    "start_time": "2024-03-21T21:09:05.543Z"
   },
   {
    "duration": 0,
    "start_time": "2024-03-21T21:09:05.544Z"
   },
   {
    "duration": 0,
    "start_time": "2024-03-21T21:09:05.545Z"
   },
   {
    "duration": 0,
    "start_time": "2024-03-21T21:09:05.546Z"
   },
   {
    "duration": 0,
    "start_time": "2024-03-21T21:09:05.547Z"
   },
   {
    "duration": 0,
    "start_time": "2024-03-21T21:09:05.548Z"
   },
   {
    "duration": 0,
    "start_time": "2024-03-21T21:09:05.549Z"
   },
   {
    "duration": 0,
    "start_time": "2024-03-21T21:09:05.550Z"
   },
   {
    "duration": 0,
    "start_time": "2024-03-21T21:09:05.551Z"
   },
   {
    "duration": 0,
    "start_time": "2024-03-21T21:09:05.552Z"
   },
   {
    "duration": 18,
    "start_time": "2024-03-21T21:09:32.174Z"
   },
   {
    "duration": 5,
    "start_time": "2024-03-21T21:11:23.106Z"
   },
   {
    "duration": 6,
    "start_time": "2024-03-21T21:12:11.947Z"
   },
   {
    "duration": 4,
    "start_time": "2024-03-21T21:12:12.476Z"
   },
   {
    "duration": 4,
    "start_time": "2024-03-21T21:21:51.960Z"
   },
   {
    "duration": 100,
    "start_time": "2024-03-21T21:21:51.966Z"
   },
   {
    "duration": 14,
    "start_time": "2024-03-21T21:21:52.068Z"
   },
   {
    "duration": 15,
    "start_time": "2024-03-21T21:21:52.084Z"
   },
   {
    "duration": 37,
    "start_time": "2024-03-21T21:21:52.116Z"
   },
   {
    "duration": 6,
    "start_time": "2024-03-21T21:21:52.155Z"
   },
   {
    "duration": 10,
    "start_time": "2024-03-21T21:21:52.163Z"
   },
   {
    "duration": 14,
    "start_time": "2024-03-21T21:21:52.174Z"
   },
   {
    "duration": 42,
    "start_time": "2024-03-21T21:21:52.190Z"
   },
   {
    "duration": 19,
    "start_time": "2024-03-21T21:21:52.233Z"
   },
   {
    "duration": 12,
    "start_time": "2024-03-21T21:21:52.253Z"
   },
   {
    "duration": 5,
    "start_time": "2024-03-21T21:21:52.267Z"
   },
   {
    "duration": 7,
    "start_time": "2024-03-21T21:21:52.273Z"
   },
   {
    "duration": 17,
    "start_time": "2024-03-21T21:21:52.283Z"
   },
   {
    "duration": 13,
    "start_time": "2024-03-21T21:21:52.301Z"
   },
   {
    "duration": 18,
    "start_time": "2024-03-21T21:21:52.315Z"
   },
   {
    "duration": 21,
    "start_time": "2024-03-21T21:21:52.334Z"
   },
   {
    "duration": 14,
    "start_time": "2024-03-21T21:21:52.357Z"
   },
   {
    "duration": 5,
    "start_time": "2024-03-21T21:21:52.373Z"
   },
   {
    "duration": 10,
    "start_time": "2024-03-21T21:21:52.379Z"
   },
   {
    "duration": 26,
    "start_time": "2024-03-21T21:21:52.390Z"
   },
   {
    "duration": 24,
    "start_time": "2024-03-21T21:21:52.417Z"
   },
   {
    "duration": 5,
    "start_time": "2024-03-21T21:21:52.442Z"
   },
   {
    "duration": 7,
    "start_time": "2024-03-21T21:21:52.449Z"
   },
   {
    "duration": 15,
    "start_time": "2024-03-21T21:21:52.458Z"
   },
   {
    "duration": 36,
    "start_time": "2024-03-21T21:21:52.475Z"
   },
   {
    "duration": 3776,
    "start_time": "2024-03-21T21:21:52.512Z"
   },
   {
    "duration": 27,
    "start_time": "2024-03-21T21:21:56.290Z"
   },
   {
    "duration": 4,
    "start_time": "2024-03-21T21:21:56.319Z"
   },
   {
    "duration": 10,
    "start_time": "2024-03-21T21:21:56.324Z"
   },
   {
    "duration": 5,
    "start_time": "2024-03-21T21:21:56.335Z"
   },
   {
    "duration": 10,
    "start_time": "2024-03-21T21:21:56.342Z"
   },
   {
    "duration": 24,
    "start_time": "2024-03-21T21:21:56.354Z"
   },
   {
    "duration": 57,
    "start_time": "2024-03-21T21:21:56.380Z"
   },
   {
    "duration": 11,
    "start_time": "2024-03-21T21:21:56.439Z"
   },
   {
    "duration": 14,
    "start_time": "2024-03-21T21:21:56.452Z"
   },
   {
    "duration": 12,
    "start_time": "2024-03-21T21:21:56.467Z"
   },
   {
    "duration": 4,
    "start_time": "2024-03-21T21:21:56.481Z"
   },
   {
    "duration": 7,
    "start_time": "2024-03-21T21:21:56.514Z"
   },
   {
    "duration": 52,
    "start_time": "2024-03-21T21:21:56.522Z"
   },
   {
    "duration": 37,
    "start_time": "2024-03-21T21:21:56.578Z"
   },
   {
    "duration": 5,
    "start_time": "2024-03-21T21:21:56.616Z"
   },
   {
    "duration": 23,
    "start_time": "2024-03-21T21:21:56.623Z"
   },
   {
    "duration": 19,
    "start_time": "2024-03-21T21:21:56.647Z"
   },
   {
    "duration": 8,
    "start_time": "2024-03-21T21:21:56.668Z"
   },
   {
    "duration": 58,
    "start_time": "2024-03-21T21:21:56.678Z"
   },
   {
    "duration": 20,
    "start_time": "2024-03-21T21:21:56.737Z"
   },
   {
    "duration": 227,
    "start_time": "2024-03-21T21:21:56.758Z"
   },
   {
    "duration": 171,
    "start_time": "2024-03-21T21:21:56.987Z"
   },
   {
    "duration": 146,
    "start_time": "2024-03-21T21:21:57.159Z"
   },
   {
    "duration": 158,
    "start_time": "2024-03-21T21:21:57.307Z"
   },
   {
    "duration": 4,
    "start_time": "2024-03-21T21:21:57.467Z"
   },
   {
    "duration": 28,
    "start_time": "2024-03-21T21:21:57.473Z"
   },
   {
    "duration": 3,
    "start_time": "2024-03-21T21:21:57.503Z"
   },
   {
    "duration": 18,
    "start_time": "2024-03-21T21:21:57.508Z"
   },
   {
    "duration": 16,
    "start_time": "2024-03-21T21:21:57.527Z"
   },
   {
    "duration": 18,
    "start_time": "2024-03-21T21:21:57.545Z"
   },
   {
    "duration": 18,
    "start_time": "2024-03-21T21:21:57.565Z"
   },
   {
    "duration": 5,
    "start_time": "2024-03-21T21:21:57.584Z"
   },
   {
    "duration": 204,
    "start_time": "2024-03-21T21:21:57.591Z"
   },
   {
    "duration": 4,
    "start_time": "2024-03-21T21:21:57.796Z"
   },
   {
    "duration": 222,
    "start_time": "2024-03-21T21:21:57.802Z"
   },
   {
    "duration": 467,
    "start_time": "2024-03-21T21:21:58.026Z"
   },
   {
    "duration": 28,
    "start_time": "2024-03-21T21:21:58.494Z"
   },
   {
    "duration": 4,
    "start_time": "2024-03-21T21:21:58.523Z"
   },
   {
    "duration": 400,
    "start_time": "2024-03-21T21:21:58.529Z"
   },
   {
    "duration": 403,
    "start_time": "2024-03-21T21:21:58.930Z"
   },
   {
    "duration": 6,
    "start_time": "2024-03-21T21:21:59.335Z"
   },
   {
    "duration": 338,
    "start_time": "2024-03-21T21:21:59.342Z"
   },
   {
    "duration": 429,
    "start_time": "2024-03-21T21:21:59.682Z"
   },
   {
    "duration": 4,
    "start_time": "2024-03-21T21:37:09.633Z"
   },
   {
    "duration": 91,
    "start_time": "2024-03-21T21:37:09.638Z"
   },
   {
    "duration": 15,
    "start_time": "2024-03-21T21:37:09.731Z"
   },
   {
    "duration": 15,
    "start_time": "2024-03-21T21:37:09.748Z"
   },
   {
    "duration": 39,
    "start_time": "2024-03-21T21:37:09.765Z"
   },
   {
    "duration": 7,
    "start_time": "2024-03-21T21:37:09.805Z"
   },
   {
    "duration": 12,
    "start_time": "2024-03-21T21:37:09.813Z"
   },
   {
    "duration": 12,
    "start_time": "2024-03-21T21:37:09.826Z"
   },
   {
    "duration": 15,
    "start_time": "2024-03-21T21:37:09.839Z"
   },
   {
    "duration": 6,
    "start_time": "2024-03-21T21:37:09.856Z"
   },
   {
    "duration": 4,
    "start_time": "2024-03-21T21:37:09.864Z"
   },
   {
    "duration": 11,
    "start_time": "2024-03-21T21:37:09.870Z"
   },
   {
    "duration": 7,
    "start_time": "2024-03-21T21:37:09.883Z"
   },
   {
    "duration": 24,
    "start_time": "2024-03-21T21:37:09.892Z"
   },
   {
    "duration": 16,
    "start_time": "2024-03-21T21:37:09.917Z"
   },
   {
    "duration": 15,
    "start_time": "2024-03-21T21:37:09.934Z"
   },
   {
    "duration": 30,
    "start_time": "2024-03-21T21:37:09.951Z"
   },
   {
    "duration": 45,
    "start_time": "2024-03-21T21:37:09.982Z"
   },
   {
    "duration": 4,
    "start_time": "2024-03-21T21:37:10.029Z"
   },
   {
    "duration": 13,
    "start_time": "2024-03-21T21:37:10.035Z"
   },
   {
    "duration": 12,
    "start_time": "2024-03-21T21:37:10.050Z"
   },
   {
    "duration": 27,
    "start_time": "2024-03-21T21:37:10.064Z"
   },
   {
    "duration": 16,
    "start_time": "2024-03-21T21:37:10.093Z"
   },
   {
    "duration": 5,
    "start_time": "2024-03-21T21:37:10.114Z"
   },
   {
    "duration": 7,
    "start_time": "2024-03-21T21:37:10.120Z"
   },
   {
    "duration": 40,
    "start_time": "2024-03-21T21:37:10.129Z"
   },
   {
    "duration": 3662,
    "start_time": "2024-03-21T21:37:10.170Z"
   },
   {
    "duration": 16,
    "start_time": "2024-03-21T21:37:13.833Z"
   },
   {
    "duration": 4,
    "start_time": "2024-03-21T21:37:13.853Z"
   },
   {
    "duration": 16,
    "start_time": "2024-03-21T21:37:13.858Z"
   },
   {
    "duration": 15,
    "start_time": "2024-03-21T21:37:13.875Z"
   },
   {
    "duration": 10,
    "start_time": "2024-03-21T21:37:13.891Z"
   },
   {
    "duration": 34,
    "start_time": "2024-03-21T21:37:13.903Z"
   },
   {
    "duration": 22,
    "start_time": "2024-03-21T21:37:13.938Z"
   },
   {
    "duration": 10,
    "start_time": "2024-03-21T21:37:13.962Z"
   },
   {
    "duration": 15,
    "start_time": "2024-03-21T21:37:13.973Z"
   },
   {
    "duration": 33,
    "start_time": "2024-03-21T21:37:13.989Z"
   },
   {
    "duration": 14,
    "start_time": "2024-03-21T21:37:14.024Z"
   },
   {
    "duration": 21,
    "start_time": "2024-03-21T21:37:14.040Z"
   },
   {
    "duration": 63,
    "start_time": "2024-03-21T21:37:14.063Z"
   },
   {
    "duration": 22,
    "start_time": "2024-03-21T21:37:14.127Z"
   },
   {
    "duration": 19,
    "start_time": "2024-03-21T21:37:14.151Z"
   },
   {
    "duration": 39,
    "start_time": "2024-03-21T21:37:14.173Z"
   },
   {
    "duration": 29,
    "start_time": "2024-03-21T21:37:14.215Z"
   },
   {
    "duration": 9,
    "start_time": "2024-03-21T21:37:14.246Z"
   },
   {
    "duration": 25,
    "start_time": "2024-03-21T21:37:14.257Z"
   },
   {
    "duration": 46,
    "start_time": "2024-03-21T21:37:14.284Z"
   },
   {
    "duration": 166,
    "start_time": "2024-03-21T21:37:14.332Z"
   },
   {
    "duration": 166,
    "start_time": "2024-03-21T21:37:14.500Z"
   },
   {
    "duration": 149,
    "start_time": "2024-03-21T21:37:14.667Z"
   },
   {
    "duration": 155,
    "start_time": "2024-03-21T21:37:14.818Z"
   },
   {
    "duration": 3,
    "start_time": "2024-03-21T21:37:14.975Z"
   },
   {
    "duration": 13,
    "start_time": "2024-03-21T21:37:14.979Z"
   },
   {
    "duration": 4,
    "start_time": "2024-03-21T21:37:14.993Z"
   },
   {
    "duration": 4,
    "start_time": "2024-03-21T21:37:15.015Z"
   },
   {
    "duration": 41,
    "start_time": "2024-03-21T21:37:15.021Z"
   },
   {
    "duration": 34,
    "start_time": "2024-03-21T21:37:15.063Z"
   },
   {
    "duration": 17,
    "start_time": "2024-03-21T21:37:15.099Z"
   },
   {
    "duration": 15,
    "start_time": "2024-03-21T21:37:15.118Z"
   },
   {
    "duration": 281,
    "start_time": "2024-03-21T21:37:15.134Z"
   },
   {
    "duration": 4,
    "start_time": "2024-03-21T21:37:15.417Z"
   },
   {
    "duration": 208,
    "start_time": "2024-03-21T21:37:15.423Z"
   },
   {
    "duration": 326,
    "start_time": "2024-03-21T21:37:15.633Z"
   },
   {
    "duration": 18,
    "start_time": "2024-03-21T21:37:15.961Z"
   },
   {
    "duration": 3,
    "start_time": "2024-03-21T21:37:15.981Z"
   },
   {
    "duration": 404,
    "start_time": "2024-03-21T21:37:15.986Z"
   },
   {
    "duration": 408,
    "start_time": "2024-03-21T21:37:16.391Z"
   },
   {
    "duration": 17,
    "start_time": "2024-03-21T21:37:16.801Z"
   },
   {
    "duration": 350,
    "start_time": "2024-03-21T21:37:16.820Z"
   },
   {
    "duration": 398,
    "start_time": "2024-03-21T21:37:17.172Z"
   },
   {
    "duration": 3,
    "start_time": "2024-03-21T21:42:20.365Z"
   },
   {
    "duration": 95,
    "start_time": "2024-03-21T21:42:20.370Z"
   },
   {
    "duration": 14,
    "start_time": "2024-03-21T21:42:20.467Z"
   },
   {
    "duration": 18,
    "start_time": "2024-03-21T21:42:20.483Z"
   },
   {
    "duration": 49,
    "start_time": "2024-03-21T21:42:20.503Z"
   },
   {
    "duration": 6,
    "start_time": "2024-03-21T21:42:20.554Z"
   },
   {
    "duration": 24,
    "start_time": "2024-03-21T21:42:20.561Z"
   },
   {
    "duration": 20,
    "start_time": "2024-03-21T21:42:20.586Z"
   },
   {
    "duration": 18,
    "start_time": "2024-03-21T21:42:20.608Z"
   },
   {
    "duration": 5,
    "start_time": "2024-03-21T21:42:20.628Z"
   },
   {
    "duration": 4,
    "start_time": "2024-03-21T21:42:20.637Z"
   },
   {
    "duration": 19,
    "start_time": "2024-03-21T21:42:20.643Z"
   },
   {
    "duration": 11,
    "start_time": "2024-03-21T21:42:20.663Z"
   },
   {
    "duration": 8,
    "start_time": "2024-03-21T21:42:20.675Z"
   },
   {
    "duration": 36,
    "start_time": "2024-03-21T21:42:20.685Z"
   },
   {
    "duration": 16,
    "start_time": "2024-03-21T21:42:20.723Z"
   },
   {
    "duration": 36,
    "start_time": "2024-03-21T21:42:20.741Z"
   },
   {
    "duration": 49,
    "start_time": "2024-03-21T21:42:20.779Z"
   },
   {
    "duration": 10,
    "start_time": "2024-03-21T21:42:20.830Z"
   },
   {
    "duration": 9,
    "start_time": "2024-03-21T21:42:20.842Z"
   },
   {
    "duration": 6,
    "start_time": "2024-03-21T21:42:20.852Z"
   },
   {
    "duration": 20,
    "start_time": "2024-03-21T21:42:20.859Z"
   },
   {
    "duration": 8,
    "start_time": "2024-03-21T21:42:20.880Z"
   },
   {
    "duration": 26,
    "start_time": "2024-03-21T21:42:20.889Z"
   },
   {
    "duration": 19,
    "start_time": "2024-03-21T21:42:20.916Z"
   },
   {
    "duration": 41,
    "start_time": "2024-03-21T21:42:20.937Z"
   },
   {
    "duration": 3708,
    "start_time": "2024-03-21T21:42:20.979Z"
   },
   {
    "duration": 17,
    "start_time": "2024-03-21T21:42:24.688Z"
   },
   {
    "duration": 10,
    "start_time": "2024-03-21T21:42:24.708Z"
   },
   {
    "duration": 8,
    "start_time": "2024-03-21T21:42:24.720Z"
   },
   {
    "duration": 8,
    "start_time": "2024-03-21T21:42:24.730Z"
   },
   {
    "duration": 11,
    "start_time": "2024-03-21T21:42:24.740Z"
   },
   {
    "duration": 32,
    "start_time": "2024-03-21T21:42:24.753Z"
   },
   {
    "duration": 54,
    "start_time": "2024-03-21T21:42:24.787Z"
   },
   {
    "duration": 13,
    "start_time": "2024-03-21T21:42:24.843Z"
   },
   {
    "duration": 19,
    "start_time": "2024-03-21T21:42:24.858Z"
   },
   {
    "duration": 11,
    "start_time": "2024-03-21T21:42:24.878Z"
   },
   {
    "duration": 27,
    "start_time": "2024-03-21T21:42:24.891Z"
   },
   {
    "duration": 9,
    "start_time": "2024-03-21T21:42:24.919Z"
   },
   {
    "duration": 62,
    "start_time": "2024-03-21T21:42:24.929Z"
   },
   {
    "duration": 25,
    "start_time": "2024-03-21T21:42:24.992Z"
   },
   {
    "duration": 6,
    "start_time": "2024-03-21T21:42:25.019Z"
   },
   {
    "duration": 37,
    "start_time": "2024-03-21T21:42:25.027Z"
   },
   {
    "duration": 19,
    "start_time": "2024-03-21T21:42:25.065Z"
   },
   {
    "duration": 34,
    "start_time": "2024-03-21T21:42:25.086Z"
   },
   {
    "duration": 23,
    "start_time": "2024-03-21T21:42:25.122Z"
   },
   {
    "duration": 19,
    "start_time": "2024-03-21T21:42:25.146Z"
   },
   {
    "duration": 184,
    "start_time": "2024-03-21T21:42:25.166Z"
   },
   {
    "duration": 166,
    "start_time": "2024-03-21T21:42:25.352Z"
   },
   {
    "duration": 234,
    "start_time": "2024-03-21T21:42:25.520Z"
   },
   {
    "duration": 153,
    "start_time": "2024-03-21T21:42:25.756Z"
   },
   {
    "duration": 5,
    "start_time": "2024-03-21T21:42:25.914Z"
   },
   {
    "duration": 19,
    "start_time": "2024-03-21T21:42:25.920Z"
   },
   {
    "duration": 3,
    "start_time": "2024-03-21T21:42:25.941Z"
   },
   {
    "duration": 23,
    "start_time": "2024-03-21T21:42:25.945Z"
   },
   {
    "duration": 35,
    "start_time": "2024-03-21T21:42:25.970Z"
   },
   {
    "duration": 28,
    "start_time": "2024-03-21T21:42:26.006Z"
   },
   {
    "duration": 18,
    "start_time": "2024-03-21T21:42:26.036Z"
   },
   {
    "duration": 5,
    "start_time": "2024-03-21T21:42:26.055Z"
   },
   {
    "duration": 197,
    "start_time": "2024-03-21T21:42:26.062Z"
   },
   {
    "duration": 4,
    "start_time": "2024-03-21T21:42:26.261Z"
   },
   {
    "duration": 214,
    "start_time": "2024-03-21T21:42:26.267Z"
   },
   {
    "duration": 304,
    "start_time": "2024-03-21T21:42:26.483Z"
   },
   {
    "duration": 31,
    "start_time": "2024-03-21T21:42:26.789Z"
   },
   {
    "duration": 4,
    "start_time": "2024-03-21T21:42:26.822Z"
   },
   {
    "duration": 412,
    "start_time": "2024-03-21T21:42:26.827Z"
   },
   {
    "duration": 418,
    "start_time": "2024-03-21T21:42:27.240Z"
   },
   {
    "duration": 7,
    "start_time": "2024-03-21T21:42:27.659Z"
   },
   {
    "duration": 331,
    "start_time": "2024-03-21T21:42:27.667Z"
   },
   {
    "duration": 438,
    "start_time": "2024-03-21T21:42:27.999Z"
   },
   {
    "duration": 189,
    "start_time": "2024-03-21T21:52:01.619Z"
   },
   {
    "duration": 186,
    "start_time": "2024-03-21T21:52:14.652Z"
   },
   {
    "duration": 409,
    "start_time": "2024-03-21T21:55:09.357Z"
   },
   {
    "duration": 411,
    "start_time": "2024-03-21T21:56:13.648Z"
   },
   {
    "duration": 441,
    "start_time": "2024-03-21T21:56:27.675Z"
   },
   {
    "duration": 272,
    "start_time": "2024-03-21T21:56:37.793Z"
   },
   {
    "duration": 288,
    "start_time": "2024-03-21T21:56:50.891Z"
   },
   {
    "duration": 298,
    "start_time": "2024-03-21T21:57:04.690Z"
   },
   {
    "duration": 302,
    "start_time": "2024-03-21T21:57:21.947Z"
   },
   {
    "duration": 273,
    "start_time": "2024-03-21T21:57:29.021Z"
   },
   {
    "duration": 263,
    "start_time": "2024-03-21T21:57:33.708Z"
   },
   {
    "duration": 152,
    "start_time": "2024-03-21T22:08:11.018Z"
   },
   {
    "duration": 240,
    "start_time": "2024-03-21T22:08:16.081Z"
   },
   {
    "duration": 137,
    "start_time": "2024-03-21T22:08:31.892Z"
   },
   {
    "duration": 159,
    "start_time": "2024-03-21T22:08:48.808Z"
   },
   {
    "duration": 147,
    "start_time": "2024-03-21T22:36:23.273Z"
   },
   {
    "duration": 162,
    "start_time": "2024-03-21T22:36:31.430Z"
   },
   {
    "duration": 157,
    "start_time": "2024-03-21T22:36:35.440Z"
   },
   {
    "duration": 142,
    "start_time": "2024-03-21T22:36:38.581Z"
   },
   {
    "duration": 154,
    "start_time": "2024-03-21T22:36:43.068Z"
   },
   {
    "duration": 144,
    "start_time": "2024-03-21T22:36:53.686Z"
   },
   {
    "duration": 147,
    "start_time": "2024-03-21T22:37:11.971Z"
   },
   {
    "duration": 149,
    "start_time": "2024-03-21T22:37:20.148Z"
   },
   {
    "duration": 145,
    "start_time": "2024-03-21T22:37:41.624Z"
   },
   {
    "duration": 153,
    "start_time": "2024-03-21T22:37:48.721Z"
   },
   {
    "duration": 158,
    "start_time": "2024-03-21T22:37:52.701Z"
   },
   {
    "duration": 143,
    "start_time": "2024-03-21T22:37:57.284Z"
   },
   {
    "duration": 259,
    "start_time": "2024-03-21T22:38:02.991Z"
   },
   {
    "duration": 153,
    "start_time": "2024-03-21T22:38:13.676Z"
   },
   {
    "duration": 155,
    "start_time": "2024-03-21T22:38:18.091Z"
   },
   {
    "duration": 158,
    "start_time": "2024-03-21T22:38:21.120Z"
   },
   {
    "duration": 156,
    "start_time": "2024-03-21T22:38:34.418Z"
   },
   {
    "duration": 149,
    "start_time": "2024-03-21T22:38:42.930Z"
   },
   {
    "duration": 161,
    "start_time": "2024-03-21T22:38:49.416Z"
   },
   {
    "duration": 152,
    "start_time": "2024-03-21T22:39:02.323Z"
   },
   {
    "duration": 153,
    "start_time": "2024-03-21T22:39:05.681Z"
   },
   {
    "duration": 144,
    "start_time": "2024-03-21T22:40:30.010Z"
   },
   {
    "duration": 165,
    "start_time": "2024-03-21T22:41:23.411Z"
   },
   {
    "duration": 154,
    "start_time": "2024-03-21T22:51:34.724Z"
   },
   {
    "duration": 158,
    "start_time": "2024-03-21T22:51:37.439Z"
   },
   {
    "duration": 142,
    "start_time": "2024-03-21T22:51:40.494Z"
   },
   {
    "duration": 151,
    "start_time": "2024-03-21T22:51:57.181Z"
   },
   {
    "duration": 237,
    "start_time": "2024-03-21T22:54:56.944Z"
   },
   {
    "duration": 147,
    "start_time": "2024-03-21T22:55:38.987Z"
   },
   {
    "duration": 142,
    "start_time": "2024-03-21T22:55:42.256Z"
   },
   {
    "duration": 140,
    "start_time": "2024-03-21T22:55:58.533Z"
   },
   {
    "duration": 166,
    "start_time": "2024-03-21T23:00:20.243Z"
   },
   {
    "duration": 162,
    "start_time": "2024-03-21T23:00:24.049Z"
   },
   {
    "duration": 147,
    "start_time": "2024-03-21T23:00:28.206Z"
   },
   {
    "duration": 158,
    "start_time": "2024-03-21T23:00:33.051Z"
   },
   {
    "duration": 150,
    "start_time": "2024-03-21T23:00:36.226Z"
   },
   {
    "duration": 174,
    "start_time": "2024-03-21T23:00:44.657Z"
   },
   {
    "duration": 3,
    "start_time": "2024-03-21T23:03:05.333Z"
   },
   {
    "duration": 97,
    "start_time": "2024-03-21T23:03:05.338Z"
   },
   {
    "duration": 15,
    "start_time": "2024-03-21T23:03:05.436Z"
   },
   {
    "duration": 17,
    "start_time": "2024-03-21T23:03:05.453Z"
   },
   {
    "duration": 38,
    "start_time": "2024-03-21T23:03:05.473Z"
   },
   {
    "duration": 8,
    "start_time": "2024-03-21T23:03:05.512Z"
   },
   {
    "duration": 11,
    "start_time": "2024-03-21T23:03:05.521Z"
   },
   {
    "duration": 11,
    "start_time": "2024-03-21T23:03:05.534Z"
   },
   {
    "duration": 16,
    "start_time": "2024-03-21T23:03:05.546Z"
   },
   {
    "duration": 5,
    "start_time": "2024-03-21T23:03:05.563Z"
   },
   {
    "duration": 7,
    "start_time": "2024-03-21T23:03:05.569Z"
   },
   {
    "duration": 14,
    "start_time": "2024-03-21T23:03:05.578Z"
   },
   {
    "duration": 21,
    "start_time": "2024-03-21T23:03:05.594Z"
   },
   {
    "duration": 14,
    "start_time": "2024-03-21T23:03:05.617Z"
   },
   {
    "duration": 23,
    "start_time": "2024-03-21T23:03:05.633Z"
   },
   {
    "duration": 14,
    "start_time": "2024-03-21T23:03:05.658Z"
   },
   {
    "duration": 52,
    "start_time": "2024-03-21T23:03:05.673Z"
   },
   {
    "duration": 17,
    "start_time": "2024-03-21T23:03:05.728Z"
   },
   {
    "duration": 10,
    "start_time": "2024-03-21T23:03:05.746Z"
   },
   {
    "duration": 25,
    "start_time": "2024-03-21T23:03:05.757Z"
   },
   {
    "duration": 10,
    "start_time": "2024-03-21T23:03:05.783Z"
   },
   {
    "duration": 13,
    "start_time": "2024-03-21T23:03:05.798Z"
   },
   {
    "duration": 13,
    "start_time": "2024-03-21T23:03:05.816Z"
   },
   {
    "duration": 5,
    "start_time": "2024-03-21T23:03:05.831Z"
   },
   {
    "duration": 7,
    "start_time": "2024-03-21T23:03:05.837Z"
   },
   {
    "duration": 30,
    "start_time": "2024-03-21T23:03:05.846Z"
   },
   {
    "duration": 3734,
    "start_time": "2024-03-21T23:03:05.879Z"
   },
   {
    "duration": 22,
    "start_time": "2024-03-21T23:03:09.618Z"
   },
   {
    "duration": 4,
    "start_time": "2024-03-21T23:03:09.642Z"
   },
   {
    "duration": 8,
    "start_time": "2024-03-21T23:03:09.648Z"
   },
   {
    "duration": 9,
    "start_time": "2024-03-21T23:03:09.658Z"
   },
   {
    "duration": 11,
    "start_time": "2024-03-21T23:03:09.668Z"
   },
   {
    "duration": 54,
    "start_time": "2024-03-21T23:03:09.680Z"
   },
   {
    "duration": 22,
    "start_time": "2024-03-21T23:03:09.736Z"
   },
   {
    "duration": 9,
    "start_time": "2024-03-21T23:03:09.760Z"
   },
   {
    "duration": 15,
    "start_time": "2024-03-21T23:03:09.771Z"
   },
   {
    "duration": 9,
    "start_time": "2024-03-21T23:03:09.815Z"
   },
   {
    "duration": 7,
    "start_time": "2024-03-21T23:03:09.826Z"
   },
   {
    "duration": 20,
    "start_time": "2024-03-21T23:03:09.835Z"
   },
   {
    "duration": 67,
    "start_time": "2024-03-21T23:03:09.857Z"
   },
   {
    "duration": 21,
    "start_time": "2024-03-21T23:03:09.926Z"
   },
   {
    "duration": 16,
    "start_time": "2024-03-21T23:03:09.948Z"
   },
   {
    "duration": 24,
    "start_time": "2024-03-21T23:03:09.965Z"
   },
   {
    "duration": 33,
    "start_time": "2024-03-21T23:03:09.991Z"
   },
   {
    "duration": 8,
    "start_time": "2024-03-21T23:03:10.025Z"
   },
   {
    "duration": 48,
    "start_time": "2024-03-21T23:03:10.034Z"
   },
   {
    "duration": 20,
    "start_time": "2024-03-21T23:03:10.084Z"
   },
   {
    "duration": 158,
    "start_time": "2024-03-21T23:03:10.105Z"
   },
   {
    "duration": 259,
    "start_time": "2024-03-21T23:03:10.265Z"
   },
   {
    "duration": 145,
    "start_time": "2024-03-21T23:03:10.526Z"
   },
   {
    "duration": 153,
    "start_time": "2024-03-21T23:03:10.673Z"
   },
   {
    "duration": 182,
    "start_time": "2024-03-21T23:03:10.828Z"
   },
   {
    "duration": 4,
    "start_time": "2024-03-21T23:03:11.015Z"
   },
   {
    "duration": 13,
    "start_time": "2024-03-21T23:03:11.021Z"
   },
   {
    "duration": 5,
    "start_time": "2024-03-21T23:03:11.036Z"
   },
   {
    "duration": 6,
    "start_time": "2024-03-21T23:03:11.042Z"
   },
   {
    "duration": 21,
    "start_time": "2024-03-21T23:03:11.049Z"
   },
   {
    "duration": 43,
    "start_time": "2024-03-21T23:03:11.074Z"
   },
   {
    "duration": 18,
    "start_time": "2024-03-21T23:03:11.118Z"
   },
   {
    "duration": 4,
    "start_time": "2024-03-21T23:03:11.137Z"
   },
   {
    "duration": 213,
    "start_time": "2024-03-21T23:03:11.143Z"
   },
   {
    "duration": 5,
    "start_time": "2024-03-21T23:03:11.357Z"
   },
   {
    "duration": 211,
    "start_time": "2024-03-21T23:03:11.363Z"
   },
   {
    "duration": 274,
    "start_time": "2024-03-21T23:03:11.576Z"
   },
   {
    "duration": 20,
    "start_time": "2024-03-21T23:03:11.851Z"
   },
   {
    "duration": 4,
    "start_time": "2024-03-21T23:03:11.872Z"
   },
   {
    "duration": 405,
    "start_time": "2024-03-21T23:03:11.877Z"
   },
   {
    "duration": 407,
    "start_time": "2024-03-21T23:03:12.283Z"
   },
   {
    "duration": 5,
    "start_time": "2024-03-21T23:03:12.692Z"
   },
   {
    "duration": 315,
    "start_time": "2024-03-21T23:03:12.699Z"
   },
   {
    "duration": 620,
    "start_time": "2024-03-21T23:03:13.016Z"
   },
   {
    "duration": 34,
    "start_time": "2024-03-21T23:04:57.925Z"
   },
   {
    "duration": 31,
    "start_time": "2024-03-21T23:05:12.043Z"
   },
   {
    "duration": 3,
    "start_time": "2024-03-21T23:05:31.678Z"
   },
   {
    "duration": 123,
    "start_time": "2024-03-21T23:05:31.685Z"
   },
   {
    "duration": 14,
    "start_time": "2024-03-21T23:05:31.810Z"
   },
   {
    "duration": 25,
    "start_time": "2024-03-21T23:05:31.825Z"
   },
   {
    "duration": 38,
    "start_time": "2024-03-21T23:05:31.851Z"
   },
   {
    "duration": 6,
    "start_time": "2024-03-21T23:05:31.891Z"
   },
   {
    "duration": 35,
    "start_time": "2024-03-21T23:05:31.899Z"
   },
   {
    "duration": 106,
    "start_time": "2024-03-21T23:05:31.936Z"
   },
   {
    "duration": 17,
    "start_time": "2024-03-21T23:05:32.044Z"
   },
   {
    "duration": 12,
    "start_time": "2024-03-21T23:05:32.063Z"
   },
   {
    "duration": 4,
    "start_time": "2024-03-21T23:05:32.077Z"
   },
   {
    "duration": 10,
    "start_time": "2024-03-21T23:05:32.083Z"
   },
   {
    "duration": 19,
    "start_time": "2024-03-21T23:05:32.095Z"
   },
   {
    "duration": 4,
    "start_time": "2024-03-21T23:05:32.116Z"
   },
   {
    "duration": 14,
    "start_time": "2024-03-21T23:05:32.121Z"
   },
   {
    "duration": 13,
    "start_time": "2024-03-21T23:05:32.137Z"
   },
   {
    "duration": 31,
    "start_time": "2024-03-21T23:05:32.152Z"
   },
   {
    "duration": 38,
    "start_time": "2024-03-21T23:05:32.185Z"
   },
   {
    "duration": 4,
    "start_time": "2024-03-21T23:05:32.225Z"
   },
   {
    "duration": 12,
    "start_time": "2024-03-21T23:05:32.231Z"
   },
   {
    "duration": 6,
    "start_time": "2024-03-21T23:05:32.244Z"
   },
   {
    "duration": 13,
    "start_time": "2024-03-21T23:05:32.252Z"
   },
   {
    "duration": 4,
    "start_time": "2024-03-21T23:05:32.267Z"
   },
   {
    "duration": 13,
    "start_time": "2024-03-21T23:05:32.272Z"
   },
   {
    "duration": 9,
    "start_time": "2024-03-21T23:05:32.286Z"
   },
   {
    "duration": 39,
    "start_time": "2024-03-21T23:05:32.296Z"
   },
   {
    "duration": 3963,
    "start_time": "2024-03-21T23:05:32.336Z"
   },
   {
    "duration": 25,
    "start_time": "2024-03-21T23:05:36.301Z"
   },
   {
    "duration": 4,
    "start_time": "2024-03-21T23:05:36.330Z"
   },
   {
    "duration": 8,
    "start_time": "2024-03-21T23:05:36.335Z"
   },
   {
    "duration": 7,
    "start_time": "2024-03-21T23:05:36.344Z"
   },
   {
    "duration": 12,
    "start_time": "2024-03-21T23:05:36.352Z"
   },
   {
    "duration": 24,
    "start_time": "2024-03-21T23:05:36.365Z"
   },
   {
    "duration": 24,
    "start_time": "2024-03-21T23:05:36.414Z"
   },
   {
    "duration": 12,
    "start_time": "2024-03-21T23:05:36.440Z"
   },
   {
    "duration": 16,
    "start_time": "2024-03-21T23:05:36.453Z"
   },
   {
    "duration": 8,
    "start_time": "2024-03-21T23:05:36.471Z"
   },
   {
    "duration": 39,
    "start_time": "2024-03-21T23:05:36.480Z"
   },
   {
    "duration": 24,
    "start_time": "2024-03-21T23:05:36.521Z"
   },
   {
    "duration": 50,
    "start_time": "2024-03-21T23:05:36.547Z"
   },
   {
    "duration": 25,
    "start_time": "2024-03-21T23:05:36.599Z"
   },
   {
    "duration": 7,
    "start_time": "2024-03-21T23:05:36.627Z"
   },
   {
    "duration": 24,
    "start_time": "2024-03-21T23:05:36.636Z"
   },
   {
    "duration": 20,
    "start_time": "2024-03-21T23:05:36.662Z"
   },
   {
    "duration": 39,
    "start_time": "2024-03-21T23:05:36.683Z"
   },
   {
    "duration": 25,
    "start_time": "2024-03-21T23:05:36.723Z"
   },
   {
    "duration": 20,
    "start_time": "2024-03-21T23:05:36.750Z"
   },
   {
    "duration": 193,
    "start_time": "2024-03-21T23:05:36.772Z"
   },
   {
    "duration": 174,
    "start_time": "2024-03-21T23:05:36.967Z"
   },
   {
    "duration": 147,
    "start_time": "2024-03-21T23:05:37.143Z"
   },
   {
    "duration": 160,
    "start_time": "2024-03-21T23:05:37.292Z"
   },
   {
    "duration": 168,
    "start_time": "2024-03-21T23:05:37.454Z"
   },
   {
    "duration": 4,
    "start_time": "2024-03-21T23:05:37.624Z"
   },
   {
    "duration": 12,
    "start_time": "2024-03-21T23:05:37.629Z"
   },
   {
    "duration": 3,
    "start_time": "2024-03-21T23:05:37.642Z"
   },
   {
    "duration": 6,
    "start_time": "2024-03-21T23:05:37.647Z"
   },
   {
    "duration": 17,
    "start_time": "2024-03-21T23:05:37.654Z"
   },
   {
    "duration": 14,
    "start_time": "2024-03-21T23:05:37.672Z"
   },
   {
    "duration": 17,
    "start_time": "2024-03-21T23:05:37.715Z"
   },
   {
    "duration": 4,
    "start_time": "2024-03-21T23:05:37.733Z"
   },
   {
    "duration": 195,
    "start_time": "2024-03-21T23:05:37.738Z"
   },
   {
    "duration": 4,
    "start_time": "2024-03-21T23:05:37.935Z"
   },
   {
    "duration": 230,
    "start_time": "2024-03-21T23:05:37.940Z"
   },
   {
    "duration": 302,
    "start_time": "2024-03-21T23:05:38.172Z"
   },
   {
    "duration": 20,
    "start_time": "2024-03-21T23:05:38.476Z"
   },
   {
    "duration": 18,
    "start_time": "2024-03-21T23:05:38.498Z"
   },
   {
    "duration": 425,
    "start_time": "2024-03-21T23:05:38.517Z"
   },
   {
    "duration": 491,
    "start_time": "2024-03-21T23:05:38.943Z"
   },
   {
    "duration": 7,
    "start_time": "2024-03-21T23:05:39.435Z"
   },
   {
    "duration": 322,
    "start_time": "2024-03-21T23:05:39.443Z"
   },
   {
    "duration": 392,
    "start_time": "2024-03-21T23:05:39.767Z"
   },
   {
    "duration": 51,
    "start_time": "2024-08-20T11:47:48.268Z"
   },
   {
    "duration": 1370,
    "start_time": "2024-08-20T11:56:17.427Z"
   },
   {
    "duration": 152,
    "start_time": "2024-08-20T11:56:18.799Z"
   },
   {
    "duration": 18,
    "start_time": "2024-08-20T11:56:18.952Z"
   },
   {
    "duration": 16,
    "start_time": "2024-08-20T11:56:18.972Z"
   },
   {
    "duration": 93,
    "start_time": "2024-08-20T11:56:18.989Z"
   },
   {
    "duration": 7,
    "start_time": "2024-08-20T11:56:19.083Z"
   },
   {
    "duration": 63,
    "start_time": "2024-08-20T11:56:19.092Z"
   },
   {
    "duration": 13,
    "start_time": "2024-08-20T11:56:19.157Z"
   },
   {
    "duration": 20,
    "start_time": "2024-08-20T11:56:19.172Z"
   },
   {
    "duration": 6,
    "start_time": "2024-08-20T11:56:19.195Z"
   },
   {
    "duration": 14,
    "start_time": "2024-08-20T11:56:19.202Z"
   },
   {
    "duration": 19,
    "start_time": "2024-08-20T11:56:19.218Z"
   },
   {
    "duration": 9,
    "start_time": "2024-08-20T11:56:19.238Z"
   },
   {
    "duration": 7,
    "start_time": "2024-08-20T11:56:19.248Z"
   },
   {
    "duration": 12,
    "start_time": "2024-08-20T11:56:19.257Z"
   },
   {
    "duration": 14,
    "start_time": "2024-08-20T11:56:19.270Z"
   },
   {
    "duration": 33,
    "start_time": "2024-08-20T11:56:19.285Z"
   },
   {
    "duration": 34,
    "start_time": "2024-08-20T11:56:19.320Z"
   },
   {
    "duration": 4,
    "start_time": "2024-08-20T11:56:19.356Z"
   },
   {
    "duration": 12,
    "start_time": "2024-08-20T11:56:19.362Z"
   },
   {
    "duration": 5,
    "start_time": "2024-08-20T11:56:19.375Z"
   },
   {
    "duration": 13,
    "start_time": "2024-08-20T11:56:19.381Z"
   },
   {
    "duration": 5,
    "start_time": "2024-08-20T11:56:19.395Z"
   },
   {
    "duration": 5,
    "start_time": "2024-08-20T11:56:19.401Z"
   },
   {
    "duration": 56,
    "start_time": "2024-08-20T11:56:19.407Z"
   },
   {
    "duration": 65,
    "start_time": "2024-08-20T11:56:19.465Z"
   },
   {
    "duration": 3561,
    "start_time": "2024-08-20T11:56:19.532Z"
   },
   {
    "duration": 19,
    "start_time": "2024-08-20T11:56:23.098Z"
   },
   {
    "duration": 29,
    "start_time": "2024-08-20T11:56:23.120Z"
   },
   {
    "duration": 24,
    "start_time": "2024-08-20T11:56:23.151Z"
   },
   {
    "duration": 14,
    "start_time": "2024-08-20T11:56:23.177Z"
   },
   {
    "duration": 11,
    "start_time": "2024-08-20T11:56:23.193Z"
   },
   {
    "duration": 29,
    "start_time": "2024-08-20T11:56:23.205Z"
   },
   {
    "duration": 23,
    "start_time": "2024-08-20T11:56:23.236Z"
   },
   {
    "duration": 11,
    "start_time": "2024-08-20T11:56:23.260Z"
   },
   {
    "duration": 14,
    "start_time": "2024-08-20T11:56:23.273Z"
   },
   {
    "duration": 8,
    "start_time": "2024-08-20T11:56:23.288Z"
   },
   {
    "duration": 4,
    "start_time": "2024-08-20T11:56:23.297Z"
   },
   {
    "duration": 5,
    "start_time": "2024-08-20T11:56:23.303Z"
   },
   {
    "duration": 79,
    "start_time": "2024-08-20T11:56:23.310Z"
   },
   {
    "duration": 19,
    "start_time": "2024-08-20T11:56:23.391Z"
   },
   {
    "duration": 56,
    "start_time": "2024-08-20T11:56:23.412Z"
   },
   {
    "duration": 26,
    "start_time": "2024-08-20T11:56:23.469Z"
   },
   {
    "duration": 32,
    "start_time": "2024-08-20T11:56:23.497Z"
   },
   {
    "duration": 11,
    "start_time": "2024-08-20T11:56:23.531Z"
   },
   {
    "duration": 22,
    "start_time": "2024-08-20T11:56:23.544Z"
   },
   {
    "duration": 63,
    "start_time": "2024-08-20T11:56:23.568Z"
   },
   {
    "duration": 167,
    "start_time": "2024-08-20T11:56:23.633Z"
   },
   {
    "duration": 170,
    "start_time": "2024-08-20T11:56:23.803Z"
   },
   {
    "duration": 148,
    "start_time": "2024-08-20T11:56:23.975Z"
   },
   {
    "duration": 144,
    "start_time": "2024-08-20T11:56:24.125Z"
   },
   {
    "duration": 149,
    "start_time": "2024-08-20T11:56:24.271Z"
   },
   {
    "duration": 5,
    "start_time": "2024-08-20T11:56:24.421Z"
   },
   {
    "duration": 23,
    "start_time": "2024-08-20T11:56:24.427Z"
   },
   {
    "duration": 3,
    "start_time": "2024-08-20T11:56:24.452Z"
   },
   {
    "duration": 11,
    "start_time": "2024-08-20T11:56:24.456Z"
   },
   {
    "duration": 17,
    "start_time": "2024-08-20T11:56:24.468Z"
   },
   {
    "duration": 14,
    "start_time": "2024-08-20T11:56:24.487Z"
   },
   {
    "duration": 114,
    "start_time": "2024-08-20T11:56:24.502Z"
   },
   {
    "duration": 4,
    "start_time": "2024-08-20T11:56:24.618Z"
   },
   {
    "duration": 191,
    "start_time": "2024-08-20T11:56:24.623Z"
   },
   {
    "duration": 4,
    "start_time": "2024-08-20T11:56:24.816Z"
   },
   {
    "duration": 219,
    "start_time": "2024-08-20T11:56:24.821Z"
   },
   {
    "duration": 335,
    "start_time": "2024-08-20T11:56:25.042Z"
   },
   {
    "duration": 20,
    "start_time": "2024-08-20T11:56:25.380Z"
   },
   {
    "duration": 4,
    "start_time": "2024-08-20T11:56:25.401Z"
   },
   {
    "duration": 473,
    "start_time": "2024-08-20T11:56:25.406Z"
   },
   {
    "duration": 373,
    "start_time": "2024-08-20T11:56:25.881Z"
   },
   {
    "duration": 7,
    "start_time": "2024-08-20T11:56:26.256Z"
   },
   {
    "duration": 358,
    "start_time": "2024-08-20T11:56:26.265Z"
   },
   {
    "duration": 380,
    "start_time": "2024-08-20T11:56:26.625Z"
   }
  ],
  "colab": {
   "name": "DA+. Сборный проект 1. Шаблон (1).ipynb",
   "provenance": []
  },
  "kernelspec": {
   "display_name": "Python 3 (ipykernel)",
   "language": "python",
   "name": "python3"
  },
  "language_info": {
   "codemirror_mode": {
    "name": "ipython",
    "version": 3
   },
   "file_extension": ".py",
   "mimetype": "text/x-python",
   "name": "python",
   "nbconvert_exporter": "python",
   "pygments_lexer": "ipython3",
   "version": "3.9.5"
  },
  "toc": {
   "base_numbering": 1,
   "nav_menu": {},
   "number_sections": true,
   "sideBar": true,
   "skip_h1_title": true,
   "title_cell": "Содержание",
   "title_sidebar": "Contents",
   "toc_cell": true,
   "toc_position": {
    "height": "calc(100% - 180px)",
    "left": "10px",
    "top": "150px",
    "width": "375.391px"
   },
   "toc_section_display": true,
   "toc_window_display": false
  }
 },
 "nbformat": 4,
 "nbformat_minor": 1
}
