{
 "cells": [
  {
   "cell_type": "markdown",
   "metadata": {},
   "source": [
    "# Исследование рынка заведений общественного питания Москвы\n"
   ]
  },
  {
   "cell_type": "markdown",
   "metadata": {
    "toc": true
   },
   "source": [
    "<h1>Содержание<span class=\"tocSkip\"></span></h1>\n",
    "<div class=\"toc\"><ul class=\"toc-item\"><li><span><a href=\"#Цели-и-ход-исследования\" data-toc-modified-id=\"Цели-и-ход-исследования-1\"><span class=\"toc-item-num\">1&nbsp;&nbsp;</span>Цели и ход исследования</a></span></li><li><span><a href=\"#Обзор-данных\" data-toc-modified-id=\"Обзор-данных-2\"><span class=\"toc-item-num\">2&nbsp;&nbsp;</span>Обзор данных</a></span></li><li><span><a href=\"#Предобработка-данных\" data-toc-modified-id=\"Предобработка-данных-3\"><span class=\"toc-item-num\">3&nbsp;&nbsp;</span>Предобработка данных</a></span><ul class=\"toc-item\"><li><span><a href=\"#Приведение-к-общему-регистру\" data-toc-modified-id=\"Приведение-к-общему-регистру-3.1\"><span class=\"toc-item-num\">3.1&nbsp;&nbsp;</span>Приведение к общему регистру</a></span></li><li><span><a href=\"#Проверка-на-явные-дубликаты\" data-toc-modified-id=\"Проверка-на-явные-дубликаты-3.2\"><span class=\"toc-item-num\">3.2&nbsp;&nbsp;</span>Проверка на явные дубликаты</a></span></li><li><span><a href=\"#Обзор-пропущенных-значений\" data-toc-modified-id=\"Обзор-пропущенных-значений-3.3\"><span class=\"toc-item-num\">3.3&nbsp;&nbsp;</span>Обзор пропущенных значений</a></span></li><li><span><a href=\"#Проверка-на-частичные-дубликаты\" data-toc-modified-id=\"Проверка-на-частичные-дубликаты-3.4\"><span class=\"toc-item-num\">3.4&nbsp;&nbsp;</span>Проверка на частичные дубликаты</a></span></li></ul></li><li><span><a href=\"#Добавление-новых-параметров\" data-toc-modified-id=\"Добавление-новых-параметров-4\"><span class=\"toc-item-num\">4&nbsp;&nbsp;</span>Добавление новых параметров</a></span></li><li><span><a href=\"#Анализ-данных\" data-toc-modified-id=\"Анализ-данных-5\"><span class=\"toc-item-num\">5&nbsp;&nbsp;</span>Анализ данных</a></span><ul class=\"toc-item\"><li><span><a href=\"#Распределение-заведений-по-категориям\" data-toc-modified-id=\"Распределение-заведений-по-категориям-5.1\"><span class=\"toc-item-num\">5.1&nbsp;&nbsp;</span>Распределение заведений по категориям</a></span></li><li><span><a href=\"#Распределение-количества-посадочных-мест-по-категориям-заведений\" data-toc-modified-id=\"Распределение-количества-посадочных-мест-по-категориям-заведений-5.2\"><span class=\"toc-item-num\">5.2&nbsp;&nbsp;</span>Распределение количества посадочных мест по категориям заведений</a></span></li><li><span><a href=\"#Соотношение-сетевых-и-несетевых-заведений\" data-toc-modified-id=\"Соотношение-сетевых-и-несетевых-заведений-5.3\"><span class=\"toc-item-num\">5.3&nbsp;&nbsp;</span>Соотношение сетевых и несетевых заведений</a></span></li><li><span><a href=\"#Топ-15-популярных-сетей-общепита-Москвы\" data-toc-modified-id=\"Топ-15-популярных-сетей-общепита-Москвы-5.4\"><span class=\"toc-item-num\">5.4&nbsp;&nbsp;</span>Топ-15 популярных сетей общепита Москвы</a></span></li><li><span><a href=\"#Распределение-количества-заведений-по-административным-районам-Москвы\" data-toc-modified-id=\"Распределение-количества-заведений-по-административным-районам-Москвы-5.5\"><span class=\"toc-item-num\">5.5&nbsp;&nbsp;</span>Распределение количества заведений по административным районам Москвы</a></span></li><li><span><a href=\"#Распределение-среднего-рейтинга-заведений-по-категориям.\" data-toc-modified-id=\"Распределение-среднего-рейтинга-заведений-по-категориям.-5.6\"><span class=\"toc-item-num\">5.6&nbsp;&nbsp;</span>Распределение среднего рейтинга заведений по категориям.</a></span></li><li><span><a href=\"#Заведения-на-карте-Москвы\" data-toc-modified-id=\"Заведения-на-карте-Москвы-5.7\"><span class=\"toc-item-num\">5.7&nbsp;&nbsp;</span>Заведения на карте Москвы</a></span></li><li><span><a href=\"#Топ-15-улиц-по-количеству-заведений-общественного-питания\" data-toc-modified-id=\"Топ-15-улиц-по-количеству-заведений-общественного-питания-5.8\"><span class=\"toc-item-num\">5.8&nbsp;&nbsp;</span>Топ-15 улиц по количеству заведений общественного питания</a></span></li><li><span><a href=\"#Анализ-средних-чеков-заведений-по-районам-Москвы\" data-toc-modified-id=\"Анализ-средних-чеков-заведений-по-районам-Москвы-5.9\"><span class=\"toc-item-num\">5.9&nbsp;&nbsp;</span>Анализ средних чеков заведений по районам Москвы</a></span></li><li><span><a href=\"#Вывод-по-анализу-данных-заведений-общественного-питания-Москвы\" data-toc-modified-id=\"Вывод-по-анализу-данных-заведений-общественного-питания-Москвы-5.10\"><span class=\"toc-item-num\">5.10&nbsp;&nbsp;</span>Вывод по анализу данных заведений общественного питания Москвы</a></span></li></ul></li><li><span><a href=\"#Открытие-кофейни\" data-toc-modified-id=\"Открытие-кофейни-6\"><span class=\"toc-item-num\">6&nbsp;&nbsp;</span>Открытие кофейни</a></span><ul class=\"toc-item\"><li><span><a href=\"#Общее-количество-кофеен-в-столице-и-их-распределение-по-округам\" data-toc-modified-id=\"Общее-количество-кофеен-в-столице-и-их-распределение-по-округам-6.1\"><span class=\"toc-item-num\">6.1&nbsp;&nbsp;</span>Общее количество кофеен в столице и их распределение по округам</a></span></li><li><span><a href=\"#Топ-15-улиц-по-количеству-кофеен-в-Москве\" data-toc-modified-id=\"Топ-15-улиц-по-количеству-кофеен-в-Москве-6.2\"><span class=\"toc-item-num\">6.2&nbsp;&nbsp;</span>Топ-15 улиц по количеству кофеен в Москве</a></span></li><li><span><a href=\"#Режим-работы-кофеен\" data-toc-modified-id=\"Режим-работы-кофеен-6.3\"><span class=\"toc-item-num\">6.3&nbsp;&nbsp;</span>Режим работы кофеен</a></span></li><li><span><a href=\"#Распределение-рейтинга-кофеен-по-округам\" data-toc-modified-id=\"Распределение-рейтинга-кофеен-по-округам-6.4\"><span class=\"toc-item-num\">6.4&nbsp;&nbsp;</span>Распределение рейтинга кофеен по округам</a></span></li><li><span><a href=\"#Медианная-стоимость-чашки-капучино-в-Москве\" data-toc-modified-id=\"Медианная-стоимость-чашки-капучино-в-Москве-6.5\"><span class=\"toc-item-num\">6.5&nbsp;&nbsp;</span>Медианная стоимость чашки капучино в Москве</a></span></li><li><span><a href=\"#Общий-вывод-и-рекомендации-по-открытию-кофейни-в-Москве.\" data-toc-modified-id=\"Общий-вывод-и-рекомендации-по-открытию-кофейни-в-Москве.-6.6\"><span class=\"toc-item-num\">6.6&nbsp;&nbsp;</span>Общий вывод и рекомендации по открытию кофейни в Москве.</a></span></li></ul></li><li><span><a href=\"#Презентация\" data-toc-modified-id=\"Презентация-7\"><span class=\"toc-item-num\">7&nbsp;&nbsp;</span>Презентация</a></span></li></ul></div>"
   ]
  },
  {
   "cell_type": "markdown",
   "metadata": {},
   "source": [
    "# Цели и ход исследования"
   ]
  },
  {
   "cell_type": "markdown",
   "metadata": {},
   "source": [
    "В нашем распоряжении датасет с заведениями общественного питания Москвы, составленный на основе данных сервисов Яндекс Карты и Яндекс Бизнес на лето 2022 года. Необходимо подготовить исследование рынка Москвы, найти интересные особенности и презентовать полученные результаты, которые в будущем помогут в выборе подходящего инвесторам места.\n",
    "\n",
    "**Цель исследования:**\n",
    "Изучить рынок общепита в Москве, определить самые посещаемые заведения, произвести оценку районов Москвы по среднему рейтингу и среднему чеку заведений, визуализировать результаты на графиках и картах и дать рекомендации инвесторам для выбора подходящего места для открытия кофейни.\n",
    "\n",
    "**Ход исследования:**\n",
    "- выгрузить данные и произвести первичный обзор;\n",
    "- предобработать имеющиеся данные;\n",
    "- добавить новые показатели;\n",
    "- проанализировать необходимые распределения и соотношения;\n",
    "- визуализировать результаты, дополняя их промежуточными выводами;\n",
    "- сформировать итоговый вывод и дополнить его презентацией.\n",
    "\n",
    "**Мое исследование пройдет в семь этапов:**\n",
    " - Обзор данных.\n",
    " - Предобработка данных.\n",
    " - Добавление новых показателей.\n",
    " - Исследовательский анализ данных.\n",
    " - Геоаналитика заведений общепита.\n",
    " - Формирование итогового вывода.\n",
    " - Подготовка и предоставление презентации исследования."
   ]
  },
  {
   "cell_type": "markdown",
   "metadata": {},
   "source": [
    "## Обзор данных\n",
    "Загрузим необходимые для исследования библиотеки, выгрузим датасет и дадим первичную оценку данным."
   ]
  },
  {
   "cell_type": "code",
   "execution_count": 1,
   "metadata": {},
   "outputs": [
    {
     "ename": "ModuleNotFoundError",
     "evalue": "No module named 'folium'",
     "output_type": "error",
     "traceback": [
      "\u001b[1;31m---------------------------------------------------------------------------\u001b[0m",
      "\u001b[1;31mModuleNotFoundError\u001b[0m                       Traceback (most recent call last)",
      "Cell \u001b[1;32mIn[1], line 16\u001b[0m\n\u001b[0;32m     14\u001b[0m \u001b[38;5;66;03m# конвертеры, которые позволяют использовать типы pandas в matplotlib  \u001b[39;00m\n\u001b[0;32m     15\u001b[0m register_matplotlib_converters()\n\u001b[1;32m---> 16\u001b[0m \u001b[38;5;28;01mimport\u001b[39;00m \u001b[38;5;21;01mfolium\u001b[39;00m\n\u001b[0;32m     17\u001b[0m \u001b[38;5;66;03m# импортируем карту и маркер\u001b[39;00m\n\u001b[0;32m     18\u001b[0m \u001b[38;5;28;01mfrom\u001b[39;00m \u001b[38;5;21;01mfolium\u001b[39;00m \u001b[38;5;28;01mimport\u001b[39;00m Map, Marker\n",
      "\u001b[1;31mModuleNotFoundError\u001b[0m: No module named 'folium'"
     ]
    }
   ],
   "source": [
    "#сначала импортируем необходимые для исследования библиотеки и плагины\n",
    "import pandas as pd\n",
    "import numpy as np\n",
    "import seaborn as sns\n",
    "from datetime import date, datetime, timedelta\n",
    "import matplotlib.pyplot as plt\n",
    "import scipy.stats as st\n",
    "from plotly import graph_objects as go\n",
    "import datetime as dt\n",
    "import math \n",
    "import plotly.express as px \n",
    "from pandas.plotting import register_matplotlib_converters\n",
    "import warnings\n",
    "# конвертеры, которые позволяют использовать типы pandas в matplotlib  \n",
    "register_matplotlib_converters()\n",
    "import folium\n",
    "# импортируем карту и маркер\n",
    "from folium import Map, Marker\n",
    "# импортируем кластер\n",
    "from folium.plugins import MarkerCluster\n",
    "# импортируем карту и хороплет\n",
    "from folium import Map, Choropleth\n",
    "\n",
    "import warnings; warnings.filterwarnings(action='ignore')"
   ]
  },
  {
   "cell_type": "code",
   "execution_count": null,
   "metadata": {},
   "outputs": [],
   "source": [
    "#предустановим отображение дробей с 2 знаками после запятой\n",
    "pd.options.display.float_format = '{:,.2f}'.format"
   ]
  },
  {
   "cell_type": "code",
   "execution_count": null,
   "metadata": {},
   "outputs": [],
   "source": [
    "#сохраним данные в классической переменной data\n",
    "try:\n",
    "    data = pd.read_csv('/datasets/moscow_places.csv')\n",
    "except:\n",
    "    data = pd.read_csv('https://code.s3.yandex.net/datasets/moscow_places.csv')"
   ]
  },
  {
   "cell_type": "code",
   "execution_count": null,
   "metadata": {
    "scrolled": true
   },
   "outputs": [],
   "source": [
    "#выгрузим первые 10 строк для первичного ознакомления с таблицей\n",
    "data.head(10)"
   ]
  },
  {
   "cell_type": "markdown",
   "metadata": {},
   "source": [
    "Данные открылись корректно, все показатели на месте. Далее посмотрим общую информацию о таблице."
   ]
  },
  {
   "cell_type": "code",
   "execution_count": null,
   "metadata": {},
   "outputs": [],
   "source": [
    "data.info()"
   ]
  },
  {
   "cell_type": "markdown",
   "metadata": {},
   "source": [
    "Данные представлены в виде таблицы с 8406 строками и 14 столбцами. Присутствуют пропуски в 6 столбцах. Столбцы хранят в себе следующую информацию:\n",
    "- **name** — название заведения;\n",
    "- **address** — адрес заведения;\n",
    "- **category** — категория заведения, например «кафе», «пиццерия» или «кофейня»;\n",
    "- **hours** — информация о днях и часах работы;\n",
    "- **lat** — широта географической точки, в которой находится заведение;\n",
    "- **lng** — долгота географической точки, в которой находится заведение;\n",
    "- **rating** — рейтинг заведения по оценкам пользователей в Яндекс Картах (высшая оценка — 5.0);\n",
    "- **price** — категория цен в заведении, например «средние», «ниже среднего», «выше среднего» и так далее;\n",
    "- **avg_bill** — строка, которая хранит среднюю стоимость заказа в виде диапазона;\n",
    "- **middle_avg_bill** — число с оценкой среднего чека, которое указано только для значений из столбца avg_bill, начинающихся с подстроки «Средний счёт»;\n",
    "- **middle_coffee_cup** — число с оценкой одной чашки капучино, которое указано только для значений из столбца avg_bill, начинающихся с подстроки «Цена одной чашки капучино»;\n",
    "- **chain** — число, выраженное 0 или 1, которое показывает, является ли заведение сетевым (для маленьких сетей могут встречаться ошибки):\n",
    "0 — заведение не является сетевым;\n",
    "1 — заведение является сетевым;\n",
    "- **district** — административный район, в котором находится заведение, например Центральный административный округ;\n",
    "- **seats** — количество посадочных мест.\n"
   ]
  },
  {
   "cell_type": "markdown",
   "metadata": {},
   "source": [
    "Значения в столбце **seats** почему-то представлены в виде дробных чисел. Нужно поменять формат на целочисленный, то есть *int64*, так как количество посадочных мест должно быть представлено в виде целого числа."
   ]
  },
  {
   "cell_type": "code",
   "execution_count": null,
   "metadata": {},
   "outputs": [],
   "source": [
    "#получим список характерных значений датасета\n",
    "data.describe()"
   ]
  },
  {
   "cell_type": "markdown",
   "metadata": {},
   "source": [
    "На значения долготы и широты заведений можно не обращать внимание, но в глаза сразу бросаются максимальное количество посадочных мест в заведении. **1288** посадочных мест в заведении выглядит слишком уж нереалистично. Нам предстоит разобраться с этой аномалией на стадии предобработки."
   ]
  },
  {
   "cell_type": "markdown",
   "metadata": {},
   "source": [
    "## Предобработка данных"
   ]
  },
  {
   "cell_type": "markdown",
   "metadata": {},
   "source": [
    "### Приведение к общему регистру"
   ]
  },
  {
   "cell_type": "markdown",
   "metadata": {},
   "source": [
    "Для начала приведем текст в столбцах с названиями, адресом и средним чеком к общему виду, то есть переведем в нижний регистр."
   ]
  },
  {
   "cell_type": "code",
   "execution_count": null,
   "metadata": {},
   "outputs": [],
   "source": [
    "#приведем весь текст в нижний регистр\n",
    "for col in ['name', 'address', 'avg_bill']:\n",
    "    data[col] = data[col].str.lower()\n",
    "data.head()"
   ]
  },
  {
   "cell_type": "markdown",
   "metadata": {},
   "source": [
    "### Проверка на явные дубликаты"
   ]
  },
  {
   "cell_type": "markdown",
   "metadata": {},
   "source": [
    "Проверим данные на наличие явных дубликатов."
   ]
  },
  {
   "cell_type": "code",
   "execution_count": null,
   "metadata": {},
   "outputs": [],
   "source": [
    "data.duplicated().sum()"
   ]
  },
  {
   "cell_type": "markdown",
   "metadata": {},
   "source": [
    "### Обзор пропущенных значений"
   ]
  },
  {
   "cell_type": "markdown",
   "metadata": {},
   "source": [
    "Явные дубликаты отсутствуют. Внимательнее рассмотрим пропущенные значения по каждому столбцу таблицы."
   ]
  },
  {
   "cell_type": "code",
   "execution_count": null,
   "metadata": {},
   "outputs": [],
   "source": [
    "#создадим переменные с количеством и % пропусков датасета\n",
    "na = data.isna().sum()\n",
    "na_perc = round((data.isna().mean()*100),2)\n",
    "\n",
    "#создадим и выведем таблицу с количеством и % пропусков по каждому столбцу\n",
    "display(pd.DataFrame({'Кол-во пропусков': na,'% пропусков': na_perc}).style.background_gradient('coolwarm').format('{:.2f}'))\n",
    "        \n",
    "print(\"Всего колонок: {}, Без пропусков: {}, с пропусками: {}.\".format(len(na), (na==0).sum(), (na!=0).sum() ))\n",
    "#выведем количество пропущенных значений для каждого столбца датафрейма"
   ]
  },
  {
   "cell_type": "markdown",
   "metadata": {},
   "source": [
    "Присутствует большое количество пропусков в показателях ценового описания заведений. По пропускам лидирует показатель **middle_coffee_cup** (93.64% пропусков), отображающий среднюю стоимость чашки капучино в заведении. Также есть пропуски в данных с расписанием работы заведений (6.38%) и количеством посадочных мест (42.96%). \n",
    "\n",
    "К сожалению, информация для замены пропусков этих показателей не может быть получена в рамках проекта."
   ]
  },
  {
   "cell_type": "markdown",
   "metadata": {},
   "source": [
    "В столбце с посадочными местами встречаются довольно большие значения, вплоть до 1288 на одно заведение. \n",
    "\n",
    "По данным сервиса Zoon (https://zoon.ru/msk/restaurants/award/10_samyh_bolshih_restoranov_moskvy/), в Москве самое большое количество посадочных мест предлагает ресторан Яръ, до 500 человек. Установим границу для посадочных мест на уровне этого значения."
   ]
  },
  {
   "cell_type": "code",
   "execution_count": null,
   "metadata": {},
   "outputs": [],
   "source": [
    "data.loc[data['seats'] > 500, 'seats'] = 500"
   ]
  },
  {
   "cell_type": "code",
   "execution_count": null,
   "metadata": {
    "scrolled": true
   },
   "outputs": [],
   "source": [
    "sorted(data['seats'].unique())"
   ]
  },
  {
   "cell_type": "markdown",
   "metadata": {},
   "source": [
    "### Проверка на частичные дубликаты"
   ]
  },
  {
   "cell_type": "markdown",
   "metadata": {},
   "source": [
    "Проверим наличие строк с частичным дублированием, возможно есть заведения, данные о которых повторяются в рамках одного округа. Отберем строки, которые имеют одинаковое название, адрес и округ."
   ]
  },
  {
   "cell_type": "code",
   "execution_count": null,
   "metadata": {},
   "outputs": [],
   "source": [
    "display('Записей с одним названием, адресом и округом:', data.duplicated(subset = ['name', 'address', 'district']).sum())"
   ]
  },
  {
   "cell_type": "markdown",
   "metadata": {},
   "source": [
    "В данных оказалось 4 заведения, которые могут являться частичными дубликатами. Выведем таблицу с ними."
   ]
  },
  {
   "cell_type": "code",
   "execution_count": null,
   "metadata": {},
   "outputs": [],
   "source": [
    "data[data.duplicated(subset = ['name', 'address', 'district'], keep=False)]"
   ]
  },
  {
   "cell_type": "markdown",
   "metadata": {},
   "source": [
    "У заведений совпадают названия, адрес, округ и рейтинг. Удалим дублирующиеся строки и выведем заново таблицу для проверки."
   ]
  },
  {
   "cell_type": "code",
   "execution_count": null,
   "metadata": {},
   "outputs": [],
   "source": [
    "data.drop_duplicates(subset=['name', 'address', 'district'], keep='first', inplace=True)\n",
    "data[data.duplicated(subset = ['name', 'address', 'district'], keep=False)]"
   ]
  },
  {
   "cell_type": "markdown",
   "metadata": {},
   "source": [
    "Неявные дубликаты заведений удалены. Далее проверим столбец с названиями заведений **name** на наличие пропусков, а также на количество уникальных наименований."
   ]
  },
  {
   "cell_type": "code",
   "execution_count": null,
   "metadata": {
    "scrolled": true
   },
   "outputs": [],
   "source": [
    "#выведем количество пропусков и уникальных значений столбца name\n",
    "display('Количество пропусков:', data['name'].isna().sum())\n",
    "display('Количество уникальных значений:', data['name'].sort_values().nunique())"
   ]
  },
  {
   "cell_type": "markdown",
   "metadata": {},
   "source": [
    "Из 8402 записей о заведениях всего 5512 имеют уникальное наименование."
   ]
  },
  {
   "cell_type": "code",
   "execution_count": null,
   "metadata": {},
   "outputs": [],
   "source": [
    "data['name'].duplicated().value_counts()"
   ]
  },
  {
   "cell_type": "markdown",
   "metadata": {},
   "source": [
    "Дублирующихся названий 2890. Так как в данных указаны и сети заведений, вероятнее всего эти данные о них, но не исключено, что могут быть включены и заведения, которые не являются сетевыми, но имеют одинаковые наименования.\n",
    "\n",
    "Отберем заведения, которые имеют одинаковые названия и для которых не указано, что они имеют несколько заведений в сети."
   ]
  },
  {
   "cell_type": "code",
   "execution_count": null,
   "metadata": {},
   "outputs": [],
   "source": [
    "display(data[(data['name'].duplicated()) & (data['chain'] == 0)].sort_values(by='name', ascending=False).head(5))"
   ]
  },
  {
   "cell_type": "code",
   "execution_count": null,
   "metadata": {},
   "outputs": [],
   "source": [
    "data[(data['name'].duplicated()) & (data['chain'] == 0)]['name'].unique()"
   ]
  },
  {
   "cell_type": "markdown",
   "metadata": {},
   "source": [
    "Часть из полученных данных представляют из себя сетевые заведения, которые не отмечены как сетевые. Из таких можно отметить, например, «Франклинс бургер», несмотря на то, что в Москве 21 заведение этой сети, это не указано в данных для части из них. Также это справедливо для довольно больших по количеству заведений сетей: *Мск lounge, Важная персона, Ля фантази* и других.\n",
    "\n",
    "Определим список названий, которые не претендуют на уникальное название заведения. Эти названия пока не будут учитываться в данных"
   ]
  },
  {
   "cell_type": "code",
   "execution_count": null,
   "metadata": {},
   "outputs": [],
   "source": [
    "exclude_names = ['кафе', 'шаурма', 'ресторан', 'столовая', \n",
    "                 'кафе-столовая', 'буфет', 'кофейня', 'бистро', \n",
    "                 'шашлычная', 'пиццерия', 'блины', 'трапезная', \n",
    "                 'поминальные обеды', 'кафе для поминок', 'чебуречная',\n",
    "                 'кафе-кулинария', 'кафе шашлык']"
   ]
  },
  {
   "cell_type": "code",
   "execution_count": null,
   "metadata": {},
   "outputs": [],
   "source": [
    "data[data['name'].isin(exclude_names) & (data['chain'] == 0)].head(5)"
   ]
  },
  {
   "cell_type": "code",
   "execution_count": null,
   "metadata": {},
   "outputs": [],
   "source": [
    "data[data['name'].isin(exclude_names) & (data['chain'] == 0)].count()"
   ]
  },
  {
   "cell_type": "markdown",
   "metadata": {},
   "source": [
    "Некоторые заведения имеют вариацию названий из следующего списка: *кафе, шаурма, ресторан, столовая, кафе-столовая, буфет, кофейня, бистро, шашлычная, пиццерия, блины, трапезная, поминальные обеды, кафе для поминок, чебуречная, кафе-кулинария, кафе шашлык*. Все эти заведения не принадлежат к какой либо сети общественного питания. Таких записей 366. Как правило, заведения стремятся выделиться среди других подобных индивидуальным названием, в этом списке наименований нет уникальных записей, которые отличали бы определенную сеть. Следует предположить, что это частные заведения, которые не претендуют на узнаваемость в рамках города и известны только в небольшом радиусе вокруг. Также стоит учитывать, что данные взяты из источников, которые могут редактироваться широким кругом пользователей и несмотря на то, что внесенные на карты и справочники данные модерируются, они могут быть не точными и неполными.\n",
    "\n",
    "Таких записей 4.36% от общего количества записей. Это большой объем данных, который не может быть убран или исправлен, так что данные останутся в таком виде, но не будут учитываться при дальнейшей работе.\n",
    "\n",
    "Также имеется список заведений, которые принадлежат к сети, но это не отмечено в столбце **chain**. Исправим это, отметим такие заведения сетевыми."
   ]
  },
  {
   "cell_type": "code",
   "execution_count": null,
   "metadata": {},
   "outputs": [],
   "source": [
    "data.loc[(data['name'].duplicated()) & ~data['name'].isin(exclude_names) & (data['chain'] == 0), 'chain'] = 1"
   ]
  },
  {
   "cell_type": "markdown",
   "metadata": {},
   "source": [
    "Проверим изменения и попробуем вывести таблицу с такими заведениями:"
   ]
  },
  {
   "cell_type": "code",
   "execution_count": null,
   "metadata": {},
   "outputs": [],
   "source": [
    "data.loc[(data['name'].duplicated()) & ~data['name'].isin(exclude_names) & (data['chain'] == 0)]"
   ]
  },
  {
   "cell_type": "markdown",
   "metadata": {},
   "source": [
    "Учитывая список наименований, которые не будут браться в рассчет, определим какие еще названия заведений повторяются."
   ]
  },
  {
   "cell_type": "code",
   "execution_count": null,
   "metadata": {},
   "outputs": [],
   "source": [
    "duplicate_data = (data[data['name'].duplicated(keep=False) & ~data['name'].isin(exclude_names)]\n",
    "                 .groupby('name')\n",
    "                 .size()\n",
    "                 .reset_index(name='duplicate_counts')\n",
    "                 .sort_values(by='duplicate_counts', ascending=False))\n",
    "pd.concat([duplicate_data.head(1), duplicate_data.tail(1)])"
   ]
  },
  {
   "cell_type": "markdown",
   "metadata": {},
   "source": [
    "Максимальное количество насчитывает *Шоколадница*, в сети находится 120 заведений по всей Москве. Минимальное количество заведений в сетевых у *Ерша* — всего 2."
   ]
  },
  {
   "cell_type": "markdown",
   "metadata": {},
   "source": [
    "В конце стадии предобработки заново выведем информацию о датафрейме."
   ]
  },
  {
   "cell_type": "code",
   "execution_count": null,
   "metadata": {},
   "outputs": [],
   "source": [
    "data.info()"
   ]
  },
  {
   "cell_type": "markdown",
   "metadata": {},
   "source": [
    "После предобработки осталось 8402 записей с заведениями общепита Москвы."
   ]
  },
  {
   "cell_type": "markdown",
   "metadata": {},
   "source": [
    "## Добавление новых параметров"
   ]
  },
  {
   "cell_type": "markdown",
   "metadata": {},
   "source": [
    "Добавим столбец с наименованиями улиц, на которых находятся заведения общепита."
   ]
  },
  {
   "cell_type": "code",
   "execution_count": null,
   "metadata": {},
   "outputs": [],
   "source": [
    "#добавим новый столбец street с помощью метода split, убрав название города и номер дома\n",
    "data['street'] = data['address'].str.split(', ').str[1]\n",
    "#выведем первые 5 строк датафрейма для проверки\n",
    "data.head()"
   ]
  },
  {
   "cell_type": "markdown",
   "metadata": {},
   "source": [
    "Столбец с названиями улиц успешно добавлен. Теперь добавим столбец с данными о круглосуточных заведениях."
   ]
  },
  {
   "cell_type": "code",
   "execution_count": null,
   "metadata": {
    "scrolled": true
   },
   "outputs": [],
   "source": [
    "#добавим новый столбец, в котором будут значения True для строк, в которых в столбце hours содержится подстрока круглосуточно и ежедневно, в противном случае будет False\n",
    "data['is_24/7'] = np.where(data['hours'].notna() & (data['hours'].str.contains('круглосуточно') & data['hours'].str.contains('ежедневно')), True, False)\n",
    "#выведем первые 5 строк обновленной таблицы для проверки\n",
    "data.head()"
   ]
  },
  {
   "cell_type": "markdown",
   "metadata": {},
   "source": [
    "## Анализ данных"
   ]
  },
  {
   "cell_type": "markdown",
   "metadata": {},
   "source": [
    "### Распределение заведений по категориям"
   ]
  },
  {
   "cell_type": "markdown",
   "metadata": {},
   "source": [
    "Исследуем количество заведений общественного питания по категориям. Выведем таблицу по убыванию количества заведений с группировкой по категориям."
   ]
  },
  {
   "cell_type": "code",
   "execution_count": null,
   "metadata": {},
   "outputs": [],
   "source": [
    "# сгруппируем по категориям и посчитаем заведения\n",
    "data_cat_count = data.groupby('category')[['category']].count()\n",
    "# переименуем столбец\n",
    "data_cat_count.columns = ['total_count']\n",
    "# отсортируем и выведем таблицу по убыванию кол-ва заведений\n",
    "data_cat_count = data_cat_count.sort_values(by='total_count', ascending=False).reset_index()\n",
    "display(data_cat_count)"
   ]
  },
  {
   "cell_type": "markdown",
   "metadata": {},
   "source": [
    "Далее визуализируем полученный результат."
   ]
  },
  {
   "cell_type": "code",
   "execution_count": null,
   "metadata": {},
   "outputs": [],
   "source": [
    "# строим столбчатую диаграмму \n",
    "fig = px.bar(data_cat_count.sort_values(by='total_count', ascending=True), # загружаем данные и заново их сортируем\n",
    "             x='total_count', # указываем столбец с данными для оси X\n",
    "             y='category', # указываем столбец с данными для оси Y\n",
    "             text='total_count' # добавляем аргумент, который отобразит текст с информацией\n",
    "                                # о количестве заведений внутри столбца графика\n",
    "            )\n",
    "# оформляем график\n",
    "fig.update_layout(title='Распределение количества заведений по категориям',\n",
    "                   xaxis_title='Количество заведений',\n",
    "                   yaxis_title='Категории')\n",
    "fig.show() # выводим график"
   ]
  },
  {
   "cell_type": "markdown",
   "metadata": {},
   "source": [
    "Самой распространенной категорией являются **кафе** с **2376** заведениями в Москве, за ними с небольшим разрывом (**2042 заведения**) следуют **рестораны**. **Кофейни** занимают почетное третье место с **1413** заведениями в городе, а наименее распространенными заведениями являются **булочные**, их всего **256**."
   ]
  },
  {
   "cell_type": "code",
   "execution_count": null,
   "metadata": {},
   "outputs": [],
   "source": [
    "data_cat_count['perc'] = (data_cat_count['total_count']/data_cat_count['total_count'].sum())*100\n",
    "\n",
    "top_3 = round(data_cat_count['perc'][:3].sum())\n",
    "\n",
    "print('Тройка лидеров занимает',top_3,'% от общей массы заведений.')"
   ]
  },
  {
   "cell_type": "markdown",
   "metadata": {},
   "source": [
    "### Распределение количества посадочных мест по категориям заведений"
   ]
  },
  {
   "cell_type": "markdown",
   "metadata": {},
   "source": [
    "Изучим распределение количества посадочных мест заведений исходя из их категорий и визуализируем результаты."
   ]
  },
  {
   "cell_type": "code",
   "execution_count": null,
   "metadata": {},
   "outputs": [],
   "source": [
    "# отсортируем данные от введенной ранее заглушки, сгруппируем по категориям и посчитаем медианное количество мест\n",
    "data_seats_count = data.groupby('category')[['seats']].median().round()\n",
    "# переименуем столбец\n",
    "data_seats_count.columns = ['median_seats']\n",
    "# отсортируем и выведем таблицу по убыванию кол-ва посадочных\n",
    "data_seats_count = data_seats_count.sort_values(by='median_seats', ascending=False).reset_index()\n",
    "display(data_seats_count)"
   ]
  },
  {
   "cell_type": "code",
   "execution_count": null,
   "metadata": {},
   "outputs": [],
   "source": [
    "# строим столбчатую диаграмму \n",
    "fig = px.bar(data_seats_count.sort_values(by='median_seats', ascending=True), # загружаем данные и заново их сортируем\n",
    "             x='median_seats', # указываем столбец с данными для оси X\n",
    "             y='category', # указываем столбец с данными для оси Y\n",
    "             text='median_seats' # добавляем аргумент, который отобразит текст с информацией\n",
    "                                # о количестве посадочных мест внутри столбца графика\n",
    "            )\n",
    "# оформляем график\n",
    "fig.update_layout(title='Распределение кол-ва посадочных мест по категориям',\n",
    "                   xaxis_title='Медианное значение посадочных мест',\n",
    "                   yaxis_title='Категории')\n",
    "fig.show() # выводим график"
   ]
  },
  {
   "cell_type": "markdown",
   "metadata": {},
   "source": [
    "Разброс значений по посадочным местам в лидирующих категориях: **ресторан, бар, паб и кофейня** - не очень большой. Так, в ресторанах — **86** мест, в **барах и пабах — 82**, а в **кофейнях — 80**. **Рестораны и бары** могут иметь большую площадь для рассадки гостей, а **кофейни** могут располагаться в местах с открытым пространством, например, на фудкортах, верандах и прочих подобных.\n",
    "\n",
    "**Столовые и заведения быстрого питания** ожидаемо имеют большое количество мест, но их заметно меньше в сравнении с вышеупомянутыми заведениями, и места **быстрого питания** рассчитаны на такой же большой поток клиентов, но на быстрое потребление пищи, а не на длительное размещение, из-за этого количество посадочных мест может быть меньше.\n",
    "\n",
    "**Кафе и пиццерии** предлагают рассадку для большого количества гостей, но значительно меньше в сравнении с другими категориями.\n",
    "\n",
    "В **булочных** ожидаемо меньше всего мест для гостей, так как булочные обычно рассчитаны на небольшой поток клиентов и на заказы навынос."
   ]
  },
  {
   "cell_type": "markdown",
   "metadata": {},
   "source": [
    "###  Соотношение сетевых и несетевых заведений"
   ]
  },
  {
   "cell_type": "code",
   "execution_count": null,
   "metadata": {},
   "outputs": [],
   "source": [
    "# сгруппируем по признаку сетевого/несетевого признака и посчитаем заведения\n",
    "data_chain = data.groupby('chain')[['chain']].count()\n",
    "# переименуем столбец\n",
    "data_chain.columns = ['total_count']\n",
    "# отсортируем и выведем таблицу по убыванию кол-ва заведений\n",
    "data_chain = data_chain.sort_values(by='total_count', ascending=False).reset_index()\n",
    "\n",
    "display(data_chain)"
   ]
  },
  {
   "cell_type": "markdown",
   "metadata": {},
   "source": [
    "Несетевых заведений почти на 2000 больше, чем сетевых, отобразим соотношение на круговой диаграмме."
   ]
  },
  {
   "cell_type": "code",
   "execution_count": null,
   "metadata": {},
   "outputs": [],
   "source": [
    "chain_param = ['Несетевые', 'Сетевые']\n",
    "fig = go.Figure(data=[go.Pie(labels=chain_param, \n",
    "                             values=data_chain.total_count,\n",
    "                            pull=[0.02,0])])\n",
    "fig.update_layout(title='Соотношение сетевых и несетевых заведений',\n",
    "                 width=800,\n",
    "                 height=600,\n",
    "                 annotations=[dict(x=1.2,\n",
    "                                  y=1.05,\n",
    "                                  text='Сетевой показатель',\n",
    "                                  showarrow=False)])\n",
    "fig.show()"
   ]
  },
  {
   "cell_type": "markdown",
   "metadata": {},
   "source": [
    "Несетевые заведения представляют целых **61%** от общего количества, оставляя сетевым **39%**. Данное соотношение можно объяснить тем фактором, что не у всех предпринимателей находится достаточно ресурсов, чтобы выйти на сетевой уровень, либо же их всегда привлекала идея владеть небольшим частным бизнесом и посвящать все  свои силы ему."
   ]
  },
  {
   "cell_type": "markdown",
   "metadata": {},
   "source": [
    "Далее рассмотрим, какие категории заведений чаще являются сетевыми. Построим сводную таблицу по категориям и посчитаем коэффициент, отображающий соотношение сетевых заведений от общей массы заведений среди категорий."
   ]
  },
  {
   "cell_type": "code",
   "execution_count": null,
   "metadata": {},
   "outputs": [],
   "source": [
    "#строим сводную таблицу\n",
    "chain_type = data.pivot_table(index = 'category', values='name', columns = 'chain', aggfunc='count').reset_index()\n",
    "#добавим столбец с общим количеством заведений в категории\n",
    "chain_type['total'] = chain_type[0] + chain_type[1]\n",
    "#добавим столбец с коэффициентом соотношения сетевых заведений от общего количества\n",
    "chain_type['rate'] = round((chain_type[1] / chain_type['total'])*100)\n",
    "#отсортируем таблицу по убыванию коэффициента\n",
    "chain_type = chain_type.sort_values(by='rate', ascending=False)\n",
    "#выведем сводную таблицу\n",
    "chain_type"
   ]
  },
  {
   "cell_type": "code",
   "execution_count": null,
   "metadata": {},
   "outputs": [],
   "source": [
    "# строим столбчатую диаграмму \n",
    "fig = px.bar(chain_type.sort_values(by='rate', ascending=True), # загружаем данные и заново их сортируем\n",
    "             x='rate', # указываем столбец с данными для оси X\n",
    "             y='category', # указываем столбец с данными для оси Y\n",
    "             text='rate' # добавляем аргумент, который отобразит текст с информацией\n",
    "                                # о % сетевых заведений внутри столбца графика\n",
    "            )\n",
    "# оформляем график\n",
    "fig.update_layout(title='Процентное соотношение сетевых заведений по категориям',\n",
    "                   xaxis_title='% сетевых заведений',\n",
    "                   yaxis_title='Категории')\n",
    "fig.show() # выводим график"
   ]
  },
  {
   "cell_type": "markdown",
   "metadata": {},
   "source": [
    "Чаще всего сетевыми являются булочные, за ними следуют пиццерии и кофейни. Данные категории заведений часто работают по франшизам, имеют единый стандарт меню и оформления для своих филиалов.\n",
    "\n",
    "Меньше всего сетевых заведений среди столовых, баров и пабов. Столовые часто привязаны к определенному бизнес-центру или предприятию и работают на удовлетворение потребностей клиентов из одного района. Бары и пабы часто имеют уникальную концепцию и открываются индивидуальными предпринимателями, которые хотят хотят вести собственный бизнес, не распыляясь на ведение крупных сетей и сохраняя уникальную атмосферу каждого заведения."
   ]
  },
  {
   "cell_type": "markdown",
   "metadata": {},
   "source": [
    "###  Топ-15 популярных сетей общепита Москвы"
   ]
  },
  {
   "cell_type": "code",
   "execution_count": null,
   "metadata": {},
   "outputs": [],
   "source": [
    "# построим сводную таблицу сетевых заведений по убыванию количества, оставим топ-15 сетей\n",
    "chain = data[data['chain'] == 1]\n",
    "top_chain = pd.DataFrame(chain.groupby('name').count().sort_values(by='category', ascending=False).head(15)['category'])\n",
    "# переименуем столбец\n",
    "top_chain.columns= ['count']\n",
    "\n",
    "top_chain"
   ]
  },
  {
   "cell_type": "markdown",
   "metadata": {},
   "source": [
    "Посчитаем процентную долю каждой сети заведений."
   ]
  },
  {
   "cell_type": "code",
   "execution_count": null,
   "metadata": {},
   "outputs": [],
   "source": [
    "top_chain['ratio'] = top_chain['count'] / top_chain['count'].sum() * 100\n",
    "\n",
    "top_chain = top_chain.reset_index()\n",
    "\n",
    "top_chain"
   ]
  },
  {
   "cell_type": "code",
   "execution_count": null,
   "metadata": {},
   "outputs": [],
   "source": [
    "fig = px.bar(top_chain, x='name', y='count', color='name', title='Распределение количества заведений топ-15 сетей общепита',\n",
    "            text=round(top_chain['ratio'], 2))\n",
    "\n",
    "fig.update_traces(texttemplate='%{text}',\n",
    "                  textposition='outside')\n",
    "\n",
    "fig.update_layout(yaxis_title='Количество заведений',\n",
    "                  xaxis_title='Название сети',\n",
    "                  yaxis=dict(range=[0, 140]),\n",
    "                  showlegend=False)\n",
    "\n",
    "fig.show()"
   ]
  },
  {
   "cell_type": "markdown",
   "metadata": {},
   "source": [
    "Топ-3 популярных заведений возглавляют **Шоколадница, Домино'с пицца** и **Додо пицца**. Они занимают **14.67%, 9.41% и 9.05%** от общего количества сетевых заведений в топ-15. Шоколадница лидирует с количеством в **120** заведений. Наименее распространенная из топ-15 сеть - это **Му-Му**, у них всего **27 заведений и 3.3%** от общего числа.\n",
    "\n",
    "Заведения из этого списка объединяют следующие характеристики: у них доступная для широкого круга потребителей ценовая политика, они подходят для семейного посещения и у них проверенная временем репутация. Также эти заведения работают по франшизе, что объясняет их массовость распространения."
   ]
  },
  {
   "cell_type": "markdown",
   "metadata": {},
   "source": [
    "###  Распределение количества заведений по административным районам Москвы"
   ]
  },
  {
   "cell_type": "markdown",
   "metadata": {},
   "source": [
    "Изучим распределение количества заведений по административным районам, а также соотношение категорий заведений в разных районах Москвы и визуализируем результаты в виде графиков."
   ]
  },
  {
   "cell_type": "code",
   "execution_count": null,
   "metadata": {},
   "outputs": [],
   "source": [
    "# сгруппируем по категориям и посчитаем заведения\n",
    "data_district_count = data.groupby('district')[['district']].count()\n",
    "# переименуем столбец\n",
    "data_district_count.columns = ['total_count']\n",
    "# отсортируем и выведем таблицу по убыванию кол-ва заведений\n",
    "data_district_count = data_district_count.sort_values(by='total_count', ascending=False).reset_index()\n",
    "\n",
    "display(data_district_count)"
   ]
  },
  {
   "cell_type": "markdown",
   "metadata": {},
   "source": [
    "Москва включает в себя 9 административных районов: Центральный, Северный, Северо-Западный, Северо-Восточный, Западный, Юго-Западный, Южный, Юго-Восточный и Восточный.\n",
    "\n",
    "По количеству заведений лидирует **Центральный административный округ** - целых **2242** заведения против **898** у второго места - **Северного административного округа**. Третье место занимает **Южный административный округ** с почти одинаковым количеством - **892** заведения. В целом, остальные округа схожи по количеству, но **Северо-Западный округ** сильно отстает от всех остальных - всего **409** заведений."
   ]
  },
  {
   "cell_type": "code",
   "execution_count": null,
   "metadata": {},
   "outputs": [],
   "source": [
    "# строим столбчатую диаграмму \n",
    "fig = px.bar(data_district_count.sort_values(by='total_count', ascending=True), # загружаем данные и заново их сортируем\n",
    "             x='total_count', # указываем столбец с данными для оси X\n",
    "             y='district', # указываем столбец с данными для оси Y\n",
    "             text='total_count' # добавляем аргумент, который отобразит текст с информацией\n",
    "                                # о количестве заведений внутри столбца графика\n",
    "            )\n",
    "# оформляем график\n",
    "fig.update_layout(title='Распределение количества заведений по районам',\n",
    "                   xaxis_title='Количество заведений',\n",
    "                   yaxis_title='Районы')\n",
    "fig.show() # выводим график"
   ]
  },
  {
   "cell_type": "code",
   "execution_count": null,
   "metadata": {},
   "outputs": [],
   "source": [
    "# Подсчет количества наблюдений для каждого района\n",
    "district_counts = data['district'].value_counts().reset_index()\n",
    "district_counts.columns = ['district', 'count']\n",
    "\n",
    "# Сортировка данных по количеству наблюдений\n",
    "sorted_data = data.set_index('district').loc[district_counts['district']].reset_index()"
   ]
  },
  {
   "cell_type": "code",
   "execution_count": null,
   "metadata": {},
   "outputs": [],
   "source": [
    "sns.set_palette('colorblind')\n",
    "plt.figure(figsize=(20, 10))\n",
    "sns.countplot(x='district', hue='category', data=sorted_data)\n",
    "plt.xticks(rotation=45)\n",
    "plt.title('Распределение категорий  по районам',fontdict = {'fontsize' : 20})\n",
    "plt.legend(fontsize=15)\n",
    "plt.show()"
   ]
  },
  {
   "cell_type": "markdown",
   "metadata": {},
   "source": [
    "Во всех округах кроме Центрального по количеству заведений доминируют кафе. В Центральном округе среди категорий больше всего ресторанов. Данный факт можно объяснить тем, что в центре привычно выше стоимость аренды, выше цены и покупательная способность клиентов. Также центр является местом высокой концентрации достопримечательностей с высоким потоком туристов. Поэтому рестораны отлично себя чувствуют, пользуясь высоким спросом как среди жителей столицы, так и среди гостей Москвы. Кафе являются самым вариативным видом заведений общепита, поэтому заслуженно занимают первое место по остальным округам. Кофейни занимают второе место по распостраненности везде, кроме Северного административного округа. Они пользуются спросом в большом городе при интенсивном темпе жизни, так как предлагают кофе и другие горячие и прохладительные напитки навынос, что соответствует спросу столичных жителей, спешащих в офис или предпочитающих зайти на чашечку бодрящего напитка в свой перерыв. \n",
    "\n",
    "Также необходимо отметить высокое количество баров и пабов в Центральном округе среди остальных округов. Центр является сосредоточением культурной и туристической жизни любого города, что легко объясняет такую высокую концентрацию заведений для вечернего и ночного досуга посетителей."
   ]
  },
  {
   "cell_type": "markdown",
   "metadata": {},
   "source": [
    "###  Распределение среднего рейтинга заведений по категориям."
   ]
  },
  {
   "cell_type": "markdown",
   "metadata": {},
   "source": [
    "Рассмотрим распределение средних рейтингов заведений по категориям, построив соответствующую таблицу."
   ]
  },
  {
   "cell_type": "code",
   "execution_count": null,
   "metadata": {},
   "outputs": [],
   "source": [
    "cat_rate = data.groupby('category')[['rating']].mean()\n",
    "\n",
    "cat_rate = cat_rate.sort_values(by='rating', ascending=False).reset_index()\n",
    "\n",
    "cat_rate"
   ]
  },
  {
   "cell_type": "markdown",
   "metadata": {},
   "source": [
    "По таблице видно, что лидером по среднему рейтингу являются **бары и пабы** (средний рейтинг **4.39**), аутсайдерами же являются предприятия **быстрого питания (4.05)**.\n",
    "\n",
    "Далее создадим сводную таблицу с распределением средних рейтингов категорий по районам Москвы."
   ]
  },
  {
   "cell_type": "code",
   "execution_count": null,
   "metadata": {},
   "outputs": [],
   "source": [
    "data_rate = data.pivot_table(index='district', columns='category', values='rating', aggfunc='mean')\n",
    "\n",
    "data_rate"
   ]
  },
  {
   "cell_type": "markdown",
   "metadata": {},
   "source": [
    "Построим тепловую карту данного распределения для большей наглядности и дополним выводы."
   ]
  },
  {
   "cell_type": "code",
   "execution_count": null,
   "metadata": {},
   "outputs": [],
   "source": [
    "plt.figure(figsize=(14,6))\n",
    "plt.title('Рейтинг по категориям')\n",
    "sns.heatmap(data_rate, annot=True)\n",
    "plt.show()"
   ]
  },
  {
   "cell_type": "markdown",
   "metadata": {},
   "source": [
    "Тепловая карта дает понять, что по среднему рейтингу разных категорий лидирует **Центральный административный округ**. Это объясняется высокой конкуренцией в данном районе, заведениям необходимо держать соответствующий уровень, чтобы сохранять спрос и интерес покупателей именно к своему заведению. Среди категорий **заведения быстрого питания** сильно уступают остальным категориям, средний рейтинг этих заведений опускается ниже **4** в отдельных районах Москвы, что себе не могут позволить остальные категории. **Заведения быстрого питания** чаще всего предлагают низкие цены, но качество сырья и готовых продуктов из-за этого тоже часто страдает. Также им необходимо быстро обслуживать своих клиентов, что также может сказываться на качестве предлагаемой еды и напитков. "
   ]
  },
  {
   "cell_type": "markdown",
   "metadata": {},
   "source": [
    "Далее отобразим средние рейтинги заведений каждого района на карте Москвы."
   ]
  },
  {
   "cell_type": "code",
   "execution_count": null,
   "metadata": {},
   "outputs": [],
   "source": [
    "# сначала создадим сводную таблицу с округами и средним рейтингом заведений\n",
    "rating_df = data.groupby('district')[['rating']].agg('mean')\n",
    "\n",
    "rating_df = rating_df.sort_values(by='rating', ascending=False).reset_index()\n",
    "\n",
    "rating_df"
   ]
  },
  {
   "cell_type": "code",
   "execution_count": null,
   "metadata": {},
   "outputs": [],
   "source": [
    "# подключаем модуль для работы с JSON-форматом\n",
    "import json\n",
    "\n",
    "# читаем файл и сохраняем в переменной\n",
    "with open('/datasets/admin_level_geomap.geojson', 'r') as f:\n",
    "    geo_json = json.load(f)"
   ]
  },
  {
   "cell_type": "code",
   "execution_count": null,
   "metadata": {},
   "outputs": [],
   "source": [
    "# импортируем карту и хороплет\n",
    "from folium import Map, Choropleth\n",
    "\n",
    "# загружаем JSON-файл с границами округов Москвы\n",
    "state_geo = '/datasets/admin_level_geomap.geojson'\n",
    "# moscow_lat - широта центра Москвы, moscow_lng - долгота центра Москвы\n",
    "moscow_lat, moscow_lng = 55.751244, 37.618423\n",
    "\n",
    "# создаём карту Москвы\n",
    "map_rate = Map(location=[moscow_lat, moscow_lng], zoom_start=10)\n",
    "\n",
    "# создаём хороплет с помощью конструктора Choropleth и добавляем его на карту\n",
    "Choropleth(\n",
    "    geo_data=state_geo,\n",
    "    data=rating_df,\n",
    "    columns=['district', 'rating'],\n",
    "    key_on='feature.name',\n",
    "    fill_color='YlOrBr',\n",
    "    fill_opacity=0.8,\n",
    "    legend_name='Средний рейтинг заведений по районам',\n",
    ").add_to(map_rate)\n",
    "\n",
    "# выводим карту\n",
    "map_rate"
   ]
  },
  {
   "cell_type": "markdown",
   "metadata": {},
   "source": [
    "Исходя из данных фоновой картограммы можно сказать, что самый высокий рейтинг у заведений Центрального административного округа Москвы. За ним следует Северный  и Северо-западный районы. Самый низкий средний рейтинг у заведений Юго-Восточного административного округа."
   ]
  },
  {
   "cell_type": "markdown",
   "metadata": {},
   "source": [
    "### Заведения на карте Москвы"
   ]
  },
  {
   "cell_type": "markdown",
   "metadata": {},
   "source": [
    "Отобразим все заведения общепита Москвы на карте."
   ]
  },
  {
   "cell_type": "code",
   "execution_count": null,
   "metadata": {},
   "outputs": [],
   "source": [
    "# Функция map_style задает единый стиль для отображаемой интерактивной карты\n",
    "def map_style(): \n",
    "    moscow_lat, moscow_lng = 55.751244, 37.618423\n",
    "    m = Map(location=[moscow_lat, moscow_lng], zoom_start=10, tiles='cartodbpositron') \n",
    "    marker_cluster = MarkerCluster().add_to(m)\n",
    "    return m, marker_cluster "
   ]
  },
  {
   "cell_type": "code",
   "execution_count": null,
   "metadata": {},
   "outputs": [],
   "source": [
    "# Функция icon_style задает единый стиль выводимых на карте меток\n",
    "def icon_style():\n",
    "    icon = folium.Icon(icon=\"cutlery\", color=\"blue\")\n",
    "    return icon"
   ]
  },
  {
   "cell_type": "code",
   "execution_count": null,
   "metadata": {},
   "outputs": [],
   "source": [
    "# отобразим все заведения на карте Москвы с помощью кластеров\n",
    "m, marker_cluster = map_style()\n",
    "def create_clusters(row, icon):\n",
    "    folium.Marker(\n",
    "        [row['lat'], row['lng']],\n",
    "        popup=f\"{row['name']} {row['rating']}\",\n",
    "        icon=icon\n",
    "    ).add_to(marker_cluster)\n",
    "data.apply(lambda row: create_clusters(row, icon_style()), axis=1)\n",
    "m"
   ]
  },
  {
   "cell_type": "markdown",
   "metadata": {},
   "source": [
    "### Топ-15 улиц по количеству заведений общественного питания"
   ]
  },
  {
   "cell_type": "markdown",
   "metadata": {},
   "source": [
    "Найдем топ-15 улиц, на которых расположено наибольшее количество заведений."
   ]
  },
  {
   "cell_type": "code",
   "execution_count": null,
   "metadata": {},
   "outputs": [],
   "source": [
    "top_street = data.pivot_table(index='street', values='name', aggfunc='count').sort_values(by='name', ascending=False).head(15)\n",
    "\n",
    "top_st = top_street.index\n",
    "\n",
    "top_street"
   ]
  },
  {
   "cell_type": "markdown",
   "metadata": {},
   "source": [
    "Самое большое количество заведений на **проспекте Мира — 183 заведения**, на **Профсоюзной улице — 122** и на **проспекте Вернадского — 108**, также на **Ленинском проспекте 107 заведений**. На остальных улицах, шоссе и проспектах заведений **меньше 100**. **Пятницкая улица** замыкает наш топ-15, вмещая **48 заведений**.\n",
    "\n",
    "Далее взглянем на распределение заведений по категориям на этих улицах."
   ]
  },
  {
   "cell_type": "code",
   "execution_count": null,
   "metadata": {},
   "outputs": [],
   "source": [
    "top_street = data.query('street in @top_st')\n",
    "street_counts = top_street['street'].value_counts().sort_values(ascending=False)\n",
    "plt.figure(figsize=(20, 10))\n",
    "sns.countplot(x='street', hue='category', data=top_street, order=street_counts.index)\n",
    "plt.title('Распределение категорий  по улицам',fontdict = {'fontsize' : 20})\n",
    "plt.legend(fontsize=15)\n",
    "plt.xticks(rotation=45)\n",
    "plt.show()"
   ]
  },
  {
   "cell_type": "markdown",
   "metadata": {},
   "source": [
    "По категориям на этих улицах чаще всего располагаются **кафе и рестораны**, на третьем месте идут **кофейни**, но иногда **кофейни** занимают второе место или даже делят первое, как например на **Ленинградском проспекте**. На **МКАДе** преобладают **кафе** и заведения **быстрого питания**, так как эти категории заведений лучше всего подходят для обслуживания водителей.\n",
    "\n",
    "Все улицы из топ-15 довольно длинные, самая большая продолжительность (**108.9 км**) принадлежит **МКАДу**, Профсоюзная улица имеет длину в **9.3** км, Проспект Мира - **8.9** км.\n",
    "\n",
    "Взаимосвязь между длиной улицы и количеством заведений не всегда однозначна. Хотя многие улицы имеют большую протяженность, это не всегда означает большое количество заведений.\n",
    "\n",
    "**Ленинский проспект** имеет внушительную длину — **14** км и одновременно на нем размещено **107** заведений. Это может указывать на то, что длинные улицы могут предоставлять больше возможностей для открытия и развития заведений общественного питания.\n",
    "\n",
    "Самая короткая из топ-15 — **Пятницкая улица - всего 1.8 км**, но она находится в самом центре Москвы, поэтому пользуется высоким спросом, на ней располагается целых **48** заведений.\n",
    "\n",
    "Самая высокая плотность заведений на **Пятницкой улице**, тут находится примерно **26.7 заведений на километр**, самая низкая плотность на **МКАДе** — **0.6 заведений на километр**.\n",
    "\n",
    "Исходя из этого можно сделать вывод, что решающий фактор распределения заведений общепита - это не длина улицы, а **выгодное расположение** (наиболее близко к центру) и большой поток клиентов соответственно.\n",
    "\n",
    "Данные по размерам улиц взяты из открытых источников (https://ru.wikipedia.org/wiki/%D0%A1%D0%BF%D0%B8%D1%81%D0%BE%D0%BA_%D1%83%D0%BB%D0%B8%D1%86_%D0%9C%D0%BE%D1%81%D0%BA%D0%B2%D1%8B#%D0%92%D0%B0%E2%80%A6).\n"
   ]
  },
  {
   "cell_type": "markdown",
   "metadata": {},
   "source": [
    "Далее рассмотрим улицы, на которых находится всего 1 заведение общественного питания."
   ]
  },
  {
   "cell_type": "code",
   "execution_count": null,
   "metadata": {},
   "outputs": [],
   "source": [
    "#\n",
    "one_place = data.pivot_table(index='street', values='name', aggfunc='count').sort_values(by='name')\n",
    "one_place = one_place[one_place['name'] == 1]\n",
    "print('Количество улиц с 1 заведением:',one_place['name'].count())"
   ]
  },
  {
   "cell_type": "code",
   "execution_count": null,
   "metadata": {},
   "outputs": [],
   "source": [
    "one_place_st = one_place.index\n",
    "one_place_data = data.query('street in @one_place_st')\n",
    "data_one_place = one_place_data.pivot_table(index='district', columns='category', values='rating', aggfunc='count')\n",
    "plt.figure(figsize=(14,6))\n",
    "sns.heatmap(data_one_place, annot=True)\n",
    "plt.show()"
   ]
  },
  {
   "cell_type": "markdown",
   "metadata": {},
   "source": [
    "Больше всего улиц с 1 заведением находится в **Центральном округе**. В исторической части города очень много маленьких улочек из-за особенностей градостроения прошлых времен. Самые распространенные категории заведений-одиночек это **кафе, кофейни и рестораны**."
   ]
  },
  {
   "cell_type": "markdown",
   "metadata": {},
   "source": [
    "### Анализ средних чеков заведений по районам Москвы"
   ]
  },
  {
   "cell_type": "code",
   "execution_count": null,
   "metadata": {},
   "outputs": [],
   "source": [
    "# сгруппируем по районам и посчитаем медианное значение среднего чека\n",
    "data_bill = data.groupby('district')[['middle_avg_bill']].median().round()\n",
    "# переименуем столбец\n",
    "data_bill.columns = ['median_avg_bill']\n",
    "# отсортируем и выведем таблицу по убыванию суммы чека\n",
    "data_bill = data_bill.sort_values(by='median_avg_bill', ascending=False).reset_index()\n",
    "display(data_bill)"
   ]
  },
  {
   "cell_type": "code",
   "execution_count": null,
   "metadata": {},
   "outputs": [],
   "source": [
    "from folium.plugins.heat_map import HeatMap\n",
    "\n",
    "map_bill = folium.Map([55.751244, 37.618423], zoom_start=10, tiles='cartodbpositron')\n",
    "\n",
    "heatmap_data = data[['lat','lng', 'middle_avg_bill']].copy().dropna() \n",
    "\n",
    "heatmap = heatmap_data[['lat','lng', 'middle_avg_bill']] \n",
    "\n",
    "HeatMap(data=heatmap, radius=14, gradient={0:'blue', .3: 'green', .65: 'yellow', 1: 'red'}).add_to(map_bill)\n",
    "\n",
    "map_bill "
   ]
  },
  {
   "cell_type": "markdown",
   "metadata": {},
   "source": [
    "Самые высокие показатели среднего чека наблюдаются в **Центральном округе** и **Западном округе** Москвы. Средний чек этих районов составляет **1000 рублей**. С **Центральным административнеым округом** такие результаты ожидаемы, так как в центре находятся здания с высокой стоимостью аренды, самые дорогие объекты недвижимости и офисы элитных компаний, не говоря уже о комплексе небоскребов Москва-сити. В **Западном администратвном округе** цены не отстают от центра, это объясняется высокой концентрацией мест отдыха и культурного наследия, а также дорогой недвижимости, так как **Западный район** переходит в **Рублево-Успенское** шоссе, вдоль которого располагаются элитные объекты недвижимости Московской Области.\n",
    "\n",
    "В **остальных округах** средний чек колеблется от **500 до 700 рублей**, а самый низкий средний чек принадлежит заведениям **Юго-Восточного округа**, он составляет **450 рублей**.\n",
    "\n"
   ]
  },
  {
   "cell_type": "markdown",
   "metadata": {},
   "source": [
    "### Вывод по анализу данных заведений общественного питания Москвы"
   ]
  },
  {
   "cell_type": "markdown",
   "metadata": {},
   "source": [
    "В Москве на лето 2022 года было представлено 8406 заведений общественного питания. Данные взяты из Яндекс Карт и Яндекс Бизнеса. После предобработки данных заведений осталось 8402. С этими записями был проведен исследовательский анализ данных, показавший следующие закономерности:\n",
    "- самые распространенные в Москве категории заведений - это **кафе, рестораны и кофейни (2376, 2042 и 1413** заведений соответственно). Они занимают **69%** от общего количества всех категорий заведений. Это можно объяснить тем, что это универсальные форматы заведений, которые подходят под любой случай и могут быть адаптированы под любые предпочтения. Наименее распространены **булочные** - их всего **256** заведений в городе;\n",
    "- по количеству посадочных мест топ-3 занимают **рестораны, бары, пабы и кофейни (86, 82 и 80** соответственно). Меньше всего гостей могут вместить **булочные** - медианное значение посадочных мест всего **50**;\n",
    "- **сетевые заведения** занимают **39%** от общего числа, чаще всего сетевыми заведениями являются **булочные, пиццерии и кофейни**. Меньше всего сетевых заведений среди **столовых, баров и пабов**;\n",
    "- топ-15 популярных сетей общепита возглавляют **Шоколадница, Домино'с пицца** и **Додо пицца**. В лидерах сетевых заведений преобладают кафе, пиццерии и кофейни;\n",
    "- по количеству заведений с большим отрывом лидирует **Центральный административный округ** (**2242** заведения против **898** у **Северного административного округа**, который занимает второе место). На третьем месте с небольшим отрывом идет Южный административный округ (**892** заведения). Меньше всего заведений в Северо-Западном округе - **409** заведений на весь район;\n",
    "- по среднему рейтингу среди всех категорий лидируют **бары и пабы (средний рейтинг 4.39)**. На втором и третьем месте идут **пиццерии и рестораны** со средним рейтингом **4.30 и 4.29**. Самый низкий средний рейтинг - у заведений **быстрого питания (4.05)**. Самые высокие средние рейтинги у заведений наблюдаются в **Центральном Административном округе (4.39)**, самые низкие - **в Южном (4.05)**;\n",
    "- самые насыщенные заведениями общепита улицы - это **Проспект Мира, Профсоюзная улица и Проспект Вернадского**;\n",
    "- самые высокие показатели медианного чека принадлежат **Центральному и Западному** административным округам Москвы - **1000 рублей**. Самый низкий - у **Юго-Восточного административного округа (450 рублей)**; "
   ]
  },
  {
   "cell_type": "markdown",
   "metadata": {},
   "source": [
    "## Открытие кофейни"
   ]
  },
  {
   "cell_type": "markdown",
   "metadata": {},
   "source": [
    "Теперь внимательнее рассмотрим рынок кофеен Москвы. Изучим их расположение по районам, режим работы, рейтинги и среднюю стоимость чашки капучино."
   ]
  },
  {
   "cell_type": "markdown",
   "metadata": {},
   "source": [
    "### Общее количество кофеен в столице и их распределение по округам"
   ]
  },
  {
   "cell_type": "markdown",
   "metadata": {},
   "source": [
    "Выведем общее количество кофеен в датасете."
   ]
  },
  {
   "cell_type": "code",
   "execution_count": null,
   "metadata": {},
   "outputs": [],
   "source": [
    "coffee_data = data[data['category'] == 'кофейня']\n",
    "\n",
    "print('Всего кофеен в Москве:', len(coffee_data))"
   ]
  },
  {
   "cell_type": "markdown",
   "metadata": {},
   "source": [
    "Далее создадим таблицу с распределением кофеен по округам Москвы."
   ]
  },
  {
   "cell_type": "code",
   "execution_count": null,
   "metadata": {},
   "outputs": [],
   "source": [
    "coffee_district = coffee_data.groupby('district')[['district']].count()\n",
    "\n",
    "coffee_district.columns = ['total_count']\n",
    "\n",
    "coffee_district = coffee_district.sort_values(by='total_count', ascending=False).reset_index()\n",
    "\n",
    "coffee_district"
   ]
  },
  {
   "cell_type": "code",
   "execution_count": null,
   "metadata": {},
   "outputs": [],
   "source": [
    "# строим столбчатую диаграмму \n",
    "fig = px.bar(coffee_district.sort_values(by='total_count', ascending=True), # загружаем данные и заново их сортируем\n",
    "             x='total_count', # указываем столбец с данными для оси X\n",
    "             y='district', # указываем столбец с данными для оси Y\n",
    "             text='total_count' # добавляем аргумент, который отобразит текст с информацией\n",
    "                                # о количестве кофеен внутри столбца графика\n",
    "            )\n",
    "# оформляем график\n",
    "fig.update_layout(title='Распределение количества кофеен по районам',\n",
    "                   xaxis_title='Количество кофеен',\n",
    "                   yaxis_title='Районы')\n",
    "\n",
    "fig.update_traces(marker=dict(color='#cd6133'),\n",
    "                  selector=dict(type='bar'))\n",
    "\n",
    "fig.show() # выводим график"
   ]
  },
  {
   "cell_type": "markdown",
   "metadata": {},
   "source": [
    "Всего в Москве представлено **1413** кофеен, из них большая часть находится в **Центральном административном округе - 428** заведений. Со значительным отрывом следует **Северный административный округ - 193 заведения**. Меньше всего кофеен находится в **Северо-Западном** административном округе (**всего 62 заведения**), по этим показателям распределение кофеен по округам коррелирует с общим распределением заведений общепита Москвы по районам."
   ]
  },
  {
   "cell_type": "markdown",
   "metadata": {},
   "source": [
    "### Топ-15 улиц по количеству кофеен в Москве"
   ]
  },
  {
   "cell_type": "markdown",
   "metadata": {},
   "source": [
    "Найдем топ-15 улиц по количеству кофеен и выведем список в виде таблицы."
   ]
  },
  {
   "cell_type": "code",
   "execution_count": null,
   "metadata": {},
   "outputs": [],
   "source": [
    "coffee_street = coffee_data.pivot_table(index='street', values='name', aggfunc='count').sort_values(by='name', ascending=False).head(15)\n",
    "\n",
    "coffee_street.columns=['количество заведений']\n",
    "\n",
    "coffee_street = coffee_street.reset_index()\n",
    "\n",
    "coffee_street"
   ]
  },
  {
   "cell_type": "code",
   "execution_count": null,
   "metadata": {},
   "outputs": [],
   "source": [
    "fig = px.bar(coffee_street, x='street', y='количество заведений', color='street', title='Топ-15 улиц по количеству кофеен',\n",
    "            text='количество заведений')\n",
    "\n",
    "fig.update_traces(texttemplate='%{text}',\n",
    "                  marker=dict(color='#7469B6'),\n",
    "                  textposition='outside')\n",
    "\n",
    "fig.update_layout(yaxis_title='Количество заведений',\n",
    "                  xaxis_title='Название улицы',\n",
    "                  yaxis=dict(range=[0, 40]),\n",
    "                  showlegend=False)\n",
    "\n",
    "fig.show()"
   ]
  },
  {
   "cell_type": "markdown",
   "metadata": {},
   "source": [
    "**Проспект Мира** лидирует как по количеству заведений в целом, так и по количеству кофеен (**36 заведений**). Зато **Ленинградский и Ленинский** проспект в этот раз выбились в топ-3, обогнав **Профсоюзную улицу и Проспект Вернадского**."
   ]
  },
  {
   "cell_type": "markdown",
   "metadata": {},
   "source": [
    "### Режим работы кофеен"
   ]
  },
  {
   "cell_type": "markdown",
   "metadata": {},
   "source": [
    "Найдем количество круглосуточных кофеен, отобразим соотношение к некруглосуточным, а также изучим распределение крпуглосуточных кофеен по районам Москвы."
   ]
  },
  {
   "cell_type": "code",
   "execution_count": null,
   "metadata": {},
   "outputs": [],
   "source": [
    "coffee_24_7 = coffee_data[coffee_data['is_24/7'] == True]\n",
    "print('Количество круглосуточных кофеен:', len(coffee_24_7))"
   ]
  },
  {
   "cell_type": "code",
   "execution_count": null,
   "metadata": {},
   "outputs": [],
   "source": [
    "# сгруппируем по признаку круглосуточной работы кофеен\n",
    "coffee_time = coffee_data.groupby('is_24/7')[['is_24/7']].count()\n",
    "# переименуем столбец\n",
    "coffee_time.columns = ['total_count']\n",
    "# отсортируем и выведем таблицу по убыванию кол-ва заведений\n",
    "coffee_time = coffee_time.sort_values(by='total_count', ascending=False).reset_index()\n",
    "\n",
    "display(coffee_time)"
   ]
  },
  {
   "cell_type": "code",
   "execution_count": null,
   "metadata": {},
   "outputs": [],
   "source": [
    "coffee_param = ['Некруглосуточные', 'Круглосуточные']\n",
    "fig = go.Figure(data=[go.Pie(labels=coffee_param, \n",
    "                             values=coffee_time.total_count,\n",
    "                            pull=[0.02,0])])\n",
    "fig.update_layout(title='Соотношение кофеен по режиму работы',\n",
    "                 width=800,\n",
    "                 height=600,\n",
    "                 annotations=[dict(x=1.2,\n",
    "                                  y=1.05,\n",
    "                                  text='Режим работы',\n",
    "                                  showarrow=False)])\n",
    "fig.show()"
   ]
  },
  {
   "cell_type": "markdown",
   "metadata": {},
   "source": [
    "Как видим, из 1413 кофеен всего **59** работают в круглосуточном режиме, это всего **4.18%** от общего числа кофеен.\n",
    "\n",
    "Далее рассмотрим распределение круглосуточных кофеен по районам Москвы и отобразим их на карте."
   ]
  },
  {
   "cell_type": "code",
   "execution_count": null,
   "metadata": {},
   "outputs": [],
   "source": [
    "allday_district = coffee_24_7.groupby('district')[['district']].count()\n",
    "\n",
    "allday_district.columns = ['total_count']\n",
    "\n",
    "allday_district = allday_district.sort_values(by='total_count', ascending=False).reset_index()\n",
    "\n",
    "allday_district"
   ]
  },
  {
   "cell_type": "code",
   "execution_count": null,
   "metadata": {},
   "outputs": [],
   "source": [
    "fig = px.bar(allday_district[['district', 'total_count']].sort_values(by='total_count', ascending=False), \n",
    "             x='total_count', \n",
    "             y='district',    \n",
    "             color='district',\n",
    "             text='total_count', \n",
    "             title='Распределение круглосуточных кофеен по округам')\n",
    "            \n",
    "fig.update_traces(texttemplate='%{text}',\n",
    "                  marker=dict(color='#FF6500'),\n",
    "                  textposition='outside')\n",
    "fig.update_layout(yaxis_title='Округ',\n",
    "                  xaxis_title='Количество кофеен',\n",
    "                  xaxis=dict(range=[0, 30]),\n",
    "                  showlegend=False, legend_title='Округ')\n",
    "fig.show()"
   ]
  },
  {
   "cell_type": "markdown",
   "metadata": {},
   "source": [
    "Большая часть круглосуточных кофеен ожидаемо расположилась в **Центральном административном округе**, тут их целых **26**. За ним следует **Западный административный округ с 9** круглосуточными кофейнями, а третье место с **7** такими заведениями занимает **Юго-Западный округ**. В остальных округах круглосуточных кофеен очень мало, от **5 до 1** на весь округ."
   ]
  },
  {
   "cell_type": "markdown",
   "metadata": {},
   "source": [
    "### Распределение рейтинга кофеен по округам"
   ]
  },
  {
   "cell_type": "markdown",
   "metadata": {},
   "source": [
    "Построим таблицу с распределением среднего рейтинга кофеен по районам Москвы. Значения рейтинга варьируются от 0 до 5, поэтому среднее значение устойчиво к выбросам и медианное значение не требуется."
   ]
  },
  {
   "cell_type": "code",
   "execution_count": null,
   "metadata": {},
   "outputs": [],
   "source": [
    "coffee_rate = coffee_data.groupby('district')[['rating']].mean().round(2)\n",
    "\n",
    "coffee_rate = coffee_rate.sort_values(by='rating', ascending=False).reset_index()\n",
    "\n",
    "coffee_rate"
   ]
  },
  {
   "cell_type": "code",
   "execution_count": null,
   "metadata": {},
   "outputs": [],
   "source": [
    "fig = px.bar(coffee_rate[['district', 'rating']].sort_values(by='rating', ascending=False), \n",
    "             x='rating', \n",
    "             y='district',    \n",
    "             color='district',\n",
    "             text='rating', \n",
    "             title='Средний рейтинг кофеен по районам')\n",
    "            \n",
    "fig.update_traces(texttemplate='%{text}',\n",
    "                  marker=dict(color='#973131'),\n",
    "                  textposition='outside')\n",
    "fig.update_layout(yaxis_title='Округ',\n",
    "                  xaxis_title='Средний рейтинг',\n",
    "                  xaxis=dict(range=[4, 4.6]),\n",
    "                  showlegend=False, legend_title='Округ')\n",
    "fig.show()"
   ]
  },
  {
   "cell_type": "markdown",
   "metadata": {},
   "source": [
    "Разброс рейтингов кофеен по городу не очень велик, все рейтинги представлены довольно высокими значениями от **4.20 до 4.34**.\n",
    "Так, рейтинг выше **4.3** имеют следующие районы:\n",
    "- Центральный административный округ — 4.34;\n",
    "- Северо-Западный административный округ — 4.33.\n",
    "\n",
    "Все остальные районы имеют рейтинг ниже 4.3"
   ]
  },
  {
   "cell_type": "markdown",
   "metadata": {},
   "source": [
    "### Медианная стоимость чашки капучино в Москве"
   ]
  },
  {
   "cell_type": "markdown",
   "metadata": {},
   "source": [
    "Рассмотрим распределение медианного значения стоимости чашки капучино по округам Москвы, чтобы понимать на какую стоимость чашки капучино стоит ориентироваться при открытии кофейни в том или ином районе."
   ]
  },
  {
   "cell_type": "code",
   "execution_count": null,
   "metadata": {
    "scrolled": true
   },
   "outputs": [],
   "source": [
    "#построим таблицу с группировкой по районам\n",
    "price_coffeeshop = coffee_data.groupby('district')['middle_coffee_cup'].median().round(0).astype(int).reset_index()\n",
    "\n",
    "price_coffeeshop = price_coffeeshop.rename(columns={'district': 'округ', 'middle_coffee_cup': 'медианная цена'})\n",
    "\n",
    "price_coffeeshop = price_coffeeshop.sort_values(by='медианная цена', ascending=False)\n",
    "\n",
    "price_coffeeshop"
   ]
  },
  {
   "cell_type": "markdown",
   "metadata": {},
   "source": [
    "Далее визуализируем полученный результат."
   ]
  },
  {
   "cell_type": "code",
   "execution_count": null,
   "metadata": {},
   "outputs": [],
   "source": [
    "fig = px.bar(price_coffeeshop[['округ', 'медианная цена']].sort_values(by='медианная цена', ascending=False), \n",
    "             x='медианная цена', \n",
    "             y='округ',    \n",
    "             color='округ',\n",
    "             text='медианная цена', \n",
    "             title='Медианная цена на чашку кофе')\n",
    "            \n",
    "fig.update_traces(texttemplate='%{text}',\n",
    "                  marker=dict(color='#ffb142'),\n",
    "                  textposition='outside')\n",
    "fig.update_layout(yaxis_title='Округ',\n",
    "                  xaxis_title='Медианная цена',\n",
    "                  xaxis=dict(range=[120, 210]),\n",
    "                  showlegend=False, legend_title='Округ')\n",
    "fig.show()"
   ]
  },
  {
   "cell_type": "markdown",
   "metadata": {},
   "source": [
    "С самой высокой медианной ценой неожиданно лидирует **Юго-Западный** административный округ(**198** рублей за чашку капучино), хотя он занимает лишь пятое место по общим ценам заведений. За ним идут **Центральный и Западный** административные округа со значениями в **190 и 189** рублей."
   ]
  },
  {
   "cell_type": "markdown",
   "metadata": {},
   "source": [
    "### Общий вывод и рекомендации по открытию кофейни в Москве."
   ]
  },
  {
   "cell_type": "markdown",
   "metadata": {},
   "source": [
    "В ходе исследования рынка кофеен за 2022 год были получены следующие наблюдения:\n",
    "- в Москве всего **1413 кофеен**, большая часть находится в **Центральном административном округе - 428 заведений**. Также в этом округе у кофеен самый высокий средний рейтинг - **4.34**;\n",
    "- **меньше всего** кофеен в **Северо-Западном административном округе - всего 62**;\n",
    "- всего лишь **4.18%** кофеен работают **круглосуточно**, опять же большинство из них находится в **Центральном районе**. На втором и третьем местах - **Западный и Юго-Западный районы**;\n",
    "- большинство кофеен имеют неплохой **средний рейтинг** по всем округам - от **4.2 и выше**. Кофейни с самым **высоким** рейтингом находятся в **Центральном, Северо-Западном и Северном административном округах**;\n",
    "- медианная **стоимость чашки капучино** варьируется **от 135 до 198 рублей**. Самая **высокая** цена - в **Юго-Западном административном округе**, хоть он и занимает **4 место в списке по рейтингу** заведений;\n",
    "- **Проспект Мира лидирует как по количеству** заведений всех категорий, так и по количеству кофеен среди остальных улиц. Но **Ленинградский и Ленинский проспекты** обогнали другие улицы **в топе по кофейням**.\n",
    "\n",
    "Рекомендации по открытию кофейни:\n",
    "\n",
    "- Советую обратить внимание на **Северо-Западный административный округ, Юго-Восточный и Юго-Западный административный округ**, учитывая **высокий средний рейтинг** заведений и относительно **низкое их количество**. Конкуренция в этих районах будет ощущаться гораздо меньше, чем в **Центральном или Северном** округах. При этом в **Юго-Западном округе** можно рассчитывать на довольно **высокую стоимость чашки капучино (около 190 рублей**). Но также стоит учитывать, что чем **ближе к Центральному району** вы откроете кофейню, тем обоснованнее будет **высокая цена** в вашем заведении.\n",
    "\n",
    "- При открытии кофейни в **Центральном и Северном административных округах** следует сделать упор на уникальности заведения, также можно подумать об открытии **круглосуточной кофейни**, так как их количество невелико во всех районах. В **центре** столицы ночная жизнь гораздо активнее, чем в других районах, поэтому спрос  будет прогнозируемо **высоким**.\n",
    "\n",
    "Рекомендации основаны на полученных в этом исследовании общих данных и должны быть скорректированы для конкретных бизнес-планов.\n"
   ]
  },
  {
   "cell_type": "markdown",
   "metadata": {},
   "source": [
    "## Презентация"
   ]
  },
  {
   "cell_type": "markdown",
   "metadata": {},
   "source": [
    "Ссылка на презентацию исследования: https://disk.yandex.ru/i/yGKQ1hoQnrzCwg"
   ]
  }
 ],
 "metadata": {
  "ExecuteTimeLog": [
   {
    "duration": 1252,
    "start_time": "2024-06-21T20:18:46.461Z"
   },
   {
    "duration": 145,
    "start_time": "2024-06-21T20:19:23.644Z"
   },
   {
    "duration": 218,
    "start_time": "2024-06-21T20:20:52.000Z"
   },
   {
    "duration": 17,
    "start_time": "2024-06-21T20:20:58.678Z"
   },
   {
    "duration": 14,
    "start_time": "2024-06-21T20:21:10.593Z"
   },
   {
    "duration": 12,
    "start_time": "2024-06-21T20:22:16.748Z"
   },
   {
    "duration": 50,
    "start_time": "2024-06-24T09:08:41.769Z"
   },
   {
    "duration": 1408,
    "start_time": "2024-06-24T09:08:46.014Z"
   },
   {
    "duration": 135,
    "start_time": "2024-06-24T09:08:47.424Z"
   },
   {
    "duration": 23,
    "start_time": "2024-06-24T09:08:47.562Z"
   },
   {
    "duration": 17,
    "start_time": "2024-06-24T09:08:47.587Z"
   },
   {
    "duration": 1064,
    "start_time": "2024-06-24T09:08:47.606Z"
   },
   {
    "duration": 1215,
    "start_time": "2024-06-24T09:10:20.023Z"
   },
   {
    "duration": 314,
    "start_time": "2024-06-24T11:16:24.810Z"
   },
   {
    "duration": 81,
    "start_time": "2024-06-24T11:16:26.852Z"
   },
   {
    "duration": 21,
    "start_time": "2024-06-24T11:16:29.286Z"
   },
   {
    "duration": 16,
    "start_time": "2024-06-24T11:16:32.544Z"
   },
   {
    "duration": 1409,
    "start_time": "2024-06-24T11:16:35.630Z"
   },
   {
    "duration": 84,
    "start_time": "2024-06-24T11:30:42.275Z"
   },
   {
    "duration": 88,
    "start_time": "2024-06-24T11:31:01.181Z"
   },
   {
    "duration": 68,
    "start_time": "2024-06-24T11:31:35.659Z"
   },
   {
    "duration": 25,
    "start_time": "2024-06-24T11:31:38.999Z"
   },
   {
    "duration": 37,
    "start_time": "2024-06-24T11:39:50.630Z"
   },
   {
    "duration": 3,
    "start_time": "2024-06-24T11:42:02.103Z"
   },
   {
    "duration": 41,
    "start_time": "2024-06-24T11:42:02.109Z"
   },
   {
    "duration": 98,
    "start_time": "2024-06-24T11:42:02.151Z"
   },
   {
    "duration": 16,
    "start_time": "2024-06-24T11:42:02.250Z"
   },
   {
    "duration": 24,
    "start_time": "2024-06-24T11:42:02.268Z"
   },
   {
    "duration": 47,
    "start_time": "2024-06-24T11:42:02.294Z"
   },
   {
    "duration": 3,
    "start_time": "2024-06-24T11:42:17.649Z"
   },
   {
    "duration": 73,
    "start_time": "2024-06-24T11:42:18.299Z"
   },
   {
    "duration": 16,
    "start_time": "2024-06-24T11:42:18.649Z"
   },
   {
    "duration": 3,
    "start_time": "2024-06-24T11:42:23.638Z"
   },
   {
    "duration": 82,
    "start_time": "2024-06-24T11:42:24.066Z"
   },
   {
    "duration": 16,
    "start_time": "2024-06-24T11:42:24.359Z"
   },
   {
    "duration": 73,
    "start_time": "2024-06-24T12:09:29.567Z"
   },
   {
    "duration": 33,
    "start_time": "2024-06-24T12:12:06.502Z"
   },
   {
    "duration": 24,
    "start_time": "2024-06-24T12:12:21.207Z"
   },
   {
    "duration": 69,
    "start_time": "2024-06-24T12:20:58.507Z"
   },
   {
    "duration": 15,
    "start_time": "2024-06-24T12:21:21.379Z"
   },
   {
    "duration": 72,
    "start_time": "2024-06-24T12:29:06.886Z"
   },
   {
    "duration": 3,
    "start_time": "2024-06-24T12:29:12.662Z"
   },
   {
    "duration": 22,
    "start_time": "2024-06-24T12:29:12.668Z"
   },
   {
    "duration": 108,
    "start_time": "2024-06-24T12:29:12.692Z"
   },
   {
    "duration": 15,
    "start_time": "2024-06-24T12:29:12.801Z"
   },
   {
    "duration": 39,
    "start_time": "2024-06-24T12:29:12.819Z"
   },
   {
    "duration": 28,
    "start_time": "2024-06-24T12:29:12.860Z"
   },
   {
    "duration": 26,
    "start_time": "2024-06-24T12:29:12.890Z"
   },
   {
    "duration": 157,
    "start_time": "2024-06-25T12:56:56.359Z"
   },
   {
    "duration": 3,
    "start_time": "2024-06-25T12:56:56.518Z"
   },
   {
    "duration": 102,
    "start_time": "2024-06-25T12:56:56.523Z"
   },
   {
    "duration": 17,
    "start_time": "2024-06-25T12:56:56.627Z"
   },
   {
    "duration": 34,
    "start_time": "2024-06-25T12:56:56.647Z"
   },
   {
    "duration": 35,
    "start_time": "2024-06-25T12:56:56.683Z"
   },
   {
    "duration": 71,
    "start_time": "2024-06-25T12:56:56.721Z"
   },
   {
    "duration": 31,
    "start_time": "2024-06-25T12:56:56.794Z"
   },
   {
    "duration": 61,
    "start_time": "2024-06-25T13:08:51.991Z"
   },
   {
    "duration": 31,
    "start_time": "2024-06-25T13:08:56.374Z"
   },
   {
    "duration": 35,
    "start_time": "2024-06-25T13:10:47.050Z"
   },
   {
    "duration": 33,
    "start_time": "2024-06-25T13:10:54.257Z"
   },
   {
    "duration": 39,
    "start_time": "2024-06-25T13:13:49.719Z"
   },
   {
    "duration": 8,
    "start_time": "2024-06-25T14:19:48.471Z"
   },
   {
    "duration": 8,
    "start_time": "2024-06-25T14:23:27.282Z"
   },
   {
    "duration": 5,
    "start_time": "2024-06-25T14:38:23.375Z"
   },
   {
    "duration": 7,
    "start_time": "2024-06-25T14:38:32.834Z"
   },
   {
    "duration": 17,
    "start_time": "2024-06-25T14:40:05.511Z"
   },
   {
    "duration": 14,
    "start_time": "2024-06-25T14:46:27.237Z"
   },
   {
    "duration": 21,
    "start_time": "2024-06-25T14:47:57.687Z"
   },
   {
    "duration": 274,
    "start_time": "2024-06-25T14:48:53.699Z"
   },
   {
    "duration": 21,
    "start_time": "2024-06-25T14:49:03.680Z"
   },
   {
    "duration": 23,
    "start_time": "2024-06-25T14:49:26.785Z"
   },
   {
    "duration": 14,
    "start_time": "2024-06-25T15:03:44.529Z"
   },
   {
    "duration": 5,
    "start_time": "2024-06-25T15:03:49.166Z"
   },
   {
    "duration": 25,
    "start_time": "2024-06-25T15:03:49.173Z"
   },
   {
    "duration": 77,
    "start_time": "2024-06-25T15:03:49.200Z"
   },
   {
    "duration": 14,
    "start_time": "2024-06-25T15:03:49.278Z"
   },
   {
    "duration": 39,
    "start_time": "2024-06-25T15:03:49.295Z"
   },
   {
    "duration": 34,
    "start_time": "2024-06-25T15:03:49.336Z"
   },
   {
    "duration": 31,
    "start_time": "2024-06-25T15:03:49.372Z"
   },
   {
    "duration": 19,
    "start_time": "2024-06-25T15:03:49.405Z"
   },
   {
    "duration": 50,
    "start_time": "2024-06-25T15:03:49.426Z"
   },
   {
    "duration": 10,
    "start_time": "2024-06-25T15:03:49.478Z"
   },
   {
    "duration": 16,
    "start_time": "2024-06-25T15:03:49.490Z"
   },
   {
    "duration": 11,
    "start_time": "2024-06-25T15:03:49.508Z"
   },
   {
    "duration": 33,
    "start_time": "2024-06-25T15:03:49.520Z"
   },
   {
    "duration": 42,
    "start_time": "2024-06-25T15:03:49.556Z"
   },
   {
    "duration": 25,
    "start_time": "2024-06-25T15:03:49.599Z"
   },
   {
    "duration": 24,
    "start_time": "2024-06-25T15:03:49.625Z"
   },
   {
    "duration": 18,
    "start_time": "2024-06-25T15:17:39.554Z"
   },
   {
    "duration": 17,
    "start_time": "2024-06-25T15:20:13.802Z"
   },
   {
    "duration": 9,
    "start_time": "2024-06-25T15:22:13.668Z"
   },
   {
    "duration": 18,
    "start_time": "2024-06-25T15:24:39.295Z"
   },
   {
    "duration": 20,
    "start_time": "2024-06-25T15:24:54.205Z"
   },
   {
    "duration": 8,
    "start_time": "2024-06-25T15:25:34.047Z"
   },
   {
    "duration": 4,
    "start_time": "2024-06-25T15:28:13.293Z"
   },
   {
    "duration": 4,
    "start_time": "2024-06-25T15:28:47.778Z"
   },
   {
    "duration": 15,
    "start_time": "2024-06-25T15:29:21.226Z"
   },
   {
    "duration": 10,
    "start_time": "2024-06-25T15:30:53.011Z"
   },
   {
    "duration": 14,
    "start_time": "2024-06-25T15:36:55.244Z"
   },
   {
    "duration": 6,
    "start_time": "2024-06-25T15:37:53.578Z"
   },
   {
    "duration": 6,
    "start_time": "2024-06-25T15:37:56.085Z"
   },
   {
    "duration": 17,
    "start_time": "2024-06-25T15:38:00.299Z"
   },
   {
    "duration": 15,
    "start_time": "2024-06-25T15:39:28.602Z"
   },
   {
    "duration": 22,
    "start_time": "2024-06-26T10:39:50.912Z"
   },
   {
    "duration": 17,
    "start_time": "2024-06-26T10:43:35.459Z"
   },
   {
    "duration": 256,
    "start_time": "2024-06-26T10:54:28.611Z"
   },
   {
    "duration": 290,
    "start_time": "2024-06-26T10:54:50.338Z"
   },
   {
    "duration": 4,
    "start_time": "2024-06-26T10:54:56.948Z"
   },
   {
    "duration": 6,
    "start_time": "2024-06-26T10:54:56.955Z"
   },
   {
    "duration": 91,
    "start_time": "2024-06-26T10:54:56.963Z"
   },
   {
    "duration": 18,
    "start_time": "2024-06-26T10:54:57.056Z"
   },
   {
    "duration": 35,
    "start_time": "2024-06-26T10:54:57.077Z"
   },
   {
    "duration": 40,
    "start_time": "2024-06-26T10:54:57.114Z"
   },
   {
    "duration": 31,
    "start_time": "2024-06-26T10:54:57.160Z"
   },
   {
    "duration": 32,
    "start_time": "2024-06-26T10:54:57.193Z"
   },
   {
    "duration": 37,
    "start_time": "2024-06-26T10:54:57.226Z"
   },
   {
    "duration": 6,
    "start_time": "2024-06-26T10:54:57.265Z"
   },
   {
    "duration": 7,
    "start_time": "2024-06-26T10:54:57.273Z"
   },
   {
    "duration": 13,
    "start_time": "2024-06-26T10:54:57.281Z"
   },
   {
    "duration": 14,
    "start_time": "2024-06-26T10:54:57.295Z"
   },
   {
    "duration": 17,
    "start_time": "2024-06-26T10:54:57.311Z"
   },
   {
    "duration": 309,
    "start_time": "2024-06-26T10:54:57.330Z"
   },
   {
    "duration": 29,
    "start_time": "2024-06-26T10:54:57.641Z"
   },
   {
    "duration": 28,
    "start_time": "2024-06-26T10:54:57.673Z"
   },
   {
    "duration": 21,
    "start_time": "2024-06-26T10:54:57.703Z"
   },
   {
    "duration": 44,
    "start_time": "2024-06-26T10:54:57.726Z"
   },
   {
    "duration": 8,
    "start_time": "2024-06-26T10:54:57.771Z"
   },
   {
    "duration": 18,
    "start_time": "2024-06-26T10:54:57.781Z"
   },
   {
    "duration": 10,
    "start_time": "2024-06-26T10:54:57.800Z"
   },
   {
    "duration": 2,
    "start_time": "2024-06-26T10:54:57.812Z"
   },
   {
    "duration": 45,
    "start_time": "2024-06-26T10:54:57.816Z"
   },
   {
    "duration": 10,
    "start_time": "2024-06-26T10:54:57.862Z"
   },
   {
    "duration": 27,
    "start_time": "2024-06-26T10:54:57.874Z"
   },
   {
    "duration": 15,
    "start_time": "2024-06-26T10:54:57.903Z"
   },
   {
    "duration": 20,
    "start_time": "2024-06-26T10:54:57.920Z"
   },
   {
    "duration": 230,
    "start_time": "2024-06-26T10:55:13.280Z"
   },
   {
    "duration": 206,
    "start_time": "2024-06-26T10:55:34.505Z"
   },
   {
    "duration": 415,
    "start_time": "2024-06-26T10:55:52.065Z"
   },
   {
    "duration": 8,
    "start_time": "2024-06-26T10:57:56.431Z"
   },
   {
    "duration": 9,
    "start_time": "2024-06-26T11:00:15.860Z"
   },
   {
    "duration": 82,
    "start_time": "2024-06-26T11:03:26.977Z"
   },
   {
    "duration": 69,
    "start_time": "2024-06-26T11:03:57.631Z"
   },
   {
    "duration": 10,
    "start_time": "2024-06-26T11:04:03.039Z"
   },
   {
    "duration": 5,
    "start_time": "2024-06-26T11:04:32.360Z"
   },
   {
    "duration": 67,
    "start_time": "2024-06-26T11:04:32.367Z"
   },
   {
    "duration": 73,
    "start_time": "2024-06-26T11:04:32.435Z"
   },
   {
    "duration": 14,
    "start_time": "2024-06-26T11:04:32.509Z"
   },
   {
    "duration": 17,
    "start_time": "2024-06-26T11:04:32.526Z"
   },
   {
    "duration": 59,
    "start_time": "2024-06-26T11:04:32.545Z"
   },
   {
    "duration": 29,
    "start_time": "2024-06-26T11:04:32.606Z"
   },
   {
    "duration": 26,
    "start_time": "2024-06-26T11:04:32.636Z"
   },
   {
    "duration": 26,
    "start_time": "2024-06-26T11:04:32.664Z"
   },
   {
    "duration": 5,
    "start_time": "2024-06-26T11:04:32.691Z"
   },
   {
    "duration": 9,
    "start_time": "2024-06-26T11:04:32.698Z"
   },
   {
    "duration": 28,
    "start_time": "2024-06-26T11:04:32.708Z"
   },
   {
    "duration": 8,
    "start_time": "2024-06-26T11:04:32.737Z"
   },
   {
    "duration": 18,
    "start_time": "2024-06-26T11:04:32.760Z"
   },
   {
    "duration": 278,
    "start_time": "2024-06-26T11:04:32.779Z"
   },
   {
    "duration": 10,
    "start_time": "2024-06-26T11:04:33.058Z"
   },
   {
    "duration": 10,
    "start_time": "2024-06-26T11:04:33.070Z"
   },
   {
    "duration": 23,
    "start_time": "2024-06-26T11:04:33.082Z"
   },
   {
    "duration": 18,
    "start_time": "2024-06-26T11:04:33.107Z"
   },
   {
    "duration": 41,
    "start_time": "2024-06-26T11:04:33.126Z"
   },
   {
    "duration": 7,
    "start_time": "2024-06-26T11:04:33.168Z"
   },
   {
    "duration": 19,
    "start_time": "2024-06-26T11:04:33.176Z"
   },
   {
    "duration": 30,
    "start_time": "2024-06-26T11:04:33.196Z"
   },
   {
    "duration": 6,
    "start_time": "2024-06-26T11:04:33.228Z"
   },
   {
    "duration": 17,
    "start_time": "2024-06-26T11:04:33.236Z"
   },
   {
    "duration": 13,
    "start_time": "2024-06-26T11:04:33.254Z"
   },
   {
    "duration": 5,
    "start_time": "2024-06-26T11:04:33.269Z"
   },
   {
    "duration": 12,
    "start_time": "2024-06-26T11:04:33.276Z"
   },
   {
    "duration": 24,
    "start_time": "2024-06-26T11:04:33.289Z"
   },
   {
    "duration": 4,
    "start_time": "2024-06-26T11:06:31.065Z"
   },
   {
    "duration": 65,
    "start_time": "2024-06-26T11:06:31.071Z"
   },
   {
    "duration": 174,
    "start_time": "2024-06-26T11:06:31.137Z"
   },
   {
    "duration": 105,
    "start_time": "2024-06-26T11:06:31.312Z"
   },
   {
    "duration": 43,
    "start_time": "2024-06-26T11:06:31.419Z"
   },
   {
    "duration": 80,
    "start_time": "2024-06-26T11:06:31.463Z"
   },
   {
    "duration": 29,
    "start_time": "2024-06-26T11:06:31.545Z"
   },
   {
    "duration": 53,
    "start_time": "2024-06-26T11:06:31.575Z"
   },
   {
    "duration": 33,
    "start_time": "2024-06-26T11:06:31.630Z"
   },
   {
    "duration": 27,
    "start_time": "2024-06-26T11:06:31.664Z"
   },
   {
    "duration": 38,
    "start_time": "2024-06-26T11:06:31.693Z"
   },
   {
    "duration": 24,
    "start_time": "2024-06-26T11:06:31.733Z"
   },
   {
    "duration": 45,
    "start_time": "2024-06-26T11:06:31.758Z"
   },
   {
    "duration": 32,
    "start_time": "2024-06-26T11:06:31.806Z"
   },
   {
    "duration": 280,
    "start_time": "2024-06-26T11:06:31.840Z"
   },
   {
    "duration": 10,
    "start_time": "2024-06-26T11:06:32.121Z"
   },
   {
    "duration": 33,
    "start_time": "2024-06-26T11:06:32.133Z"
   },
   {
    "duration": 26,
    "start_time": "2024-06-26T11:06:32.167Z"
   },
   {
    "duration": 17,
    "start_time": "2024-06-26T11:06:32.195Z"
   },
   {
    "duration": 17,
    "start_time": "2024-06-26T11:06:32.215Z"
   },
   {
    "duration": 27,
    "start_time": "2024-06-26T11:06:32.234Z"
   },
   {
    "duration": 86,
    "start_time": "2024-06-26T11:06:32.263Z"
   },
   {
    "duration": 15,
    "start_time": "2024-06-26T11:06:32.351Z"
   },
   {
    "duration": 4,
    "start_time": "2024-06-26T11:06:32.367Z"
   },
   {
    "duration": 16,
    "start_time": "2024-06-26T11:06:32.372Z"
   },
   {
    "duration": 21,
    "start_time": "2024-06-26T11:06:32.390Z"
   },
   {
    "duration": 16,
    "start_time": "2024-06-26T11:06:32.413Z"
   },
   {
    "duration": 11,
    "start_time": "2024-06-26T11:06:32.431Z"
   },
   {
    "duration": 30,
    "start_time": "2024-06-26T11:06:32.444Z"
   },
   {
    "duration": 4,
    "start_time": "2024-06-26T11:07:20.166Z"
   },
   {
    "duration": 26,
    "start_time": "2024-06-26T11:07:20.172Z"
   },
   {
    "duration": 78,
    "start_time": "2024-06-26T11:07:20.201Z"
   },
   {
    "duration": 14,
    "start_time": "2024-06-26T11:07:20.281Z"
   },
   {
    "duration": 44,
    "start_time": "2024-06-26T11:07:20.297Z"
   },
   {
    "duration": 52,
    "start_time": "2024-06-26T11:07:20.342Z"
   },
   {
    "duration": 26,
    "start_time": "2024-06-26T11:07:20.396Z"
   },
   {
    "duration": 17,
    "start_time": "2024-06-26T11:07:20.424Z"
   },
   {
    "duration": 49,
    "start_time": "2024-06-26T11:07:20.442Z"
   },
   {
    "duration": 5,
    "start_time": "2024-06-26T11:07:20.492Z"
   },
   {
    "duration": 12,
    "start_time": "2024-06-26T11:07:20.498Z"
   },
   {
    "duration": 4,
    "start_time": "2024-06-26T11:07:20.512Z"
   },
   {
    "duration": 11,
    "start_time": "2024-06-26T11:07:20.518Z"
   },
   {
    "duration": 36,
    "start_time": "2024-06-26T11:07:20.531Z"
   },
   {
    "duration": 20,
    "start_time": "2024-06-26T11:07:20.569Z"
   },
   {
    "duration": 21,
    "start_time": "2024-06-26T11:07:20.591Z"
   },
   {
    "duration": 59,
    "start_time": "2024-06-26T11:07:20.614Z"
   },
   {
    "duration": 8,
    "start_time": "2024-06-26T11:07:20.675Z"
   },
   {
    "duration": 23,
    "start_time": "2024-06-26T11:07:20.685Z"
   },
   {
    "duration": 24,
    "start_time": "2024-06-26T11:07:20.710Z"
   },
   {
    "duration": 8,
    "start_time": "2024-06-26T11:07:20.736Z"
   },
   {
    "duration": 27,
    "start_time": "2024-06-26T11:07:20.745Z"
   },
   {
    "duration": 56,
    "start_time": "2024-06-26T11:07:20.773Z"
   },
   {
    "duration": 23,
    "start_time": "2024-06-26T11:07:20.830Z"
   },
   {
    "duration": 23,
    "start_time": "2024-06-26T11:07:20.855Z"
   },
   {
    "duration": 16,
    "start_time": "2024-06-26T11:07:20.880Z"
   },
   {
    "duration": 93,
    "start_time": "2024-06-26T11:11:45.879Z"
   },
   {
    "duration": 20,
    "start_time": "2024-06-26T11:15:12.592Z"
   },
   {
    "duration": 28,
    "start_time": "2024-06-26T11:16:12.073Z"
   },
   {
    "duration": 15,
    "start_time": "2024-06-26T11:28:21.206Z"
   },
   {
    "duration": 27,
    "start_time": "2024-06-26T11:31:30.385Z"
   },
   {
    "duration": 12,
    "start_time": "2024-06-26T11:51:48.388Z"
   },
   {
    "duration": 26,
    "start_time": "2024-06-26T11:54:19.422Z"
   },
   {
    "duration": 12,
    "start_time": "2024-06-26T11:55:37.784Z"
   },
   {
    "duration": 0,
    "start_time": "2024-06-26T11:55:37.800Z"
   },
   {
    "duration": 0,
    "start_time": "2024-06-26T11:55:37.803Z"
   },
   {
    "duration": 0,
    "start_time": "2024-06-26T11:55:37.804Z"
   },
   {
    "duration": 0,
    "start_time": "2024-06-26T11:55:37.806Z"
   },
   {
    "duration": 0,
    "start_time": "2024-06-26T11:55:37.807Z"
   },
   {
    "duration": 0,
    "start_time": "2024-06-26T11:55:37.809Z"
   },
   {
    "duration": 0,
    "start_time": "2024-06-26T11:55:37.810Z"
   },
   {
    "duration": 0,
    "start_time": "2024-06-26T11:55:37.811Z"
   },
   {
    "duration": 0,
    "start_time": "2024-06-26T11:55:37.812Z"
   },
   {
    "duration": 0,
    "start_time": "2024-06-26T11:55:37.813Z"
   },
   {
    "duration": 0,
    "start_time": "2024-06-26T11:55:37.815Z"
   },
   {
    "duration": 0,
    "start_time": "2024-06-26T11:55:37.816Z"
   },
   {
    "duration": 1,
    "start_time": "2024-06-26T11:55:37.817Z"
   },
   {
    "duration": 0,
    "start_time": "2024-06-26T11:55:37.819Z"
   },
   {
    "duration": 0,
    "start_time": "2024-06-26T11:55:37.820Z"
   },
   {
    "duration": 0,
    "start_time": "2024-06-26T11:55:37.821Z"
   },
   {
    "duration": 0,
    "start_time": "2024-06-26T11:55:37.823Z"
   },
   {
    "duration": 0,
    "start_time": "2024-06-26T11:55:37.824Z"
   },
   {
    "duration": 0,
    "start_time": "2024-06-26T11:55:37.825Z"
   },
   {
    "duration": 0,
    "start_time": "2024-06-26T11:55:37.860Z"
   },
   {
    "duration": 0,
    "start_time": "2024-06-26T11:55:37.862Z"
   },
   {
    "duration": 0,
    "start_time": "2024-06-26T11:55:37.863Z"
   },
   {
    "duration": 0,
    "start_time": "2024-06-26T11:55:37.864Z"
   },
   {
    "duration": 0,
    "start_time": "2024-06-26T11:55:37.865Z"
   },
   {
    "duration": 0,
    "start_time": "2024-06-26T11:55:37.866Z"
   },
   {
    "duration": 0,
    "start_time": "2024-06-26T11:55:37.867Z"
   },
   {
    "duration": 0,
    "start_time": "2024-06-26T11:55:37.868Z"
   },
   {
    "duration": 0,
    "start_time": "2024-06-26T11:55:37.870Z"
   },
   {
    "duration": 0,
    "start_time": "2024-06-26T11:55:37.871Z"
   },
   {
    "duration": 8,
    "start_time": "2024-06-26T11:59:50.597Z"
   },
   {
    "duration": 5,
    "start_time": "2024-06-26T12:00:04.707Z"
   },
   {
    "duration": 19,
    "start_time": "2024-06-26T12:00:04.714Z"
   },
   {
    "duration": 88,
    "start_time": "2024-06-26T12:00:04.735Z"
   },
   {
    "duration": 15,
    "start_time": "2024-06-26T12:00:04.826Z"
   },
   {
    "duration": 57,
    "start_time": "2024-06-26T12:00:04.843Z"
   },
   {
    "duration": 87,
    "start_time": "2024-06-26T12:00:04.901Z"
   },
   {
    "duration": 109,
    "start_time": "2024-06-26T12:00:04.991Z"
   },
   {
    "duration": 20,
    "start_time": "2024-06-26T12:00:05.102Z"
   },
   {
    "duration": 35,
    "start_time": "2024-06-26T12:00:05.124Z"
   },
   {
    "duration": 5,
    "start_time": "2024-06-26T12:00:05.161Z"
   },
   {
    "duration": 15,
    "start_time": "2024-06-26T12:00:05.168Z"
   },
   {
    "duration": 16,
    "start_time": "2024-06-26T12:00:05.185Z"
   },
   {
    "duration": 12,
    "start_time": "2024-06-26T12:00:05.203Z"
   },
   {
    "duration": 12,
    "start_time": "2024-06-26T12:00:05.218Z"
   },
   {
    "duration": 42,
    "start_time": "2024-06-26T12:00:05.232Z"
   },
   {
    "duration": 23,
    "start_time": "2024-06-26T12:00:05.276Z"
   },
   {
    "duration": 62,
    "start_time": "2024-06-26T12:00:05.301Z"
   },
   {
    "duration": 10,
    "start_time": "2024-06-26T12:00:05.366Z"
   },
   {
    "duration": 32,
    "start_time": "2024-06-26T12:00:05.378Z"
   },
   {
    "duration": 10,
    "start_time": "2024-06-26T12:00:05.412Z"
   },
   {
    "duration": 17,
    "start_time": "2024-06-26T12:00:05.423Z"
   },
   {
    "duration": 55,
    "start_time": "2024-06-26T12:00:05.441Z"
   },
   {
    "duration": 33,
    "start_time": "2024-06-26T12:00:05.498Z"
   },
   {
    "duration": 27,
    "start_time": "2024-06-26T12:00:05.533Z"
   },
   {
    "duration": 18,
    "start_time": "2024-06-26T12:00:05.562Z"
   },
   {
    "duration": 18,
    "start_time": "2024-06-26T12:00:05.583Z"
   },
   {
    "duration": 35,
    "start_time": "2024-06-26T12:00:05.603Z"
   },
   {
    "duration": 46,
    "start_time": "2024-06-26T12:00:05.662Z"
   },
   {
    "duration": 16,
    "start_time": "2024-06-26T12:00:05.710Z"
   },
   {
    "duration": 266,
    "start_time": "2024-06-26T12:00:05.730Z"
   },
   {
    "duration": 201,
    "start_time": "2024-06-26T12:00:44.604Z"
   },
   {
    "duration": 295,
    "start_time": "2024-06-26T12:02:36.211Z"
   },
   {
    "duration": 161,
    "start_time": "2024-06-26T12:04:43.227Z"
   },
   {
    "duration": 185,
    "start_time": "2024-06-26T12:04:56.579Z"
   },
   {
    "duration": 180,
    "start_time": "2024-06-26T12:07:27.330Z"
   },
   {
    "duration": 195,
    "start_time": "2024-06-26T12:09:44.558Z"
   },
   {
    "duration": 183,
    "start_time": "2024-06-26T12:09:53.078Z"
   },
   {
    "duration": 189,
    "start_time": "2024-06-26T12:10:07.479Z"
   },
   {
    "duration": 355,
    "start_time": "2024-06-26T12:14:07.546Z"
   },
   {
    "duration": 55,
    "start_time": "2024-06-26T12:15:03.141Z"
   },
   {
    "duration": 51,
    "start_time": "2024-06-26T12:15:13.133Z"
   },
   {
    "duration": 181,
    "start_time": "2024-06-26T12:15:41.191Z"
   },
   {
    "duration": 178,
    "start_time": "2024-06-26T12:15:56.792Z"
   },
   {
    "duration": 19,
    "start_time": "2024-06-26T12:21:37.184Z"
   },
   {
    "duration": 20,
    "start_time": "2024-06-26T12:22:19.505Z"
   },
   {
    "duration": 18,
    "start_time": "2024-06-26T12:22:28.780Z"
   },
   {
    "duration": 24,
    "start_time": "2024-06-26T12:23:09.163Z"
   },
   {
    "duration": 188,
    "start_time": "2024-06-26T12:23:40.960Z"
   },
   {
    "duration": 16,
    "start_time": "2024-06-26T15:25:27.370Z"
   },
   {
    "duration": 54,
    "start_time": "2024-06-26T15:26:30.868Z"
   },
   {
    "duration": 11,
    "start_time": "2024-06-26T15:27:42.631Z"
   },
   {
    "duration": 13,
    "start_time": "2024-06-26T15:28:00.774Z"
   },
   {
    "duration": 53,
    "start_time": "2024-06-26T15:28:04.689Z"
   },
   {
    "duration": 51,
    "start_time": "2024-06-26T15:28:58.260Z"
   },
   {
    "duration": 13,
    "start_time": "2024-06-26T15:30:06.788Z"
   },
   {
    "duration": 11,
    "start_time": "2024-06-26T15:30:29.147Z"
   },
   {
    "duration": 11,
    "start_time": "2024-06-26T15:30:43.523Z"
   },
   {
    "duration": 51,
    "start_time": "2024-06-26T15:30:48.972Z"
   },
   {
    "duration": 13,
    "start_time": "2024-06-26T15:39:41.100Z"
   },
   {
    "duration": 22,
    "start_time": "2024-06-26T15:40:55.687Z"
   },
   {
    "duration": 12,
    "start_time": "2024-06-26T15:41:21.258Z"
   },
   {
    "duration": 12,
    "start_time": "2024-06-26T15:42:56.797Z"
   },
   {
    "duration": 55,
    "start_time": "2024-06-26T16:03:29.969Z"
   },
   {
    "duration": 14,
    "start_time": "2024-06-26T16:04:18.246Z"
   },
   {
    "duration": 50,
    "start_time": "2024-06-26T16:04:22.847Z"
   },
   {
    "duration": 16,
    "start_time": "2024-06-26T16:11:10.261Z"
   },
   {
    "duration": 5,
    "start_time": "2024-06-26T16:11:34.109Z"
   },
   {
    "duration": 98,
    "start_time": "2024-06-26T16:11:34.117Z"
   },
   {
    "duration": 119,
    "start_time": "2024-06-26T16:11:34.217Z"
   },
   {
    "duration": 36,
    "start_time": "2024-06-26T16:11:34.339Z"
   },
   {
    "duration": 50,
    "start_time": "2024-06-26T16:11:34.377Z"
   },
   {
    "duration": 41,
    "start_time": "2024-06-26T16:11:34.429Z"
   },
   {
    "duration": 50,
    "start_time": "2024-06-26T16:11:34.472Z"
   },
   {
    "duration": 23,
    "start_time": "2024-06-26T16:11:34.524Z"
   },
   {
    "duration": 46,
    "start_time": "2024-06-26T16:11:34.548Z"
   },
   {
    "duration": 9,
    "start_time": "2024-06-26T16:11:34.597Z"
   },
   {
    "duration": 8,
    "start_time": "2024-06-26T16:11:34.607Z"
   },
   {
    "duration": 5,
    "start_time": "2024-06-26T16:11:34.617Z"
   },
   {
    "duration": 22,
    "start_time": "2024-06-26T16:11:34.624Z"
   },
   {
    "duration": 40,
    "start_time": "2024-06-26T16:11:34.648Z"
   },
   {
    "duration": 31,
    "start_time": "2024-06-26T16:11:34.691Z"
   },
   {
    "duration": 21,
    "start_time": "2024-06-26T16:11:34.724Z"
   },
   {
    "duration": 28,
    "start_time": "2024-06-26T16:11:34.747Z"
   },
   {
    "duration": 21,
    "start_time": "2024-06-26T16:11:34.776Z"
   },
   {
    "duration": 39,
    "start_time": "2024-06-26T16:11:34.798Z"
   },
   {
    "duration": 63,
    "start_time": "2024-06-26T16:11:34.839Z"
   },
   {
    "duration": 26,
    "start_time": "2024-06-26T16:11:34.903Z"
   },
   {
    "duration": 25,
    "start_time": "2024-06-26T16:11:34.931Z"
   },
   {
    "duration": 22,
    "start_time": "2024-06-26T16:11:34.958Z"
   },
   {
    "duration": 23,
    "start_time": "2024-06-26T16:11:34.982Z"
   },
   {
    "duration": 13,
    "start_time": "2024-06-26T16:11:35.007Z"
   },
   {
    "duration": 68,
    "start_time": "2024-06-26T16:11:35.022Z"
   },
   {
    "duration": 71,
    "start_time": "2024-06-26T16:11:35.092Z"
   },
   {
    "duration": 44,
    "start_time": "2024-06-26T16:11:35.167Z"
   },
   {
    "duration": 18,
    "start_time": "2024-06-26T16:11:35.213Z"
   },
   {
    "duration": 67,
    "start_time": "2024-06-26T16:11:35.233Z"
   },
   {
    "duration": 70,
    "start_time": "2024-06-26T16:11:35.302Z"
   },
   {
    "duration": 27,
    "start_time": "2024-06-26T16:11:35.373Z"
   },
   {
    "duration": 17,
    "start_time": "2024-06-26T16:11:52.349Z"
   },
   {
    "duration": 16,
    "start_time": "2024-06-26T16:12:51.939Z"
   },
   {
    "duration": 50,
    "start_time": "2024-06-26T16:13:21.511Z"
   },
   {
    "duration": 52,
    "start_time": "2024-06-26T16:15:04.491Z"
   },
   {
    "duration": 50,
    "start_time": "2024-06-26T16:17:17.683Z"
   },
   {
    "duration": 59,
    "start_time": "2024-06-26T16:18:21.588Z"
   },
   {
    "duration": 9,
    "start_time": "2024-06-26T17:17:13.479Z"
   },
   {
    "duration": 11,
    "start_time": "2024-06-26T17:18:07.938Z"
   },
   {
    "duration": 11,
    "start_time": "2024-06-26T17:19:02.902Z"
   },
   {
    "duration": 20,
    "start_time": "2024-06-26T17:21:47.038Z"
   },
   {
    "duration": 11,
    "start_time": "2024-06-26T17:22:02.108Z"
   },
   {
    "duration": 12,
    "start_time": "2024-06-26T17:23:59.229Z"
   },
   {
    "duration": 9,
    "start_time": "2024-06-26T17:24:09.613Z"
   },
   {
    "duration": 11,
    "start_time": "2024-06-26T17:25:15.204Z"
   },
   {
    "duration": 10,
    "start_time": "2024-06-26T17:44:27.756Z"
   },
   {
    "duration": 14,
    "start_time": "2024-06-26T17:47:51.046Z"
   },
   {
    "duration": 11,
    "start_time": "2024-06-26T17:48:02.744Z"
   },
   {
    "duration": 14,
    "start_time": "2024-06-26T17:48:17.024Z"
   },
   {
    "duration": 12,
    "start_time": "2024-06-26T17:48:24.430Z"
   },
   {
    "duration": 26,
    "start_time": "2024-06-27T08:24:57.778Z"
   },
   {
    "duration": 246,
    "start_time": "2024-06-27T08:35:32.898Z"
   },
   {
    "duration": 22,
    "start_time": "2024-06-27T08:48:49.378Z"
   },
   {
    "duration": 19,
    "start_time": "2024-06-27T08:51:41.214Z"
   },
   {
    "duration": 19,
    "start_time": "2024-06-27T08:52:45.248Z"
   },
   {
    "duration": 5,
    "start_time": "2024-06-27T09:02:37.439Z"
   },
   {
    "duration": 44,
    "start_time": "2024-06-27T09:02:39.369Z"
   },
   {
    "duration": 6,
    "start_time": "2024-06-27T09:04:58.196Z"
   },
   {
    "duration": 41,
    "start_time": "2024-06-27T09:05:00.175Z"
   },
   {
    "duration": 6,
    "start_time": "2024-06-27T09:05:07.561Z"
   },
   {
    "duration": 32,
    "start_time": "2024-06-27T09:05:09.204Z"
   },
   {
    "duration": 34,
    "start_time": "2024-06-27T09:06:04.067Z"
   },
   {
    "duration": 6,
    "start_time": "2024-06-27T09:50:32.793Z"
   },
   {
    "duration": 6,
    "start_time": "2024-06-27T09:50:44.411Z"
   },
   {
    "duration": 58,
    "start_time": "2024-06-27T09:50:57.075Z"
   },
   {
    "duration": 28,
    "start_time": "2024-06-27T10:16:34.393Z"
   },
   {
    "duration": 24,
    "start_time": "2024-06-27T10:16:45.477Z"
   },
   {
    "duration": 28,
    "start_time": "2024-06-27T10:17:49.555Z"
   },
   {
    "duration": 30,
    "start_time": "2024-06-27T10:18:33.756Z"
   },
   {
    "duration": 16,
    "start_time": "2024-06-27T10:19:43.493Z"
   },
   {
    "duration": 16,
    "start_time": "2024-06-27T10:20:22.064Z"
   },
   {
    "duration": 17,
    "start_time": "2024-06-27T10:20:32.695Z"
   },
   {
    "duration": 12,
    "start_time": "2024-06-27T10:24:27.147Z"
   },
   {
    "duration": 17,
    "start_time": "2024-06-27T10:26:13.873Z"
   },
   {
    "duration": 517,
    "start_time": "2024-06-27T11:05:09.068Z"
   },
   {
    "duration": 5,
    "start_time": "2024-06-27T11:07:37.364Z"
   },
   {
    "duration": 54,
    "start_time": "2024-06-27T11:07:55.228Z"
   },
   {
    "duration": 24,
    "start_time": "2024-06-27T11:08:43.102Z"
   },
   {
    "duration": 91,
    "start_time": "2024-06-27T11:09:27.380Z"
   },
   {
    "duration": 212,
    "start_time": "2024-06-27T11:09:50.485Z"
   },
   {
    "duration": 18,
    "start_time": "2024-06-27T11:19:32.389Z"
   },
   {
    "duration": 55,
    "start_time": "2024-06-27T11:21:05.439Z"
   },
   {
    "duration": 52,
    "start_time": "2024-06-27T11:21:11.407Z"
   },
   {
    "duration": 884,
    "start_time": "2024-06-27T11:26:12.662Z"
   },
   {
    "duration": 791,
    "start_time": "2024-06-27T11:26:19.260Z"
   },
   {
    "duration": 505,
    "start_time": "2024-06-27T11:26:24.645Z"
   },
   {
    "duration": 537,
    "start_time": "2024-06-27T11:39:32.375Z"
   },
   {
    "duration": 39,
    "start_time": "2024-06-27T11:41:19.531Z"
   },
   {
    "duration": 632,
    "start_time": "2024-06-27T11:41:32.899Z"
   },
   {
    "duration": 65,
    "start_time": "2024-06-27T11:42:51.849Z"
   },
   {
    "duration": 38,
    "start_time": "2024-06-27T11:43:15.452Z"
   },
   {
    "duration": 11,
    "start_time": "2024-06-27T11:44:58.493Z"
   },
   {
    "duration": 507,
    "start_time": "2024-06-27T11:45:50.594Z"
   },
   {
    "duration": 557,
    "start_time": "2024-06-27T11:46:45.817Z"
   },
   {
    "duration": 490,
    "start_time": "2024-06-27T11:50:23.364Z"
   },
   {
    "duration": 511,
    "start_time": "2024-06-27T11:50:30.965Z"
   },
   {
    "duration": 647,
    "start_time": "2024-06-27T11:50:39.257Z"
   },
   {
    "duration": 14,
    "start_time": "2024-07-01T09:26:19.189Z"
   },
   {
    "duration": 803,
    "start_time": "2024-07-01T09:27:14.068Z"
   },
   {
    "duration": 23,
    "start_time": "2024-07-01T09:56:11.641Z"
   },
   {
    "duration": 822,
    "start_time": "2024-07-01T09:56:14.338Z"
   },
   {
    "duration": 846,
    "start_time": "2024-07-01T09:56:21.742Z"
   },
   {
    "duration": 22,
    "start_time": "2024-07-01T10:23:17.383Z"
   },
   {
    "duration": 898,
    "start_time": "2024-07-01T10:23:19.226Z"
   },
   {
    "duration": 160,
    "start_time": "2024-07-01T11:44:37.849Z"
   },
   {
    "duration": 218,
    "start_time": "2024-07-01T11:49:33.799Z"
   },
   {
    "duration": 130,
    "start_time": "2024-07-01T11:49:44.115Z"
   },
   {
    "duration": 120,
    "start_time": "2024-07-01T11:53:27.826Z"
   },
   {
    "duration": 123,
    "start_time": "2024-07-01T11:53:51.422Z"
   },
   {
    "duration": 11,
    "start_time": "2024-07-01T12:02:25.693Z"
   },
   {
    "duration": 43,
    "start_time": "2024-07-01T12:02:40.877Z"
   },
   {
    "duration": 105,
    "start_time": "2024-07-01T12:02:41.570Z"
   },
   {
    "duration": 10,
    "start_time": "2024-07-01T12:03:52.520Z"
   },
   {
    "duration": 122,
    "start_time": "2024-07-01T12:04:18.909Z"
   },
   {
    "duration": 234,
    "start_time": "2024-07-01T12:05:44.808Z"
   },
   {
    "duration": 139,
    "start_time": "2024-07-01T12:11:18.883Z"
   },
   {
    "duration": 21,
    "start_time": "2024-07-01T13:12:40.511Z"
   },
   {
    "duration": 4,
    "start_time": "2024-07-01T13:13:11.354Z"
   },
   {
    "duration": 40,
    "start_time": "2024-07-01T13:13:13.876Z"
   },
   {
    "duration": 3,
    "start_time": "2024-07-01T13:13:30.718Z"
   },
   {
    "duration": 14529,
    "start_time": "2024-07-01T13:13:31.593Z"
   },
   {
    "duration": 14829,
    "start_time": "2024-07-01T13:15:00.828Z"
   },
   {
    "duration": 41,
    "start_time": "2024-07-01T13:15:47.831Z"
   },
   {
    "duration": 14248,
    "start_time": "2024-07-01T13:16:02.690Z"
   },
   {
    "duration": 20,
    "start_time": "2024-07-01T13:26:27.671Z"
   },
   {
    "duration": 66,
    "start_time": "2024-07-01T13:27:09.829Z"
   },
   {
    "duration": 21,
    "start_time": "2024-07-01T15:19:51.686Z"
   },
   {
    "duration": 717,
    "start_time": "2024-07-01T15:22:59.326Z"
   },
   {
    "duration": 606,
    "start_time": "2024-07-01T15:23:51.834Z"
   },
   {
    "duration": 15,
    "start_time": "2024-07-01T15:32:01.819Z"
   },
   {
    "duration": 20,
    "start_time": "2024-07-01T15:32:54.666Z"
   },
   {
    "duration": 21,
    "start_time": "2024-07-01T15:32:59.870Z"
   },
   {
    "duration": 18,
    "start_time": "2024-07-01T15:34:08.605Z"
   },
   {
    "duration": 758,
    "start_time": "2024-07-01T15:35:16.888Z"
   },
   {
    "duration": 16,
    "start_time": "2024-07-01T15:47:01.770Z"
   },
   {
    "duration": 16,
    "start_time": "2024-07-01T15:48:37.677Z"
   },
   {
    "duration": 14,
    "start_time": "2024-07-01T15:48:49.408Z"
   },
   {
    "duration": 795,
    "start_time": "2024-07-01T15:48:49.916Z"
   },
   {
    "duration": 24,
    "start_time": "2024-07-01T15:49:27.860Z"
   },
   {
    "duration": 17,
    "start_time": "2024-07-01T15:49:37.417Z"
   },
   {
    "duration": 69,
    "start_time": "2024-07-01T15:51:59.075Z"
   },
   {
    "duration": 13,
    "start_time": "2024-07-01T15:52:18.737Z"
   },
   {
    "duration": 20,
    "start_time": "2024-07-01T15:52:31.830Z"
   },
   {
    "duration": 13,
    "start_time": "2024-07-01T15:53:11.733Z"
   },
   {
    "duration": 783,
    "start_time": "2024-07-01T15:53:14.837Z"
   },
   {
    "duration": 19,
    "start_time": "2024-07-01T15:58:03.134Z"
   },
   {
    "duration": 15,
    "start_time": "2024-07-01T16:00:16.020Z"
   },
   {
    "duration": 19,
    "start_time": "2024-07-01T16:01:01.952Z"
   },
   {
    "duration": 18,
    "start_time": "2024-07-01T16:01:05.570Z"
   },
   {
    "duration": 15,
    "start_time": "2024-07-01T16:01:26.564Z"
   },
   {
    "duration": 13,
    "start_time": "2024-07-01T16:05:06.653Z"
   },
   {
    "duration": 13646,
    "start_time": "2024-07-01T16:07:04.132Z"
   },
   {
    "duration": 15,
    "start_time": "2024-07-02T17:27:38.892Z"
   },
   {
    "duration": 13275,
    "start_time": "2024-07-02T17:27:59.619Z"
   },
   {
    "duration": 12,
    "start_time": "2024-07-02T17:38:05.018Z"
   },
   {
    "duration": 13077,
    "start_time": "2024-07-02T17:38:06.552Z"
   },
   {
    "duration": 21,
    "start_time": "2024-07-02T17:56:48.111Z"
   },
   {
    "duration": 631,
    "start_time": "2024-07-02T17:57:14.640Z"
   },
   {
    "duration": 27,
    "start_time": "2024-07-03T06:59:31.548Z"
   },
   {
    "duration": 11,
    "start_time": "2024-07-03T07:11:44.439Z"
   },
   {
    "duration": 7,
    "start_time": "2024-07-03T07:12:21.057Z"
   },
   {
    "duration": 7,
    "start_time": "2024-07-03T07:17:15.089Z"
   },
   {
    "duration": 5,
    "start_time": "2024-07-03T07:18:53.417Z"
   },
   {
    "duration": 5,
    "start_time": "2024-07-03T07:18:53.424Z"
   },
   {
    "duration": 68,
    "start_time": "2024-07-03T07:18:53.431Z"
   },
   {
    "duration": 13,
    "start_time": "2024-07-03T07:18:53.501Z"
   },
   {
    "duration": 14,
    "start_time": "2024-07-03T07:18:53.515Z"
   },
   {
    "duration": 55,
    "start_time": "2024-07-03T07:18:53.530Z"
   },
   {
    "duration": 26,
    "start_time": "2024-07-03T07:18:53.586Z"
   },
   {
    "duration": 52,
    "start_time": "2024-07-03T07:18:53.614Z"
   },
   {
    "duration": 25,
    "start_time": "2024-07-03T07:18:53.668Z"
   },
   {
    "duration": 4,
    "start_time": "2024-07-03T07:18:53.695Z"
   },
   {
    "duration": 12,
    "start_time": "2024-07-03T07:18:53.700Z"
   },
   {
    "duration": 12,
    "start_time": "2024-07-03T07:18:53.714Z"
   },
   {
    "duration": 34,
    "start_time": "2024-07-03T07:18:53.728Z"
   },
   {
    "duration": 11,
    "start_time": "2024-07-03T07:18:53.764Z"
   },
   {
    "duration": 18,
    "start_time": "2024-07-03T07:18:53.777Z"
   },
   {
    "duration": 21,
    "start_time": "2024-07-03T07:18:53.796Z"
   },
   {
    "duration": 44,
    "start_time": "2024-07-03T07:18:53.819Z"
   },
   {
    "duration": 6,
    "start_time": "2024-07-03T07:18:53.865Z"
   },
   {
    "duration": 16,
    "start_time": "2024-07-03T07:18:53.873Z"
   },
   {
    "duration": 9,
    "start_time": "2024-07-03T07:18:53.891Z"
   },
   {
    "duration": 2,
    "start_time": "2024-07-03T07:18:53.902Z"
   },
   {
    "duration": 16,
    "start_time": "2024-07-03T07:18:53.906Z"
   },
   {
    "duration": 44,
    "start_time": "2024-07-03T07:18:53.924Z"
   },
   {
    "duration": 6,
    "start_time": "2024-07-03T07:18:53.972Z"
   },
   {
    "duration": 33,
    "start_time": "2024-07-03T07:18:53.980Z"
   },
   {
    "duration": 15,
    "start_time": "2024-07-03T07:18:54.015Z"
   },
   {
    "duration": 126,
    "start_time": "2024-07-03T07:18:54.032Z"
   },
   {
    "duration": 35,
    "start_time": "2024-07-03T07:18:54.160Z"
   },
   {
    "duration": 24,
    "start_time": "2024-07-03T07:18:54.197Z"
   },
   {
    "duration": 21,
    "start_time": "2024-07-03T07:18:54.223Z"
   },
   {
    "duration": 61,
    "start_time": "2024-07-03T07:18:54.245Z"
   },
   {
    "duration": 9,
    "start_time": "2024-07-03T07:18:54.308Z"
   },
   {
    "duration": 16,
    "start_time": "2024-07-03T07:18:54.319Z"
   },
   {
    "duration": 65,
    "start_time": "2024-07-03T07:18:54.337Z"
   },
   {
    "duration": 11,
    "start_time": "2024-07-03T07:18:54.403Z"
   },
   {
    "duration": 11,
    "start_time": "2024-07-03T07:18:54.416Z"
   },
   {
    "duration": 44,
    "start_time": "2024-07-03T07:18:54.429Z"
   },
   {
    "duration": 232,
    "start_time": "2024-07-03T07:18:54.474Z"
   },
   {
    "duration": 17,
    "start_time": "2024-07-03T07:18:54.708Z"
   },
   {
    "duration": 41,
    "start_time": "2024-07-03T07:18:54.727Z"
   },
   {
    "duration": 13,
    "start_time": "2024-07-03T07:18:54.770Z"
   },
   {
    "duration": 47,
    "start_time": "2024-07-03T07:18:54.785Z"
   },
   {
    "duration": 500,
    "start_time": "2024-07-03T07:18:54.834Z"
   },
   {
    "duration": 31,
    "start_time": "2024-07-03T07:18:55.336Z"
   },
   {
    "duration": 773,
    "start_time": "2024-07-03T07:18:55.369Z"
   },
   {
    "duration": 18,
    "start_time": "2024-07-03T07:18:56.144Z"
   },
   {
    "duration": 40,
    "start_time": "2024-07-03T07:18:56.164Z"
   },
   {
    "duration": 112,
    "start_time": "2024-07-03T07:18:56.206Z"
   },
   {
    "duration": 3,
    "start_time": "2024-07-03T07:18:56.319Z"
   },
   {
    "duration": 29,
    "start_time": "2024-07-03T07:18:56.324Z"
   },
   {
    "duration": 13706,
    "start_time": "2024-07-03T07:18:56.355Z"
   },
   {
    "duration": 20,
    "start_time": "2024-07-03T07:19:10.063Z"
   },
   {
    "duration": 820,
    "start_time": "2024-07-03T07:19:10.084Z"
   },
   {
    "duration": 13,
    "start_time": "2024-07-03T07:19:10.906Z"
   },
   {
    "duration": 750,
    "start_time": "2024-07-03T07:19:10.920Z"
   },
   {
    "duration": 13,
    "start_time": "2024-07-03T07:19:11.672Z"
   },
   {
    "duration": 12502,
    "start_time": "2024-07-03T07:19:11.687Z"
   },
   {
    "duration": 8,
    "start_time": "2024-07-03T07:23:39.155Z"
   },
   {
    "duration": 9,
    "start_time": "2024-07-03T07:23:55.544Z"
   },
   {
    "duration": 7,
    "start_time": "2024-07-03T07:24:12.569Z"
   },
   {
    "duration": 7,
    "start_time": "2024-07-03T07:25:46.061Z"
   },
   {
    "duration": 7,
    "start_time": "2024-07-03T07:26:09.326Z"
   },
   {
    "duration": 6,
    "start_time": "2024-07-03T07:26:29.575Z"
   },
   {
    "duration": 6,
    "start_time": "2024-07-03T07:26:37.638Z"
   },
   {
    "duration": 6,
    "start_time": "2024-07-03T07:26:40.605Z"
   },
   {
    "duration": 13,
    "start_time": "2024-07-03T08:57:40.144Z"
   },
   {
    "duration": 11,
    "start_time": "2024-07-03T09:00:35.377Z"
   },
   {
    "duration": 22,
    "start_time": "2024-07-03T15:33:39.057Z"
   },
   {
    "duration": 22,
    "start_time": "2024-07-03T15:34:03.096Z"
   },
   {
    "duration": 13,
    "start_time": "2024-07-03T15:34:18.735Z"
   },
   {
    "duration": 27,
    "start_time": "2024-07-03T16:18:28.628Z"
   },
   {
    "duration": 6,
    "start_time": "2024-07-03T16:18:36.526Z"
   },
   {
    "duration": 6,
    "start_time": "2024-07-03T16:18:49.425Z"
   },
   {
    "duration": 13,
    "start_time": "2024-07-03T16:21:53.491Z"
   },
   {
    "duration": 7,
    "start_time": "2024-07-03T16:21:59.282Z"
   },
   {
    "duration": 13,
    "start_time": "2024-07-03T16:22:01.318Z"
   },
   {
    "duration": 28,
    "start_time": "2024-07-03T17:11:33.433Z"
   },
   {
    "duration": 9,
    "start_time": "2024-07-03T17:11:49.719Z"
   },
   {
    "duration": 15,
    "start_time": "2024-07-03T17:11:50.282Z"
   },
   {
    "duration": 22,
    "start_time": "2024-07-03T17:11:57.112Z"
   },
   {
    "duration": 2417,
    "start_time": "2024-07-03T17:12:05.163Z"
   },
   {
    "duration": 17,
    "start_time": "2024-07-03T17:16:31.443Z"
   },
   {
    "duration": 17,
    "start_time": "2024-07-03T17:22:42.994Z"
   },
   {
    "duration": 13,
    "start_time": "2024-07-03T17:23:03.259Z"
   },
   {
    "duration": 21,
    "start_time": "2024-07-03T17:23:23.253Z"
   },
   {
    "duration": 68,
    "start_time": "2024-07-03T18:08:10.804Z"
   },
   {
    "duration": 59,
    "start_time": "2024-07-03T18:14:37.607Z"
   },
   {
    "duration": 57,
    "start_time": "2024-07-03T18:14:43.244Z"
   },
   {
    "duration": 1215,
    "start_time": "2024-07-03T18:15:31.725Z"
   },
   {
    "duration": 48,
    "start_time": "2024-07-03T18:15:50.138Z"
   },
   {
    "duration": 61,
    "start_time": "2024-07-03T18:16:04.288Z"
   },
   {
    "duration": 45,
    "start_time": "2024-07-03T18:16:23.496Z"
   },
   {
    "duration": 48,
    "start_time": "2024-07-03T18:18:59.543Z"
   },
   {
    "duration": 61,
    "start_time": "2024-07-03T18:19:22.059Z"
   },
   {
    "duration": 65,
    "start_time": "2024-07-03T18:19:41.003Z"
   },
   {
    "duration": 59,
    "start_time": "2024-07-03T18:20:57.684Z"
   },
   {
    "duration": 49,
    "start_time": "2024-07-03T18:21:32.820Z"
   },
   {
    "duration": 49,
    "start_time": "2024-07-03T18:22:41.073Z"
   },
   {
    "duration": 25,
    "start_time": "2024-07-03T18:24:55.624Z"
   },
   {
    "duration": 32,
    "start_time": "2024-07-03T18:25:47.209Z"
   },
   {
    "duration": 29,
    "start_time": "2024-07-03T18:27:21.233Z"
   },
   {
    "duration": 129,
    "start_time": "2024-07-03T18:28:03.652Z"
   },
   {
    "duration": 23,
    "start_time": "2024-07-04T07:32:30.848Z"
   },
   {
    "duration": 15,
    "start_time": "2024-07-04T07:32:48.464Z"
   },
   {
    "duration": 12,
    "start_time": "2024-07-04T07:32:58.187Z"
   },
   {
    "duration": 2662,
    "start_time": "2024-07-04T07:33:24.457Z"
   },
   {
    "duration": 19,
    "start_time": "2024-07-04T07:33:58.231Z"
   },
   {
    "duration": 12,
    "start_time": "2024-07-04T07:37:46.753Z"
   },
   {
    "duration": 11,
    "start_time": "2024-07-04T07:38:05.997Z"
   },
   {
    "duration": 24,
    "start_time": "2024-07-04T07:38:22.263Z"
   },
   {
    "duration": 18,
    "start_time": "2024-07-04T07:38:34.777Z"
   },
   {
    "duration": 20,
    "start_time": "2024-07-04T07:39:07.690Z"
   },
   {
    "duration": 14,
    "start_time": "2024-07-04T07:39:57.987Z"
   },
   {
    "duration": 14,
    "start_time": "2024-07-04T07:40:05.793Z"
   },
   {
    "duration": 16,
    "start_time": "2024-07-04T07:40:20.443Z"
   },
   {
    "duration": 5,
    "start_time": "2024-07-04T07:41:08.679Z"
   },
   {
    "duration": 46,
    "start_time": "2024-07-04T07:41:08.686Z"
   },
   {
    "duration": 96,
    "start_time": "2024-07-04T07:41:08.734Z"
   },
   {
    "duration": 14,
    "start_time": "2024-07-04T07:41:08.832Z"
   },
   {
    "duration": 45,
    "start_time": "2024-07-04T07:41:08.848Z"
   },
   {
    "duration": 57,
    "start_time": "2024-07-04T07:41:08.895Z"
   },
   {
    "duration": 29,
    "start_time": "2024-07-04T07:41:08.954Z"
   },
   {
    "duration": 42,
    "start_time": "2024-07-04T07:41:08.985Z"
   },
   {
    "duration": 24,
    "start_time": "2024-07-04T07:41:09.030Z"
   },
   {
    "duration": 21,
    "start_time": "2024-07-04T07:41:09.056Z"
   },
   {
    "duration": 24,
    "start_time": "2024-07-04T07:41:09.079Z"
   },
   {
    "duration": 16,
    "start_time": "2024-07-04T07:41:09.104Z"
   },
   {
    "duration": 11,
    "start_time": "2024-07-04T07:41:09.121Z"
   },
   {
    "duration": 38,
    "start_time": "2024-07-04T07:41:09.133Z"
   },
   {
    "duration": 33,
    "start_time": "2024-07-04T07:41:09.173Z"
   },
   {
    "duration": 40,
    "start_time": "2024-07-04T07:41:09.208Z"
   },
   {
    "duration": 43,
    "start_time": "2024-07-04T07:41:09.249Z"
   },
   {
    "duration": 20,
    "start_time": "2024-07-04T07:41:09.294Z"
   },
   {
    "duration": 36,
    "start_time": "2024-07-04T07:41:09.316Z"
   },
   {
    "duration": 48,
    "start_time": "2024-07-04T07:41:09.354Z"
   },
   {
    "duration": 22,
    "start_time": "2024-07-04T07:41:09.404Z"
   },
   {
    "duration": 45,
    "start_time": "2024-07-04T07:41:09.427Z"
   },
   {
    "duration": 30,
    "start_time": "2024-07-04T07:41:09.474Z"
   },
   {
    "duration": 24,
    "start_time": "2024-07-04T07:41:09.509Z"
   },
   {
    "duration": 34,
    "start_time": "2024-07-04T07:41:09.535Z"
   },
   {
    "duration": 40,
    "start_time": "2024-07-04T07:41:09.571Z"
   },
   {
    "duration": 18,
    "start_time": "2024-07-04T07:41:09.612Z"
   },
   {
    "duration": 52,
    "start_time": "2024-07-04T07:41:09.631Z"
   },
   {
    "duration": 26,
    "start_time": "2024-07-04T07:41:09.685Z"
   },
   {
    "duration": 15,
    "start_time": "2024-07-04T07:41:09.713Z"
   },
   {
    "duration": 92,
    "start_time": "2024-07-04T07:41:09.730Z"
   },
   {
    "duration": 7,
    "start_time": "2024-07-04T07:41:09.825Z"
   },
   {
    "duration": 38,
    "start_time": "2024-07-04T07:41:09.833Z"
   },
   {
    "duration": 60,
    "start_time": "2024-07-04T07:41:09.873Z"
   },
   {
    "duration": 27,
    "start_time": "2024-07-04T07:41:09.935Z"
   },
   {
    "duration": 14,
    "start_time": "2024-07-04T07:41:09.964Z"
   },
   {
    "duration": 28,
    "start_time": "2024-07-04T07:41:09.980Z"
   },
   {
    "duration": 256,
    "start_time": "2024-07-04T07:41:10.010Z"
   },
   {
    "duration": 16,
    "start_time": "2024-07-04T07:41:10.268Z"
   },
   {
    "duration": 32,
    "start_time": "2024-07-04T07:41:10.286Z"
   },
   {
    "duration": 11,
    "start_time": "2024-07-04T07:41:10.319Z"
   },
   {
    "duration": 55,
    "start_time": "2024-07-04T07:41:10.332Z"
   },
   {
    "duration": 479,
    "start_time": "2024-07-04T07:41:10.388Z"
   },
   {
    "duration": 10,
    "start_time": "2024-07-04T07:41:10.869Z"
   },
   {
    "duration": 33,
    "start_time": "2024-07-04T07:41:10.881Z"
   },
   {
    "duration": 873,
    "start_time": "2024-07-04T07:41:10.916Z"
   },
   {
    "duration": 11,
    "start_time": "2024-07-04T07:41:11.791Z"
   },
   {
    "duration": 33,
    "start_time": "2024-07-04T07:41:11.803Z"
   },
   {
    "duration": 116,
    "start_time": "2024-07-04T07:41:11.838Z"
   },
   {
    "duration": 5,
    "start_time": "2024-07-04T07:41:11.956Z"
   },
   {
    "duration": 10,
    "start_time": "2024-07-04T07:41:11.963Z"
   },
   {
    "duration": 14342,
    "start_time": "2024-07-04T07:41:11.974Z"
   },
   {
    "duration": 44,
    "start_time": "2024-07-04T07:41:26.318Z"
   },
   {
    "duration": 925,
    "start_time": "2024-07-04T07:41:26.363Z"
   },
   {
    "duration": 14,
    "start_time": "2024-07-04T07:41:27.290Z"
   },
   {
    "duration": 750,
    "start_time": "2024-07-04T07:41:27.305Z"
   },
   {
    "duration": 12,
    "start_time": "2024-07-04T07:41:28.057Z"
   },
   {
    "duration": 14290,
    "start_time": "2024-07-04T07:41:28.070Z"
   },
   {
    "duration": 7,
    "start_time": "2024-07-04T07:41:42.362Z"
   },
   {
    "duration": 10,
    "start_time": "2024-07-04T07:41:42.370Z"
   },
   {
    "duration": 104,
    "start_time": "2024-07-04T07:41:42.382Z"
   },
   {
    "duration": 14,
    "start_time": "2024-07-04T07:41:42.487Z"
   },
   {
    "duration": 2385,
    "start_time": "2024-07-04T07:41:42.503Z"
   },
   {
    "duration": 15,
    "start_time": "2024-07-04T07:41:44.890Z"
   },
   {
    "duration": 55,
    "start_time": "2024-07-04T07:41:44.907Z"
   },
   {
    "duration": 1123,
    "start_time": "2024-07-04T07:41:44.964Z"
   },
   {
    "duration": 1056,
    "start_time": "2024-07-04T07:44:26.166Z"
   },
   {
    "duration": 16,
    "start_time": "2024-07-04T07:44:38.632Z"
   },
   {
    "duration": 13,
    "start_time": "2024-07-04T07:47:25.240Z"
   },
   {
    "duration": 6,
    "start_time": "2024-07-04T07:50:51.356Z"
   },
   {
    "duration": 41,
    "start_time": "2024-07-04T07:54:32.849Z"
   },
   {
    "duration": 16,
    "start_time": "2024-07-04T07:54:59.444Z"
   },
   {
    "duration": 17,
    "start_time": "2024-07-04T07:55:27.615Z"
   },
   {
    "duration": 26,
    "start_time": "2024-07-04T07:55:32.093Z"
   },
   {
    "duration": 591,
    "start_time": "2024-07-04T07:55:38.973Z"
   },
   {
    "duration": 565,
    "start_time": "2024-07-04T07:56:29.770Z"
   },
   {
    "duration": 560,
    "start_time": "2024-07-04T07:57:05.335Z"
   },
   {
    "duration": 128,
    "start_time": "2024-07-04T07:58:43.948Z"
   },
   {
    "duration": 12,
    "start_time": "2024-07-04T08:06:27.599Z"
   },
   {
    "duration": 18,
    "start_time": "2024-07-04T08:11:07.007Z"
   },
   {
    "duration": 10,
    "start_time": "2024-07-04T08:11:56.712Z"
   },
   {
    "duration": 20,
    "start_time": "2024-07-04T11:18:24.141Z"
   },
   {
    "duration": 11,
    "start_time": "2024-07-04T11:18:36.495Z"
   },
   {
    "duration": 204,
    "start_time": "2024-07-04T11:47:34.105Z"
   },
   {
    "duration": 24,
    "start_time": "2024-07-04T11:52:50.090Z"
   },
   {
    "duration": 313,
    "start_time": "2024-07-04T11:53:22.806Z"
   },
   {
    "duration": 5,
    "start_time": "2024-07-04T11:55:12.969Z"
   },
   {
    "duration": 7,
    "start_time": "2024-07-04T11:55:12.976Z"
   },
   {
    "duration": 64,
    "start_time": "2024-07-04T11:55:12.985Z"
   },
   {
    "duration": 15,
    "start_time": "2024-07-04T11:55:13.052Z"
   },
   {
    "duration": 19,
    "start_time": "2024-07-04T11:55:13.069Z"
   },
   {
    "duration": 28,
    "start_time": "2024-07-04T11:55:13.090Z"
   },
   {
    "duration": 64,
    "start_time": "2024-07-04T11:55:13.120Z"
   },
   {
    "duration": 17,
    "start_time": "2024-07-04T11:55:13.186Z"
   },
   {
    "duration": 55,
    "start_time": "2024-07-04T11:55:13.206Z"
   },
   {
    "duration": 5,
    "start_time": "2024-07-04T11:55:13.262Z"
   },
   {
    "duration": 13,
    "start_time": "2024-07-04T11:55:13.268Z"
   },
   {
    "duration": 59,
    "start_time": "2024-07-04T11:55:13.282Z"
   },
   {
    "duration": 59,
    "start_time": "2024-07-04T11:55:13.342Z"
   },
   {
    "duration": 11,
    "start_time": "2024-07-04T11:55:13.403Z"
   },
   {
    "duration": 41,
    "start_time": "2024-07-04T11:55:13.415Z"
   },
   {
    "duration": 19,
    "start_time": "2024-07-04T11:55:13.458Z"
   },
   {
    "duration": 23,
    "start_time": "2024-07-04T11:55:13.478Z"
   },
   {
    "duration": 6,
    "start_time": "2024-07-04T11:55:13.503Z"
   },
   {
    "duration": 26,
    "start_time": "2024-07-04T11:55:13.515Z"
   },
   {
    "duration": 8,
    "start_time": "2024-07-04T11:55:13.561Z"
   },
   {
    "duration": 4,
    "start_time": "2024-07-04T11:55:13.571Z"
   },
   {
    "duration": 78,
    "start_time": "2024-07-04T11:55:13.577Z"
   },
   {
    "duration": 18,
    "start_time": "2024-07-04T11:55:13.656Z"
   },
   {
    "duration": 6,
    "start_time": "2024-07-04T11:55:13.677Z"
   },
   {
    "duration": 10,
    "start_time": "2024-07-04T11:55:13.684Z"
   },
   {
    "duration": 14,
    "start_time": "2024-07-04T11:55:13.695Z"
   },
   {
    "duration": 16,
    "start_time": "2024-07-04T11:55:13.711Z"
   },
   {
    "duration": 41,
    "start_time": "2024-07-04T11:55:13.729Z"
   },
   {
    "duration": 24,
    "start_time": "2024-07-04T11:55:13.772Z"
   },
   {
    "duration": 12,
    "start_time": "2024-07-04T11:55:13.797Z"
   },
   {
    "duration": 79,
    "start_time": "2024-07-04T11:55:13.810Z"
   },
   {
    "duration": 6,
    "start_time": "2024-07-04T11:55:13.891Z"
   },
   {
    "duration": 15,
    "start_time": "2024-07-04T11:55:13.898Z"
   },
   {
    "duration": 68,
    "start_time": "2024-07-04T11:55:13.914Z"
   },
   {
    "duration": 10,
    "start_time": "2024-07-04T11:55:13.984Z"
   },
   {
    "duration": 10,
    "start_time": "2024-07-04T11:55:13.996Z"
   },
   {
    "duration": 21,
    "start_time": "2024-07-04T11:55:14.007Z"
   },
   {
    "duration": 233,
    "start_time": "2024-07-04T11:55:14.060Z"
   },
   {
    "duration": 17,
    "start_time": "2024-07-04T11:55:14.294Z"
   },
   {
    "duration": 9,
    "start_time": "2024-07-04T11:55:14.313Z"
   },
   {
    "duration": 11,
    "start_time": "2024-07-04T11:55:14.324Z"
   },
   {
    "duration": 49,
    "start_time": "2024-07-04T11:55:14.360Z"
   },
   {
    "duration": 492,
    "start_time": "2024-07-04T11:55:14.411Z"
   },
   {
    "duration": 11,
    "start_time": "2024-07-04T11:55:14.904Z"
   },
   {
    "duration": 24,
    "start_time": "2024-07-04T11:55:14.916Z"
   },
   {
    "duration": 790,
    "start_time": "2024-07-04T11:55:14.941Z"
   },
   {
    "duration": 11,
    "start_time": "2024-07-04T11:55:15.733Z"
   },
   {
    "duration": 38,
    "start_time": "2024-07-04T11:55:15.746Z"
   },
   {
    "duration": 95,
    "start_time": "2024-07-04T11:55:15.786Z"
   },
   {
    "duration": 3,
    "start_time": "2024-07-04T11:55:15.883Z"
   },
   {
    "duration": 4,
    "start_time": "2024-07-04T11:55:15.887Z"
   },
   {
    "duration": 14469,
    "start_time": "2024-07-04T11:55:15.893Z"
   },
   {
    "duration": 19,
    "start_time": "2024-07-04T11:55:30.365Z"
   },
   {
    "duration": 96,
    "start_time": "2024-07-04T11:55:30.386Z"
   },
   {
    "duration": 0,
    "start_time": "2024-07-04T11:55:30.484Z"
   },
   {
    "duration": 0,
    "start_time": "2024-07-04T11:55:30.486Z"
   },
   {
    "duration": 0,
    "start_time": "2024-07-04T11:55:30.487Z"
   },
   {
    "duration": 0,
    "start_time": "2024-07-04T11:55:30.488Z"
   },
   {
    "duration": 0,
    "start_time": "2024-07-04T11:55:30.490Z"
   },
   {
    "duration": 0,
    "start_time": "2024-07-04T11:55:30.491Z"
   },
   {
    "duration": 0,
    "start_time": "2024-07-04T11:55:30.492Z"
   },
   {
    "duration": 0,
    "start_time": "2024-07-04T11:55:30.493Z"
   },
   {
    "duration": 0,
    "start_time": "2024-07-04T11:55:30.494Z"
   },
   {
    "duration": 0,
    "start_time": "2024-07-04T11:55:30.495Z"
   },
   {
    "duration": 0,
    "start_time": "2024-07-04T11:55:30.497Z"
   },
   {
    "duration": 0,
    "start_time": "2024-07-04T11:55:30.498Z"
   },
   {
    "duration": 0,
    "start_time": "2024-07-04T11:55:30.499Z"
   },
   {
    "duration": 0,
    "start_time": "2024-07-04T11:55:30.500Z"
   },
   {
    "duration": 0,
    "start_time": "2024-07-04T11:55:30.501Z"
   },
   {
    "duration": 0,
    "start_time": "2024-07-04T11:55:30.561Z"
   },
   {
    "duration": 584,
    "start_time": "2024-07-04T12:12:44.156Z"
   },
   {
    "duration": 630,
    "start_time": "2024-07-04T12:13:00.560Z"
   },
   {
    "duration": 582,
    "start_time": "2024-07-04T12:13:08.637Z"
   },
   {
    "duration": 14,
    "start_time": "2024-07-04T12:13:09.222Z"
   },
   {
    "duration": 744,
    "start_time": "2024-07-04T12:13:09.237Z"
   },
   {
    "duration": 14,
    "start_time": "2024-07-04T12:13:09.983Z"
   },
   {
    "duration": 13170,
    "start_time": "2024-07-04T12:13:09.998Z"
   },
   {
    "duration": 9,
    "start_time": "2024-07-04T12:13:23.169Z"
   },
   {
    "duration": 29,
    "start_time": "2024-07-04T12:13:23.180Z"
   },
   {
    "duration": 103,
    "start_time": "2024-07-04T12:13:23.261Z"
   },
   {
    "duration": 64,
    "start_time": "2024-07-04T12:13:23.366Z"
   },
   {
    "duration": 4112,
    "start_time": "2024-07-04T12:13:23.460Z"
   },
   {
    "duration": 5,
    "start_time": "2024-07-04T12:13:27.573Z"
   },
   {
    "duration": 22,
    "start_time": "2024-07-04T12:13:27.579Z"
   },
   {
    "duration": 15,
    "start_time": "2024-07-04T12:13:27.602Z"
   },
   {
    "duration": 50,
    "start_time": "2024-07-04T12:13:27.619Z"
   },
   {
    "duration": 131,
    "start_time": "2024-07-04T12:13:27.670Z"
   },
   {
    "duration": 10,
    "start_time": "2024-07-04T12:13:27.803Z"
   },
   {
    "duration": 199,
    "start_time": "2024-07-04T12:13:27.814Z"
   },
   {
    "duration": 265,
    "start_time": "2024-07-04T12:17:44.301Z"
   },
   {
    "duration": 10,
    "start_time": "2024-07-04T12:18:10.176Z"
   },
   {
    "duration": 14,
    "start_time": "2024-07-04T12:18:10.188Z"
   },
   {
    "duration": 9,
    "start_time": "2024-07-04T12:18:10.204Z"
   },
   {
    "duration": 13,
    "start_time": "2024-07-04T12:18:10.215Z"
   },
   {
    "duration": 349,
    "start_time": "2024-07-04T12:18:10.229Z"
   },
   {
    "duration": 5,
    "start_time": "2024-07-04T12:19:12.152Z"
   },
   {
    "duration": 17,
    "start_time": "2024-07-04T12:19:12.159Z"
   },
   {
    "duration": 74,
    "start_time": "2024-07-04T12:19:12.178Z"
   },
   {
    "duration": 16,
    "start_time": "2024-07-04T12:19:12.254Z"
   },
   {
    "duration": 16,
    "start_time": "2024-07-04T12:19:12.272Z"
   },
   {
    "duration": 31,
    "start_time": "2024-07-04T12:19:12.290Z"
   },
   {
    "duration": 63,
    "start_time": "2024-07-04T12:19:12.323Z"
   },
   {
    "duration": 17,
    "start_time": "2024-07-04T12:19:12.387Z"
   },
   {
    "duration": 57,
    "start_time": "2024-07-04T12:19:12.406Z"
   },
   {
    "duration": 5,
    "start_time": "2024-07-04T12:19:12.465Z"
   },
   {
    "duration": 8,
    "start_time": "2024-07-04T12:19:12.471Z"
   },
   {
    "duration": 6,
    "start_time": "2024-07-04T12:19:12.481Z"
   },
   {
    "duration": 10,
    "start_time": "2024-07-04T12:19:12.488Z"
   },
   {
    "duration": 14,
    "start_time": "2024-07-04T12:19:12.499Z"
   },
   {
    "duration": 70,
    "start_time": "2024-07-04T12:19:12.515Z"
   },
   {
    "duration": 35,
    "start_time": "2024-07-04T12:19:12.587Z"
   },
   {
    "duration": 39,
    "start_time": "2024-07-04T12:19:12.624Z"
   },
   {
    "duration": 8,
    "start_time": "2024-07-04T12:19:12.665Z"
   },
   {
    "duration": 19,
    "start_time": "2024-07-04T12:19:12.675Z"
   },
   {
    "duration": 9,
    "start_time": "2024-07-04T12:19:12.697Z"
   },
   {
    "duration": 14,
    "start_time": "2024-07-04T12:19:12.708Z"
   },
   {
    "duration": 45,
    "start_time": "2024-07-04T12:19:12.724Z"
   },
   {
    "duration": 17,
    "start_time": "2024-07-04T12:19:12.770Z"
   },
   {
    "duration": 9,
    "start_time": "2024-07-04T12:19:12.793Z"
   },
   {
    "duration": 16,
    "start_time": "2024-07-04T12:19:12.804Z"
   },
   {
    "duration": 15,
    "start_time": "2024-07-04T12:19:12.822Z"
   },
   {
    "duration": 15,
    "start_time": "2024-07-04T12:19:12.861Z"
   },
   {
    "duration": 41,
    "start_time": "2024-07-04T12:19:12.877Z"
   },
   {
    "duration": 72,
    "start_time": "2024-07-04T12:19:12.920Z"
   },
   {
    "duration": 17,
    "start_time": "2024-07-04T12:19:12.994Z"
   },
   {
    "duration": 62,
    "start_time": "2024-07-04T12:19:13.013Z"
   },
   {
    "duration": 6,
    "start_time": "2024-07-04T12:19:13.077Z"
   },
   {
    "duration": 19,
    "start_time": "2024-07-04T12:19:13.085Z"
   },
   {
    "duration": 81,
    "start_time": "2024-07-04T12:19:13.106Z"
   },
   {
    "duration": 11,
    "start_time": "2024-07-04T12:19:13.188Z"
   },
   {
    "duration": 12,
    "start_time": "2024-07-04T12:19:13.200Z"
   },
   {
    "duration": 50,
    "start_time": "2024-07-04T12:19:13.213Z"
   },
   {
    "duration": 236,
    "start_time": "2024-07-04T12:19:13.265Z"
   },
   {
    "duration": 18,
    "start_time": "2024-07-04T12:19:13.503Z"
   },
   {
    "duration": 10,
    "start_time": "2024-07-04T12:19:13.523Z"
   },
   {
    "duration": 38,
    "start_time": "2024-07-04T12:19:13.534Z"
   },
   {
    "duration": 52,
    "start_time": "2024-07-04T12:19:13.574Z"
   },
   {
    "duration": 511,
    "start_time": "2024-07-04T12:19:13.628Z"
   },
   {
    "duration": 21,
    "start_time": "2024-07-04T12:19:14.141Z"
   },
   {
    "duration": 28,
    "start_time": "2024-07-04T12:19:14.163Z"
   },
   {
    "duration": 785,
    "start_time": "2024-07-04T12:19:14.192Z"
   },
   {
    "duration": 13,
    "start_time": "2024-07-04T12:19:14.979Z"
   },
   {
    "duration": 33,
    "start_time": "2024-07-04T12:19:14.994Z"
   },
   {
    "duration": 115,
    "start_time": "2024-07-04T12:19:15.029Z"
   },
   {
    "duration": 3,
    "start_time": "2024-07-04T12:19:15.146Z"
   },
   {
    "duration": 32,
    "start_time": "2024-07-04T12:19:15.151Z"
   },
   {
    "duration": 13539,
    "start_time": "2024-07-04T12:19:15.185Z"
   },
   {
    "duration": 49,
    "start_time": "2024-07-04T12:19:28.726Z"
   },
   {
    "duration": 1104,
    "start_time": "2024-07-04T12:19:28.777Z"
   },
   {
    "duration": 0,
    "start_time": "2024-07-04T12:19:29.884Z"
   },
   {
    "duration": 0,
    "start_time": "2024-07-04T12:19:29.885Z"
   },
   {
    "duration": 0,
    "start_time": "2024-07-04T12:19:29.887Z"
   },
   {
    "duration": 0,
    "start_time": "2024-07-04T12:19:29.888Z"
   },
   {
    "duration": 0,
    "start_time": "2024-07-04T12:19:29.890Z"
   },
   {
    "duration": 0,
    "start_time": "2024-07-04T12:19:29.891Z"
   },
   {
    "duration": 0,
    "start_time": "2024-07-04T12:19:29.893Z"
   },
   {
    "duration": 0,
    "start_time": "2024-07-04T12:19:29.895Z"
   },
   {
    "duration": 0,
    "start_time": "2024-07-04T12:19:29.897Z"
   },
   {
    "duration": 0,
    "start_time": "2024-07-04T12:19:29.898Z"
   },
   {
    "duration": 0,
    "start_time": "2024-07-04T12:19:29.900Z"
   },
   {
    "duration": 0,
    "start_time": "2024-07-04T12:19:29.901Z"
   },
   {
    "duration": 0,
    "start_time": "2024-07-04T12:19:29.902Z"
   },
   {
    "duration": 0,
    "start_time": "2024-07-04T12:19:29.903Z"
   },
   {
    "duration": 0,
    "start_time": "2024-07-04T12:19:29.904Z"
   },
   {
    "duration": 595,
    "start_time": "2024-07-04T12:20:05.579Z"
   },
   {
    "duration": 13,
    "start_time": "2024-07-04T12:22:08.808Z"
   },
   {
    "duration": 714,
    "start_time": "2024-07-04T12:22:08.823Z"
   },
   {
    "duration": 23,
    "start_time": "2024-07-04T12:22:09.539Z"
   },
   {
    "duration": 15061,
    "start_time": "2024-07-04T12:22:09.564Z"
   },
   {
    "duration": 7,
    "start_time": "2024-07-04T12:22:24.627Z"
   },
   {
    "duration": 34,
    "start_time": "2024-07-04T12:22:24.636Z"
   },
   {
    "duration": 100,
    "start_time": "2024-07-04T12:22:24.671Z"
   },
   {
    "duration": 16,
    "start_time": "2024-07-04T12:22:24.772Z"
   },
   {
    "duration": 2374,
    "start_time": "2024-07-04T12:22:24.789Z"
   },
   {
    "duration": 5,
    "start_time": "2024-07-04T12:22:27.166Z"
   },
   {
    "duration": 16,
    "start_time": "2024-07-04T12:22:27.173Z"
   },
   {
    "duration": 14,
    "start_time": "2024-07-04T12:22:27.191Z"
   },
   {
    "duration": 62,
    "start_time": "2024-07-04T12:22:27.206Z"
   },
   {
    "duration": 11,
    "start_time": "2024-07-04T12:22:27.270Z"
   },
   {
    "duration": 2182,
    "start_time": "2024-07-04T12:22:27.283Z"
   },
   {
    "duration": 18,
    "start_time": "2024-07-04T12:24:11.718Z"
   },
   {
    "duration": 22,
    "start_time": "2024-07-04T12:24:56.696Z"
   },
   {
    "duration": 559,
    "start_time": "2024-07-04T12:25:09.709Z"
   },
   {
    "duration": 161,
    "start_time": "2024-07-04T12:25:32.447Z"
   },
   {
    "duration": 569,
    "start_time": "2024-07-04T12:26:38.348Z"
   },
   {
    "duration": 204,
    "start_time": "2024-07-04T12:26:49.598Z"
   },
   {
    "duration": 21,
    "start_time": "2024-07-04T12:27:15.376Z"
   },
   {
    "duration": 22,
    "start_time": "2024-07-04T12:27:35.508Z"
   },
   {
    "duration": 17,
    "start_time": "2024-07-04T12:27:51.931Z"
   },
   {
    "duration": 36,
    "start_time": "2024-07-04T12:27:51.950Z"
   },
   {
    "duration": 0,
    "start_time": "2024-07-04T12:27:51.988Z"
   },
   {
    "duration": 0,
    "start_time": "2024-07-04T12:27:51.989Z"
   },
   {
    "duration": 0,
    "start_time": "2024-07-04T12:27:51.991Z"
   },
   {
    "duration": 0,
    "start_time": "2024-07-04T12:27:51.992Z"
   },
   {
    "duration": 0,
    "start_time": "2024-07-04T12:27:51.993Z"
   },
   {
    "duration": 0,
    "start_time": "2024-07-04T12:27:51.994Z"
   },
   {
    "duration": 0,
    "start_time": "2024-07-04T12:27:51.995Z"
   },
   {
    "duration": 0,
    "start_time": "2024-07-04T12:27:51.996Z"
   },
   {
    "duration": 2308,
    "start_time": "2024-07-04T12:27:51.998Z"
   },
   {
    "duration": 5,
    "start_time": "2024-07-04T12:27:54.362Z"
   },
   {
    "duration": 14,
    "start_time": "2024-07-04T12:27:54.369Z"
   },
   {
    "duration": 26,
    "start_time": "2024-07-04T12:27:54.386Z"
   },
   {
    "duration": 54,
    "start_time": "2024-07-04T12:27:54.413Z"
   },
   {
    "duration": 11,
    "start_time": "2024-07-04T12:27:54.469Z"
   },
   {
    "duration": 2837,
    "start_time": "2024-07-04T12:27:54.482Z"
   },
   {
    "duration": 16,
    "start_time": "2024-07-04T12:30:32.629Z"
   },
   {
    "duration": 551,
    "start_time": "2024-07-04T12:31:11.290Z"
   },
   {
    "duration": 579,
    "start_time": "2024-07-04T12:31:33.088Z"
   },
   {
    "duration": 17,
    "start_time": "2024-07-04T12:32:24.770Z"
   },
   {
    "duration": 167,
    "start_time": "2024-07-04T12:32:27.260Z"
   },
   {
    "duration": 31,
    "start_time": "2024-07-04T12:32:37.436Z"
   },
   {
    "duration": 16,
    "start_time": "2024-07-04T12:33:08.219Z"
   },
   {
    "duration": 582,
    "start_time": "2024-07-04T12:33:10.400Z"
   },
   {
    "duration": 16,
    "start_time": "2024-07-04T12:33:51.443Z"
   },
   {
    "duration": 572,
    "start_time": "2024-07-04T12:33:53.765Z"
   },
   {
    "duration": 15,
    "start_time": "2024-07-04T12:34:01.189Z"
   },
   {
    "duration": 807,
    "start_time": "2024-07-04T12:34:01.206Z"
   },
   {
    "duration": 14,
    "start_time": "2024-07-04T12:34:02.016Z"
   },
   {
    "duration": 2288,
    "start_time": "2024-07-04T12:34:02.032Z"
   },
   {
    "duration": 6,
    "start_time": "2024-07-04T12:34:04.322Z"
   },
   {
    "duration": 37,
    "start_time": "2024-07-04T12:34:04.330Z"
   },
   {
    "duration": 96,
    "start_time": "2024-07-04T12:34:04.368Z"
   },
   {
    "duration": 13,
    "start_time": "2024-07-04T12:34:04.465Z"
   },
   {
    "duration": 2226,
    "start_time": "2024-07-04T12:34:04.480Z"
   },
   {
    "duration": 5,
    "start_time": "2024-07-04T12:34:06.709Z"
   },
   {
    "duration": 12,
    "start_time": "2024-07-04T12:34:06.716Z"
   },
   {
    "duration": 40,
    "start_time": "2024-07-04T12:34:06.729Z"
   },
   {
    "duration": 11,
    "start_time": "2024-07-04T12:34:06.770Z"
   },
   {
    "duration": 16,
    "start_time": "2024-07-04T12:34:06.782Z"
   },
   {
    "duration": 2249,
    "start_time": "2024-07-04T12:34:06.799Z"
   },
   {
    "duration": 1091,
    "start_time": "2024-07-04T12:38:06.883Z"
   },
   {
    "duration": 98,
    "start_time": "2024-07-04T12:38:49.997Z"
   },
   {
    "duration": 233,
    "start_time": "2024-07-04T12:38:57.013Z"
   },
   {
    "duration": 12,
    "start_time": "2024-07-04T12:41:58.057Z"
   },
   {
    "duration": 14,
    "start_time": "2024-07-04T12:42:17.880Z"
   },
   {
    "duration": 158,
    "start_time": "2024-07-04T12:54:47.683Z"
   },
   {
    "duration": 9,
    "start_time": "2024-07-04T13:00:40.098Z"
   },
   {
    "duration": 256,
    "start_time": "2024-07-04T13:02:57.032Z"
   },
   {
    "duration": 244,
    "start_time": "2024-07-04T13:03:11.105Z"
   },
   {
    "duration": 252,
    "start_time": "2024-07-04T13:03:19.999Z"
   },
   {
    "duration": 255,
    "start_time": "2024-07-04T13:04:35.553Z"
   },
   {
    "duration": 255,
    "start_time": "2024-07-04T13:05:00.714Z"
   },
   {
    "duration": 5,
    "start_time": "2024-07-04T13:06:58.142Z"
   },
   {
    "duration": 21,
    "start_time": "2024-07-04T13:06:58.148Z"
   },
   {
    "duration": 81,
    "start_time": "2024-07-04T13:06:58.171Z"
   },
   {
    "duration": 15,
    "start_time": "2024-07-04T13:06:58.254Z"
   },
   {
    "duration": 19,
    "start_time": "2024-07-04T13:06:58.272Z"
   },
   {
    "duration": 30,
    "start_time": "2024-07-04T13:06:58.292Z"
   },
   {
    "duration": 40,
    "start_time": "2024-07-04T13:06:58.324Z"
   },
   {
    "duration": 15,
    "start_time": "2024-07-04T13:06:58.366Z"
   },
   {
    "duration": 22,
    "start_time": "2024-07-04T13:06:58.383Z"
   },
   {
    "duration": 4,
    "start_time": "2024-07-04T13:06:58.407Z"
   },
   {
    "duration": 48,
    "start_time": "2024-07-04T13:06:58.414Z"
   },
   {
    "duration": 16,
    "start_time": "2024-07-04T13:06:58.464Z"
   },
   {
    "duration": 19,
    "start_time": "2024-07-04T13:06:58.482Z"
   },
   {
    "duration": 20,
    "start_time": "2024-07-04T13:06:58.502Z"
   },
   {
    "duration": 262,
    "start_time": "2024-07-04T13:06:58.524Z"
   },
   {
    "duration": 7,
    "start_time": "2024-07-04T13:06:58.788Z"
   },
   {
    "duration": 12,
    "start_time": "2024-07-04T13:06:58.797Z"
   },
   {
    "duration": 15,
    "start_time": "2024-07-04T13:06:58.810Z"
   },
   {
    "duration": 10,
    "start_time": "2024-07-04T13:06:58.827Z"
   },
   {
    "duration": 28,
    "start_time": "2024-07-04T13:06:58.839Z"
   },
   {
    "duration": 6,
    "start_time": "2024-07-04T13:06:58.869Z"
   },
   {
    "duration": 18,
    "start_time": "2024-07-04T13:06:58.876Z"
   },
   {
    "duration": 17,
    "start_time": "2024-07-04T13:06:58.895Z"
   },
   {
    "duration": 3,
    "start_time": "2024-07-04T13:06:58.913Z"
   },
   {
    "duration": 10,
    "start_time": "2024-07-04T13:06:58.918Z"
   },
   {
    "duration": 10,
    "start_time": "2024-07-04T13:06:58.929Z"
   },
   {
    "duration": 22,
    "start_time": "2024-07-04T13:06:58.941Z"
   },
   {
    "duration": 10,
    "start_time": "2024-07-04T13:06:58.965Z"
   },
   {
    "duration": 12,
    "start_time": "2024-07-04T13:06:58.979Z"
   },
   {
    "duration": 18,
    "start_time": "2024-07-04T13:06:58.993Z"
   },
   {
    "duration": 15,
    "start_time": "2024-07-04T13:06:59.013Z"
   },
   {
    "duration": 37,
    "start_time": "2024-07-04T13:06:59.030Z"
   },
   {
    "duration": 40,
    "start_time": "2024-07-04T13:06:59.069Z"
   },
   {
    "duration": 47,
    "start_time": "2024-07-04T13:06:59.111Z"
   },
   {
    "duration": 5,
    "start_time": "2024-07-04T13:06:59.160Z"
   },
   {
    "duration": 13,
    "start_time": "2024-07-04T13:06:59.166Z"
   },
   {
    "duration": 47,
    "start_time": "2024-07-04T13:06:59.181Z"
   },
   {
    "duration": 38,
    "start_time": "2024-07-04T13:06:59.229Z"
   },
   {
    "duration": 10,
    "start_time": "2024-07-04T13:06:59.269Z"
   },
   {
    "duration": 18,
    "start_time": "2024-07-04T13:06:59.281Z"
   },
   {
    "duration": 214,
    "start_time": "2024-07-04T13:06:59.301Z"
   },
   {
    "duration": 13,
    "start_time": "2024-07-04T13:06:59.517Z"
   },
   {
    "duration": 140,
    "start_time": "2024-07-04T13:06:59.531Z"
   },
   {
    "duration": 39,
    "start_time": "2024-07-04T13:06:59.673Z"
   },
   {
    "duration": 48,
    "start_time": "2024-07-04T13:06:59.714Z"
   },
   {
    "duration": 411,
    "start_time": "2024-07-04T13:06:59.764Z"
   },
   {
    "duration": 10,
    "start_time": "2024-07-04T13:07:00.177Z"
   },
   {
    "duration": 50,
    "start_time": "2024-07-04T13:07:00.188Z"
   },
   {
    "duration": 454,
    "start_time": "2024-07-04T13:07:00.239Z"
   },
   {
    "duration": 12,
    "start_time": "2024-07-04T13:07:00.695Z"
   },
   {
    "duration": 118,
    "start_time": "2024-07-04T13:07:00.708Z"
   },
   {
    "duration": 124,
    "start_time": "2024-07-04T13:07:00.828Z"
   },
   {
    "duration": 7,
    "start_time": "2024-07-04T13:07:00.954Z"
   },
   {
    "duration": 49,
    "start_time": "2024-07-04T13:07:00.962Z"
   },
   {
    "duration": 890,
    "start_time": "2024-07-04T13:07:01.013Z"
   },
   {
    "duration": 17,
    "start_time": "2024-07-04T13:07:01.905Z"
   },
   {
    "duration": 426,
    "start_time": "2024-07-04T13:07:01.924Z"
   },
   {
    "duration": 12,
    "start_time": "2024-07-04T13:07:02.352Z"
   },
   {
    "duration": 461,
    "start_time": "2024-07-04T13:07:02.365Z"
   },
   {
    "duration": 11,
    "start_time": "2024-07-04T13:07:02.828Z"
   },
   {
    "duration": 881,
    "start_time": "2024-07-04T13:07:02.840Z"
   },
   {
    "duration": 5,
    "start_time": "2024-07-04T13:07:03.723Z"
   },
   {
    "duration": 32,
    "start_time": "2024-07-04T13:07:03.730Z"
   },
   {
    "duration": 47,
    "start_time": "2024-07-04T13:07:03.763Z"
   },
   {
    "duration": 45,
    "start_time": "2024-07-04T13:07:03.811Z"
   },
   {
    "duration": 800,
    "start_time": "2024-07-04T13:07:03.858Z"
   },
   {
    "duration": 5,
    "start_time": "2024-07-04T13:07:04.659Z"
   },
   {
    "duration": 24,
    "start_time": "2024-07-04T13:07:04.666Z"
   },
   {
    "duration": 12,
    "start_time": "2024-07-04T13:07:04.692Z"
   },
   {
    "duration": 11,
    "start_time": "2024-07-04T13:07:04.705Z"
   },
   {
    "duration": 67,
    "start_time": "2024-07-04T13:07:04.717Z"
   },
   {
    "duration": 10,
    "start_time": "2024-07-04T13:07:04.786Z"
   },
   {
    "duration": 137,
    "start_time": "2024-07-04T13:07:04.798Z"
   },
   {
    "duration": 24,
    "start_time": "2024-07-04T13:07:04.937Z"
   },
   {
    "duration": 51,
    "start_time": "2024-07-04T13:07:04.963Z"
   },
   {
    "duration": 7,
    "start_time": "2024-07-04T13:10:31.711Z"
   },
   {
    "duration": 5,
    "start_time": "2024-07-04T13:10:36.958Z"
   },
   {
    "duration": 3,
    "start_time": "2024-07-04T13:10:36.966Z"
   },
   {
    "duration": 67,
    "start_time": "2024-07-04T13:10:36.971Z"
   },
   {
    "duration": 21,
    "start_time": "2024-07-04T13:10:37.040Z"
   },
   {
    "duration": 57,
    "start_time": "2024-07-04T13:10:37.063Z"
   },
   {
    "duration": 29,
    "start_time": "2024-07-04T13:10:37.122Z"
   },
   {
    "duration": 27,
    "start_time": "2024-07-04T13:10:37.153Z"
   },
   {
    "duration": 18,
    "start_time": "2024-07-04T13:10:37.182Z"
   },
   {
    "duration": 22,
    "start_time": "2024-07-04T13:10:37.202Z"
   },
   {
    "duration": 4,
    "start_time": "2024-07-04T13:10:37.226Z"
   },
   {
    "duration": 34,
    "start_time": "2024-07-04T13:10:37.231Z"
   },
   {
    "duration": 4,
    "start_time": "2024-07-04T13:10:37.266Z"
   },
   {
    "duration": 12,
    "start_time": "2024-07-04T13:10:37.271Z"
   },
   {
    "duration": 17,
    "start_time": "2024-07-04T13:10:37.284Z"
   },
   {
    "duration": 263,
    "start_time": "2024-07-04T13:10:37.302Z"
   },
   {
    "duration": 7,
    "start_time": "2024-07-04T13:10:37.566Z"
   },
   {
    "duration": 34,
    "start_time": "2024-07-04T13:10:37.574Z"
   },
   {
    "duration": 81,
    "start_time": "2024-07-04T13:10:37.609Z"
   },
   {
    "duration": 18,
    "start_time": "2024-07-04T13:10:37.691Z"
   },
   {
    "duration": 8,
    "start_time": "2024-07-04T13:10:37.711Z"
   },
   {
    "duration": 5,
    "start_time": "2024-07-04T13:10:37.721Z"
   },
   {
    "duration": 13,
    "start_time": "2024-07-04T13:10:37.727Z"
   },
   {
    "duration": 8,
    "start_time": "2024-07-04T13:10:37.741Z"
   },
   {
    "duration": 9,
    "start_time": "2024-07-04T13:10:37.753Z"
   },
   {
    "duration": 74,
    "start_time": "2024-07-04T13:10:37.763Z"
   },
   {
    "duration": 8,
    "start_time": "2024-07-04T13:10:37.839Z"
   },
   {
    "duration": 5,
    "start_time": "2024-07-04T13:10:37.848Z"
   },
   {
    "duration": 22,
    "start_time": "2024-07-04T13:10:37.854Z"
   },
   {
    "duration": 11,
    "start_time": "2024-07-04T13:10:37.878Z"
   },
   {
    "duration": 12,
    "start_time": "2024-07-04T13:10:37.890Z"
   },
   {
    "duration": 23,
    "start_time": "2024-07-04T13:10:37.904Z"
   },
   {
    "duration": 37,
    "start_time": "2024-07-04T13:10:37.930Z"
   },
   {
    "duration": 11,
    "start_time": "2024-07-04T13:10:37.969Z"
   },
   {
    "duration": 47,
    "start_time": "2024-07-04T13:10:37.982Z"
   },
   {
    "duration": 32,
    "start_time": "2024-07-04T13:10:38.032Z"
   },
   {
    "duration": 15,
    "start_time": "2024-07-04T13:10:38.066Z"
   },
   {
    "duration": 49,
    "start_time": "2024-07-04T13:10:38.082Z"
   },
   {
    "duration": 35,
    "start_time": "2024-07-04T13:10:38.133Z"
   },
   {
    "duration": 12,
    "start_time": "2024-07-04T13:10:38.170Z"
   },
   {
    "duration": 24,
    "start_time": "2024-07-04T13:10:38.184Z"
   },
   {
    "duration": 236,
    "start_time": "2024-07-04T13:10:38.210Z"
   },
   {
    "duration": 18,
    "start_time": "2024-07-04T13:10:38.448Z"
   },
   {
    "duration": 9,
    "start_time": "2024-07-04T13:10:38.468Z"
   },
   {
    "duration": 15,
    "start_time": "2024-07-04T13:10:38.479Z"
   },
   {
    "duration": 47,
    "start_time": "2024-07-04T13:10:38.496Z"
   },
   {
    "duration": 406,
    "start_time": "2024-07-04T13:10:38.545Z"
   },
   {
    "duration": 12,
    "start_time": "2024-07-04T13:10:38.960Z"
   },
   {
    "duration": 16,
    "start_time": "2024-07-04T13:10:38.973Z"
   },
   {
    "duration": 409,
    "start_time": "2024-07-04T13:10:38.991Z"
   },
   {
    "duration": 11,
    "start_time": "2024-07-04T13:10:39.402Z"
   },
   {
    "duration": 40,
    "start_time": "2024-07-04T13:10:39.414Z"
   },
   {
    "duration": 96,
    "start_time": "2024-07-04T13:10:39.456Z"
   },
   {
    "duration": 3,
    "start_time": "2024-07-04T13:10:39.560Z"
   },
   {
    "duration": 95,
    "start_time": "2024-07-04T13:10:39.565Z"
   },
   {
    "duration": 858,
    "start_time": "2024-07-04T13:10:39.662Z"
   },
   {
    "duration": 14,
    "start_time": "2024-07-04T13:10:40.521Z"
   },
   {
    "duration": 391,
    "start_time": "2024-07-04T13:10:40.536Z"
   },
   {
    "duration": 12,
    "start_time": "2024-07-04T13:10:40.928Z"
   },
   {
    "duration": 462,
    "start_time": "2024-07-04T13:10:40.941Z"
   },
   {
    "duration": 11,
    "start_time": "2024-07-04T13:10:41.404Z"
   },
   {
    "duration": 2973,
    "start_time": "2024-07-04T13:10:41.417Z"
   },
   {
    "duration": 5,
    "start_time": "2024-07-04T13:10:44.392Z"
   },
   {
    "duration": 13,
    "start_time": "2024-07-04T13:10:44.398Z"
   },
   {
    "duration": 78,
    "start_time": "2024-07-04T13:10:44.413Z"
   },
   {
    "duration": 12,
    "start_time": "2024-07-04T13:10:44.492Z"
   },
   {
    "duration": 812,
    "start_time": "2024-07-04T13:10:44.506Z"
   },
   {
    "duration": 4,
    "start_time": "2024-07-04T13:10:45.319Z"
   },
   {
    "duration": 41,
    "start_time": "2024-07-04T13:10:45.325Z"
   },
   {
    "duration": 23,
    "start_time": "2024-07-04T13:10:45.371Z"
   },
   {
    "duration": 34,
    "start_time": "2024-07-04T13:10:45.395Z"
   },
   {
    "duration": 58,
    "start_time": "2024-07-04T13:10:45.431Z"
   },
   {
    "duration": 11,
    "start_time": "2024-07-04T13:10:45.490Z"
   },
   {
    "duration": 147,
    "start_time": "2024-07-04T13:10:45.502Z"
   },
   {
    "duration": 15,
    "start_time": "2024-07-04T13:10:45.651Z"
   },
   {
    "duration": 52,
    "start_time": "2024-07-04T13:10:45.668Z"
   },
   {
    "duration": 5,
    "start_time": "2024-07-04T13:13:25.363Z"
   },
   {
    "duration": 9,
    "start_time": "2024-07-04T13:13:25.370Z"
   },
   {
    "duration": 62,
    "start_time": "2024-07-04T13:13:25.380Z"
   },
   {
    "duration": 15,
    "start_time": "2024-07-04T13:13:25.443Z"
   },
   {
    "duration": 25,
    "start_time": "2024-07-04T13:13:25.462Z"
   },
   {
    "duration": 27,
    "start_time": "2024-07-04T13:13:25.489Z"
   },
   {
    "duration": 46,
    "start_time": "2024-07-04T13:13:25.518Z"
   },
   {
    "duration": 33,
    "start_time": "2024-07-04T13:13:25.566Z"
   },
   {
    "duration": 31,
    "start_time": "2024-07-04T13:13:25.601Z"
   },
   {
    "duration": 50,
    "start_time": "2024-07-04T13:13:25.634Z"
   },
   {
    "duration": 16,
    "start_time": "2024-07-04T13:13:25.687Z"
   },
   {
    "duration": 19,
    "start_time": "2024-07-04T13:13:25.705Z"
   },
   {
    "duration": 7,
    "start_time": "2024-07-04T13:13:25.726Z"
   },
   {
    "duration": 16,
    "start_time": "2024-07-04T13:13:25.734Z"
   },
   {
    "duration": 23,
    "start_time": "2024-07-04T13:13:25.751Z"
   },
   {
    "duration": 21,
    "start_time": "2024-07-04T13:13:25.776Z"
   },
   {
    "duration": 63,
    "start_time": "2024-07-04T13:13:25.798Z"
   },
   {
    "duration": 9,
    "start_time": "2024-07-04T13:13:25.863Z"
   },
   {
    "duration": 22,
    "start_time": "2024-07-04T13:13:25.875Z"
   },
   {
    "duration": 7,
    "start_time": "2024-07-04T13:13:25.898Z"
   },
   {
    "duration": 33,
    "start_time": "2024-07-04T13:13:25.906Z"
   },
   {
    "duration": 29,
    "start_time": "2024-07-04T13:13:25.941Z"
   },
   {
    "duration": 9,
    "start_time": "2024-07-04T13:13:25.972Z"
   },
   {
    "duration": 7,
    "start_time": "2024-07-04T13:13:25.982Z"
   },
   {
    "duration": 10,
    "start_time": "2024-07-04T13:13:25.991Z"
   },
   {
    "duration": 19,
    "start_time": "2024-07-04T13:13:26.003Z"
   },
   {
    "duration": 43,
    "start_time": "2024-07-04T13:13:26.024Z"
   },
   {
    "duration": 38,
    "start_time": "2024-07-04T13:13:26.069Z"
   },
   {
    "duration": 51,
    "start_time": "2024-07-04T13:13:26.111Z"
   },
   {
    "duration": 15,
    "start_time": "2024-07-04T13:13:26.163Z"
   },
   {
    "duration": 47,
    "start_time": "2024-07-04T13:13:26.179Z"
   },
   {
    "duration": 6,
    "start_time": "2024-07-04T13:13:26.227Z"
   },
   {
    "duration": 37,
    "start_time": "2024-07-04T13:13:26.235Z"
   },
   {
    "duration": 52,
    "start_time": "2024-07-04T13:13:26.274Z"
   },
   {
    "duration": 35,
    "start_time": "2024-07-04T13:13:26.327Z"
   },
   {
    "duration": 10,
    "start_time": "2024-07-04T13:13:26.364Z"
   },
   {
    "duration": 47,
    "start_time": "2024-07-04T13:13:26.376Z"
   },
   {
    "duration": 224,
    "start_time": "2024-07-04T13:13:26.425Z"
   },
   {
    "duration": 22,
    "start_time": "2024-07-04T13:13:26.651Z"
   },
   {
    "duration": 24,
    "start_time": "2024-07-04T13:13:26.674Z"
   },
   {
    "duration": 28,
    "start_time": "2024-07-04T13:13:26.700Z"
   },
   {
    "duration": 49,
    "start_time": "2024-07-04T13:13:26.729Z"
   },
   {
    "duration": 505,
    "start_time": "2024-07-04T13:13:26.779Z"
   },
   {
    "duration": 11,
    "start_time": "2024-07-04T13:13:27.286Z"
   },
   {
    "duration": 41,
    "start_time": "2024-07-04T13:13:27.298Z"
   },
   {
    "duration": 857,
    "start_time": "2024-07-04T13:13:27.341Z"
   },
   {
    "duration": 11,
    "start_time": "2024-07-04T13:13:28.200Z"
   },
   {
    "duration": 33,
    "start_time": "2024-07-04T13:13:28.213Z"
   },
   {
    "duration": 98,
    "start_time": "2024-07-04T13:13:28.247Z"
   },
   {
    "duration": 3,
    "start_time": "2024-07-04T13:13:28.347Z"
   },
   {
    "duration": 10,
    "start_time": "2024-07-04T13:13:28.352Z"
   },
   {
    "duration": 13120,
    "start_time": "2024-07-04T13:13:28.363Z"
   },
   {
    "duration": 19,
    "start_time": "2024-07-04T13:13:41.486Z"
   },
   {
    "duration": 891,
    "start_time": "2024-07-04T13:13:41.506Z"
   },
   {
    "duration": 15,
    "start_time": "2024-07-04T13:13:42.399Z"
   },
   {
    "duration": 740,
    "start_time": "2024-07-04T13:13:42.415Z"
   },
   {
    "duration": 12,
    "start_time": "2024-07-04T13:13:43.160Z"
   },
   {
    "duration": 13970,
    "start_time": "2024-07-04T13:13:43.174Z"
   },
   {
    "duration": 8,
    "start_time": "2024-07-04T13:13:57.163Z"
   },
   {
    "duration": 17,
    "start_time": "2024-07-04T13:13:57.173Z"
   },
   {
    "duration": 112,
    "start_time": "2024-07-04T13:13:57.193Z"
   },
   {
    "duration": 67,
    "start_time": "2024-07-04T13:13:57.306Z"
   },
   {
    "duration": 2414,
    "start_time": "2024-07-04T13:13:57.374Z"
   },
   {
    "duration": 5,
    "start_time": "2024-07-04T13:13:59.789Z"
   },
   {
    "duration": 71,
    "start_time": "2024-07-04T13:13:59.795Z"
   },
   {
    "duration": 14,
    "start_time": "2024-07-04T13:13:59.868Z"
   },
   {
    "duration": 24,
    "start_time": "2024-07-04T13:13:59.884Z"
   },
   {
    "duration": 130,
    "start_time": "2024-07-04T13:13:59.913Z"
   },
   {
    "duration": 24,
    "start_time": "2024-07-04T13:14:00.046Z"
   },
   {
    "duration": 254,
    "start_time": "2024-07-04T13:14:00.071Z"
   },
   {
    "duration": 15,
    "start_time": "2024-07-04T13:14:00.327Z"
   },
   {
    "duration": 218,
    "start_time": "2024-07-04T13:14:00.362Z"
   },
   {
    "duration": 14,
    "start_time": "2024-07-04T13:22:05.612Z"
   },
   {
    "duration": 17,
    "start_time": "2024-07-04T13:22:31.083Z"
   },
   {
    "duration": 81,
    "start_time": "2024-07-04T13:22:43.537Z"
   },
   {
    "duration": 33,
    "start_time": "2024-07-04T13:23:34.684Z"
   },
   {
    "duration": 34,
    "start_time": "2024-07-04T13:23:54.521Z"
   },
   {
    "duration": 15,
    "start_time": "2024-07-04T13:24:06.816Z"
   },
   {
    "duration": 32,
    "start_time": "2024-07-04T13:24:19.192Z"
   },
   {
    "duration": 34,
    "start_time": "2024-07-04T13:26:19.714Z"
   },
   {
    "duration": 33,
    "start_time": "2024-07-04T13:26:48.969Z"
   },
   {
    "duration": 34,
    "start_time": "2024-07-04T13:26:54.578Z"
   },
   {
    "duration": 83,
    "start_time": "2024-07-04T13:27:02.062Z"
   },
   {
    "duration": 272,
    "start_time": "2024-07-04T13:28:20.708Z"
   },
   {
    "duration": 14,
    "start_time": "2024-07-04T13:28:40.330Z"
   },
   {
    "duration": 79,
    "start_time": "2024-07-04T13:28:42.455Z"
   },
   {
    "duration": 87,
    "start_time": "2024-07-04T13:31:47.520Z"
   },
   {
    "duration": 16,
    "start_time": "2024-07-04T13:35:47.515Z"
   },
   {
    "duration": 12,
    "start_time": "2024-07-04T13:36:34.696Z"
   },
   {
    "duration": 12,
    "start_time": "2024-07-04T13:36:57.613Z"
   },
   {
    "duration": 88,
    "start_time": "2024-07-04T13:45:07.926Z"
   },
   {
    "duration": 83,
    "start_time": "2024-07-04T17:20:39.487Z"
   },
   {
    "duration": 27,
    "start_time": "2024-07-04T17:49:17.169Z"
   },
   {
    "duration": 39,
    "start_time": "2024-07-04T17:50:37.296Z"
   },
   {
    "duration": 23,
    "start_time": "2024-07-04T17:50:54.373Z"
   },
   {
    "duration": 51,
    "start_time": "2024-07-04T17:52:30.665Z"
   },
   {
    "duration": 44,
    "start_time": "2024-07-04T17:53:16.420Z"
   },
   {
    "duration": 141,
    "start_time": "2024-07-04T18:19:10.602Z"
   },
   {
    "duration": 192,
    "start_time": "2024-07-04T18:26:14.195Z"
   },
   {
    "duration": 61,
    "start_time": "2024-07-04T18:46:04.936Z"
   },
   {
    "duration": 114,
    "start_time": "2024-07-04T18:46:43.897Z"
   },
   {
    "duration": 133,
    "start_time": "2024-07-04T18:47:27.629Z"
   },
   {
    "duration": 119,
    "start_time": "2024-07-04T18:48:04.669Z"
   },
   {
    "duration": 117,
    "start_time": "2024-07-04T18:48:24.444Z"
   },
   {
    "duration": 167,
    "start_time": "2024-07-04T18:58:13.929Z"
   },
   {
    "duration": 2146,
    "start_time": "2024-07-04T18:58:19.582Z"
   },
   {
    "duration": 103,
    "start_time": "2024-07-04T18:59:16.266Z"
   },
   {
    "duration": 255,
    "start_time": "2024-07-04T18:59:33.265Z"
   },
   {
    "duration": 113,
    "start_time": "2024-07-04T19:00:34.850Z"
   },
   {
    "duration": 1488,
    "start_time": "2024-07-05T09:04:53.972Z"
   },
   {
    "duration": 3,
    "start_time": "2024-07-05T09:04:55.462Z"
   },
   {
    "duration": 120,
    "start_time": "2024-07-05T09:04:55.467Z"
   },
   {
    "duration": 19,
    "start_time": "2024-07-05T09:04:55.589Z"
   },
   {
    "duration": 47,
    "start_time": "2024-07-05T09:04:55.609Z"
   },
   {
    "duration": 56,
    "start_time": "2024-07-05T09:04:55.658Z"
   },
   {
    "duration": 24,
    "start_time": "2024-07-05T09:04:55.716Z"
   },
   {
    "duration": 36,
    "start_time": "2024-07-05T09:04:55.742Z"
   },
   {
    "duration": 47,
    "start_time": "2024-07-05T09:04:55.781Z"
   },
   {
    "duration": 8,
    "start_time": "2024-07-05T09:04:55.831Z"
   },
   {
    "duration": 64,
    "start_time": "2024-07-05T09:04:55.840Z"
   },
   {
    "duration": 10,
    "start_time": "2024-07-05T09:04:55.905Z"
   },
   {
    "duration": 37,
    "start_time": "2024-07-05T09:04:55.917Z"
   },
   {
    "duration": 36,
    "start_time": "2024-07-05T09:04:55.956Z"
   },
   {
    "duration": 28,
    "start_time": "2024-07-05T09:04:55.993Z"
   },
   {
    "duration": 20,
    "start_time": "2024-07-05T09:04:56.022Z"
   },
   {
    "duration": 15,
    "start_time": "2024-07-05T09:04:56.044Z"
   },
   {
    "duration": 21,
    "start_time": "2024-07-05T09:04:56.060Z"
   },
   {
    "duration": 24,
    "start_time": "2024-07-05T09:04:56.082Z"
   },
   {
    "duration": 20,
    "start_time": "2024-07-05T09:04:56.108Z"
   },
   {
    "duration": 6,
    "start_time": "2024-07-05T09:04:56.130Z"
   },
   {
    "duration": 38,
    "start_time": "2024-07-05T09:04:56.137Z"
   },
   {
    "duration": 19,
    "start_time": "2024-07-05T09:04:56.176Z"
   },
   {
    "duration": 33,
    "start_time": "2024-07-05T09:04:56.196Z"
   },
   {
    "duration": 17,
    "start_time": "2024-07-05T09:04:56.231Z"
   },
   {
    "duration": 25,
    "start_time": "2024-07-05T09:04:56.250Z"
   },
   {
    "duration": 14,
    "start_time": "2024-07-05T09:04:56.277Z"
   },
   {
    "duration": 26,
    "start_time": "2024-07-05T09:04:56.294Z"
   },
   {
    "duration": 44,
    "start_time": "2024-07-05T09:04:56.322Z"
   },
   {
    "duration": 27,
    "start_time": "2024-07-05T09:04:56.368Z"
   },
   {
    "duration": 505,
    "start_time": "2024-07-05T09:04:56.397Z"
   },
   {
    "duration": 7,
    "start_time": "2024-07-05T09:04:56.904Z"
   },
   {
    "duration": 23,
    "start_time": "2024-07-05T09:04:56.913Z"
   },
   {
    "duration": 159,
    "start_time": "2024-07-05T09:04:56.937Z"
   },
   {
    "duration": 10,
    "start_time": "2024-07-05T09:04:57.097Z"
   },
   {
    "duration": 16,
    "start_time": "2024-07-05T09:04:57.108Z"
   },
   {
    "duration": 20,
    "start_time": "2024-07-05T09:04:57.125Z"
   },
   {
    "duration": 68,
    "start_time": "2024-07-05T09:04:57.147Z"
   },
   {
    "duration": 13,
    "start_time": "2024-07-05T09:04:57.217Z"
   },
   {
    "duration": 12,
    "start_time": "2024-07-05T09:04:57.232Z"
   },
   {
    "duration": 14,
    "start_time": "2024-07-05T09:04:57.245Z"
   },
   {
    "duration": 85,
    "start_time": "2024-07-05T09:04:57.261Z"
   },
   {
    "duration": 497,
    "start_time": "2024-07-05T09:04:57.348Z"
   },
   {
    "duration": 10,
    "start_time": "2024-07-05T09:04:57.846Z"
   },
   {
    "duration": 39,
    "start_time": "2024-07-05T09:04:57.857Z"
   },
   {
    "duration": 748,
    "start_time": "2024-07-05T09:04:57.897Z"
   },
   {
    "duration": 11,
    "start_time": "2024-07-05T09:04:58.647Z"
   },
   {
    "duration": 34,
    "start_time": "2024-07-05T09:04:58.659Z"
   },
   {
    "duration": 198,
    "start_time": "2024-07-05T09:04:58.695Z"
   },
   {
    "duration": 4,
    "start_time": "2024-07-05T09:04:58.895Z"
   },
   {
    "duration": 20,
    "start_time": "2024-07-05T09:04:58.901Z"
   },
   {
    "duration": 12806,
    "start_time": "2024-07-05T09:04:58.922Z"
   },
   {
    "duration": 18,
    "start_time": "2024-07-05T09:05:11.730Z"
   },
   {
    "duration": 763,
    "start_time": "2024-07-05T09:05:11.790Z"
   },
   {
    "duration": 12,
    "start_time": "2024-07-05T09:05:12.555Z"
   },
   {
    "duration": 726,
    "start_time": "2024-07-05T09:05:12.568Z"
   },
   {
    "duration": 11,
    "start_time": "2024-07-05T09:05:13.296Z"
   },
   {
    "duration": 338,
    "start_time": "2024-07-05T09:05:13.309Z"
   },
   {
    "duration": 6,
    "start_time": "2024-07-05T09:05:13.649Z"
   },
   {
    "duration": 33,
    "start_time": "2024-07-05T09:05:13.656Z"
   },
   {
    "duration": 47,
    "start_time": "2024-07-05T09:05:13.691Z"
   },
   {
    "duration": 14,
    "start_time": "2024-07-05T09:05:13.739Z"
   },
   {
    "duration": 2120,
    "start_time": "2024-07-05T09:05:13.755Z"
   },
   {
    "duration": 13,
    "start_time": "2024-07-05T09:05:15.876Z"
   },
   {
    "duration": 19,
    "start_time": "2024-07-05T09:05:15.891Z"
   },
   {
    "duration": 22,
    "start_time": "2024-07-05T09:05:15.912Z"
   },
   {
    "duration": 11,
    "start_time": "2024-07-05T09:05:15.936Z"
   },
   {
    "duration": 154,
    "start_time": "2024-07-05T09:05:15.949Z"
   },
   {
    "duration": 10,
    "start_time": "2024-07-05T09:05:16.105Z"
   },
   {
    "duration": 127,
    "start_time": "2024-07-05T09:05:16.116Z"
   },
   {
    "duration": 12,
    "start_time": "2024-07-05T09:05:16.244Z"
   },
   {
    "duration": 112,
    "start_time": "2024-07-05T09:05:16.258Z"
   },
   {
    "duration": 1457,
    "start_time": "2024-07-05T09:47:53.554Z"
   },
   {
    "duration": 3,
    "start_time": "2024-07-05T09:47:55.013Z"
   },
   {
    "duration": 73,
    "start_time": "2024-07-05T09:47:55.017Z"
   },
   {
    "duration": 17,
    "start_time": "2024-07-05T09:47:55.091Z"
   },
   {
    "duration": 15,
    "start_time": "2024-07-05T09:47:55.110Z"
   },
   {
    "duration": 31,
    "start_time": "2024-07-05T09:47:55.126Z"
   },
   {
    "duration": 36,
    "start_time": "2024-07-05T09:47:55.159Z"
   },
   {
    "duration": 25,
    "start_time": "2024-07-05T09:47:55.196Z"
   },
   {
    "duration": 52,
    "start_time": "2024-07-05T09:47:55.222Z"
   },
   {
    "duration": 5,
    "start_time": "2024-07-05T09:47:55.275Z"
   },
   {
    "duration": 18,
    "start_time": "2024-07-05T09:47:55.281Z"
   },
   {
    "duration": 27,
    "start_time": "2024-07-05T09:47:55.301Z"
   },
   {
    "duration": 26,
    "start_time": "2024-07-05T09:47:55.329Z"
   },
   {
    "duration": 26,
    "start_time": "2024-07-05T09:47:55.359Z"
   },
   {
    "duration": 21,
    "start_time": "2024-07-05T09:47:55.387Z"
   },
   {
    "duration": 38,
    "start_time": "2024-07-05T09:47:55.409Z"
   },
   {
    "duration": 28,
    "start_time": "2024-07-05T09:47:55.448Z"
   },
   {
    "duration": 10,
    "start_time": "2024-07-05T09:47:55.477Z"
   },
   {
    "duration": 30,
    "start_time": "2024-07-05T09:47:55.488Z"
   },
   {
    "duration": 26,
    "start_time": "2024-07-05T09:47:55.520Z"
   },
   {
    "duration": 11,
    "start_time": "2024-07-05T09:47:55.548Z"
   },
   {
    "duration": 30,
    "start_time": "2024-07-05T09:47:55.560Z"
   },
   {
    "duration": 11,
    "start_time": "2024-07-05T09:47:55.592Z"
   },
   {
    "duration": 66,
    "start_time": "2024-07-05T09:47:55.604Z"
   },
   {
    "duration": 32,
    "start_time": "2024-07-05T09:47:55.671Z"
   },
   {
    "duration": 29,
    "start_time": "2024-07-05T09:47:55.705Z"
   },
   {
    "duration": 40,
    "start_time": "2024-07-05T09:47:55.736Z"
   },
   {
    "duration": 42,
    "start_time": "2024-07-05T09:47:55.778Z"
   },
   {
    "duration": 28,
    "start_time": "2024-07-05T09:47:55.823Z"
   },
   {
    "duration": 25,
    "start_time": "2024-07-05T09:47:55.852Z"
   },
   {
    "duration": 501,
    "start_time": "2024-07-05T09:47:55.879Z"
   },
   {
    "duration": 5,
    "start_time": "2024-07-05T09:47:56.382Z"
   },
   {
    "duration": 32,
    "start_time": "2024-07-05T09:47:56.388Z"
   },
   {
    "duration": 90,
    "start_time": "2024-07-05T09:47:56.422Z"
   },
   {
    "duration": 10,
    "start_time": "2024-07-05T09:47:56.513Z"
   },
   {
    "duration": 19,
    "start_time": "2024-07-05T09:47:56.524Z"
   },
   {
    "duration": 60,
    "start_time": "2024-07-05T09:47:56.545Z"
   },
   {
    "duration": 46,
    "start_time": "2024-07-05T09:47:56.607Z"
   },
   {
    "duration": 13,
    "start_time": "2024-07-05T09:47:56.655Z"
   },
   {
    "duration": 57,
    "start_time": "2024-07-05T09:47:56.690Z"
   },
   {
    "duration": 10,
    "start_time": "2024-07-05T09:47:56.751Z"
   },
   {
    "duration": 49,
    "start_time": "2024-07-05T09:47:56.763Z"
   },
   {
    "duration": 529,
    "start_time": "2024-07-05T09:47:56.814Z"
   },
   {
    "duration": 12,
    "start_time": "2024-07-05T09:47:57.345Z"
   },
   {
    "duration": 32,
    "start_time": "2024-07-05T09:47:57.358Z"
   },
   {
    "duration": 716,
    "start_time": "2024-07-05T09:47:57.392Z"
   },
   {
    "duration": 10,
    "start_time": "2024-07-05T09:47:58.110Z"
   },
   {
    "duration": 33,
    "start_time": "2024-07-05T09:47:58.121Z"
   },
   {
    "duration": 164,
    "start_time": "2024-07-05T09:47:58.155Z"
   },
   {
    "duration": 4,
    "start_time": "2024-07-05T09:47:58.320Z"
   },
   {
    "duration": 15,
    "start_time": "2024-07-05T09:47:58.325Z"
   },
   {
    "duration": 12878,
    "start_time": "2024-07-05T09:47:58.342Z"
   },
   {
    "duration": 17,
    "start_time": "2024-07-05T09:48:11.222Z"
   },
   {
    "duration": 849,
    "start_time": "2024-07-05T09:48:11.240Z"
   },
   {
    "duration": 12,
    "start_time": "2024-07-05T09:48:12.091Z"
   },
   {
    "duration": 720,
    "start_time": "2024-07-05T09:48:12.105Z"
   },
   {
    "duration": 12,
    "start_time": "2024-07-05T09:48:12.826Z"
   },
   {
    "duration": 310,
    "start_time": "2024-07-05T09:48:12.839Z"
   },
   {
    "duration": 6,
    "start_time": "2024-07-05T09:48:13.150Z"
   },
   {
    "duration": 33,
    "start_time": "2024-07-05T09:48:13.158Z"
   },
   {
    "duration": 55,
    "start_time": "2024-07-05T09:48:13.193Z"
   },
   {
    "duration": 13,
    "start_time": "2024-07-05T09:48:13.249Z"
   },
   {
    "duration": 2041,
    "start_time": "2024-07-05T09:48:13.289Z"
   },
   {
    "duration": 4,
    "start_time": "2024-07-05T09:48:15.332Z"
   },
   {
    "duration": 28,
    "start_time": "2024-07-05T09:48:15.338Z"
   },
   {
    "duration": 16,
    "start_time": "2024-07-05T09:48:15.390Z"
   },
   {
    "duration": 27,
    "start_time": "2024-07-05T09:48:15.407Z"
   },
   {
    "duration": 136,
    "start_time": "2024-07-05T09:48:15.436Z"
   },
   {
    "duration": 17,
    "start_time": "2024-07-05T09:48:15.574Z"
   },
   {
    "duration": 191,
    "start_time": "2024-07-05T09:48:15.593Z"
   },
   {
    "duration": 12,
    "start_time": "2024-07-05T09:48:15.785Z"
   },
   {
    "duration": 114,
    "start_time": "2024-07-05T09:48:15.798Z"
   },
   {
    "duration": 1481,
    "start_time": "2024-07-05T10:11:49.249Z"
   },
   {
    "duration": 3,
    "start_time": "2024-07-05T10:11:50.731Z"
   },
   {
    "duration": 93,
    "start_time": "2024-07-05T10:11:50.735Z"
   },
   {
    "duration": 16,
    "start_time": "2024-07-05T10:11:50.829Z"
   },
   {
    "duration": 44,
    "start_time": "2024-07-05T10:11:50.846Z"
   },
   {
    "duration": 64,
    "start_time": "2024-07-05T10:11:50.892Z"
   },
   {
    "duration": 24,
    "start_time": "2024-07-05T10:11:50.958Z"
   },
   {
    "duration": 36,
    "start_time": "2024-07-05T10:11:50.983Z"
   },
   {
    "duration": 37,
    "start_time": "2024-07-05T10:11:51.020Z"
   },
   {
    "duration": 24,
    "start_time": "2024-07-05T10:11:51.059Z"
   },
   {
    "duration": 23,
    "start_time": "2024-07-05T10:11:51.084Z"
   },
   {
    "duration": 24,
    "start_time": "2024-07-05T10:11:51.109Z"
   },
   {
    "duration": 30,
    "start_time": "2024-07-05T10:11:51.134Z"
   },
   {
    "duration": 39,
    "start_time": "2024-07-05T10:11:51.166Z"
   },
   {
    "duration": 25,
    "start_time": "2024-07-05T10:11:51.206Z"
   },
   {
    "duration": 42,
    "start_time": "2024-07-05T10:11:51.232Z"
   },
   {
    "duration": 57,
    "start_time": "2024-07-05T10:11:51.275Z"
   },
   {
    "duration": 26,
    "start_time": "2024-07-05T10:11:51.334Z"
   },
   {
    "duration": 28,
    "start_time": "2024-07-05T10:11:51.361Z"
   },
   {
    "duration": 30,
    "start_time": "2024-07-05T10:11:51.391Z"
   },
   {
    "duration": 76,
    "start_time": "2024-07-05T10:11:51.423Z"
   },
   {
    "duration": 40,
    "start_time": "2024-07-05T10:11:51.501Z"
   },
   {
    "duration": 15,
    "start_time": "2024-07-05T10:11:51.542Z"
   },
   {
    "duration": 5,
    "start_time": "2024-07-05T10:11:51.559Z"
   },
   {
    "duration": 17,
    "start_time": "2024-07-05T10:11:51.566Z"
   },
   {
    "duration": 20,
    "start_time": "2024-07-05T10:11:51.585Z"
   },
   {
    "duration": 14,
    "start_time": "2024-07-05T10:11:51.606Z"
   },
   {
    "duration": 27,
    "start_time": "2024-07-05T10:11:51.624Z"
   },
   {
    "duration": 49,
    "start_time": "2024-07-05T10:11:51.653Z"
   },
   {
    "duration": 58,
    "start_time": "2024-07-05T10:11:51.704Z"
   },
   {
    "duration": 518,
    "start_time": "2024-07-05T10:11:51.764Z"
   },
   {
    "duration": 5,
    "start_time": "2024-07-05T10:11:52.284Z"
   },
   {
    "duration": 42,
    "start_time": "2024-07-05T10:11:52.291Z"
   },
   {
    "duration": 89,
    "start_time": "2024-07-05T10:11:52.334Z"
   },
   {
    "duration": 10,
    "start_time": "2024-07-05T10:11:52.424Z"
   },
   {
    "duration": 63,
    "start_time": "2024-07-05T10:11:52.435Z"
   },
   {
    "duration": 26,
    "start_time": "2024-07-05T10:11:52.499Z"
   },
   {
    "duration": 63,
    "start_time": "2024-07-05T10:11:52.527Z"
   },
   {
    "duration": 16,
    "start_time": "2024-07-05T10:11:52.592Z"
   },
   {
    "duration": 21,
    "start_time": "2024-07-05T10:11:52.610Z"
   },
   {
    "duration": 14,
    "start_time": "2024-07-05T10:11:52.633Z"
   },
   {
    "duration": 56,
    "start_time": "2024-07-05T10:11:52.648Z"
   },
   {
    "duration": 509,
    "start_time": "2024-07-05T10:11:52.706Z"
   },
   {
    "duration": 10,
    "start_time": "2024-07-05T10:11:53.216Z"
   },
   {
    "duration": 17,
    "start_time": "2024-07-05T10:11:53.227Z"
   },
   {
    "duration": 825,
    "start_time": "2024-07-05T10:11:53.246Z"
   },
   {
    "duration": 11,
    "start_time": "2024-07-05T10:11:54.073Z"
   },
   {
    "duration": 34,
    "start_time": "2024-07-05T10:11:54.085Z"
   },
   {
    "duration": 171,
    "start_time": "2024-07-05T10:11:54.121Z"
   },
   {
    "duration": 4,
    "start_time": "2024-07-05T10:11:54.294Z"
   },
   {
    "duration": 17,
    "start_time": "2024-07-05T10:11:54.301Z"
   },
   {
    "duration": 13567,
    "start_time": "2024-07-05T10:11:54.320Z"
   },
   {
    "duration": 21,
    "start_time": "2024-07-05T10:12:07.890Z"
   },
   {
    "duration": 931,
    "start_time": "2024-07-05T10:12:07.913Z"
   },
   {
    "duration": 12,
    "start_time": "2024-07-05T10:12:08.845Z"
   },
   {
    "duration": 709,
    "start_time": "2024-07-05T10:12:08.858Z"
   },
   {
    "duration": 11,
    "start_time": "2024-07-05T10:12:09.569Z"
   },
   {
    "duration": 306,
    "start_time": "2024-07-05T10:12:09.582Z"
   },
   {
    "duration": 6,
    "start_time": "2024-07-05T10:12:09.890Z"
   },
   {
    "duration": 13,
    "start_time": "2024-07-05T10:12:09.898Z"
   },
   {
    "duration": 88,
    "start_time": "2024-07-05T10:12:09.913Z"
   },
   {
    "duration": 15,
    "start_time": "2024-07-05T10:12:10.003Z"
   },
   {
    "duration": 2171,
    "start_time": "2024-07-05T10:12:10.020Z"
   },
   {
    "duration": 5,
    "start_time": "2024-07-05T10:12:12.193Z"
   },
   {
    "duration": 18,
    "start_time": "2024-07-05T10:12:12.200Z"
   },
   {
    "duration": 11,
    "start_time": "2024-07-05T10:12:12.219Z"
   },
   {
    "duration": 59,
    "start_time": "2024-07-05T10:12:12.231Z"
   },
   {
    "duration": 112,
    "start_time": "2024-07-05T10:12:12.292Z"
   },
   {
    "duration": 12,
    "start_time": "2024-07-05T10:12:12.406Z"
   },
   {
    "duration": 118,
    "start_time": "2024-07-05T10:12:12.419Z"
   },
   {
    "duration": 13,
    "start_time": "2024-07-05T10:12:12.538Z"
   },
   {
    "duration": 108,
    "start_time": "2024-07-05T10:12:12.553Z"
   },
   {
    "duration": 1688,
    "start_time": "2024-07-05T10:12:38.890Z"
   },
   {
    "duration": 3,
    "start_time": "2024-07-05T10:12:40.581Z"
   },
   {
    "duration": 76,
    "start_time": "2024-07-05T10:12:40.589Z"
   },
   {
    "duration": 17,
    "start_time": "2024-07-05T10:12:40.668Z"
   },
   {
    "duration": 37,
    "start_time": "2024-07-05T10:12:40.687Z"
   },
   {
    "duration": 37,
    "start_time": "2024-07-05T10:12:40.726Z"
   },
   {
    "duration": 27,
    "start_time": "2024-07-05T10:12:40.764Z"
   },
   {
    "duration": 93,
    "start_time": "2024-07-05T10:12:40.792Z"
   },
   {
    "duration": 47,
    "start_time": "2024-07-05T10:12:40.887Z"
   },
   {
    "duration": 15,
    "start_time": "2024-07-05T10:12:40.937Z"
   },
   {
    "duration": 20,
    "start_time": "2024-07-05T10:12:40.954Z"
   },
   {
    "duration": 5,
    "start_time": "2024-07-05T10:12:40.976Z"
   },
   {
    "duration": 14,
    "start_time": "2024-07-05T10:12:40.983Z"
   },
   {
    "duration": 15,
    "start_time": "2024-07-05T10:12:40.999Z"
   },
   {
    "duration": 26,
    "start_time": "2024-07-05T10:12:41.016Z"
   },
   {
    "duration": 47,
    "start_time": "2024-07-05T10:12:41.044Z"
   },
   {
    "duration": 22,
    "start_time": "2024-07-05T10:12:41.093Z"
   },
   {
    "duration": 8,
    "start_time": "2024-07-05T10:12:41.118Z"
   },
   {
    "duration": 37,
    "start_time": "2024-07-05T10:12:41.128Z"
   },
   {
    "duration": 27,
    "start_time": "2024-07-05T10:12:41.167Z"
   },
   {
    "duration": 15,
    "start_time": "2024-07-05T10:12:41.196Z"
   },
   {
    "duration": 35,
    "start_time": "2024-07-05T10:12:41.212Z"
   },
   {
    "duration": 16,
    "start_time": "2024-07-05T10:12:41.249Z"
   },
   {
    "duration": 23,
    "start_time": "2024-07-05T10:12:41.267Z"
   },
   {
    "duration": 37,
    "start_time": "2024-07-05T10:12:41.291Z"
   },
   {
    "duration": 24,
    "start_time": "2024-07-05T10:12:41.330Z"
   },
   {
    "duration": 14,
    "start_time": "2024-07-05T10:12:41.356Z"
   },
   {
    "duration": 49,
    "start_time": "2024-07-05T10:12:41.374Z"
   },
   {
    "duration": 24,
    "start_time": "2024-07-05T10:12:41.425Z"
   },
   {
    "duration": 56,
    "start_time": "2024-07-05T10:12:41.450Z"
   },
   {
    "duration": 625,
    "start_time": "2024-07-05T10:12:41.508Z"
   },
   {
    "duration": 7,
    "start_time": "2024-07-05T10:12:42.134Z"
   },
   {
    "duration": 79,
    "start_time": "2024-07-05T10:12:42.142Z"
   },
   {
    "duration": 113,
    "start_time": "2024-07-05T10:12:42.222Z"
   },
   {
    "duration": 10,
    "start_time": "2024-07-05T10:12:42.336Z"
   },
   {
    "duration": 32,
    "start_time": "2024-07-05T10:12:42.348Z"
   },
   {
    "duration": 53,
    "start_time": "2024-07-05T10:12:42.382Z"
   },
   {
    "duration": 68,
    "start_time": "2024-07-05T10:12:42.437Z"
   },
   {
    "duration": 17,
    "start_time": "2024-07-05T10:12:42.507Z"
   },
   {
    "duration": 36,
    "start_time": "2024-07-05T10:12:42.525Z"
   },
   {
    "duration": 26,
    "start_time": "2024-07-05T10:12:42.563Z"
   },
   {
    "duration": 58,
    "start_time": "2024-07-05T10:12:42.591Z"
   },
   {
    "duration": 557,
    "start_time": "2024-07-05T10:12:42.650Z"
   },
   {
    "duration": 15,
    "start_time": "2024-07-05T10:12:43.208Z"
   },
   {
    "duration": 29,
    "start_time": "2024-07-05T10:12:43.224Z"
   },
   {
    "duration": 805,
    "start_time": "2024-07-05T10:12:43.255Z"
   },
   {
    "duration": 12,
    "start_time": "2024-07-05T10:12:44.062Z"
   },
   {
    "duration": 51,
    "start_time": "2024-07-05T10:12:44.075Z"
   },
   {
    "duration": 197,
    "start_time": "2024-07-05T10:12:44.128Z"
   },
   {
    "duration": 3,
    "start_time": "2024-07-05T10:12:44.327Z"
   },
   {
    "duration": 8,
    "start_time": "2024-07-05T10:12:44.332Z"
   },
   {
    "duration": 13918,
    "start_time": "2024-07-05T10:12:44.341Z"
   },
   {
    "duration": 55,
    "start_time": "2024-07-05T10:12:58.262Z"
   },
   {
    "duration": 1027,
    "start_time": "2024-07-05T10:12:58.318Z"
   },
   {
    "duration": 12,
    "start_time": "2024-07-05T10:12:59.346Z"
   },
   {
    "duration": 805,
    "start_time": "2024-07-05T10:12:59.359Z"
   },
   {
    "duration": 14,
    "start_time": "2024-07-05T10:13:00.167Z"
   },
   {
    "duration": 569,
    "start_time": "2024-07-05T10:13:00.183Z"
   },
   {
    "duration": 7,
    "start_time": "2024-07-05T10:13:00.754Z"
   },
   {
    "duration": 191,
    "start_time": "2024-07-05T10:13:00.762Z"
   },
   {
    "duration": 90,
    "start_time": "2024-07-05T10:13:00.955Z"
   },
   {
    "duration": 96,
    "start_time": "2024-07-05T10:13:01.047Z"
   },
   {
    "duration": 2340,
    "start_time": "2024-07-05T10:13:01.144Z"
   },
   {
    "duration": 7,
    "start_time": "2024-07-05T10:13:03.485Z"
   },
   {
    "duration": 74,
    "start_time": "2024-07-05T10:13:03.494Z"
   },
   {
    "duration": 47,
    "start_time": "2024-07-05T10:13:03.570Z"
   },
   {
    "duration": 22,
    "start_time": "2024-07-05T10:13:03.618Z"
   },
   {
    "duration": 165,
    "start_time": "2024-07-05T10:13:03.641Z"
   },
   {
    "duration": 11,
    "start_time": "2024-07-05T10:13:03.808Z"
   },
   {
    "duration": 133,
    "start_time": "2024-07-05T10:13:03.820Z"
   },
   {
    "duration": 11,
    "start_time": "2024-07-05T10:13:03.955Z"
   },
   {
    "duration": 111,
    "start_time": "2024-07-05T10:13:03.967Z"
   },
   {
    "duration": 1859,
    "start_time": "2024-07-09T13:03:56.246Z"
   },
   {
    "duration": 3,
    "start_time": "2024-07-09T13:03:58.107Z"
   },
   {
    "duration": 249,
    "start_time": "2024-07-09T13:03:58.112Z"
   },
   {
    "duration": 19,
    "start_time": "2024-07-09T13:03:58.364Z"
   },
   {
    "duration": 16,
    "start_time": "2024-07-09T13:03:58.385Z"
   },
   {
    "duration": 30,
    "start_time": "2024-07-09T13:03:58.402Z"
   },
   {
    "duration": 28,
    "start_time": "2024-07-09T13:03:58.434Z"
   },
   {
    "duration": 35,
    "start_time": "2024-07-09T13:03:58.464Z"
   },
   {
    "duration": 42,
    "start_time": "2024-07-09T13:03:58.500Z"
   },
   {
    "duration": 4,
    "start_time": "2024-07-09T13:03:58.545Z"
   },
   {
    "duration": 19,
    "start_time": "2024-07-09T13:03:58.550Z"
   },
   {
    "duration": 24,
    "start_time": "2024-07-09T13:03:58.570Z"
   },
   {
    "duration": 35,
    "start_time": "2024-07-09T13:03:58.596Z"
   },
   {
    "duration": 20,
    "start_time": "2024-07-09T13:03:58.633Z"
   },
   {
    "duration": 16,
    "start_time": "2024-07-09T13:03:58.654Z"
   },
   {
    "duration": 22,
    "start_time": "2024-07-09T13:03:58.672Z"
   },
   {
    "duration": 24,
    "start_time": "2024-07-09T13:03:58.695Z"
   },
   {
    "duration": 25,
    "start_time": "2024-07-09T13:03:58.721Z"
   },
   {
    "duration": 3,
    "start_time": "2024-07-09T13:03:58.748Z"
   },
   {
    "duration": 24,
    "start_time": "2024-07-09T13:03:58.752Z"
   },
   {
    "duration": 25,
    "start_time": "2024-07-09T13:03:58.778Z"
   },
   {
    "duration": 8,
    "start_time": "2024-07-09T13:03:58.804Z"
   },
   {
    "duration": 19,
    "start_time": "2024-07-09T13:03:58.814Z"
   },
   {
    "duration": 31,
    "start_time": "2024-07-09T13:03:58.835Z"
   },
   {
    "duration": 42,
    "start_time": "2024-07-09T13:03:58.868Z"
   },
   {
    "duration": 47,
    "start_time": "2024-07-09T13:03:58.912Z"
   },
   {
    "duration": 44,
    "start_time": "2024-07-09T13:03:58.960Z"
   },
   {
    "duration": 14,
    "start_time": "2024-07-09T13:03:59.009Z"
   },
   {
    "duration": 543,
    "start_time": "2024-07-09T13:03:59.025Z"
   },
   {
    "duration": 5,
    "start_time": "2024-07-09T13:03:59.570Z"
   },
   {
    "duration": 23,
    "start_time": "2024-07-09T13:03:59.577Z"
   },
   {
    "duration": 110,
    "start_time": "2024-07-09T13:03:59.601Z"
   },
   {
    "duration": 16,
    "start_time": "2024-07-09T13:03:59.713Z"
   },
   {
    "duration": 34,
    "start_time": "2024-07-09T13:03:59.730Z"
   },
   {
    "duration": 44,
    "start_time": "2024-07-09T13:03:59.765Z"
   },
   {
    "duration": 66,
    "start_time": "2024-07-09T13:03:59.811Z"
   },
   {
    "duration": 17,
    "start_time": "2024-07-09T13:03:59.892Z"
   },
   {
    "duration": 14,
    "start_time": "2024-07-09T13:03:59.911Z"
   },
   {
    "duration": 16,
    "start_time": "2024-07-09T13:03:59.927Z"
   },
   {
    "duration": 96,
    "start_time": "2024-07-09T13:03:59.945Z"
   },
   {
    "duration": 576,
    "start_time": "2024-07-09T13:04:00.043Z"
   },
   {
    "duration": 12,
    "start_time": "2024-07-09T13:04:00.621Z"
   },
   {
    "duration": 349,
    "start_time": "2024-07-09T13:04:00.635Z"
   },
   {
    "duration": 1302,
    "start_time": "2024-07-09T13:04:00.986Z"
   },
   {
    "duration": 12,
    "start_time": "2024-07-09T13:04:02.290Z"
   },
   {
    "duration": 152,
    "start_time": "2024-07-09T13:04:02.304Z"
   },
   {
    "duration": 202,
    "start_time": "2024-07-09T13:04:02.458Z"
   },
   {
    "duration": 3,
    "start_time": "2024-07-09T13:04:02.662Z"
   },
   {
    "duration": 26,
    "start_time": "2024-07-09T13:04:02.667Z"
   },
   {
    "duration": 18602,
    "start_time": "2024-07-09T13:04:02.694Z"
   },
   {
    "duration": 27,
    "start_time": "2024-07-09T13:04:21.299Z"
   },
   {
    "duration": 1332,
    "start_time": "2024-07-09T13:04:21.392Z"
   },
   {
    "duration": 72,
    "start_time": "2024-07-09T13:04:22.725Z"
   },
   {
    "duration": 1526,
    "start_time": "2024-07-09T13:04:22.799Z"
   },
   {
    "duration": 67,
    "start_time": "2024-07-09T13:04:24.326Z"
   },
   {
    "duration": 706,
    "start_time": "2024-07-09T13:04:24.394Z"
   },
   {
    "duration": 6,
    "start_time": "2024-07-09T13:04:25.102Z"
   },
   {
    "duration": 106,
    "start_time": "2024-07-09T13:04:25.109Z"
   },
   {
    "duration": 111,
    "start_time": "2024-07-09T13:04:25.217Z"
   },
   {
    "duration": 72,
    "start_time": "2024-07-09T13:04:25.330Z"
   },
   {
    "duration": 4459,
    "start_time": "2024-07-09T13:04:25.404Z"
   },
   {
    "duration": 5,
    "start_time": "2024-07-09T13:04:29.865Z"
   },
   {
    "duration": 53,
    "start_time": "2024-07-09T13:04:29.872Z"
   },
   {
    "duration": 31,
    "start_time": "2024-07-09T13:04:29.927Z"
   },
   {
    "duration": 24,
    "start_time": "2024-07-09T13:04:29.960Z"
   },
   {
    "duration": 157,
    "start_time": "2024-07-09T13:04:29.986Z"
   },
   {
    "duration": 14,
    "start_time": "2024-07-09T13:04:30.145Z"
   },
   {
    "duration": 235,
    "start_time": "2024-07-09T13:04:30.161Z"
   },
   {
    "duration": 13,
    "start_time": "2024-07-09T13:04:30.398Z"
   },
   {
    "duration": 204,
    "start_time": "2024-07-09T13:04:30.413Z"
   },
   {
    "duration": 51,
    "start_time": "2024-07-09T13:06:11.146Z"
   },
   {
    "duration": 48,
    "start_time": "2024-07-09T13:08:01.769Z"
   },
   {
    "duration": 46,
    "start_time": "2024-07-09T13:08:14.640Z"
   },
   {
    "duration": 47,
    "start_time": "2024-07-09T13:10:28.806Z"
   },
   {
    "duration": 53,
    "start_time": "2024-07-09T13:10:49.827Z"
   },
   {
    "duration": 46,
    "start_time": "2024-07-09T13:11:12.637Z"
   },
   {
    "duration": 45,
    "start_time": "2024-07-09T13:12:21.430Z"
   },
   {
    "duration": 43,
    "start_time": "2024-07-09T13:12:42.660Z"
   },
   {
    "duration": 47,
    "start_time": "2024-07-09T13:13:08.273Z"
   },
   {
    "duration": 49,
    "start_time": "2024-07-09T13:18:49.489Z"
   },
   {
    "duration": 48,
    "start_time": "2024-07-09T13:19:58.063Z"
   },
   {
    "duration": 55,
    "start_time": "2024-07-09T13:20:16.471Z"
   },
   {
    "duration": 44,
    "start_time": "2024-07-09T13:20:30.255Z"
   },
   {
    "duration": 175,
    "start_time": "2024-07-09T13:21:46.427Z"
   },
   {
    "duration": 61,
    "start_time": "2024-07-09T13:22:05.010Z"
   },
   {
    "duration": 46,
    "start_time": "2024-07-09T13:23:23.803Z"
   },
   {
    "duration": 47,
    "start_time": "2024-07-09T13:50:30.207Z"
   },
   {
    "duration": 694,
    "start_time": "2024-07-09T13:50:49.566Z"
   },
   {
    "duration": 20,
    "start_time": "2024-07-09T13:52:25.911Z"
   },
   {
    "duration": 22,
    "start_time": "2024-07-09T13:52:38.896Z"
   },
   {
    "duration": 20,
    "start_time": "2024-07-09T13:52:50.317Z"
   },
   {
    "duration": 987,
    "start_time": "2024-07-09T13:53:43.374Z"
   },
   {
    "duration": 26,
    "start_time": "2024-07-09T14:05:24.537Z"
   },
   {
    "duration": 33,
    "start_time": "2024-07-09T14:06:08.327Z"
   },
   {
    "duration": 23,
    "start_time": "2024-07-09T14:06:46.825Z"
   },
   {
    "duration": 26,
    "start_time": "2024-07-09T14:08:09.510Z"
   },
   {
    "duration": 40,
    "start_time": "2024-07-09T14:08:20.515Z"
   },
   {
    "duration": 22,
    "start_time": "2024-07-09T14:12:05.839Z"
   },
   {
    "duration": 29,
    "start_time": "2024-07-09T14:12:10.184Z"
   },
   {
    "duration": 19,
    "start_time": "2024-07-09T14:12:22.048Z"
   },
   {
    "duration": 32,
    "start_time": "2024-07-09T14:21:19.817Z"
   },
   {
    "duration": 23,
    "start_time": "2024-07-09T14:21:37.921Z"
   },
   {
    "duration": 20,
    "start_time": "2024-07-09T14:22:03.841Z"
   },
   {
    "duration": 26,
    "start_time": "2024-07-09T14:26:08.172Z"
   },
   {
    "duration": 26,
    "start_time": "2024-07-09T14:26:25.992Z"
   },
   {
    "duration": 25,
    "start_time": "2024-07-09T14:26:41.149Z"
   },
   {
    "duration": 24,
    "start_time": "2024-07-09T14:30:21.347Z"
   },
   {
    "duration": 20,
    "start_time": "2024-07-09T14:30:43.771Z"
   },
   {
    "duration": 55,
    "start_time": "2024-07-09T14:31:39.925Z"
   },
   {
    "duration": 515,
    "start_time": "2024-07-09T14:31:48.481Z"
   },
   {
    "duration": 52,
    "start_time": "2024-07-09T14:33:40.029Z"
   },
   {
    "duration": 21,
    "start_time": "2024-07-09T14:33:51.752Z"
   },
   {
    "duration": 39,
    "start_time": "2024-07-09T14:34:14.908Z"
   },
   {
    "duration": 25,
    "start_time": "2024-07-09T14:34:26.855Z"
   },
   {
    "duration": 22,
    "start_time": "2024-07-09T14:35:36.070Z"
   },
   {
    "duration": 16,
    "start_time": "2024-07-09T14:35:50.049Z"
   },
   {
    "duration": 17,
    "start_time": "2024-07-09T14:35:55.969Z"
   },
   {
    "duration": 5,
    "start_time": "2024-07-09T14:36:07.989Z"
   },
   {
    "duration": 12,
    "start_time": "2024-07-09T14:36:07.996Z"
   },
   {
    "duration": 75,
    "start_time": "2024-07-09T14:36:08.011Z"
   },
   {
    "duration": 21,
    "start_time": "2024-07-09T14:36:08.088Z"
   },
   {
    "duration": 21,
    "start_time": "2024-07-09T14:36:08.111Z"
   },
   {
    "duration": 31,
    "start_time": "2024-07-09T14:36:08.134Z"
   },
   {
    "duration": 49,
    "start_time": "2024-07-09T14:36:08.167Z"
   },
   {
    "duration": 19,
    "start_time": "2024-07-09T14:36:08.218Z"
   },
   {
    "duration": 60,
    "start_time": "2024-07-09T14:36:08.238Z"
   },
   {
    "duration": 4,
    "start_time": "2024-07-09T14:36:08.299Z"
   },
   {
    "duration": 11,
    "start_time": "2024-07-09T14:36:08.306Z"
   },
   {
    "duration": 13,
    "start_time": "2024-07-09T14:36:08.318Z"
   },
   {
    "duration": 21,
    "start_time": "2024-07-09T14:36:08.332Z"
   },
   {
    "duration": 21,
    "start_time": "2024-07-09T14:36:08.391Z"
   },
   {
    "duration": 18,
    "start_time": "2024-07-09T14:36:08.414Z"
   },
   {
    "duration": 43,
    "start_time": "2024-07-09T14:36:08.434Z"
   },
   {
    "duration": 27,
    "start_time": "2024-07-09T14:36:08.478Z"
   },
   {
    "duration": 9,
    "start_time": "2024-07-09T14:36:08.506Z"
   },
   {
    "duration": 5,
    "start_time": "2024-07-09T14:36:08.516Z"
   },
   {
    "duration": 19,
    "start_time": "2024-07-09T14:36:08.522Z"
   },
   {
    "duration": 10,
    "start_time": "2024-07-09T14:36:08.542Z"
   },
   {
    "duration": 17,
    "start_time": "2024-07-09T14:36:08.553Z"
   },
   {
    "duration": 27,
    "start_time": "2024-07-09T14:36:08.571Z"
   },
   {
    "duration": 15,
    "start_time": "2024-07-09T14:36:08.599Z"
   },
   {
    "duration": 14,
    "start_time": "2024-07-09T14:36:08.615Z"
   },
   {
    "duration": 32,
    "start_time": "2024-07-09T14:36:08.631Z"
   },
   {
    "duration": 26,
    "start_time": "2024-07-09T14:36:08.692Z"
   },
   {
    "duration": 13,
    "start_time": "2024-07-09T14:36:08.720Z"
   },
   {
    "duration": 74,
    "start_time": "2024-07-09T14:36:08.738Z"
   },
   {
    "duration": 6,
    "start_time": "2024-07-09T14:36:08.813Z"
   },
   {
    "duration": 16,
    "start_time": "2024-07-09T14:36:08.821Z"
   },
   {
    "duration": 74,
    "start_time": "2024-07-09T14:36:08.838Z"
   },
   {
    "duration": 10,
    "start_time": "2024-07-09T14:36:08.913Z"
   },
   {
    "duration": 11,
    "start_time": "2024-07-09T14:36:08.925Z"
   },
   {
    "duration": 25,
    "start_time": "2024-07-09T14:36:08.937Z"
   },
   {
    "duration": 71,
    "start_time": "2024-07-09T14:36:08.964Z"
   },
   {
    "duration": 17,
    "start_time": "2024-07-09T14:36:09.037Z"
   },
   {
    "duration": 9,
    "start_time": "2024-07-09T14:36:09.056Z"
   },
   {
    "duration": 11,
    "start_time": "2024-07-09T14:36:09.091Z"
   },
   {
    "duration": 51,
    "start_time": "2024-07-09T14:36:09.104Z"
   },
   {
    "duration": 40,
    "start_time": "2024-07-09T14:36:09.156Z"
   },
   {
    "duration": 0,
    "start_time": "2024-07-09T14:36:09.197Z"
   },
   {
    "duration": 0,
    "start_time": "2024-07-09T14:36:09.198Z"
   },
   {
    "duration": 0,
    "start_time": "2024-07-09T14:36:09.199Z"
   },
   {
    "duration": 0,
    "start_time": "2024-07-09T14:36:09.200Z"
   },
   {
    "duration": 0,
    "start_time": "2024-07-09T14:36:09.202Z"
   },
   {
    "duration": 0,
    "start_time": "2024-07-09T14:36:09.203Z"
   },
   {
    "duration": 0,
    "start_time": "2024-07-09T14:36:09.204Z"
   },
   {
    "duration": 0,
    "start_time": "2024-07-09T14:36:09.205Z"
   },
   {
    "duration": 0,
    "start_time": "2024-07-09T14:36:09.206Z"
   },
   {
    "duration": 0,
    "start_time": "2024-07-09T14:36:09.207Z"
   },
   {
    "duration": 0,
    "start_time": "2024-07-09T14:36:09.208Z"
   },
   {
    "duration": 0,
    "start_time": "2024-07-09T14:36:09.209Z"
   },
   {
    "duration": 0,
    "start_time": "2024-07-09T14:36:09.210Z"
   },
   {
    "duration": 0,
    "start_time": "2024-07-09T14:36:09.211Z"
   },
   {
    "duration": 0,
    "start_time": "2024-07-09T14:36:09.212Z"
   },
   {
    "duration": 0,
    "start_time": "2024-07-09T14:36:09.213Z"
   },
   {
    "duration": 0,
    "start_time": "2024-07-09T14:36:09.214Z"
   },
   {
    "duration": 0,
    "start_time": "2024-07-09T14:36:09.215Z"
   },
   {
    "duration": 0,
    "start_time": "2024-07-09T14:36:09.216Z"
   },
   {
    "duration": 0,
    "start_time": "2024-07-09T14:36:09.217Z"
   },
   {
    "duration": 0,
    "start_time": "2024-07-09T14:36:09.218Z"
   },
   {
    "duration": 0,
    "start_time": "2024-07-09T14:36:09.220Z"
   },
   {
    "duration": 0,
    "start_time": "2024-07-09T14:36:09.221Z"
   },
   {
    "duration": 0,
    "start_time": "2024-07-09T14:36:09.222Z"
   },
   {
    "duration": 0,
    "start_time": "2024-07-09T14:36:09.223Z"
   },
   {
    "duration": 0,
    "start_time": "2024-07-09T14:36:09.224Z"
   },
   {
    "duration": 0,
    "start_time": "2024-07-09T14:36:09.225Z"
   },
   {
    "duration": 0,
    "start_time": "2024-07-09T14:36:09.226Z"
   },
   {
    "duration": 0,
    "start_time": "2024-07-09T14:36:09.227Z"
   },
   {
    "duration": 0,
    "start_time": "2024-07-09T14:36:09.228Z"
   },
   {
    "duration": 21,
    "start_time": "2024-07-09T14:36:27.400Z"
   },
   {
    "duration": 550,
    "start_time": "2024-07-09T14:37:21.821Z"
   },
   {
    "duration": 12,
    "start_time": "2024-07-09T14:37:26.034Z"
   },
   {
    "duration": 23,
    "start_time": "2024-07-09T14:37:26.048Z"
   },
   {
    "duration": 823,
    "start_time": "2024-07-09T14:37:26.072Z"
   },
   {
    "duration": 14,
    "start_time": "2024-07-09T14:37:26.898Z"
   },
   {
    "duration": 36,
    "start_time": "2024-07-09T14:37:26.914Z"
   },
   {
    "duration": 106,
    "start_time": "2024-07-09T14:37:26.951Z"
   },
   {
    "duration": 4,
    "start_time": "2024-07-09T14:37:27.063Z"
   },
   {
    "duration": 9,
    "start_time": "2024-07-09T14:37:27.069Z"
   },
   {
    "duration": 15384,
    "start_time": "2024-07-09T14:37:27.093Z"
   },
   {
    "duration": 32,
    "start_time": "2024-07-09T14:37:42.478Z"
   },
   {
    "duration": 912,
    "start_time": "2024-07-09T14:37:42.512Z"
   },
   {
    "duration": 18,
    "start_time": "2024-07-09T14:37:43.426Z"
   },
   {
    "duration": 832,
    "start_time": "2024-07-09T14:37:43.446Z"
   },
   {
    "duration": 17,
    "start_time": "2024-07-09T14:37:44.280Z"
   },
   {
    "duration": 44,
    "start_time": "2024-07-09T14:37:44.299Z"
   },
   {
    "duration": 7,
    "start_time": "2024-07-09T14:37:44.344Z"
   },
   {
    "duration": 40,
    "start_time": "2024-07-09T14:37:44.353Z"
   },
   {
    "duration": 50,
    "start_time": "2024-07-09T14:37:44.395Z"
   },
   {
    "duration": 29,
    "start_time": "2024-07-09T14:37:44.447Z"
   },
   {
    "duration": 3187,
    "start_time": "2024-07-09T14:37:44.477Z"
   },
   {
    "duration": 5,
    "start_time": "2024-07-09T14:37:47.665Z"
   },
   {
    "duration": 58,
    "start_time": "2024-07-09T14:37:47.672Z"
   },
   {
    "duration": 38,
    "start_time": "2024-07-09T14:37:47.732Z"
   },
   {
    "duration": 12,
    "start_time": "2024-07-09T14:37:47.773Z"
   },
   {
    "duration": 143,
    "start_time": "2024-07-09T14:37:47.786Z"
   },
   {
    "duration": 14,
    "start_time": "2024-07-09T14:37:47.931Z"
   },
   {
    "duration": 154,
    "start_time": "2024-07-09T14:37:47.947Z"
   },
   {
    "duration": 12,
    "start_time": "2024-07-09T14:37:48.103Z"
   },
   {
    "duration": 123,
    "start_time": "2024-07-09T14:37:48.117Z"
   },
   {
    "duration": 38,
    "start_time": "2024-07-09T14:48:44.692Z"
   },
   {
    "duration": 532,
    "start_time": "2024-07-09T14:48:58.747Z"
   },
   {
    "duration": 13,
    "start_time": "2024-07-09T14:49:26.901Z"
   },
   {
    "duration": 11,
    "start_time": "2024-07-09T14:52:32.892Z"
   },
   {
    "duration": 65,
    "start_time": "2024-07-09T15:09:10.573Z"
   },
   {
    "duration": 55,
    "start_time": "2024-07-09T15:10:00.991Z"
   },
   {
    "duration": 554,
    "start_time": "2024-07-09T15:13:46.161Z"
   },
   {
    "duration": 23,
    "start_time": "2024-07-09T15:14:40.927Z"
   },
   {
    "duration": 53,
    "start_time": "2024-07-09T15:16:28.595Z"
   },
   {
    "duration": 56,
    "start_time": "2024-07-09T15:20:09.774Z"
   },
   {
    "duration": 45,
    "start_time": "2024-07-09T15:24:54.895Z"
   },
   {
    "duration": 49,
    "start_time": "2024-07-09T15:25:56.316Z"
   },
   {
    "duration": 242,
    "start_time": "2024-07-09T15:29:46.742Z"
   },
   {
    "duration": 215,
    "start_time": "2024-07-09T15:30:17.076Z"
   },
   {
    "duration": 134,
    "start_time": "2024-07-09T15:30:22.847Z"
   },
   {
    "duration": 214,
    "start_time": "2024-07-09T15:30:34.594Z"
   },
   {
    "duration": 22,
    "start_time": "2024-07-09T15:32:33.339Z"
   },
   {
    "duration": 88,
    "start_time": "2024-07-09T15:32:55.790Z"
   },
   {
    "duration": 89,
    "start_time": "2024-07-09T15:33:41.954Z"
   },
   {
    "duration": 13,
    "start_time": "2024-07-09T15:34:07.561Z"
   },
   {
    "duration": 131,
    "start_time": "2024-07-09T15:34:09.936Z"
   },
   {
    "duration": 124,
    "start_time": "2024-07-09T15:34:21.185Z"
   },
   {
    "duration": 85,
    "start_time": "2024-07-09T15:36:01.611Z"
   },
   {
    "duration": 88,
    "start_time": "2024-07-09T15:36:11.550Z"
   },
   {
    "duration": 84,
    "start_time": "2024-07-09T15:36:25.595Z"
   },
   {
    "duration": 91,
    "start_time": "2024-07-09T15:36:38.786Z"
   },
   {
    "duration": 122,
    "start_time": "2024-07-09T15:36:51.275Z"
   },
   {
    "duration": 94,
    "start_time": "2024-07-09T15:37:01.421Z"
   },
   {
    "duration": 85,
    "start_time": "2024-07-09T15:37:16.107Z"
   },
   {
    "duration": 88,
    "start_time": "2024-07-09T15:37:30.547Z"
   },
   {
    "duration": 98,
    "start_time": "2024-07-09T15:37:55.016Z"
   },
   {
    "duration": 97,
    "start_time": "2024-07-09T15:45:53.974Z"
   },
   {
    "duration": 67,
    "start_time": "2024-07-09T15:46:05.282Z"
   },
   {
    "duration": 87,
    "start_time": "2024-07-09T15:46:13.304Z"
   },
   {
    "duration": 28,
    "start_time": "2024-07-10T09:29:20.064Z"
   },
   {
    "duration": 96,
    "start_time": "2024-07-10T09:29:42.140Z"
   },
   {
    "duration": 94,
    "start_time": "2024-07-10T09:29:55.743Z"
   },
   {
    "duration": 90,
    "start_time": "2024-07-10T09:30:24.811Z"
   },
   {
    "duration": 87,
    "start_time": "2024-07-10T09:30:59.065Z"
   },
   {
    "duration": 21,
    "start_time": "2024-07-10T10:48:44.223Z"
   },
   {
    "duration": 18,
    "start_time": "2024-07-10T10:49:34.417Z"
   },
   {
    "duration": 12,
    "start_time": "2024-07-10T10:49:55.006Z"
   },
   {
    "duration": 20,
    "start_time": "2024-07-10T10:50:43.266Z"
   },
   {
    "duration": 19,
    "start_time": "2024-07-10T10:51:15.775Z"
   },
   {
    "duration": 14,
    "start_time": "2024-07-10T10:52:57.108Z"
   },
   {
    "duration": 10,
    "start_time": "2024-07-10T10:53:41.007Z"
   },
   {
    "duration": 6,
    "start_time": "2024-07-10T10:54:08.001Z"
   },
   {
    "duration": 13,
    "start_time": "2024-07-10T10:54:36.040Z"
   },
   {
    "duration": 11,
    "start_time": "2024-07-10T10:54:44.859Z"
   },
   {
    "duration": 12,
    "start_time": "2024-07-10T10:54:45.765Z"
   },
   {
    "duration": 17,
    "start_time": "2024-07-10T10:54:56.776Z"
   },
   {
    "duration": 10,
    "start_time": "2024-07-10T10:54:59.300Z"
   },
   {
    "duration": 10,
    "start_time": "2024-07-10T10:55:02.072Z"
   },
   {
    "duration": 17,
    "start_time": "2024-07-10T10:55:23.902Z"
   },
   {
    "duration": 18,
    "start_time": "2024-07-10T10:56:08.676Z"
   },
   {
    "duration": 23,
    "start_time": "2024-07-10T10:56:58.236Z"
   },
   {
    "duration": 16,
    "start_time": "2024-07-10T10:57:05.702Z"
   },
   {
    "duration": 249,
    "start_time": "2024-07-10T10:57:20.543Z"
   },
   {
    "duration": 18,
    "start_time": "2024-07-10T10:57:30.152Z"
   },
   {
    "duration": 746,
    "start_time": "2024-07-10T11:04:31.032Z"
   },
   {
    "duration": 11,
    "start_time": "2024-07-10T11:05:58.818Z"
   },
   {
    "duration": 20,
    "start_time": "2024-07-10T11:07:13.785Z"
   },
   {
    "duration": 13,
    "start_time": "2024-07-10T11:07:22.569Z"
   },
   {
    "duration": 14,
    "start_time": "2024-07-10T11:07:37.198Z"
   },
   {
    "duration": 13,
    "start_time": "2024-07-10T11:07:45.589Z"
   },
   {
    "duration": 13,
    "start_time": "2024-07-10T11:07:49.565Z"
   },
   {
    "duration": 16,
    "start_time": "2024-07-10T11:08:11.981Z"
   },
   {
    "duration": 20,
    "start_time": "2024-07-10T11:08:19.959Z"
   },
   {
    "duration": 12,
    "start_time": "2024-07-10T11:08:36.252Z"
   },
   {
    "duration": 12,
    "start_time": "2024-07-10T11:09:22.015Z"
   },
   {
    "duration": 92,
    "start_time": "2024-07-10T11:09:31.514Z"
   },
   {
    "duration": 111,
    "start_time": "2024-07-10T11:09:41.715Z"
   },
   {
    "duration": 101,
    "start_time": "2024-07-10T11:09:45.432Z"
   },
   {
    "duration": 109,
    "start_time": "2024-07-10T11:11:55.649Z"
   },
   {
    "duration": 98,
    "start_time": "2024-07-10T11:12:12.607Z"
   },
   {
    "duration": 105,
    "start_time": "2024-07-10T11:12:58.401Z"
   },
   {
    "duration": 105,
    "start_time": "2024-07-10T11:13:17.879Z"
   },
   {
    "duration": 117,
    "start_time": "2024-07-10T11:13:30.000Z"
   },
   {
    "duration": 96,
    "start_time": "2024-07-10T11:13:35.403Z"
   },
   {
    "duration": 100,
    "start_time": "2024-07-10T11:14:41.366Z"
   },
   {
    "duration": 100,
    "start_time": "2024-07-10T11:14:58.380Z"
   },
   {
    "duration": 48,
    "start_time": "2024-07-10T11:16:40.593Z"
   },
   {
    "duration": 106,
    "start_time": "2024-07-10T11:17:01.011Z"
   },
   {
    "duration": 103,
    "start_time": "2024-07-10T11:17:13.348Z"
   },
   {
    "duration": 112,
    "start_time": "2024-07-10T11:21:41.666Z"
   },
   {
    "duration": 117,
    "start_time": "2024-07-10T11:21:51.543Z"
   },
   {
    "duration": 52,
    "start_time": "2024-07-10T11:23:18.337Z"
   },
   {
    "duration": 759,
    "start_time": "2024-07-10T11:23:34.988Z"
   },
   {
    "duration": 116,
    "start_time": "2024-07-10T11:23:52.762Z"
   },
   {
    "duration": 17,
    "start_time": "2024-07-10T12:33:14.299Z"
   },
   {
    "duration": 17,
    "start_time": "2024-07-10T12:44:25.337Z"
   },
   {
    "duration": 104,
    "start_time": "2024-07-10T12:51:40.589Z"
   },
   {
    "duration": 108,
    "start_time": "2024-07-10T12:51:49.514Z"
   },
   {
    "duration": 100,
    "start_time": "2024-07-10T12:52:27.155Z"
   },
   {
    "duration": 102,
    "start_time": "2024-07-10T12:52:50.442Z"
   },
   {
    "duration": 104,
    "start_time": "2024-07-10T12:59:15.091Z"
   },
   {
    "duration": 58,
    "start_time": "2024-07-10T13:00:05.944Z"
   },
   {
    "duration": 120,
    "start_time": "2024-07-10T13:00:13.705Z"
   },
   {
    "duration": 45,
    "start_time": "2024-07-10T13:02:01.919Z"
   },
   {
    "duration": 109,
    "start_time": "2024-07-10T13:02:22.668Z"
   },
   {
    "duration": 112,
    "start_time": "2024-07-10T13:02:35.379Z"
   },
   {
    "duration": 105,
    "start_time": "2024-07-10T13:03:41.025Z"
   },
   {
    "duration": 12,
    "start_time": "2024-07-10T13:03:54.187Z"
   },
   {
    "duration": 108,
    "start_time": "2024-07-10T13:04:01.022Z"
   },
   {
    "duration": 114,
    "start_time": "2024-07-10T13:09:06.817Z"
   },
   {
    "duration": 1565,
    "start_time": "2024-07-11T12:07:26.233Z"
   },
   {
    "duration": 2,
    "start_time": "2024-07-11T12:07:27.800Z"
   },
   {
    "duration": 232,
    "start_time": "2024-07-11T12:07:27.803Z"
   },
   {
    "duration": 17,
    "start_time": "2024-07-11T12:07:28.037Z"
   },
   {
    "duration": 15,
    "start_time": "2024-07-11T12:07:28.055Z"
   },
   {
    "duration": 34,
    "start_time": "2024-07-11T12:07:28.072Z"
   },
   {
    "duration": 26,
    "start_time": "2024-07-11T12:07:28.107Z"
   },
   {
    "duration": 19,
    "start_time": "2024-07-11T12:07:28.134Z"
   },
   {
    "duration": 51,
    "start_time": "2024-07-11T12:07:28.155Z"
   },
   {
    "duration": 26,
    "start_time": "2024-07-11T12:07:28.208Z"
   },
   {
    "duration": 53,
    "start_time": "2024-07-11T12:07:28.235Z"
   },
   {
    "duration": 15,
    "start_time": "2024-07-11T12:07:28.289Z"
   },
   {
    "duration": 19,
    "start_time": "2024-07-11T12:07:28.306Z"
   },
   {
    "duration": 18,
    "start_time": "2024-07-11T12:07:28.327Z"
   },
   {
    "duration": 14,
    "start_time": "2024-07-11T12:07:28.346Z"
   },
   {
    "duration": 6,
    "start_time": "2024-07-11T12:07:28.381Z"
   },
   {
    "duration": 15,
    "start_time": "2024-07-11T12:07:28.389Z"
   },
   {
    "duration": 6,
    "start_time": "2024-07-11T12:07:28.405Z"
   },
   {
    "duration": 3,
    "start_time": "2024-07-11T12:07:28.412Z"
   },
   {
    "duration": 16,
    "start_time": "2024-07-11T12:07:28.416Z"
   },
   {
    "duration": 10,
    "start_time": "2024-07-11T12:07:28.433Z"
   },
   {
    "duration": 5,
    "start_time": "2024-07-11T12:07:28.444Z"
   },
   {
    "duration": 37,
    "start_time": "2024-07-11T12:07:28.450Z"
   },
   {
    "duration": 13,
    "start_time": "2024-07-11T12:07:28.488Z"
   },
   {
    "duration": 12,
    "start_time": "2024-07-11T12:07:28.502Z"
   },
   {
    "duration": 30,
    "start_time": "2024-07-11T12:07:28.516Z"
   },
   {
    "duration": 43,
    "start_time": "2024-07-11T12:07:28.548Z"
   },
   {
    "duration": 12,
    "start_time": "2024-07-11T12:07:28.595Z"
   },
   {
    "duration": 517,
    "start_time": "2024-07-11T12:07:28.608Z"
   },
   {
    "duration": 5,
    "start_time": "2024-07-11T12:07:29.127Z"
   },
   {
    "duration": 101,
    "start_time": "2024-07-11T12:07:29.134Z"
   },
   {
    "duration": 52,
    "start_time": "2024-07-11T12:07:29.237Z"
   },
   {
    "duration": 9,
    "start_time": "2024-07-11T12:07:29.290Z"
   },
   {
    "duration": 65,
    "start_time": "2024-07-11T12:07:29.300Z"
   },
   {
    "duration": 22,
    "start_time": "2024-07-11T12:07:29.366Z"
   },
   {
    "duration": 42,
    "start_time": "2024-07-11T12:07:29.390Z"
   },
   {
    "duration": 16,
    "start_time": "2024-07-11T12:07:29.433Z"
   },
   {
    "duration": 8,
    "start_time": "2024-07-11T12:07:29.451Z"
   },
   {
    "duration": 110,
    "start_time": "2024-07-11T12:07:29.460Z"
   },
   {
    "duration": 19,
    "start_time": "2024-07-11T12:07:29.571Z"
   },
   {
    "duration": 43,
    "start_time": "2024-07-11T12:07:29.591Z"
   },
   {
    "duration": 11,
    "start_time": "2024-07-11T12:07:29.636Z"
   },
   {
    "duration": 483,
    "start_time": "2024-07-11T12:07:29.648Z"
   },
   {
    "duration": 11,
    "start_time": "2024-07-11T12:07:30.132Z"
   },
   {
    "duration": 38,
    "start_time": "2024-07-11T12:07:30.144Z"
   },
   {
    "duration": 870,
    "start_time": "2024-07-11T12:07:30.183Z"
   },
   {
    "duration": 11,
    "start_time": "2024-07-11T12:07:31.054Z"
   },
   {
    "duration": 151,
    "start_time": "2024-07-11T12:07:31.067Z"
   },
   {
    "duration": 182,
    "start_time": "2024-07-11T12:07:31.219Z"
   },
   {
    "duration": 3,
    "start_time": "2024-07-11T12:07:31.402Z"
   },
   {
    "duration": 22,
    "start_time": "2024-07-11T12:07:31.406Z"
   },
   {
    "duration": 12839,
    "start_time": "2024-07-11T12:07:31.429Z"
   },
   {
    "duration": 17,
    "start_time": "2024-07-11T12:07:44.281Z"
   },
   {
    "duration": 792,
    "start_time": "2024-07-11T12:07:44.299Z"
   },
   {
    "duration": 12,
    "start_time": "2024-07-11T12:07:45.092Z"
   },
   {
    "duration": 718,
    "start_time": "2024-07-11T12:07:45.105Z"
   },
   {
    "duration": 12,
    "start_time": "2024-07-11T12:07:45.824Z"
   },
   {
    "duration": 54,
    "start_time": "2024-07-11T12:07:45.837Z"
   },
   {
    "duration": 6,
    "start_time": "2024-07-11T12:07:45.893Z"
   },
   {
    "duration": 52,
    "start_time": "2024-07-11T12:07:45.900Z"
   },
   {
    "duration": 131,
    "start_time": "2024-07-11T12:07:45.954Z"
   },
   {
    "duration": 15,
    "start_time": "2024-07-11T12:07:46.086Z"
   },
   {
    "duration": 106,
    "start_time": "2024-07-11T12:07:46.102Z"
   },
   {
    "duration": 3,
    "start_time": "2024-07-11T12:07:46.210Z"
   },
   {
    "duration": 78,
    "start_time": "2024-07-11T12:07:46.215Z"
   },
   {
    "duration": 9,
    "start_time": "2024-07-11T12:07:46.294Z"
   },
   {
    "duration": 23,
    "start_time": "2024-07-11T12:07:46.305Z"
   },
   {
    "duration": 262,
    "start_time": "2024-07-11T12:07:46.330Z"
   },
   {
    "duration": 10,
    "start_time": "2024-07-11T12:07:46.594Z"
   },
   {
    "duration": 100,
    "start_time": "2024-07-11T12:07:46.605Z"
   },
   {
    "duration": 10,
    "start_time": "2024-07-11T12:07:46.707Z"
   },
   {
    "duration": 96,
    "start_time": "2024-07-11T12:07:46.718Z"
   },
   {
    "duration": 1438,
    "start_time": "2024-07-11T12:24:54.375Z"
   },
   {
    "duration": 2,
    "start_time": "2024-07-11T12:24:55.814Z"
   },
   {
    "duration": 78,
    "start_time": "2024-07-11T12:24:55.818Z"
   },
   {
    "duration": 15,
    "start_time": "2024-07-11T12:24:55.898Z"
   },
   {
    "duration": 13,
    "start_time": "2024-07-11T12:24:55.915Z"
   },
   {
    "duration": 24,
    "start_time": "2024-07-11T12:24:55.930Z"
   },
   {
    "duration": 35,
    "start_time": "2024-07-11T12:24:55.955Z"
   },
   {
    "duration": 22,
    "start_time": "2024-07-11T12:24:55.991Z"
   },
   {
    "duration": 67,
    "start_time": "2024-07-11T12:24:56.014Z"
   },
   {
    "duration": 4,
    "start_time": "2024-07-11T12:24:56.082Z"
   },
   {
    "duration": 9,
    "start_time": "2024-07-11T12:24:56.087Z"
   },
   {
    "duration": 10,
    "start_time": "2024-07-11T12:24:56.098Z"
   },
   {
    "duration": 16,
    "start_time": "2024-07-11T12:24:56.109Z"
   },
   {
    "duration": 17,
    "start_time": "2024-07-11T12:24:56.127Z"
   },
   {
    "duration": 46,
    "start_time": "2024-07-11T12:24:56.145Z"
   },
   {
    "duration": 5,
    "start_time": "2024-07-11T12:24:56.192Z"
   },
   {
    "duration": 17,
    "start_time": "2024-07-11T12:24:56.199Z"
   },
   {
    "duration": 5,
    "start_time": "2024-07-11T12:24:56.217Z"
   },
   {
    "duration": 4,
    "start_time": "2024-07-11T12:24:56.223Z"
   },
   {
    "duration": 14,
    "start_time": "2024-07-11T12:24:56.228Z"
   },
   {
    "duration": 7,
    "start_time": "2024-07-11T12:24:56.243Z"
   },
   {
    "duration": 32,
    "start_time": "2024-07-11T12:24:56.251Z"
   },
   {
    "duration": 22,
    "start_time": "2024-07-11T12:24:56.284Z"
   },
   {
    "duration": 54,
    "start_time": "2024-07-11T12:24:56.307Z"
   },
   {
    "duration": 51,
    "start_time": "2024-07-11T12:24:56.362Z"
   },
   {
    "duration": 26,
    "start_time": "2024-07-11T12:24:56.414Z"
   },
   {
    "duration": 22,
    "start_time": "2024-07-11T12:24:56.441Z"
   },
   {
    "duration": 10,
    "start_time": "2024-07-11T12:24:56.465Z"
   },
   {
    "duration": 492,
    "start_time": "2024-07-11T12:24:56.477Z"
   },
   {
    "duration": 5,
    "start_time": "2024-07-11T12:24:56.971Z"
   },
   {
    "duration": 72,
    "start_time": "2024-07-11T12:24:56.977Z"
   },
   {
    "duration": 49,
    "start_time": "2024-07-11T12:24:57.050Z"
   },
   {
    "duration": 9,
    "start_time": "2024-07-11T12:24:57.100Z"
   },
   {
    "duration": 26,
    "start_time": "2024-07-11T12:24:57.111Z"
   },
   {
    "duration": 33,
    "start_time": "2024-07-11T12:24:57.138Z"
   },
   {
    "duration": 46,
    "start_time": "2024-07-11T12:24:57.172Z"
   },
   {
    "duration": 13,
    "start_time": "2024-07-11T12:24:57.219Z"
   },
   {
    "duration": 8,
    "start_time": "2024-07-11T12:24:57.234Z"
   },
   {
    "duration": 114,
    "start_time": "2024-07-11T12:24:57.244Z"
   },
   {
    "duration": 10,
    "start_time": "2024-07-11T12:24:57.359Z"
   },
   {
    "duration": 87,
    "start_time": "2024-07-11T12:24:57.384Z"
   },
   {
    "duration": 12,
    "start_time": "2024-07-11T12:24:57.472Z"
   },
   {
    "duration": 451,
    "start_time": "2024-07-11T12:24:57.485Z"
   },
   {
    "duration": 10,
    "start_time": "2024-07-11T12:24:57.937Z"
   },
   {
    "duration": 18,
    "start_time": "2024-07-11T12:24:57.949Z"
   },
   {
    "duration": 714,
    "start_time": "2024-07-11T12:24:57.981Z"
   },
   {
    "duration": 10,
    "start_time": "2024-07-11T12:24:58.696Z"
   },
   {
    "duration": 116,
    "start_time": "2024-07-11T12:24:58.707Z"
   },
   {
    "duration": 99,
    "start_time": "2024-07-11T12:24:58.825Z"
   },
   {
    "duration": 2,
    "start_time": "2024-07-11T12:24:58.926Z"
   },
   {
    "duration": 3,
    "start_time": "2024-07-11T12:24:58.930Z"
   },
   {
    "duration": 14136,
    "start_time": "2024-07-11T12:24:58.935Z"
   },
   {
    "duration": 16,
    "start_time": "2024-07-11T12:25:13.081Z"
   },
   {
    "duration": 777,
    "start_time": "2024-07-11T12:25:13.098Z"
   },
   {
    "duration": 13,
    "start_time": "2024-07-11T12:25:13.877Z"
   },
   {
    "duration": 854,
    "start_time": "2024-07-11T12:25:13.891Z"
   },
   {
    "duration": 12,
    "start_time": "2024-07-11T12:25:14.746Z"
   },
   {
    "duration": 51,
    "start_time": "2024-07-11T12:25:14.759Z"
   },
   {
    "duration": 5,
    "start_time": "2024-07-11T12:25:14.812Z"
   },
   {
    "duration": 28,
    "start_time": "2024-07-11T12:25:14.818Z"
   },
   {
    "duration": 46,
    "start_time": "2024-07-11T12:25:14.847Z"
   },
   {
    "duration": 14,
    "start_time": "2024-07-11T12:25:14.895Z"
   },
   {
    "duration": 107,
    "start_time": "2024-07-11T12:25:14.910Z"
   },
   {
    "duration": 4,
    "start_time": "2024-07-11T12:25:15.019Z"
   },
   {
    "duration": 40,
    "start_time": "2024-07-11T12:25:15.024Z"
   },
   {
    "duration": 54,
    "start_time": "2024-07-11T12:25:15.065Z"
   },
   {
    "duration": 14,
    "start_time": "2024-07-11T12:25:15.121Z"
   },
   {
    "duration": 121,
    "start_time": "2024-07-11T12:25:15.136Z"
   },
   {
    "duration": 16,
    "start_time": "2024-07-11T12:25:15.259Z"
   },
   {
    "duration": 83,
    "start_time": "2024-07-11T12:25:15.277Z"
   },
   {
    "duration": 11,
    "start_time": "2024-07-11T12:25:15.361Z"
   },
   {
    "duration": 150,
    "start_time": "2024-07-11T12:25:15.373Z"
   },
   {
    "duration": 1478,
    "start_time": "2024-07-11T12:25:26.451Z"
   },
   {
    "duration": 2,
    "start_time": "2024-07-11T12:25:27.931Z"
   },
   {
    "duration": 67,
    "start_time": "2024-07-11T12:25:27.934Z"
   },
   {
    "duration": 15,
    "start_time": "2024-07-11T12:25:28.003Z"
   },
   {
    "duration": 88,
    "start_time": "2024-07-11T12:25:28.019Z"
   },
   {
    "duration": 42,
    "start_time": "2024-07-11T12:25:28.108Z"
   },
   {
    "duration": 24,
    "start_time": "2024-07-11T12:25:28.152Z"
   },
   {
    "duration": 17,
    "start_time": "2024-07-11T12:25:28.178Z"
   },
   {
    "duration": 38,
    "start_time": "2024-07-11T12:25:28.196Z"
   },
   {
    "duration": 4,
    "start_time": "2024-07-11T12:25:28.236Z"
   },
   {
    "duration": 16,
    "start_time": "2024-07-11T12:25:28.241Z"
   },
   {
    "duration": 23,
    "start_time": "2024-07-11T12:25:28.259Z"
   },
   {
    "duration": 19,
    "start_time": "2024-07-11T12:25:28.284Z"
   },
   {
    "duration": 20,
    "start_time": "2024-07-11T12:25:28.304Z"
   },
   {
    "duration": 69,
    "start_time": "2024-07-11T12:25:28.326Z"
   },
   {
    "duration": 14,
    "start_time": "2024-07-11T12:25:28.397Z"
   },
   {
    "duration": 14,
    "start_time": "2024-07-11T12:25:28.413Z"
   },
   {
    "duration": 5,
    "start_time": "2024-07-11T12:25:28.428Z"
   },
   {
    "duration": 5,
    "start_time": "2024-07-11T12:25:28.434Z"
   },
   {
    "duration": 15,
    "start_time": "2024-07-11T12:25:28.441Z"
   },
   {
    "duration": 28,
    "start_time": "2024-07-11T12:25:28.458Z"
   },
   {
    "duration": 5,
    "start_time": "2024-07-11T12:25:28.487Z"
   },
   {
    "duration": 13,
    "start_time": "2024-07-11T12:25:28.493Z"
   },
   {
    "duration": 16,
    "start_time": "2024-07-11T12:25:28.507Z"
   },
   {
    "duration": 11,
    "start_time": "2024-07-11T12:25:28.524Z"
   },
   {
    "duration": 26,
    "start_time": "2024-07-11T12:25:28.536Z"
   },
   {
    "duration": 25,
    "start_time": "2024-07-11T12:25:28.582Z"
   },
   {
    "duration": 12,
    "start_time": "2024-07-11T12:25:28.611Z"
   },
   {
    "duration": 570,
    "start_time": "2024-07-11T12:25:28.624Z"
   },
   {
    "duration": 6,
    "start_time": "2024-07-11T12:25:29.195Z"
   },
   {
    "duration": 26,
    "start_time": "2024-07-11T12:25:29.202Z"
   },
   {
    "duration": 83,
    "start_time": "2024-07-11T12:25:29.230Z"
   },
   {
    "duration": 9,
    "start_time": "2024-07-11T12:25:29.314Z"
   },
   {
    "duration": 24,
    "start_time": "2024-07-11T12:25:29.324Z"
   },
   {
    "duration": 51,
    "start_time": "2024-07-11T12:25:29.349Z"
   },
   {
    "duration": 78,
    "start_time": "2024-07-11T12:25:29.401Z"
   },
   {
    "duration": 13,
    "start_time": "2024-07-11T12:25:29.480Z"
   },
   {
    "duration": 8,
    "start_time": "2024-07-11T12:25:29.495Z"
   },
   {
    "duration": 107,
    "start_time": "2024-07-11T12:25:29.504Z"
   },
   {
    "duration": 10,
    "start_time": "2024-07-11T12:25:29.612Z"
   },
   {
    "duration": 51,
    "start_time": "2024-07-11T12:25:29.623Z"
   },
   {
    "duration": 16,
    "start_time": "2024-07-11T12:25:29.675Z"
   },
   {
    "duration": 477,
    "start_time": "2024-07-11T12:25:29.692Z"
   },
   {
    "duration": 19,
    "start_time": "2024-07-11T12:25:30.171Z"
   },
   {
    "duration": 64,
    "start_time": "2024-07-11T12:25:30.191Z"
   },
   {
    "duration": 771,
    "start_time": "2024-07-11T12:25:30.257Z"
   },
   {
    "duration": 10,
    "start_time": "2024-07-11T12:25:31.030Z"
   },
   {
    "duration": 111,
    "start_time": "2024-07-11T12:25:31.042Z"
   },
   {
    "duration": 205,
    "start_time": "2024-07-11T12:25:31.154Z"
   },
   {
    "duration": 3,
    "start_time": "2024-07-11T12:25:31.360Z"
   },
   {
    "duration": 92,
    "start_time": "2024-07-11T12:25:31.364Z"
   },
   {
    "duration": 12777,
    "start_time": "2024-07-11T12:25:31.457Z"
   },
   {
    "duration": 47,
    "start_time": "2024-07-11T12:25:44.236Z"
   },
   {
    "duration": 733,
    "start_time": "2024-07-11T12:25:44.284Z"
   },
   {
    "duration": 12,
    "start_time": "2024-07-11T12:25:45.019Z"
   },
   {
    "duration": 708,
    "start_time": "2024-07-11T12:25:45.032Z"
   },
   {
    "duration": 12,
    "start_time": "2024-07-11T12:25:45.741Z"
   },
   {
    "duration": 55,
    "start_time": "2024-07-11T12:25:45.754Z"
   },
   {
    "duration": 6,
    "start_time": "2024-07-11T12:25:45.810Z"
   },
   {
    "duration": 14,
    "start_time": "2024-07-11T12:25:45.817Z"
   },
   {
    "duration": 60,
    "start_time": "2024-07-11T12:25:45.832Z"
   },
   {
    "duration": 14,
    "start_time": "2024-07-11T12:25:45.894Z"
   },
   {
    "duration": 104,
    "start_time": "2024-07-11T12:25:45.910Z"
   },
   {
    "duration": 4,
    "start_time": "2024-07-11T12:25:46.015Z"
   },
   {
    "duration": 61,
    "start_time": "2024-07-11T12:25:46.021Z"
   },
   {
    "duration": 9,
    "start_time": "2024-07-11T12:25:46.083Z"
   },
   {
    "duration": 10,
    "start_time": "2024-07-11T12:25:46.093Z"
   },
   {
    "duration": 286,
    "start_time": "2024-07-11T12:25:46.105Z"
   },
   {
    "duration": 10,
    "start_time": "2024-07-11T12:25:46.392Z"
   },
   {
    "duration": 82,
    "start_time": "2024-07-11T12:25:46.404Z"
   },
   {
    "duration": 10,
    "start_time": "2024-07-11T12:25:46.488Z"
   },
   {
    "duration": 84,
    "start_time": "2024-07-11T12:25:46.499Z"
   },
   {
    "duration": 1533,
    "start_time": "2024-08-20T13:28:37.934Z"
   },
   {
    "duration": 3,
    "start_time": "2024-08-20T13:28:39.469Z"
   },
   {
    "duration": 273,
    "start_time": "2024-08-20T13:28:39.473Z"
   },
   {
    "duration": 17,
    "start_time": "2024-08-20T13:28:39.748Z"
   },
   {
    "duration": 19,
    "start_time": "2024-08-20T13:28:39.766Z"
   },
   {
    "duration": 28,
    "start_time": "2024-08-20T13:28:39.787Z"
   },
   {
    "duration": 46,
    "start_time": "2024-08-20T13:28:39.817Z"
   },
   {
    "duration": 24,
    "start_time": "2024-08-20T13:28:39.865Z"
   },
   {
    "duration": 68,
    "start_time": "2024-08-20T13:28:39.890Z"
   },
   {
    "duration": 29,
    "start_time": "2024-08-20T13:28:39.961Z"
   },
   {
    "duration": 6,
    "start_time": "2024-08-20T13:28:39.992Z"
   },
   {
    "duration": 20,
    "start_time": "2024-08-20T13:28:40.000Z"
   },
   {
    "duration": 17,
    "start_time": "2024-08-20T13:28:40.022Z"
   },
   {
    "duration": 19,
    "start_time": "2024-08-20T13:28:40.041Z"
   },
   {
    "duration": 15,
    "start_time": "2024-08-20T13:28:40.062Z"
   },
   {
    "duration": 6,
    "start_time": "2024-08-20T13:28:40.078Z"
   },
   {
    "duration": 16,
    "start_time": "2024-08-20T13:28:40.085Z"
   },
   {
    "duration": 6,
    "start_time": "2024-08-20T13:28:40.102Z"
   },
   {
    "duration": 4,
    "start_time": "2024-08-20T13:28:40.110Z"
   },
   {
    "duration": 14,
    "start_time": "2024-08-20T13:28:40.147Z"
   },
   {
    "duration": 9,
    "start_time": "2024-08-20T13:28:40.163Z"
   },
   {
    "duration": 12,
    "start_time": "2024-08-20T13:28:40.174Z"
   },
   {
    "duration": 10,
    "start_time": "2024-08-20T13:28:40.188Z"
   },
   {
    "duration": 21,
    "start_time": "2024-08-20T13:28:40.200Z"
   },
   {
    "duration": 28,
    "start_time": "2024-08-20T13:28:40.222Z"
   },
   {
    "duration": 28,
    "start_time": "2024-08-20T13:28:40.252Z"
   },
   {
    "duration": 23,
    "start_time": "2024-08-20T13:28:40.281Z"
   },
   {
    "duration": 12,
    "start_time": "2024-08-20T13:28:40.308Z"
   },
   {
    "duration": 463,
    "start_time": "2024-08-20T13:28:40.347Z"
   },
   {
    "duration": 6,
    "start_time": "2024-08-20T13:28:40.812Z"
   },
   {
    "duration": 40,
    "start_time": "2024-08-20T13:28:40.819Z"
   },
   {
    "duration": 102,
    "start_time": "2024-08-20T13:28:40.861Z"
   },
   {
    "duration": 9,
    "start_time": "2024-08-20T13:28:40.965Z"
   },
   {
    "duration": 27,
    "start_time": "2024-08-20T13:28:40.977Z"
   },
   {
    "duration": 50,
    "start_time": "2024-08-20T13:28:41.006Z"
   },
   {
    "duration": 65,
    "start_time": "2024-08-20T13:28:41.058Z"
   },
   {
    "duration": 38,
    "start_time": "2024-08-20T13:28:41.125Z"
   },
   {
    "duration": 22,
    "start_time": "2024-08-20T13:28:41.165Z"
   },
   {
    "duration": 128,
    "start_time": "2024-08-20T13:28:41.188Z"
   },
   {
    "duration": 12,
    "start_time": "2024-08-20T13:28:41.318Z"
   },
   {
    "duration": 56,
    "start_time": "2024-08-20T13:28:41.347Z"
   },
   {
    "duration": 18,
    "start_time": "2024-08-20T13:28:41.405Z"
   },
   {
    "duration": 535,
    "start_time": "2024-08-20T13:28:41.426Z"
   },
   {
    "duration": 11,
    "start_time": "2024-08-20T13:28:41.963Z"
   },
   {
    "duration": 74,
    "start_time": "2024-08-20T13:28:41.975Z"
   },
   {
    "duration": 765,
    "start_time": "2024-08-20T13:28:42.051Z"
   },
   {
    "duration": 13,
    "start_time": "2024-08-20T13:28:42.817Z"
   },
   {
    "duration": 106,
    "start_time": "2024-08-20T13:28:42.831Z"
   },
   {
    "duration": 202,
    "start_time": "2024-08-20T13:28:42.939Z"
   },
   {
    "duration": 6,
    "start_time": "2024-08-20T13:28:43.142Z"
   },
   {
    "duration": 19,
    "start_time": "2024-08-20T13:28:43.150Z"
   },
   {
    "duration": 13865,
    "start_time": "2024-08-20T13:28:43.171Z"
   },
   {
    "duration": 22,
    "start_time": "2024-08-20T13:28:57.039Z"
   },
   {
    "duration": 879,
    "start_time": "2024-08-20T13:28:57.063Z"
   },
   {
    "duration": 12,
    "start_time": "2024-08-20T13:28:57.946Z"
   },
   {
    "duration": 694,
    "start_time": "2024-08-20T13:28:57.959Z"
   },
   {
    "duration": 12,
    "start_time": "2024-08-20T13:28:58.655Z"
   },
   {
    "duration": 54,
    "start_time": "2024-08-20T13:28:58.668Z"
   },
   {
    "duration": 5,
    "start_time": "2024-08-20T13:28:58.724Z"
   },
   {
    "duration": 24,
    "start_time": "2024-08-20T13:28:58.730Z"
   },
   {
    "duration": 75,
    "start_time": "2024-08-20T13:28:58.756Z"
   },
   {
    "duration": 16,
    "start_time": "2024-08-20T13:28:58.833Z"
   },
   {
    "duration": 102,
    "start_time": "2024-08-20T13:28:58.851Z"
   },
   {
    "duration": 5,
    "start_time": "2024-08-20T13:28:58.955Z"
   },
   {
    "duration": 36,
    "start_time": "2024-08-20T13:28:58.962Z"
   },
   {
    "duration": 17,
    "start_time": "2024-08-20T13:28:59.000Z"
   },
   {
    "duration": 22,
    "start_time": "2024-08-20T13:28:59.018Z"
   },
   {
    "duration": 354,
    "start_time": "2024-08-20T13:28:59.041Z"
   },
   {
    "duration": 11,
    "start_time": "2024-08-20T13:28:59.397Z"
   },
   {
    "duration": 97,
    "start_time": "2024-08-20T13:28:59.410Z"
   },
   {
    "duration": 39,
    "start_time": "2024-08-20T13:28:59.508Z"
   },
   {
    "duration": 96,
    "start_time": "2024-08-20T13:28:59.549Z"
   }
  ],
  "kernelspec": {
   "display_name": "Python 3 (ipykernel)",
   "language": "python",
   "name": "python3"
  },
  "language_info": {
   "codemirror_mode": {
    "name": "ipython",
    "version": 3
   },
   "file_extension": ".py",
   "mimetype": "text/x-python",
   "name": "python",
   "nbconvert_exporter": "python",
   "pygments_lexer": "ipython3",
   "version": "3.11.7"
  },
  "toc": {
   "base_numbering": 1,
   "nav_menu": {},
   "number_sections": true,
   "sideBar": true,
   "skip_h1_title": true,
   "title_cell": "Содержание",
   "title_sidebar": "Contents",
   "toc_cell": true,
   "toc_position": {
    "height": "calc(100% - 180px)",
    "left": "10px",
    "top": "150px",
    "width": "320px"
   },
   "toc_section_display": true,
   "toc_window_display": false
  }
 },
 "nbformat": 4,
 "nbformat_minor": 4
}
